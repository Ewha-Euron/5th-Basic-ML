{
 "cells": [
  {
   "cell_type": "markdown",
   "metadata": {
    "id": "e63a37qUlQat"
   },
   "source": [
    "# **1. 결정 트리**"
   ]
  },
  {
   "cell_type": "markdown",
   "metadata": {
    "id": "xJjZ4l3BmufP"
   },
   "source": [
    "- 3주차 branch에 있는 `car_evaluation.csv`를 다운받은 후 실습을 진행해 주세요."
   ]
  },
  {
   "cell_type": "code",
   "execution_count": 2,
   "metadata": {
    "id": "igtQOZUVo8e-"
   },
   "outputs": [],
   "source": [
    "import numpy as np\n",
    "import pandas as pd\n",
    "import seaborn as sns\n",
    "import matplotlib.pyplot as plt\n",
    "%matplotlib inline"
   ]
  },
  {
   "cell_type": "markdown",
   "metadata": {
    "id": "mE6tUVM5o12g"
   },
   "source": [
    "## **1-a. 'car_evaluation.csv'를 불러와 df에 저장해 주세요.**"
   ]
  },
  {
   "cell_type": "code",
   "execution_count": null,
   "metadata": {
    "id": "QNQZuZBbp4NX"
   },
   "outputs": [],
   "source": [
    "## Colab - 구글 드라이브 마운트\n",
    "# Colab을 사용하시는 분들만 실행시켜 주시면 됩니다.\n",
    "\n",
    "from google.colab import drive\n",
    "drive.mount('/content/drive')"
   ]
  },
  {
   "cell_type": "code",
   "execution_count": 3,
   "metadata": {
    "id": "FrF5g8RCpnDc"
   },
   "outputs": [],
   "source": [
    "df =pd.read_csv('/Users/seojimin/Downloads/car_evaluation.csv')"
   ]
  },
  {
   "cell_type": "markdown",
   "metadata": {
    "id": "Fsh0sjiuqX1Y"
   },
   "source": [
    "## **1-b. df의 상위 5개 행을 확인해 주세요.**"
   ]
  },
  {
   "cell_type": "code",
   "execution_count": 4,
   "metadata": {
    "id": "6Lnz0JXgrg3J"
   },
   "outputs": [
    {
     "data": {
      "text/html": [
       "<div>\n",
       "<style scoped>\n",
       "    .dataframe tbody tr th:only-of-type {\n",
       "        vertical-align: middle;\n",
       "    }\n",
       "\n",
       "    .dataframe tbody tr th {\n",
       "        vertical-align: top;\n",
       "    }\n",
       "\n",
       "    .dataframe thead th {\n",
       "        text-align: right;\n",
       "    }\n",
       "</style>\n",
       "<table border=\"1\" class=\"dataframe\">\n",
       "  <thead>\n",
       "    <tr style=\"text-align: right;\">\n",
       "      <th></th>\n",
       "      <th>vhigh</th>\n",
       "      <th>vhigh.1</th>\n",
       "      <th>2</th>\n",
       "      <th>2.1</th>\n",
       "      <th>small</th>\n",
       "      <th>low</th>\n",
       "      <th>unacc</th>\n",
       "    </tr>\n",
       "  </thead>\n",
       "  <tbody>\n",
       "    <tr>\n",
       "      <th>0</th>\n",
       "      <td>vhigh</td>\n",
       "      <td>vhigh</td>\n",
       "      <td>2</td>\n",
       "      <td>2</td>\n",
       "      <td>small</td>\n",
       "      <td>med</td>\n",
       "      <td>unacc</td>\n",
       "    </tr>\n",
       "    <tr>\n",
       "      <th>1</th>\n",
       "      <td>vhigh</td>\n",
       "      <td>vhigh</td>\n",
       "      <td>2</td>\n",
       "      <td>2</td>\n",
       "      <td>small</td>\n",
       "      <td>high</td>\n",
       "      <td>unacc</td>\n",
       "    </tr>\n",
       "    <tr>\n",
       "      <th>2</th>\n",
       "      <td>vhigh</td>\n",
       "      <td>vhigh</td>\n",
       "      <td>2</td>\n",
       "      <td>2</td>\n",
       "      <td>med</td>\n",
       "      <td>low</td>\n",
       "      <td>unacc</td>\n",
       "    </tr>\n",
       "    <tr>\n",
       "      <th>3</th>\n",
       "      <td>vhigh</td>\n",
       "      <td>vhigh</td>\n",
       "      <td>2</td>\n",
       "      <td>2</td>\n",
       "      <td>med</td>\n",
       "      <td>med</td>\n",
       "      <td>unacc</td>\n",
       "    </tr>\n",
       "    <tr>\n",
       "      <th>4</th>\n",
       "      <td>vhigh</td>\n",
       "      <td>vhigh</td>\n",
       "      <td>2</td>\n",
       "      <td>2</td>\n",
       "      <td>med</td>\n",
       "      <td>high</td>\n",
       "      <td>unacc</td>\n",
       "    </tr>\n",
       "  </tbody>\n",
       "</table>\n",
       "</div>"
      ],
      "text/plain": [
       "   vhigh vhigh.1  2 2.1  small   low  unacc\n",
       "0  vhigh   vhigh  2   2  small   med  unacc\n",
       "1  vhigh   vhigh  2   2  small  high  unacc\n",
       "2  vhigh   vhigh  2   2    med   low  unacc\n",
       "3  vhigh   vhigh  2   2    med   med  unacc\n",
       "4  vhigh   vhigh  2   2    med  high  unacc"
      ]
     },
     "execution_count": 4,
     "metadata": {},
     "output_type": "execute_result"
    }
   ],
   "source": [
    "df.head(5)"
   ]
  },
  {
   "cell_type": "markdown",
   "metadata": {
    "id": "CpweOXSIrLj0"
   },
   "source": [
    "## **1-c. ```info()```를 통해 데이터 정보를 확인해 주세요.**"
   ]
  },
  {
   "cell_type": "code",
   "execution_count": 5,
   "metadata": {
    "id": "8n8bQ5yIrPJm"
   },
   "outputs": [
    {
     "name": "stdout",
     "output_type": "stream",
     "text": [
      "<class 'pandas.core.frame.DataFrame'>\n",
      "RangeIndex: 1727 entries, 0 to 1726\n",
      "Data columns (total 7 columns):\n",
      " #   Column   Non-Null Count  Dtype \n",
      "---  ------   --------------  ----- \n",
      " 0   vhigh    1727 non-null   object\n",
      " 1   vhigh.1  1727 non-null   object\n",
      " 2   2        1727 non-null   object\n",
      " 3   2.1      1727 non-null   object\n",
      " 4   small    1727 non-null   object\n",
      " 5   low      1727 non-null   object\n",
      " 6   unacc    1727 non-null   object\n",
      "dtypes: object(7)\n",
      "memory usage: 94.6+ KB\n"
     ]
    }
   ],
   "source": [
    "df.info()"
   ]
  },
  {
   "cell_type": "markdown",
   "metadata": {
    "id": "7mZiGVIMqqOj"
   },
   "source": [
    "## **1-d. 컬럼명이 적절해 보이지 않네요. 컬럼명을 알맞게 변경해 주세요.**\n"
   ]
  },
  {
   "cell_type": "code",
   "execution_count": 6,
   "metadata": {
    "id": "Q5XYY5l6q4cO"
   },
   "outputs": [],
   "source": [
    "col_names = ['buying', 'maint', 'doors', 'persons', 'lug_boot', 'safety', 'class']\n",
    "df.columns = col_names"
   ]
  },
  {
   "cell_type": "code",
   "execution_count": 7,
   "metadata": {
    "id": "J6gTw8NGsuDF"
   },
   "outputs": [
    {
     "data": {
      "text/html": [
       "<div>\n",
       "<style scoped>\n",
       "    .dataframe tbody tr th:only-of-type {\n",
       "        vertical-align: middle;\n",
       "    }\n",
       "\n",
       "    .dataframe tbody tr th {\n",
       "        vertical-align: top;\n",
       "    }\n",
       "\n",
       "    .dataframe thead th {\n",
       "        text-align: right;\n",
       "    }\n",
       "</style>\n",
       "<table border=\"1\" class=\"dataframe\">\n",
       "  <thead>\n",
       "    <tr style=\"text-align: right;\">\n",
       "      <th></th>\n",
       "      <th>buying</th>\n",
       "      <th>maint</th>\n",
       "      <th>doors</th>\n",
       "      <th>persons</th>\n",
       "      <th>lug_boot</th>\n",
       "      <th>safety</th>\n",
       "      <th>class</th>\n",
       "    </tr>\n",
       "  </thead>\n",
       "  <tbody>\n",
       "    <tr>\n",
       "      <th>0</th>\n",
       "      <td>vhigh</td>\n",
       "      <td>vhigh</td>\n",
       "      <td>2</td>\n",
       "      <td>2</td>\n",
       "      <td>small</td>\n",
       "      <td>med</td>\n",
       "      <td>unacc</td>\n",
       "    </tr>\n",
       "    <tr>\n",
       "      <th>1</th>\n",
       "      <td>vhigh</td>\n",
       "      <td>vhigh</td>\n",
       "      <td>2</td>\n",
       "      <td>2</td>\n",
       "      <td>small</td>\n",
       "      <td>high</td>\n",
       "      <td>unacc</td>\n",
       "    </tr>\n",
       "    <tr>\n",
       "      <th>2</th>\n",
       "      <td>vhigh</td>\n",
       "      <td>vhigh</td>\n",
       "      <td>2</td>\n",
       "      <td>2</td>\n",
       "      <td>med</td>\n",
       "      <td>low</td>\n",
       "      <td>unacc</td>\n",
       "    </tr>\n",
       "    <tr>\n",
       "      <th>3</th>\n",
       "      <td>vhigh</td>\n",
       "      <td>vhigh</td>\n",
       "      <td>2</td>\n",
       "      <td>2</td>\n",
       "      <td>med</td>\n",
       "      <td>med</td>\n",
       "      <td>unacc</td>\n",
       "    </tr>\n",
       "    <tr>\n",
       "      <th>4</th>\n",
       "      <td>vhigh</td>\n",
       "      <td>vhigh</td>\n",
       "      <td>2</td>\n",
       "      <td>2</td>\n",
       "      <td>med</td>\n",
       "      <td>high</td>\n",
       "      <td>unacc</td>\n",
       "    </tr>\n",
       "  </tbody>\n",
       "</table>\n",
       "</div>"
      ],
      "text/plain": [
       "  buying  maint doors persons lug_boot safety  class\n",
       "0  vhigh  vhigh     2       2    small    med  unacc\n",
       "1  vhigh  vhigh     2       2    small   high  unacc\n",
       "2  vhigh  vhigh     2       2      med    low  unacc\n",
       "3  vhigh  vhigh     2       2      med    med  unacc\n",
       "4  vhigh  vhigh     2       2      med   high  unacc"
      ]
     },
     "execution_count": 7,
     "metadata": {},
     "output_type": "execute_result"
    }
   ],
   "source": [
    "# 데이터 재확인\n",
    "\n",
    "df.head()"
   ]
  },
  {
   "cell_type": "markdown",
   "metadata": {
    "id": "ucBeCe8csL3A"
   },
   "source": [
    "## **1-e. 범주형 변수에 대해 Label Encoding을 수행해 주세요.**\n",
    "- Hint: 파머완 p.118, 121~122"
   ]
  },
  {
   "cell_type": "code",
   "execution_count": 10,
   "metadata": {
    "id": "erIiyc8YtMf1"
   },
   "outputs": [],
   "source": [
    "# 범주형 변수 리스트\n",
    "cat = ['buying', 'maint', 'doors', 'persons', 'lug_boot', 'safety', 'class']\n",
    "\n",
    "# LabelEncoder 객체 생성\n",
    "from sklearn.preprocessing import LabelEncoder\n",
    "encoder = LabelEncoder()\n",
    "\n",
    "# 각 범주형 변수에 대해 레이블 인코딩 수행\n",
    "df['buying'] = encoder.fit_transform(df['buying'])\n",
    "df['maint'] = encoder.fit_transform(df['maint'])\n",
    "df['doors'] = encoder.fit_transform(df['doors'])\n",
    "df['persons'] = encoder.fit_transform(df['persons'])\n",
    "df['lug_boot'] = encoder.fit_transform(df['lug_boot'])\n",
    "df['safety'] = encoder.fit_transform(df['safety'])"
   ]
  },
  {
   "cell_type": "code",
   "execution_count": 11,
   "metadata": {
    "id": "N4MP5rFYuqxd"
   },
   "outputs": [
    {
     "data": {
      "text/html": [
       "<div>\n",
       "<style scoped>\n",
       "    .dataframe tbody tr th:only-of-type {\n",
       "        vertical-align: middle;\n",
       "    }\n",
       "\n",
       "    .dataframe tbody tr th {\n",
       "        vertical-align: top;\n",
       "    }\n",
       "\n",
       "    .dataframe thead th {\n",
       "        text-align: right;\n",
       "    }\n",
       "</style>\n",
       "<table border=\"1\" class=\"dataframe\">\n",
       "  <thead>\n",
       "    <tr style=\"text-align: right;\">\n",
       "      <th></th>\n",
       "      <th>buying</th>\n",
       "      <th>maint</th>\n",
       "      <th>doors</th>\n",
       "      <th>persons</th>\n",
       "      <th>lug_boot</th>\n",
       "      <th>safety</th>\n",
       "      <th>class</th>\n",
       "    </tr>\n",
       "  </thead>\n",
       "  <tbody>\n",
       "    <tr>\n",
       "      <th>0</th>\n",
       "      <td>3</td>\n",
       "      <td>3</td>\n",
       "      <td>0</td>\n",
       "      <td>0</td>\n",
       "      <td>2</td>\n",
       "      <td>2</td>\n",
       "      <td>unacc</td>\n",
       "    </tr>\n",
       "    <tr>\n",
       "      <th>1</th>\n",
       "      <td>3</td>\n",
       "      <td>3</td>\n",
       "      <td>0</td>\n",
       "      <td>0</td>\n",
       "      <td>2</td>\n",
       "      <td>0</td>\n",
       "      <td>unacc</td>\n",
       "    </tr>\n",
       "    <tr>\n",
       "      <th>2</th>\n",
       "      <td>3</td>\n",
       "      <td>3</td>\n",
       "      <td>0</td>\n",
       "      <td>0</td>\n",
       "      <td>1</td>\n",
       "      <td>1</td>\n",
       "      <td>unacc</td>\n",
       "    </tr>\n",
       "    <tr>\n",
       "      <th>3</th>\n",
       "      <td>3</td>\n",
       "      <td>3</td>\n",
       "      <td>0</td>\n",
       "      <td>0</td>\n",
       "      <td>1</td>\n",
       "      <td>2</td>\n",
       "      <td>unacc</td>\n",
       "    </tr>\n",
       "    <tr>\n",
       "      <th>4</th>\n",
       "      <td>3</td>\n",
       "      <td>3</td>\n",
       "      <td>0</td>\n",
       "      <td>0</td>\n",
       "      <td>1</td>\n",
       "      <td>0</td>\n",
       "      <td>unacc</td>\n",
       "    </tr>\n",
       "  </tbody>\n",
       "</table>\n",
       "</div>"
      ],
      "text/plain": [
       "   buying  maint  doors  persons  lug_boot  safety  class\n",
       "0       3      3      0        0         2       2  unacc\n",
       "1       3      3      0        0         2       0  unacc\n",
       "2       3      3      0        0         1       1  unacc\n",
       "3       3      3      0        0         1       2  unacc\n",
       "4       3      3      0        0         1       0  unacc"
      ]
     },
     "execution_count": 11,
     "metadata": {},
     "output_type": "execute_result"
    }
   ],
   "source": [
    "df.head()"
   ]
  },
  {
   "cell_type": "markdown",
   "metadata": {
    "id": "mzvjI_zyr0Zj"
   },
   "source": [
    "## **1-f. Feature(X)와 Target(y)를 분리해 주세요.**\n",
    "- target(y) 변수: class"
   ]
  },
  {
   "cell_type": "code",
   "execution_count": 12,
   "metadata": {
    "id": "PXdMxAT9sBz8"
   },
   "outputs": [],
   "source": [
    "X =df[['buying', 'maint', 'doors', 'persons', 'lug_boot', 'safety']]\n",
    "y =df['class']"
   ]
  },
  {
   "cell_type": "markdown",
   "metadata": {
    "id": "Kl4sDJ-8qARh"
   },
   "source": [
    "## **1-g. ```train_test_split()```을 사용하여 훈련 세트와 테스트 세트로 나눠주세요.**\n",
    "(random_state = 42, train: test = 8:2)"
   ]
  },
  {
   "cell_type": "code",
   "execution_count": 13,
   "metadata": {
    "id": "c_RiYm8gqL9F"
   },
   "outputs": [
    {
     "name": "stdout",
     "output_type": "stream",
     "text": [
      "X_train:       buying  maint  doors  persons  lug_boot  safety\n",
      "107        3      0      0        0         2       1\n",
      "900        2      3      1        1         2       2\n",
      "1708       1      1      3        0         0       0\n",
      "705        0      2      2        0         1       2\n",
      "678        0      2      1        0         1       2\n",
      "...      ...    ...    ...      ...       ...     ...\n",
      "1130       2      2      1        2         0       1\n",
      "1294       2      1      3        2         0       0\n",
      "860        0      1      3        2         0       1\n",
      "1459       1      0      2        0         2       0\n",
      "1126       2      2      1        2         2       0\n",
      "\n",
      "[1381 rows x 6 columns]\n",
      "X_test:       buying  maint  doors  persons  lug_boot  safety\n",
      "599        0      0      2        0         0       1\n",
      "932        2      3      2        1         0       1\n",
      "628        0      0      3        0         0       0\n",
      "1497       1      0      3        1         1       2\n",
      "1262       2      1      2        2         1       1\n",
      "...      ...    ...    ...      ...       ...     ...\n",
      "100        3      3      3        2         2       0\n",
      "274        3      2      2        0         1       0\n",
      "1205       2      1      0        2         2       1\n",
      "101        3      3      3        2         1       1\n",
      "1157       2      2      2        2         0       1\n",
      "\n",
      "[346 rows x 6 columns]\n",
      "y_train: 107     unacc\n",
      "900     unacc\n",
      "1708    unacc\n",
      "705     unacc\n",
      "678     unacc\n",
      "        ...  \n",
      "1130    unacc\n",
      "1294    vgood\n",
      "860     unacc\n",
      "1459    unacc\n",
      "1126      acc\n",
      "Name: class, Length: 1381, dtype: object\n",
      "y_test: 599     unacc\n",
      "932     unacc\n",
      "628     unacc\n",
      "1497      acc\n",
      "1262    unacc\n",
      "        ...  \n",
      "100     unacc\n",
      "274     unacc\n",
      "1205    unacc\n",
      "101     unacc\n",
      "1157    unacc\n",
      "Name: class, Length: 346, dtype: object\n"
     ]
    }
   ],
   "source": [
    "from sklearn.model_selection import train_test_split\n",
    "\n",
    "X_train, X_test, y_train, y_test = train_test_split(X, y, test_size=0.2, random_state=42)\n",
    "\n",
    "print(\"X_train:\", X_train)\n",
    "print(\"X_test:\", X_test)\n",
    "print(\"y_train:\", y_train)\n",
    "print(\"y_test:\", y_test)"
   ]
  },
  {
   "cell_type": "markdown",
   "metadata": {
    "id": "T3ddfGm8xtBI"
   },
   "source": [
    "## **1-h. ```DecisionTreeClassifier```를 사용해 훈련 데이터를 fit 한 후, 테스트 데이터로 예측의 정확도를 구하세요.**\n",
    "(DecisionTreeClassifer의 random_state = 42)"
   ]
  },
  {
   "cell_type": "code",
   "execution_count": 14,
   "metadata": {
    "id": "BdC3tn5IyQOL"
   },
   "outputs": [],
   "source": [
    "from sklearn.tree import DecisionTreeClassifier\n",
    "from sklearn.metrics import accuracy_score"
   ]
  },
  {
   "cell_type": "code",
   "execution_count": 15,
   "metadata": {
    "id": "23UFDQxZ3Qy9"
   },
   "outputs": [
    {
     "name": "stdout",
     "output_type": "stream",
     "text": [
      "예측 정확도: 0.9711\n"
     ]
    }
   ],
   "source": [
    "dt_clf = DecisionTreeClassifier(random_state = 42)\n",
    "dt_clf.fit(X_train, y_train)\n",
    "pred = dt_clf.predict(X_test)\n",
    "print('예측 정확도: {0:.4f}'.format(accuracy_score(y_test, pred)))"
   ]
  },
  {
   "cell_type": "markdown",
   "metadata": {
    "id": "RIqI81GpyXP9"
   },
   "source": [
    "## **1-i. GridSearchCV를 사용해 최적의 하이퍼 파라미터 조합을 찾으세요.**\n",
    "- Hint: 파머완 p.113, 207\n",
    "\n",
    "\n",
    "```\n",
    "params = {\n",
    "    'criterion': ['gini', 'entropy'],\n",
    "    'max_depth': [None, 10, 30],\n",
    "    'min_samples_split': [2, 5, 10]\n",
    "}\n",
    "```\n",
    "\n"
   ]
  },
  {
   "cell_type": "code",
   "execution_count": 16,
   "metadata": {
    "id": "dB3jEgry0Vik"
   },
   "outputs": [],
   "source": [
    "from sklearn.model_selection import GridSearchCV"
   ]
  },
  {
   "cell_type": "code",
   "execution_count": 17,
   "metadata": {
    "id": "YlGNKC9M3S7L"
   },
   "outputs": [
    {
     "name": "stdout",
     "output_type": "stream",
     "text": [
      "최적 파라미터: {'criterion': 'entropy', 'max_depth': None, 'min_samples_split': 2}\n",
      "최고 정확도:0.9660\n"
     ]
    }
   ],
   "source": [
    "params = {\n",
    "    'criterion': ['gini', 'entropy'],\n",
    "    'max_depth': [None, 10, 30],\n",
    "    'min_samples_split': [2, 5, 10]\n",
    "}\n",
    "dtree = DecisionTreeClassifier()\n",
    "grid_dtree = GridSearchCV(dtree, param_grid = params, cv= 3, refit = True)\n",
    "grid_dtree.fit(X_train, y_train)\n",
    "\n",
    "print('최적 파라미터:', grid_dtree.best_params_)\n",
    "print('최고 정확도:{0:.4f}'.format(grid_dtree.best_score_))"
   ]
  },
  {
   "cell_type": "markdown",
   "metadata": {
    "id": "25LhhdFc1YuW"
   },
   "source": [
    "## **1-j. 최적화 된 모델로 테스트 데이터 세트에 대해 예측을 수행해 주세요.**"
   ]
  },
  {
   "cell_type": "code",
   "execution_count": 19,
   "metadata": {
    "id": "IenNRCTC1eIn"
   },
   "outputs": [
    {
     "name": "stdout",
     "output_type": "stream",
     "text": [
      "예측 정확도: 0.9740\n"
     ]
    }
   ],
   "source": [
    "best_dtree = DecisionTreeClassifier(criterion='entropy', max_depth=30, min_samples_split=2)\n",
    "best_dtree.fit(X_train, y_train)\n",
    "pred = best_dtree.predict(X_test)\n",
    "print('예측 정확도: {0:.4f}'.format(accuracy_score(y_test, pred)))"
   ]
  },
  {
   "cell_type": "markdown",
   "metadata": {
    "id": "w8VmvB50-loU"
   },
   "source": [
    "# **2. 서포트 벡터 머신**"
   ]
  },
  {
   "cell_type": "markdown",
   "metadata": {
    "id": "0NcLzXPXAo5Z"
   },
   "source": [
    "## **2-a. split된 자동차 평가 데이터를 가지고 선형 SVM 모델을 만들어 fit 하세요. 정확도도 함께 출력하세요.**\n",
    "(C = 10)"
   ]
  },
  {
   "cell_type": "code",
   "execution_count": 20,
   "metadata": {
    "id": "De1985dXBB-1"
   },
   "outputs": [],
   "source": [
    "from sklearn.metrics import accuracy_score\n",
    "from sklearn.svm import SVC"
   ]
  },
  {
   "cell_type": "code",
   "execution_count": 21,
   "metadata": {
    "id": "RuE9LFw4BCYC"
   },
   "outputs": [
    {
     "name": "stdout",
     "output_type": "stream",
     "text": [
      "선형 SVM 모델의 정확도: 0.7110\n"
     ]
    }
   ],
   "source": [
    "svm_model = SVC(kernel='linear', C= 10)\n",
    "svm_model.fit(X_train, y_train)\n",
    "pred = svm_model.predict(X_test)\n",
    "accuracy = accuracy_score(y_test,pred)\n",
    "print(\"선형 SVM 모델의 정확도: {0:.4f}\" .format(accuracy))\n"
   ]
  },
  {
   "cell_type": "markdown",
   "metadata": {
    "id": "h3F2wM9aBfEm"
   },
   "source": [
    "## **2-b. 선형 SVM 모델에서 GridSearchCV를 이용하여 최적의 C값과 최고 score를 출력하세요.**\n",
    "(cv = 5)"
   ]
  },
  {
   "cell_type": "code",
   "execution_count": 22,
   "metadata": {
    "id": "s2NIcb-QBpU8"
   },
   "outputs": [],
   "source": [
    "from sklearn.model_selection import GridSearchCV\n",
    "param = {'C':[0.1,0.5,1,5,10,40]}"
   ]
  },
  {
   "cell_type": "code",
   "execution_count": 24,
   "metadata": {
    "id": "bIMSlEvkBvFf"
   },
   "outputs": [
    {
     "name": "stdout",
     "output_type": "stream",
     "text": [
      "최적의 C 값: 5\n",
      "최고 점수: 0.7299\n"
     ]
    }
   ],
   "source": [
    "grid_search = GridSearchCV(svm_model, param, cv=5)\n",
    "grid_search.fit(X_train, y_train)\n",
    "best_estimator_ = grid_search.best_params_['C']\n",
    "best_score = grid_search.best_score_\n",
    "print(\"최적의 C 값:\", best_estimator_)\n",
    "print(\"최고 점수: {0:.4f}\" .format(best_score))"
   ]
  },
  {
   "cell_type": "markdown",
   "metadata": {
    "id": "p15h5OBcB_Gj"
   },
   "source": [
    "## **2-c. 위에서 구한 최적 파라미터로 다시 예측을 진행하세요. 정확도도 함께 출력하세요.**\n",
    "Hint: `best_estimator_`"
   ]
  },
  {
   "cell_type": "code",
   "execution_count": 25,
   "metadata": {
    "id": "7PoMcjzlCUIM"
   },
   "outputs": [
    {
     "name": "stdout",
     "output_type": "stream",
     "text": [
      "선형 SVM 모델의 정확도: 0.7081\n"
     ]
    }
   ],
   "source": [
    "svm_model = SVC(kernel='linear', C=best_estimator_)\n",
    "svm_model.fit(X_train, y_train)\n",
    "pred = svm_model.predict(X_test)\n",
    "accuracy = accuracy_score(y_test,pred)\n",
    "print(\"선형 SVM 모델의 정확도: {0:.4f}\" .format(accuracy))"
   ]
  },
  {
   "cell_type": "markdown",
   "metadata": {
    "id": "kqa6Zj_lChGK"
   },
   "source": [
    "## **2-d. GridSearchCV를 이용하여 최적의 `gamma`, `C` 값을 찾아 최적 가우시안 SVM 모델을 만들고, fit 하세요.**\n",
    "(가우시안 svm: kernel = 'rbf')"
   ]
  },
  {
   "cell_type": "code",
   "execution_count": 26,
   "metadata": {
    "id": "9he6Rl3iDBEx"
   },
   "outputs": [],
   "source": [
    "params = {'C':[0.1,0.5,1,5,10,40,100],\n",
    "        'gamma':[0.1,0.25,0.5,0.75,1,10]}"
   ]
  },
  {
   "cell_type": "code",
   "execution_count": 27,
   "metadata": {
    "id": "bIMUsmhgDHIv"
   },
   "outputs": [
    {
     "name": "stdout",
     "output_type": "stream",
     "text": [
      "최적의 C 값: 100\n",
      "최적의 gamma 값: 0.1\n",
      "최고 점수: 0.7299\n"
     ]
    }
   ],
   "source": [
    "param_grid = {'C': [0.1, 1, 10, 100], 'gamma': [0.01, 0.1, 1, 10]}\n",
    "svm_model = SVC(kernel='rbf')\n",
    "grid_search = GridSearchCV(svm_model, param_grid, cv=5)\n",
    "grid_search.fit(X_train, y_train)\n",
    "\n",
    "best_gamma = grid_search.best_params_['gamma']\n",
    "best_estimator_ = grid_search.best_params_['C']\n",
    "\n",
    "best_svm_model = SVC(kernel='rbf', C=best_estimator_, gamma=best_gamma)\n",
    "best_svm_model.fit(X_train, y_train)\n",
    "\n",
    "print(\"최적의 C 값:\", best_estimator_)\n",
    "print(\"최적의 gamma 값:\", best_gamma)\n",
    "print(\"최고 점수: {0:.4f}\" .format(best_score))"
   ]
  },
  {
   "cell_type": "markdown",
   "metadata": {
    "id": "sJxROpmQ-zby"
   },
   "source": [
    "# **3. 앙상블**"
   ]
  },
  {
   "cell_type": "markdown",
   "metadata": {
    "id": "BbgUrG5D3cNj"
   },
   "source": [
    "## **3-a. breast_cancer 데이터셋을 ```load()``` 함수를 사용해서 불러온 후, 훈련 세트와 테스트 세트로 나눠주세요.**\n",
    "(test_size = 0.2, random_state = 42)\n",
    "\n",
    "\n"
   ]
  },
  {
   "cell_type": "code",
   "execution_count": 28,
   "metadata": {
    "id": "LUvSGJA-F-5Y"
   },
   "outputs": [],
   "source": [
    "import pandas as pd\n",
    "from sklearn.datasets import load_breast_cancer\n",
    "from sklearn.model_selection import train_test_split"
   ]
  },
  {
   "cell_type": "code",
   "execution_count": 30,
   "metadata": {
    "id": "ySMMQ9Zb_TqY"
   },
   "outputs": [
    {
     "name": "stdout",
     "output_type": "stream",
     "text": [
      "X_train: [[9.029e+00 1.733e+01 5.879e+01 ... 1.750e-01 4.228e-01 1.175e-01]\n",
      " [2.109e+01 2.657e+01 1.427e+02 ... 2.903e-01 4.098e-01 1.284e-01]\n",
      " [9.173e+00 1.386e+01 5.920e+01 ... 5.087e-02 3.282e-01 8.490e-02]\n",
      " ...\n",
      " [1.429e+01 1.682e+01 9.030e+01 ... 3.333e-02 2.458e-01 6.120e-02]\n",
      " [1.398e+01 1.962e+01 9.112e+01 ... 1.827e-01 3.179e-01 1.055e-01]\n",
      " [1.218e+01 2.052e+01 7.722e+01 ... 7.431e-02 2.694e-01 6.878e-02]]\n",
      "X_test: [[1.247e+01 1.860e+01 8.109e+01 ... 1.015e-01 3.014e-01 8.750e-02]\n",
      " [1.894e+01 2.131e+01 1.236e+02 ... 1.789e-01 2.551e-01 6.589e-02]\n",
      " [1.546e+01 1.948e+01 1.017e+02 ... 1.514e-01 2.837e-01 8.019e-02]\n",
      " ...\n",
      " [1.152e+01 1.493e+01 7.387e+01 ... 9.608e-02 2.664e-01 7.809e-02]\n",
      " [1.422e+01 2.785e+01 9.255e+01 ... 8.219e-02 1.890e-01 7.796e-02]\n",
      " [2.073e+01 3.112e+01 1.357e+02 ... 1.659e-01 2.868e-01 8.218e-02]]\n",
      "y_train: [1 0 1 1 1 0 1 1 1 0 1 0 0 1 1 0 0 0 1 1 1 0 1 1 1 0 1 0 1 1 0 1 0 0 0 1 0\n",
      " 1 1 1 1 0 0 1 1 1 1 1 1 1 0 1 1 1 1 0 1 1 1 1 1 1 0 1 1 1 1 1 1 0 0 0 1 1\n",
      " 0 1 0 1 1 1 1 0 1 1 0 1 1 1 0 1 0 0 1 1 1 0 1 1 1 1 0 1 1 1 1 1 0 1 0 0 1\n",
      " 1 0 1 1 1 1 1 1 1 0 0 0 1 1 0 1 1 0 1 0 1 0 1 0 1 1 0 1 1 1 0 1 0 1 0 1 0\n",
      " 1 1 0 1 1 1 1 0 1 1 1 0 1 1 0 1 1 0 1 1 1 1 1 1 1 0 1 1 1 0 1 0 1 1 1 0 1\n",
      " 0 0 1 1 0 1 0 0 0 1 1 1 0 1 1 0 1 0 1 1 1 0 1 0 1 1 0 0 1 1 0 1 0 0 1 0 0\n",
      " 1 1 0 0 0 1 1 1 1 0 1 0 0 0 0 1 1 1 1 1 1 1 1 0 0 1 1 0 1 1 1 1 1 0 1 1 0\n",
      " 0 1 0 1 0 1 1 1 1 1 1 0 1 1 0 1 1 1 1 1 1 0 1 1 0 1 0 0 0 1 0 1 1 0 0 0 1\n",
      " 1 1 1 1 1 1 0 1 1 1 0 1 1 0 0 1 0 1 0 0 1 1 0 1 0 0 1 0 0 1 1 0 1 0 1 1 0\n",
      " 1 1 0 0 0 1 1 1 0 0 1 0 0 1 1 1 0 1 0 0 0 0 1 1 0 1 1 0 0 0 0 0 0 1 1 1 1\n",
      " 1 1 1 0 0 0 0 1 1 1 1 0 1 0 1 1 1 1 1 0 0 0 1 1 0 1 1 0 0 0 0 1 1 0 0 1 1\n",
      " 1 0 0 0 1 1 0 1 1 1 1 0 1 1 1 1 1 1 1 1 1 0 1 1 1 1 1 1 0 1 1 0 1 1 0 0 0\n",
      " 1 0 0 1 0 1 1 1 1 0 1]\n",
      "y_test: [1 0 0 1 1 0 0 0 1 1 1 0 1 0 1 0 1 1 1 0 0 1 0 1 1 1 1 1 1 0 1 1 1 1 1 1 0\n",
      " 1 0 1 1 0 1 1 1 1 1 1 1 1 0 0 1 1 1 1 1 0 0 1 1 0 0 1 1 1 0 0 1 1 0 0 1 0\n",
      " 1 1 1 0 1 1 0 1 0 0 0 0 0 0 1 1 1 1 1 1 1 1 0 0 1 0 0 1 0 0 1 1 1 0 1 1 0\n",
      " 1 1 0]\n"
     ]
    }
   ],
   "source": [
    "cancer = load_breast_cancer()\n",
    "\n",
    "X = cancer.data\n",
    "y = cancer.target\n",
    "\n",
    "X_train, X_test, y_train, y_test = train_test_split(X, y, test_size=0.2, random_state=42)\n",
    "\n",
    "print(\"X_train:\", X_train)\n",
    "print(\"X_test:\", X_test)\n",
    "print(\"y_train:\", y_train)\n",
    "print(\"y_test:\", y_test)"
   ]
  },
  {
   "cell_type": "markdown",
   "metadata": {
    "id": "3q_Ye651_FR5"
   },
   "source": [
    "## **3-b. 로지스틱 회귀, KNN, 결정 트리를 개별 모델로 사용하여 개별 모델의 학습/예측/평가를 진행해 보세요.**\n",
    "(평가는 정확도가 출력되도록 해주세요.)\n",
    "- 로지스틱 회귀: solver = \"liblinear\"\n",
    "- KNN: n_neighbors = 16\n",
    "- 결정 트리: random_state = 12"
   ]
  },
  {
   "cell_type": "code",
   "execution_count": 31,
   "metadata": {
    "id": "cQ8n_U6Z_j6e"
   },
   "outputs": [],
   "source": [
    "from sklearn.linear_model import LogisticRegression\n",
    "from sklearn.neighbors import KNeighborsClassifier\n",
    "from sklearn.tree import DecisionTreeClassifier\n",
    "from sklearn.metrics import accuracy_score"
   ]
  },
  {
   "cell_type": "code",
   "execution_count": 32,
   "metadata": {
    "id": "wKGNOJKIEfu5"
   },
   "outputs": [
    {
     "name": "stdout",
     "output_type": "stream",
     "text": [
      "로지스틱 회귀 정확도:0.9561\n",
      "KNN 정확도:0.9649\n",
      "결정 트리 정확도:0.9386\n"
     ]
    }
   ],
   "source": [
    "logistic_regression = LogisticRegression(solver=\"liblinear\")\n",
    "logistic_regression.fit(X_train, y_train)\n",
    "\n",
    "pred_lr = logistic_regression.predict(X_test)\n",
    "accuracy_lr = accuracy_score(y_test, pred_lr)\n",
    "print(\"로지스틱 회귀 정확도:{0:.4f}\".format(accuracy_lr))\n",
    "\n",
    "knn = KNeighborsClassifier(n_neighbors=16)\n",
    "knn.fit(X_train, y_train)\n",
    "\n",
    "pred_knn = knn.predict(X_test)\n",
    "accuracy_knn = accuracy_score(y_test, pred_knn)\n",
    "print(\"KNN 정확도:{0:.4f}\".format(accuracy_knn))\n",
    "\n",
    "decision_tree = DecisionTreeClassifier(random_state=12)\n",
    "decision_tree.fit(X_train, y_train)\n",
    "\n",
    "pred_dt = decision_tree.predict(X_test)\n",
    "accuracy_dt = accuracy_score(y_test, pred_dt)\n",
    "print(\"결정 트리 정확도:{0:.4f}\".format(accuracy_dt))"
   ]
  },
  {
   "cell_type": "markdown",
   "metadata": {
    "id": "UsoYkrx82qFR"
   },
   "source": [
    "## **3-c. 로지스틱 회귀와 결정 트리를 기반으로 하여 '하드 보팅' 방식으로 보팅 분류기를 생성한 후, 학습/예측/평가를 진행해 보세요.**\n",
    "(평가는 정확도가 출력되도록 해주세요.)"
   ]
  },
  {
   "cell_type": "code",
   "execution_count": 34,
   "metadata": {
    "id": "fHwRaIy0F_vB"
   },
   "outputs": [
    {
     "name": "stdout",
     "output_type": "stream",
     "text": [
      "하드 보팅 분류기 정확도: 0.9298\n"
     ]
    }
   ],
   "source": [
    "from sklearn.ensemble import VotingClassifier\n",
    "\n",
    "lr_clf = LogisticRegression(solver = \"liblinear\")\n",
    "dt_clf = DecisionTreeClassifier(random_state = 12)\n",
    "\n",
    "voting_classifier = VotingClassifier(estimators=[('lr', lr_clf), ('dt', dt_clf)], voting='hard')\n",
    "\n",
    "voting_classifier.fit(X_train, y_train)\n",
    "\n",
    "pred_hardvoting = voting_classifier.predict(X_test)\n",
    "\n",
    "accuracy_voting = accuracy_score(y_test, pred_hardvoting)\n",
    "print(\"하드 보팅 분류기 정확도: {0:.4f}\" .format(accuracy_voting))"
   ]
  },
  {
   "cell_type": "markdown",
   "metadata": {
    "id": "9WgpvZjZBO1q"
   },
   "source": [
    "## **3-d. KNN과 결정트리를 기반으로 하여 '소프트 보팅' 방식으로 보팅 분류기를 생성한 후, 학습/예측/평가를 진행해보세요.**\n",
    "(평가는 정확도가 출력되도록 해주세요.)"
   ]
  },
  {
   "cell_type": "code",
   "execution_count": 35,
   "metadata": {
    "id": "mbXfjCHpBOHv"
   },
   "outputs": [
    {
     "name": "stdout",
     "output_type": "stream",
     "text": [
      "소프트 보팅 분류기 정확도: 0.9386\n"
     ]
    }
   ],
   "source": [
    "from sklearn.ensemble import VotingClassifier\n",
    "\n",
    "knn_clf = KNeighborsClassifier(n_neighbors=16)\n",
    "dt_clf = DecisionTreeClassifier(random_state=12)\n",
    "\n",
    "voting_classifier = VotingClassifier(estimators=[('knn', knn_clf), ('dt', dt_clf)], voting='soft')\n",
    "\n",
    "voting_classifier.fit(X_train, y_train)\n",
    "\n",
    "pred_softvoting = voting_classifier.predict(X_test)\n",
    "\n",
    "accuracy_voting = accuracy_score(y_test, pred_softvoting)\n",
    "print(\"소프트 보팅 분류기 정확도: {0:.4f}\".format(accuracy_voting))"
   ]
  },
  {
   "cell_type": "markdown",
   "metadata": {
    "id": "Fx4TRrU8CV9o"
   },
   "source": [
    "# **4. 랜덤 포레스트**"
   ]
  },
  {
   "cell_type": "markdown",
   "metadata": {
    "id": "VmuVwCXcG4R_"
   },
   "source": [
    "## **4-a. RandomForestClassifier를 이용하여 훈련 데이터를 fit한 후, 테스트 셋으로 예측 정확도를 구하세요.**\n",
    "(random_state = 42, max_depth = 8)"
   ]
  },
  {
   "cell_type": "code",
   "execution_count": 36,
   "metadata": {
    "id": "CgYSWXpOBfQ3"
   },
   "outputs": [],
   "source": [
    "from sklearn.ensemble import RandomForestClassifier\n",
    "from sklearn.metrics import accuracy_score\n",
    "import pandas as pd\n",
    "import warnings\n",
    "warnings.filterwarnings(\"ignore\")"
   ]
  },
  {
   "cell_type": "code",
   "execution_count": 37,
   "metadata": {
    "id": "KV1alqBGBiIy"
   },
   "outputs": [
    {
     "name": "stdout",
     "output_type": "stream",
     "text": [
      "모델 정확도:0.9649\n"
     ]
    }
   ],
   "source": [
    "rf_clf = RandomForestClassifier(random_state=42, max_depth=8)\n",
    "\n",
    "rf_clf.fit(X_train, y_train)\n",
    "\n",
    "pred_rf = rf_clf.predict(X_test)\n",
    "\n",
    "accuracy_rf = accuracy_score(y_test, pred_rf)\n",
    "\n",
    "print(\"모델 정확도:{0:.4f}\" .format(accuracy_rf))"
   ]
  },
  {
   "cell_type": "markdown",
   "metadata": {
    "id": "Ohesz68RHEmN"
   },
   "source": [
    "## **4-b. GridSearchCV를 사용하여 최적의 하이퍼 파라미터 조합을 찾으세요.**\n",
    "(cv = 2, n_jobs = -1)"
   ]
  },
  {
   "cell_type": "code",
   "execution_count": 38,
   "metadata": {
    "id": "uVuqo95gBgfg"
   },
   "outputs": [
    {
     "name": "stdout",
     "output_type": "stream",
     "text": [
      "최적 하이퍼 파라미터: {'max_depth': 8, 'min_samples_leaf': 1, 'min_samples_split': 8, 'n_estimators': 100}\n",
      "최고 예측 정확도: 0.9472\n"
     ]
    }
   ],
   "source": [
    "from sklearn.model_selection import GridSearchCV\n",
    "\n",
    "params = {\n",
    "    'n_estimators':[10, 50, 100],\n",
    "    'max_depth' : [6, 8, 10, 12],\n",
    "    'min_samples_leaf' : [1, 2, 4,8, 12, 18],\n",
    "    'min_samples_split' : [8, 16, 20]\n",
    "}\n",
    "\n",
    "rf_clf = RandomForestClassifier(random_state=42, max_depth=8)\n",
    "grid_cv = GridSearchCV(rf_clf, param_grid = params, cv = 2, n_jobs = -1)\n",
    "\n",
    "grid_cv.fit(X_train, y_train)\n",
    "\n",
    "print('최적 하이퍼 파라미터:', grid_cv.best_params_)\n",
    "print('최고 예측 정확도: {0:.4f}'.format(grid_cv.best_score_))"
   ]
  },
  {
   "cell_type": "code",
   "execution_count": null,
   "metadata": {
    "id": "KYQSC1w4DkwJ"
   },
   "outputs": [],
   "source": []
  },
  {
   "cell_type": "markdown",
   "metadata": {
    "id": "ppCwYt_WLTiv"
   },
   "source": [
    "## **4-c. 위에서 구한 최적의 하이퍼 파라미터로 다시 RandomForestClassifier를 학습 시킨 뒤에, 예측 정확도를 측정해 보세요.**\n"
   ]
  },
  {
   "cell_type": "code",
   "execution_count": 39,
   "metadata": {
    "id": "-mChTm0ZDVLw"
   },
   "outputs": [
    {
     "name": "stdout",
     "output_type": "stream",
     "text": [
      "Random Forest 모델 정확도: 0.9649\n"
     ]
    }
   ],
   "source": [
    "rf_clf = RandomForestClassifier(\n",
    "    max_depth=8, min_samples_leaf=1, min_samples_split=8, n_estimators=100, random_state=42\n",
    ")\n",
    "\n",
    "rf_clf.fit(X_train, y_train)\n",
    "\n",
    "pred_rf = rf_clf.predict(X_test)\n",
    "\n",
    "accuracy_rf = accuracy_score(y_test, pred_rf)\n",
    "\n",
    "print(\"Random Forest 모델 정확도: {0:.4f}\".format(accuracy_rf))"
   ]
  },
  {
   "cell_type": "markdown",
   "metadata": {
    "id": "AyT2fjpyLjl9"
   },
   "source": [
    "## **4-d. ```feature_importances_``` 속성을 이용하여 전체 feature의 피처 주요도를 막대 그래프로 시각화 해보세요.**\n",
    "(index = cancer.feature_names)  \n",
    "Hint: 파머완 p.210"
   ]
  },
  {
   "cell_type": "code",
   "execution_count": 40,
   "metadata": {
    "id": "TXjmlEJdDaqI"
   },
   "outputs": [],
   "source": [
    "import matplotlib.pyplot as plt\n",
    "import seaborn as sns\n",
    "%matplotlib inline"
   ]
  },
  {
   "cell_type": "code",
   "execution_count": 41,
   "metadata": {
    "id": "F67fF3e9D60B"
   },
   "outputs": [
    {
     "data": {
      "image/png": "[encoded data removed]",
      "text/plain": [
       "<Figure size 800x600 with 1 Axes>"
      ]
     },
     "metadata": {},
     "output_type": "display_data"
    }
   ],
   "source": [
    "ftr_importances_values = rf_clf.feature_importances_\n",
    "ftr_importances = pd.Series(ftr_importances_values, index = cancer.feature_names)\n",
    "ftr_top20 = ftr_importances.sort_values(ascending = False)[:20]\n",
    "\n",
    "plt.figure(figsize=(8,6))\n",
    "plt.title('Feature importances Top 20')\n",
    "sns.barplot(x=ftr_top20, y= ftr_top20.index)\n",
    "plt.show()"
   ]
  },
  {
   "cell_type": "code",
   "execution_count": null,
   "metadata": {},
   "outputs": [],
   "source": []
  }
 ],
 "metadata": {
  "colab": {
   "provenance": []
  },
  "kernelspec": {
   "display_name": "Python 3 (ipykernel)",
   "language": "python",
   "name": "python3"
  },
  "language_info": {
   "codemirror_mode": {
    "name": "ipython",
    "version": 3
   },
   "file_extension": ".py",
   "mimetype": "text/x-python",
   "name": "python",
   "nbconvert_exporter": "python",
   "pygments_lexer": "ipython3",
   "version": "3.11.4"
  }
 },
 "nbformat": 4,
 "nbformat_minor": 1
}
