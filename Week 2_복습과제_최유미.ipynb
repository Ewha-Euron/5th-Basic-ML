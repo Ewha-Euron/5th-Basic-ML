{
 "cells": [
  {
   "cell_type": "markdown",
   "metadata": {
    "id": "e63a37qUlQat"
   },
   "source": [
    "# **1. 결정 트리**"
   ]
  },
  {
   "cell_type": "markdown",
   "metadata": {
    "id": "xJjZ4l3BmufP"
   },
   "source": [
    "- 3주차 branch에 있는 `car_evaluation.csv`를 다운받은 후 실습을 진행해 주세요."
   ]
  },
  {
   "cell_type": "code",
   "execution_count": 9,
   "metadata": {
    "id": "igtQOZUVo8e-"
   },
   "outputs": [],
   "source": [
    "import numpy as np\n",
    "import pandas as pd\n",
    "import seaborn as sns\n",
    "import matplotlib.pyplot as plt\n",
    "%matplotlib inline"
   ]
  },
  {
   "cell_type": "markdown",
   "metadata": {
    "id": "mE6tUVM5o12g"
   },
   "source": [
    "## **1-a. 'car_evaluation.csv'를 불러와 df에 저장해 주세요.**"
   ]
  },
  {
   "cell_type": "code",
   "execution_count": null,
   "metadata": {
    "id": "QNQZuZBbp4NX"
   },
   "outputs": [],
   "source": [
    "## Colab - 구글 드라이브 마운트\n",
    "# Colab을 사용하시는 분들만 실행시켜 주시면 됩니다.\n",
    "\n",
    "from google.colab import drive\n",
    "drive.mount('/content/drive')"
   ]
  },
  {
   "cell_type": "code",
   "execution_count": 10,
   "metadata": {
    "id": "FrF5g8RCpnDc"
   },
   "outputs": [],
   "source": [
    "df = pd.read_csv(r\"C:\\Users\\jain5\\Desktop\\Euron\\Data_Handling\\car_evaluation.csv\")"
   ]
  },
  {
   "cell_type": "markdown",
   "metadata": {
    "id": "Fsh0sjiuqX1Y"
   },
   "source": [
    "## **1-b. df의 상위 5개 행을 확인해 주세요.**"
   ]
  },
  {
   "cell_type": "code",
   "execution_count": 11,
   "metadata": {
    "id": "6Lnz0JXgrg3J"
   },
   "outputs": [
    {
     "data": {
      "text/html": [
       "<div>\n",
       "<style scoped>\n",
       "    .dataframe tbody tr th:only-of-type {\n",
       "        vertical-align: middle;\n",
       "    }\n",
       "\n",
       "    .dataframe tbody tr th {\n",
       "        vertical-align: top;\n",
       "    }\n",
       "\n",
       "    .dataframe thead th {\n",
       "        text-align: right;\n",
       "    }\n",
       "</style>\n",
       "<table border=\"1\" class=\"dataframe\">\n",
       "  <thead>\n",
       "    <tr style=\"text-align: right;\">\n",
       "      <th></th>\n",
       "      <th>vhigh</th>\n",
       "      <th>vhigh.1</th>\n",
       "      <th>2</th>\n",
       "      <th>2.1</th>\n",
       "      <th>small</th>\n",
       "      <th>low</th>\n",
       "      <th>unacc</th>\n",
       "    </tr>\n",
       "  </thead>\n",
       "  <tbody>\n",
       "    <tr>\n",
       "      <th>0</th>\n",
       "      <td>vhigh</td>\n",
       "      <td>vhigh</td>\n",
       "      <td>2</td>\n",
       "      <td>2</td>\n",
       "      <td>small</td>\n",
       "      <td>med</td>\n",
       "      <td>unacc</td>\n",
       "    </tr>\n",
       "    <tr>\n",
       "      <th>1</th>\n",
       "      <td>vhigh</td>\n",
       "      <td>vhigh</td>\n",
       "      <td>2</td>\n",
       "      <td>2</td>\n",
       "      <td>small</td>\n",
       "      <td>high</td>\n",
       "      <td>unacc</td>\n",
       "    </tr>\n",
       "    <tr>\n",
       "      <th>2</th>\n",
       "      <td>vhigh</td>\n",
       "      <td>vhigh</td>\n",
       "      <td>2</td>\n",
       "      <td>2</td>\n",
       "      <td>med</td>\n",
       "      <td>low</td>\n",
       "      <td>unacc</td>\n",
       "    </tr>\n",
       "    <tr>\n",
       "      <th>3</th>\n",
       "      <td>vhigh</td>\n",
       "      <td>vhigh</td>\n",
       "      <td>2</td>\n",
       "      <td>2</td>\n",
       "      <td>med</td>\n",
       "      <td>med</td>\n",
       "      <td>unacc</td>\n",
       "    </tr>\n",
       "    <tr>\n",
       "      <th>4</th>\n",
       "      <td>vhigh</td>\n",
       "      <td>vhigh</td>\n",
       "      <td>2</td>\n",
       "      <td>2</td>\n",
       "      <td>med</td>\n",
       "      <td>high</td>\n",
       "      <td>unacc</td>\n",
       "    </tr>\n",
       "  </tbody>\n",
       "</table>\n",
       "</div>"
      ],
      "text/plain": [
       "   vhigh vhigh.1  2 2.1  small   low  unacc\n",
       "0  vhigh   vhigh  2   2  small   med  unacc\n",
       "1  vhigh   vhigh  2   2  small  high  unacc\n",
       "2  vhigh   vhigh  2   2    med   low  unacc\n",
       "3  vhigh   vhigh  2   2    med   med  unacc\n",
       "4  vhigh   vhigh  2   2    med  high  unacc"
      ]
     },
     "execution_count": 11,
     "metadata": {},
     "output_type": "execute_result"
    }
   ],
   "source": [
    "df.head(5)"
   ]
  },
  {
   "cell_type": "markdown",
   "metadata": {
    "id": "CpweOXSIrLj0"
   },
   "source": [
    "## **1-c. ```info()```를 통해 데이터 정보를 확인해 주세요.**"
   ]
  },
  {
   "cell_type": "code",
   "execution_count": 12,
   "metadata": {
    "id": "8n8bQ5yIrPJm"
   },
   "outputs": [
    {
     "name": "stdout",
     "output_type": "stream",
     "text": [
      "<class 'pandas.core.frame.DataFrame'>\n",
      "RangeIndex: 1727 entries, 0 to 1726\n",
      "Data columns (total 7 columns):\n",
      " #   Column   Non-Null Count  Dtype \n",
      "---  ------   --------------  ----- \n",
      " 0   vhigh    1727 non-null   object\n",
      " 1   vhigh.1  1727 non-null   object\n",
      " 2   2        1727 non-null   object\n",
      " 3   2.1      1727 non-null   object\n",
      " 4   small    1727 non-null   object\n",
      " 5   low      1727 non-null   object\n",
      " 6   unacc    1727 non-null   object\n",
      "dtypes: object(7)\n",
      "memory usage: 94.6+ KB\n"
     ]
    }
   ],
   "source": [
    "df.info()"
   ]
  },
  {
   "cell_type": "markdown",
   "metadata": {},
   "source": [
    "전체 로우 수 : 1727(null 값은 x)\n",
    "\n",
    "칼럼 수 : 7\n",
    "\n",
    "모두 object 타입 == string"
   ]
  },
  {
   "cell_type": "markdown",
   "metadata": {
    "id": "7mZiGVIMqqOj"
   },
   "source": [
    "## **1-d. 컬럼명이 적절해 보이지 않네요. 컬럼명을 알맞게 변경해 주세요.**\n"
   ]
  },
  {
   "cell_type": "code",
   "execution_count": 13,
   "metadata": {
    "id": "Q5XYY5l6q4cO"
   },
   "outputs": [],
   "source": [
    "col_names = ['buying', 'maint', 'doors', 'persons', 'lug_boot', 'safety', 'class']\n",
    "df.columns = col_names"
   ]
  },
  {
   "cell_type": "code",
   "execution_count": 14,
   "metadata": {
    "id": "J6gTw8NGsuDF"
   },
   "outputs": [
    {
     "data": {
      "text/html": [
       "<div>\n",
       "<style scoped>\n",
       "    .dataframe tbody tr th:only-of-type {\n",
       "        vertical-align: middle;\n",
       "    }\n",
       "\n",
       "    .dataframe tbody tr th {\n",
       "        vertical-align: top;\n",
       "    }\n",
       "\n",
       "    .dataframe thead th {\n",
       "        text-align: right;\n",
       "    }\n",
       "</style>\n",
       "<table border=\"1\" class=\"dataframe\">\n",
       "  <thead>\n",
       "    <tr style=\"text-align: right;\">\n",
       "      <th></th>\n",
       "      <th>buying</th>\n",
       "      <th>maint</th>\n",
       "      <th>doors</th>\n",
       "      <th>persons</th>\n",
       "      <th>lug_boot</th>\n",
       "      <th>safety</th>\n",
       "      <th>class</th>\n",
       "    </tr>\n",
       "  </thead>\n",
       "  <tbody>\n",
       "    <tr>\n",
       "      <th>0</th>\n",
       "      <td>vhigh</td>\n",
       "      <td>vhigh</td>\n",
       "      <td>2</td>\n",
       "      <td>2</td>\n",
       "      <td>small</td>\n",
       "      <td>med</td>\n",
       "      <td>unacc</td>\n",
       "    </tr>\n",
       "    <tr>\n",
       "      <th>1</th>\n",
       "      <td>vhigh</td>\n",
       "      <td>vhigh</td>\n",
       "      <td>2</td>\n",
       "      <td>2</td>\n",
       "      <td>small</td>\n",
       "      <td>high</td>\n",
       "      <td>unacc</td>\n",
       "    </tr>\n",
       "    <tr>\n",
       "      <th>2</th>\n",
       "      <td>vhigh</td>\n",
       "      <td>vhigh</td>\n",
       "      <td>2</td>\n",
       "      <td>2</td>\n",
       "      <td>med</td>\n",
       "      <td>low</td>\n",
       "      <td>unacc</td>\n",
       "    </tr>\n",
       "    <tr>\n",
       "      <th>3</th>\n",
       "      <td>vhigh</td>\n",
       "      <td>vhigh</td>\n",
       "      <td>2</td>\n",
       "      <td>2</td>\n",
       "      <td>med</td>\n",
       "      <td>med</td>\n",
       "      <td>unacc</td>\n",
       "    </tr>\n",
       "    <tr>\n",
       "      <th>4</th>\n",
       "      <td>vhigh</td>\n",
       "      <td>vhigh</td>\n",
       "      <td>2</td>\n",
       "      <td>2</td>\n",
       "      <td>med</td>\n",
       "      <td>high</td>\n",
       "      <td>unacc</td>\n",
       "    </tr>\n",
       "  </tbody>\n",
       "</table>\n",
       "</div>"
      ],
      "text/plain": [
       "  buying  maint doors persons lug_boot safety  class\n",
       "0  vhigh  vhigh     2       2    small    med  unacc\n",
       "1  vhigh  vhigh     2       2    small   high  unacc\n",
       "2  vhigh  vhigh     2       2      med    low  unacc\n",
       "3  vhigh  vhigh     2       2      med    med  unacc\n",
       "4  vhigh  vhigh     2       2      med   high  unacc"
      ]
     },
     "execution_count": 14,
     "metadata": {},
     "output_type": "execute_result"
    }
   ],
   "source": [
    "# 데이터 재확인\n",
    "\n",
    "df.head()"
   ]
  },
  {
   "cell_type": "markdown",
   "metadata": {
    "id": "ucBeCe8csL3A"
   },
   "source": [
    "## **1-e. 범주형 변수에 대해 Label Encoding을 수행해 주세요.**\n",
    "- Hint: 파머완 p.118, 121~122"
   ]
  },
  {
   "cell_type": "markdown",
   "metadata": {},
   "source": [
    "레이블 인코딩 -> 상품 분류에 대한 레이블을 문자열에서 숫자형으로 인코딩!\n",
    "\n",
    "숫자 값에 따른 중요도가 없는 트리 계열 ML 알고리즘에 적용한다."
   ]
  },
  {
   "cell_type": "code",
   "execution_count": 145,
   "metadata": {
    "id": "erIiyc8YtMf1"
   },
   "outputs": [
    {
     "data": {
      "text/html": [
       "<div>\n",
       "<style scoped>\n",
       "    .dataframe tbody tr th:only-of-type {\n",
       "        vertical-align: middle;\n",
       "    }\n",
       "\n",
       "    .dataframe tbody tr th {\n",
       "        vertical-align: top;\n",
       "    }\n",
       "\n",
       "    .dataframe thead th {\n",
       "        text-align: right;\n",
       "    }\n",
       "</style>\n",
       "<table border=\"1\" class=\"dataframe\">\n",
       "  <thead>\n",
       "    <tr style=\"text-align: right;\">\n",
       "      <th></th>\n",
       "      <th>buying</th>\n",
       "      <th>maint</th>\n",
       "      <th>doors</th>\n",
       "      <th>persons</th>\n",
       "      <th>lug_boot</th>\n",
       "      <th>safety</th>\n",
       "      <th>class</th>\n",
       "    </tr>\n",
       "  </thead>\n",
       "  <tbody>\n",
       "    <tr>\n",
       "      <th>0</th>\n",
       "      <td>3</td>\n",
       "      <td>3</td>\n",
       "      <td>0</td>\n",
       "      <td>0</td>\n",
       "      <td>2</td>\n",
       "      <td>2</td>\n",
       "      <td>2</td>\n",
       "    </tr>\n",
       "    <tr>\n",
       "      <th>1</th>\n",
       "      <td>3</td>\n",
       "      <td>3</td>\n",
       "      <td>0</td>\n",
       "      <td>0</td>\n",
       "      <td>2</td>\n",
       "      <td>0</td>\n",
       "      <td>2</td>\n",
       "    </tr>\n",
       "    <tr>\n",
       "      <th>2</th>\n",
       "      <td>3</td>\n",
       "      <td>3</td>\n",
       "      <td>0</td>\n",
       "      <td>0</td>\n",
       "      <td>1</td>\n",
       "      <td>1</td>\n",
       "      <td>2</td>\n",
       "    </tr>\n",
       "    <tr>\n",
       "      <th>3</th>\n",
       "      <td>3</td>\n",
       "      <td>3</td>\n",
       "      <td>0</td>\n",
       "      <td>0</td>\n",
       "      <td>1</td>\n",
       "      <td>2</td>\n",
       "      <td>2</td>\n",
       "    </tr>\n",
       "    <tr>\n",
       "      <th>4</th>\n",
       "      <td>3</td>\n",
       "      <td>3</td>\n",
       "      <td>0</td>\n",
       "      <td>0</td>\n",
       "      <td>1</td>\n",
       "      <td>0</td>\n",
       "      <td>2</td>\n",
       "    </tr>\n",
       "  </tbody>\n",
       "</table>\n",
       "</div>"
      ],
      "text/plain": [
       "   buying  maint  doors  persons  lug_boot  safety  class\n",
       "0       3      3      0        0         2       2      2\n",
       "1       3      3      0        0         2       0      2\n",
       "2       3      3      0        0         1       1      2\n",
       "3       3      3      0        0         1       2      2\n",
       "4       3      3      0        0         1       0      2"
      ]
     },
     "execution_count": 145,
     "metadata": {},
     "output_type": "execute_result"
    }
   ],
   "source": [
    "# 범주형 변수 리스트\n",
    "cat = ['buying', 'maint', 'doors', 'persons', 'lug_boot', 'safety', 'class']\n",
    "\n",
    "# LabelEncoder 객체 생성\n",
    "from sklearn.preprocessing import LabelEncoder\n",
    "\n",
    "# 번주형 변수에 대해 레이블 인코딩을 수행하는 함수\n",
    "def encode_features(dataDF):\n",
    "    cat = ['buying', 'maint', 'doors', 'persons', 'lug_boot', 'safety', 'class']\n",
    "    for i in cat:\n",
    "        encoder = LabelEncoder()\n",
    "        encoder = encoder.fit(dataDF[i])\n",
    "        dataDF[i] = encoder.transform(dataDF[i])\n",
    "    \n",
    "    return dataDF\n",
    "        \n",
    "\n",
    "# 각 범주형 변수에 대해 레이블 인코딩 수행\n",
    "df = encode_features(df)\n",
    "df.head()"
   ]
  },
  {
   "cell_type": "code",
   "execution_count": 157,
   "metadata": {
    "id": "N4MP5rFYuqxd"
   },
   "outputs": [
    {
     "name": "stdout",
     "output_type": "stream",
     "text": [
      "인코딩 변환 값: [0 4 2 5 3 6 1]\n",
      "인코딩 클래스: ['buying' 'class' 'doors' 'lug_boot' 'maint' 'persons' 'safety']\n"
     ]
    }
   ],
   "source": [
    "# 인코딩 확인\n",
    "print('인코딩 변환 값:', encoder.transform(cat))\n",
    "print('인코딩 클래스:', encoder.classes_)\n",
    "# get_dummies(df)도 가능"
   ]
  },
  {
   "cell_type": "markdown",
   "metadata": {
    "id": "mzvjI_zyr0Zj"
   },
   "source": [
    "## **1-f. Feature(X)와 Target(y)를 분리해 주세요.**\n",
    "- target(y) 변수: class"
   ]
  },
  {
   "cell_type": "markdown",
   "metadata": {},
   "source": [
    "## X는 vaules?로 따로 추출해야 하나?"
   ]
  },
  {
   "cell_type": "code",
   "execution_count": 151,
   "metadata": {
    "id": "PXdMxAT9sBz8"
   },
   "outputs": [
    {
     "name": "stdout",
     "output_type": "stream",
     "text": [
      "feature 데이터 세트:        buying  maint  doors  persons  lug_boot  safety  class\n",
      "0          3      3      0        0         2       2      2\n",
      "1          3      3      0        0         2       0      2\n",
      "2          3      3      0        0         1       1      2\n",
      "3          3      3      0        0         1       2      2\n",
      "4          3      3      0        0         1       0      2\n",
      "...      ...    ...    ...      ...       ...     ...    ...\n",
      "1722       1      1      3        2         1       2      1\n",
      "1723       1      1      3        2         1       0      3\n",
      "1724       1      1      3        2         0       1      2\n",
      "1725       1      1      3        2         0       2      1\n",
      "1726       1      1      3        2         0       0      3\n",
      "\n",
      "[1727 rows x 7 columns]\n",
      "Target 데이터 세트(label):  [2 2 2 ... 2 1 3]\n"
     ]
    }
   ],
   "source": [
    "X = df\n",
    "y = df['class'].values\n",
    "print('feature 데이터 세트: ', X)\n",
    "print('Target 데이터 세트(label): ', y)"
   ]
  },
  {
   "cell_type": "markdown",
   "metadata": {
    "id": "Kl4sDJ-8qARh"
   },
   "source": [
    "## **1-g. ```train_test_split()```을 사용하여 훈련 세트와 테스트 세트로 나눠주세요.**\n",
    "(random_state = 42, train: test = 8:2)"
   ]
  },
  {
   "cell_type": "code",
   "execution_count": 152,
   "metadata": {
    "id": "c_RiYm8gqL9F"
   },
   "outputs": [],
   "source": [
    "from sklearn.model_selection import train_test_split\n",
    "X_train, X_test, y_train, y_test = train_test_split(X, y, test_size=0.2, random_state=42)"
   ]
  },
  {
   "cell_type": "markdown",
   "metadata": {
    "id": "T3ddfGm8xtBI"
   },
   "source": [
    "## **1-h. ```DecisionTreeClassifier```를 사용해 훈련 데이터를 fit 한 후, 테스트 데이터로 예측의 정확도를 구하세요.**\n",
    "(DecisionTreeClassifer의 random_state = 42)"
   ]
  },
  {
   "cell_type": "code",
   "execution_count": 153,
   "metadata": {
    "id": "BdC3tn5IyQOL"
   },
   "outputs": [],
   "source": [
    "from sklearn.tree import DecisionTreeClassifier\n",
    "from sklearn.metrics import accuracy_score"
   ]
  },
  {
   "cell_type": "code",
   "execution_count": 154,
   "metadata": {
    "id": "23UFDQxZ3Qy9"
   },
   "outputs": [
    {
     "name": "stdout",
     "output_type": "stream",
     "text": [
      "결정 트리 예측 정확도: 1.0000\n"
     ]
    }
   ],
   "source": [
    "dt_clf = DecisionTreeClassifier(random_state=42)\n",
    "dt_clf.fit(X_train, y_train)\n",
    "pred=dt_clf.predict(X_test)\n",
    "accuracy=accuracy_score(y_test, pred)\n",
    "print('결정 트리 예측 정확도: {0:.4f}'.format(accuracy))"
   ]
  },
  {
   "cell_type": "markdown",
   "metadata": {},
   "source": [
    "오잉...왜 100이 나오지...?"
   ]
  },
  {
   "cell_type": "markdown",
   "metadata": {
    "id": "RIqI81GpyXP9"
   },
   "source": [
    "## **1-i. GridSearchCV를 사용해 최적의 하이퍼 파라미터 조합을 찾으세요.**\n",
    "- Hint: 파머완 p.113, 207\n",
    "\n",
    "\n",
    "```\n",
    "params = {\n",
    "    'criterion': ['gini', 'entropy'],\n",
    "    'max_depth': [None, 10, 30],\n",
    "    'min_samples_split': [2, 5, 10]\n",
    "}\n",
    "```\n",
    "\n"
   ]
  },
  {
   "cell_type": "code",
   "execution_count": 121,
   "metadata": {
    "id": "dB3jEgry0Vik"
   },
   "outputs": [],
   "source": [
    "from sklearn.model_selection import GridSearchCV"
   ]
  },
  {
   "cell_type": "code",
   "execution_count": 122,
   "metadata": {
    "id": "YlGNKC9M3S7L"
   },
   "outputs": [
    {
     "name": "stdout",
     "output_type": "stream",
     "text": [
      "Fitting 5 folds for each of 18 candidates, totalling 90 fits\n"
     ]
    },
    {
     "data": {
      "text/html": [
       "<div>\n",
       "<style scoped>\n",
       "    .dataframe tbody tr th:only-of-type {\n",
       "        vertical-align: middle;\n",
       "    }\n",
       "\n",
       "    .dataframe tbody tr th {\n",
       "        vertical-align: top;\n",
       "    }\n",
       "\n",
       "    .dataframe thead th {\n",
       "        text-align: right;\n",
       "    }\n",
       "</style>\n",
       "<table border=\"1\" class=\"dataframe\">\n",
       "  <thead>\n",
       "    <tr style=\"text-align: right;\">\n",
       "      <th></th>\n",
       "      <th>params</th>\n",
       "      <th>mean_test_score</th>\n",
       "      <th>rank_test_score</th>\n",
       "      <th>split0_test_score</th>\n",
       "      <th>split1_test_score</th>\n",
       "      <th>split2_test_score</th>\n",
       "    </tr>\n",
       "  </thead>\n",
       "  <tbody>\n",
       "    <tr>\n",
       "      <th>0</th>\n",
       "      <td>{'criterion': 'gini', 'max_depth': None, 'min_...</td>\n",
       "      <td>1.0</td>\n",
       "      <td>1</td>\n",
       "      <td>1.0</td>\n",
       "      <td>1.0</td>\n",
       "      <td>1.0</td>\n",
       "    </tr>\n",
       "    <tr>\n",
       "      <th>1</th>\n",
       "      <td>{'criterion': 'gini', 'max_depth': None, 'min_...</td>\n",
       "      <td>1.0</td>\n",
       "      <td>1</td>\n",
       "      <td>1.0</td>\n",
       "      <td>1.0</td>\n",
       "      <td>1.0</td>\n",
       "    </tr>\n",
       "    <tr>\n",
       "      <th>2</th>\n",
       "      <td>{'criterion': 'gini', 'max_depth': None, 'min_...</td>\n",
       "      <td>1.0</td>\n",
       "      <td>1</td>\n",
       "      <td>1.0</td>\n",
       "      <td>1.0</td>\n",
       "      <td>1.0</td>\n",
       "    </tr>\n",
       "    <tr>\n",
       "      <th>3</th>\n",
       "      <td>{'criterion': 'gini', 'max_depth': 10, 'min_sa...</td>\n",
       "      <td>1.0</td>\n",
       "      <td>1</td>\n",
       "      <td>1.0</td>\n",
       "      <td>1.0</td>\n",
       "      <td>1.0</td>\n",
       "    </tr>\n",
       "    <tr>\n",
       "      <th>4</th>\n",
       "      <td>{'criterion': 'gini', 'max_depth': 10, 'min_sa...</td>\n",
       "      <td>1.0</td>\n",
       "      <td>1</td>\n",
       "      <td>1.0</td>\n",
       "      <td>1.0</td>\n",
       "      <td>1.0</td>\n",
       "    </tr>\n",
       "    <tr>\n",
       "      <th>5</th>\n",
       "      <td>{'criterion': 'gini', 'max_depth': 10, 'min_sa...</td>\n",
       "      <td>1.0</td>\n",
       "      <td>1</td>\n",
       "      <td>1.0</td>\n",
       "      <td>1.0</td>\n",
       "      <td>1.0</td>\n",
       "    </tr>\n",
       "    <tr>\n",
       "      <th>6</th>\n",
       "      <td>{'criterion': 'gini', 'max_depth': 30, 'min_sa...</td>\n",
       "      <td>1.0</td>\n",
       "      <td>1</td>\n",
       "      <td>1.0</td>\n",
       "      <td>1.0</td>\n",
       "      <td>1.0</td>\n",
       "    </tr>\n",
       "    <tr>\n",
       "      <th>7</th>\n",
       "      <td>{'criterion': 'gini', 'max_depth': 30, 'min_sa...</td>\n",
       "      <td>1.0</td>\n",
       "      <td>1</td>\n",
       "      <td>1.0</td>\n",
       "      <td>1.0</td>\n",
       "      <td>1.0</td>\n",
       "    </tr>\n",
       "    <tr>\n",
       "      <th>8</th>\n",
       "      <td>{'criterion': 'gini', 'max_depth': 30, 'min_sa...</td>\n",
       "      <td>1.0</td>\n",
       "      <td>1</td>\n",
       "      <td>1.0</td>\n",
       "      <td>1.0</td>\n",
       "      <td>1.0</td>\n",
       "    </tr>\n",
       "    <tr>\n",
       "      <th>9</th>\n",
       "      <td>{'criterion': 'entropy', 'max_depth': None, 'm...</td>\n",
       "      <td>1.0</td>\n",
       "      <td>1</td>\n",
       "      <td>1.0</td>\n",
       "      <td>1.0</td>\n",
       "      <td>1.0</td>\n",
       "    </tr>\n",
       "    <tr>\n",
       "      <th>10</th>\n",
       "      <td>{'criterion': 'entropy', 'max_depth': None, 'm...</td>\n",
       "      <td>1.0</td>\n",
       "      <td>1</td>\n",
       "      <td>1.0</td>\n",
       "      <td>1.0</td>\n",
       "      <td>1.0</td>\n",
       "    </tr>\n",
       "    <tr>\n",
       "      <th>11</th>\n",
       "      <td>{'criterion': 'entropy', 'max_depth': None, 'm...</td>\n",
       "      <td>1.0</td>\n",
       "      <td>1</td>\n",
       "      <td>1.0</td>\n",
       "      <td>1.0</td>\n",
       "      <td>1.0</td>\n",
       "    </tr>\n",
       "    <tr>\n",
       "      <th>12</th>\n",
       "      <td>{'criterion': 'entropy', 'max_depth': 10, 'min...</td>\n",
       "      <td>1.0</td>\n",
       "      <td>1</td>\n",
       "      <td>1.0</td>\n",
       "      <td>1.0</td>\n",
       "      <td>1.0</td>\n",
       "    </tr>\n",
       "    <tr>\n",
       "      <th>13</th>\n",
       "      <td>{'criterion': 'entropy', 'max_depth': 10, 'min...</td>\n",
       "      <td>1.0</td>\n",
       "      <td>1</td>\n",
       "      <td>1.0</td>\n",
       "      <td>1.0</td>\n",
       "      <td>1.0</td>\n",
       "    </tr>\n",
       "    <tr>\n",
       "      <th>14</th>\n",
       "      <td>{'criterion': 'entropy', 'max_depth': 10, 'min...</td>\n",
       "      <td>1.0</td>\n",
       "      <td>1</td>\n",
       "      <td>1.0</td>\n",
       "      <td>1.0</td>\n",
       "      <td>1.0</td>\n",
       "    </tr>\n",
       "    <tr>\n",
       "      <th>15</th>\n",
       "      <td>{'criterion': 'entropy', 'max_depth': 30, 'min...</td>\n",
       "      <td>1.0</td>\n",
       "      <td>1</td>\n",
       "      <td>1.0</td>\n",
       "      <td>1.0</td>\n",
       "      <td>1.0</td>\n",
       "    </tr>\n",
       "    <tr>\n",
       "      <th>16</th>\n",
       "      <td>{'criterion': 'entropy', 'max_depth': 30, 'min...</td>\n",
       "      <td>1.0</td>\n",
       "      <td>1</td>\n",
       "      <td>1.0</td>\n",
       "      <td>1.0</td>\n",
       "      <td>1.0</td>\n",
       "    </tr>\n",
       "    <tr>\n",
       "      <th>17</th>\n",
       "      <td>{'criterion': 'entropy', 'max_depth': 30, 'min...</td>\n",
       "      <td>1.0</td>\n",
       "      <td>1</td>\n",
       "      <td>1.0</td>\n",
       "      <td>1.0</td>\n",
       "      <td>1.0</td>\n",
       "    </tr>\n",
       "  </tbody>\n",
       "</table>\n",
       "</div>"
      ],
      "text/plain": [
       "                                               params  mean_test_score  \\\n",
       "0   {'criterion': 'gini', 'max_depth': None, 'min_...              1.0   \n",
       "1   {'criterion': 'gini', 'max_depth': None, 'min_...              1.0   \n",
       "2   {'criterion': 'gini', 'max_depth': None, 'min_...              1.0   \n",
       "3   {'criterion': 'gini', 'max_depth': 10, 'min_sa...              1.0   \n",
       "4   {'criterion': 'gini', 'max_depth': 10, 'min_sa...              1.0   \n",
       "5   {'criterion': 'gini', 'max_depth': 10, 'min_sa...              1.0   \n",
       "6   {'criterion': 'gini', 'max_depth': 30, 'min_sa...              1.0   \n",
       "7   {'criterion': 'gini', 'max_depth': 30, 'min_sa...              1.0   \n",
       "8   {'criterion': 'gini', 'max_depth': 30, 'min_sa...              1.0   \n",
       "9   {'criterion': 'entropy', 'max_depth': None, 'm...              1.0   \n",
       "10  {'criterion': 'entropy', 'max_depth': None, 'm...              1.0   \n",
       "11  {'criterion': 'entropy', 'max_depth': None, 'm...              1.0   \n",
       "12  {'criterion': 'entropy', 'max_depth': 10, 'min...              1.0   \n",
       "13  {'criterion': 'entropy', 'max_depth': 10, 'min...              1.0   \n",
       "14  {'criterion': 'entropy', 'max_depth': 10, 'min...              1.0   \n",
       "15  {'criterion': 'entropy', 'max_depth': 30, 'min...              1.0   \n",
       "16  {'criterion': 'entropy', 'max_depth': 30, 'min...              1.0   \n",
       "17  {'criterion': 'entropy', 'max_depth': 30, 'min...              1.0   \n",
       "\n",
       "    rank_test_score  split0_test_score  split1_test_score  split2_test_score  \n",
       "0                 1                1.0                1.0                1.0  \n",
       "1                 1                1.0                1.0                1.0  \n",
       "2                 1                1.0                1.0                1.0  \n",
       "3                 1                1.0                1.0                1.0  \n",
       "4                 1                1.0                1.0                1.0  \n",
       "5                 1                1.0                1.0                1.0  \n",
       "6                 1                1.0                1.0                1.0  \n",
       "7                 1                1.0                1.0                1.0  \n",
       "8                 1                1.0                1.0                1.0  \n",
       "9                 1                1.0                1.0                1.0  \n",
       "10                1                1.0                1.0                1.0  \n",
       "11                1                1.0                1.0                1.0  \n",
       "12                1                1.0                1.0                1.0  \n",
       "13                1                1.0                1.0                1.0  \n",
       "14                1                1.0                1.0                1.0  \n",
       "15                1                1.0                1.0                1.0  \n",
       "16                1                1.0                1.0                1.0  \n",
       "17                1                1.0                1.0                1.0  "
      ]
     },
     "execution_count": 122,
     "metadata": {},
     "output_type": "execute_result"
    }
   ],
   "source": [
    "params = {\n",
    "    'criterion': ['gini', 'entropy'],\n",
    "    'max_depth': [None, 10, 30],\n",
    "    'min_samples_split': [2, 5, 10]\n",
    "}\n",
    "\n",
    "grid_dtree = GridSearchCV(dt_clf, param_grid=params, scoring='accuracy', cv=5, verbose=1)\n",
    "\n",
    "grid_dtree.fit(X_train, y_train)\n",
    "\n",
    "# GridSearchCV 결과 추출하여 DataFrame으로 변환\n",
    "scores_df = pd.DataFrame(grid_dtree.cv_results_)\n",
    "scores_df[['params', 'mean_test_score', 'rank_test_score', \\\n",
    "           'split0_test_score', 'split1_test_score', 'split2_test_score']]"
   ]
  },
  {
   "cell_type": "markdown",
   "metadata": {},
   "source": [
    "9\t{'criterion': 'entropy', 'max_depth': None, 'm...\t0.975378\t1\t0.978339\t0.985507\t0.963768\n",
    "\n",
    "rank_test_score 1위인 값"
   ]
  },
  {
   "cell_type": "markdown",
   "metadata": {
    "id": "25LhhdFc1YuW"
   },
   "source": [
    "## **1-j. 최적화 된 모델로 테스트 데이터 세트에 대해 예측을 수행해 주세요.**"
   ]
  },
  {
   "cell_type": "code",
   "execution_count": 123,
   "metadata": {
    "id": "IenNRCTC1eIn"
   },
   "outputs": [
    {
     "name": "stdout",
     "output_type": "stream",
     "text": [
      "GridSearchCV 최적 파라미터: {'criterion': 'gini', 'max_depth': None, 'min_samples_split': 2}\n",
      "GridSearchCV 최고 정확도: 1.0000\n",
      "결정 트리 예측 정확도: 1.0000\n"
     ]
    }
   ],
   "source": [
    "# fit() 수행시 최적화된 모델 기록\n",
    "print('GridSearchCV 최적 파라미터:', grid_dtree.best_params_)\n",
    "print('GridSearchCV 최고 정확도: {0:.4f}'.format(grid_dtree.best_score_))\n",
    "\n",
    "best_dt_clf=grid_dtree.best_estimator_\n",
    "pred=best_dt_clf.predict(X_test)\n",
    "accuracy=accuracy_score(y_test, pred)\n",
    "print('결정 트리 예측 정확도: {0:.4f}'.format(accuracy))"
   ]
  },
  {
   "cell_type": "markdown",
   "metadata": {
    "id": "w8VmvB50-loU"
   },
   "source": [
    "# **2. 서포트 벡터 머신**"
   ]
  },
  {
   "cell_type": "markdown",
   "metadata": {
    "id": "0NcLzXPXAo5Z"
   },
   "source": [
    "## **2-a. split된 자동차 평가 데이터를 가지고 선형 SVM 모델을 만들어 fit 하세요. 정확도도 함께 출력하세요.**\n",
    "(C = 10)"
   ]
  },
  {
   "cell_type": "markdown",
   "metadata": {},
   "source": [
    "C 는 SVM의 regularization parameter(과적합을 막는 일반화 파라미터)"
   ]
  },
  {
   "cell_type": "code",
   "execution_count": 124,
   "metadata": {
    "id": "De1985dXBB-1"
   },
   "outputs": [],
   "source": [
    "from sklearn.metrics import accuracy_score\n",
    "from sklearn.svm import SVC"
   ]
  },
  {
   "cell_type": "code",
   "execution_count": 125,
   "metadata": {
    "id": "RuE9LFw4BCYC"
   },
   "outputs": [
    {
     "name": "stdout",
     "output_type": "stream",
     "text": [
      "선형 SVM 정확도: 1.0000\n"
     ]
    }
   ],
   "source": [
    "lsm = SVC(kernel='linear', C=10)\n",
    "lsm.fit(X_train, y_train)\n",
    "pred = lsm.predict(X_test)\n",
    "accuracy=accuracy_score(y_test, pred)\n",
    "print('선형 SVM 정확도: {0:.4f}'.format(accuracy))"
   ]
  },
  {
   "cell_type": "markdown",
   "metadata": {
    "id": "h3F2wM9aBfEm"
   },
   "source": [
    "## **2-b. 선형 SVM 모델에서 GridSearchCV를 이용하여 최적의 C값과 최고 score를 출력하세요.**\n",
    "(cv = 5)"
   ]
  },
  {
   "cell_type": "code",
   "execution_count": 126,
   "metadata": {
    "id": "s2NIcb-QBpU8"
   },
   "outputs": [],
   "source": [
    "from sklearn.model_selection import GridSearchCV\n",
    "param = {'C':[0.1,0.5,1,5,10,40]}"
   ]
  },
  {
   "cell_type": "code",
   "execution_count": 127,
   "metadata": {
    "id": "bIMSlEvkBvFf"
   },
   "outputs": [
    {
     "name": "stdout",
     "output_type": "stream",
     "text": [
      "Fitting 5 folds for each of 6 candidates, totalling 30 fits\n",
      "   mean_fit_time  std_fit_time  mean_score_time  std_score_time param_C  \\\n",
      "0       0.009409      0.002527         0.004402        0.001955     0.1   \n",
      "1       0.003743      0.000742         0.002580        0.000795     0.5   \n",
      "2       0.004790      0.001330         0.002601        0.001200       1   \n",
      "3       0.006104      0.000800         0.003602        0.001501       5   \n",
      "4       0.005602      0.001344         0.002199        0.000400      10   \n",
      "5       0.004215      0.000764         0.002602        0.000491      40   \n",
      "\n",
      "       params  split0_test_score  split1_test_score  split2_test_score  \\\n",
      "0  {'C': 0.1}                1.0                1.0                1.0   \n",
      "1  {'C': 0.5}                1.0                1.0                1.0   \n",
      "2    {'C': 1}                1.0                1.0                1.0   \n",
      "3    {'C': 5}                1.0                1.0                1.0   \n",
      "4   {'C': 10}                1.0                1.0                1.0   \n",
      "5   {'C': 40}                1.0                1.0                1.0   \n",
      "\n",
      "   split3_test_score  split4_test_score  mean_test_score  std_test_score  \\\n",
      "0                1.0                1.0              1.0             0.0   \n",
      "1                1.0                1.0              1.0             0.0   \n",
      "2                1.0                1.0              1.0             0.0   \n",
      "3                1.0                1.0              1.0             0.0   \n",
      "4                1.0                1.0              1.0             0.0   \n",
      "5                1.0                1.0              1.0             0.0   \n",
      "\n",
      "   rank_test_score  \n",
      "0                1  \n",
      "1                1  \n",
      "2                1  \n",
      "3                1  \n",
      "4                1  \n",
      "5                1  \n",
      "GridSearchCV 최적 파라미터: {'C': 0.1}\n",
      "GridSearchCV 최고 정확도: 1.0000\n"
     ]
    }
   ],
   "source": [
    "grid_SVM = GridSearchCV(lsm, param_grid=param, scoring='accuracy', cv=5, verbose=1)\n",
    "grid_SVM.fit(X_train, y_train)\n",
    "scores_df = pd.DataFrame(grid_SVM.cv_results_)\n",
    "scores_df[['params', 'mean_test_score', 'rank_test_score', \\\n",
    "           'split0_test_score', 'split1_test_score', 'split2_test_score']]\n",
    "print(scores_df)\n",
    "print('GridSearchCV 최적 파라미터:', grid_SVM.best_params_)\n",
    "print('GridSearchCV 최고 정확도: {0:.4f}'.format(grid_SVM.best_score_))"
   ]
  },
  {
   "cell_type": "markdown",
   "metadata": {
    "id": "p15h5OBcB_Gj"
   },
   "source": [
    "## **2-c. 위에서 구한 최적 파라미터로 다시 예측을 진행하세요. 정확도도 함께 출력하세요.**\n",
    "Hint: `best_estimator_`"
   ]
  },
  {
   "cell_type": "code",
   "execution_count": 128,
   "metadata": {
    "id": "7PoMcjzlCUIM"
   },
   "outputs": [
    {
     "name": "stdout",
     "output_type": "stream",
     "text": [
      "LSM 예측 정확도: 1.0000\n"
     ]
    }
   ],
   "source": [
    "best_lsm=grid_SVM.best_estimator_\n",
    "pred=best_lsm.predict(X_test)\n",
    "accuracy=accuracy_score(y_test, pred)\n",
    "print('LSM 예측 정확도: {0:.4f}'.format(accuracy))"
   ]
  },
  {
   "cell_type": "markdown",
   "metadata": {},
   "source": [
    "[SVM 참고사이트](https://todayisbetterthanyesterday.tistory.com/32)"
   ]
  },
  {
   "cell_type": "markdown",
   "metadata": {
    "id": "kqa6Zj_lChGK"
   },
   "source": [
    "## **2-d. GridSearchCV를 이용하여 최적의 `gamma`, `C` 값을 찾아 최적 가우시안 SVM 모델을 만들고, fit 하세요.**\n",
    "(가우시안 svm: kernel = 'rbf')"
   ]
  },
  {
   "cell_type": "markdown",
   "metadata": {},
   "source": [
    "SVM의 default값이 RBF! \n",
    "\n",
    "default C값은 1.0, gamma는 gamma='scale' (default) is passed then it uses 1 / (n_features * X.var()) as value of gamma,\n",
    "\n",
    "[공식문서 참고](https://scikit-learn.org/stable/modules/generated/sklearn.svm.SVC.html)"
   ]
  },
  {
   "cell_type": "code",
   "execution_count": 129,
   "metadata": {
    "id": "9he6Rl3iDBEx"
   },
   "outputs": [],
   "source": [
    "params = {'C':[0.1,0.5,1,5,10,40,100],\n",
    "        'gamma':[0.1,0.25,0.5,0.75,1,10]}"
   ]
  },
  {
   "cell_type": "code",
   "execution_count": 130,
   "metadata": {
    "id": "bIMUsmhgDHIv"
   },
   "outputs": [
    {
     "name": "stdout",
     "output_type": "stream",
     "text": [
      "Fitting 5 folds for each of 42 candidates, totalling 210 fits\n",
      "    mean_fit_time  std_fit_time  mean_score_time  std_score_time param_C  \\\n",
      "0        0.045910      0.008007         0.024829        0.005891     0.1   \n",
      "1        0.042106      0.003280         0.020328        0.004383     0.1   \n",
      "2        0.069382      0.004533         0.033665        0.005105     0.1   \n",
      "3        0.125092      0.021635         0.034596        0.004228     0.1   \n",
      "4        0.151602      0.012073         0.039171        0.003646     0.1   \n",
      "5        0.162194      0.020733         0.039091        0.005459     0.1   \n",
      "6        0.021232      0.001619         0.010218        0.000750     0.5   \n",
      "7        0.029840      0.001799         0.013407        0.000474     0.5   \n",
      "8        0.068955      0.005994         0.024803        0.006031     0.5   \n",
      "9        0.131335      0.020810         0.029104        0.001119     0.5   \n",
      "10       0.144373      0.008571         0.034824        0.001740     0.5   \n",
      "11       0.162920      0.019949         0.043819        0.005111     0.5   \n",
      "12       0.026704      0.001722         0.011806        0.001476       1   \n",
      "13       0.038122      0.001576         0.015200        0.000753       1   \n",
      "14       0.076117      0.003499         0.024797        0.003764       1   \n",
      "15       0.132099      0.003425         0.030917        0.003608       1   \n",
      "16       0.155681      0.017115         0.037205        0.004250       1   \n",
      "17       0.151550      0.003345         0.037428        0.001694       1   \n",
      "18       0.019901      0.001021         0.007502        0.000446       5   \n",
      "19       0.029638      0.001495         0.012602        0.000498       5   \n",
      "20       0.065495      0.006041         0.021704        0.002676       5   \n",
      "21       0.132586      0.002591         0.033128        0.003780       5   \n",
      "22       0.158484      0.016745         0.035736        0.001907       5   \n",
      "23       0.205726      0.036056         0.046913        0.011191       5   \n",
      "24       0.019504      0.001081         0.007401        0.000801      10   \n",
      "25       0.038632      0.006245         0.014822        0.000748      10   \n",
      "26       0.071222      0.010901         0.023809        0.002468      10   \n",
      "27       0.161676      0.018824         0.034046        0.004059      10   \n",
      "28       0.189050      0.025973         0.043433        0.008841      10   \n",
      "29       0.175594      0.008927         0.042842        0.003844      10   \n",
      "30       0.021509      0.001333         0.007402        0.000486      40   \n",
      "31       0.030820      0.001428         0.012202        0.000748      40   \n",
      "32       0.065395      0.000879         0.021916        0.000665      40   \n",
      "33       0.165895      0.029468         0.039116        0.005208      40   \n",
      "34       0.157280      0.004271         0.039421        0.004702      40   \n",
      "35       0.173311      0.015822         0.039700        0.002432      40   \n",
      "36       0.020014      0.001094         0.007703        0.000399     100   \n",
      "37       0.031231      0.001205         0.012492        0.000901     100   \n",
      "38       0.066628      0.003359         0.021818        0.000728     100   \n",
      "39       0.140178      0.003900         0.032650        0.001866     100   \n",
      "40       0.174138      0.025744         0.036704        0.001963     100   \n",
      "41       0.169357      0.007110         0.039807        0.000682     100   \n",
      "\n",
      "   param_gamma                     params  split0_test_score  \\\n",
      "0          0.1   {'C': 0.1, 'gamma': 0.1}           0.924188   \n",
      "1         0.25  {'C': 0.1, 'gamma': 0.25}           0.924188   \n",
      "2          0.5   {'C': 0.1, 'gamma': 0.5}           0.924188   \n",
      "3         0.75  {'C': 0.1, 'gamma': 0.75}           0.711191   \n",
      "4            1     {'C': 0.1, 'gamma': 1}           0.703971   \n",
      "5           10    {'C': 0.1, 'gamma': 10}           0.703971   \n",
      "6          0.1   {'C': 0.5, 'gamma': 0.1}           1.000000   \n",
      "7         0.25  {'C': 0.5, 'gamma': 0.25}           1.000000   \n",
      "8          0.5   {'C': 0.5, 'gamma': 0.5}           1.000000   \n",
      "9         0.75  {'C': 0.5, 'gamma': 0.75}           0.992780   \n",
      "10           1     {'C': 0.5, 'gamma': 1}           0.978339   \n",
      "11          10    {'C': 0.5, 'gamma': 10}           0.703971   \n",
      "12         0.1     {'C': 1, 'gamma': 0.1}           1.000000   \n",
      "13        0.25    {'C': 1, 'gamma': 0.25}           1.000000   \n",
      "14         0.5     {'C': 1, 'gamma': 0.5}           1.000000   \n",
      "15        0.75    {'C': 1, 'gamma': 0.75}           1.000000   \n",
      "16           1       {'C': 1, 'gamma': 1}           0.996390   \n",
      "17          10      {'C': 1, 'gamma': 10}           0.703971   \n",
      "18         0.1     {'C': 5, 'gamma': 0.1}           1.000000   \n",
      "19        0.25    {'C': 5, 'gamma': 0.25}           1.000000   \n",
      "20         0.5     {'C': 5, 'gamma': 0.5}           1.000000   \n",
      "21        0.75    {'C': 5, 'gamma': 0.75}           1.000000   \n",
      "22           1       {'C': 5, 'gamma': 1}           1.000000   \n",
      "23          10      {'C': 5, 'gamma': 10}           0.703971   \n",
      "24         0.1    {'C': 10, 'gamma': 0.1}           1.000000   \n",
      "25        0.25   {'C': 10, 'gamma': 0.25}           1.000000   \n",
      "26         0.5    {'C': 10, 'gamma': 0.5}           1.000000   \n",
      "27        0.75   {'C': 10, 'gamma': 0.75}           1.000000   \n",
      "28           1      {'C': 10, 'gamma': 1}           1.000000   \n",
      "29          10     {'C': 10, 'gamma': 10}           0.703971   \n",
      "30         0.1    {'C': 40, 'gamma': 0.1}           1.000000   \n",
      "31        0.25   {'C': 40, 'gamma': 0.25}           1.000000   \n",
      "32         0.5    {'C': 40, 'gamma': 0.5}           1.000000   \n",
      "33        0.75   {'C': 40, 'gamma': 0.75}           1.000000   \n",
      "34           1      {'C': 40, 'gamma': 1}           1.000000   \n",
      "35          10     {'C': 40, 'gamma': 10}           0.703971   \n",
      "36         0.1   {'C': 100, 'gamma': 0.1}           1.000000   \n",
      "37        0.25  {'C': 100, 'gamma': 0.25}           1.000000   \n",
      "38         0.5   {'C': 100, 'gamma': 0.5}           1.000000   \n",
      "39        0.75  {'C': 100, 'gamma': 0.75}           1.000000   \n",
      "40           1     {'C': 100, 'gamma': 1}           1.000000   \n",
      "41          10    {'C': 100, 'gamma': 10}           0.703971   \n",
      "\n",
      "    split1_test_score  split2_test_score  split3_test_score  \\\n",
      "0            0.927536           0.927536           0.927536   \n",
      "1            0.927536           0.934783           0.927536   \n",
      "2            0.927536           0.927536           0.920290   \n",
      "3            0.706522           0.710145           0.710145   \n",
      "4            0.706522           0.702899           0.702899   \n",
      "5            0.706522           0.702899           0.702899   \n",
      "6            1.000000           1.000000           1.000000   \n",
      "7            1.000000           1.000000           1.000000   \n",
      "8            0.996377           1.000000           1.000000   \n",
      "9            0.992754           0.992754           0.981884   \n",
      "10           0.960145           0.971014           0.967391   \n",
      "11           0.706522           0.702899           0.702899   \n",
      "12           1.000000           1.000000           1.000000   \n",
      "13           1.000000           1.000000           1.000000   \n",
      "14           1.000000           1.000000           1.000000   \n",
      "15           0.996377           1.000000           1.000000   \n",
      "16           0.992754           0.996377           0.989130   \n",
      "17           0.706522           0.702899           0.702899   \n",
      "18           1.000000           1.000000           1.000000   \n",
      "19           1.000000           1.000000           1.000000   \n",
      "20           1.000000           1.000000           1.000000   \n",
      "21           0.996377           1.000000           1.000000   \n",
      "22           0.992754           0.996377           0.992754   \n",
      "23           0.706522           0.702899           0.702899   \n",
      "24           1.000000           1.000000           1.000000   \n",
      "25           1.000000           1.000000           1.000000   \n",
      "26           1.000000           1.000000           1.000000   \n",
      "27           0.996377           1.000000           1.000000   \n",
      "28           0.992754           0.996377           0.992754   \n",
      "29           0.706522           0.702899           0.702899   \n",
      "30           1.000000           1.000000           1.000000   \n",
      "31           1.000000           1.000000           1.000000   \n",
      "32           1.000000           1.000000           1.000000   \n",
      "33           0.996377           1.000000           1.000000   \n",
      "34           0.992754           0.996377           0.992754   \n",
      "35           0.706522           0.702899           0.702899   \n",
      "36           1.000000           1.000000           1.000000   \n",
      "37           1.000000           1.000000           1.000000   \n",
      "38           1.000000           1.000000           1.000000   \n",
      "39           0.996377           1.000000           1.000000   \n",
      "40           0.992754           0.996377           0.992754   \n",
      "41           0.706522           0.702899           0.702899   \n",
      "\n",
      "    split4_test_score  mean_test_score  std_test_score  rank_test_score  \n",
      "0            0.923913         0.926142        0.001710               32  \n",
      "1            0.923913         0.927591        0.003920               31  \n",
      "2            0.916667         0.923243        0.004236               33  \n",
      "3            0.706522         0.708905        0.001983               34  \n",
      "4            0.702899         0.703838        0.001405               35  \n",
      "5            0.702899         0.703838        0.001405               35  \n",
      "6            1.000000         1.000000        0.000000                1  \n",
      "7            1.000000         1.000000        0.000000                1  \n",
      "8            1.000000         0.999275        0.001449               18  \n",
      "9            1.000000         0.992034        0.005798               29  \n",
      "10           0.981884         0.971755        0.007750               30  \n",
      "11           0.702899         0.703838        0.001405               35  \n",
      "12           1.000000         1.000000        0.000000                1  \n",
      "13           1.000000         1.000000        0.000000                1  \n",
      "14           1.000000         1.000000        0.000000                1  \n",
      "15           1.000000         0.999275        0.001449               18  \n",
      "16           1.000000         0.994930        0.003696               28  \n",
      "17           0.702899         0.703838        0.001405               35  \n",
      "18           1.000000         1.000000        0.000000                1  \n",
      "19           1.000000         1.000000        0.000000                1  \n",
      "20           1.000000         1.000000        0.000000                1  \n",
      "21           1.000000         0.999275        0.001449               18  \n",
      "22           1.000000         0.996377        0.003241               24  \n",
      "23           0.702899         0.703838        0.001405               35  \n",
      "24           1.000000         1.000000        0.000000                1  \n",
      "25           1.000000         1.000000        0.000000                1  \n",
      "26           1.000000         1.000000        0.000000                1  \n",
      "27           1.000000         0.999275        0.001449               18  \n",
      "28           1.000000         0.996377        0.003241               24  \n",
      "29           0.702899         0.703838        0.001405               35  \n",
      "30           1.000000         1.000000        0.000000                1  \n",
      "31           1.000000         1.000000        0.000000                1  \n",
      "32           1.000000         1.000000        0.000000                1  \n",
      "33           1.000000         0.999275        0.001449               18  \n",
      "34           1.000000         0.996377        0.003241               24  \n",
      "35           0.702899         0.703838        0.001405               35  \n",
      "36           1.000000         1.000000        0.000000                1  \n",
      "37           1.000000         1.000000        0.000000                1  \n",
      "38           1.000000         1.000000        0.000000                1  \n",
      "39           1.000000         0.999275        0.001449               18  \n",
      "40           1.000000         0.996377        0.003241               24  \n",
      "41           0.702899         0.703838        0.001405               35  \n",
      "GridSearchCV 최적 파라미터: {'C': 0.5, 'gamma': 0.1}\n",
      "GridSearchCV 최고 정확도: 1.0000\n"
     ]
    }
   ],
   "source": [
    "gsm = SVC(kernel='rbf')\n",
    "grid_GVM = GridSearchCV(gsm, param_grid=params, scoring='accuracy', cv=5, verbose=1)\n",
    "grid_GVM.fit(X_train, y_train)\n",
    "scores_df = pd.DataFrame(grid_GVM.cv_results_)\n",
    "scores_df[['params', 'mean_test_score', 'rank_test_score', \\\n",
    "           'split0_test_score', 'split1_test_score', 'split2_test_score']]\n",
    "print(scores_df)\n",
    "print('GridSearchCV 최적 파라미터:', grid_GVM.best_params_)\n",
    "print('GridSearchCV 최고 정확도: {0:.4f}'.format(grid_GVM.best_score_))"
   ]
  },
  {
   "cell_type": "code",
   "execution_count": 131,
   "metadata": {},
   "outputs": [
    {
     "name": "stdout",
     "output_type": "stream",
     "text": [
      "GSM 예측 정확도: 1.0000\n"
     ]
    }
   ],
   "source": [
    "best_gsm=grid_GVM.best_estimator_\n",
    "pred=best_gsm.predict(X_test)\n",
    "accuracy=accuracy_score(y_test, pred)\n",
    "print('GSM 예측 정확도: {0:.4f}'.format(accuracy))"
   ]
  },
  {
   "cell_type": "markdown",
   "metadata": {},
   "source": [
    "[가우시안 SVM 참고](https://issuebombom.tistory.com/26) "
   ]
  },
  {
   "cell_type": "markdown",
   "metadata": {
    "id": "sJxROpmQ-zby"
   },
   "source": [
    "# **3. 앙상블**"
   ]
  },
  {
   "cell_type": "markdown",
   "metadata": {
    "id": "BbgUrG5D3cNj"
   },
   "source": [
    "## **3-a. breast_cancer 데이터셋을 ```load()``` 함수를 사용해서 불러온 후, 훈련 세트와 테스트 세트로 나눠주세요.**\n",
    "(test_size = 0.2, random_state = 42)\n",
    "\n",
    "\n"
   ]
  },
  {
   "cell_type": "code",
   "execution_count": 132,
   "metadata": {
    "id": "LUvSGJA-F-5Y"
   },
   "outputs": [],
   "source": [
    "import pandas as pd\n",
    "from sklearn.datasets import load_breast_cancer\n",
    "from sklearn.model_selection import train_test_split"
   ]
  },
  {
   "cell_type": "code",
   "execution_count": 133,
   "metadata": {
    "id": "ySMMQ9Zb_TqY"
   },
   "outputs": [],
   "source": [
    "cancer = load_breast_cancer()\n",
    "\n",
    "# load()로 가져온 데이터셋은 .data에 피처값, .target에 결정값 데이터를 가진다.\n",
    "X_train, X_test, y_train, y_test = train_test_split(cancer.data, cancer.target, test_size=0.2, random_state=42)"
   ]
  },
  {
   "cell_type": "markdown",
   "metadata": {
    "id": "3q_Ye651_FR5"
   },
   "source": [
    "## **3-b. 로지스틱 회귀, KNN, 결정 트리를 개별 모델로 사용하여 개별 모델의 학습/예측/평가를 진행해 보세요.**\n",
    "(평가는 정확도가 출력되도록 해주세요.)\n",
    "- 로지스틱 회귀: solver = \"liblinear\"\n",
    "- KNN: n_neighbors = 16\n",
    "- 결정 트리: random_state = 12"
   ]
  },
  {
   "cell_type": "code",
   "execution_count": 134,
   "metadata": {
    "id": "cQ8n_U6Z_j6e"
   },
   "outputs": [],
   "source": [
    "from sklearn.linear_model import LogisticRegression\n",
    "from sklearn.neighbors import KNeighborsClassifier\n",
    "from sklearn.tree import DecisionTreeClassifier\n",
    "from sklearn.metrics import accuracy_score"
   ]
  },
  {
   "cell_type": "code",
   "execution_count": 135,
   "metadata": {
    "id": "wKGNOJKIEfu5"
   },
   "outputs": [
    {
     "name": "stdout",
     "output_type": "stream",
     "text": [
      "LogisticRegression 정확도: 0.9561\n",
      "KNeighborsClassifier 정확도: 0.9649\n",
      "DecisionTreeClassifier 정확도: 0.9386\n"
     ]
    }
   ],
   "source": [
    "lr_clf = LogisticRegression(solver='liblinear')\n",
    "knn_clf = KNeighborsClassifier(n_neighbors=16)\n",
    "dt_clf = DecisionTreeClassifier(random_state=12)\n",
    "\n",
    "# 반복문으로 개별 모델 학습/예측/평가\n",
    "classifiers = [lr_clf, knn_clf, dt_clf]\n",
    "for classifier in classifiers:\n",
    "    classifier.fit(X_train , y_train)\n",
    "    pred = classifier.predict(X_test)\n",
    "    class_name= classifier.__class__.__name__\n",
    "    print('{0} 정확도: {1:.4f}'.format(class_name, accuracy_score(y_test , pred)))"
   ]
  },
  {
   "cell_type": "markdown",
   "metadata": {
    "id": "UsoYkrx82qFR"
   },
   "source": [
    "## **3-c. 로지스틱 회귀와 결정 트리를 기반으로 하여 '하드 보팅' 방식으로 보팅 분류기를 생성한 후, 학습/예측/평가를 진행해 보세요.**\n",
    "(평가는 정확도가 출력되도록 해주세요.)"
   ]
  },
  {
   "cell_type": "markdown",
   "metadata": {},
   "source": [
    "하드 보팅 : 예측한 결괏값들중 다수의 분류기가 결정한 예측값을 최종 보팅 결괏값으로 선정하는 방식"
   ]
  },
  {
   "cell_type": "code",
   "execution_count": 136,
   "metadata": {
    "id": "fHwRaIy0F_vB"
   },
   "outputs": [
    {
     "name": "stdout",
     "output_type": "stream",
     "text": [
      "Voting 분류기 정확도: 0.9298\n"
     ]
    }
   ],
   "source": [
    "from sklearn.ensemble import VotingClassifier\n",
    "\n",
    "vo_clf = VotingClassifier(estimators=[('LR',lr_clf),('dt',dt_clf)] , voting='hard')\n",
    "vo_clf.fit(X_train , y_train)\n",
    "pred = vo_clf.predict(X_test)\n",
    "print('Voting 분류기 정확도: {0:.4f}'.format(accuracy_score(y_test , pred)))"
   ]
  },
  {
   "cell_type": "markdown",
   "metadata": {
    "id": "9WgpvZjZBO1q"
   },
   "source": [
    "## **3-d. KNN과 결정트리를 기반으로 하여 '소프트 보팅' 방식으로 보팅 분류기를 생성한 후, 학습/예측/평가를 진행해보세요.**\n",
    "(평가는 정확도가 출력되도록 해주세요.)"
   ]
  },
  {
   "cell_type": "markdown",
   "metadata": {},
   "source": [
    "소프트 보팅 :  레이블 값 결정 확률을 모두 더하고 이를 평균해서 이들 중 확률이 가장 높은 레이블 값을 최종 보팅 결괏값으로 선정하는 방식"
   ]
  },
  {
   "cell_type": "code",
   "execution_count": 137,
   "metadata": {
    "id": "mbXfjCHpBOHv"
   },
   "outputs": [
    {
     "name": "stdout",
     "output_type": "stream",
     "text": [
      "Voting 분류기 정확도: 0.9386\n"
     ]
    }
   ],
   "source": [
    "from sklearn.ensemble import VotingClassifier\n",
    "\n",
    "vo_clf = VotingClassifier(estimators=[('KNN',knn_clf),('dt',dt_clf)] , voting='soft')\n",
    "vo_clf.fit(X_train , y_train)\n",
    "pred = vo_clf.predict(X_test)\n",
    "print('Voting 분류기 정확도: {0:.4f}'.format(accuracy_score(y_test , pred)))"
   ]
  },
  {
   "cell_type": "markdown",
   "metadata": {
    "id": "Fx4TRrU8CV9o"
   },
   "source": [
    "# **4. 랜덤 포레스트**"
   ]
  },
  {
   "cell_type": "markdown",
   "metadata": {
    "id": "VmuVwCXcG4R_"
   },
   "source": [
    "## **4-a. RandomForestClassifier를 이용하여 훈련 데이터를 fit한 후, 테스트 셋으로 예측 정확도를 구하세요.**\n",
    "(random_state = 42, max_depth = 8)"
   ]
  },
  {
   "cell_type": "code",
   "execution_count": 138,
   "metadata": {
    "id": "CgYSWXpOBfQ3"
   },
   "outputs": [],
   "source": [
    "from sklearn.ensemble import RandomForestClassifier\n",
    "from sklearn.metrics import accuracy_score\n",
    "import pandas as pd\n",
    "import warnings\n",
    "warnings.filterwarnings(\"ignore\")"
   ]
  },
  {
   "cell_type": "code",
   "execution_count": 139,
   "metadata": {
    "id": "KV1alqBGBiIy"
   },
   "outputs": [
    {
     "name": "stdout",
     "output_type": "stream",
     "text": [
      "랜덤 포레스트 정확도: 0.9649\n"
     ]
    }
   ],
   "source": [
    "rf_clf = RandomForestClassifier(random_state=42, max_depth=8)\n",
    "rf_clf.fit(X_train , y_train)\n",
    "pred = rf_clf.predict(X_test)\n",
    "accuracy = accuracy_score(y_test , pred)\n",
    "print('랜덤 포레스트 정확도: {0:.4f}'.format(accuracy))"
   ]
  },
  {
   "cell_type": "markdown",
   "metadata": {
    "id": "Ohesz68RHEmN"
   },
   "source": [
    "## **4-b. GridSearchCV를 사용하여 최적의 하이퍼 파라미터 조합을 찾으세요.**\n",
    "(cv = 2, n_jobs = -1)"
   ]
  },
  {
   "cell_type": "code",
   "execution_count": 140,
   "metadata": {
    "id": "uVuqo95gBgfg"
   },
   "outputs": [],
   "source": [
    "from sklearn.model_selection import GridSearchCV\n",
    "\n",
    "params = {\n",
    "    'n_estimators':[10, 50, 100],\n",
    "    'max_depth' : [6, 8, 10, 12],\n",
    "    'min_samples_leaf' : [1, 2, 4,8, 12, 18],\n",
    "    'min_samples_split' : [8, 16, 20]\n",
    "}"
   ]
  },
  {
   "cell_type": "code",
   "execution_count": 141,
   "metadata": {
    "id": "KYQSC1w4DkwJ"
   },
   "outputs": [
    {
     "name": "stdout",
     "output_type": "stream",
     "text": [
      "     mean_fit_time  std_fit_time  mean_score_time  std_score_time  \\\n",
      "0         0.076031      0.015519         0.006498    2.498150e-03   \n",
      "1         0.259139      0.001501         0.015002    2.503395e-06   \n",
      "2         0.520257      0.014528         0.049039    1.450884e-02   \n",
      "3         0.056000      0.003977         0.007261    2.270579e-03   \n",
      "4         0.226122      0.001507         0.030509    1.449192e-02   \n",
      "..             ...           ...              ...             ...   \n",
      "211       0.219089      0.001998         0.013999    1.430511e-06   \n",
      "212       0.451419      0.007733         0.025009    9.939671e-04   \n",
      "213       0.044265      0.000265         0.005000    1.192093e-07   \n",
      "214       0.228583      0.002501         0.015009    1.000047e-03   \n",
      "215       0.394145      0.006998         0.015526    1.522422e-03   \n",
      "\n",
      "    param_max_depth param_min_samples_leaf param_min_samples_split  \\\n",
      "0                 6                      1                       8   \n",
      "1                 6                      1                       8   \n",
      "2                 6                      1                       8   \n",
      "3                 6                      1                      16   \n",
      "4                 6                      1                      16   \n",
      "..              ...                    ...                     ...   \n",
      "211              12                     18                      16   \n",
      "212              12                     18                      16   \n",
      "213              12                     18                      20   \n",
      "214              12                     18                      20   \n",
      "215              12                     18                      20   \n",
      "\n",
      "    param_n_estimators                                             params  \\\n",
      "0                   10  {'max_depth': 6, 'min_samples_leaf': 1, 'min_s...   \n",
      "1                   50  {'max_depth': 6, 'min_samples_leaf': 1, 'min_s...   \n",
      "2                  100  {'max_depth': 6, 'min_samples_leaf': 1, 'min_s...   \n",
      "3                   10  {'max_depth': 6, 'min_samples_leaf': 1, 'min_s...   \n",
      "4                   50  {'max_depth': 6, 'min_samples_leaf': 1, 'min_s...   \n",
      "..                 ...                                                ...   \n",
      "211                 50  {'max_depth': 12, 'min_samples_leaf': 18, 'min...   \n",
      "212                100  {'max_depth': 12, 'min_samples_leaf': 18, 'min...   \n",
      "213                 10  {'max_depth': 12, 'min_samples_leaf': 18, 'min...   \n",
      "214                 50  {'max_depth': 12, 'min_samples_leaf': 18, 'min...   \n",
      "215                100  {'max_depth': 12, 'min_samples_leaf': 18, 'min...   \n",
      "\n",
      "     split0_test_score  split1_test_score  mean_test_score  std_test_score  \\\n",
      "0             0.934211           0.942731         0.938471        0.004260   \n",
      "1             0.947368           0.938326         0.942847        0.004521   \n",
      "2             0.947368           0.942731         0.945050        0.002319   \n",
      "3             0.934211           0.938326         0.936268        0.002058   \n",
      "4             0.934211           0.933921         0.934066        0.000145   \n",
      "..                 ...                ...              ...             ...   \n",
      "211           0.934211           0.916300         0.925255        0.008955   \n",
      "212           0.938596           0.920705         0.929651        0.008946   \n",
      "213           0.942982           0.920705         0.931844        0.011139   \n",
      "214           0.934211           0.916300         0.925255        0.008955   \n",
      "215           0.938596           0.920705         0.929651        0.008946   \n",
      "\n",
      "     rank_test_score  \n",
      "0                 13  \n",
      "1                  5  \n",
      "2                  4  \n",
      "3                 33  \n",
      "4                 73  \n",
      "..               ...  \n",
      "211              205  \n",
      "212              169  \n",
      "213              149  \n",
      "214              205  \n",
      "215              169  \n",
      "\n",
      "[216 rows x 14 columns]\n",
      "최적 하이퍼 파라미터:\n",
      " {'max_depth': 8, 'min_samples_leaf': 1, 'min_samples_split': 8, 'n_estimators': 100}\n",
      "최고 예측 정확도: 0.9472\n"
     ]
    }
   ],
   "source": [
    "grid_cv = GridSearchCV(rf_clf , param_grid=params , cv=2, n_jobs=-1 )\n",
    "grid_cv.fit(X_train , y_train)\n",
    "scores_df = pd.DataFrame(grid_cv.cv_results_)\n",
    "scores_df[['params', 'mean_test_score', 'rank_test_score', \\\n",
    "           'split0_test_score', 'split1_test_score']]\n",
    "# split2_test_score 없음!\n",
    "print(scores_df)\n",
    "print('최적 하이퍼 파라미터:\\n', grid_cv.best_params_)\n",
    "print('최고 예측 정확도: {0:.4f}'.format(grid_cv.best_score_))"
   ]
  },
  {
   "cell_type": "markdown",
   "metadata": {
    "id": "ppCwYt_WLTiv"
   },
   "source": [
    "## **4-c. 위에서 구한 최적의 하이퍼 파라미터로 다시 RandomForestClassifier를 학습 시킨 뒤에, 예측 정확도를 측정해 보세요.**\n"
   ]
  },
  {
   "cell_type": "code",
   "execution_count": 142,
   "metadata": {
    "id": "-mChTm0ZDVLw"
   },
   "outputs": [
    {
     "name": "stdout",
     "output_type": "stream",
     "text": [
      "RandomForestClassifier 예측 정확도: 0.9649\n"
     ]
    }
   ],
   "source": [
    "best_rm=grid_cv.best_estimator_\n",
    "pred=best_rm.predict(X_test)\n",
    "accuracy=accuracy_score(y_test, pred)\n",
    "print('RandomForestClassifier 예측 정확도: {0:.4f}'.format(accuracy))"
   ]
  },
  {
   "cell_type": "markdown",
   "metadata": {
    "id": "AyT2fjpyLjl9"
   },
   "source": [
    "## **4-d. ```feature_importances_``` 속성을 이용하여 전체 feature의 피처 주요도를 막대 그래프로 시각화 해보세요.**\n",
    "(index = cancer.feature_names)  \n",
    "Hint: 파머완 p.210"
   ]
  },
  {
   "cell_type": "code",
   "execution_count": 143,
   "metadata": {
    "id": "TXjmlEJdDaqI"
   },
   "outputs": [],
   "source": [
    "import matplotlib.pyplot as plt\n",
    "import seaborn as sns\n",
    "%matplotlib inline"
   ]
  },
  {
   "cell_type": "code",
   "execution_count": 144,
   "metadata": {
    "id": "F67fF3e9D60B"
   },
   "outputs": [
    {
     "data": {
      "image/png": "[encoded data removed]",
      "text/plain": [
       "<Figure size 800x600 with 1 Axes>"
      ]
     },
     "metadata": {},
     "output_type": "display_data"
    },
    {
     "data": {
      "text/plain": [
       "<Figure size 640x480 with 0 Axes>"
      ]
     },
     "metadata": {},
     "output_type": "display_data"
    }
   ],
   "source": [
    "# feature_importances_를 이용해 알고리즘이 선택한 피처릐 중요도 알기\n",
    "ftr_importances_values = rf_clf.feature_importances_\n",
    "ftr_importances = pd.Series(ftr_importances_values,index = cancer.feature_names )\n",
    "ftr_top20 = ftr_importances.sort_values(ascending=False)[:20]\n",
    "\n",
    "plt.figure(figsize=(8,6))\n",
    "plt.title('Feature importances Top 20')\n",
    "sns.barplot(x=ftr_top20 , y = ftr_top20.index)\n",
    "fig1 = plt.gcf()\n",
    "plt.show()\n",
    "plt.draw()\n",
    "fig1.savefig('rf_feature_importances_top20.tif', format='tif', dpi=300, bbox_inches='tight')"
   ]
  },
  {
   "cell_type": "code",
   "execution_count": null,
   "metadata": {},
   "outputs": [],
   "source": []
  }
 ],
 "metadata": {
  "colab": {
   "provenance": []
  },
  "kernelspec": {
   "display_name": "Python 3 (ipykernel)",
   "language": "python",
   "name": "python3"
  },
  "language_info": {
   "codemirror_mode": {
    "name": "ipython",
    "version": 3
   },
   "file_extension": ".py",
   "mimetype": "text/x-python",
   "name": "python",
   "nbconvert_exporter": "python",
   "pygments_lexer": "ipython3",
   "version": "3.11.3"
  }
 },
 "nbformat": 4,
 "nbformat_minor": 1
}
