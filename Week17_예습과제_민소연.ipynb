{
  "nbformat": 4,
  "nbformat_minor": 0,
  "metadata": {
    "colab": {
      "provenance": []
    },
    "kernelspec": {
      "name": "python3",
      "display_name": "Python 3"
    },
    "language_info": {
      "name": "python"
    }
  },
  "cells": [
    {
      "cell_type": "code",
      "execution_count": 8,
      "metadata": {
        "id": "H1BnIN2HqooW"
      },
      "outputs": [],
      "source": [
        "import numpy as np\n",
        "\n",
        "# 원본 행렬 R 생성, 분해 행렬 P와 Q 초기화, 잠재요인 차원 K는 3 설정.\n",
        "R = np.array([[4, np.NaN, np.NaN, 2, np.NaN ],\n",
        "              [np.NaN, 5, np.NaN, 3, 1 ],\n",
        "              [np.NaN, np.NaN, 3, 4, 4 ],\n",
        "              [5, 2, 1, 2, np.NaN ]])\n",
        "num_users, num_items = R.shape\n",
        "K=3\n",
        "\n",
        "# P와 Q 매트릭스의 크기를 지정하고 정규분포를 가진 random한 값으로 입력합니다.\n",
        "np.random.seed(1)\n",
        "P = np.random.normal(scale=1./K, size=(num_users, K))\n",
        "Q = np.random.normal(scale=1./K, size=(num_items, K))"
      ]
    },
    {
      "cell_type": "code",
      "source": [
        "from sklearn.metrics import mean_squared_error\n",
        "\n",
        "def get_rmse(R, P, Q, non_zeros):\n",
        "    error = 0\n",
        "    # 두개의 분해된 행렬 P와 Q.T의 내적으로 예측 R 행렬 생성\n",
        "    full_pred_matrix = np.dot(P, Q.T)\n",
        "\n",
        "    # 실제 R 행렬에서 널이 아닌 값의 위치 인덱스 추출하여 실제 R 행렬과 예측 행렬의 RMSE 추출\n",
        "    x_non_zero_ind = [non_zero[0] for non_zero in non_zeros]\n",
        "    y_non_zero_ind = [non_zero[1] for non_zero in non_zeros]\n",
        "    R_non_zeros = R[x_non_zero_ind, y_non_zero_ind]\n",
        "    full_pred_matrix_non_zeros = full_pred_matrix[x_non_zero_ind, y_non_zero_ind]\n",
        "\n",
        "    mse = mean_squared_error(R_non_zeros, full_pred_matrix_non_zeros)\n",
        "    rmse = np.sqrt(mse)\n",
        "\n",
        "    return rmse"
      ],
      "metadata": {
        "id": "LbdVCfwdqvwn"
      },
      "execution_count": 5,
      "outputs": []
    },
    {
      "cell_type": "code",
      "source": [
        "# R > 0 인 행 위치, 열 위치, 값을 non_zeros 리스트에 저장.\n",
        "non_zeros = [ (i, j, R[i,j]) for i in range(num_users) for j in range(num_items) if R[i,j] > 0 ]\n",
        "\n",
        "steps=1000\n",
        "learning_rate=0.01\n",
        "r_lambda=0.01\n",
        "\n",
        "# SGD 기법으로 P와 Q 매트릭스를 계속 업데이트.\n",
        "for step in range(steps):\n",
        "    for i, j, r in non_zeros:\n",
        "        # 실제 값과 예측 값의 차이인 오류 값 구함\n",
        "        eij = r - np.dot(P[i, :], Q[j, :].T)\n",
        "        # Regularization을 반영한 SGD 업데이트 공식 적용\n",
        "        P[i,:] = P[i,:] + learning_rate*(eij * Q[j, :] - r_lambda*P[i,:])\n",
        "        Q[j,:] = Q[j,:] + learning_rate*(eij * P[i, :] - r_lambda*Q[j,:])\n",
        "\n",
        "    rmse = get_rmse(R, P, Q, non_zeros)\n",
        "    if (step % 50) == 0 :\n",
        "        print(\"### iteration step : \", step,\" rmse : \", rmse)"
      ],
      "metadata": {
        "colab": {
          "base_uri": "https://localhost:8080/"
        },
        "id": "LT0AOLcIq6Rg",
        "outputId": "b4bc6d82-f84c-4993-c079-e0fb9bf238d2"
      },
      "execution_count": 6,
      "outputs": [
        {
          "output_type": "stream",
          "name": "stdout",
          "text": [
            "### iteration step :  0  rmse :  0.016410959588961445\n",
            "### iteration step :  50  rmse :  0.01637308966218993\n",
            "### iteration step :  100  rmse :  0.016333882336881784\n",
            "### iteration step :  150  rmse :  0.016293661274599174\n",
            "### iteration step :  200  rmse :  0.01625272572302336\n",
            "### iteration step :  250  rmse :  0.016211338984681307\n",
            "### iteration step :  300  rmse :  0.016169725523756753\n",
            "### iteration step :  350  rmse :  0.016128072491623933\n",
            "### iteration step :  400  rmse :  0.016086533303745463\n",
            "### iteration step :  450  rmse :  0.016045231961723017\n",
            "### iteration step :  500  rmse :  0.016004267423347165\n",
            "### iteration step :  550  rmse :  0.015963717671935662\n",
            "### iteration step :  600  rmse :  0.01592364333325902\n",
            "### iteration step :  650  rmse :  0.015884090797210332\n",
            "### iteration step :  700  rmse :  0.01584509485896164\n",
            "### iteration step :  750  rmse :  0.015806680922219037\n",
            "### iteration step :  800  rmse :  0.01576886681829548\n",
            "### iteration step :  850  rmse :  0.015731664296432853\n",
            "### iteration step :  900  rmse :  0.0156950802377121\n",
            "### iteration step :  950  rmse :  0.015659117639502156\n"
          ]
        }
      ]
    },
    {
      "cell_type": "code",
      "source": [
        "pred_matrix = np.dot(P, Q.T)\n",
        "print('실제 행렬:\\n', R)\n",
        "print('\\n예측 행렬:\\n', np.round(pred_matrix, 3))"
      ],
      "metadata": {
        "colab": {
          "base_uri": "https://localhost:8080/"
        },
        "id": "iAZOrex5qzW6",
        "outputId": "7fa65710-a45b-471b-9719-831141b238d3"
      },
      "execution_count": 7,
      "outputs": [
        {
          "output_type": "stream",
          "name": "stdout",
          "text": [
            "실제 행렬:\n",
            " [[ 4. nan nan  2. nan]\n",
            " [nan  5. nan  3.  1.]\n",
            " [nan nan  3.  4.  4.]\n",
            " [ 5.  2.  1.  2. nan]]\n",
            "\n",
            "예측 행렬:\n",
            " [[3.991 1.171 1.266 2.    1.649]\n",
            " [6.288 4.978 0.896 2.983 1.003]\n",
            " [6.401 0.866 2.987 3.978 3.986]\n",
            " [4.969 2.005 1.006 2.013 1.258]]\n"
          ]
        }
      ]
    },
    {
      "cell_type": "markdown",
      "source": [
        "원본 행렬과 비교해 널이 아닌 값은 큰 차이가 나지 않으며, 널인 값은 새로운 예측값으로 채워짐"
      ],
      "metadata": {
        "id": "b3_941tGrJjh"
      }
    }
  ]
}