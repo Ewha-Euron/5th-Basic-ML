{
  "nbformat": 4,
  "nbformat_minor": 0,
  "metadata": {
    "colab": {
      "provenance": [],
      "authorship_tag": "ABX9TyMDjBrLkl8JXupWn4L/QDs8",
      "include_colab_link": true
    },
    "kernelspec": {
      "name": "python3",
      "display_name": "Python 3"
    },
    "language_info": {
      "name": "python"
    }
  },
  "cells": [
    {
      "cell_type": "markdown",
      "metadata": {
        "id": "view-in-github",
        "colab_type": "text"
      },
      "source": [
        "<a href=\"https://colab.research.google.com/github/gchaewon/5th-Basic-ML/blob/17%EC%A3%BC%EC%B0%A8/Week17_%EC%98%88%EC%8A%B5%EA%B3%BC%EC%A0%9C_%EC%9D%B4%EC%B1%84%EC%9B%90.ipynb\" target=\"_parent\"><img src=\"https://colab.research.google.com/assets/colab-badge.svg\" alt=\"Open In Colab\"/></a>"
      ]
    },
    {
      "cell_type": "markdown",
      "source": [
        "# 9.4 잠재요인 협업 필터링"
      ],
      "metadata": {
        "id": "1a3XspkVneCU"
      }
    },
    {
      "cell_type": "markdown",
      "source": [
        "## 확률적 경사하강법 이용 행렬 분해"
      ],
      "metadata": {
        "id": "jZvbDSHTnj1J"
      }
    },
    {
      "cell_type": "markdown",
      "source": [
        "행렬 생성 및 초기화"
      ],
      "metadata": {
        "id": "YRiqcybnnnym"
      }
    },
    {
      "cell_type": "code",
      "execution_count": null,
      "metadata": {
        "id": "upC6_QdKsVvg"
      },
      "outputs": [],
      "source": [
        "import numpy as np\n",
        "\n",
        "# 원본 행렬 R 생성, 분해 행렬 P와 Q 초기화, 잠재요인 차원 K는 3 설정.\n",
        "R = np.array([[4, np.NaN, np.NaN, 2, np.NaN ],\n",
        "              [np.NaN, 5, np.NaN, 3, 1 ],\n",
        "              [np.NaN, np.NaN, 3, 4, 4 ],\n",
        "              [5, 2, 1, 2, np.NaN ]])\n",
        "num_users, num_items = R.shape\n",
        "K=3\n",
        "\n",
        "# P와 Q 매트릭스의 크기를 지정하고 정규분포를 가진 random한 값으로 입력합니다.\n",
        "np.random.seed(1)\n",
        "P = np.random.normal(scale=1./K, size=(num_users, K))\n",
        "Q = np.random.normal(scale=1./K, size=(num_items, K))\n"
      ]
    },
    {
      "cell_type": "markdown",
      "source": [
        "mse 구하는 함수 선언"
      ],
      "metadata": {
        "id": "XpIjUnuanrmy"
      }
    },
    {
      "cell_type": "code",
      "source": [
        "from sklearn.metrics import mean_squared_error\n",
        "\n",
        "def get_rmse(R, P, Q, non_zeros):\n",
        "    error = 0\n",
        "    # 두개의 분해된 행렬 P와 Q.T의 내적으로 예측 R 행렬 생성\n",
        "    full_pred_matrix = np.dot(P, Q.T)\n",
        "\n",
        "    # 실제 R 행렬에서 널이 아닌 값의 위치 인덱스 추출하여 실제 R 행렬과 예측 행렬의 RMSE 추출\n",
        "    x_non_zero_ind = [non_zero[0] for non_zero in non_zeros]\n",
        "    y_non_zero_ind = [non_zero[1] for non_zero in non_zeros]\n",
        "    R_non_zeros = R[x_non_zero_ind, y_non_zero_ind]\n",
        "    full_pred_matrix_non_zeros = full_pred_matrix[x_non_zero_ind, y_non_zero_ind]\n",
        "\n",
        "    mse = mean_squared_error(R_non_zeros, full_pred_matrix_non_zeros)\n",
        "    rmse = np.sqrt(mse)\n",
        "\n",
        "    return rmse"
      ],
      "metadata": {
        "id": "sDKmV_ewnsuS"
      },
      "execution_count": null,
      "outputs": []
    },
    {
      "cell_type": "markdown",
      "source": [
        "SGD 기반 행렬 분해"
      ],
      "metadata": {
        "id": "8wQ917S3nuO2"
      }
    },
    {
      "cell_type": "code",
      "source": [
        "# R > 0 인 행 위치, 열 위치, 값을 non_zeros 리스트에 저장.\n",
        "non_zeros = [ (i, j, R[i,j]) for i in range(num_users) for j in range(num_items) if R[i,j] > 0 ]\n",
        "\n",
        "steps=1000\n",
        "learning_rate=0.01\n",
        "r_lambda=0.01\n",
        "\n",
        "# SGD 기법으로 P와 Q 매트릭스를 계속 업데이트.\n",
        "for step in range(steps):\n",
        "    for i, j, r in non_zeros:\n",
        "        # 실제 값과 예측 값의 차이인 오류 값 구함\n",
        "        eij = r - np.dot(P[i, :], Q[j, :].T)\n",
        "        # Regularization을 반영한 SGD 업데이트 공식 적용\n",
        "        P[i,:] = P[i,:] + learning_rate*(eij * Q[j, :] - r_lambda*P[i,:])\n",
        "        Q[j,:] = Q[j,:] + learning_rate*(eij * P[i, :] - r_lambda*Q[j,:])\n",
        "\n",
        "    rmse = get_rmse(R, P, Q, non_zeros)\n",
        "    if (step % 50) == 0 :\n",
        "        print(\"### iteration step : \", step,\" rmse : \", rmse)"
      ],
      "metadata": {
        "colab": {
          "base_uri": "https://localhost:8080/"
        },
        "id": "EJz3tIMknvSC",
        "outputId": "df345dd0-9a64-435d-98aa-d2837f8cbed3"
      },
      "execution_count": null,
      "outputs": [
        {
          "output_type": "stream",
          "name": "stdout",
          "text": [
            "### iteration step :  0  rmse :  3.2388050277987723\n",
            "### iteration step :  50  rmse :  0.4876723101369648\n",
            "### iteration step :  100  rmse :  0.1564340384819247\n",
            "### iteration step :  150  rmse :  0.07455141311978046\n",
            "### iteration step :  200  rmse :  0.04325226798579314\n",
            "### iteration step :  250  rmse :  0.029248328780878973\n",
            "### iteration step :  300  rmse :  0.022621116143829466\n",
            "### iteration step :  350  rmse :  0.019493636196525135\n",
            "### iteration step :  400  rmse :  0.018022719092132704\n",
            "### iteration step :  450  rmse :  0.01731968595344266\n",
            "### iteration step :  500  rmse :  0.016973657887570753\n",
            "### iteration step :  550  rmse :  0.016796804595895633\n",
            "### iteration step :  600  rmse :  0.01670132290188466\n",
            "### iteration step :  650  rmse :  0.01664473691247669\n",
            "### iteration step :  700  rmse :  0.016605910068210026\n",
            "### iteration step :  750  rmse :  0.016574200475705\n",
            "### iteration step :  800  rmse :  0.01654431582921597\n",
            "### iteration step :  850  rmse :  0.01651375177473524\n",
            "### iteration step :  900  rmse :  0.01648146573819501\n",
            "### iteration step :  950  rmse :  0.016447171683479155\n"
          ]
        }
      ]
    },
    {
      "cell_type": "markdown",
      "source": [
        "예측 행렬 구하기 R = P * Q.T"
      ],
      "metadata": {
        "id": "0PDfW-menww1"
      }
    },
    {
      "cell_type": "code",
      "source": [
        "pred_matrix = np.dot(P, Q.T)\n",
        "print('예측 행렬:\\n', np.round(pred_matrix, 3))\n",
        "print('원본 행렬: \\n', R)"
      ],
      "metadata": {
        "colab": {
          "base_uri": "https://localhost:8080/"
        },
        "id": "3ExDhwFDnyLu",
        "outputId": "367a429f-21dd-4b52-d750-38231be17c5b"
      },
      "execution_count": null,
      "outputs": [
        {
          "output_type": "stream",
          "name": "stdout",
          "text": [
            "예측 행렬:\n",
            " [[3.991 0.897 1.306 2.002 1.663]\n",
            " [6.696 4.978 0.979 2.981 1.003]\n",
            " [6.677 0.391 2.987 3.977 3.986]\n",
            " [4.968 2.005 1.006 2.017 1.14 ]]\n",
            "원본 행렬: \n",
            " [[ 4. nan nan  2. nan]\n",
            " [nan  5. nan  3.  1.]\n",
            " [nan nan  3.  4.  4.]\n",
            " [ 5.  2.  1.  2. nan]]\n"
          ]
        }
      ]
    }
  ]
}