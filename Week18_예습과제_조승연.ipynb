{
  "nbformat": 4,
  "nbformat_minor": 0,
  "metadata": {
    "colab": {
      "provenance": []
    },
    "kernelspec": {
      "name": "python3",
      "display_name": "Python 3"
    },
    "language_info": {
      "name": "python"
    }
  },
  "cells": [
    {
      "cell_type": "markdown",
      "source": [
        "# 📌 9.8 파이썬 추천 시스템 패키지 - Surprise"
      ],
      "metadata": {
        "id": "hqALAcB820en"
      }
    },
    {
      "cell_type": "markdown",
      "source": [
        "패키지 설치!"
      ],
      "metadata": {
        "id": "DbZi-kUQ28Uk"
      }
    },
    {
      "cell_type": "code",
      "source": [
        "!pip install scikit-surprise"
      ],
      "metadata": {
        "colab": {
          "base_uri": "https://localhost:8080/"
        },
        "id": "xZdv3qYRfVi8",
        "outputId": "48553d0f-c366-4aee-db9a-28247367b61d"
      },
      "execution_count": 2,
      "outputs": [
        {
          "output_type": "stream",
          "name": "stdout",
          "text": [
            "Collecting scikit-surprise\n",
            "  Downloading scikit-surprise-1.1.3.tar.gz (771 kB)\n",
            "\u001b[2K     \u001b[90m━━━━━━━━━━━━━━━━━━━━━━━━━━━━━━━━━━━━━━━━\u001b[0m \u001b[32m772.0/772.0 kB\u001b[0m \u001b[31m6.3 MB/s\u001b[0m eta \u001b[36m0:00:00\u001b[0m\n",
            "\u001b[?25h  Preparing metadata (setup.py) ... \u001b[?25l\u001b[?25hdone\n",
            "Requirement already satisfied: joblib>=1.0.0 in /usr/local/lib/python3.10/dist-packages (from scikit-surprise) (1.3.2)\n",
            "Requirement already satisfied: numpy>=1.17.3 in /usr/local/lib/python3.10/dist-packages (from scikit-surprise) (1.23.5)\n",
            "Requirement already satisfied: scipy>=1.3.2 in /usr/local/lib/python3.10/dist-packages (from scikit-surprise) (1.11.4)\n",
            "Building wheels for collected packages: scikit-surprise\n",
            "  Building wheel for scikit-surprise (setup.py) ... \u001b[?25l\u001b[?25hdone\n",
            "  Created wheel for scikit-surprise: filename=scikit_surprise-1.1.3-cp310-cp310-linux_x86_64.whl size=3163698 sha256=a30af89df2900c3271d04b25d4174aa31346dd7962b871daf8e9696d105857e7\n",
            "  Stored in directory: /root/.cache/pip/wheels/a5/ca/a8/4e28def53797fdc4363ca4af740db15a9c2f1595ebc51fb445\n",
            "Successfully built scikit-surprise\n",
            "Installing collected packages: scikit-surprise\n",
            "Successfully installed scikit-surprise-1.1.3\n"
          ]
        }
      ]
    },
    {
      "cell_type": "markdown",
      "source": [
        "## Surprise를 이용한 추천 시스템 구축"
      ],
      "metadata": {
        "id": "SsCXWa7z3Bzo"
      }
    },
    {
      "cell_type": "markdown",
      "source": [
        "패키지 불러오기!"
      ],
      "metadata": {
        "id": "-ILhlom62-7N"
      }
    },
    {
      "cell_type": "code",
      "source": [
        "from surprise import SVD\n",
        "from surprise import Dataset\n",
        "from surprise import accuracy\n",
        "from surprise.model_selection import train_test_split"
      ],
      "metadata": {
        "id": "Y9iNo-nVfpbs"
      },
      "execution_count": 3,
      "outputs": []
    },
    {
      "cell_type": "code",
      "source": [
        "data = Dataset.load_builtin('ml-100k')\n",
        "#수행 시마다 동일하게 데이터를 분할하기 위해 random_state 값 부여\n",
        "trainset, testset = train_test_split(data, test_size=.25, random_state=0)"
      ],
      "metadata": {
        "colab": {
          "base_uri": "https://localhost:8080/"
        },
        "id": "iUn7Y-XA2DQM",
        "outputId": "ff5cd3f4-d77e-450c-efff-64847f3cefbe"
      },
      "execution_count": 4,
      "outputs": [
        {
          "output_type": "stream",
          "name": "stdout",
          "text": [
            "Dataset ml-100k could not be found. Do you want to download it? [Y/n] Y\n",
            "Trying to download dataset from https://files.grouplens.org/datasets/movielens/ml-100k.zip...\n",
            "Done! Dataset ml-100k has been saved to /root/.surprise_data/ml-100k\n"
          ]
        }
      ]
    },
    {
      "cell_type": "markdown",
      "source": [
        "위에서 다운받은 무비렌즈 데이터 세트가 /root/.surprise_data/ml-100k에 저장된 것을 확인 가능!  \n",
        "코랩에선 위에 루트의 링크 누르면 파일로 확인 가능함!  \n",
        "여기서 사용할 ml-100k 데이터는 분리문자가 앞선 데이터들과는 달리 콤마가 아닌 탭(\\t)인 것을 유의해야함.  \n",
        "그리고 서프라이즈 패키지는 앞선 다른 예제들과는 달리 자체적으로 로우 데이터를 칼럼 레벨로 변경해주기 때문에, 기존에 있던 로우 레벨의 데이터의 아이템 아이디를 칼럼명으로 변환하는 과정을 생략해야함!"
      ],
      "metadata": {
        "id": "d8PlOIE36GGc"
      }
    },
    {
      "cell_type": "code",
      "source": [
        "#SVD 객체 생성\n",
        "algo = SVD(random_state=0)\n",
        "#학습 수행\n",
        "algo.fit(trainset)"
      ],
      "metadata": {
        "colab": {
          "base_uri": "https://localhost:8080/"
        },
        "id": "diXXFuzF2DMw",
        "outputId": "39b09311-43c9-4182-9336-5cc8ed4e4175"
      },
      "execution_count": 5,
      "outputs": [
        {
          "output_type": "execute_result",
          "data": {
            "text/plain": [
              "<surprise.prediction_algorithms.matrix_factorization.SVD at 0x7d1830aa20e0>"
            ]
          },
          "metadata": {},
          "execution_count": 5
        }
      ]
    },
    {
      "cell_type": "markdown",
      "source": [
        "test() -> 사용자-아이템 평점 데이터 세트 전체에 대해 추천 예측  \n",
        "predict() -> 개별 사용자와 영화에 대한 추천 평점 반환"
      ],
      "metadata": {
        "id": "o7SrZhnm812I"
      }
    },
    {
      "cell_type": "markdown",
      "source": [
        "### test 객체"
      ],
      "metadata": {
        "id": "1uKLxDGC-kAm"
      }
    },
    {
      "cell_type": "code",
      "source": [
        "predictions = algo.test(testset)\n",
        "print('prediction type :',type(predictions), 'size:',len(predictions))\n",
        "print('prediction 결과의 최초 5개 추출')\n",
        "predictions[:5]"
      ],
      "metadata": {
        "colab": {
          "base_uri": "https://localhost:8080/"
        },
        "id": "66FUjMZC2DKc",
        "outputId": "ea4d0745-9e12-4590-c31f-b62b1bd87121"
      },
      "execution_count": 6,
      "outputs": [
        {
          "output_type": "stream",
          "name": "stdout",
          "text": [
            "prediction type : <class 'list'> size: 25000\n",
            "prediction 결과의 최초 5개 추출\n"
          ]
        },
        {
          "output_type": "execute_result",
          "data": {
            "text/plain": [
              "[Prediction(uid='120', iid='282', r_ui=4.0, est=3.5114147666251547, details={'was_impossible': False}),\n",
              " Prediction(uid='882', iid='291', r_ui=4.0, est=3.573872419581491, details={'was_impossible': False}),\n",
              " Prediction(uid='535', iid='507', r_ui=5.0, est=4.033583485472447, details={'was_impossible': False}),\n",
              " Prediction(uid='697', iid='244', r_ui=5.0, est=3.8463639495936905, details={'was_impossible': False}),\n",
              " Prediction(uid='751', iid='385', r_ui=4.0, est=3.1807542478219157, details={'was_impossible': False})]"
            ]
          },
          "metadata": {},
          "execution_count": 6
        }
      ]
    },
    {
      "cell_type": "markdown",
      "source": [
        "위의 결과 해석!\n",
        "- test의 결과는 list 객체이며, 크기가 입력된 데이터 세트 크기와 같은 25000이다.\n",
        "- 개별사용자 아이디(uid), 영화(=아이템) 아이디(iid), 실제 평점(r_ui), 추천 예측 평점(est)를 튜플 형태로 가짐\n",
        "- details -> 추천 예측 할 수 없는 경우 로그용으로 데이터 남기는 용도! was_impossible -> True이면 예측값 생성 불가라는 것!"
      ],
      "metadata": {
        "id": "EWW7OoDv9cOd"
      }
    },
    {
      "cell_type": "code",
      "source": [
        "#3개 prediction에서 개별 아이디, 아이템 아이디, 예측평점을 추출해보자!\n",
        "[(pred.uid, pred.iid, pred.est) for pred in predictions[:3]]"
      ],
      "metadata": {
        "colab": {
          "base_uri": "https://localhost:8080/"
        },
        "id": "n6kWsnNM2DIa",
        "outputId": "939d6541-e32f-4053-d6b8-5183a028af80"
      },
      "execution_count": 8,
      "outputs": [
        {
          "output_type": "execute_result",
          "data": {
            "text/plain": [
              "[('120', '282', 3.5114147666251547),\n",
              " ('882', '291', 3.573872419581491),\n",
              " ('535', '507', 4.033583485472447)]"
            ]
          },
          "metadata": {},
          "execution_count": 8
        }
      ]
    },
    {
      "cell_type": "markdown",
      "source": [
        "### predict 객체"
      ],
      "metadata": {
        "id": "gBpbYbqE-npM"
      }
    },
    {
      "cell_type": "markdown",
      "source": [
        "predict는 개별 사용자의 아이템에 대한 추천 평점을 예측, 따라서 인자로 개별 사용자 아이디, 아이템 아이디를 입력해야함! 그러면 그에 따른 예측 평점을 보여줌."
      ],
      "metadata": {
        "id": "Dv-j4fb2-xaZ"
      }
    },
    {
      "cell_type": "code",
      "source": [
        "#사용자 아이디, 아이템 아이디는 문자열로 입력해야 함.\n",
        "uid = str(196)\n",
        "iid = str(302)\n",
        "pred = algo.predict(uid, iid)\n",
        "print(pred)"
      ],
      "metadata": {
        "colab": {
          "base_uri": "https://localhost:8080/"
        },
        "id": "SughKSUz2DGC",
        "outputId": "0f310d35-61c4-4ee8-ef7a-838b702c6787"
      },
      "execution_count": 9,
      "outputs": [
        {
          "output_type": "stream",
          "name": "stdout",
          "text": [
            "user: 196        item: 302        r_ui = None   est = 4.49   {'was_impossible': False}\n"
          ]
        }
      ]
    },
    {
      "cell_type": "markdown",
      "source": [
        "-> 196번 고객은, 302번 아이템에 대해 평점을 남기지 않았지만, 예측하자면 4.49의 평점을 남길 것이고, 평점 예측값을 생성 가능하다!"
      ],
      "metadata": {
        "id": "20KLMG4y_okO"
      }
    },
    {
      "cell_type": "code",
      "source": [
        "#위에서 만든 테스트 예측 가지고 rmse 계산해서 정확도 평가하기!\n",
        "accuracy.rmse(predictions)"
      ],
      "metadata": {
        "colab": {
          "base_uri": "https://localhost:8080/"
        },
        "id": "yXaSGr-m2DEL",
        "outputId": "bb58a742-a1b7-4fa0-cde4-ebfee950c0d3"
      },
      "execution_count": 10,
      "outputs": [
        {
          "output_type": "stream",
          "name": "stdout",
          "text": [
            "RMSE: 0.9467\n"
          ]
        },
        {
          "output_type": "execute_result",
          "data": {
            "text/plain": [
              "0.9466860806937948"
            ]
          },
          "metadata": {},
          "execution_count": 10
        }
      ]
    },
    {
      "cell_type": "markdown",
      "source": [
        "## Surprise 주요 모듈 소개"
      ],
      "metadata": {
        "id": "MVv5RKfEFAVf"
      }
    },
    {
      "cell_type": "markdown",
      "source": [
        "9.6 에서 사용한 데이터들 로딩!"
      ],
      "metadata": {
        "id": "2R-0gKcCGpQI"
      }
    },
    {
      "cell_type": "code",
      "source": [
        "#디렉터리 설정\n",
        "from google.colab import drive\n",
        "drive.mount('/content/gdrive/')\n",
        "\n",
        "path = \"/content/gdrive/My Drive/EuronData/\""
      ],
      "metadata": {
        "colab": {
          "base_uri": "https://localhost:8080/"
        },
        "id": "x3gcxnpGGu84",
        "outputId": "7427ddbd-0de2-41ce-f4f7-2f2c1c6bbb30"
      },
      "execution_count": 11,
      "outputs": [
        {
          "output_type": "stream",
          "name": "stdout",
          "text": [
            "Mounted at /content/gdrive/\n"
          ]
        }
      ]
    },
    {
      "cell_type": "markdown",
      "source": [
        "### OS 파일 데이터 로딩"
      ],
      "metadata": {
        "id": "9ym_4vr1Kw4x"
      }
    },
    {
      "cell_type": "code",
      "source": [
        "import pandas as pd\n",
        "\n",
        "ratings = pd.read_csv(path+'ml-latest-small/ratings.csv')\n",
        "#ratings_noh.csv 파일로 언로드 시 인덱스와 헤더를 모두 제거한 새로운 파일 생성. -> 파일 확인해보면 생성되어있음!\n",
        "ratings.to_csv(path + 'ml-latest-small/ratings_noh.csv', index=False, header=False)"
      ],
      "metadata": {
        "id": "N-LBpfjq2DBl"
      },
      "execution_count": 13,
      "outputs": []
    },
    {
      "cell_type": "code",
      "source": [
        "from surprise import Reader\n",
        "\n",
        "reader = Reader(line_format='user item rating timestamp', sep=',', rating_scale=(0.5, 5))\n",
        "#user item rating timestamp로 총 4개의 칼럼으로 구성되어있고, 분리문자는 콤마, 최소평점은 0.5, 최대는 5라고 명시함!\n",
        "#로딩시 ratings_noh.csv 파일에서 앞의 3개 칼럼만 로딩되고 timestamp는 제외됨!\n",
        "data=Dataset.load_from_file(path + 'ml-latest-small/ratings_noh.csv',reader = reader)"
      ],
      "metadata": {
        "id": "ekiu0PW02C_T"
      },
      "execution_count": 16,
      "outputs": []
    },
    {
      "cell_type": "code",
      "source": [
        "trainset, testset = train_test_split(data, test_size=.25, random_state=0)\n",
        "\n",
        "#수행시마다 동일한 결과 도출을 위해 random_state 설정\n",
        "algo = SVD(n_factors=50, random_state=0)\n",
        "\n",
        "#학습 데이터 세트로 학습하고 나서 테스트 데이터 세트로 평점 예측 후 RMSE 평가\n",
        "algo.fit(trainset)\n",
        "predictions = algo.test(testset)\n",
        "accuracy.rmse(predictions)"
      ],
      "metadata": {
        "colab": {
          "base_uri": "https://localhost:8080/"
        },
        "id": "DiIO6sum2C9S",
        "outputId": "f3f55937-7456-427d-ea58-79473cf2483b"
      },
      "execution_count": 17,
      "outputs": [
        {
          "output_type": "stream",
          "name": "stdout",
          "text": [
            "RMSE: 0.8682\n"
          ]
        },
        {
          "output_type": "execute_result",
          "data": {
            "text/plain": [
              "0.8681952927143516"
            ]
          },
          "metadata": {},
          "execution_count": 17
        }
      ]
    },
    {
      "cell_type": "markdown",
      "source": [
        "### 판다스 데이터 프레임 사용"
      ],
      "metadata": {
        "id": "v-hi_A59Kq3-"
      }
    },
    {
      "cell_type": "code",
      "source": [
        "import pandas as pd\n",
        "from surprise import Reader, Dataset\n",
        "\n",
        "#데이터를 데이터프레임으로 로딩!\n",
        "ratings = pd.read_csv(path +'ml-latest-small/ratings.csv')\n",
        "reader = Reader(rating_scale=(0.5, 5.0))\n",
        "\n",
        "#ratings DataFrame에서 칼럼은 사용자 아이디, 아이템 아이디, 평점 순서를 지켜야 합니다.\n",
        "data = Dataset.load_from_df(ratings[['userId', 'movieId', 'rating']], reader)\n",
        "trainset, testset = train_test_split(data, test_size=.25, random_state=0)\n",
        "\n",
        "algo = SVD(n_factors=50, random_state=0)\n",
        "algo.fit(trainset)\n",
        "predictions = algo.test(testset)\n",
        "accuracy.rmse(predictions)"
      ],
      "metadata": {
        "colab": {
          "base_uri": "https://localhost:8080/"
        },
        "id": "1q0f5IQq2C68",
        "outputId": "d23d3967-8760-45da-e862-ee480b456241"
      },
      "execution_count": 18,
      "outputs": [
        {
          "output_type": "stream",
          "name": "stdout",
          "text": [
            "RMSE: 0.8682\n"
          ]
        },
        {
          "output_type": "execute_result",
          "data": {
            "text/plain": [
              "0.8681952927143516"
            ]
          },
          "metadata": {},
          "execution_count": 18
        }
      ]
    },
    {
      "cell_type": "markdown",
      "source": [
        "## 교차 검증과 하이처 파라미터 튜닝"
      ],
      "metadata": {
        "id": "hVOK7bVkLkdd"
      }
    },
    {
      "cell_type": "code",
      "source": [
        "from surprise.model_selection import cross_validate\n",
        "\n",
        "#판다스 DataFrame에서 Surprise 데이터 세트로 데이터 로딩\n",
        "ratings = pd.read_csv(path + 'ml-latest-small/ratings.csv') #reading data in pandas df\n",
        "reader = Reader(rating_scale=(0.5, 5.0))\n",
        "data = Dataset.load_from_df(ratings[['userId', 'movieId', 'rating']], reader)\n",
        "\n",
        "algo = SVD(random_state=0)\n",
        "cross_validate(algo, data, measures=['RMSE', 'MAE'], cv=5, verbose=True)"
      ],
      "metadata": {
        "colab": {
          "base_uri": "https://localhost:8080/"
        },
        "id": "hCgkrpK92C47",
        "outputId": "814c41c3-0bfa-45d8-a148-985023f11836"
      },
      "execution_count": 19,
      "outputs": [
        {
          "output_type": "stream",
          "name": "stdout",
          "text": [
            "Evaluating RMSE, MAE of algorithm SVD on 5 split(s).\n",
            "\n",
            "                  Fold 1  Fold 2  Fold 3  Fold 4  Fold 5  Mean    Std     \n",
            "RMSE (testset)    0.8763  0.8796  0.8693  0.8720  0.8727  0.8740  0.0036  \n",
            "MAE (testset)     0.6711  0.6776  0.6692  0.6690  0.6708  0.6716  0.0031  \n",
            "Fit time          2.31    2.18    2.33    4.33    1.81    2.60    0.89    \n",
            "Test time         0.13    0.29    0.13    0.38    0.23    0.23    0.10    \n"
          ]
        },
        {
          "output_type": "execute_result",
          "data": {
            "text/plain": [
              "{'test_rmse': array([0.87628265, 0.8796379 , 0.86933308, 0.87201295, 0.87266801]),\n",
              " 'test_mae': array([0.67108594, 0.67759036, 0.66924026, 0.66902667, 0.67081837]),\n",
              " 'fit_time': (2.314889907836914,\n",
              "  2.1830952167510986,\n",
              "  2.334709405899048,\n",
              "  4.3340795040130615,\n",
              "  1.8098113536834717),\n",
              " 'test_time': (0.12882304191589355,\n",
              "  0.29024314880371094,\n",
              "  0.12540245056152344,\n",
              "  0.378673791885376,\n",
              "  0.232696533203125)}"
            ]
          },
          "metadata": {},
          "execution_count": 19
        }
      ]
    },
    {
      "cell_type": "markdown",
      "source": [
        "cross_validate()를 통해 폴드별 성능 평가 수치, 평균 성능 평가 수치 확인 가능.  "
      ],
      "metadata": {
        "id": "l6NzxbZCQ-j4"
      }
    },
    {
      "cell_type": "code",
      "source": [
        "from surprise.model_selection import GridSearchCV\n",
        "\n",
        "#최적화할 파라미터를 딕셔너리 형태로 지정.\n",
        "param_grid = {'n_epochs': [20, 40, 60], 'n_factors': [50, 100, 200] }\n",
        "\n",
        "#CV를 3개 폴드 세트로 지정, 성능 평가는 rmse, mae로 수행하도록 GridSearchCV 구성\n",
        "gs = GridSearchCV(SVD, param_grid, measures=['rmse', 'mae'], cv=3)\n",
        "gs.fit(data)\n",
        "\n",
        "#최고 RMSE Evaluation 점수와 그때의 하이퍼 파라미터\n",
        "print(gs.best_score['rmse'])\n",
        "print(gs.best_params['rmse'])"
      ],
      "metadata": {
        "colab": {
          "base_uri": "https://localhost:8080/"
        },
        "id": "ti8n5IiW2C2d",
        "outputId": "50d62f98-af6e-476c-8556-be9174df74c3"
      },
      "execution_count": 20,
      "outputs": [
        {
          "output_type": "stream",
          "name": "stdout",
          "text": [
            "0.8765119428687583\n",
            "{'n_epochs': 20, 'n_factors': 50}\n"
          ]
        }
      ]
    },
    {
      "cell_type": "markdown",
      "source": [
        "-> 'n_epochs': 20, 'n_factors': 50 일 때 가장 최적으로 당시 rmse가 0.8765임을 확인 가능"
      ],
      "metadata": {
        "id": "VTZhEjWMROad"
      }
    },
    {
      "cell_type": "markdown",
      "source": [
        "## Surprise를 이용한 개인화 영화 추천 시스템 구축"
      ],
      "metadata": {
        "id": "1MN6r8TRXXcn"
      }
    },
    {
      "cell_type": "code",
      "source": [
        "#다음 코드는 train_test_split()으로 분리되지 않는 데이터 세트에 fit()을 호출해 오류가 발생합니다.\n",
        "data = Dataset.load_from_df(ratings[['userId', 'movieId', 'rating']], reader)\n",
        "algo = SVD(n_factors=50, random_state=0)\n",
        "algo.fit(data)"
      ],
      "metadata": {
        "colab": {
          "base_uri": "https://localhost:8080/",
          "height": 279
        },
        "id": "YLpy1pTB2C0U",
        "outputId": "504e4b83-26ef-4b7c-e48c-1da548274d74"
      },
      "execution_count": 21,
      "outputs": [
        {
          "output_type": "error",
          "ename": "AttributeError",
          "evalue": "'DatasetAutoFolds' object has no attribute 'n_users'",
          "traceback": [
            "\u001b[0;31m---------------------------------------------------------------------------\u001b[0m",
            "\u001b[0;31mAttributeError\u001b[0m                            Traceback (most recent call last)",
            "\u001b[0;32m<ipython-input-21-74827b645491>\u001b[0m in \u001b[0;36m<cell line: 4>\u001b[0;34m()\u001b[0m\n\u001b[1;32m      2\u001b[0m \u001b[0mdata\u001b[0m \u001b[0;34m=\u001b[0m \u001b[0mDataset\u001b[0m\u001b[0;34m.\u001b[0m\u001b[0mload_from_df\u001b[0m\u001b[0;34m(\u001b[0m\u001b[0mratings\u001b[0m\u001b[0;34m[\u001b[0m\u001b[0;34m[\u001b[0m\u001b[0;34m'userId'\u001b[0m\u001b[0;34m,\u001b[0m \u001b[0;34m'movieId'\u001b[0m\u001b[0;34m,\u001b[0m \u001b[0;34m'rating'\u001b[0m\u001b[0;34m]\u001b[0m\u001b[0;34m]\u001b[0m\u001b[0;34m,\u001b[0m \u001b[0mreader\u001b[0m\u001b[0;34m)\u001b[0m\u001b[0;34m\u001b[0m\u001b[0;34m\u001b[0m\u001b[0m\n\u001b[1;32m      3\u001b[0m \u001b[0malgo\u001b[0m \u001b[0;34m=\u001b[0m \u001b[0mSVD\u001b[0m\u001b[0;34m(\u001b[0m\u001b[0mn_factors\u001b[0m\u001b[0;34m=\u001b[0m\u001b[0;36m50\u001b[0m\u001b[0;34m,\u001b[0m \u001b[0mrandom_state\u001b[0m\u001b[0;34m=\u001b[0m\u001b[0;36m0\u001b[0m\u001b[0;34m)\u001b[0m\u001b[0;34m\u001b[0m\u001b[0;34m\u001b[0m\u001b[0m\n\u001b[0;32m----> 4\u001b[0;31m \u001b[0malgo\u001b[0m\u001b[0;34m.\u001b[0m\u001b[0mfit\u001b[0m\u001b[0;34m(\u001b[0m\u001b[0mdata\u001b[0m\u001b[0;34m)\u001b[0m\u001b[0;34m\u001b[0m\u001b[0;34m\u001b[0m\u001b[0m\n\u001b[0m",
            "\u001b[0;32m/usr/local/lib/python3.10/dist-packages/surprise/prediction_algorithms/matrix_factorization.pyx\u001b[0m in \u001b[0;36msurprise.prediction_algorithms.matrix_factorization.SVD.fit\u001b[0;34m()\u001b[0m\n",
            "\u001b[0;32m/usr/local/lib/python3.10/dist-packages/surprise/prediction_algorithms/matrix_factorization.pyx\u001b[0m in \u001b[0;36msurprise.prediction_algorithms.matrix_factorization.SVD.sgd\u001b[0;34m()\u001b[0m\n",
            "\u001b[0;31mAttributeError\u001b[0m: 'DatasetAutoFolds' object has no attribute 'n_users'"
          ]
        }
      ]
    },
    {
      "cell_type": "markdown",
      "source": [
        "DatasetAutoFolds 클래스로 데이터 전체를 학습 데이터로 이용  \n"
      ],
      "metadata": {
        "id": "JvE_wrIZTtG-"
      }
    },
    {
      "cell_type": "code",
      "source": [
        "from surprise.dataset import DatasetAutoFolds\n",
        "\n",
        "reader = Reader(line_format='user item rating timestamp', sep=',', rating_scale=(0.5, 5))\n",
        "#DatasetAutoFolds 클래스를 ratings_noh.csv 파일 기반으로 생성.\n",
        "data_folds = DatasetAutoFolds(ratings_file=path + 'ml-latest-small/ratings_noh.csv', reader=reader)\n",
        "\n",
        "#전체 데이터를 학습데이터로 생성함.\n",
        "trainset = data_folds.build_full_trainset()"
      ],
      "metadata": {
        "id": "-a3Q-Q9g2Cvt"
      },
      "execution_count": 22,
      "outputs": []
    },
    {
      "cell_type": "markdown",
      "source": [
        "위에서 생성한 학습 데이터 기반으로 SVD 학습 진행"
      ],
      "metadata": {
        "id": "WphvDm_MUO97"
      }
    },
    {
      "cell_type": "code",
      "source": [
        "algo = SVD(n_epochs=20, n_factors=50, random_state=0)\n",
        "algo.fit(trainset)"
      ],
      "metadata": {
        "colab": {
          "base_uri": "https://localhost:8080/"
        },
        "id": "TVSvd5OW2Cto",
        "outputId": "455b8cc7-a3f2-438a-af53-dc649178ac7a"
      },
      "execution_count": 23,
      "outputs": [
        {
          "output_type": "execute_result",
          "data": {
            "text/plain": [
              "<surprise.prediction_algorithms.matrix_factorization.SVD at 0x7d180eaf2d10>"
            ]
          },
          "metadata": {},
          "execution_count": 23
        }
      ]
    },
    {
      "cell_type": "markdown",
      "source": [
        "특정 사용자(userid = 9인 사용자)를 지정해서 해당 사용자가 영화 42에 대한 평점을 아직 매기지 않았는지 확인 후 평점 예측 진행"
      ],
      "metadata": {
        "id": "j8kggUm9UYcI"
      }
    },
    {
      "cell_type": "code",
      "source": [
        "#영화에 대한 상세 속성 정보 DataFrame로딩\n",
        "movies = pd.read_csv(path + 'ml-latest-small/movies.csv')\n",
        "\n",
        "#userId=9 의 movieId 데이터 추출하여 movieId=42 데이터가 있는지 확인.\n",
        "movieIds = ratings[ratings['userId']==9]['movieId']\n",
        "if movieIds[movieIds==42].count() == 0:\n",
        "    print('사용자 아이디 9는 영화 아이디 42의 평점 없음')\n",
        "\n",
        "print(movies[movies['movieId']==42])"
      ],
      "metadata": {
        "colab": {
          "base_uri": "https://localhost:8080/"
        },
        "id": "KIGlgl982oRD",
        "outputId": "757f4fb3-6d4a-4c1a-cd01-536feb431035"
      },
      "execution_count": 24,
      "outputs": [
        {
          "output_type": "stream",
          "name": "stdout",
          "text": [
            "사용자 아이디 9는 영화 아이디 42의 평점 없음\n",
            "    movieId                   title              genres\n",
            "38       42  Dead Presidents (1995)  Action|Crime|Drama\n"
          ]
        }
      ]
    },
    {
      "cell_type": "markdown",
      "source": [
        "영화 아이디 42에 대한 정보(제목, 장르) 확인 가능."
      ],
      "metadata": {
        "id": "2_CQVULHUsOj"
      }
    },
    {
      "cell_type": "code",
      "source": [
        "uid = str(9)\n",
        "iid = str(42)\n",
        "\n",
        "pred = algo.predict(uid, iid, verbose=True)"
      ],
      "metadata": {
        "colab": {
          "base_uri": "https://localhost:8080/"
        },
        "id": "lez6Q4zu2ovA",
        "outputId": "e3da892d-33eb-43db-e6c9-58bfc37847c3"
      },
      "execution_count": 25,
      "outputs": [
        {
          "output_type": "stream",
          "name": "stdout",
          "text": [
            "user: 9          item: 42         r_ui = None   est = 3.13   {'was_impossible': False}\n"
          ]
        }
      ]
    },
    {
      "cell_type": "markdown",
      "source": [
        "9번 사용자는 42번 영화에 대해 평점을 남기지 않았고 아마도 평점을 3.13으로 남길 것이고 그 평점을 예측 가능하다."
      ],
      "metadata": {
        "id": "ImIbe5yPUziB"
      }
    },
    {
      "cell_type": "markdown",
      "source": [
        "get_unseen_surprise() 함수를 생성해서, 인자로 들어온 사용자 아이디의 사용자가 평점을 남기지 않은 영화 return."
      ],
      "metadata": {
        "id": "woVPtys4VjcR"
      }
    },
    {
      "cell_type": "code",
      "source": [
        "def get_unseen_surprise(ratings, movies, userId):\n",
        "    #입력값으로 들어온 userId에 해당하는 사용자가 평점을 매긴 모든 영화를 리스트로 생성\n",
        "    seen_movies = ratings[ratings['userId']== userId]['movieId'].tolist()\n",
        "\n",
        "    # 모든 영화들의 movieId를 리스트로 생성.\n",
        "    total_movies = movies['movieId'].tolist()\n",
        "\n",
        "    # 모든 영화들의 movieId중 이미 평점을 매긴 영화의 movieId를 제외하여 리스트로 생성\n",
        "    unseen_movies= [movie for movie in total_movies if movie not in seen_movies]\n",
        "    print('평점 매긴 영화수:',len(seen_movies), '추천대상 영화수:',len(unseen_movies), '전체 영화수:',len(total_movies))\n",
        "\n",
        "    return unseen_movies\n",
        "\n",
        "unseen_movies = get_unseen_surprise(ratings, movies, 9)"
      ],
      "metadata": {
        "colab": {
          "base_uri": "https://localhost:8080/"
        },
        "id": "hg6lU5Wr2ozH",
        "outputId": "308e21e9-3f14-401f-9127-8e3997533987"
      },
      "execution_count": 26,
      "outputs": [
        {
          "output_type": "stream",
          "name": "stdout",
          "text": [
            "평점 매긴 영화수: 46 추천대상 영화수: 9696 전체 영화수: 9742\n"
          ]
        }
      ]
    },
    {
      "cell_type": "markdown",
      "source": [
        "recomm_movie_by_surprise(algo, userId, unseen_movies, top_n=10) 함수를 생성,  \n",
        "-> 추천 영화 대상으로 추천 알고리즘 객체의 predict() 이용, 저장된 리스트 내부의 prediction을 리스트로 저장, 그 후 예측 평점이 높은 top-n개의 영화 아이디, 영화 제목, 예측 평점을 반환."
      ],
      "metadata": {
        "id": "OrfIzX4fW6E6"
      }
    },
    {
      "cell_type": "code",
      "source": [
        "def recomm_movie_by_surprise(algo, userId, unseen_movies, top_n=10):\n",
        "    #알고리즘 객체의 predict() 메서드를 평점이 없는 영화에 반복 수행한 후 결과를 list 객체로 저장\n",
        "    predictions = [algo.predict(str(userId), str(movieId)) for movieId in unseen_movies]\n",
        "\n",
        "    #predictions list 객체는 surprise의 Predictions 객체를 원소로 가지고 있음.\n",
        "    #[Prediction(uid='9', iid='1', est=3.69), Prediction(uid='9', iid='2', est=2.98),,,]\n",
        "    #이를 est 값으로 정렬하기 위해서 아래의 sortkey_est 함수를 정의함.\n",
        "    #sortkey_est 함수는 list 객체의 sort() 함수의 키 값으로 사용되어 정렬 수행.\n",
        "    def sortkey_est(pred):\n",
        "        return pred.est\n",
        "\n",
        "    #sortkey_est() 반환값의 내림 차순으로 정렬 수행하고 top_n개의 최상위 값 추출.\n",
        "    predictions.sort(key=sortkey_est, reverse=True)\n",
        "    top_predictions= predictions[:top_n]\n",
        "\n",
        "    #top_n으로 추출된 영화의 정보 추출. 영화 아이디, 추천 예상 평점, 제목 추출\n",
        "    top_movie_ids = [ int(pred.iid) for pred in top_predictions]\n",
        "    top_movie_rating = [ pred.est for pred in top_predictions]\n",
        "    top_movie_titles = movies[movies.movieId.isin(top_movie_ids)]['title']\n",
        "    top_movie_preds = [ (id, title, rating) for id, title, rating in zip(top_movie_ids, top_movie_titles, top_movie_rating)]\n",
        "\n",
        "    return top_movie_preds\n",
        "\n",
        "unseen_movies = get_unseen_surprise(ratings, movies, 9)\n",
        "top_movie_preds = recomm_movie_by_surprise(algo, 9, unseen_movies, top_n=10)\n",
        "print('##### Top-10 추천 영화 리스트 #####')\n",
        "\n",
        "for top_movie in top_movie_preds:\n",
        "    print(top_movie[1], \":\", top_movie[2])"
      ],
      "metadata": {
        "colab": {
          "base_uri": "https://localhost:8080/"
        },
        "id": "gz4214Qn2o4v",
        "outputId": "416adb2f-fe89-4210-ed27-eca1c643b351"
      },
      "execution_count": 27,
      "outputs": [
        {
          "output_type": "stream",
          "name": "stdout",
          "text": [
            "평점 매긴 영화수: 46 추천대상 영화수: 9696 전체 영화수: 9742\n",
            "##### Top-10 추천 영화 리스트 #####\n",
            "Usual Suspects, The (1995) : 4.306302135700814\n",
            "Star Wars: Episode IV - A New Hope (1977) : 4.281663842987387\n",
            "Pulp Fiction (1994) : 4.278152632122759\n",
            "Silence of the Lambs, The (1991) : 4.226073566460876\n",
            "Godfather, The (1972) : 4.1918097904381995\n",
            "Streetcar Named Desire, A (1951) : 4.154746591122657\n",
            "Star Wars: Episode V - The Empire Strikes Back (1980) : 4.122016128534504\n",
            "Star Wars: Episode VI - Return of the Jedi (1983) : 4.108009609093436\n",
            "Goodfellas (1990) : 4.083464936588478\n",
            "Glory (1989) : 4.07887165526957\n"
          ]
        }
      ]
    },
    {
      "cell_type": "code",
      "source": [],
      "metadata": {
        "id": "mYcvd4Zs2o8K"
      },
      "execution_count": null,
      "outputs": []
    }
  ]
}