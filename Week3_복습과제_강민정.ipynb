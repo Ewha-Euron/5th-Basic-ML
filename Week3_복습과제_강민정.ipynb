{
  "nbformat": 4,
  "nbformat_minor": 0,
  "metadata": {
    "colab": {
      "provenance": [],
      "collapsed_sections": [
        "D52196vv7JoI"
      ]
    },
    "kernelspec": {
      "name": "python3",
      "display_name": "Python 3"
    },
    "language_info": {
      "name": "python"
    }
  },
  "cells": [
    {
      "cell_type": "markdown",
      "source": [
        "# **1. GBM**\n"
      ],
      "metadata": {
        "id": "oW4LpW9lRj3n"
      }
    },
    {
      "cell_type": "markdown",
      "source": [
        "## **1-a. `creditcard.csv`를 다운받은 후 실습을 진행해 주세요.**\n",
        "- 데이터 출처: [Credit Card Fraud Detection](https://www.kaggle.com/datasets/mlg-ulb/creditcardfraud)"
      ],
      "metadata": {
        "id": "s3_1vAdpRxoo"
      }
    },
    {
      "cell_type": "code",
      "source": [
        "## Colab - 구글 드라이브 마운트\n",
        "# Colab을 사용하시는 분들만 실행시켜 주시면 됩니다.\n",
        "\n",
        "from google.colab import drive\n",
        "drive.mount('/content/drive')"
      ],
      "metadata": {
        "id": "3vR5gQ4HYGAX",
        "colab": {
          "base_uri": "https://localhost:8080/"
        },
        "outputId": "4d66ea85-9573-4b13-d085-ac486cd69787"
      },
      "execution_count": 33,
      "outputs": [
        {
          "output_type": "stream",
          "name": "stdout",
          "text": [
            "Drive already mounted at /content/drive; to attempt to forcibly remount, call drive.mount(\"/content/drive\", force_remount=True).\n"
          ]
        }
      ]
    },
    {
      "cell_type": "code",
      "source": [
        "import pandas as pd\n",
        "df = pd.read_csv(\"/content/drive/MyDrive/creditcard.csv\")"
      ],
      "metadata": {
        "id": "lkOKaEKZG2Yn"
      },
      "execution_count": 34,
      "outputs": []
    },
    {
      "cell_type": "markdown",
      "source": [
        "## **1-b. GradientBoostingClassifier을 이용하여 훈련 데이터를 fit한 후, GBM 정확도와 수행시간을 구하세요.**\n",
        "(test_size = 0.2, random_state = 42)"
      ],
      "metadata": {
        "id": "2_tC0W-5Ryje"
      }
    },
    {
      "cell_type": "code",
      "source": [
        "from sklearn.ensemble import GradientBoostingClassifier\n",
        "from sklearn.metrics import accuracy_score\n",
        "from sklearn.model_selection import train_test_split\n",
        "import time\n",
        "import warnings\n",
        "warnings.filterwarnings('ignore')"
      ],
      "metadata": {
        "id": "7zBOFln9ZENb"
      },
      "execution_count": 35,
      "outputs": []
    },
    {
      "cell_type": "code",
      "source": [
        "## 데이터 분할: 훈련 데이터와 테스트 데이터\n",
        "\n",
        "X = df.drop('Class', axis=1)\n",
        "y = df['Class']\n",
        "X_train, X_test, y_train, y_test = train_test_split(X, y, test_size = 0.2, random_state = 42)\n",
        "\n",
        "## GBM 모델링\n",
        "# 아래에 코드를 작성해 주세요.\n",
        "start_time=time.time()\n",
        "\n",
        "gb_clf = GradientBoostingClassifier()\n",
        "gb_clf.fit(X_train,y_train)\n",
        "gb_pred = gb_clf.predict(X_test)\n",
        "gb_accuracy = accuracy_score(y_test, gb_pred)\n",
        "print('GBM 정확도: {0:.4f}'.format(gb_accuracy))"
      ],
      "metadata": {
        "colab": {
          "base_uri": "https://localhost:8080/"
        },
        "id": "967Hgk2YZXfa",
        "outputId": "8f893997-02a4-4322-cfb0-7d26cedd0779"
      },
      "execution_count": 36,
      "outputs": [
        {
          "output_type": "stream",
          "name": "stdout",
          "text": [
            "GBM 정확도: 0.9989\n"
          ]
        }
      ]
    },
    {
      "cell_type": "markdown",
      "source": [
        "## **1-b(2). GBM으로 학습하는 시간이 얼마나 걸리는지 수행 시간을 출력해 주세요.**"
      ],
      "metadata": {
        "id": "0_npf7xNR1BZ"
      }
    },
    {
      "cell_type": "code",
      "source": [
        "print('GBM 수행 시간: {0:.1f}'.format(time.time() - start_time))"
      ],
      "metadata": {
        "colab": {
          "base_uri": "https://localhost:8080/"
        },
        "id": "FdMUSczWa8_A",
        "outputId": "833e1078-5829-4516-f379-673788546335"
      },
      "execution_count": 37,
      "outputs": [
        {
          "output_type": "stream",
          "name": "stdout",
          "text": [
            "GBM 수행 시간: 463.2\n"
          ]
        }
      ]
    },
    {
      "cell_type": "markdown",
      "source": [
        "## **1-c. ```subsample``` 파라미터를 설정하여 gbm 모델을 학습시키고 학습 시간을 비교해 보세요.**  \n",
        "(subsample = 0.8)"
      ],
      "metadata": {
        "id": "xqzN9Hy8TaOk"
      }
    },
    {
      "cell_type": "code",
      "source": [
        "from sklearn.ensemble import GradientBoostingClassifier\n",
        "from sklearn.metrics import accuracy_score\n",
        "from sklearn.model_selection import train_test_split\n",
        "import time\n",
        "import warnings\n",
        "warnings.filterwarnings('ignore')"
      ],
      "metadata": {
        "id": "FxWwRW_7TbT0"
      },
      "execution_count": 38,
      "outputs": []
    },
    {
      "cell_type": "code",
      "source": [
        "start_time=time.time()\n",
        "gb_clf = GradientBoostingClassifier(subsample = 0.8)\n",
        "gb_clf.fit(X_train,y_train)\n",
        "gb_pred = gb_clf.predict(X_test)\n",
        "gb_accuracy = accuracy_score(y_test, gb_pred)\n",
        "print('GBM(subsample=0.8) 정확도: {}'.format(gb_accuracy))\n",
        "print('GBM(subsample=0.8) 수행 시간: {0:.1f}'.format(time.time()-start_time))"
      ],
      "metadata": {
        "colab": {
          "base_uri": "https://localhost:8080/"
        },
        "id": "4HAD9Ebsgte4",
        "outputId": "ae6f982d-6fc5-4f0c-c5de-ae41a501627e"
      },
      "execution_count": 39,
      "outputs": [
        {
          "output_type": "stream",
          "name": "stdout",
          "text": [
            "GBM(subsample=0.8) 정확도: 0.9992626663389628\n",
            "GBM(subsample=0.8) 수행 시간: 362.3\n"
          ]
        }
      ]
    },
    {
      "cell_type": "markdown",
      "source": [
        "# **2. XGBoost**"
      ],
      "metadata": {
        "id": "D52196vv7JoI"
      }
    },
    {
      "cell_type": "markdown",
      "source": [
        "- 모델 : Python Wrapper XGBoost\n",
        "- 적용 데이터 : 위스콘신 유방암 데이터"
      ],
      "metadata": {
        "id": "koZCKhp8HW4o"
      }
    },
    {
      "cell_type": "code",
      "source": [
        "import xgboost\n",
        "\n",
        "print(xgboost.__version__)"
      ],
      "metadata": {
        "id": "ECMkbXJ-7KT6",
        "colab": {
          "base_uri": "https://localhost:8080/"
        },
        "outputId": "969b84eb-d75d-4daa-ce36-07aeabb37129"
      },
      "execution_count": 40,
      "outputs": [
        {
          "output_type": "stream",
          "name": "stdout",
          "text": [
            "1.7.6\n"
          ]
        }
      ]
    },
    {
      "cell_type": "markdown",
      "source": [
        "- 출력 : 1.7.3"
      ],
      "metadata": {
        "id": "5kFl0zeC7tQR"
      }
    },
    {
      "cell_type": "code",
      "source": [
        "import xgboost as xgb\n",
        "from xgboost import plot_importance\n",
        "\n",
        "import pandas as pd\n",
        "import numpy as np\n",
        "\n",
        "from sklearn.datasets import load_breast_cancer\n",
        "from sklearn.model_selection import train_test_split\n",
        "\n",
        "import warnings\n",
        "warnings.filterwarnings('ignore')"
      ],
      "metadata": {
        "id": "fHDjuv_V7vAf"
      },
      "execution_count": 41,
      "outputs": []
    },
    {
      "cell_type": "markdown",
      "source": [
        "##**2-a. cancer_df의 shape을 프린트하고, 상위 5개 행을 확인해 주세요.**"
      ],
      "metadata": {
        "id": "L11sPCSZ74oH"
      }
    },
    {
      "cell_type": "code",
      "source": [
        "dataset = load_breast_cancer()\n",
        "X_features = dataset.data\n",
        "y_label = dataset.target\n",
        "\n",
        "cancer_df = pd.DataFrame(data = X_features, columns = dataset.feature_names)\n",
        "cancer_df['target'] = y_label"
      ],
      "metadata": {
        "id": "4wBOlQxn72Te"
      },
      "execution_count": 42,
      "outputs": []
    },
    {
      "cell_type": "code",
      "source": [
        "print(cancer_df.shape)\n",
        "cancer_df.head()"
      ],
      "metadata": {
        "id": "cMfEC-nZ8HH-",
        "colab": {
          "base_uri": "https://localhost:8080/",
          "height": 308
        },
        "outputId": "70e6c921-c9da-435f-9ef5-61fbaca760b8"
      },
      "execution_count": 43,
      "outputs": [
        {
          "output_type": "stream",
          "name": "stdout",
          "text": [
            "(569, 31)\n"
          ]
        },
        {
          "output_type": "execute_result",
          "data": {
            "text/plain": [
              "   mean radius  mean texture  mean perimeter  mean area  mean smoothness  \\\n",
              "0        17.99         10.38          122.80     1001.0          0.11840   \n",
              "1        20.57         17.77          132.90     1326.0          0.08474   \n",
              "2        19.69         21.25          130.00     1203.0          0.10960   \n",
              "3        11.42         20.38           77.58      386.1          0.14250   \n",
              "4        20.29         14.34          135.10     1297.0          0.10030   \n",
              "\n",
              "   mean compactness  mean concavity  mean concave points  mean symmetry  \\\n",
              "0           0.27760          0.3001              0.14710         0.2419   \n",
              "1           0.07864          0.0869              0.07017         0.1812   \n",
              "2           0.15990          0.1974              0.12790         0.2069   \n",
              "3           0.28390          0.2414              0.10520         0.2597   \n",
              "4           0.13280          0.1980              0.10430         0.1809   \n",
              "\n",
              "   mean fractal dimension  ...  worst texture  worst perimeter  worst area  \\\n",
              "0                 0.07871  ...          17.33           184.60      2019.0   \n",
              "1                 0.05667  ...          23.41           158.80      1956.0   \n",
              "2                 0.05999  ...          25.53           152.50      1709.0   \n",
              "3                 0.09744  ...          26.50            98.87       567.7   \n",
              "4                 0.05883  ...          16.67           152.20      1575.0   \n",
              "\n",
              "   worst smoothness  worst compactness  worst concavity  worst concave points  \\\n",
              "0            0.1622             0.6656           0.7119                0.2654   \n",
              "1            0.1238             0.1866           0.2416                0.1860   \n",
              "2            0.1444             0.4245           0.4504                0.2430   \n",
              "3            0.2098             0.8663           0.6869                0.2575   \n",
              "4            0.1374             0.2050           0.4000                0.1625   \n",
              "\n",
              "   worst symmetry  worst fractal dimension  target  \n",
              "0          0.4601                  0.11890       0  \n",
              "1          0.2750                  0.08902       0  \n",
              "2          0.3613                  0.08758       0  \n",
              "3          0.6638                  0.17300       0  \n",
              "4          0.2364                  0.07678       0  \n",
              "\n",
              "[5 rows x 31 columns]"
            ],
            "text/html": [
              "\n",
              "  <div id=\"df-b2f22aa8-1036-480c-a901-4d8f54acf47a\" class=\"colab-df-container\">\n",
              "    <div>\n",
              "<style scoped>\n",
              "    .dataframe tbody tr th:only-of-type {\n",
              "        vertical-align: middle;\n",
              "    }\n",
              "\n",
              "    .dataframe tbody tr th {\n",
              "        vertical-align: top;\n",
              "    }\n",
              "\n",
              "    .dataframe thead th {\n",
              "        text-align: right;\n",
              "    }\n",
              "</style>\n",
              "<table border=\"1\" class=\"dataframe\">\n",
              "  <thead>\n",
              "    <tr style=\"text-align: right;\">\n",
              "      <th></th>\n",
              "      <th>mean radius</th>\n",
              "      <th>mean texture</th>\n",
              "      <th>mean perimeter</th>\n",
              "      <th>mean area</th>\n",
              "      <th>mean smoothness</th>\n",
              "      <th>mean compactness</th>\n",
              "      <th>mean concavity</th>\n",
              "      <th>mean concave points</th>\n",
              "      <th>mean symmetry</th>\n",
              "      <th>mean fractal dimension</th>\n",
              "      <th>...</th>\n",
              "      <th>worst texture</th>\n",
              "      <th>worst perimeter</th>\n",
              "      <th>worst area</th>\n",
              "      <th>worst smoothness</th>\n",
              "      <th>worst compactness</th>\n",
              "      <th>worst concavity</th>\n",
              "      <th>worst concave points</th>\n",
              "      <th>worst symmetry</th>\n",
              "      <th>worst fractal dimension</th>\n",
              "      <th>target</th>\n",
              "    </tr>\n",
              "  </thead>\n",
              "  <tbody>\n",
              "    <tr>\n",
              "      <th>0</th>\n",
              "      <td>17.99</td>\n",
              "      <td>10.38</td>\n",
              "      <td>122.80</td>\n",
              "      <td>1001.0</td>\n",
              "      <td>0.11840</td>\n",
              "      <td>0.27760</td>\n",
              "      <td>0.3001</td>\n",
              "      <td>0.14710</td>\n",
              "      <td>0.2419</td>\n",
              "      <td>0.07871</td>\n",
              "      <td>...</td>\n",
              "      <td>17.33</td>\n",
              "      <td>184.60</td>\n",
              "      <td>2019.0</td>\n",
              "      <td>0.1622</td>\n",
              "      <td>0.6656</td>\n",
              "      <td>0.7119</td>\n",
              "      <td>0.2654</td>\n",
              "      <td>0.4601</td>\n",
              "      <td>0.11890</td>\n",
              "      <td>0</td>\n",
              "    </tr>\n",
              "    <tr>\n",
              "      <th>1</th>\n",
              "      <td>20.57</td>\n",
              "      <td>17.77</td>\n",
              "      <td>132.90</td>\n",
              "      <td>1326.0</td>\n",
              "      <td>0.08474</td>\n",
              "      <td>0.07864</td>\n",
              "      <td>0.0869</td>\n",
              "      <td>0.07017</td>\n",
              "      <td>0.1812</td>\n",
              "      <td>0.05667</td>\n",
              "      <td>...</td>\n",
              "      <td>23.41</td>\n",
              "      <td>158.80</td>\n",
              "      <td>1956.0</td>\n",
              "      <td>0.1238</td>\n",
              "      <td>0.1866</td>\n",
              "      <td>0.2416</td>\n",
              "      <td>0.1860</td>\n",
              "      <td>0.2750</td>\n",
              "      <td>0.08902</td>\n",
              "      <td>0</td>\n",
              "    </tr>\n",
              "    <tr>\n",
              "      <th>2</th>\n",
              "      <td>19.69</td>\n",
              "      <td>21.25</td>\n",
              "      <td>130.00</td>\n",
              "      <td>1203.0</td>\n",
              "      <td>0.10960</td>\n",
              "      <td>0.15990</td>\n",
              "      <td>0.1974</td>\n",
              "      <td>0.12790</td>\n",
              "      <td>0.2069</td>\n",
              "      <td>0.05999</td>\n",
              "      <td>...</td>\n",
              "      <td>25.53</td>\n",
              "      <td>152.50</td>\n",
              "      <td>1709.0</td>\n",
              "      <td>0.1444</td>\n",
              "      <td>0.4245</td>\n",
              "      <td>0.4504</td>\n",
              "      <td>0.2430</td>\n",
              "      <td>0.3613</td>\n",
              "      <td>0.08758</td>\n",
              "      <td>0</td>\n",
              "    </tr>\n",
              "    <tr>\n",
              "      <th>3</th>\n",
              "      <td>11.42</td>\n",
              "      <td>20.38</td>\n",
              "      <td>77.58</td>\n",
              "      <td>386.1</td>\n",
              "      <td>0.14250</td>\n",
              "      <td>0.28390</td>\n",
              "      <td>0.2414</td>\n",
              "      <td>0.10520</td>\n",
              "      <td>0.2597</td>\n",
              "      <td>0.09744</td>\n",
              "      <td>...</td>\n",
              "      <td>26.50</td>\n",
              "      <td>98.87</td>\n",
              "      <td>567.7</td>\n",
              "      <td>0.2098</td>\n",
              "      <td>0.8663</td>\n",
              "      <td>0.6869</td>\n",
              "      <td>0.2575</td>\n",
              "      <td>0.6638</td>\n",
              "      <td>0.17300</td>\n",
              "      <td>0</td>\n",
              "    </tr>\n",
              "    <tr>\n",
              "      <th>4</th>\n",
              "      <td>20.29</td>\n",
              "      <td>14.34</td>\n",
              "      <td>135.10</td>\n",
              "      <td>1297.0</td>\n",
              "      <td>0.10030</td>\n",
              "      <td>0.13280</td>\n",
              "      <td>0.1980</td>\n",
              "      <td>0.10430</td>\n",
              "      <td>0.1809</td>\n",
              "      <td>0.05883</td>\n",
              "      <td>...</td>\n",
              "      <td>16.67</td>\n",
              "      <td>152.20</td>\n",
              "      <td>1575.0</td>\n",
              "      <td>0.1374</td>\n",
              "      <td>0.2050</td>\n",
              "      <td>0.4000</td>\n",
              "      <td>0.1625</td>\n",
              "      <td>0.2364</td>\n",
              "      <td>0.07678</td>\n",
              "      <td>0</td>\n",
              "    </tr>\n",
              "  </tbody>\n",
              "</table>\n",
              "<p>5 rows × 31 columns</p>\n",
              "</div>\n",
              "    <div class=\"colab-df-buttons\">\n",
              "\n",
              "  <div class=\"colab-df-container\">\n",
              "    <button class=\"colab-df-convert\" onclick=\"convertToInteractive('df-b2f22aa8-1036-480c-a901-4d8f54acf47a')\"\n",
              "            title=\"Convert this dataframe to an interactive table.\"\n",
              "            style=\"display:none;\">\n",
              "\n",
              "  <svg xmlns=\"http://www.w3.org/2000/svg\" height=\"24px\" viewBox=\"0 -960 960 960\">\n",
              "    <path d=\"M120-120v-720h720v720H120Zm60-500h600v-160H180v160Zm220 220h160v-160H400v160Zm0 220h160v-160H400v160ZM180-400h160v-160H180v160Zm440 0h160v-160H620v160ZM180-180h160v-160H180v160Zm440 0h160v-160H620v160Z\"/>\n",
              "  </svg>\n",
              "    </button>\n",
              "\n",
              "  <style>\n",
              "    .colab-df-container {\n",
              "      display:flex;\n",
              "      gap: 12px;\n",
              "    }\n",
              "\n",
              "    .colab-df-convert {\n",
              "      background-color: #E8F0FE;\n",
              "      border: none;\n",
              "      border-radius: 50%;\n",
              "      cursor: pointer;\n",
              "      display: none;\n",
              "      fill: #1967D2;\n",
              "      height: 32px;\n",
              "      padding: 0 0 0 0;\n",
              "      width: 32px;\n",
              "    }\n",
              "\n",
              "    .colab-df-convert:hover {\n",
              "      background-color: #E2EBFA;\n",
              "      box-shadow: 0px 1px 2px rgba(60, 64, 67, 0.3), 0px 1px 3px 1px rgba(60, 64, 67, 0.15);\n",
              "      fill: #174EA6;\n",
              "    }\n",
              "\n",
              "    .colab-df-buttons div {\n",
              "      margin-bottom: 4px;\n",
              "    }\n",
              "\n",
              "    [theme=dark] .colab-df-convert {\n",
              "      background-color: #3B4455;\n",
              "      fill: #D2E3FC;\n",
              "    }\n",
              "\n",
              "    [theme=dark] .colab-df-convert:hover {\n",
              "      background-color: #434B5C;\n",
              "      box-shadow: 0px 1px 3px 1px rgba(0, 0, 0, 0.15);\n",
              "      filter: drop-shadow(0px 1px 2px rgba(0, 0, 0, 0.3));\n",
              "      fill: #FFFFFF;\n",
              "    }\n",
              "  </style>\n",
              "\n",
              "    <script>\n",
              "      const buttonEl =\n",
              "        document.querySelector('#df-b2f22aa8-1036-480c-a901-4d8f54acf47a button.colab-df-convert');\n",
              "      buttonEl.style.display =\n",
              "        google.colab.kernel.accessAllowed ? 'block' : 'none';\n",
              "\n",
              "      async function convertToInteractive(key) {\n",
              "        const element = document.querySelector('#df-b2f22aa8-1036-480c-a901-4d8f54acf47a');\n",
              "        const dataTable =\n",
              "          await google.colab.kernel.invokeFunction('convertToInteractive',\n",
              "                                                    [key], {});\n",
              "        if (!dataTable) return;\n",
              "\n",
              "        const docLinkHtml = 'Like what you see? Visit the ' +\n",
              "          '<a target=\"_blank\" href=https://colab.research.google.com/notebooks/data_table.ipynb>data table notebook</a>'\n",
              "          + ' to learn more about interactive tables.';\n",
              "        element.innerHTML = '';\n",
              "        dataTable['output_type'] = 'display_data';\n",
              "        await google.colab.output.renderOutput(dataTable, element);\n",
              "        const docLink = document.createElement('div');\n",
              "        docLink.innerHTML = docLinkHtml;\n",
              "        element.appendChild(docLink);\n",
              "      }\n",
              "    </script>\n",
              "  </div>\n",
              "\n",
              "\n",
              "<div id=\"df-7302d919-f28b-4ca9-96b8-6045af0110bc\">\n",
              "  <button class=\"colab-df-quickchart\" onclick=\"quickchart('df-7302d919-f28b-4ca9-96b8-6045af0110bc')\"\n",
              "            title=\"Suggest charts.\"\n",
              "            style=\"display:none;\">\n",
              "\n",
              "<svg xmlns=\"http://www.w3.org/2000/svg\" height=\"24px\"viewBox=\"0 0 24 24\"\n",
              "     width=\"24px\">\n",
              "    <g>\n",
              "        <path d=\"M19 3H5c-1.1 0-2 .9-2 2v14c0 1.1.9 2 2 2h14c1.1 0 2-.9 2-2V5c0-1.1-.9-2-2-2zM9 17H7v-7h2v7zm4 0h-2V7h2v10zm4 0h-2v-4h2v4z\"/>\n",
              "    </g>\n",
              "</svg>\n",
              "  </button>\n",
              "\n",
              "<style>\n",
              "  .colab-df-quickchart {\n",
              "      --bg-color: #E8F0FE;\n",
              "      --fill-color: #1967D2;\n",
              "      --hover-bg-color: #E2EBFA;\n",
              "      --hover-fill-color: #174EA6;\n",
              "      --disabled-fill-color: #AAA;\n",
              "      --disabled-bg-color: #DDD;\n",
              "  }\n",
              "\n",
              "  [theme=dark] .colab-df-quickchart {\n",
              "      --bg-color: #3B4455;\n",
              "      --fill-color: #D2E3FC;\n",
              "      --hover-bg-color: #434B5C;\n",
              "      --hover-fill-color: #FFFFFF;\n",
              "      --disabled-bg-color: #3B4455;\n",
              "      --disabled-fill-color: #666;\n",
              "  }\n",
              "\n",
              "  .colab-df-quickchart {\n",
              "    background-color: var(--bg-color);\n",
              "    border: none;\n",
              "    border-radius: 50%;\n",
              "    cursor: pointer;\n",
              "    display: none;\n",
              "    fill: var(--fill-color);\n",
              "    height: 32px;\n",
              "    padding: 0;\n",
              "    width: 32px;\n",
              "  }\n",
              "\n",
              "  .colab-df-quickchart:hover {\n",
              "    background-color: var(--hover-bg-color);\n",
              "    box-shadow: 0 1px 2px rgba(60, 64, 67, 0.3), 0 1px 3px 1px rgba(60, 64, 67, 0.15);\n",
              "    fill: var(--button-hover-fill-color);\n",
              "  }\n",
              "\n",
              "  .colab-df-quickchart-complete:disabled,\n",
              "  .colab-df-quickchart-complete:disabled:hover {\n",
              "    background-color: var(--disabled-bg-color);\n",
              "    fill: var(--disabled-fill-color);\n",
              "    box-shadow: none;\n",
              "  }\n",
              "\n",
              "  .colab-df-spinner {\n",
              "    border: 2px solid var(--fill-color);\n",
              "    border-color: transparent;\n",
              "    border-bottom-color: var(--fill-color);\n",
              "    animation:\n",
              "      spin 1s steps(1) infinite;\n",
              "  }\n",
              "\n",
              "  @keyframes spin {\n",
              "    0% {\n",
              "      border-color: transparent;\n",
              "      border-bottom-color: var(--fill-color);\n",
              "      border-left-color: var(--fill-color);\n",
              "    }\n",
              "    20% {\n",
              "      border-color: transparent;\n",
              "      border-left-color: var(--fill-color);\n",
              "      border-top-color: var(--fill-color);\n",
              "    }\n",
              "    30% {\n",
              "      border-color: transparent;\n",
              "      border-left-color: var(--fill-color);\n",
              "      border-top-color: var(--fill-color);\n",
              "      border-right-color: var(--fill-color);\n",
              "    }\n",
              "    40% {\n",
              "      border-color: transparent;\n",
              "      border-right-color: var(--fill-color);\n",
              "      border-top-color: var(--fill-color);\n",
              "    }\n",
              "    60% {\n",
              "      border-color: transparent;\n",
              "      border-right-color: var(--fill-color);\n",
              "    }\n",
              "    80% {\n",
              "      border-color: transparent;\n",
              "      border-right-color: var(--fill-color);\n",
              "      border-bottom-color: var(--fill-color);\n",
              "    }\n",
              "    90% {\n",
              "      border-color: transparent;\n",
              "      border-bottom-color: var(--fill-color);\n",
              "    }\n",
              "  }\n",
              "</style>\n",
              "\n",
              "  <script>\n",
              "    async function quickchart(key) {\n",
              "      const quickchartButtonEl =\n",
              "        document.querySelector('#' + key + ' button');\n",
              "      quickchartButtonEl.disabled = true;  // To prevent multiple clicks.\n",
              "      quickchartButtonEl.classList.add('colab-df-spinner');\n",
              "      try {\n",
              "        const charts = await google.colab.kernel.invokeFunction(\n",
              "            'suggestCharts', [key], {});\n",
              "      } catch (error) {\n",
              "        console.error('Error during call to suggestCharts:', error);\n",
              "      }\n",
              "      quickchartButtonEl.classList.remove('colab-df-spinner');\n",
              "      quickchartButtonEl.classList.add('colab-df-quickchart-complete');\n",
              "    }\n",
              "    (() => {\n",
              "      let quickchartButtonEl =\n",
              "        document.querySelector('#df-7302d919-f28b-4ca9-96b8-6045af0110bc button');\n",
              "      quickchartButtonEl.style.display =\n",
              "        google.colab.kernel.accessAllowed ? 'block' : 'none';\n",
              "    })();\n",
              "  </script>\n",
              "</div>\n",
              "    </div>\n",
              "  </div>\n"
            ]
          },
          "metadata": {},
          "execution_count": 43
        }
      ]
    },
    {
      "cell_type": "markdown",
      "source": [
        "## **2-b. 전체 데이터 중 80%는 학습용 데이터, 20%는 테스트용 데이터로 추출하고, 각각의 shape을 print해주세요.**"
      ],
      "metadata": {
        "id": "tOKlsQLD8HoD"
      }
    },
    {
      "cell_type": "code",
      "source": [
        "X_train, X_test, y_train, y_test=train_test_split(X_features, y_label, test_size=0.2, random_state=156)"
      ],
      "metadata": {
        "id": "o6k1w2nf8SCm"
      },
      "execution_count": 44,
      "outputs": []
    },
    {
      "cell_type": "code",
      "source": [
        "dtrain = xgb.DMatrix(data = X_train, label = y_train)\n",
        "dtest = xgb.DMatrix(data = X_test, label = y_test)"
      ],
      "metadata": {
        "id": "9ZB87ux88a6w"
      },
      "execution_count": 45,
      "outputs": []
    },
    {
      "cell_type": "markdown",
      "source": [
        "##**2-c. 주어진 정보를 바탕으로 하이퍼 파라미터 목록을 완성해 주세요.**\n",
        "- 트리의 최대 깊이 : 3\n",
        "- 학습률 : 0.1\n",
        "- 반복 횟수 : 400"
      ],
      "metadata": {
        "id": "tzzNfY028f5b"
      }
    },
    {
      "cell_type": "code",
      "source": [
        "params = {'max_depth':3,\n",
        "          'eta':0.1,\n",
        "          'objective':'binary:logistic',\n",
        "          'eval_metric':'logloss'\n",
        "         }\n",
        "num_rounds = 400"
      ],
      "metadata": {
        "id": "BZIEP5CS8jSs"
      },
      "execution_count": 46,
      "outputs": []
    },
    {
      "cell_type": "code",
      "source": [
        "eval_list = [(dtrain,'train'),(dtest,'eval')]"
      ],
      "metadata": {
        "id": "UInEOEh98t6z"
      },
      "execution_count": 47,
      "outputs": []
    },
    {
      "cell_type": "markdown",
      "source": [
        "## **2-d. 하이퍼 파라미터를 `train( )` 함수의 파라미터로 전달해 주세요.**"
      ],
      "metadata": {
        "id": "Mzl7NufX8utk"
      }
    },
    {
      "cell_type": "code",
      "source": [
        "xgb_model = xgb.train(params = params, dtrain=dtrain, num_boost_round=num_rounds, evals=eval_list)"
      ],
      "metadata": {
        "id": "5vgia5qw8vCa",
        "colab": {
          "base_uri": "https://localhost:8080/"
        },
        "outputId": "de8dbe1b-3c90-4c33-ff12-f46e1e9656f1"
      },
      "execution_count": 55,
      "outputs": [
        {
          "output_type": "stream",
          "name": "stdout",
          "text": [
            "[0]\ttrain-logloss:0.60969\teval-logloss:0.61352\n",
            "[1]\ttrain-logloss:0.54080\teval-logloss:0.54784\n",
            "[2]\ttrain-logloss:0.48375\teval-logloss:0.49425\n",
            "[3]\ttrain-logloss:0.43446\teval-logloss:0.44799\n",
            "[4]\ttrain-logloss:0.39055\teval-logloss:0.40911\n",
            "[5]\ttrain-logloss:0.35415\teval-logloss:0.37498\n",
            "[6]\ttrain-logloss:0.32122\teval-logloss:0.34571\n",
            "[7]\ttrain-logloss:0.29259\teval-logloss:0.32053\n",
            "[8]\ttrain-logloss:0.26747\teval-logloss:0.29721\n",
            "[9]\ttrain-logloss:0.24515\teval-logloss:0.27799\n",
            "[10]\ttrain-logloss:0.22569\teval-logloss:0.26030\n",
            "[11]\ttrain-logloss:0.20794\teval-logloss:0.24604\n",
            "[12]\ttrain-logloss:0.19218\teval-logloss:0.23156\n",
            "[13]\ttrain-logloss:0.17792\teval-logloss:0.22005\n",
            "[14]\ttrain-logloss:0.16522\teval-logloss:0.20857\n",
            "[15]\ttrain-logloss:0.15362\teval-logloss:0.19999\n",
            "[16]\ttrain-logloss:0.14333\teval-logloss:0.19012\n",
            "[17]\ttrain-logloss:0.13398\teval-logloss:0.18182\n",
            "[18]\ttrain-logloss:0.12560\teval-logloss:0.17473\n",
            "[19]\ttrain-logloss:0.11729\teval-logloss:0.16766\n",
            "[20]\ttrain-logloss:0.10969\teval-logloss:0.15820\n",
            "[21]\ttrain-logloss:0.10297\teval-logloss:0.15472\n",
            "[22]\ttrain-logloss:0.09707\teval-logloss:0.14895\n",
            "[23]\ttrain-logloss:0.09143\teval-logloss:0.14331\n",
            "[24]\ttrain-logloss:0.08634\teval-logloss:0.13634\n",
            "[25]\ttrain-logloss:0.08131\teval-logloss:0.13278\n",
            "[26]\ttrain-logloss:0.07686\teval-logloss:0.12791\n",
            "[27]\ttrain-logloss:0.07284\teval-logloss:0.12526\n",
            "[28]\ttrain-logloss:0.06925\teval-logloss:0.11998\n",
            "[29]\ttrain-logloss:0.06555\teval-logloss:0.11641\n",
            "[30]\ttrain-logloss:0.06241\teval-logloss:0.11450\n",
            "[31]\ttrain-logloss:0.05959\teval-logloss:0.11257\n",
            "[32]\ttrain-logloss:0.05710\teval-logloss:0.11154\n",
            "[33]\ttrain-logloss:0.05441\teval-logloss:0.10868\n",
            "[34]\ttrain-logloss:0.05204\teval-logloss:0.10668\n",
            "[35]\ttrain-logloss:0.04975\teval-logloss:0.10421\n",
            "[36]\ttrain-logloss:0.04775\teval-logloss:0.10296\n",
            "[37]\ttrain-logloss:0.04585\teval-logloss:0.10058\n",
            "[38]\ttrain-logloss:0.04401\teval-logloss:0.09868\n",
            "[39]\ttrain-logloss:0.04226\teval-logloss:0.09644\n",
            "[40]\ttrain-logloss:0.04065\teval-logloss:0.09587\n",
            "[41]\ttrain-logloss:0.03913\teval-logloss:0.09424\n",
            "[42]\ttrain-logloss:0.03738\teval-logloss:0.09471\n",
            "[43]\ttrain-logloss:0.03611\teval-logloss:0.09427\n",
            "[44]\ttrain-logloss:0.03494\teval-logloss:0.09389\n",
            "[45]\ttrain-logloss:0.03365\teval-logloss:0.09418\n",
            "[46]\ttrain-logloss:0.03253\teval-logloss:0.09402\n",
            "[47]\ttrain-logloss:0.03148\teval-logloss:0.09236\n",
            "[48]\ttrain-logloss:0.03039\teval-logloss:0.09301\n",
            "[49]\ttrain-logloss:0.02947\teval-logloss:0.09127\n",
            "[50]\ttrain-logloss:0.02854\teval-logloss:0.09005\n",
            "[51]\ttrain-logloss:0.02753\teval-logloss:0.08961\n",
            "[52]\ttrain-logloss:0.02656\teval-logloss:0.08958\n",
            "[53]\ttrain-logloss:0.02568\teval-logloss:0.09070\n",
            "[54]\ttrain-logloss:0.02500\teval-logloss:0.08958\n",
            "[55]\ttrain-logloss:0.02430\teval-logloss:0.09036\n",
            "[56]\ttrain-logloss:0.02357\teval-logloss:0.09159\n",
            "[57]\ttrain-logloss:0.02296\teval-logloss:0.09153\n",
            "[58]\ttrain-logloss:0.02249\teval-logloss:0.09199\n",
            "[59]\ttrain-logloss:0.02185\teval-logloss:0.09195\n",
            "[60]\ttrain-logloss:0.02132\teval-logloss:0.09194\n",
            "[61]\ttrain-logloss:0.02079\teval-logloss:0.09146\n",
            "[62]\ttrain-logloss:0.02022\teval-logloss:0.09031\n",
            "[63]\ttrain-logloss:0.01970\teval-logloss:0.08941\n",
            "[64]\ttrain-logloss:0.01918\teval-logloss:0.08972\n",
            "[65]\ttrain-logloss:0.01872\teval-logloss:0.08974\n",
            "[66]\ttrain-logloss:0.01833\teval-logloss:0.08962\n",
            "[67]\ttrain-logloss:0.01787\teval-logloss:0.08873\n",
            "[68]\ttrain-logloss:0.01760\teval-logloss:0.08862\n",
            "[69]\ttrain-logloss:0.01724\teval-logloss:0.08974\n",
            "[70]\ttrain-logloss:0.01688\teval-logloss:0.08998\n",
            "[71]\ttrain-logloss:0.01664\teval-logloss:0.08978\n",
            "[72]\ttrain-logloss:0.01629\teval-logloss:0.08958\n",
            "[73]\ttrain-logloss:0.01598\teval-logloss:0.08953\n",
            "[74]\ttrain-logloss:0.01566\teval-logloss:0.08875\n",
            "[75]\ttrain-logloss:0.01539\teval-logloss:0.08860\n",
            "[76]\ttrain-logloss:0.01515\teval-logloss:0.08812\n",
            "[77]\ttrain-logloss:0.01488\teval-logloss:0.08840\n",
            "[78]\ttrain-logloss:0.01464\teval-logloss:0.08874\n",
            "[79]\ttrain-logloss:0.01449\teval-logloss:0.08815\n",
            "[80]\ttrain-logloss:0.01418\teval-logloss:0.08758\n",
            "[81]\ttrain-logloss:0.01400\teval-logloss:0.08741\n",
            "[82]\ttrain-logloss:0.01377\teval-logloss:0.08849\n",
            "[83]\ttrain-logloss:0.01357\teval-logloss:0.08857\n",
            "[84]\ttrain-logloss:0.01341\teval-logloss:0.08807\n",
            "[85]\ttrain-logloss:0.01325\teval-logloss:0.08764\n",
            "[86]\ttrain-logloss:0.01311\teval-logloss:0.08742\n",
            "[87]\ttrain-logloss:0.01293\teval-logloss:0.08761\n",
            "[88]\ttrain-logloss:0.01271\teval-logloss:0.08707\n",
            "[89]\ttrain-logloss:0.01254\teval-logloss:0.08727\n",
            "[90]\ttrain-logloss:0.01235\teval-logloss:0.08716\n",
            "[91]\ttrain-logloss:0.01223\teval-logloss:0.08696\n",
            "[92]\ttrain-logloss:0.01206\teval-logloss:0.08717\n",
            "[93]\ttrain-logloss:0.01193\teval-logloss:0.08707\n",
            "[94]\ttrain-logloss:0.01182\teval-logloss:0.08659\n",
            "[95]\ttrain-logloss:0.01165\teval-logloss:0.08612\n",
            "[96]\ttrain-logloss:0.01148\teval-logloss:0.08714\n",
            "[97]\ttrain-logloss:0.01136\teval-logloss:0.08677\n",
            "[98]\ttrain-logloss:0.01124\teval-logloss:0.08669\n",
            "[99]\ttrain-logloss:0.01113\teval-logloss:0.08655\n",
            "[100]\ttrain-logloss:0.01100\teval-logloss:0.08650\n",
            "[101]\ttrain-logloss:0.01085\teval-logloss:0.08641\n",
            "[102]\ttrain-logloss:0.01075\teval-logloss:0.08629\n",
            "[103]\ttrain-logloss:0.01064\teval-logloss:0.08626\n",
            "[104]\ttrain-logloss:0.01050\teval-logloss:0.08683\n",
            "[105]\ttrain-logloss:0.01040\teval-logloss:0.08677\n",
            "[106]\ttrain-logloss:0.01030\teval-logloss:0.08732\n",
            "[107]\ttrain-logloss:0.01020\teval-logloss:0.08730\n",
            "[108]\ttrain-logloss:0.01007\teval-logloss:0.08728\n",
            "[109]\ttrain-logloss:0.01000\teval-logloss:0.08730\n",
            "[110]\ttrain-logloss:0.00991\teval-logloss:0.08729\n",
            "[111]\ttrain-logloss:0.00980\teval-logloss:0.08800\n",
            "[112]\ttrain-logloss:0.00971\teval-logloss:0.08794\n",
            "[113]\ttrain-logloss:0.00963\teval-logloss:0.08784\n",
            "[114]\ttrain-logloss:0.00956\teval-logloss:0.08807\n",
            "[115]\ttrain-logloss:0.00948\teval-logloss:0.08765\n",
            "[116]\ttrain-logloss:0.00942\teval-logloss:0.08730\n",
            "[117]\ttrain-logloss:0.00931\teval-logloss:0.08780\n",
            "[118]\ttrain-logloss:0.00923\teval-logloss:0.08775\n",
            "[119]\ttrain-logloss:0.00915\teval-logloss:0.08768\n",
            "[120]\ttrain-logloss:0.00912\teval-logloss:0.08763\n",
            "[121]\ttrain-logloss:0.00902\teval-logloss:0.08757\n",
            "[122]\ttrain-logloss:0.00897\teval-logloss:0.08755\n",
            "[123]\ttrain-logloss:0.00890\teval-logloss:0.08716\n",
            "[124]\ttrain-logloss:0.00884\teval-logloss:0.08767\n",
            "[125]\ttrain-logloss:0.00880\teval-logloss:0.08774\n",
            "[126]\ttrain-logloss:0.00871\teval-logloss:0.08827\n",
            "[127]\ttrain-logloss:0.00865\teval-logloss:0.08831\n",
            "[128]\ttrain-logloss:0.00861\teval-logloss:0.08827\n",
            "[129]\ttrain-logloss:0.00856\teval-logloss:0.08789\n",
            "[130]\ttrain-logloss:0.00846\teval-logloss:0.08886\n",
            "[131]\ttrain-logloss:0.00842\teval-logloss:0.08868\n",
            "[132]\ttrain-logloss:0.00839\teval-logloss:0.08874\n",
            "[133]\ttrain-logloss:0.00830\teval-logloss:0.08922\n",
            "[134]\ttrain-logloss:0.00827\teval-logloss:0.08918\n",
            "[135]\ttrain-logloss:0.00822\teval-logloss:0.08882\n",
            "[136]\ttrain-logloss:0.00816\teval-logloss:0.08851\n",
            "[137]\ttrain-logloss:0.00808\teval-logloss:0.08848\n",
            "[138]\ttrain-logloss:0.00805\teval-logloss:0.08839\n",
            "[139]\ttrain-logloss:0.00797\teval-logloss:0.08915\n",
            "[140]\ttrain-logloss:0.00795\teval-logloss:0.08911\n",
            "[141]\ttrain-logloss:0.00790\teval-logloss:0.08876\n",
            "[142]\ttrain-logloss:0.00787\teval-logloss:0.08868\n",
            "[143]\ttrain-logloss:0.00785\teval-logloss:0.08839\n",
            "[144]\ttrain-logloss:0.00778\teval-logloss:0.08927\n",
            "[145]\ttrain-logloss:0.00775\teval-logloss:0.08924\n",
            "[146]\ttrain-logloss:0.00773\teval-logloss:0.08914\n",
            "[147]\ttrain-logloss:0.00769\teval-logloss:0.08891\n",
            "[148]\ttrain-logloss:0.00762\teval-logloss:0.08942\n",
            "[149]\ttrain-logloss:0.00760\teval-logloss:0.08939\n",
            "[150]\ttrain-logloss:0.00757\teval-logloss:0.08911\n",
            "[151]\ttrain-logloss:0.00752\teval-logloss:0.08873\n",
            "[152]\ttrain-logloss:0.00750\teval-logloss:0.08872\n",
            "[153]\ttrain-logloss:0.00746\teval-logloss:0.08848\n",
            "[154]\ttrain-logloss:0.00741\teval-logloss:0.08847\n",
            "[155]\ttrain-logloss:0.00739\teval-logloss:0.08855\n",
            "[156]\ttrain-logloss:0.00737\teval-logloss:0.08852\n",
            "[157]\ttrain-logloss:0.00735\teval-logloss:0.08855\n",
            "[158]\ttrain-logloss:0.00732\teval-logloss:0.08827\n",
            "[159]\ttrain-logloss:0.00730\teval-logloss:0.08830\n",
            "[160]\ttrain-logloss:0.00728\teval-logloss:0.08828\n",
            "[161]\ttrain-logloss:0.00726\teval-logloss:0.08801\n",
            "[162]\ttrain-logloss:0.00724\teval-logloss:0.08776\n",
            "[163]\ttrain-logloss:0.00722\teval-logloss:0.08778\n",
            "[164]\ttrain-logloss:0.00720\teval-logloss:0.08778\n",
            "[165]\ttrain-logloss:0.00718\teval-logloss:0.08752\n",
            "[166]\ttrain-logloss:0.00716\teval-logloss:0.08754\n",
            "[167]\ttrain-logloss:0.00714\teval-logloss:0.08764\n",
            "[168]\ttrain-logloss:0.00712\teval-logloss:0.08739\n",
            "[169]\ttrain-logloss:0.00710\teval-logloss:0.08738\n",
            "[170]\ttrain-logloss:0.00708\teval-logloss:0.08730\n",
            "[171]\ttrain-logloss:0.00707\teval-logloss:0.08737\n",
            "[172]\ttrain-logloss:0.00705\teval-logloss:0.08740\n",
            "[173]\ttrain-logloss:0.00703\teval-logloss:0.08739\n",
            "[174]\ttrain-logloss:0.00701\teval-logloss:0.08713\n",
            "[175]\ttrain-logloss:0.00699\teval-logloss:0.08716\n",
            "[176]\ttrain-logloss:0.00697\teval-logloss:0.08695\n",
            "[177]\ttrain-logloss:0.00695\teval-logloss:0.08705\n",
            "[178]\ttrain-logloss:0.00694\teval-logloss:0.08697\n",
            "[179]\ttrain-logloss:0.00692\teval-logloss:0.08697\n",
            "[180]\ttrain-logloss:0.00690\teval-logloss:0.08704\n",
            "[181]\ttrain-logloss:0.00688\teval-logloss:0.08680\n",
            "[182]\ttrain-logloss:0.00687\teval-logloss:0.08683\n",
            "[183]\ttrain-logloss:0.00685\teval-logloss:0.08658\n",
            "[184]\ttrain-logloss:0.00683\teval-logloss:0.08659\n",
            "[185]\ttrain-logloss:0.00681\teval-logloss:0.08661\n",
            "[186]\ttrain-logloss:0.00680\teval-logloss:0.08637\n",
            "[187]\ttrain-logloss:0.00678\teval-logloss:0.08637\n",
            "[188]\ttrain-logloss:0.00676\teval-logloss:0.08630\n",
            "[189]\ttrain-logloss:0.00675\teval-logloss:0.08610\n",
            "[190]\ttrain-logloss:0.00673\teval-logloss:0.08602\n",
            "[191]\ttrain-logloss:0.00671\teval-logloss:0.08605\n",
            "[192]\ttrain-logloss:0.00670\teval-logloss:0.08615\n",
            "[193]\ttrain-logloss:0.00668\teval-logloss:0.08592\n",
            "[194]\ttrain-logloss:0.00667\teval-logloss:0.08591\n",
            "[195]\ttrain-logloss:0.00665\teval-logloss:0.08598\n",
            "[196]\ttrain-logloss:0.00663\teval-logloss:0.08601\n",
            "[197]\ttrain-logloss:0.00662\teval-logloss:0.08592\n",
            "[198]\ttrain-logloss:0.00660\teval-logloss:0.08585\n",
            "[199]\ttrain-logloss:0.00659\teval-logloss:0.08587\n",
            "[200]\ttrain-logloss:0.00657\teval-logloss:0.08589\n",
            "[201]\ttrain-logloss:0.00656\teval-logloss:0.08595\n",
            "[202]\ttrain-logloss:0.00654\teval-logloss:0.08573\n",
            "[203]\ttrain-logloss:0.00653\teval-logloss:0.08573\n",
            "[204]\ttrain-logloss:0.00651\teval-logloss:0.08575\n",
            "[205]\ttrain-logloss:0.00650\teval-logloss:0.08582\n",
            "[206]\ttrain-logloss:0.00648\teval-logloss:0.08584\n",
            "[207]\ttrain-logloss:0.00647\teval-logloss:0.08578\n",
            "[208]\ttrain-logloss:0.00645\teval-logloss:0.08569\n",
            "[209]\ttrain-logloss:0.00644\teval-logloss:0.08571\n",
            "[210]\ttrain-logloss:0.00643\teval-logloss:0.08581\n",
            "[211]\ttrain-logloss:0.00641\teval-logloss:0.08559\n",
            "[212]\ttrain-logloss:0.00640\teval-logloss:0.08580\n",
            "[213]\ttrain-logloss:0.00639\teval-logloss:0.08581\n",
            "[214]\ttrain-logloss:0.00637\teval-logloss:0.08574\n",
            "[215]\ttrain-logloss:0.00636\teval-logloss:0.08566\n",
            "[216]\ttrain-logloss:0.00635\teval-logloss:0.08584\n",
            "[217]\ttrain-logloss:0.00633\teval-logloss:0.08563\n",
            "[218]\ttrain-logloss:0.00632\teval-logloss:0.08573\n",
            "[219]\ttrain-logloss:0.00631\teval-logloss:0.08578\n",
            "[220]\ttrain-logloss:0.00629\teval-logloss:0.08579\n",
            "[221]\ttrain-logloss:0.00628\teval-logloss:0.08582\n",
            "[222]\ttrain-logloss:0.00627\teval-logloss:0.08576\n",
            "[223]\ttrain-logloss:0.00626\teval-logloss:0.08567\n",
            "[224]\ttrain-logloss:0.00624\teval-logloss:0.08586\n",
            "[225]\ttrain-logloss:0.00623\teval-logloss:0.08587\n",
            "[226]\ttrain-logloss:0.00622\teval-logloss:0.08593\n",
            "[227]\ttrain-logloss:0.00621\teval-logloss:0.08595\n",
            "[228]\ttrain-logloss:0.00619\teval-logloss:0.08587\n",
            "[229]\ttrain-logloss:0.00618\teval-logloss:0.08606\n",
            "[230]\ttrain-logloss:0.00617\teval-logloss:0.08600\n",
            "[231]\ttrain-logloss:0.00616\teval-logloss:0.08592\n",
            "[232]\ttrain-logloss:0.00615\teval-logloss:0.08610\n",
            "[233]\ttrain-logloss:0.00614\teval-logloss:0.08611\n",
            "[234]\ttrain-logloss:0.00612\teval-logloss:0.08617\n",
            "[235]\ttrain-logloss:0.00611\teval-logloss:0.08626\n",
            "[236]\ttrain-logloss:0.00610\teval-logloss:0.08629\n",
            "[237]\ttrain-logloss:0.00609\teval-logloss:0.08622\n",
            "[238]\ttrain-logloss:0.00608\teval-logloss:0.08639\n",
            "[239]\ttrain-logloss:0.00607\teval-logloss:0.08634\n",
            "[240]\ttrain-logloss:0.00606\teval-logloss:0.08618\n",
            "[241]\ttrain-logloss:0.00605\teval-logloss:0.08620\n",
            "[242]\ttrain-logloss:0.00604\teval-logloss:0.08625\n",
            "[243]\ttrain-logloss:0.00602\teval-logloss:0.08626\n",
            "[244]\ttrain-logloss:0.00601\teval-logloss:0.08629\n",
            "[245]\ttrain-logloss:0.00600\teval-logloss:0.08622\n",
            "[246]\ttrain-logloss:0.00599\teval-logloss:0.08640\n",
            "[247]\ttrain-logloss:0.00598\teval-logloss:0.08635\n",
            "[248]\ttrain-logloss:0.00597\teval-logloss:0.08628\n",
            "[249]\ttrain-logloss:0.00596\teval-logloss:0.08645\n",
            "[250]\ttrain-logloss:0.00595\teval-logloss:0.08629\n",
            "[251]\ttrain-logloss:0.00594\teval-logloss:0.08631\n",
            "[252]\ttrain-logloss:0.00593\teval-logloss:0.08636\n",
            "[253]\ttrain-logloss:0.00592\teval-logloss:0.08639\n",
            "[254]\ttrain-logloss:0.00591\teval-logloss:0.08649\n",
            "[255]\ttrain-logloss:0.00590\teval-logloss:0.08644\n",
            "[256]\ttrain-logloss:0.00589\teval-logloss:0.08629\n",
            "[257]\ttrain-logloss:0.00588\teval-logloss:0.08646\n",
            "[258]\ttrain-logloss:0.00587\teval-logloss:0.08639\n",
            "[259]\ttrain-logloss:0.00586\teval-logloss:0.08644\n",
            "[260]\ttrain-logloss:0.00585\teval-logloss:0.08646\n",
            "[261]\ttrain-logloss:0.00585\teval-logloss:0.08649\n",
            "[262]\ttrain-logloss:0.00584\teval-logloss:0.08645\n",
            "[263]\ttrain-logloss:0.00583\teval-logloss:0.08647\n",
            "[264]\ttrain-logloss:0.00582\teval-logloss:0.08632\n",
            "[265]\ttrain-logloss:0.00581\teval-logloss:0.08649\n",
            "[266]\ttrain-logloss:0.00580\teval-logloss:0.08654\n",
            "[267]\ttrain-logloss:0.00579\teval-logloss:0.08647\n",
            "[268]\ttrain-logloss:0.00578\teval-logloss:0.08650\n",
            "[269]\ttrain-logloss:0.00577\teval-logloss:0.08652\n",
            "[270]\ttrain-logloss:0.00576\teval-logloss:0.08669\n",
            "[271]\ttrain-logloss:0.00576\teval-logloss:0.08674\n",
            "[272]\ttrain-logloss:0.00575\teval-logloss:0.08683\n",
            "[273]\ttrain-logloss:0.00574\teval-logloss:0.08668\n",
            "[274]\ttrain-logloss:0.00573\teval-logloss:0.08664\n",
            "[275]\ttrain-logloss:0.00572\teval-logloss:0.08650\n",
            "[276]\ttrain-logloss:0.00571\teval-logloss:0.08635\n",
            "[277]\ttrain-logloss:0.00570\teval-logloss:0.08652\n",
            "[278]\ttrain-logloss:0.00570\teval-logloss:0.08657\n",
            "[279]\ttrain-logloss:0.00569\teval-logloss:0.08659\n",
            "[280]\ttrain-logloss:0.00568\teval-logloss:0.08668\n",
            "[281]\ttrain-logloss:0.00567\teval-logloss:0.08664\n",
            "[282]\ttrain-logloss:0.00566\teval-logloss:0.08650\n",
            "[283]\ttrain-logloss:0.00565\teval-logloss:0.08636\n",
            "[284]\ttrain-logloss:0.00565\teval-logloss:0.08640\n",
            "[285]\ttrain-logloss:0.00564\teval-logloss:0.08643\n",
            "[286]\ttrain-logloss:0.00563\teval-logloss:0.08646\n",
            "[287]\ttrain-logloss:0.00562\teval-logloss:0.08650\n",
            "[288]\ttrain-logloss:0.00562\teval-logloss:0.08637\n",
            "[289]\ttrain-logloss:0.00561\teval-logloss:0.08646\n",
            "[290]\ttrain-logloss:0.00560\teval-logloss:0.08645\n",
            "[291]\ttrain-logloss:0.00559\teval-logloss:0.08632\n",
            "[292]\ttrain-logloss:0.00558\teval-logloss:0.08628\n",
            "[293]\ttrain-logloss:0.00558\teval-logloss:0.08615\n",
            "[294]\ttrain-logloss:0.00557\teval-logloss:0.08620\n",
            "[295]\ttrain-logloss:0.00556\teval-logloss:0.08622\n",
            "[296]\ttrain-logloss:0.00556\teval-logloss:0.08631\n",
            "[297]\ttrain-logloss:0.00555\teval-logloss:0.08618\n",
            "[298]\ttrain-logloss:0.00554\teval-logloss:0.08626\n",
            "[299]\ttrain-logloss:0.00553\teval-logloss:0.08613\n",
            "[300]\ttrain-logloss:0.00553\teval-logloss:0.08618\n",
            "[301]\ttrain-logloss:0.00552\teval-logloss:0.08605\n",
            "[302]\ttrain-logloss:0.00551\teval-logloss:0.08602\n",
            "[303]\ttrain-logloss:0.00551\teval-logloss:0.08610\n",
            "[304]\ttrain-logloss:0.00550\teval-logloss:0.08598\n",
            "[305]\ttrain-logloss:0.00549\teval-logloss:0.08606\n",
            "[306]\ttrain-logloss:0.00548\teval-logloss:0.08597\n",
            "[307]\ttrain-logloss:0.00548\teval-logloss:0.08600\n",
            "[308]\ttrain-logloss:0.00547\teval-logloss:0.08600\n",
            "[309]\ttrain-logloss:0.00546\teval-logloss:0.08588\n",
            "[310]\ttrain-logloss:0.00546\teval-logloss:0.08592\n",
            "[311]\ttrain-logloss:0.00545\teval-logloss:0.08595\n",
            "[312]\ttrain-logloss:0.00544\teval-logloss:0.08603\n",
            "[313]\ttrain-logloss:0.00544\teval-logloss:0.08611\n",
            "[314]\ttrain-logloss:0.00543\teval-logloss:0.08599\n",
            "[315]\ttrain-logloss:0.00542\teval-logloss:0.08590\n",
            "[316]\ttrain-logloss:0.00542\teval-logloss:0.08595\n",
            "[317]\ttrain-logloss:0.00541\teval-logloss:0.08598\n",
            "[318]\ttrain-logloss:0.00540\teval-logloss:0.08600\n",
            "[319]\ttrain-logloss:0.00540\teval-logloss:0.08588\n",
            "[320]\ttrain-logloss:0.00539\teval-logloss:0.08597\n",
            "[321]\ttrain-logloss:0.00539\teval-logloss:0.08605\n",
            "[322]\ttrain-logloss:0.00538\teval-logloss:0.08609\n",
            "[323]\ttrain-logloss:0.00537\teval-logloss:0.08598\n",
            "[324]\ttrain-logloss:0.00537\teval-logloss:0.08598\n",
            "[325]\ttrain-logloss:0.00536\teval-logloss:0.08590\n",
            "[326]\ttrain-logloss:0.00535\teval-logloss:0.08578\n",
            "[327]\ttrain-logloss:0.00535\teval-logloss:0.08586\n",
            "[328]\ttrain-logloss:0.00534\teval-logloss:0.08594\n",
            "[329]\ttrain-logloss:0.00534\teval-logloss:0.08582\n",
            "[330]\ttrain-logloss:0.00533\teval-logloss:0.08587\n",
            "[331]\ttrain-logloss:0.00532\teval-logloss:0.08589\n",
            "[332]\ttrain-logloss:0.00532\teval-logloss:0.08592\n",
            "[333]\ttrain-logloss:0.00531\teval-logloss:0.08584\n",
            "[334]\ttrain-logloss:0.00531\teval-logloss:0.08574\n",
            "[335]\ttrain-logloss:0.00530\teval-logloss:0.08582\n",
            "[336]\ttrain-logloss:0.00529\teval-logloss:0.08589\n",
            "[337]\ttrain-logloss:0.00529\teval-logloss:0.08594\n",
            "[338]\ttrain-logloss:0.00528\teval-logloss:0.08583\n",
            "[339]\ttrain-logloss:0.00528\teval-logloss:0.08591\n",
            "[340]\ttrain-logloss:0.00527\teval-logloss:0.08583\n",
            "[341]\ttrain-logloss:0.00527\teval-logloss:0.08573\n",
            "[342]\ttrain-logloss:0.00526\teval-logloss:0.08568\n",
            "[343]\ttrain-logloss:0.00525\teval-logloss:0.08572\n",
            "[344]\ttrain-logloss:0.00525\teval-logloss:0.08580\n",
            "[345]\ttrain-logloss:0.00524\teval-logloss:0.08582\n",
            "[346]\ttrain-logloss:0.00524\teval-logloss:0.08572\n",
            "[347]\ttrain-logloss:0.00523\teval-logloss:0.08579\n",
            "[348]\ttrain-logloss:0.00523\teval-logloss:0.08584\n",
            "[349]\ttrain-logloss:0.00522\teval-logloss:0.08573\n",
            "[350]\ttrain-logloss:0.00522\teval-logloss:0.08566\n",
            "[351]\ttrain-logloss:0.00521\teval-logloss:0.08573\n",
            "[352]\ttrain-logloss:0.00521\teval-logloss:0.08581\n",
            "[353]\ttrain-logloss:0.00520\teval-logloss:0.08571\n",
            "[354]\ttrain-logloss:0.00519\teval-logloss:0.08566\n",
            "[355]\ttrain-logloss:0.00519\teval-logloss:0.08570\n",
            "[356]\ttrain-logloss:0.00518\teval-logloss:0.08563\n",
            "[357]\ttrain-logloss:0.00518\teval-logloss:0.08553\n",
            "[358]\ttrain-logloss:0.00517\teval-logloss:0.08560\n",
            "[359]\ttrain-logloss:0.00517\teval-logloss:0.08568\n",
            "[360]\ttrain-logloss:0.00516\teval-logloss:0.08558\n",
            "[361]\ttrain-logloss:0.00516\teval-logloss:0.08560\n",
            "[362]\ttrain-logloss:0.00515\teval-logloss:0.08564\n",
            "[363]\ttrain-logloss:0.00515\teval-logloss:0.08571\n",
            "[364]\ttrain-logloss:0.00514\teval-logloss:0.08579\n",
            "[365]\ttrain-logloss:0.00514\teval-logloss:0.08569\n",
            "[366]\ttrain-logloss:0.00513\teval-logloss:0.08573\n",
            "[367]\ttrain-logloss:0.00513\teval-logloss:0.08568\n",
            "[368]\ttrain-logloss:0.00512\teval-logloss:0.08559\n",
            "[369]\ttrain-logloss:0.00512\teval-logloss:0.08552\n",
            "[370]\ttrain-logloss:0.00511\teval-logloss:0.08559\n",
            "[371]\ttrain-logloss:0.00511\teval-logloss:0.08550\n",
            "[372]\ttrain-logloss:0.00511\teval-logloss:0.08556\n",
            "[373]\ttrain-logloss:0.00510\teval-logloss:0.08560\n",
            "[374]\ttrain-logloss:0.00510\teval-logloss:0.08563\n",
            "[375]\ttrain-logloss:0.00509\teval-logloss:0.08553\n",
            "[376]\ttrain-logloss:0.00509\teval-logloss:0.08561\n",
            "[377]\ttrain-logloss:0.00508\teval-logloss:0.08567\n",
            "[378]\ttrain-logloss:0.00508\teval-logloss:0.08571\n",
            "[379]\ttrain-logloss:0.00507\teval-logloss:0.08562\n",
            "[380]\ttrain-logloss:0.00507\teval-logloss:0.08558\n",
            "[381]\ttrain-logloss:0.00506\teval-logloss:0.08562\n",
            "[382]\ttrain-logloss:0.00506\teval-logloss:0.08564\n",
            "[383]\ttrain-logloss:0.00506\teval-logloss:0.08555\n",
            "[384]\ttrain-logloss:0.00505\teval-logloss:0.08562\n",
            "[385]\ttrain-logloss:0.00505\teval-logloss:0.08562\n",
            "[386]\ttrain-logloss:0.00504\teval-logloss:0.08555\n",
            "[387]\ttrain-logloss:0.00504\teval-logloss:0.08546\n",
            "[388]\ttrain-logloss:0.00503\teval-logloss:0.08550\n",
            "[389]\ttrain-logloss:0.00503\teval-logloss:0.08546\n",
            "[390]\ttrain-logloss:0.00503\teval-logloss:0.08532\n",
            "[391]\ttrain-logloss:0.00502\teval-logloss:0.08539\n",
            "[392]\ttrain-logloss:0.00502\teval-logloss:0.08530\n",
            "[393]\ttrain-logloss:0.00501\teval-logloss:0.08537\n",
            "[394]\ttrain-logloss:0.00501\teval-logloss:0.08530\n",
            "[395]\ttrain-logloss:0.00500\teval-logloss:0.08537\n",
            "[396]\ttrain-logloss:0.00500\teval-logloss:0.08528\n",
            "[397]\ttrain-logloss:0.00500\teval-logloss:0.08532\n",
            "[398]\ttrain-logloss:0.00499\teval-logloss:0.08528\n",
            "[399]\ttrain-logloss:0.00499\teval-logloss:0.08520\n"
          ]
        }
      ]
    },
    {
      "cell_type": "code",
      "source": [
        "pred_probs = xgb_model.predict(dtest)\n",
        "print('predict( ) 수행 결과값을 10개만 표시, 예측 확률 값으로 표시됨')\n",
        "print(np.round(pred_probs[:10],3))\n",
        "\n",
        "# 예측 확률이 0.5 보다 크면 1 , 그렇지 않으면 0 으로 예측값 결정하여 List 객체인 preds에 저장\n",
        "preds = [ 1 if x > 0.5 else 0 for x in pred_probs ]\n",
        "print('예측값 10개만 표시:',preds[:10])"
      ],
      "metadata": {
        "id": "5UFWSwQp8yA8",
        "colab": {
          "base_uri": "https://localhost:8080/"
        },
        "outputId": "24498e82-b0f8-4b51-8cc1-58d3db4856b8"
      },
      "execution_count": 49,
      "outputs": [
        {
          "output_type": "stream",
          "name": "stdout",
          "text": [
            "predict( ) 수행 결과값을 10개만 표시, 예측 확률 값으로 표시됨\n",
            "[0.95  0.003 0.9   0.086 0.993 1.    1.    0.999 0.998 0.   ]\n",
            "예측값 10개만 표시: [1, 0, 1, 0, 1, 1, 1, 1, 1, 0]\n"
          ]
        }
      ]
    },
    {
      "cell_type": "markdown",
      "source": [
        "##**2-e. `get_eval_clf()` 을 통해 예측 평가를 진행해주세요**"
      ],
      "metadata": {
        "id": "Mxk9DN5383sp"
      }
    },
    {
      "cell_type": "code",
      "source": [
        "from sklearn.metrics import confusion_matrix, accuracy_score\n",
        "from sklearn.metrics import precision_score, recall_score\n",
        "from sklearn.metrics import f1_score, roc_auc_score\n",
        "\n",
        "def get_clf_eval(y_test, pred=None, pred_proba=None):\n",
        "    confusion = confusion_matrix( y_test, pred)\n",
        "    accuracy = accuracy_score(y_test , pred)\n",
        "    precision = precision_score(y_test , pred)\n",
        "    recall = recall_score(y_test , pred)\n",
        "    f1 = f1_score(y_test,pred)\n",
        "    # ROC-AUC 추가\n",
        "    roc_auc = roc_auc_score(y_test, pred_proba)\n",
        "    print('오차 행렬')\n",
        "    print(confusion)\n",
        "    # ROC-AUC print 추가\n",
        "    print('정확도: {0:.4f}, 정밀도: {1:.4f}, 재현율: {2:.4f},\\\n",
        "    F1: {3:.4f}, AUC:{4:.4f}'.format(accuracy, precision, recall, f1, roc_auc))"
      ],
      "metadata": {
        "id": "xS27kc1780cD"
      },
      "execution_count": 50,
      "outputs": []
    },
    {
      "cell_type": "code",
      "source": [
        "get_clf_eval(y_test, preds, pred_probs)"
      ],
      "metadata": {
        "id": "v-foPK_M82hT",
        "colab": {
          "base_uri": "https://localhost:8080/"
        },
        "outputId": "291646ce-8c09-4513-8a98-b98ef89c81cd"
      },
      "execution_count": 51,
      "outputs": [
        {
          "output_type": "stream",
          "name": "stdout",
          "text": [
            "오차 행렬\n",
            "[[35  2]\n",
            " [ 1 76]]\n",
            "정확도: 0.9737, 정밀도: 0.9744, 재현율: 0.9870,    F1: 0.9806, AUC:0.9951\n"
          ]
        }
      ]
    },
    {
      "cell_type": "markdown",
      "source": [
        "# **3. LightGBM, HyperOpt**"
      ],
      "metadata": {
        "id": "uvg4b6ap9lXg"
      }
    },
    {
      "cell_type": "markdown",
      "source": [
        "## **3-1. LightGBM**"
      ],
      "metadata": {
        "id": "f8SBYxBJ-vhb"
      }
    },
    {
      "cell_type": "markdown",
      "source": [
        "### **3-1-a. ```water_potability.csv```를 불러와 df에 저장해 주세요.**"
      ],
      "metadata": {
        "id": "SnRlTMVaIdU6"
      }
    },
    {
      "cell_type": "code",
      "source": [
        "import lightgbm\n",
        "from lightgbm import LGBMClassifier\n",
        "\n",
        "import pandas as pd\n",
        "import numpy as np"
      ],
      "metadata": {
        "id": "ZcpuDJ8GIoBD"
      },
      "execution_count": 1,
      "outputs": []
    },
    {
      "cell_type": "code",
      "source": [
        "# 3.3.2 버전으로 LightGBM을 설치합니다(일부 파라미터가 4.0.0에선 작동하지 않아서 넣었습니다.)\n",
        "!pip install lightgbm==3.3.2"
      ],
      "metadata": {
        "colab": {
          "base_uri": "https://localhost:8080/"
        },
        "id": "7DoR5IYuVO-T",
        "outputId": "060c5c49-90c0-4467-c169-1a30b249aaeb"
      },
      "execution_count": 2,
      "outputs": [
        {
          "output_type": "stream",
          "name": "stdout",
          "text": [
            "Requirement already satisfied: lightgbm==3.3.2 in /usr/local/lib/python3.10/dist-packages (3.3.2)\n",
            "Requirement already satisfied: wheel in /usr/local/lib/python3.10/dist-packages (from lightgbm==3.3.2) (0.41.2)\n",
            "Requirement already satisfied: numpy in /usr/local/lib/python3.10/dist-packages (from lightgbm==3.3.2) (1.23.5)\n",
            "Requirement already satisfied: scipy in /usr/local/lib/python3.10/dist-packages (from lightgbm==3.3.2) (1.11.2)\n",
            "Requirement already satisfied: scikit-learn!=0.22.0 in /usr/local/lib/python3.10/dist-packages (from lightgbm==3.3.2) (1.2.2)\n",
            "Requirement already satisfied: joblib>=1.1.1 in /usr/local/lib/python3.10/dist-packages (from scikit-learn!=0.22.0->lightgbm==3.3.2) (1.3.2)\n",
            "Requirement already satisfied: threadpoolctl>=2.0.0 in /usr/local/lib/python3.10/dist-packages (from scikit-learn!=0.22.0->lightgbm==3.3.2) (3.2.0)\n"
          ]
        }
      ]
    },
    {
      "cell_type": "code",
      "source": [
        "print(lightgbm.__version__)  # 버전 확인용"
      ],
      "metadata": {
        "colab": {
          "base_uri": "https://localhost:8080/"
        },
        "id": "t-Vz9p08VSeQ",
        "outputId": "a9bb4461-2c28-4086-ccc0-da8b26732f54"
      },
      "execution_count": 3,
      "outputs": [
        {
          "output_type": "stream",
          "name": "stdout",
          "text": [
            "3.3.2\n"
          ]
        }
      ]
    },
    {
      "cell_type": "code",
      "source": [
        "df = pd.read_csv('/content/drive/MyDrive/water_potability.csv')\n",
        "\n",
        "# 데이터 확인\n",
        "df.head()"
      ],
      "metadata": {
        "id": "z3XVGeXr-_kt",
        "colab": {
          "base_uri": "https://localhost:8080/",
          "height": 226
        },
        "outputId": "b0daad7f-160e-41c9-a495-4f48d30a76da"
      },
      "execution_count": 57,
      "outputs": [
        {
          "output_type": "execute_result",
          "data": {
            "text/plain": [
              "         ph    Hardness        Solids  Chloramines     Sulfate  Conductivity  \\\n",
              "0       NaN  204.890455  20791.318981     7.300212  368.516441    564.308654   \n",
              "1  3.716080  129.422921  18630.057858     6.635246         NaN    592.885359   \n",
              "2  8.099124  224.236259  19909.541732     9.275884         NaN    418.606213   \n",
              "3  8.316766  214.373394  22018.417441     8.059332  356.886136    363.266516   \n",
              "4  9.092223  181.101509  17978.986339     6.546600  310.135738    398.410813   \n",
              "\n",
              "   Organic_carbon  Trihalomethanes  Turbidity  Potability  \n",
              "0       10.379783        86.990970   2.963135           0  \n",
              "1       15.180013        56.329076   4.500656           0  \n",
              "2       16.868637        66.420093   3.055934           0  \n",
              "3       18.436524       100.341674   4.628771           0  \n",
              "4       11.558279        31.997993   4.075075           0  "
            ],
            "text/html": [
              "\n",
              "  <div id=\"df-526e4792-35f6-4fbf-ba1d-bcc30ab045e6\" class=\"colab-df-container\">\n",
              "    <div>\n",
              "<style scoped>\n",
              "    .dataframe tbody tr th:only-of-type {\n",
              "        vertical-align: middle;\n",
              "    }\n",
              "\n",
              "    .dataframe tbody tr th {\n",
              "        vertical-align: top;\n",
              "    }\n",
              "\n",
              "    .dataframe thead th {\n",
              "        text-align: right;\n",
              "    }\n",
              "</style>\n",
              "<table border=\"1\" class=\"dataframe\">\n",
              "  <thead>\n",
              "    <tr style=\"text-align: right;\">\n",
              "      <th></th>\n",
              "      <th>ph</th>\n",
              "      <th>Hardness</th>\n",
              "      <th>Solids</th>\n",
              "      <th>Chloramines</th>\n",
              "      <th>Sulfate</th>\n",
              "      <th>Conductivity</th>\n",
              "      <th>Organic_carbon</th>\n",
              "      <th>Trihalomethanes</th>\n",
              "      <th>Turbidity</th>\n",
              "      <th>Potability</th>\n",
              "    </tr>\n",
              "  </thead>\n",
              "  <tbody>\n",
              "    <tr>\n",
              "      <th>0</th>\n",
              "      <td>NaN</td>\n",
              "      <td>204.890455</td>\n",
              "      <td>20791.318981</td>\n",
              "      <td>7.300212</td>\n",
              "      <td>368.516441</td>\n",
              "      <td>564.308654</td>\n",
              "      <td>10.379783</td>\n",
              "      <td>86.990970</td>\n",
              "      <td>2.963135</td>\n",
              "      <td>0</td>\n",
              "    </tr>\n",
              "    <tr>\n",
              "      <th>1</th>\n",
              "      <td>3.716080</td>\n",
              "      <td>129.422921</td>\n",
              "      <td>18630.057858</td>\n",
              "      <td>6.635246</td>\n",
              "      <td>NaN</td>\n",
              "      <td>592.885359</td>\n",
              "      <td>15.180013</td>\n",
              "      <td>56.329076</td>\n",
              "      <td>4.500656</td>\n",
              "      <td>0</td>\n",
              "    </tr>\n",
              "    <tr>\n",
              "      <th>2</th>\n",
              "      <td>8.099124</td>\n",
              "      <td>224.236259</td>\n",
              "      <td>19909.541732</td>\n",
              "      <td>9.275884</td>\n",
              "      <td>NaN</td>\n",
              "      <td>418.606213</td>\n",
              "      <td>16.868637</td>\n",
              "      <td>66.420093</td>\n",
              "      <td>3.055934</td>\n",
              "      <td>0</td>\n",
              "    </tr>\n",
              "    <tr>\n",
              "      <th>3</th>\n",
              "      <td>8.316766</td>\n",
              "      <td>214.373394</td>\n",
              "      <td>22018.417441</td>\n",
              "      <td>8.059332</td>\n",
              "      <td>356.886136</td>\n",
              "      <td>363.266516</td>\n",
              "      <td>18.436524</td>\n",
              "      <td>100.341674</td>\n",
              "      <td>4.628771</td>\n",
              "      <td>0</td>\n",
              "    </tr>\n",
              "    <tr>\n",
              "      <th>4</th>\n",
              "      <td>9.092223</td>\n",
              "      <td>181.101509</td>\n",
              "      <td>17978.986339</td>\n",
              "      <td>6.546600</td>\n",
              "      <td>310.135738</td>\n",
              "      <td>398.410813</td>\n",
              "      <td>11.558279</td>\n",
              "      <td>31.997993</td>\n",
              "      <td>4.075075</td>\n",
              "      <td>0</td>\n",
              "    </tr>\n",
              "  </tbody>\n",
              "</table>\n",
              "</div>\n",
              "    <div class=\"colab-df-buttons\">\n",
              "\n",
              "  <div class=\"colab-df-container\">\n",
              "    <button class=\"colab-df-convert\" onclick=\"convertToInteractive('df-526e4792-35f6-4fbf-ba1d-bcc30ab045e6')\"\n",
              "            title=\"Convert this dataframe to an interactive table.\"\n",
              "            style=\"display:none;\">\n",
              "\n",
              "  <svg xmlns=\"http://www.w3.org/2000/svg\" height=\"24px\" viewBox=\"0 -960 960 960\">\n",
              "    <path d=\"M120-120v-720h720v720H120Zm60-500h600v-160H180v160Zm220 220h160v-160H400v160Zm0 220h160v-160H400v160ZM180-400h160v-160H180v160Zm440 0h160v-160H620v160ZM180-180h160v-160H180v160Zm440 0h160v-160H620v160Z\"/>\n",
              "  </svg>\n",
              "    </button>\n",
              "\n",
              "  <style>\n",
              "    .colab-df-container {\n",
              "      display:flex;\n",
              "      gap: 12px;\n",
              "    }\n",
              "\n",
              "    .colab-df-convert {\n",
              "      background-color: #E8F0FE;\n",
              "      border: none;\n",
              "      border-radius: 50%;\n",
              "      cursor: pointer;\n",
              "      display: none;\n",
              "      fill: #1967D2;\n",
              "      height: 32px;\n",
              "      padding: 0 0 0 0;\n",
              "      width: 32px;\n",
              "    }\n",
              "\n",
              "    .colab-df-convert:hover {\n",
              "      background-color: #E2EBFA;\n",
              "      box-shadow: 0px 1px 2px rgba(60, 64, 67, 0.3), 0px 1px 3px 1px rgba(60, 64, 67, 0.15);\n",
              "      fill: #174EA6;\n",
              "    }\n",
              "\n",
              "    .colab-df-buttons div {\n",
              "      margin-bottom: 4px;\n",
              "    }\n",
              "\n",
              "    [theme=dark] .colab-df-convert {\n",
              "      background-color: #3B4455;\n",
              "      fill: #D2E3FC;\n",
              "    }\n",
              "\n",
              "    [theme=dark] .colab-df-convert:hover {\n",
              "      background-color: #434B5C;\n",
              "      box-shadow: 0px 1px 3px 1px rgba(0, 0, 0, 0.15);\n",
              "      filter: drop-shadow(0px 1px 2px rgba(0, 0, 0, 0.3));\n",
              "      fill: #FFFFFF;\n",
              "    }\n",
              "  </style>\n",
              "\n",
              "    <script>\n",
              "      const buttonEl =\n",
              "        document.querySelector('#df-526e4792-35f6-4fbf-ba1d-bcc30ab045e6 button.colab-df-convert');\n",
              "      buttonEl.style.display =\n",
              "        google.colab.kernel.accessAllowed ? 'block' : 'none';\n",
              "\n",
              "      async function convertToInteractive(key) {\n",
              "        const element = document.querySelector('#df-526e4792-35f6-4fbf-ba1d-bcc30ab045e6');\n",
              "        const dataTable =\n",
              "          await google.colab.kernel.invokeFunction('convertToInteractive',\n",
              "                                                    [key], {});\n",
              "        if (!dataTable) return;\n",
              "\n",
              "        const docLinkHtml = 'Like what you see? Visit the ' +\n",
              "          '<a target=\"_blank\" href=https://colab.research.google.com/notebooks/data_table.ipynb>data table notebook</a>'\n",
              "          + ' to learn more about interactive tables.';\n",
              "        element.innerHTML = '';\n",
              "        dataTable['output_type'] = 'display_data';\n",
              "        await google.colab.output.renderOutput(dataTable, element);\n",
              "        const docLink = document.createElement('div');\n",
              "        docLink.innerHTML = docLinkHtml;\n",
              "        element.appendChild(docLink);\n",
              "      }\n",
              "    </script>\n",
              "  </div>\n",
              "\n",
              "\n",
              "<div id=\"df-0b1505d3-08a8-4dd1-8209-9951c21c6bbe\">\n",
              "  <button class=\"colab-df-quickchart\" onclick=\"quickchart('df-0b1505d3-08a8-4dd1-8209-9951c21c6bbe')\"\n",
              "            title=\"Suggest charts.\"\n",
              "            style=\"display:none;\">\n",
              "\n",
              "<svg xmlns=\"http://www.w3.org/2000/svg\" height=\"24px\"viewBox=\"0 0 24 24\"\n",
              "     width=\"24px\">\n",
              "    <g>\n",
              "        <path d=\"M19 3H5c-1.1 0-2 .9-2 2v14c0 1.1.9 2 2 2h14c1.1 0 2-.9 2-2V5c0-1.1-.9-2-2-2zM9 17H7v-7h2v7zm4 0h-2V7h2v10zm4 0h-2v-4h2v4z\"/>\n",
              "    </g>\n",
              "</svg>\n",
              "  </button>\n",
              "\n",
              "<style>\n",
              "  .colab-df-quickchart {\n",
              "      --bg-color: #E8F0FE;\n",
              "      --fill-color: #1967D2;\n",
              "      --hover-bg-color: #E2EBFA;\n",
              "      --hover-fill-color: #174EA6;\n",
              "      --disabled-fill-color: #AAA;\n",
              "      --disabled-bg-color: #DDD;\n",
              "  }\n",
              "\n",
              "  [theme=dark] .colab-df-quickchart {\n",
              "      --bg-color: #3B4455;\n",
              "      --fill-color: #D2E3FC;\n",
              "      --hover-bg-color: #434B5C;\n",
              "      --hover-fill-color: #FFFFFF;\n",
              "      --disabled-bg-color: #3B4455;\n",
              "      --disabled-fill-color: #666;\n",
              "  }\n",
              "\n",
              "  .colab-df-quickchart {\n",
              "    background-color: var(--bg-color);\n",
              "    border: none;\n",
              "    border-radius: 50%;\n",
              "    cursor: pointer;\n",
              "    display: none;\n",
              "    fill: var(--fill-color);\n",
              "    height: 32px;\n",
              "    padding: 0;\n",
              "    width: 32px;\n",
              "  }\n",
              "\n",
              "  .colab-df-quickchart:hover {\n",
              "    background-color: var(--hover-bg-color);\n",
              "    box-shadow: 0 1px 2px rgba(60, 64, 67, 0.3), 0 1px 3px 1px rgba(60, 64, 67, 0.15);\n",
              "    fill: var(--button-hover-fill-color);\n",
              "  }\n",
              "\n",
              "  .colab-df-quickchart-complete:disabled,\n",
              "  .colab-df-quickchart-complete:disabled:hover {\n",
              "    background-color: var(--disabled-bg-color);\n",
              "    fill: var(--disabled-fill-color);\n",
              "    box-shadow: none;\n",
              "  }\n",
              "\n",
              "  .colab-df-spinner {\n",
              "    border: 2px solid var(--fill-color);\n",
              "    border-color: transparent;\n",
              "    border-bottom-color: var(--fill-color);\n",
              "    animation:\n",
              "      spin 1s steps(1) infinite;\n",
              "  }\n",
              "\n",
              "  @keyframes spin {\n",
              "    0% {\n",
              "      border-color: transparent;\n",
              "      border-bottom-color: var(--fill-color);\n",
              "      border-left-color: var(--fill-color);\n",
              "    }\n",
              "    20% {\n",
              "      border-color: transparent;\n",
              "      border-left-color: var(--fill-color);\n",
              "      border-top-color: var(--fill-color);\n",
              "    }\n",
              "    30% {\n",
              "      border-color: transparent;\n",
              "      border-left-color: var(--fill-color);\n",
              "      border-top-color: var(--fill-color);\n",
              "      border-right-color: var(--fill-color);\n",
              "    }\n",
              "    40% {\n",
              "      border-color: transparent;\n",
              "      border-right-color: var(--fill-color);\n",
              "      border-top-color: var(--fill-color);\n",
              "    }\n",
              "    60% {\n",
              "      border-color: transparent;\n",
              "      border-right-color: var(--fill-color);\n",
              "    }\n",
              "    80% {\n",
              "      border-color: transparent;\n",
              "      border-right-color: var(--fill-color);\n",
              "      border-bottom-color: var(--fill-color);\n",
              "    }\n",
              "    90% {\n",
              "      border-color: transparent;\n",
              "      border-bottom-color: var(--fill-color);\n",
              "    }\n",
              "  }\n",
              "</style>\n",
              "\n",
              "  <script>\n",
              "    async function quickchart(key) {\n",
              "      const quickchartButtonEl =\n",
              "        document.querySelector('#' + key + ' button');\n",
              "      quickchartButtonEl.disabled = true;  // To prevent multiple clicks.\n",
              "      quickchartButtonEl.classList.add('colab-df-spinner');\n",
              "      try {\n",
              "        const charts = await google.colab.kernel.invokeFunction(\n",
              "            'suggestCharts', [key], {});\n",
              "      } catch (error) {\n",
              "        console.error('Error during call to suggestCharts:', error);\n",
              "      }\n",
              "      quickchartButtonEl.classList.remove('colab-df-spinner');\n",
              "      quickchartButtonEl.classList.add('colab-df-quickchart-complete');\n",
              "    }\n",
              "    (() => {\n",
              "      let quickchartButtonEl =\n",
              "        document.querySelector('#df-0b1505d3-08a8-4dd1-8209-9951c21c6bbe button');\n",
              "      quickchartButtonEl.style.display =\n",
              "        google.colab.kernel.accessAllowed ? 'block' : 'none';\n",
              "    })();\n",
              "  </script>\n",
              "</div>\n",
              "    </div>\n",
              "  </div>\n"
            ]
          },
          "metadata": {},
          "execution_count": 57
        }
      ]
    },
    {
      "cell_type": "markdown",
      "source": [
        "### **3-1-b. 이럴수가! 결측값이 있는 것 같네요! 아래의 코드를 실행시켜 어느 변수에 결측값이 있는지 확인하고, 결측값들은 모두 해당하는 변수의 평균으로 바꿔주세요.**"
      ],
      "metadata": {
        "id": "cXSVbYeI_DGz"
      }
    },
    {
      "cell_type": "code",
      "source": [
        "df.isnull().sum()"
      ],
      "metadata": {
        "id": "r4nKg2mF_FHE",
        "colab": {
          "base_uri": "https://localhost:8080/"
        },
        "outputId": "ed127970-aa63-49d3-cf05-bd4c35bb03b2"
      },
      "execution_count": 58,
      "outputs": [
        {
          "output_type": "execute_result",
          "data": {
            "text/plain": [
              "ph                 491\n",
              "Hardness             0\n",
              "Solids               0\n",
              "Chloramines          0\n",
              "Sulfate            781\n",
              "Conductivity         0\n",
              "Organic_carbon       0\n",
              "Trihalomethanes    162\n",
              "Turbidity            0\n",
              "Potability           0\n",
              "dtype: int64"
            ]
          },
          "metadata": {},
          "execution_count": 58
        }
      ]
    },
    {
      "cell_type": "code",
      "source": [
        "## 결측값을 해당 칼럼의 평균값으로 대체해 주세요.\n",
        "# 힌트: 파머완 138페이지\n",
        "df['ph'].fillna(df['ph'].mean(), inplace=True)\n",
        "df['Sulfate'].fillna(df['Sulfate'].mean(), inplace=True)\n",
        "df['Trihalomethanes'].fillna(df['Trihalomethanes'].mean(), inplace=True)\n",
        "\n",
        "\n",
        "\n",
        "# 데이터 확인\n",
        "df.head()"
      ],
      "metadata": {
        "id": "I3Iq_aHA_XUi",
        "colab": {
          "base_uri": "https://localhost:8080/",
          "height": 226
        },
        "outputId": "bd1c9c4b-d81f-422a-80dc-2f1f2ce46ad7"
      },
      "execution_count": 59,
      "outputs": [
        {
          "output_type": "execute_result",
          "data": {
            "text/plain": [
              "         ph    Hardness        Solids  Chloramines     Sulfate  Conductivity  \\\n",
              "0  7.080795  204.890455  20791.318981     7.300212  368.516441    564.308654   \n",
              "1  3.716080  129.422921  18630.057858     6.635246  333.775777    592.885359   \n",
              "2  8.099124  224.236259  19909.541732     9.275884  333.775777    418.606213   \n",
              "3  8.316766  214.373394  22018.417441     8.059332  356.886136    363.266516   \n",
              "4  9.092223  181.101509  17978.986339     6.546600  310.135738    398.410813   \n",
              "\n",
              "   Organic_carbon  Trihalomethanes  Turbidity  Potability  \n",
              "0       10.379783        86.990970   2.963135           0  \n",
              "1       15.180013        56.329076   4.500656           0  \n",
              "2       16.868637        66.420093   3.055934           0  \n",
              "3       18.436524       100.341674   4.628771           0  \n",
              "4       11.558279        31.997993   4.075075           0  "
            ],
            "text/html": [
              "\n",
              "  <div id=\"df-0848c5b6-89c8-4175-8cae-7f2ba4522360\" class=\"colab-df-container\">\n",
              "    <div>\n",
              "<style scoped>\n",
              "    .dataframe tbody tr th:only-of-type {\n",
              "        vertical-align: middle;\n",
              "    }\n",
              "\n",
              "    .dataframe tbody tr th {\n",
              "        vertical-align: top;\n",
              "    }\n",
              "\n",
              "    .dataframe thead th {\n",
              "        text-align: right;\n",
              "    }\n",
              "</style>\n",
              "<table border=\"1\" class=\"dataframe\">\n",
              "  <thead>\n",
              "    <tr style=\"text-align: right;\">\n",
              "      <th></th>\n",
              "      <th>ph</th>\n",
              "      <th>Hardness</th>\n",
              "      <th>Solids</th>\n",
              "      <th>Chloramines</th>\n",
              "      <th>Sulfate</th>\n",
              "      <th>Conductivity</th>\n",
              "      <th>Organic_carbon</th>\n",
              "      <th>Trihalomethanes</th>\n",
              "      <th>Turbidity</th>\n",
              "      <th>Potability</th>\n",
              "    </tr>\n",
              "  </thead>\n",
              "  <tbody>\n",
              "    <tr>\n",
              "      <th>0</th>\n",
              "      <td>7.080795</td>\n",
              "      <td>204.890455</td>\n",
              "      <td>20791.318981</td>\n",
              "      <td>7.300212</td>\n",
              "      <td>368.516441</td>\n",
              "      <td>564.308654</td>\n",
              "      <td>10.379783</td>\n",
              "      <td>86.990970</td>\n",
              "      <td>2.963135</td>\n",
              "      <td>0</td>\n",
              "    </tr>\n",
              "    <tr>\n",
              "      <th>1</th>\n",
              "      <td>3.716080</td>\n",
              "      <td>129.422921</td>\n",
              "      <td>18630.057858</td>\n",
              "      <td>6.635246</td>\n",
              "      <td>333.775777</td>\n",
              "      <td>592.885359</td>\n",
              "      <td>15.180013</td>\n",
              "      <td>56.329076</td>\n",
              "      <td>4.500656</td>\n",
              "      <td>0</td>\n",
              "    </tr>\n",
              "    <tr>\n",
              "      <th>2</th>\n",
              "      <td>8.099124</td>\n",
              "      <td>224.236259</td>\n",
              "      <td>19909.541732</td>\n",
              "      <td>9.275884</td>\n",
              "      <td>333.775777</td>\n",
              "      <td>418.606213</td>\n",
              "      <td>16.868637</td>\n",
              "      <td>66.420093</td>\n",
              "      <td>3.055934</td>\n",
              "      <td>0</td>\n",
              "    </tr>\n",
              "    <tr>\n",
              "      <th>3</th>\n",
              "      <td>8.316766</td>\n",
              "      <td>214.373394</td>\n",
              "      <td>22018.417441</td>\n",
              "      <td>8.059332</td>\n",
              "      <td>356.886136</td>\n",
              "      <td>363.266516</td>\n",
              "      <td>18.436524</td>\n",
              "      <td>100.341674</td>\n",
              "      <td>4.628771</td>\n",
              "      <td>0</td>\n",
              "    </tr>\n",
              "    <tr>\n",
              "      <th>4</th>\n",
              "      <td>9.092223</td>\n",
              "      <td>181.101509</td>\n",
              "      <td>17978.986339</td>\n",
              "      <td>6.546600</td>\n",
              "      <td>310.135738</td>\n",
              "      <td>398.410813</td>\n",
              "      <td>11.558279</td>\n",
              "      <td>31.997993</td>\n",
              "      <td>4.075075</td>\n",
              "      <td>0</td>\n",
              "    </tr>\n",
              "  </tbody>\n",
              "</table>\n",
              "</div>\n",
              "    <div class=\"colab-df-buttons\">\n",
              "\n",
              "  <div class=\"colab-df-container\">\n",
              "    <button class=\"colab-df-convert\" onclick=\"convertToInteractive('df-0848c5b6-89c8-4175-8cae-7f2ba4522360')\"\n",
              "            title=\"Convert this dataframe to an interactive table.\"\n",
              "            style=\"display:none;\">\n",
              "\n",
              "  <svg xmlns=\"http://www.w3.org/2000/svg\" height=\"24px\" viewBox=\"0 -960 960 960\">\n",
              "    <path d=\"M120-120v-720h720v720H120Zm60-500h600v-160H180v160Zm220 220h160v-160H400v160Zm0 220h160v-160H400v160ZM180-400h160v-160H180v160Zm440 0h160v-160H620v160ZM180-180h160v-160H180v160Zm440 0h160v-160H620v160Z\"/>\n",
              "  </svg>\n",
              "    </button>\n",
              "\n",
              "  <style>\n",
              "    .colab-df-container {\n",
              "      display:flex;\n",
              "      gap: 12px;\n",
              "    }\n",
              "\n",
              "    .colab-df-convert {\n",
              "      background-color: #E8F0FE;\n",
              "      border: none;\n",
              "      border-radius: 50%;\n",
              "      cursor: pointer;\n",
              "      display: none;\n",
              "      fill: #1967D2;\n",
              "      height: 32px;\n",
              "      padding: 0 0 0 0;\n",
              "      width: 32px;\n",
              "    }\n",
              "\n",
              "    .colab-df-convert:hover {\n",
              "      background-color: #E2EBFA;\n",
              "      box-shadow: 0px 1px 2px rgba(60, 64, 67, 0.3), 0px 1px 3px 1px rgba(60, 64, 67, 0.15);\n",
              "      fill: #174EA6;\n",
              "    }\n",
              "\n",
              "    .colab-df-buttons div {\n",
              "      margin-bottom: 4px;\n",
              "    }\n",
              "\n",
              "    [theme=dark] .colab-df-convert {\n",
              "      background-color: #3B4455;\n",
              "      fill: #D2E3FC;\n",
              "    }\n",
              "\n",
              "    [theme=dark] .colab-df-convert:hover {\n",
              "      background-color: #434B5C;\n",
              "      box-shadow: 0px 1px 3px 1px rgba(0, 0, 0, 0.15);\n",
              "      filter: drop-shadow(0px 1px 2px rgba(0, 0, 0, 0.3));\n",
              "      fill: #FFFFFF;\n",
              "    }\n",
              "  </style>\n",
              "\n",
              "    <script>\n",
              "      const buttonEl =\n",
              "        document.querySelector('#df-0848c5b6-89c8-4175-8cae-7f2ba4522360 button.colab-df-convert');\n",
              "      buttonEl.style.display =\n",
              "        google.colab.kernel.accessAllowed ? 'block' : 'none';\n",
              "\n",
              "      async function convertToInteractive(key) {\n",
              "        const element = document.querySelector('#df-0848c5b6-89c8-4175-8cae-7f2ba4522360');\n",
              "        const dataTable =\n",
              "          await google.colab.kernel.invokeFunction('convertToInteractive',\n",
              "                                                    [key], {});\n",
              "        if (!dataTable) return;\n",
              "\n",
              "        const docLinkHtml = 'Like what you see? Visit the ' +\n",
              "          '<a target=\"_blank\" href=https://colab.research.google.com/notebooks/data_table.ipynb>data table notebook</a>'\n",
              "          + ' to learn more about interactive tables.';\n",
              "        element.innerHTML = '';\n",
              "        dataTable['output_type'] = 'display_data';\n",
              "        await google.colab.output.renderOutput(dataTable, element);\n",
              "        const docLink = document.createElement('div');\n",
              "        docLink.innerHTML = docLinkHtml;\n",
              "        element.appendChild(docLink);\n",
              "      }\n",
              "    </script>\n",
              "  </div>\n",
              "\n",
              "\n",
              "<div id=\"df-8ab6eb78-0502-4203-a380-2548d0c4480c\">\n",
              "  <button class=\"colab-df-quickchart\" onclick=\"quickchart('df-8ab6eb78-0502-4203-a380-2548d0c4480c')\"\n",
              "            title=\"Suggest charts.\"\n",
              "            style=\"display:none;\">\n",
              "\n",
              "<svg xmlns=\"http://www.w3.org/2000/svg\" height=\"24px\"viewBox=\"0 0 24 24\"\n",
              "     width=\"24px\">\n",
              "    <g>\n",
              "        <path d=\"M19 3H5c-1.1 0-2 .9-2 2v14c0 1.1.9 2 2 2h14c1.1 0 2-.9 2-2V5c0-1.1-.9-2-2-2zM9 17H7v-7h2v7zm4 0h-2V7h2v10zm4 0h-2v-4h2v4z\"/>\n",
              "    </g>\n",
              "</svg>\n",
              "  </button>\n",
              "\n",
              "<style>\n",
              "  .colab-df-quickchart {\n",
              "      --bg-color: #E8F0FE;\n",
              "      --fill-color: #1967D2;\n",
              "      --hover-bg-color: #E2EBFA;\n",
              "      --hover-fill-color: #174EA6;\n",
              "      --disabled-fill-color: #AAA;\n",
              "      --disabled-bg-color: #DDD;\n",
              "  }\n",
              "\n",
              "  [theme=dark] .colab-df-quickchart {\n",
              "      --bg-color: #3B4455;\n",
              "      --fill-color: #D2E3FC;\n",
              "      --hover-bg-color: #434B5C;\n",
              "      --hover-fill-color: #FFFFFF;\n",
              "      --disabled-bg-color: #3B4455;\n",
              "      --disabled-fill-color: #666;\n",
              "  }\n",
              "\n",
              "  .colab-df-quickchart {\n",
              "    background-color: var(--bg-color);\n",
              "    border: none;\n",
              "    border-radius: 50%;\n",
              "    cursor: pointer;\n",
              "    display: none;\n",
              "    fill: var(--fill-color);\n",
              "    height: 32px;\n",
              "    padding: 0;\n",
              "    width: 32px;\n",
              "  }\n",
              "\n",
              "  .colab-df-quickchart:hover {\n",
              "    background-color: var(--hover-bg-color);\n",
              "    box-shadow: 0 1px 2px rgba(60, 64, 67, 0.3), 0 1px 3px 1px rgba(60, 64, 67, 0.15);\n",
              "    fill: var(--button-hover-fill-color);\n",
              "  }\n",
              "\n",
              "  .colab-df-quickchart-complete:disabled,\n",
              "  .colab-df-quickchart-complete:disabled:hover {\n",
              "    background-color: var(--disabled-bg-color);\n",
              "    fill: var(--disabled-fill-color);\n",
              "    box-shadow: none;\n",
              "  }\n",
              "\n",
              "  .colab-df-spinner {\n",
              "    border: 2px solid var(--fill-color);\n",
              "    border-color: transparent;\n",
              "    border-bottom-color: var(--fill-color);\n",
              "    animation:\n",
              "      spin 1s steps(1) infinite;\n",
              "  }\n",
              "\n",
              "  @keyframes spin {\n",
              "    0% {\n",
              "      border-color: transparent;\n",
              "      border-bottom-color: var(--fill-color);\n",
              "      border-left-color: var(--fill-color);\n",
              "    }\n",
              "    20% {\n",
              "      border-color: transparent;\n",
              "      border-left-color: var(--fill-color);\n",
              "      border-top-color: var(--fill-color);\n",
              "    }\n",
              "    30% {\n",
              "      border-color: transparent;\n",
              "      border-left-color: var(--fill-color);\n",
              "      border-top-color: var(--fill-color);\n",
              "      border-right-color: var(--fill-color);\n",
              "    }\n",
              "    40% {\n",
              "      border-color: transparent;\n",
              "      border-right-color: var(--fill-color);\n",
              "      border-top-color: var(--fill-color);\n",
              "    }\n",
              "    60% {\n",
              "      border-color: transparent;\n",
              "      border-right-color: var(--fill-color);\n",
              "    }\n",
              "    80% {\n",
              "      border-color: transparent;\n",
              "      border-right-color: var(--fill-color);\n",
              "      border-bottom-color: var(--fill-color);\n",
              "    }\n",
              "    90% {\n",
              "      border-color: transparent;\n",
              "      border-bottom-color: var(--fill-color);\n",
              "    }\n",
              "  }\n",
              "</style>\n",
              "\n",
              "  <script>\n",
              "    async function quickchart(key) {\n",
              "      const quickchartButtonEl =\n",
              "        document.querySelector('#' + key + ' button');\n",
              "      quickchartButtonEl.disabled = true;  // To prevent multiple clicks.\n",
              "      quickchartButtonEl.classList.add('colab-df-spinner');\n",
              "      try {\n",
              "        const charts = await google.colab.kernel.invokeFunction(\n",
              "            'suggestCharts', [key], {});\n",
              "      } catch (error) {\n",
              "        console.error('Error during call to suggestCharts:', error);\n",
              "      }\n",
              "      quickchartButtonEl.classList.remove('colab-df-spinner');\n",
              "      quickchartButtonEl.classList.add('colab-df-quickchart-complete');\n",
              "    }\n",
              "    (() => {\n",
              "      let quickchartButtonEl =\n",
              "        document.querySelector('#df-8ab6eb78-0502-4203-a380-2548d0c4480c button');\n",
              "      quickchartButtonEl.style.display =\n",
              "        google.colab.kernel.accessAllowed ? 'block' : 'none';\n",
              "    })();\n",
              "  </script>\n",
              "</div>\n",
              "    </div>\n",
              "  </div>\n"
            ]
          },
          "metadata": {},
          "execution_count": 59
        }
      ]
    },
    {
      "cell_type": "markdown",
      "source": [
        "### **3-1-c. df를 학습용 데이터와 테스트용 데이터로 분리해 주세요.**  \n",
        "(random_state = 42, 학습용 데이터가 전체의 **80%**를 차지하도록 설정)"
      ],
      "metadata": {
        "id": "OyXaOw0X_aXZ"
      }
    },
    {
      "cell_type": "code",
      "source": [
        "from sklearn.model_selection import train_test_split\n",
        "\n",
        "X = df.iloc[:, :-1]\n",
        "y = df.iloc[:, -1]\n",
        "\n",
        "X_train, X_test, y_train, y_test = train_test_split(X, y, test_size=0.2, random_state = 42)"
      ],
      "metadata": {
        "id": "oWbfGB4c_Znx"
      },
      "execution_count": 60,
      "outputs": []
    },
    {
      "cell_type": "markdown",
      "source": [
        "### **3-1-d. 위에서 만든 X_train, y_train을 다시 나누어 90%는 학습용으로, 10%는 검증용 데이터로 분리해 주세요.**  \n",
        "(random_state = 42)"
      ],
      "metadata": {
        "id": "hW1x8hQI_krM"
      }
    },
    {
      "cell_type": "code",
      "source": [
        "X_tr, X_val, y_tr, y_val = train_test_split(X_train, y_train, test_size=0.1, random_state = 42)"
      ],
      "metadata": {
        "id": "QPuPw7bb_qF8"
      },
      "execution_count": 61,
      "outputs": []
    },
    {
      "cell_type": "markdown",
      "source": [
        "### **3-1-e. 다음 조건에 따라 LGBMClassifier을 생성한 후 ```lgbm_wrapper```에 저장해 주세요.**\n",
        "- 반복 수행할 트리 개수: 800개\n",
        "- 학습률: 0.02"
      ],
      "metadata": {
        "id": "hEyCPkHZ_tYC"
      }
    },
    {
      "cell_type": "code",
      "source": [
        "lgbm_wrapper = LGBMClassifier(n_estimators=800, learning_rate=0.02)"
      ],
      "metadata": {
        "id": "4gPkmQo3_zlS"
      },
      "execution_count": 62,
      "outputs": []
    },
    {
      "cell_type": "markdown",
      "source": [
        "### **3-1-f. `lgbm_wrapper`가 100번 학습을 반복해도 성능이 향상되지 않으면 수행을 멈추도록 설정해서 학습시키세요.**\n",
        "- 평가 지표: logloss  \n",
        "\n",
        "(❓❓❓❓❓로 표시된 빈칸을 채워주세요!)"
      ],
      "metadata": {
        "id": "unGn5aOi_2LG"
      }
    },
    {
      "cell_type": "code",
      "source": [
        "evals = [(X_tr, y_tr), (X_val, y_val)]\n",
        "lgbm_wrapper.fit(X_tr, y_tr, early_stopping_rounds=100, eval_metric=\"logloss\", eval_set=evals, verbose=0)\n",
        "preds = lgbm_wrapper.predict(X_test)\n",
        "pred_proba = lgbm_wrapper.predict_proba(X_test)[:,1]"
      ],
      "metadata": {
        "id": "89l5qcaB_6QV"
      },
      "execution_count": 64,
      "outputs": []
    },
    {
      "cell_type": "markdown",
      "source": [
        "### **3-1-g. 위에서 학습시킨 `lgbm_wrapper`의 정확도를 출력하세요.**"
      ],
      "metadata": {
        "id": "z3YiAxdOAhqh"
      }
    },
    {
      "cell_type": "code",
      "source": [
        "from sklearn.metrics import accuracy_score\n",
        "accuracy = accuracy_score(y_test, preds)\n",
        "print('정확도: {}'.format(accuracy))"
      ],
      "metadata": {
        "id": "yrG3MF-JAom3",
        "colab": {
          "base_uri": "https://localhost:8080/"
        },
        "outputId": "29daf09c-7591-43dc-8cb9-db68cc4b71a8"
      },
      "execution_count": 65,
      "outputs": [
        {
          "output_type": "stream",
          "name": "stdout",
          "text": [
            "정확도: 0.676829268292683\n"
          ]
        }
      ]
    },
    {
      "cell_type": "markdown",
      "source": [
        "### **3-1-i. 피처 중요도를 중요한 순서대로 시각화 해주세요.**\n",
        "(힌트: 파머완 252 페이지)"
      ],
      "metadata": {
        "id": "s5_joSurAjHs"
      }
    },
    {
      "cell_type": "code",
      "source": [
        "from lightgbm import plot_importance\n",
        "import matplotlib.pyplot as plt\n",
        "%matplotlib inline\n",
        "\n",
        "fig, ax = plt.subplots(figsize=(10,12))\n",
        "plot_importance(lgbm_wrapper, ax=ax)"
      ],
      "metadata": {
        "id": "5PG_98tJBfB9",
        "colab": {
          "base_uri": "https://localhost:8080/",
          "height": 1000
        },
        "outputId": "90b07f6d-f927-4311-f465-3929a0ff7fc0"
      },
      "execution_count": 66,
      "outputs": [
        {
          "output_type": "execute_result",
          "data": {
            "text/plain": [
              "<Axes: title={'center': 'Feature importance'}, xlabel='Feature importance', ylabel='Features'>"
            ]
          },
          "metadata": {},
          "execution_count": 66
        },
        {
          "output_type": "display_data",
          "data": {
            "text/plain": [
              "<Figure size 1000x1200 with 1 Axes>"
            ],
            "image/png": "[encoded data removed]"
          },
          "metadata": {}
        }
      ]
    },
    {
      "cell_type": "markdown",
      "source": [
        "## **3-2. HyperOpt**"
      ],
      "metadata": {
        "id": "egUn68R9AjSZ"
      }
    },
    {
      "cell_type": "code",
      "source": [
        "from hyperopt import hp"
      ],
      "metadata": {
        "id": "YQfqj1GmGiYa"
      },
      "execution_count": 67,
      "outputs": []
    },
    {
      "cell_type": "markdown",
      "source": [
        "### **3-2-a. 주어진 정보를 바탕으로 검색 공간을 설정해 주세요.**\n",
        "(힌트: `hp.uniform`)\n",
        "\n",
        "- max_depth: 5에서 20까지, 간격 = 1\n",
        "- min_child_weight: 1에서 2까지, 간격 = 1\n",
        "- colsample_bytree: 0.5, 1\n",
        "- learning_rate: 0.01에서 0.2 사이, 정규 분포된 값으로"
      ],
      "metadata": {
        "id": "Dt90nZGGAjaO"
      }
    },
    {
      "cell_type": "code",
      "source": [
        "search_space = {'x': hp.quniform('x',5,20,1),\n",
        "                'y':hp.quniform('y',1,2,1),\n",
        "                'colsample_bytree':hp.uniform('colsample_bytree',0.5,1),\n",
        "                'learning_rate':hp.uniform('learning_rate',0.01,0.2)}"
      ],
      "metadata": {
        "id": "j9hI35hEBenL"
      },
      "execution_count": 68,
      "outputs": []
    },
    {
      "cell_type": "markdown",
      "source": [
        "### **3-2-b. 검색 공간을 인자로 받아 목적함수를 완성해 주세요.**\n",
        "(n_estimators = 800)  \n",
        "(❓❓❓❓❓로 표시된 빈칸을 채워주세요!)"
      ],
      "metadata": {
        "id": "3cSRp1UDAji8"
      }
    },
    {
      "cell_type": "code",
      "source": [
        "from sklearn.model_selection import cross_val_score\n",
        "from xgboost import XGBClassifier\n",
        "from hyperopt import STATUS_OK\n",
        "\n",
        "\n",
        "def objective_func(search_space):\n",
        "    xgb_clf = XGBClassifier(n_estimators = 800,\n",
        "                            max_depth = int(search_space['max_depth']),\n",
        "                            min_child_weight = int(search_space['min_child_weight']),\n",
        "                            learning_rate = search_space['learning_rate'],\n",
        "                            colsample_bytree = search_space['colsample_bytree'],\n",
        "                            eval_metric = 'logloss')\n",
        "    accuracy = cross_val_score(xgb_clf, X_train, y_train, scoring = 'accuracy', cv = 3)\n",
        "\n",
        "    return {'loss':-1 * np.mean(accuracy), 'status': STATUS_OK}"
      ],
      "metadata": {
        "id": "VIi05vIgHFKQ"
      },
      "execution_count": 69,
      "outputs": []
    },
    {
      "cell_type": "markdown",
      "source": [
        "### **3-2-c. best에 `fmin()` 함수를 이용하여 최적 파라미터 값들을 저장해 주세요.**\n",
        "- fn, 검색공간: 위에서 구한 값\n",
        "- 최대 반복 횟수: 50"
      ],
      "metadata": {
        "id": "dpFPo2bIBKYA"
      }
    },
    {
      "cell_type": "markdown",
      "source": [
        "***이부분에서 계속 오류가 나는데 해결을 못해서 코드만 작성했습니다.***"
      ],
      "metadata": {
        "id": "87LGTJ3jeJc5"
      }
    },
    {
      "cell_type": "code",
      "source": [
        "from hyperopt import fmin, tpe, Trials\n",
        "\n",
        "trial_val = Trials()\n",
        "best = fmin(fn = objective_func,\n",
        "            space = search_space,\n",
        "            algo = tpe.suggest,\n",
        "            max_evals = 50,\n",
        "            trials = trial_val,\n",
        "            rstate = np.random.default_rng(seed = 9))\n",
        "print('best:', best)"
      ],
      "metadata": {
        "id": "oagDclMCKKmS",
        "colab": {
          "base_uri": "https://localhost:8080/",
          "height": 443
        },
        "outputId": "0da212cd-5d42-43f4-dc88-f52101b5c7c9"
      },
      "execution_count": 70,
      "outputs": [
        {
          "output_type": "stream",
          "name": "stdout",
          "text": [
            "\r  0%|          | 0/50 [00:00<?, ?trial/s, best loss=?]"
          ]
        },
        {
          "output_type": "stream",
          "name": "stderr",
          "text": [
            "ERROR:hyperopt.fmin:job exception: 'max_depth'\n"
          ]
        },
        {
          "output_type": "stream",
          "name": "stdout",
          "text": [
            "\r  0%|          | 0/50 [00:00<?, ?trial/s, best loss=?]\n"
          ]
        },
        {
          "output_type": "error",
          "ename": "KeyError",
          "evalue": "ignored",
          "traceback": [
            "\u001b[0;31m---------------------------------------------------------------------------\u001b[0m",
            "\u001b[0;31mKeyError\u001b[0m                                  Traceback (most recent call last)",
            "\u001b[0;32m<ipython-input-70-8064da380e39>\u001b[0m in \u001b[0;36m<cell line: 4>\u001b[0;34m()\u001b[0m\n\u001b[1;32m      2\u001b[0m \u001b[0;34m\u001b[0m\u001b[0m\n\u001b[1;32m      3\u001b[0m \u001b[0mtrial_val\u001b[0m \u001b[0;34m=\u001b[0m \u001b[0mTrials\u001b[0m\u001b[0;34m(\u001b[0m\u001b[0;34m)\u001b[0m\u001b[0;34m\u001b[0m\u001b[0;34m\u001b[0m\u001b[0m\n\u001b[0;32m----> 4\u001b[0;31m best = fmin(fn = objective_func,\n\u001b[0m\u001b[1;32m      5\u001b[0m             \u001b[0mspace\u001b[0m \u001b[0;34m=\u001b[0m \u001b[0msearch_space\u001b[0m\u001b[0;34m,\u001b[0m\u001b[0;34m\u001b[0m\u001b[0;34m\u001b[0m\u001b[0m\n\u001b[1;32m      6\u001b[0m             \u001b[0malgo\u001b[0m \u001b[0;34m=\u001b[0m \u001b[0mtpe\u001b[0m\u001b[0;34m.\u001b[0m\u001b[0msuggest\u001b[0m\u001b[0;34m,\u001b[0m\u001b[0;34m\u001b[0m\u001b[0;34m\u001b[0m\u001b[0m\n",
            "\u001b[0;32m/usr/local/lib/python3.10/dist-packages/hyperopt/fmin.py\u001b[0m in \u001b[0;36mfmin\u001b[0;34m(fn, space, algo, max_evals, timeout, loss_threshold, trials, rstate, allow_trials_fmin, pass_expr_memo_ctrl, catch_eval_exceptions, verbose, return_argmin, points_to_evaluate, max_queue_len, show_progressbar, early_stop_fn, trials_save_file)\u001b[0m\n\u001b[1;32m    538\u001b[0m \u001b[0;34m\u001b[0m\u001b[0m\n\u001b[1;32m    539\u001b[0m     \u001b[0;32mif\u001b[0m \u001b[0mallow_trials_fmin\u001b[0m \u001b[0;32mand\u001b[0m \u001b[0mhasattr\u001b[0m\u001b[0;34m(\u001b[0m\u001b[0mtrials\u001b[0m\u001b[0;34m,\u001b[0m \u001b[0;34m\"fmin\"\u001b[0m\u001b[0;34m)\u001b[0m\u001b[0;34m:\u001b[0m\u001b[0;34m\u001b[0m\u001b[0;34m\u001b[0m\u001b[0m\n\u001b[0;32m--> 540\u001b[0;31m         return trials.fmin(\n\u001b[0m\u001b[1;32m    541\u001b[0m             \u001b[0mfn\u001b[0m\u001b[0;34m,\u001b[0m\u001b[0;34m\u001b[0m\u001b[0;34m\u001b[0m\u001b[0m\n\u001b[1;32m    542\u001b[0m             \u001b[0mspace\u001b[0m\u001b[0;34m,\u001b[0m\u001b[0;34m\u001b[0m\u001b[0;34m\u001b[0m\u001b[0m\n",
            "\u001b[0;32m/usr/local/lib/python3.10/dist-packages/hyperopt/base.py\u001b[0m in \u001b[0;36mfmin\u001b[0;34m(self, fn, space, algo, max_evals, timeout, loss_threshold, max_queue_len, rstate, verbose, pass_expr_memo_ctrl, catch_eval_exceptions, return_argmin, show_progressbar, early_stop_fn, trials_save_file)\u001b[0m\n\u001b[1;32m    669\u001b[0m         \u001b[0;32mfrom\u001b[0m \u001b[0;34m.\u001b[0m\u001b[0mfmin\u001b[0m \u001b[0;32mimport\u001b[0m \u001b[0mfmin\u001b[0m\u001b[0;34m\u001b[0m\u001b[0;34m\u001b[0m\u001b[0m\n\u001b[1;32m    670\u001b[0m \u001b[0;34m\u001b[0m\u001b[0m\n\u001b[0;32m--> 671\u001b[0;31m         return fmin(\n\u001b[0m\u001b[1;32m    672\u001b[0m             \u001b[0mfn\u001b[0m\u001b[0;34m,\u001b[0m\u001b[0;34m\u001b[0m\u001b[0;34m\u001b[0m\u001b[0m\n\u001b[1;32m    673\u001b[0m             \u001b[0mspace\u001b[0m\u001b[0;34m,\u001b[0m\u001b[0;34m\u001b[0m\u001b[0;34m\u001b[0m\u001b[0m\n",
            "\u001b[0;32m/usr/local/lib/python3.10/dist-packages/hyperopt/fmin.py\u001b[0m in \u001b[0;36mfmin\u001b[0;34m(fn, space, algo, max_evals, timeout, loss_threshold, trials, rstate, allow_trials_fmin, pass_expr_memo_ctrl, catch_eval_exceptions, verbose, return_argmin, points_to_evaluate, max_queue_len, show_progressbar, early_stop_fn, trials_save_file)\u001b[0m\n\u001b[1;32m    584\u001b[0m \u001b[0;34m\u001b[0m\u001b[0m\n\u001b[1;32m    585\u001b[0m     \u001b[0;31m# next line is where the fmin is actually executed\u001b[0m\u001b[0;34m\u001b[0m\u001b[0;34m\u001b[0m\u001b[0m\n\u001b[0;32m--> 586\u001b[0;31m     \u001b[0mrval\u001b[0m\u001b[0;34m.\u001b[0m\u001b[0mexhaust\u001b[0m\u001b[0;34m(\u001b[0m\u001b[0;34m)\u001b[0m\u001b[0;34m\u001b[0m\u001b[0;34m\u001b[0m\u001b[0m\n\u001b[0m\u001b[1;32m    587\u001b[0m \u001b[0;34m\u001b[0m\u001b[0m\n\u001b[1;32m    588\u001b[0m     \u001b[0;32mif\u001b[0m \u001b[0mreturn_argmin\u001b[0m\u001b[0;34m:\u001b[0m\u001b[0;34m\u001b[0m\u001b[0;34m\u001b[0m\u001b[0m\n",
            "\u001b[0;32m/usr/local/lib/python3.10/dist-packages/hyperopt/fmin.py\u001b[0m in \u001b[0;36mexhaust\u001b[0;34m(self)\u001b[0m\n\u001b[1;32m    362\u001b[0m     \u001b[0;32mdef\u001b[0m \u001b[0mexhaust\u001b[0m\u001b[0;34m(\u001b[0m\u001b[0mself\u001b[0m\u001b[0;34m)\u001b[0m\u001b[0;34m:\u001b[0m\u001b[0;34m\u001b[0m\u001b[0;34m\u001b[0m\u001b[0m\n\u001b[1;32m    363\u001b[0m         \u001b[0mn_done\u001b[0m \u001b[0;34m=\u001b[0m \u001b[0mlen\u001b[0m\u001b[0;34m(\u001b[0m\u001b[0mself\u001b[0m\u001b[0;34m.\u001b[0m\u001b[0mtrials\u001b[0m\u001b[0;34m)\u001b[0m\u001b[0;34m\u001b[0m\u001b[0;34m\u001b[0m\u001b[0m\n\u001b[0;32m--> 364\u001b[0;31m         \u001b[0mself\u001b[0m\u001b[0;34m.\u001b[0m\u001b[0mrun\u001b[0m\u001b[0;34m(\u001b[0m\u001b[0mself\u001b[0m\u001b[0;34m.\u001b[0m\u001b[0mmax_evals\u001b[0m \u001b[0;34m-\u001b[0m \u001b[0mn_done\u001b[0m\u001b[0;34m,\u001b[0m \u001b[0mblock_until_done\u001b[0m\u001b[0;34m=\u001b[0m\u001b[0mself\u001b[0m\u001b[0;34m.\u001b[0m\u001b[0masynchronous\u001b[0m\u001b[0;34m)\u001b[0m\u001b[0;34m\u001b[0m\u001b[0;34m\u001b[0m\u001b[0m\n\u001b[0m\u001b[1;32m    365\u001b[0m         \u001b[0mself\u001b[0m\u001b[0;34m.\u001b[0m\u001b[0mtrials\u001b[0m\u001b[0;34m.\u001b[0m\u001b[0mrefresh\u001b[0m\u001b[0;34m(\u001b[0m\u001b[0;34m)\u001b[0m\u001b[0;34m\u001b[0m\u001b[0;34m\u001b[0m\u001b[0m\n\u001b[1;32m    366\u001b[0m         \u001b[0;32mreturn\u001b[0m \u001b[0mself\u001b[0m\u001b[0;34m\u001b[0m\u001b[0;34m\u001b[0m\u001b[0m\n",
            "\u001b[0;32m/usr/local/lib/python3.10/dist-packages/hyperopt/fmin.py\u001b[0m in \u001b[0;36mrun\u001b[0;34m(self, N, block_until_done)\u001b[0m\n\u001b[1;32m    298\u001b[0m                 \u001b[0;32melse\u001b[0m\u001b[0;34m:\u001b[0m\u001b[0;34m\u001b[0m\u001b[0;34m\u001b[0m\u001b[0m\n\u001b[1;32m    299\u001b[0m                     \u001b[0;31m# -- loop over trials and do the jobs directly\u001b[0m\u001b[0;34m\u001b[0m\u001b[0;34m\u001b[0m\u001b[0m\n\u001b[0;32m--> 300\u001b[0;31m                     \u001b[0mself\u001b[0m\u001b[0;34m.\u001b[0m\u001b[0mserial_evaluate\u001b[0m\u001b[0;34m(\u001b[0m\u001b[0;34m)\u001b[0m\u001b[0;34m\u001b[0m\u001b[0;34m\u001b[0m\u001b[0m\n\u001b[0m\u001b[1;32m    301\u001b[0m \u001b[0;34m\u001b[0m\u001b[0m\n\u001b[1;32m    302\u001b[0m                 \u001b[0mself\u001b[0m\u001b[0;34m.\u001b[0m\u001b[0mtrials\u001b[0m\u001b[0;34m.\u001b[0m\u001b[0mrefresh\u001b[0m\u001b[0;34m(\u001b[0m\u001b[0;34m)\u001b[0m\u001b[0;34m\u001b[0m\u001b[0;34m\u001b[0m\u001b[0m\n",
            "\u001b[0;32m/usr/local/lib/python3.10/dist-packages/hyperopt/fmin.py\u001b[0m in \u001b[0;36mserial_evaluate\u001b[0;34m(self, N)\u001b[0m\n\u001b[1;32m    176\u001b[0m                 \u001b[0mctrl\u001b[0m \u001b[0;34m=\u001b[0m \u001b[0mbase\u001b[0m\u001b[0;34m.\u001b[0m\u001b[0mCtrl\u001b[0m\u001b[0;34m(\u001b[0m\u001b[0mself\u001b[0m\u001b[0;34m.\u001b[0m\u001b[0mtrials\u001b[0m\u001b[0;34m,\u001b[0m \u001b[0mcurrent_trial\u001b[0m\u001b[0;34m=\u001b[0m\u001b[0mtrial\u001b[0m\u001b[0;34m)\u001b[0m\u001b[0;34m\u001b[0m\u001b[0;34m\u001b[0m\u001b[0m\n\u001b[1;32m    177\u001b[0m                 \u001b[0;32mtry\u001b[0m\u001b[0;34m:\u001b[0m\u001b[0;34m\u001b[0m\u001b[0;34m\u001b[0m\u001b[0m\n\u001b[0;32m--> 178\u001b[0;31m                     \u001b[0mresult\u001b[0m \u001b[0;34m=\u001b[0m \u001b[0mself\u001b[0m\u001b[0;34m.\u001b[0m\u001b[0mdomain\u001b[0m\u001b[0;34m.\u001b[0m\u001b[0mevaluate\u001b[0m\u001b[0;34m(\u001b[0m\u001b[0mspec\u001b[0m\u001b[0;34m,\u001b[0m \u001b[0mctrl\u001b[0m\u001b[0;34m)\u001b[0m\u001b[0;34m\u001b[0m\u001b[0;34m\u001b[0m\u001b[0m\n\u001b[0m\u001b[1;32m    179\u001b[0m                 \u001b[0;32mexcept\u001b[0m \u001b[0mException\u001b[0m \u001b[0;32mas\u001b[0m \u001b[0me\u001b[0m\u001b[0;34m:\u001b[0m\u001b[0;34m\u001b[0m\u001b[0;34m\u001b[0m\u001b[0m\n\u001b[1;32m    180\u001b[0m                     \u001b[0mlogger\u001b[0m\u001b[0;34m.\u001b[0m\u001b[0merror\u001b[0m\u001b[0;34m(\u001b[0m\u001b[0;34m\"job exception: %s\"\u001b[0m \u001b[0;34m%\u001b[0m \u001b[0mstr\u001b[0m\u001b[0;34m(\u001b[0m\u001b[0me\u001b[0m\u001b[0;34m)\u001b[0m\u001b[0;34m)\u001b[0m\u001b[0;34m\u001b[0m\u001b[0;34m\u001b[0m\u001b[0m\n",
            "\u001b[0;32m/usr/local/lib/python3.10/dist-packages/hyperopt/base.py\u001b[0m in \u001b[0;36mevaluate\u001b[0;34m(self, config, ctrl, attach_attachments)\u001b[0m\n\u001b[1;32m    890\u001b[0m                 \u001b[0mprint_node_on_error\u001b[0m\u001b[0;34m=\u001b[0m\u001b[0mself\u001b[0m\u001b[0;34m.\u001b[0m\u001b[0mrec_eval_print_node_on_error\u001b[0m\u001b[0;34m,\u001b[0m\u001b[0;34m\u001b[0m\u001b[0;34m\u001b[0m\u001b[0m\n\u001b[1;32m    891\u001b[0m             )\n\u001b[0;32m--> 892\u001b[0;31m             \u001b[0mrval\u001b[0m \u001b[0;34m=\u001b[0m \u001b[0mself\u001b[0m\u001b[0;34m.\u001b[0m\u001b[0mfn\u001b[0m\u001b[0;34m(\u001b[0m\u001b[0mpyll_rval\u001b[0m\u001b[0;34m)\u001b[0m\u001b[0;34m\u001b[0m\u001b[0;34m\u001b[0m\u001b[0m\n\u001b[0m\u001b[1;32m    893\u001b[0m \u001b[0;34m\u001b[0m\u001b[0m\n\u001b[1;32m    894\u001b[0m         \u001b[0;32mif\u001b[0m \u001b[0misinstance\u001b[0m\u001b[0;34m(\u001b[0m\u001b[0mrval\u001b[0m\u001b[0;34m,\u001b[0m \u001b[0;34m(\u001b[0m\u001b[0mfloat\u001b[0m\u001b[0;34m,\u001b[0m \u001b[0mint\u001b[0m\u001b[0;34m,\u001b[0m \u001b[0mnp\u001b[0m\u001b[0;34m.\u001b[0m\u001b[0mnumber\u001b[0m\u001b[0;34m)\u001b[0m\u001b[0;34m)\u001b[0m\u001b[0;34m:\u001b[0m\u001b[0;34m\u001b[0m\u001b[0;34m\u001b[0m\u001b[0m\n",
            "\u001b[0;32m<ipython-input-69-03a562c9f807>\u001b[0m in \u001b[0;36mobjective_func\u001b[0;34m(search_space)\u001b[0m\n\u001b[1;32m      6\u001b[0m \u001b[0;32mdef\u001b[0m \u001b[0mobjective_func\u001b[0m\u001b[0;34m(\u001b[0m\u001b[0msearch_space\u001b[0m\u001b[0;34m)\u001b[0m\u001b[0;34m:\u001b[0m\u001b[0;34m\u001b[0m\u001b[0;34m\u001b[0m\u001b[0m\n\u001b[1;32m      7\u001b[0m     xgb_clf = XGBClassifier(n_estimators = 800,\n\u001b[0;32m----> 8\u001b[0;31m                             \u001b[0mmax_depth\u001b[0m \u001b[0;34m=\u001b[0m \u001b[0mint\u001b[0m\u001b[0;34m(\u001b[0m\u001b[0msearch_space\u001b[0m\u001b[0;34m[\u001b[0m\u001b[0;34m'max_depth'\u001b[0m\u001b[0;34m]\u001b[0m\u001b[0;34m)\u001b[0m\u001b[0;34m,\u001b[0m\u001b[0;34m\u001b[0m\u001b[0;34m\u001b[0m\u001b[0m\n\u001b[0m\u001b[1;32m      9\u001b[0m                             \u001b[0mmin_child_weight\u001b[0m \u001b[0;34m=\u001b[0m \u001b[0mint\u001b[0m\u001b[0;34m(\u001b[0m\u001b[0msearch_space\u001b[0m\u001b[0;34m[\u001b[0m\u001b[0;34m'min_child_weight'\u001b[0m\u001b[0;34m]\u001b[0m\u001b[0;34m)\u001b[0m\u001b[0;34m,\u001b[0m\u001b[0;34m\u001b[0m\u001b[0;34m\u001b[0m\u001b[0m\n\u001b[1;32m     10\u001b[0m                             \u001b[0mlearning_rate\u001b[0m \u001b[0;34m=\u001b[0m \u001b[0msearch_space\u001b[0m\u001b[0;34m[\u001b[0m\u001b[0;34m'learning_rate'\u001b[0m\u001b[0;34m]\u001b[0m\u001b[0;34m,\u001b[0m\u001b[0;34m\u001b[0m\u001b[0;34m\u001b[0m\u001b[0m\n",
            "\u001b[0;31mKeyError\u001b[0m: 'max_depth'"
          ]
        }
      ]
    },
    {
      "cell_type": "markdown",
      "source": [
        "### **3-2-d. 아래는 best에 포함된 최적 파라미터들을 할당한 분류기입니다. 해당 분류기의 정확도를 출력해 주세요.**"
      ],
      "metadata": {
        "id": "X00SYdMqBKf-"
      }
    },
    {
      "cell_type": "code",
      "source": [
        "xgb_wrapper = XGBClassifier(n_estimators = 400,\n",
        "                            learning_rate = round(best['learning_rate'], 5),\n",
        "                            max_depth = int(best['max_depth']),\n",
        "                            min_child_weight = int(best['min_child_weight']),\n",
        "                            colsample_bytree = round(best['colsample_bytree'], 5)\n",
        "                           )\n",
        "\n",
        "evals = [(X_tr, y_tr), (X_val, y_val)]\n",
        "xgb_wrapper.fit(X_tr, y_tr, early_stopping_rounds=50, eval_metric = 'logloss',\n",
        "                eval_set = evals, verbose = 0)\n",
        "\n",
        "pred = xgb_wrapper.predict(X_test)\n",
        "pred_proba = xgb_wrapper.predict_proba(X_test)[:,1]\n",
        "accuracy = accuracy_score(y_test, pred)\n",
        "print('정확도: {}'.format(accuracy))"
      ],
      "metadata": {
        "id": "YWG7Vx8qLskd",
        "colab": {
          "base_uri": "https://localhost:8080/",
          "height": 255
        },
        "outputId": "3e670990-3c9e-4728-f3da-88b538ffe07f"
      },
      "execution_count": 19,
      "outputs": [
        {
          "output_type": "error",
          "ename": "NameError",
          "evalue": "ignored",
          "traceback": [
            "\u001b[0;31m---------------------------------------------------------------------------\u001b[0m",
            "\u001b[0;31mNameError\u001b[0m                                 Traceback (most recent call last)",
            "\u001b[0;32m<ipython-input-19-8316d5cd9d12>\u001b[0m in \u001b[0;36m<cell line: 1>\u001b[0;34m()\u001b[0m\n\u001b[1;32m      1\u001b[0m xgb_wrapper = XGBClassifier(n_estimators = 400,\n\u001b[0;32m----> 2\u001b[0;31m                             \u001b[0mlearning_rate\u001b[0m \u001b[0;34m=\u001b[0m \u001b[0mround\u001b[0m\u001b[0;34m(\u001b[0m\u001b[0mbest\u001b[0m\u001b[0;34m[\u001b[0m\u001b[0;34m'learning_rate'\u001b[0m\u001b[0;34m]\u001b[0m\u001b[0;34m,\u001b[0m \u001b[0;36m5\u001b[0m\u001b[0;34m)\u001b[0m\u001b[0;34m,\u001b[0m\u001b[0;34m\u001b[0m\u001b[0;34m\u001b[0m\u001b[0m\n\u001b[0m\u001b[1;32m      3\u001b[0m                             \u001b[0mmax_depth\u001b[0m \u001b[0;34m=\u001b[0m \u001b[0mint\u001b[0m\u001b[0;34m(\u001b[0m\u001b[0mbest\u001b[0m\u001b[0;34m[\u001b[0m\u001b[0;34m'max_depth'\u001b[0m\u001b[0;34m]\u001b[0m\u001b[0;34m)\u001b[0m\u001b[0;34m,\u001b[0m\u001b[0;34m\u001b[0m\u001b[0;34m\u001b[0m\u001b[0m\n\u001b[1;32m      4\u001b[0m                             \u001b[0mmin_child_weight\u001b[0m \u001b[0;34m=\u001b[0m \u001b[0mint\u001b[0m\u001b[0;34m(\u001b[0m\u001b[0mbest\u001b[0m\u001b[0;34m[\u001b[0m\u001b[0;34m'min_child_weight'\u001b[0m\u001b[0;34m]\u001b[0m\u001b[0;34m)\u001b[0m\u001b[0;34m,\u001b[0m\u001b[0;34m\u001b[0m\u001b[0;34m\u001b[0m\u001b[0m\n\u001b[1;32m      5\u001b[0m                             \u001b[0mcolsample_bytree\u001b[0m \u001b[0;34m=\u001b[0m \u001b[0mround\u001b[0m\u001b[0;34m(\u001b[0m\u001b[0mbest\u001b[0m\u001b[0;34m[\u001b[0m\u001b[0;34m'colsample_bytree'\u001b[0m\u001b[0;34m]\u001b[0m\u001b[0;34m,\u001b[0m \u001b[0;36m5\u001b[0m\u001b[0;34m)\u001b[0m\u001b[0;34m\u001b[0m\u001b[0;34m\u001b[0m\u001b[0m\n",
            "\u001b[0;31mNameError\u001b[0m: name 'best' is not defined"
          ]
        }
      ]
    },
    {
      "cell_type": "markdown",
      "source": [
        "# **4. 스태킹**\n",
        "- 4번 문제는 3번 문제에서 전처리 된 `water_potability.csv` 데이터를 계속 활용하시면 됩니다."
      ],
      "metadata": {
        "id": "Zi7nlAXnaIvx"
      }
    },
    {
      "cell_type": "markdown",
      "source": [
        "## **4-a. 기본 스태킹 기법을 적용해 봅시다.**\n",
        "- `SVM`, `KNN`, `로지스틱 회귀`, `결정 트리` 모델 객체를 생성해 주세요.\n",
        "- 최종 메타 모델은 `랜덤 포레스트`를 활용해주세요.\n",
        "- 파라미터 설정\n",
        "  - SVM: random_state = 0\n",
        "  - KNN: n_neighbors = 8\n",
        "  - RandomForest: n_estimators = 100, random_state = 0\n",
        "  - 나머지: 기본 파라미터(base model)"
      ],
      "metadata": {
        "id": "zo-EqV9IaOHE"
      }
    },
    {
      "cell_type": "code",
      "source": [
        "import numpy as np\n",
        "import pandas as pd\n",
        "import seaborn as sns\n",
        "import matplotlib.pyplot as plt\n",
        "%matplotlib inline"
      ],
      "metadata": {
        "id": "A8oVE61iW2rE"
      },
      "execution_count": 20,
      "outputs": []
    },
    {
      "cell_type": "code",
      "source": [
        "# SVM, KNN, 로지스틱 회귀, 결정 트리 개별 모델들을 생성해 주세요.\n",
        "from sklearn.tree import DecisionTreeClassifier\n",
        "from sklearn.neighbors import KNeighborsClassifier\n",
        "from sklearn.linear_model import LogisticRegression\n",
        "from sklearn.svm import SVC\n",
        "from sklearn.ensemble import RandomForestClassifier\n",
        "\n",
        "svm_clf = SVC(random_state=0)\n",
        "knn_clf = KNeighborsClassifier(n_neighbors=8)\n",
        "lr_clf = LogisticRegression()\n",
        "dt_clf = DecisionTreeClassifier()\n",
        "\n",
        "# 최종 메타 모델로 랜덤 포레스트를 생성해 주세요.\n",
        "rf_final = RandomForestClassifier(n_estimators = 100, random_state = 0)"
      ],
      "metadata": {
        "id": "-g8nzDlXW_hD"
      },
      "execution_count": 22,
      "outputs": []
    },
    {
      "cell_type": "markdown",
      "source": [
        "## **4-b. 개별 모델들을 학습시키고 예측을 수행합니다.**\n",
        "- 아래 코드를 완성시켜 봅시다.\n",
        "\n"
      ],
      "metadata": {
        "id": "_kiFDVuDZ92_"
      }
    },
    {
      "cell_type": "code",
      "source": [
        "svm_clf.fit(X_tr, y_tr)\n",
        "knn_clf.fit(X_tr, y_tr)\n",
        "lr_clf.fit(X_tr, y_tr)\n",
        "dt_clf.fit(X_tr, y_tr)"
      ],
      "metadata": {
        "id": "Vda9AE6ga1ne",
        "colab": {
          "base_uri": "https://localhost:8080/",
          "height": 74
        },
        "outputId": "f4759c62-ca60-401b-a6f9-09b110c73664"
      },
      "execution_count": 23,
      "outputs": [
        {
          "output_type": "execute_result",
          "data": {
            "text/plain": [
              "DecisionTreeClassifier()"
            ],
            "text/html": [
              "<style>#sk-container-id-1 {color: black;background-color: white;}#sk-container-id-1 pre{padding: 0;}#sk-container-id-1 div.sk-toggleable {background-color: white;}#sk-container-id-1 label.sk-toggleable__label {cursor: pointer;display: block;width: 100%;margin-bottom: 0;padding: 0.3em;box-sizing: border-box;text-align: center;}#sk-container-id-1 label.sk-toggleable__label-arrow:before {content: \"▸\";float: left;margin-right: 0.25em;color: #696969;}#sk-container-id-1 label.sk-toggleable__label-arrow:hover:before {color: black;}#sk-container-id-1 div.sk-estimator:hover label.sk-toggleable__label-arrow:before {color: black;}#sk-container-id-1 div.sk-toggleable__content {max-height: 0;max-width: 0;overflow: hidden;text-align: left;background-color: #f0f8ff;}#sk-container-id-1 div.sk-toggleable__content pre {margin: 0.2em;color: black;border-radius: 0.25em;background-color: #f0f8ff;}#sk-container-id-1 input.sk-toggleable__control:checked~div.sk-toggleable__content {max-height: 200px;max-width: 100%;overflow: auto;}#sk-container-id-1 input.sk-toggleable__control:checked~label.sk-toggleable__label-arrow:before {content: \"▾\";}#sk-container-id-1 div.sk-estimator input.sk-toggleable__control:checked~label.sk-toggleable__label {background-color: #d4ebff;}#sk-container-id-1 div.sk-label input.sk-toggleable__control:checked~label.sk-toggleable__label {background-color: #d4ebff;}#sk-container-id-1 input.sk-hidden--visually {border: 0;clip: rect(1px 1px 1px 1px);clip: rect(1px, 1px, 1px, 1px);height: 1px;margin: -1px;overflow: hidden;padding: 0;position: absolute;width: 1px;}#sk-container-id-1 div.sk-estimator {font-family: monospace;background-color: #f0f8ff;border: 1px dotted black;border-radius: 0.25em;box-sizing: border-box;margin-bottom: 0.5em;}#sk-container-id-1 div.sk-estimator:hover {background-color: #d4ebff;}#sk-container-id-1 div.sk-parallel-item::after {content: \"\";width: 100%;border-bottom: 1px solid gray;flex-grow: 1;}#sk-container-id-1 div.sk-label:hover label.sk-toggleable__label {background-color: #d4ebff;}#sk-container-id-1 div.sk-serial::before {content: \"\";position: absolute;border-left: 1px solid gray;box-sizing: border-box;top: 0;bottom: 0;left: 50%;z-index: 0;}#sk-container-id-1 div.sk-serial {display: flex;flex-direction: column;align-items: center;background-color: white;padding-right: 0.2em;padding-left: 0.2em;position: relative;}#sk-container-id-1 div.sk-item {position: relative;z-index: 1;}#sk-container-id-1 div.sk-parallel {display: flex;align-items: stretch;justify-content: center;background-color: white;position: relative;}#sk-container-id-1 div.sk-item::before, #sk-container-id-1 div.sk-parallel-item::before {content: \"\";position: absolute;border-left: 1px solid gray;box-sizing: border-box;top: 0;bottom: 0;left: 50%;z-index: -1;}#sk-container-id-1 div.sk-parallel-item {display: flex;flex-direction: column;z-index: 1;position: relative;background-color: white;}#sk-container-id-1 div.sk-parallel-item:first-child::after {align-self: flex-end;width: 50%;}#sk-container-id-1 div.sk-parallel-item:last-child::after {align-self: flex-start;width: 50%;}#sk-container-id-1 div.sk-parallel-item:only-child::after {width: 0;}#sk-container-id-1 div.sk-dashed-wrapped {border: 1px dashed gray;margin: 0 0.4em 0.5em 0.4em;box-sizing: border-box;padding-bottom: 0.4em;background-color: white;}#sk-container-id-1 div.sk-label label {font-family: monospace;font-weight: bold;display: inline-block;line-height: 1.2em;}#sk-container-id-1 div.sk-label-container {text-align: center;}#sk-container-id-1 div.sk-container {/* jupyter's `normalize.less` sets `[hidden] { display: none; }` but bootstrap.min.css set `[hidden] { display: none !important; }` so we also need the `!important` here to be able to override the default hidden behavior on the sphinx rendered scikit-learn.org. See: https://github.com/scikit-learn/scikit-learn/issues/21755 */display: inline-block !important;position: relative;}#sk-container-id-1 div.sk-text-repr-fallback {display: none;}</style><div id=\"sk-container-id-1\" class=\"sk-top-container\"><div class=\"sk-text-repr-fallback\"><pre>DecisionTreeClassifier()</pre><b>In a Jupyter environment, please rerun this cell to show the HTML representation or trust the notebook. <br />On GitHub, the HTML representation is unable to render, please try loading this page with nbviewer.org.</b></div><div class=\"sk-container\" hidden><div class=\"sk-item\"><div class=\"sk-estimator sk-toggleable\"><input class=\"sk-toggleable__control sk-hidden--visually\" id=\"sk-estimator-id-1\" type=\"checkbox\" checked><label for=\"sk-estimator-id-1\" class=\"sk-toggleable__label sk-toggleable__label-arrow\">DecisionTreeClassifier</label><div class=\"sk-toggleable__content\"><pre>DecisionTreeClassifier()</pre></div></div></div></div></div>"
            ]
          },
          "metadata": {},
          "execution_count": 23
        }
      ]
    },
    {
      "cell_type": "code",
      "source": [
        "## 학습된 개별 모델들이 반환하는 예측 데이터셋을 생성하세요.\n",
        "# 예측 시 들어가는 테스트 데이터셋 이름은 X_val 입니다.\n",
        "svm_pred = svm_clf.predict(X_val)\n",
        "knn_pred = knn_clf.predict(X_val)\n",
        "lr_pred = lr_clf.predict(X_val)\n",
        "dt_pred = dt_clf.predict(X_val)\n",
        "\n",
        "## 예측 정확도를 반환하세요. 테스트 레이블 데이터셋 이름은 y_val 입니다.\n",
        "# hint : accuracy_score()\n",
        "print('SVM 정확도: {0:.4f}'.format(accuracy_score(y_val, svm_pred)))\n",
        "print('KNN 정확도: {0:.4f}'.format(accuracy_score(y_val, knn_pred)))\n",
        "print('로지스틱 회귀 정확도: {0:.4f}'.format(accuracy_score(y_val, lr_pred)))\n",
        "print('결정 트리 정확도: {0:.4f}'.format(accuracy_score(y_val, dt_pred)))"
      ],
      "metadata": {
        "id": "bqQEJMSwbXfz",
        "colab": {
          "base_uri": "https://localhost:8080/"
        },
        "outputId": "a61aa71c-d1db-4988-cb06-b5b10d76504b"
      },
      "execution_count": 24,
      "outputs": [
        {
          "output_type": "stream",
          "name": "stdout",
          "text": [
            "SVM 정확도: 0.6145\n",
            "KNN 정확도: 0.6031\n",
            "로지스틱 회귀 정확도: 0.6145\n",
            "결정 트리 정확도: 0.6069\n"
          ]
        }
      ]
    },
    {
      "cell_type": "markdown",
      "source": [
        "## **4-c. 반환된 예측 데이터셋을 행 형태로 묶어 pred 데이터셋에 저장합니다**"
      ],
      "metadata": {
        "id": "AmQiW4i4c_9B"
      }
    },
    {
      "cell_type": "code",
      "source": [
        "pred = np.array([svm_pred, knn_pred, lr_pred, dt_pred])\n",
        "print(pred.shape)\n",
        "\n",
        "# 행과 열의 위치를 교환해 원본 데이터 값 하나 당 예측 데이터셋의 값이 1대1 매칭이 되도록 하세요.\n",
        "pred = np.transpose(pred)\n",
        "print(pred.shape)"
      ],
      "metadata": {
        "id": "Od3yHZ3fc8Uf",
        "colab": {
          "base_uri": "https://localhost:8080/"
        },
        "outputId": "bf305fc7-efa5-44fc-fb80-b1a6cff453cb"
      },
      "execution_count": 25,
      "outputs": [
        {
          "output_type": "stream",
          "name": "stdout",
          "text": [
            "(4, 262)\n",
            "(262, 4)\n"
          ]
        }
      ]
    },
    {
      "cell_type": "markdown",
      "source": [
        "## **4-d. 완성된 최종 데이터셋을 최종 메타 모델에 학습시키고 예측시킵니다.**\n",
        "- 기본 스태킹 모델이므로 학습과 예측 모두 **동일한** 데이터셋을 사용합니다.\n",
        "- **정확도**도 함께 출력해 주세요."
      ],
      "metadata": {
        "id": "h8rhG78DdzpT"
      }
    },
    {
      "cell_type": "code",
      "source": [
        "rf_final.fit(pred, y_val)\n",
        "final = rf_final.predict(pred)\n",
        "\n",
        "print('최종 메타 모델의 예측 정확도: {0:.4f}'.format(accuracy_score(y_val , final)))"
      ],
      "metadata": {
        "id": "eDf69kCPebqf",
        "colab": {
          "base_uri": "https://localhost:8080/"
        },
        "outputId": "2df08fe4-fcd8-4e29-f7b5-80927bdefdcf"
      },
      "execution_count": 26,
      "outputs": [
        {
          "output_type": "stream",
          "name": "stdout",
          "text": [
            "최종 메타 모델의 예측 정확도: 0.6145\n"
          ]
        }
      ]
    },
    {
      "cell_type": "markdown",
      "source": [
        "# **5. CatBoost**\n",
        "- 책에서 다루지 않는 부분이기 때문에 간단한 실습만 진행합니다."
      ],
      "metadata": {
        "id": "Bt9i77_NqqJp"
      }
    },
    {
      "cell_type": "code",
      "source": [
        "# catboost를 사용하기 위해 다음 코드를 실행합니다.\n",
        "\n",
        "!pip install optuna\n",
        "!pip install catboost"
      ],
      "metadata": {
        "id": "bUp-KlCjr7nt",
        "colab": {
          "base_uri": "https://localhost:8080/"
        },
        "outputId": "a33ca126-4fb7-40d9-839e-b136d8815e2a"
      },
      "execution_count": 27,
      "outputs": [
        {
          "output_type": "stream",
          "name": "stdout",
          "text": [
            "Collecting optuna\n",
            "  Downloading optuna-3.3.0-py3-none-any.whl (404 kB)\n",
            "\u001b[2K     \u001b[90m━━━━━━━━━━━━━━━━━━━━━━━━━━━━━━━━━━━━━━━\u001b[0m \u001b[32m404.2/404.2 kB\u001b[0m \u001b[31m7.3 MB/s\u001b[0m eta \u001b[36m0:00:00\u001b[0m\n",
            "\u001b[?25hCollecting alembic>=1.5.0 (from optuna)\n",
            "  Downloading alembic-1.12.0-py3-none-any.whl (226 kB)\n",
            "\u001b[2K     \u001b[90m━━━━━━━━━━━━━━━━━━━━━━━━━━━━━━━━━━━━━━\u001b[0m \u001b[32m226.0/226.0 kB\u001b[0m \u001b[31m15.3 MB/s\u001b[0m eta \u001b[36m0:00:00\u001b[0m\n",
            "\u001b[?25hCollecting cmaes>=0.10.0 (from optuna)\n",
            "  Downloading cmaes-0.10.0-py3-none-any.whl (29 kB)\n",
            "Collecting colorlog (from optuna)\n",
            "  Downloading colorlog-6.7.0-py2.py3-none-any.whl (11 kB)\n",
            "Requirement already satisfied: numpy in /usr/local/lib/python3.10/dist-packages (from optuna) (1.23.5)\n",
            "Requirement already satisfied: packaging>=20.0 in /usr/local/lib/python3.10/dist-packages (from optuna) (23.1)\n",
            "Requirement already satisfied: sqlalchemy>=1.3.0 in /usr/local/lib/python3.10/dist-packages (from optuna) (2.0.20)\n",
            "Requirement already satisfied: tqdm in /usr/local/lib/python3.10/dist-packages (from optuna) (4.66.1)\n",
            "Requirement already satisfied: PyYAML in /usr/local/lib/python3.10/dist-packages (from optuna) (6.0.1)\n",
            "Collecting Mako (from alembic>=1.5.0->optuna)\n",
            "  Downloading Mako-1.2.4-py3-none-any.whl (78 kB)\n",
            "\u001b[2K     \u001b[90m━━━━━━━━━━━━━━━━━━━━━━━━━━━━━━━━━━━━━━━━\u001b[0m \u001b[32m78.7/78.7 kB\u001b[0m \u001b[31m9.0 MB/s\u001b[0m eta \u001b[36m0:00:00\u001b[0m\n",
            "\u001b[?25hRequirement already satisfied: typing-extensions>=4 in /usr/local/lib/python3.10/dist-packages (from alembic>=1.5.0->optuna) (4.5.0)\n",
            "Requirement already satisfied: greenlet!=0.4.17 in /usr/local/lib/python3.10/dist-packages (from sqlalchemy>=1.3.0->optuna) (2.0.2)\n",
            "Requirement already satisfied: MarkupSafe>=0.9.2 in /usr/local/lib/python3.10/dist-packages (from Mako->alembic>=1.5.0->optuna) (2.1.3)\n",
            "Installing collected packages: Mako, colorlog, cmaes, alembic, optuna\n",
            "Successfully installed Mako-1.2.4 alembic-1.12.0 cmaes-0.10.0 colorlog-6.7.0 optuna-3.3.0\n",
            "Collecting catboost\n",
            "  Downloading catboost-1.2.2-cp310-cp310-manylinux2014_x86_64.whl (98.7 MB)\n",
            "\u001b[2K     \u001b[90m━━━━━━━━━━━━━━━━━━━━━━━━━━━━━━━━━━━━━━━━\u001b[0m \u001b[32m98.7/98.7 MB\u001b[0m \u001b[31m10.0 MB/s\u001b[0m eta \u001b[36m0:00:00\u001b[0m\n",
            "\u001b[?25hRequirement already satisfied: graphviz in /usr/local/lib/python3.10/dist-packages (from catboost) (0.20.1)\n",
            "Requirement already satisfied: matplotlib in /usr/local/lib/python3.10/dist-packages (from catboost) (3.7.1)\n",
            "Requirement already satisfied: numpy>=1.16.0 in /usr/local/lib/python3.10/dist-packages (from catboost) (1.23.5)\n",
            "Requirement already satisfied: pandas>=0.24 in /usr/local/lib/python3.10/dist-packages (from catboost) (1.5.3)\n",
            "Requirement already satisfied: scipy in /usr/local/lib/python3.10/dist-packages (from catboost) (1.11.2)\n",
            "Requirement already satisfied: plotly in /usr/local/lib/python3.10/dist-packages (from catboost) (5.15.0)\n",
            "Requirement already satisfied: six in /usr/local/lib/python3.10/dist-packages (from catboost) (1.16.0)\n",
            "Requirement already satisfied: python-dateutil>=2.8.1 in /usr/local/lib/python3.10/dist-packages (from pandas>=0.24->catboost) (2.8.2)\n",
            "Requirement already satisfied: pytz>=2020.1 in /usr/local/lib/python3.10/dist-packages (from pandas>=0.24->catboost) (2023.3.post1)\n",
            "Requirement already satisfied: contourpy>=1.0.1 in /usr/local/lib/python3.10/dist-packages (from matplotlib->catboost) (1.1.0)\n",
            "Requirement already satisfied: cycler>=0.10 in /usr/local/lib/python3.10/dist-packages (from matplotlib->catboost) (0.11.0)\n",
            "Requirement already satisfied: fonttools>=4.22.0 in /usr/local/lib/python3.10/dist-packages (from matplotlib->catboost) (4.42.1)\n",
            "Requirement already satisfied: kiwisolver>=1.0.1 in /usr/local/lib/python3.10/dist-packages (from matplotlib->catboost) (1.4.5)\n",
            "Requirement already satisfied: packaging>=20.0 in /usr/local/lib/python3.10/dist-packages (from matplotlib->catboost) (23.1)\n",
            "Requirement already satisfied: pillow>=6.2.0 in /usr/local/lib/python3.10/dist-packages (from matplotlib->catboost) (9.4.0)\n",
            "Requirement already satisfied: pyparsing>=2.3.1 in /usr/local/lib/python3.10/dist-packages (from matplotlib->catboost) (3.1.1)\n",
            "Requirement already satisfied: tenacity>=6.2.0 in /usr/local/lib/python3.10/dist-packages (from plotly->catboost) (8.2.3)\n",
            "Installing collected packages: catboost\n",
            "Successfully installed catboost-1.2.2\n"
          ]
        }
      ]
    },
    {
      "cell_type": "code",
      "source": [
        "from sklearn import datasets\n",
        "from sklearn import metrics\n",
        "from catboost import CatBoostClassifier"
      ],
      "metadata": {
        "id": "xbcYHmIsqycq"
      },
      "execution_count": 28,
      "outputs": []
    },
    {
      "cell_type": "code",
      "source": [
        "df = datasets.load_iris()\n",
        "X = df.data\n",
        "y = df.target\n",
        "\n",
        "X_train, X_test, y_train, y_test = train_test_split(X, y, test_size = 0.3)"
      ],
      "metadata": {
        "id": "cT3d6EKqsJRj"
      },
      "execution_count": 29,
      "outputs": []
    },
    {
      "cell_type": "code",
      "source": [
        "# CatBoostClassifier 객체를 생성하고 학습시켜 주세요.\n",
        "\n",
        "model_CBC = CatBoostClassifier()\n",
        "model_CBC.fit(X_train, y_train, verbose = 0)"
      ],
      "metadata": {
        "id": "8t-R1-Wfskfm",
        "colab": {
          "base_uri": "https://localhost:8080/"
        },
        "outputId": "485c12ef-c1f6-4f68-a2ac-ddbf9a4f3ca0"
      },
      "execution_count": 30,
      "outputs": [
        {
          "output_type": "execute_result",
          "data": {
            "text/plain": [
              "<catboost.core.CatBoostClassifier at 0x78792682d540>"
            ]
          },
          "metadata": {},
          "execution_count": 30
        }
      ]
    },
    {
      "cell_type": "code",
      "source": [
        "# pred에 X_test에 대한 예측 결과를 저장해 주세요.\n",
        "pred = model_CBC.predict(X_test)\n",
        "\n",
        "# 아래 코드를 완성해서 정확도를 출력하세요.\n",
        "print('CatBoost의 예측 정확도: {0:.4f}'.format(accuracy_score(y_test, pred)))"
      ],
      "metadata": {
        "id": "7yfAnYNXs4LW",
        "colab": {
          "base_uri": "https://localhost:8080/"
        },
        "outputId": "3753e597-27f2-4b68-8c22-d29de8f515d0"
      },
      "execution_count": 32,
      "outputs": [
        {
          "output_type": "stream",
          "name": "stdout",
          "text": [
            "CatBoost의 예측 정확도: 0.9556\n"
          ]
        }
      ]
    }
  ]
}