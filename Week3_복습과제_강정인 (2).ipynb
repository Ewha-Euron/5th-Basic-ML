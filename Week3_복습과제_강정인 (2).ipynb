{
  "nbformat": 4,
  "nbformat_minor": 0,
  "metadata": {
    "colab": {
      "provenance": []
    },
    "kernelspec": {
      "name": "python3",
      "display_name": "Python 3"
    },
    "language_info": {
      "name": "python"
    }
  },
  "cells": [
    {
      "cell_type": "markdown",
      "source": [
        "# **1. GBM**\n"
      ],
      "metadata": {
        "id": "oW4LpW9lRj3n"
      }
    },
    {
      "cell_type": "markdown",
      "source": [
        "## **1-a. `creditcard.csv`를 다운받은 후 실습을 진행해 주세요.**\n",
        "- 데이터 출처: [Credit Card Fraud Detection](https://www.kaggle.com/datasets/mlg-ulb/creditcardfraud)"
      ],
      "metadata": {
        "id": "s3_1vAdpRxoo"
      }
    },
    {
      "cell_type": "code",
      "source": [
        "## Colab - 구글 드라이브 마운트\n",
        "# Colab을 사용하시는 분들만 실행시켜 주시면 됩니다.\n",
        "\n",
        "from google.colab import drive\n",
        "drive.mount('/content/drive')"
      ],
      "metadata": {
        "id": "3vR5gQ4HYGAX",
        "colab": {
          "base_uri": "https://localhost:8080/"
        },
        "outputId": "828a744a-ae2c-4a46-c23d-56db9e761665"
      },
      "execution_count": 11,
      "outputs": [
        {
          "output_type": "stream",
          "name": "stdout",
          "text": [
            "Mounted at /content/drive\n"
          ]
        }
      ]
    },
    {
      "cell_type": "code",
      "source": [
        "import pandas as pd\n",
        "df = pd.read_csv('creditcard.csv')"
      ],
      "metadata": {
        "id": "lkOKaEKZG2Yn"
      },
      "execution_count": 14,
      "outputs": []
    },
    {
      "cell_type": "markdown",
      "source": [
        "## **1-b. GradientBoostingClassifier을 이용하여 훈련 데이터를 fit한 후, GBM 정확도와 수행시간을 구하세요.**\n",
        "(test_size = 0.2, random_state = 42)"
      ],
      "metadata": {
        "id": "2_tC0W-5Ryje"
      }
    },
    {
      "cell_type": "code",
      "source": [
        "from sklearn.ensemble import GradientBoostingClassifier\n",
        "from sklearn.metrics import accuracy_score\n",
        "from sklearn.model_selection import train_test_split\n",
        "import time\n",
        "import warnings\n",
        "warnings.filterwarnings('ignore')"
      ],
      "metadata": {
        "id": "7zBOFln9ZENb"
      },
      "execution_count": 5,
      "outputs": []
    },
    {
      "cell_type": "code",
      "source": [
        "## 데이터 분할: 훈련 데이터와 테스트 데이터\n",
        "\n",
        "X = df.drop('Class', axis=1)\n",
        "y = df['Class']\n",
        "X_train, X_test, y_train, y_test = train_test_split(X, y, test_size = 0.2, random_state = 42)\n",
        "\n",
        "## GBM 모델링\n",
        "# 아래에 코드를 작성해 주세요.\n",
        "gbm = GradientBoostingClassifier(random_state=42)\n",
        "gbm.fit(X_train, y_train)\n",
        "y_pred = gbm.predict(X_test)\n",
        "accuracy = accuracy_score(y_test, y_pred)\n",
        "\n",
        "print(f\"GBM 정확도: {accuracy:.2f}\")"
      ],
      "metadata": {
        "colab": {
          "base_uri": "https://localhost:8080/"
        },
        "id": "967Hgk2YZXfa",
        "outputId": "1a7c9723-6821-44b6-91e1-2b653365ec53"
      },
      "execution_count": 17,
      "outputs": [
        {
          "output_type": "stream",
          "name": "stdout",
          "text": [
            "GBM 정확도: 1.00\n"
          ]
        }
      ]
    },
    {
      "cell_type": "markdown",
      "source": [
        "## **1-b(2). GBM으로 학습하는 시간이 얼마나 걸리는지 수행 시간을 출력해 주세요.**"
      ],
      "metadata": {
        "id": "0_npf7xNR1BZ"
      }
    },
    {
      "cell_type": "code",
      "source": [
        "start_time = time.time()\n",
        "gbm.fit(X_train, y_train)\n",
        "end_time = time.time()\n",
        "training_time = end_time - start_time\n",
        "print(f\"수행 시간: {training_time:.2f} 초\")"
      ],
      "metadata": {
        "colab": {
          "base_uri": "https://localhost:8080/"
        },
        "id": "FdMUSczWa8_A",
        "outputId": "4ad3408c-8707-45b0-9155-900601984250"
      },
      "execution_count": 19,
      "outputs": [
        {
          "output_type": "stream",
          "name": "stdout",
          "text": [
            "수행 시간: 457.30 초\n"
          ]
        }
      ]
    },
    {
      "cell_type": "markdown",
      "source": [
        "## **1-c. ```subsample``` 파라미터를 설정하여 gbm 모델을 학습시키고 학습 시간을 비교해 보세요.**  \n",
        "(subsample = 0.8)"
      ],
      "metadata": {
        "id": "xqzN9Hy8TaOk"
      }
    },
    {
      "cell_type": "code",
      "source": [
        "from sklearn.ensemble import GradientBoostingClassifier\n",
        "from sklearn.metrics import accuracy_score\n",
        "from sklearn.model_selection import train_test_split\n",
        "import time\n",
        "import warnings\n",
        "warnings.filterwarnings('ignore')"
      ],
      "metadata": {
        "id": "FxWwRW_7TbT0"
      },
      "execution_count": 22,
      "outputs": []
    },
    {
      "cell_type": "code",
      "source": [
        "X = df.drop('Class', axis=1)\n",
        "y = df['Class']\n",
        "X_train, X_test, y_train, y_test = train_test_split(X, y, test_size=0.2, random_state=42)\n",
        "subsample_values = [0.8]\n",
        "for subsample in subsample_values:\n",
        "    gbm = GradientBoostingClassifier(subsample=subsample, random_state=42)\n",
        "    start_time = time.time()\n",
        "    gbm.fit(X_train, y_train)\n",
        "    end_time = time.time()\n",
        "\n",
        "    training_time = end_time - start_time\n",
        "\n",
        "    y_pred = gbm.predict(X_test)\n",
        "    accuracy = accuracy_score(y_test, y_pred)\n",
        "\n",
        "    print(f\"Subsample={subsample}, GBM 정확도: {accuracy:.2f}, 수행 시간: {training_time:.2f} 초\")"
      ],
      "metadata": {
        "colab": {
          "base_uri": "https://localhost:8080/"
        },
        "id": "4HAD9Ebsgte4",
        "outputId": "47631314-7bc7-4246-d735-ebc855ee173a"
      },
      "execution_count": 23,
      "outputs": [
        {
          "output_type": "stream",
          "name": "stdout",
          "text": [
            "Subsample=0.8, GBM 정확도: 1.00, 수행 시간: 367.64 초\n"
          ]
        }
      ]
    },
    {
      "cell_type": "markdown",
      "source": [
        "# **2. XGBoost**"
      ],
      "metadata": {
        "id": "D52196vv7JoI"
      }
    },
    {
      "cell_type": "markdown",
      "source": [
        "- 모델 : Python Wrapper XGBoost\n",
        "- 적용 데이터 : 위스콘신 유방암 데이터"
      ],
      "metadata": {
        "id": "koZCKhp8HW4o"
      }
    },
    {
      "cell_type": "code",
      "source": [
        "import xgboost\n",
        "\n",
        "print(xgboost.__version__)"
      ],
      "metadata": {
        "id": "ECMkbXJ-7KT6",
        "colab": {
          "base_uri": "https://localhost:8080/"
        },
        "outputId": "98703dfa-da1e-4096-cf43-54f87f158c4f"
      },
      "execution_count": 24,
      "outputs": [
        {
          "output_type": "stream",
          "name": "stdout",
          "text": [
            "1.7.6\n"
          ]
        }
      ]
    },
    {
      "cell_type": "markdown",
      "source": [
        "- 출력 : 1.7.3"
      ],
      "metadata": {
        "id": "5kFl0zeC7tQR"
      }
    },
    {
      "cell_type": "code",
      "source": [
        "import xgboost as xgb\n",
        "from xgboost import plot_importance\n",
        "\n",
        "import pandas as pd\n",
        "import numpy as np\n",
        "\n",
        "from sklearn.datasets import load_breast_cancer\n",
        "from sklearn.model_selection import train_test_split\n",
        "\n",
        "import warnings\n",
        "warnings.filterwarnings('ignore')"
      ],
      "metadata": {
        "id": "fHDjuv_V7vAf"
      },
      "execution_count": 25,
      "outputs": []
    },
    {
      "cell_type": "markdown",
      "source": [
        "##**2-a. cancer_df의 shape을 프린트하고, 상위 5개 행을 확인해 주세요.**"
      ],
      "metadata": {
        "id": "L11sPCSZ74oH"
      }
    },
    {
      "cell_type": "code",
      "source": [
        "dataset = load_breast_cancer()\n",
        "X_features = dataset.data\n",
        "y_label = dataset.target\n",
        "\n",
        "cancer_df = pd.DataFrame(data = X_features, columns = dataset.feature_names)\n",
        "cancer_df['target'] = y_label"
      ],
      "metadata": {
        "id": "4wBOlQxn72Te"
      },
      "execution_count": 27,
      "outputs": []
    },
    {
      "cell_type": "code",
      "source": [
        "print(\"cancer_df의 shape:\", cancer_df.shape)\n",
        "print(\"상위 5개 행:\")\n",
        "print(cancer_df.head())"
      ],
      "metadata": {
        "id": "cMfEC-nZ8HH-",
        "colab": {
          "base_uri": "https://localhost:8080/"
        },
        "outputId": "02923ffa-cd46-4204-f7c1-e840c6ed63c9"
      },
      "execution_count": 28,
      "outputs": [
        {
          "output_type": "stream",
          "name": "stdout",
          "text": [
            "cancer_df의 shape: (569, 31)\n",
            "상위 5개 행:\n",
            "   mean radius  mean texture  mean perimeter  mean area  mean smoothness  \\\n",
            "0        17.99         10.38          122.80     1001.0          0.11840   \n",
            "1        20.57         17.77          132.90     1326.0          0.08474   \n",
            "2        19.69         21.25          130.00     1203.0          0.10960   \n",
            "3        11.42         20.38           77.58      386.1          0.14250   \n",
            "4        20.29         14.34          135.10     1297.0          0.10030   \n",
            "\n",
            "   mean compactness  mean concavity  mean concave points  mean symmetry  \\\n",
            "0           0.27760          0.3001              0.14710         0.2419   \n",
            "1           0.07864          0.0869              0.07017         0.1812   \n",
            "2           0.15990          0.1974              0.12790         0.2069   \n",
            "3           0.28390          0.2414              0.10520         0.2597   \n",
            "4           0.13280          0.1980              0.10430         0.1809   \n",
            "\n",
            "   mean fractal dimension  ...  worst texture  worst perimeter  worst area  \\\n",
            "0                 0.07871  ...          17.33           184.60      2019.0   \n",
            "1                 0.05667  ...          23.41           158.80      1956.0   \n",
            "2                 0.05999  ...          25.53           152.50      1709.0   \n",
            "3                 0.09744  ...          26.50            98.87       567.7   \n",
            "4                 0.05883  ...          16.67           152.20      1575.0   \n",
            "\n",
            "   worst smoothness  worst compactness  worst concavity  worst concave points  \\\n",
            "0            0.1622             0.6656           0.7119                0.2654   \n",
            "1            0.1238             0.1866           0.2416                0.1860   \n",
            "2            0.1444             0.4245           0.4504                0.2430   \n",
            "3            0.2098             0.8663           0.6869                0.2575   \n",
            "4            0.1374             0.2050           0.4000                0.1625   \n",
            "\n",
            "   worst symmetry  worst fractal dimension  target  \n",
            "0          0.4601                  0.11890       0  \n",
            "1          0.2750                  0.08902       0  \n",
            "2          0.3613                  0.08758       0  \n",
            "3          0.6638                  0.17300       0  \n",
            "4          0.2364                  0.07678       0  \n",
            "\n",
            "[5 rows x 31 columns]\n"
          ]
        }
      ]
    },
    {
      "cell_type": "markdown",
      "source": [
        "## **2-b. 전체 데이터 중 80%는 학습용 데이터, 20%는 테스트용 데이터로 추출하고, 각각의 shape을 print해주세요.**"
      ],
      "metadata": {
        "id": "tOKlsQLD8HoD"
      }
    },
    {
      "cell_type": "code",
      "source": [
        "from sklearn.model_selection import train_test_split\n",
        "\n",
        "X_train, X_test = train_test_split(cancer_df, test_size=0.2, random_state=42)\n",
        "\n",
        "print(\"학습용 데이터의 shape:\", X_train.shape)\n",
        "print(\"테스트용 데이터의 shape:\", X_test.shape)"
      ],
      "metadata": {
        "id": "o6k1w2nf8SCm",
        "colab": {
          "base_uri": "https://localhost:8080/"
        },
        "outputId": "3688e82c-1903-4b6b-9ade-b369d39af58f"
      },
      "execution_count": 29,
      "outputs": [
        {
          "output_type": "stream",
          "name": "stdout",
          "text": [
            "학습용 데이터의 shape: (455, 31)\n",
            "테스트용 데이터의 shape: (114, 31)\n"
          ]
        }
      ]
    },
    {
      "cell_type": "code",
      "source": [
        "import xgboost as xgb\n",
        "dtrain = xgb.DMatrix(data=X_train, label=y_train)\n",
        "dtest = xgb.DMatrix(data=X_test, label=y_test)\n",
        "#실행 오류가 나서 넘어갑니다.."
      ],
      "metadata": {
        "id": "9ZB87ux88a6w"
      },
      "execution_count": null,
      "outputs": []
    },
    {
      "cell_type": "markdown",
      "source": [
        "##**2-c. 주어진 정보를 바탕으로 하이퍼 파라미터 목록을 완성해 주세요.**\n",
        "- 트리의 최대 깊이 : 3\n",
        "- 학습률 : 0.1\n",
        "- 반복 횟수 : 400"
      ],
      "metadata": {
        "id": "tzzNfY028f5b"
      }
    },
    {
      "cell_type": "code",
      "source": [
        "params = {\n",
        "    'objective': 'binary:logistic',\n",
        "    'eval_metric': 'logloss',\n",
        "    'max_depth': 3,\n",
        "    'learning_rate': 0.1,\n",
        "    'num_rounds': 400\n",
        "}\n"
      ],
      "metadata": {
        "id": "BZIEP5CS8jSs"
      },
      "execution_count": 38,
      "outputs": []
    },
    {
      "cell_type": "code",
      "source": [
        "eval_list = [(dtrain,'train'),(dtest,'eval')]"
      ],
      "metadata": {
        "id": "UInEOEh98t6z",
        "colab": {
          "base_uri": "https://localhost:8080/",
          "height": 182
        },
        "outputId": "000a8dce-d101-4c3b-8ad5-c6bc31c208cf"
      },
      "execution_count": 46,
      "outputs": [
        {
          "output_type": "error",
          "ename": "NameError",
          "evalue": "ignored",
          "traceback": [
            "\u001b[0;31m---------------------------------------------------------------------------\u001b[0m",
            "\u001b[0;31mNameError\u001b[0m                                 Traceback (most recent call last)",
            "\u001b[0;32m<ipython-input-46-00757292958a>\u001b[0m in \u001b[0;36m<cell line: 1>\u001b[0;34m()\u001b[0m\n\u001b[0;32m----> 1\u001b[0;31m \u001b[0meval_list\u001b[0m \u001b[0;34m=\u001b[0m \u001b[0;34m[\u001b[0m\u001b[0;34m(\u001b[0m\u001b[0mdtrain\u001b[0m\u001b[0;34m,\u001b[0m\u001b[0;34m'train'\u001b[0m\u001b[0;34m)\u001b[0m\u001b[0;34m,\u001b[0m\u001b[0;34m(\u001b[0m\u001b[0mdtest\u001b[0m\u001b[0;34m,\u001b[0m\u001b[0;34m'eval'\u001b[0m\u001b[0;34m)\u001b[0m\u001b[0;34m]\u001b[0m\u001b[0;34m\u001b[0m\u001b[0;34m\u001b[0m\u001b[0m\n\u001b[0m",
            "\u001b[0;31mNameError\u001b[0m: name 'dtrain' is not defined"
          ]
        }
      ]
    },
    {
      "cell_type": "markdown",
      "source": [
        "## **2-d. 하이퍼 파라미터를 `train( )` 함수의 파라미터로 전달해 주세요.**"
      ],
      "metadata": {
        "id": "Mzl7NufX8utk"
      }
    },
    {
      "cell_type": "code",
      "source": [
        "params = {\n",
        "    'objective': 'binary:logistic',\n",
        "    'eval_metric': 'logloss',\n",
        "    'max_depth': 3,\n",
        "    'learning_rate': 0.1,\n",
        "    'num_rounds': 400        }"
      ],
      "metadata": {
        "id": "5vgia5qw8vCa"
      },
      "execution_count": 49,
      "outputs": []
    },
    {
      "cell_type": "code",
      "source": [
        "pred_probs = xgb_model.predict(dtest)\n",
        "print('predict( ) 수행 결과값을 10개만 표시, 예측 확률 값으로 표시됨')\n",
        "print(np.round(pred_probs[:10],3))\n",
        "\n",
        "# 예측 확률이 0.5 보다 크면 1 , 그렇지 않으면 0 으로 예측값 결정하여 List 객체인 preds에 저장\n",
        "preds = [ 1 if x > 0.5 else 0 for x in pred_probs ]\n",
        "print('예측값 10개만 표시:',preds[:10])"
      ],
      "metadata": {
        "id": "5UFWSwQp8yA8"
      },
      "execution_count": null,
      "outputs": []
    },
    {
      "cell_type": "markdown",
      "source": [
        "##**2-e. `get_eval_clf()` 을 통해 예측 평가를 진행해주세요**"
      ],
      "metadata": {
        "id": "Mxk9DN5383sp"
      }
    },
    {
      "cell_type": "code",
      "source": [
        "from sklearn.metrics import confusion_matrix, accuracy_score\n",
        "from sklearn.metrics import precision_score, recall_score\n",
        "from sklearn.metrics import f1_score, roc_auc_score\n",
        "\n",
        "def get_clf_eval(y_test, pred=None, pred_proba=None):\n",
        "    confusion = confusion_matrix( y_test, pred)\n",
        "    accuracy = accuracy_score(y_test , pred)\n",
        "    precision = precision_score(y_test , pred)\n",
        "    recall = recall_score(y_test , pred)\n",
        "    f1 = f1_score(y_test,pred)\n",
        "    # ROC-AUC 추가\n",
        "    roc_auc = roc_auc_score(y_test, pred_proba)\n",
        "    print('오차 행렬')\n",
        "    print(confusion)\n",
        "    # ROC-AUC print 추가\n",
        "    print('정확도: {0:.4f}, 정밀도: {1:.4f}, 재현율: {2:.4f},\\\n",
        "    F1: {3:.4f}, AUC:{4:.4f}'.format(accuracy, precision, recall, f1, roc_auc))"
      ],
      "metadata": {
        "id": "xS27kc1780cD"
      },
      "execution_count": 51,
      "outputs": []
    },
    {
      "cell_type": "code",
      "source": [
        "print(f\"정확도: {accuracy:.4f}\")\n",
        "print(f\"정밀도: {precision:.4f}\")\n",
        " print(f\"재현율: {recall:.4f}\")"
      ],
      "metadata": {
        "id": "v-foPK_M82hT"
      },
      "execution_count": null,
      "outputs": []
    },
    {
      "cell_type": "markdown",
      "source": [
        "# **3. LightGBM, HyperOpt**"
      ],
      "metadata": {
        "id": "uvg4b6ap9lXg"
      }
    },
    {
      "cell_type": "markdown",
      "source": [
        "## **3-1. LightGBM**"
      ],
      "metadata": {
        "id": "f8SBYxBJ-vhb"
      }
    },
    {
      "cell_type": "markdown",
      "source": [
        "### **3-1-a. ```water_potability.csv```를 불러와 df에 저장해 주세요.**"
      ],
      "metadata": {
        "id": "SnRlTMVaIdU6"
      }
    },
    {
      "cell_type": "code",
      "source": [
        "# 3.3.2 버전으로 LightGBM을 설치합니다(일부 파라미터가 4.0.0에선 작동하지 않아서 넣었습니다.)\n",
        "\n",
        "!pip install lightgbm==3.3.2\n",
        "print(lightgbm.__version__) # 버전 확인용"
      ],
      "metadata": {
        "id": "3cg-dfFE-nOx",
        "colab": {
          "base_uri": "https://localhost:8080/",
          "height": 346
        },
        "outputId": "620c2213-5260-4ead-b547-5b0baca17aea"
      },
      "execution_count": 2,
      "outputs": [
        {
          "output_type": "stream",
          "name": "stdout",
          "text": [
            "Requirement already satisfied: lightgbm==3.3.2 in /usr/local/lib/python3.10/dist-packages (3.3.2)\n",
            "Requirement already satisfied: wheel in /usr/local/lib/python3.10/dist-packages (from lightgbm==3.3.2) (0.41.2)\n",
            "Requirement already satisfied: numpy in /usr/local/lib/python3.10/dist-packages (from lightgbm==3.3.2) (1.23.5)\n",
            "Requirement already satisfied: scipy in /usr/local/lib/python3.10/dist-packages (from lightgbm==3.3.2) (1.11.2)\n",
            "Requirement already satisfied: scikit-learn!=0.22.0 in /usr/local/lib/python3.10/dist-packages (from lightgbm==3.3.2) (1.2.2)\n",
            "Requirement already satisfied: joblib>=1.1.1 in /usr/local/lib/python3.10/dist-packages (from scikit-learn!=0.22.0->lightgbm==3.3.2) (1.3.2)\n",
            "Requirement already satisfied: threadpoolctl>=2.0.0 in /usr/local/lib/python3.10/dist-packages (from scikit-learn!=0.22.0->lightgbm==3.3.2) (3.2.0)\n"
          ]
        },
        {
          "output_type": "error",
          "ename": "NameError",
          "evalue": "ignored",
          "traceback": [
            "\u001b[0;31m---------------------------------------------------------------------------\u001b[0m",
            "\u001b[0;31mNameError\u001b[0m                                 Traceback (most recent call last)",
            "\u001b[0;32m<ipython-input-2-2fc56defecdc>\u001b[0m in \u001b[0;36m<cell line: 4>\u001b[0;34m()\u001b[0m\n\u001b[1;32m      2\u001b[0m \u001b[0;34m\u001b[0m\u001b[0m\n\u001b[1;32m      3\u001b[0m \u001b[0mget_ipython\u001b[0m\u001b[0;34m(\u001b[0m\u001b[0;34m)\u001b[0m\u001b[0;34m.\u001b[0m\u001b[0msystem\u001b[0m\u001b[0;34m(\u001b[0m\u001b[0;34m'pip install lightgbm==3.3.2'\u001b[0m\u001b[0;34m)\u001b[0m\u001b[0;34m\u001b[0m\u001b[0;34m\u001b[0m\u001b[0m\n\u001b[0;32m----> 4\u001b[0;31m \u001b[0mprint\u001b[0m\u001b[0;34m(\u001b[0m\u001b[0mlightgbm\u001b[0m\u001b[0;34m.\u001b[0m\u001b[0m__version__\u001b[0m\u001b[0;34m)\u001b[0m \u001b[0;31m# 버전 확인용\u001b[0m\u001b[0;34m\u001b[0m\u001b[0;34m\u001b[0m\u001b[0m\n\u001b[0m",
            "\u001b[0;31mNameError\u001b[0m: name 'lightgbm' is not defined"
          ]
        }
      ]
    },
    {
      "cell_type": "code",
      "source": [
        "import lightgbm\n",
        "from lightgbm import LGBMClassifier\n",
        "\n",
        "import pandas as pd\n",
        "import numpy as np"
      ],
      "metadata": {
        "id": "ZcpuDJ8GIoBD"
      },
      "execution_count": 3,
      "outputs": []
    },
    {
      "cell_type": "code",
      "source": [
        "df = df = pd.read_csv('/content/water_potability.csv')\n",
        "\n",
        "# 데이터 확인\n",
        "df.head()"
      ],
      "metadata": {
        "id": "z3XVGeXr-_kt",
        "colab": {
          "base_uri": "https://localhost:8080/",
          "height": 206
        },
        "outputId": "54be98a3-5d16-432e-af55-13a8ee5a5401"
      },
      "execution_count": 7,
      "outputs": [
        {
          "output_type": "execute_result",
          "data": {
            "text/plain": [
              "         ph    Hardness        Solids  Chloramines     Sulfate  Conductivity  \\\n",
              "0       NaN  204.890455  20791.318981     7.300212  368.516441    564.308654   \n",
              "1  3.716080  129.422921  18630.057858     6.635246         NaN    592.885359   \n",
              "2  8.099124  224.236259  19909.541732     9.275884         NaN    418.606213   \n",
              "3  8.316766  214.373394  22018.417441     8.059332  356.886136    363.266516   \n",
              "4  9.092223  181.101509  17978.986339     6.546600  310.135738    398.410813   \n",
              "\n",
              "   Organic_carbon  Trihalomethanes  Turbidity  Potability  \n",
              "0       10.379783        86.990970   2.963135           0  \n",
              "1       15.180013        56.329076   4.500656           0  \n",
              "2       16.868637        66.420093   3.055934           0  \n",
              "3       18.436524       100.341674   4.628771           0  \n",
              "4       11.558279        31.997993   4.075075           0  "
            ],
            "text/html": [
              "\n",
              "  <div id=\"df-9cc1881c-47f8-4c64-9327-2e9736f3ef74\" class=\"colab-df-container\">\n",
              "    <div>\n",
              "<style scoped>\n",
              "    .dataframe tbody tr th:only-of-type {\n",
              "        vertical-align: middle;\n",
              "    }\n",
              "\n",
              "    .dataframe tbody tr th {\n",
              "        vertical-align: top;\n",
              "    }\n",
              "\n",
              "    .dataframe thead th {\n",
              "        text-align: right;\n",
              "    }\n",
              "</style>\n",
              "<table border=\"1\" class=\"dataframe\">\n",
              "  <thead>\n",
              "    <tr style=\"text-align: right;\">\n",
              "      <th></th>\n",
              "      <th>ph</th>\n",
              "      <th>Hardness</th>\n",
              "      <th>Solids</th>\n",
              "      <th>Chloramines</th>\n",
              "      <th>Sulfate</th>\n",
              "      <th>Conductivity</th>\n",
              "      <th>Organic_carbon</th>\n",
              "      <th>Trihalomethanes</th>\n",
              "      <th>Turbidity</th>\n",
              "      <th>Potability</th>\n",
              "    </tr>\n",
              "  </thead>\n",
              "  <tbody>\n",
              "    <tr>\n",
              "      <th>0</th>\n",
              "      <td>NaN</td>\n",
              "      <td>204.890455</td>\n",
              "      <td>20791.318981</td>\n",
              "      <td>7.300212</td>\n",
              "      <td>368.516441</td>\n",
              "      <td>564.308654</td>\n",
              "      <td>10.379783</td>\n",
              "      <td>86.990970</td>\n",
              "      <td>2.963135</td>\n",
              "      <td>0</td>\n",
              "    </tr>\n",
              "    <tr>\n",
              "      <th>1</th>\n",
              "      <td>3.716080</td>\n",
              "      <td>129.422921</td>\n",
              "      <td>18630.057858</td>\n",
              "      <td>6.635246</td>\n",
              "      <td>NaN</td>\n",
              "      <td>592.885359</td>\n",
              "      <td>15.180013</td>\n",
              "      <td>56.329076</td>\n",
              "      <td>4.500656</td>\n",
              "      <td>0</td>\n",
              "    </tr>\n",
              "    <tr>\n",
              "      <th>2</th>\n",
              "      <td>8.099124</td>\n",
              "      <td>224.236259</td>\n",
              "      <td>19909.541732</td>\n",
              "      <td>9.275884</td>\n",
              "      <td>NaN</td>\n",
              "      <td>418.606213</td>\n",
              "      <td>16.868637</td>\n",
              "      <td>66.420093</td>\n",
              "      <td>3.055934</td>\n",
              "      <td>0</td>\n",
              "    </tr>\n",
              "    <tr>\n",
              "      <th>3</th>\n",
              "      <td>8.316766</td>\n",
              "      <td>214.373394</td>\n",
              "      <td>22018.417441</td>\n",
              "      <td>8.059332</td>\n",
              "      <td>356.886136</td>\n",
              "      <td>363.266516</td>\n",
              "      <td>18.436524</td>\n",
              "      <td>100.341674</td>\n",
              "      <td>4.628771</td>\n",
              "      <td>0</td>\n",
              "    </tr>\n",
              "    <tr>\n",
              "      <th>4</th>\n",
              "      <td>9.092223</td>\n",
              "      <td>181.101509</td>\n",
              "      <td>17978.986339</td>\n",
              "      <td>6.546600</td>\n",
              "      <td>310.135738</td>\n",
              "      <td>398.410813</td>\n",
              "      <td>11.558279</td>\n",
              "      <td>31.997993</td>\n",
              "      <td>4.075075</td>\n",
              "      <td>0</td>\n",
              "    </tr>\n",
              "  </tbody>\n",
              "</table>\n",
              "</div>\n",
              "    <div class=\"colab-df-buttons\">\n",
              "\n",
              "  <div class=\"colab-df-container\">\n",
              "    <button class=\"colab-df-convert\" onclick=\"convertToInteractive('df-9cc1881c-47f8-4c64-9327-2e9736f3ef74')\"\n",
              "            title=\"Convert this dataframe to an interactive table.\"\n",
              "            style=\"display:none;\">\n",
              "\n",
              "  <svg xmlns=\"http://www.w3.org/2000/svg\" height=\"24px\" viewBox=\"0 -960 960 960\">\n",
              "    <path d=\"M120-120v-720h720v720H120Zm60-500h600v-160H180v160Zm220 220h160v-160H400v160Zm0 220h160v-160H400v160ZM180-400h160v-160H180v160Zm440 0h160v-160H620v160ZM180-180h160v-160H180v160Zm440 0h160v-160H620v160Z\"/>\n",
              "  </svg>\n",
              "    </button>\n",
              "\n",
              "  <style>\n",
              "    .colab-df-container {\n",
              "      display:flex;\n",
              "      gap: 12px;\n",
              "    }\n",
              "\n",
              "    .colab-df-convert {\n",
              "      background-color: #E8F0FE;\n",
              "      border: none;\n",
              "      border-radius: 50%;\n",
              "      cursor: pointer;\n",
              "      display: none;\n",
              "      fill: #1967D2;\n",
              "      height: 32px;\n",
              "      padding: 0 0 0 0;\n",
              "      width: 32px;\n",
              "    }\n",
              "\n",
              "    .colab-df-convert:hover {\n",
              "      background-color: #E2EBFA;\n",
              "      box-shadow: 0px 1px 2px rgba(60, 64, 67, 0.3), 0px 1px 3px 1px rgba(60, 64, 67, 0.15);\n",
              "      fill: #174EA6;\n",
              "    }\n",
              "\n",
              "    .colab-df-buttons div {\n",
              "      margin-bottom: 4px;\n",
              "    }\n",
              "\n",
              "    [theme=dark] .colab-df-convert {\n",
              "      background-color: #3B4455;\n",
              "      fill: #D2E3FC;\n",
              "    }\n",
              "\n",
              "    [theme=dark] .colab-df-convert:hover {\n",
              "      background-color: #434B5C;\n",
              "      box-shadow: 0px 1px 3px 1px rgba(0, 0, 0, 0.15);\n",
              "      filter: drop-shadow(0px 1px 2px rgba(0, 0, 0, 0.3));\n",
              "      fill: #FFFFFF;\n",
              "    }\n",
              "  </style>\n",
              "\n",
              "    <script>\n",
              "      const buttonEl =\n",
              "        document.querySelector('#df-9cc1881c-47f8-4c64-9327-2e9736f3ef74 button.colab-df-convert');\n",
              "      buttonEl.style.display =\n",
              "        google.colab.kernel.accessAllowed ? 'block' : 'none';\n",
              "\n",
              "      async function convertToInteractive(key) {\n",
              "        const element = document.querySelector('#df-9cc1881c-47f8-4c64-9327-2e9736f3ef74');\n",
              "        const dataTable =\n",
              "          await google.colab.kernel.invokeFunction('convertToInteractive',\n",
              "                                                    [key], {});\n",
              "        if (!dataTable) return;\n",
              "\n",
              "        const docLinkHtml = 'Like what you see? Visit the ' +\n",
              "          '<a target=\"_blank\" href=https://colab.research.google.com/notebooks/data_table.ipynb>data table notebook</a>'\n",
              "          + ' to learn more about interactive tables.';\n",
              "        element.innerHTML = '';\n",
              "        dataTable['output_type'] = 'display_data';\n",
              "        await google.colab.output.renderOutput(dataTable, element);\n",
              "        const docLink = document.createElement('div');\n",
              "        docLink.innerHTML = docLinkHtml;\n",
              "        element.appendChild(docLink);\n",
              "      }\n",
              "    </script>\n",
              "  </div>\n",
              "\n",
              "\n",
              "<div id=\"df-b67f2829-d746-4635-a81c-a87ee8c34029\">\n",
              "  <button class=\"colab-df-quickchart\" onclick=\"quickchart('df-b67f2829-d746-4635-a81c-a87ee8c34029')\"\n",
              "            title=\"Suggest charts.\"\n",
              "            style=\"display:none;\">\n",
              "\n",
              "<svg xmlns=\"http://www.w3.org/2000/svg\" height=\"24px\"viewBox=\"0 0 24 24\"\n",
              "     width=\"24px\">\n",
              "    <g>\n",
              "        <path d=\"M19 3H5c-1.1 0-2 .9-2 2v14c0 1.1.9 2 2 2h14c1.1 0 2-.9 2-2V5c0-1.1-.9-2-2-2zM9 17H7v-7h2v7zm4 0h-2V7h2v10zm4 0h-2v-4h2v4z\"/>\n",
              "    </g>\n",
              "</svg>\n",
              "  </button>\n",
              "\n",
              "<style>\n",
              "  .colab-df-quickchart {\n",
              "      --bg-color: #E8F0FE;\n",
              "      --fill-color: #1967D2;\n",
              "      --hover-bg-color: #E2EBFA;\n",
              "      --hover-fill-color: #174EA6;\n",
              "      --disabled-fill-color: #AAA;\n",
              "      --disabled-bg-color: #DDD;\n",
              "  }\n",
              "\n",
              "  [theme=dark] .colab-df-quickchart {\n",
              "      --bg-color: #3B4455;\n",
              "      --fill-color: #D2E3FC;\n",
              "      --hover-bg-color: #434B5C;\n",
              "      --hover-fill-color: #FFFFFF;\n",
              "      --disabled-bg-color: #3B4455;\n",
              "      --disabled-fill-color: #666;\n",
              "  }\n",
              "\n",
              "  .colab-df-quickchart {\n",
              "    background-color: var(--bg-color);\n",
              "    border: none;\n",
              "    border-radius: 50%;\n",
              "    cursor: pointer;\n",
              "    display: none;\n",
              "    fill: var(--fill-color);\n",
              "    height: 32px;\n",
              "    padding: 0;\n",
              "    width: 32px;\n",
              "  }\n",
              "\n",
              "  .colab-df-quickchart:hover {\n",
              "    background-color: var(--hover-bg-color);\n",
              "    box-shadow: 0 1px 2px rgba(60, 64, 67, 0.3), 0 1px 3px 1px rgba(60, 64, 67, 0.15);\n",
              "    fill: var(--button-hover-fill-color);\n",
              "  }\n",
              "\n",
              "  .colab-df-quickchart-complete:disabled,\n",
              "  .colab-df-quickchart-complete:disabled:hover {\n",
              "    background-color: var(--disabled-bg-color);\n",
              "    fill: var(--disabled-fill-color);\n",
              "    box-shadow: none;\n",
              "  }\n",
              "\n",
              "  .colab-df-spinner {\n",
              "    border: 2px solid var(--fill-color);\n",
              "    border-color: transparent;\n",
              "    border-bottom-color: var(--fill-color);\n",
              "    animation:\n",
              "      spin 1s steps(1) infinite;\n",
              "  }\n",
              "\n",
              "  @keyframes spin {\n",
              "    0% {\n",
              "      border-color: transparent;\n",
              "      border-bottom-color: var(--fill-color);\n",
              "      border-left-color: var(--fill-color);\n",
              "    }\n",
              "    20% {\n",
              "      border-color: transparent;\n",
              "      border-left-color: var(--fill-color);\n",
              "      border-top-color: var(--fill-color);\n",
              "    }\n",
              "    30% {\n",
              "      border-color: transparent;\n",
              "      border-left-color: var(--fill-color);\n",
              "      border-top-color: var(--fill-color);\n",
              "      border-right-color: var(--fill-color);\n",
              "    }\n",
              "    40% {\n",
              "      border-color: transparent;\n",
              "      border-right-color: var(--fill-color);\n",
              "      border-top-color: var(--fill-color);\n",
              "    }\n",
              "    60% {\n",
              "      border-color: transparent;\n",
              "      border-right-color: var(--fill-color);\n",
              "    }\n",
              "    80% {\n",
              "      border-color: transparent;\n",
              "      border-right-color: var(--fill-color);\n",
              "      border-bottom-color: var(--fill-color);\n",
              "    }\n",
              "    90% {\n",
              "      border-color: transparent;\n",
              "      border-bottom-color: var(--fill-color);\n",
              "    }\n",
              "  }\n",
              "</style>\n",
              "\n",
              "  <script>\n",
              "    async function quickchart(key) {\n",
              "      const quickchartButtonEl =\n",
              "        document.querySelector('#' + key + ' button');\n",
              "      quickchartButtonEl.disabled = true;  // To prevent multiple clicks.\n",
              "      quickchartButtonEl.classList.add('colab-df-spinner');\n",
              "      try {\n",
              "        const charts = await google.colab.kernel.invokeFunction(\n",
              "            'suggestCharts', [key], {});\n",
              "      } catch (error) {\n",
              "        console.error('Error during call to suggestCharts:', error);\n",
              "      }\n",
              "      quickchartButtonEl.classList.remove('colab-df-spinner');\n",
              "      quickchartButtonEl.classList.add('colab-df-quickchart-complete');\n",
              "    }\n",
              "    (() => {\n",
              "      let quickchartButtonEl =\n",
              "        document.querySelector('#df-b67f2829-d746-4635-a81c-a87ee8c34029 button');\n",
              "      quickchartButtonEl.style.display =\n",
              "        google.colab.kernel.accessAllowed ? 'block' : 'none';\n",
              "    })();\n",
              "  </script>\n",
              "</div>\n",
              "    </div>\n",
              "  </div>\n"
            ]
          },
          "metadata": {},
          "execution_count": 7
        }
      ]
    },
    {
      "cell_type": "markdown",
      "source": [
        "### **3-1-b. 이럴수가! 결측값이 있는 것 같네요! 아래의 코드를 실행시켜 어느 변수에 결측값이 있는지 확인하고, 결측값들은 모두 해당하는 변수의 평균으로 바꿔주세요.**"
      ],
      "metadata": {
        "id": "cXSVbYeI_DGz"
      }
    },
    {
      "cell_type": "code",
      "source": [
        "df.isnull().sum()"
      ],
      "metadata": {
        "id": "r4nKg2mF_FHE",
        "colab": {
          "base_uri": "https://localhost:8080/"
        },
        "outputId": "df3f4b85-21b3-4830-fec2-09b9007330f3"
      },
      "execution_count": 8,
      "outputs": [
        {
          "output_type": "execute_result",
          "data": {
            "text/plain": [
              "ph                 491\n",
              "Hardness             0\n",
              "Solids               0\n",
              "Chloramines          0\n",
              "Sulfate            781\n",
              "Conductivity         0\n",
              "Organic_carbon       0\n",
              "Trihalomethanes    162\n",
              "Turbidity            0\n",
              "Potability           0\n",
              "dtype: int64"
            ]
          },
          "metadata": {},
          "execution_count": 8
        }
      ]
    },
    {
      "cell_type": "code",
      "source": [
        "## 결측값을 해당 칼럼의 평균값으로 대체해 주세요.\n",
        "# 힌트: 파머완 138페이지\n",
        "missing_values = df.isnull().sum()\n",
        "print(\"결측값 확인:\")\n",
        "print(missing_values)\n",
        "df.fillna(df.mean(), inplace=True)\n",
        "missing_values_after_fillna = df.isnull().sum()\n",
        "print(\"\\n결측값 대체:\")\n",
        "print(missing_values_after_fillna)\n",
        "\n",
        "\n",
        "\n",
        "\n",
        "\n",
        "\n",
        "# 데이터 확인\n",
        "df.head()"
      ],
      "metadata": {
        "id": "I3Iq_aHA_XUi",
        "colab": {
          "base_uri": "https://localhost:8080/",
          "height": 660
        },
        "outputId": "6cb90de5-169d-419e-cf65-0b6f8a649fd7"
      },
      "execution_count": 9,
      "outputs": [
        {
          "output_type": "stream",
          "name": "stdout",
          "text": [
            "결측값 확인:\n",
            "ph                 491\n",
            "Hardness             0\n",
            "Solids               0\n",
            "Chloramines          0\n",
            "Sulfate            781\n",
            "Conductivity         0\n",
            "Organic_carbon       0\n",
            "Trihalomethanes    162\n",
            "Turbidity            0\n",
            "Potability           0\n",
            "dtype: int64\n",
            "\n",
            "결측값 대체:\n",
            "ph                 0\n",
            "Hardness           0\n",
            "Solids             0\n",
            "Chloramines        0\n",
            "Sulfate            0\n",
            "Conductivity       0\n",
            "Organic_carbon     0\n",
            "Trihalomethanes    0\n",
            "Turbidity          0\n",
            "Potability         0\n",
            "dtype: int64\n"
          ]
        },
        {
          "output_type": "execute_result",
          "data": {
            "text/plain": [
              "         ph    Hardness        Solids  Chloramines     Sulfate  Conductivity  \\\n",
              "0  7.080795  204.890455  20791.318981     7.300212  368.516441    564.308654   \n",
              "1  3.716080  129.422921  18630.057858     6.635246  333.775777    592.885359   \n",
              "2  8.099124  224.236259  19909.541732     9.275884  333.775777    418.606213   \n",
              "3  8.316766  214.373394  22018.417441     8.059332  356.886136    363.266516   \n",
              "4  9.092223  181.101509  17978.986339     6.546600  310.135738    398.410813   \n",
              "\n",
              "   Organic_carbon  Trihalomethanes  Turbidity  Potability  \n",
              "0       10.379783        86.990970   2.963135           0  \n",
              "1       15.180013        56.329076   4.500656           0  \n",
              "2       16.868637        66.420093   3.055934           0  \n",
              "3       18.436524       100.341674   4.628771           0  \n",
              "4       11.558279        31.997993   4.075075           0  "
            ],
            "text/html": [
              "\n",
              "  <div id=\"df-cbf7f448-21a4-4533-8813-4163c750f1b0\" class=\"colab-df-container\">\n",
              "    <div>\n",
              "<style scoped>\n",
              "    .dataframe tbody tr th:only-of-type {\n",
              "        vertical-align: middle;\n",
              "    }\n",
              "\n",
              "    .dataframe tbody tr th {\n",
              "        vertical-align: top;\n",
              "    }\n",
              "\n",
              "    .dataframe thead th {\n",
              "        text-align: right;\n",
              "    }\n",
              "</style>\n",
              "<table border=\"1\" class=\"dataframe\">\n",
              "  <thead>\n",
              "    <tr style=\"text-align: right;\">\n",
              "      <th></th>\n",
              "      <th>ph</th>\n",
              "      <th>Hardness</th>\n",
              "      <th>Solids</th>\n",
              "      <th>Chloramines</th>\n",
              "      <th>Sulfate</th>\n",
              "      <th>Conductivity</th>\n",
              "      <th>Organic_carbon</th>\n",
              "      <th>Trihalomethanes</th>\n",
              "      <th>Turbidity</th>\n",
              "      <th>Potability</th>\n",
              "    </tr>\n",
              "  </thead>\n",
              "  <tbody>\n",
              "    <tr>\n",
              "      <th>0</th>\n",
              "      <td>7.080795</td>\n",
              "      <td>204.890455</td>\n",
              "      <td>20791.318981</td>\n",
              "      <td>7.300212</td>\n",
              "      <td>368.516441</td>\n",
              "      <td>564.308654</td>\n",
              "      <td>10.379783</td>\n",
              "      <td>86.990970</td>\n",
              "      <td>2.963135</td>\n",
              "      <td>0</td>\n",
              "    </tr>\n",
              "    <tr>\n",
              "      <th>1</th>\n",
              "      <td>3.716080</td>\n",
              "      <td>129.422921</td>\n",
              "      <td>18630.057858</td>\n",
              "      <td>6.635246</td>\n",
              "      <td>333.775777</td>\n",
              "      <td>592.885359</td>\n",
              "      <td>15.180013</td>\n",
              "      <td>56.329076</td>\n",
              "      <td>4.500656</td>\n",
              "      <td>0</td>\n",
              "    </tr>\n",
              "    <tr>\n",
              "      <th>2</th>\n",
              "      <td>8.099124</td>\n",
              "      <td>224.236259</td>\n",
              "      <td>19909.541732</td>\n",
              "      <td>9.275884</td>\n",
              "      <td>333.775777</td>\n",
              "      <td>418.606213</td>\n",
              "      <td>16.868637</td>\n",
              "      <td>66.420093</td>\n",
              "      <td>3.055934</td>\n",
              "      <td>0</td>\n",
              "    </tr>\n",
              "    <tr>\n",
              "      <th>3</th>\n",
              "      <td>8.316766</td>\n",
              "      <td>214.373394</td>\n",
              "      <td>22018.417441</td>\n",
              "      <td>8.059332</td>\n",
              "      <td>356.886136</td>\n",
              "      <td>363.266516</td>\n",
              "      <td>18.436524</td>\n",
              "      <td>100.341674</td>\n",
              "      <td>4.628771</td>\n",
              "      <td>0</td>\n",
              "    </tr>\n",
              "    <tr>\n",
              "      <th>4</th>\n",
              "      <td>9.092223</td>\n",
              "      <td>181.101509</td>\n",
              "      <td>17978.986339</td>\n",
              "      <td>6.546600</td>\n",
              "      <td>310.135738</td>\n",
              "      <td>398.410813</td>\n",
              "      <td>11.558279</td>\n",
              "      <td>31.997993</td>\n",
              "      <td>4.075075</td>\n",
              "      <td>0</td>\n",
              "    </tr>\n",
              "  </tbody>\n",
              "</table>\n",
              "</div>\n",
              "    <div class=\"colab-df-buttons\">\n",
              "\n",
              "  <div class=\"colab-df-container\">\n",
              "    <button class=\"colab-df-convert\" onclick=\"convertToInteractive('df-cbf7f448-21a4-4533-8813-4163c750f1b0')\"\n",
              "            title=\"Convert this dataframe to an interactive table.\"\n",
              "            style=\"display:none;\">\n",
              "\n",
              "  <svg xmlns=\"http://www.w3.org/2000/svg\" height=\"24px\" viewBox=\"0 -960 960 960\">\n",
              "    <path d=\"M120-120v-720h720v720H120Zm60-500h600v-160H180v160Zm220 220h160v-160H400v160Zm0 220h160v-160H400v160ZM180-400h160v-160H180v160Zm440 0h160v-160H620v160ZM180-180h160v-160H180v160Zm440 0h160v-160H620v160Z\"/>\n",
              "  </svg>\n",
              "    </button>\n",
              "\n",
              "  <style>\n",
              "    .colab-df-container {\n",
              "      display:flex;\n",
              "      gap: 12px;\n",
              "    }\n",
              "\n",
              "    .colab-df-convert {\n",
              "      background-color: #E8F0FE;\n",
              "      border: none;\n",
              "      border-radius: 50%;\n",
              "      cursor: pointer;\n",
              "      display: none;\n",
              "      fill: #1967D2;\n",
              "      height: 32px;\n",
              "      padding: 0 0 0 0;\n",
              "      width: 32px;\n",
              "    }\n",
              "\n",
              "    .colab-df-convert:hover {\n",
              "      background-color: #E2EBFA;\n",
              "      box-shadow: 0px 1px 2px rgba(60, 64, 67, 0.3), 0px 1px 3px 1px rgba(60, 64, 67, 0.15);\n",
              "      fill: #174EA6;\n",
              "    }\n",
              "\n",
              "    .colab-df-buttons div {\n",
              "      margin-bottom: 4px;\n",
              "    }\n",
              "\n",
              "    [theme=dark] .colab-df-convert {\n",
              "      background-color: #3B4455;\n",
              "      fill: #D2E3FC;\n",
              "    }\n",
              "\n",
              "    [theme=dark] .colab-df-convert:hover {\n",
              "      background-color: #434B5C;\n",
              "      box-shadow: 0px 1px 3px 1px rgba(0, 0, 0, 0.15);\n",
              "      filter: drop-shadow(0px 1px 2px rgba(0, 0, 0, 0.3));\n",
              "      fill: #FFFFFF;\n",
              "    }\n",
              "  </style>\n",
              "\n",
              "    <script>\n",
              "      const buttonEl =\n",
              "        document.querySelector('#df-cbf7f448-21a4-4533-8813-4163c750f1b0 button.colab-df-convert');\n",
              "      buttonEl.style.display =\n",
              "        google.colab.kernel.accessAllowed ? 'block' : 'none';\n",
              "\n",
              "      async function convertToInteractive(key) {\n",
              "        const element = document.querySelector('#df-cbf7f448-21a4-4533-8813-4163c750f1b0');\n",
              "        const dataTable =\n",
              "          await google.colab.kernel.invokeFunction('convertToInteractive',\n",
              "                                                    [key], {});\n",
              "        if (!dataTable) return;\n",
              "\n",
              "        const docLinkHtml = 'Like what you see? Visit the ' +\n",
              "          '<a target=\"_blank\" href=https://colab.research.google.com/notebooks/data_table.ipynb>data table notebook</a>'\n",
              "          + ' to learn more about interactive tables.';\n",
              "        element.innerHTML = '';\n",
              "        dataTable['output_type'] = 'display_data';\n",
              "        await google.colab.output.renderOutput(dataTable, element);\n",
              "        const docLink = document.createElement('div');\n",
              "        docLink.innerHTML = docLinkHtml;\n",
              "        element.appendChild(docLink);\n",
              "      }\n",
              "    </script>\n",
              "  </div>\n",
              "\n",
              "\n",
              "<div id=\"df-c87c05db-ea97-4da0-98dc-1a7e552da43e\">\n",
              "  <button class=\"colab-df-quickchart\" onclick=\"quickchart('df-c87c05db-ea97-4da0-98dc-1a7e552da43e')\"\n",
              "            title=\"Suggest charts.\"\n",
              "            style=\"display:none;\">\n",
              "\n",
              "<svg xmlns=\"http://www.w3.org/2000/svg\" height=\"24px\"viewBox=\"0 0 24 24\"\n",
              "     width=\"24px\">\n",
              "    <g>\n",
              "        <path d=\"M19 3H5c-1.1 0-2 .9-2 2v14c0 1.1.9 2 2 2h14c1.1 0 2-.9 2-2V5c0-1.1-.9-2-2-2zM9 17H7v-7h2v7zm4 0h-2V7h2v10zm4 0h-2v-4h2v4z\"/>\n",
              "    </g>\n",
              "</svg>\n",
              "  </button>\n",
              "\n",
              "<style>\n",
              "  .colab-df-quickchart {\n",
              "      --bg-color: #E8F0FE;\n",
              "      --fill-color: #1967D2;\n",
              "      --hover-bg-color: #E2EBFA;\n",
              "      --hover-fill-color: #174EA6;\n",
              "      --disabled-fill-color: #AAA;\n",
              "      --disabled-bg-color: #DDD;\n",
              "  }\n",
              "\n",
              "  [theme=dark] .colab-df-quickchart {\n",
              "      --bg-color: #3B4455;\n",
              "      --fill-color: #D2E3FC;\n",
              "      --hover-bg-color: #434B5C;\n",
              "      --hover-fill-color: #FFFFFF;\n",
              "      --disabled-bg-color: #3B4455;\n",
              "      --disabled-fill-color: #666;\n",
              "  }\n",
              "\n",
              "  .colab-df-quickchart {\n",
              "    background-color: var(--bg-color);\n",
              "    border: none;\n",
              "    border-radius: 50%;\n",
              "    cursor: pointer;\n",
              "    display: none;\n",
              "    fill: var(--fill-color);\n",
              "    height: 32px;\n",
              "    padding: 0;\n",
              "    width: 32px;\n",
              "  }\n",
              "\n",
              "  .colab-df-quickchart:hover {\n",
              "    background-color: var(--hover-bg-color);\n",
              "    box-shadow: 0 1px 2px rgba(60, 64, 67, 0.3), 0 1px 3px 1px rgba(60, 64, 67, 0.15);\n",
              "    fill: var(--button-hover-fill-color);\n",
              "  }\n",
              "\n",
              "  .colab-df-quickchart-complete:disabled,\n",
              "  .colab-df-quickchart-complete:disabled:hover {\n",
              "    background-color: var(--disabled-bg-color);\n",
              "    fill: var(--disabled-fill-color);\n",
              "    box-shadow: none;\n",
              "  }\n",
              "\n",
              "  .colab-df-spinner {\n",
              "    border: 2px solid var(--fill-color);\n",
              "    border-color: transparent;\n",
              "    border-bottom-color: var(--fill-color);\n",
              "    animation:\n",
              "      spin 1s steps(1) infinite;\n",
              "  }\n",
              "\n",
              "  @keyframes spin {\n",
              "    0% {\n",
              "      border-color: transparent;\n",
              "      border-bottom-color: var(--fill-color);\n",
              "      border-left-color: var(--fill-color);\n",
              "    }\n",
              "    20% {\n",
              "      border-color: transparent;\n",
              "      border-left-color: var(--fill-color);\n",
              "      border-top-color: var(--fill-color);\n",
              "    }\n",
              "    30% {\n",
              "      border-color: transparent;\n",
              "      border-left-color: var(--fill-color);\n",
              "      border-top-color: var(--fill-color);\n",
              "      border-right-color: var(--fill-color);\n",
              "    }\n",
              "    40% {\n",
              "      border-color: transparent;\n",
              "      border-right-color: var(--fill-color);\n",
              "      border-top-color: var(--fill-color);\n",
              "    }\n",
              "    60% {\n",
              "      border-color: transparent;\n",
              "      border-right-color: var(--fill-color);\n",
              "    }\n",
              "    80% {\n",
              "      border-color: transparent;\n",
              "      border-right-color: var(--fill-color);\n",
              "      border-bottom-color: var(--fill-color);\n",
              "    }\n",
              "    90% {\n",
              "      border-color: transparent;\n",
              "      border-bottom-color: var(--fill-color);\n",
              "    }\n",
              "  }\n",
              "</style>\n",
              "\n",
              "  <script>\n",
              "    async function quickchart(key) {\n",
              "      const quickchartButtonEl =\n",
              "        document.querySelector('#' + key + ' button');\n",
              "      quickchartButtonEl.disabled = true;  // To prevent multiple clicks.\n",
              "      quickchartButtonEl.classList.add('colab-df-spinner');\n",
              "      try {\n",
              "        const charts = await google.colab.kernel.invokeFunction(\n",
              "            'suggestCharts', [key], {});\n",
              "      } catch (error) {\n",
              "        console.error('Error during call to suggestCharts:', error);\n",
              "      }\n",
              "      quickchartButtonEl.classList.remove('colab-df-spinner');\n",
              "      quickchartButtonEl.classList.add('colab-df-quickchart-complete');\n",
              "    }\n",
              "    (() => {\n",
              "      let quickchartButtonEl =\n",
              "        document.querySelector('#df-c87c05db-ea97-4da0-98dc-1a7e552da43e button');\n",
              "      quickchartButtonEl.style.display =\n",
              "        google.colab.kernel.accessAllowed ? 'block' : 'none';\n",
              "    })();\n",
              "  </script>\n",
              "</div>\n",
              "    </div>\n",
              "  </div>\n"
            ]
          },
          "metadata": {},
          "execution_count": 9
        }
      ]
    },
    {
      "cell_type": "markdown",
      "source": [
        "### **3-1-c. df를 학습용 데이터와 테스트용 데이터로 분리해 주세요.**  \n",
        "(random_state = 42, 학습용 데이터가 전체의 **80%**를 차지하도록 설정)"
      ],
      "metadata": {
        "id": "OyXaOw0X_aXZ"
      }
    },
    {
      "cell_type": "code",
      "source": [
        "from sklearn.model_selection import train_test_split\n",
        "\n",
        "X = df.iloc[:, :-1]\n",
        "y = df.iloc[:, -1]\n",
        "\n",
        "X_train, X_test, y_train, y_test =train_test_split(X, y, test_size=0.2, random_state=42)"
      ],
      "metadata": {
        "id": "oWbfGB4c_Znx"
      },
      "execution_count": 10,
      "outputs": []
    },
    {
      "cell_type": "markdown",
      "source": [
        "### **3-1-d. 위에서 만든 X_train, y_train을 다시 나누어 90%는 학습용으로, 10%는 검증용 데이터로 분리해 주세요.**  \n",
        "(random_state = 42)"
      ],
      "metadata": {
        "id": "hW1x8hQI_krM"
      }
    },
    {
      "cell_type": "code",
      "source": [
        "X_tr, X_val, y_tr, y_val = train_test_split(X_train, y_train, test_size=0.1, random_state=42)"
      ],
      "metadata": {
        "id": "QPuPw7bb_qF8"
      },
      "execution_count": 11,
      "outputs": []
    },
    {
      "cell_type": "markdown",
      "source": [
        "### **3-1-e. 다음 조건에 따라 LGBMClassifier을 생성한 후 ```lgbm_wrapper```에 저장해 주세요.**\n",
        "- 반복 수행할 트리 개수: 800개\n",
        "- 학습률: 0.02"
      ],
      "metadata": {
        "id": "hEyCPkHZ_tYC"
      }
    },
    {
      "cell_type": "code",
      "source": [
        "lgbm_wrapper = LGBMClassifier(n_estimators=800, learning_rate=0.02)"
      ],
      "metadata": {
        "id": "4gPkmQo3_zlS"
      },
      "execution_count": 12,
      "outputs": []
    },
    {
      "cell_type": "markdown",
      "source": [
        "### **3-1-f. `lgbm_wrapper`가 100번 학습을 반복해도 성능이 향상되지 않으면 수행을 멈추도록 설정해서 학습시키세요.**\n",
        "- 평가 지표: logloss  \n",
        "\n",
        "(❓❓❓❓❓로 표시된 빈칸을 채워주세요!)"
      ],
      "metadata": {
        "id": "unGn5aOi_2LG"
      }
    },
    {
      "cell_type": "code",
      "source": [
        "evals = [(X_train, y_train), (X_val, y_val)]\n",
        "lgbm_wrapper.fit(X_train, y_train, early_stopping_rounds=100, eval_metric='logloss', eval_set=evals, verbose=True)"
      ],
      "metadata": {
        "id": "89l5qcaB_6QV",
        "colab": {
          "base_uri": "https://localhost:8080/",
          "height": 1000
        },
        "outputId": "6d5cbd2b-fdc0-4222-bfae-d77ab2bcc238"
      },
      "execution_count": 17,
      "outputs": [
        {
          "output_type": "stream",
          "name": "stderr",
          "text": [
            "/usr/local/lib/python3.10/dist-packages/lightgbm/sklearn.py:726: UserWarning: 'early_stopping_rounds' argument is deprecated and will be removed in a future release of LightGBM. Pass 'early_stopping()' callback via 'callbacks' argument instead.\n",
            "  _log_warning(\"'early_stopping_rounds' argument is deprecated and will be removed in a future release of LightGBM. \"\n",
            "/usr/local/lib/python3.10/dist-packages/lightgbm/sklearn.py:736: UserWarning: 'verbose' argument is deprecated and will be removed in a future release of LightGBM. Pass 'log_evaluation()' callback via 'callbacks' argument instead.\n",
            "  _log_warning(\"'verbose' argument is deprecated and will be removed in a future release of LightGBM. \"\n"
          ]
        },
        {
          "output_type": "stream",
          "name": "stdout",
          "text": [
            "[1]\ttraining's binary_logloss: 0.667512\tvalid_1's binary_logloss: 0.663198\n",
            "[2]\ttraining's binary_logloss: 0.664429\tvalid_1's binary_logloss: 0.659768\n",
            "[3]\ttraining's binary_logloss: 0.661356\tvalid_1's binary_logloss: 0.656783\n",
            "[4]\ttraining's binary_logloss: 0.658401\tvalid_1's binary_logloss: 0.654022\n",
            "[5]\ttraining's binary_logloss: 0.655881\tvalid_1's binary_logloss: 0.651407\n",
            "[6]\ttraining's binary_logloss: 0.652997\tvalid_1's binary_logloss: 0.6485\n",
            "[7]\ttraining's binary_logloss: 0.650303\tvalid_1's binary_logloss: 0.645947\n",
            "[8]\ttraining's binary_logloss: 0.647675\tvalid_1's binary_logloss: 0.643635\n",
            "[9]\ttraining's binary_logloss: 0.644937\tvalid_1's binary_logloss: 0.640688\n",
            "[10]\ttraining's binary_logloss: 0.642722\tvalid_1's binary_logloss: 0.638448\n",
            "[11]\ttraining's binary_logloss: 0.640156\tvalid_1's binary_logloss: 0.636192\n",
            "[12]\ttraining's binary_logloss: 0.637664\tvalid_1's binary_logloss: 0.633716\n",
            "[13]\ttraining's binary_logloss: 0.635525\tvalid_1's binary_logloss: 0.63191\n",
            "[14]\ttraining's binary_logloss: 0.633145\tvalid_1's binary_logloss: 0.629639\n",
            "[15]\ttraining's binary_logloss: 0.6308\tvalid_1's binary_logloss: 0.627593\n",
            "[16]\ttraining's binary_logloss: 0.628508\tvalid_1's binary_logloss: 0.625015\n",
            "[17]\ttraining's binary_logloss: 0.626415\tvalid_1's binary_logloss: 0.622887\n",
            "[18]\ttraining's binary_logloss: 0.624123\tvalid_1's binary_logloss: 0.62114\n",
            "[19]\ttraining's binary_logloss: 0.62198\tvalid_1's binary_logloss: 0.618917\n",
            "[20]\ttraining's binary_logloss: 0.620011\tvalid_1's binary_logloss: 0.616948\n",
            "[21]\ttraining's binary_logloss: 0.618072\tvalid_1's binary_logloss: 0.614926\n",
            "[22]\ttraining's binary_logloss: 0.616078\tvalid_1's binary_logloss: 0.612807\n",
            "[23]\ttraining's binary_logloss: 0.614004\tvalid_1's binary_logloss: 0.611325\n",
            "[24]\ttraining's binary_logloss: 0.611891\tvalid_1's binary_logloss: 0.609113\n",
            "[25]\ttraining's binary_logloss: 0.609957\tvalid_1's binary_logloss: 0.607674\n",
            "[26]\ttraining's binary_logloss: 0.607951\tvalid_1's binary_logloss: 0.605511\n",
            "[27]\ttraining's binary_logloss: 0.606019\tvalid_1's binary_logloss: 0.60386\n",
            "[28]\ttraining's binary_logloss: 0.603907\tvalid_1's binary_logloss: 0.601717\n",
            "[29]\ttraining's binary_logloss: 0.602222\tvalid_1's binary_logloss: 0.599971\n",
            "[30]\ttraining's binary_logloss: 0.600664\tvalid_1's binary_logloss: 0.598631\n",
            "[31]\ttraining's binary_logloss: 0.598686\tvalid_1's binary_logloss: 0.596774\n",
            "[32]\ttraining's binary_logloss: 0.597137\tvalid_1's binary_logloss: 0.594972\n",
            "[33]\ttraining's binary_logloss: 0.595395\tvalid_1's binary_logloss: 0.593295\n",
            "[34]\ttraining's binary_logloss: 0.59387\tvalid_1's binary_logloss: 0.591799\n",
            "[35]\ttraining's binary_logloss: 0.591928\tvalid_1's binary_logloss: 0.589775\n",
            "[36]\ttraining's binary_logloss: 0.590555\tvalid_1's binary_logloss: 0.588327\n",
            "[37]\ttraining's binary_logloss: 0.588771\tvalid_1's binary_logloss: 0.586398\n",
            "[38]\ttraining's binary_logloss: 0.5874\tvalid_1's binary_logloss: 0.584974\n",
            "[39]\ttraining's binary_logloss: 0.585513\tvalid_1's binary_logloss: 0.583174\n",
            "[40]\ttraining's binary_logloss: 0.584113\tvalid_1's binary_logloss: 0.582334\n",
            "[41]\ttraining's binary_logloss: 0.582204\tvalid_1's binary_logloss: 0.580431\n",
            "[42]\ttraining's binary_logloss: 0.580287\tvalid_1's binary_logloss: 0.578603\n",
            "[43]\ttraining's binary_logloss: 0.578901\tvalid_1's binary_logloss: 0.57701\n",
            "[44]\ttraining's binary_logloss: 0.577709\tvalid_1's binary_logloss: 0.57615\n",
            "[45]\ttraining's binary_logloss: 0.575946\tvalid_1's binary_logloss: 0.574399\n",
            "[46]\ttraining's binary_logloss: 0.574301\tvalid_1's binary_logloss: 0.572666\n",
            "[47]\ttraining's binary_logloss: 0.572955\tvalid_1's binary_logloss: 0.57107\n",
            "[48]\ttraining's binary_logloss: 0.571318\tvalid_1's binary_logloss: 0.56965\n",
            "[49]\ttraining's binary_logloss: 0.570039\tvalid_1's binary_logloss: 0.568177\n",
            "[50]\ttraining's binary_logloss: 0.568881\tvalid_1's binary_logloss: 0.566888\n",
            "[51]\ttraining's binary_logloss: 0.567247\tvalid_1's binary_logloss: 0.565112\n",
            "[52]\ttraining's binary_logloss: 0.565695\tvalid_1's binary_logloss: 0.563492\n",
            "[53]\ttraining's binary_logloss: 0.564392\tvalid_1's binary_logloss: 0.562059\n",
            "[54]\ttraining's binary_logloss: 0.563182\tvalid_1's binary_logloss: 0.560794\n",
            "[55]\ttraining's binary_logloss: 0.5618\tvalid_1's binary_logloss: 0.559588\n",
            "[56]\ttraining's binary_logloss: 0.560733\tvalid_1's binary_logloss: 0.558501\n",
            "[57]\ttraining's binary_logloss: 0.559654\tvalid_1's binary_logloss: 0.557284\n",
            "[58]\ttraining's binary_logloss: 0.558262\tvalid_1's binary_logloss: 0.55621\n",
            "[59]\ttraining's binary_logloss: 0.557177\tvalid_1's binary_logloss: 0.555108\n",
            "[60]\ttraining's binary_logloss: 0.555799\tvalid_1's binary_logloss: 0.553965\n",
            "[61]\ttraining's binary_logloss: 0.554782\tvalid_1's binary_logloss: 0.553126\n",
            "[62]\ttraining's binary_logloss: 0.553533\tvalid_1's binary_logloss: 0.552241\n",
            "[63]\ttraining's binary_logloss: 0.552079\tvalid_1's binary_logloss: 0.550756\n",
            "[64]\ttraining's binary_logloss: 0.551034\tvalid_1's binary_logloss: 0.550103\n",
            "[65]\ttraining's binary_logloss: 0.550138\tvalid_1's binary_logloss: 0.549081\n",
            "[66]\ttraining's binary_logloss: 0.549052\tvalid_1's binary_logloss: 0.548379\n",
            "[67]\ttraining's binary_logloss: 0.548045\tvalid_1's binary_logloss: 0.547539\n",
            "[68]\ttraining's binary_logloss: 0.546665\tvalid_1's binary_logloss: 0.545979\n",
            "[69]\ttraining's binary_logloss: 0.545756\tvalid_1's binary_logloss: 0.54501\n",
            "[70]\ttraining's binary_logloss: 0.544814\tvalid_1's binary_logloss: 0.544318\n",
            "[71]\ttraining's binary_logloss: 0.543554\tvalid_1's binary_logloss: 0.542814\n",
            "[72]\ttraining's binary_logloss: 0.542592\tvalid_1's binary_logloss: 0.541924\n",
            "[73]\ttraining's binary_logloss: 0.541711\tvalid_1's binary_logloss: 0.541366\n",
            "[74]\ttraining's binary_logloss: 0.540334\tvalid_1's binary_logloss: 0.540002\n",
            "[75]\ttraining's binary_logloss: 0.539444\tvalid_1's binary_logloss: 0.539606\n",
            "[76]\ttraining's binary_logloss: 0.538204\tvalid_1's binary_logloss: 0.538912\n",
            "[77]\ttraining's binary_logloss: 0.537321\tvalid_1's binary_logloss: 0.538151\n",
            "[78]\ttraining's binary_logloss: 0.536021\tvalid_1's binary_logloss: 0.536674\n",
            "[79]\ttraining's binary_logloss: 0.534919\tvalid_1's binary_logloss: 0.536084\n",
            "[80]\ttraining's binary_logloss: 0.533794\tvalid_1's binary_logloss: 0.534814\n",
            "[81]\ttraining's binary_logloss: 0.532461\tvalid_1's binary_logloss: 0.533746\n",
            "[82]\ttraining's binary_logloss: 0.531236\tvalid_1's binary_logloss: 0.532477\n",
            "[83]\ttraining's binary_logloss: 0.529939\tvalid_1's binary_logloss: 0.531351\n",
            "[84]\ttraining's binary_logloss: 0.528598\tvalid_1's binary_logloss: 0.529853\n",
            "[85]\ttraining's binary_logloss: 0.527353\tvalid_1's binary_logloss: 0.528264\n",
            "[86]\ttraining's binary_logloss: 0.526464\tvalid_1's binary_logloss: 0.527306\n",
            "[87]\ttraining's binary_logloss: 0.525324\tvalid_1's binary_logloss: 0.526251\n",
            "[88]\ttraining's binary_logloss: 0.524463\tvalid_1's binary_logloss: 0.525213\n",
            "[89]\ttraining's binary_logloss: 0.523291\tvalid_1's binary_logloss: 0.523943\n",
            "[90]\ttraining's binary_logloss: 0.522462\tvalid_1's binary_logloss: 0.523087\n",
            "[91]\ttraining's binary_logloss: 0.521314\tvalid_1's binary_logloss: 0.522146\n",
            "[92]\ttraining's binary_logloss: 0.520257\tvalid_1's binary_logloss: 0.521297\n",
            "[93]\ttraining's binary_logloss: 0.519392\tvalid_1's binary_logloss: 0.520239\n",
            "[94]\ttraining's binary_logloss: 0.518226\tvalid_1's binary_logloss: 0.519168\n",
            "[95]\ttraining's binary_logloss: 0.517439\tvalid_1's binary_logloss: 0.518309\n",
            "[96]\ttraining's binary_logloss: 0.516466\tvalid_1's binary_logloss: 0.517488\n",
            "[97]\ttraining's binary_logloss: 0.515535\tvalid_1's binary_logloss: 0.516586\n",
            "[98]\ttraining's binary_logloss: 0.514386\tvalid_1's binary_logloss: 0.51528\n",
            "[99]\ttraining's binary_logloss: 0.513718\tvalid_1's binary_logloss: 0.514793\n",
            "[100]\ttraining's binary_logloss: 0.512855\tvalid_1's binary_logloss: 0.514054\n",
            "[101]\ttraining's binary_logloss: 0.511766\tvalid_1's binary_logloss: 0.513115\n",
            "[102]\ttraining's binary_logloss: 0.510903\tvalid_1's binary_logloss: 0.512417\n",
            "[103]\ttraining's binary_logloss: 0.509953\tvalid_1's binary_logloss: 0.511373\n",
            "[104]\ttraining's binary_logloss: 0.509267\tvalid_1's binary_logloss: 0.510754\n",
            "[105]\ttraining's binary_logloss: 0.508133\tvalid_1's binary_logloss: 0.509976\n",
            "[106]\ttraining's binary_logloss: 0.507027\tvalid_1's binary_logloss: 0.50887\n",
            "[107]\ttraining's binary_logloss: 0.506111\tvalid_1's binary_logloss: 0.507772\n",
            "[108]\ttraining's binary_logloss: 0.505354\tvalid_1's binary_logloss: 0.506783\n",
            "[109]\ttraining's binary_logloss: 0.504241\tvalid_1's binary_logloss: 0.505985\n",
            "[110]\ttraining's binary_logloss: 0.503466\tvalid_1's binary_logloss: 0.50562\n",
            "[111]\ttraining's binary_logloss: 0.502728\tvalid_1's binary_logloss: 0.505095\n",
            "[112]\ttraining's binary_logloss: 0.501857\tvalid_1's binary_logloss: 0.504149\n",
            "[113]\ttraining's binary_logloss: 0.500863\tvalid_1's binary_logloss: 0.503213\n",
            "[114]\ttraining's binary_logloss: 0.49974\tvalid_1's binary_logloss: 0.502426\n",
            "[115]\ttraining's binary_logloss: 0.498664\tvalid_1's binary_logloss: 0.501851\n",
            "[116]\ttraining's binary_logloss: 0.497908\tvalid_1's binary_logloss: 0.500949\n",
            "[117]\ttraining's binary_logloss: 0.496879\tvalid_1's binary_logloss: 0.500466\n",
            "[118]\ttraining's binary_logloss: 0.495843\tvalid_1's binary_logloss: 0.499482\n",
            "[119]\ttraining's binary_logloss: 0.494795\tvalid_1's binary_logloss: 0.498782\n",
            "[120]\ttraining's binary_logloss: 0.493825\tvalid_1's binary_logloss: 0.49814\n",
            "[121]\ttraining's binary_logloss: 0.492691\tvalid_1's binary_logloss: 0.497069\n",
            "[122]\ttraining's binary_logloss: 0.491655\tvalid_1's binary_logloss: 0.49602\n",
            "[123]\ttraining's binary_logloss: 0.490983\tvalid_1's binary_logloss: 0.495382\n",
            "[124]\ttraining's binary_logloss: 0.489854\tvalid_1's binary_logloss: 0.494297\n",
            "[125]\ttraining's binary_logloss: 0.488977\tvalid_1's binary_logloss: 0.493339\n",
            "[126]\ttraining's binary_logloss: 0.488006\tvalid_1's binary_logloss: 0.492908\n",
            "[127]\ttraining's binary_logloss: 0.487314\tvalid_1's binary_logloss: 0.492155\n",
            "[128]\ttraining's binary_logloss: 0.486464\tvalid_1's binary_logloss: 0.491748\n",
            "[129]\ttraining's binary_logloss: 0.485821\tvalid_1's binary_logloss: 0.491167\n",
            "[130]\ttraining's binary_logloss: 0.485158\tvalid_1's binary_logloss: 0.490577\n",
            "[131]\ttraining's binary_logloss: 0.484096\tvalid_1's binary_logloss: 0.490068\n",
            "[132]\ttraining's binary_logloss: 0.483241\tvalid_1's binary_logloss: 0.489184\n",
            "[133]\ttraining's binary_logloss: 0.482219\tvalid_1's binary_logloss: 0.4879\n",
            "[134]\ttraining's binary_logloss: 0.481502\tvalid_1's binary_logloss: 0.487194\n",
            "[135]\ttraining's binary_logloss: 0.480516\tvalid_1's binary_logloss: 0.486523\n",
            "[136]\ttraining's binary_logloss: 0.479648\tvalid_1's binary_logloss: 0.485785\n",
            "[137]\ttraining's binary_logloss: 0.478864\tvalid_1's binary_logloss: 0.48492\n",
            "[138]\ttraining's binary_logloss: 0.477986\tvalid_1's binary_logloss: 0.484491\n",
            "[139]\ttraining's binary_logloss: 0.476994\tvalid_1's binary_logloss: 0.483621\n",
            "[140]\ttraining's binary_logloss: 0.476101\tvalid_1's binary_logloss: 0.482602\n",
            "[141]\ttraining's binary_logloss: 0.475098\tvalid_1's binary_logloss: 0.481673\n",
            "[142]\ttraining's binary_logloss: 0.474469\tvalid_1's binary_logloss: 0.480944\n",
            "[143]\ttraining's binary_logloss: 0.473663\tvalid_1's binary_logloss: 0.479991\n",
            "[144]\ttraining's binary_logloss: 0.47272\tvalid_1's binary_logloss: 0.47893\n",
            "[145]\ttraining's binary_logloss: 0.471963\tvalid_1's binary_logloss: 0.478154\n",
            "[146]\ttraining's binary_logloss: 0.471011\tvalid_1's binary_logloss: 0.477385\n",
            "[147]\ttraining's binary_logloss: 0.470188\tvalid_1's binary_logloss: 0.476768\n",
            "[148]\ttraining's binary_logloss: 0.469271\tvalid_1's binary_logloss: 0.475932\n",
            "[149]\ttraining's binary_logloss: 0.46847\tvalid_1's binary_logloss: 0.47549\n",
            "[150]\ttraining's binary_logloss: 0.467628\tvalid_1's binary_logloss: 0.474547\n",
            "[151]\ttraining's binary_logloss: 0.466863\tvalid_1's binary_logloss: 0.47388\n",
            "[152]\ttraining's binary_logloss: 0.465876\tvalid_1's binary_logloss: 0.472984\n",
            "[153]\ttraining's binary_logloss: 0.465259\tvalid_1's binary_logloss: 0.472436\n",
            "[154]\ttraining's binary_logloss: 0.464197\tvalid_1's binary_logloss: 0.471308\n",
            "[155]\ttraining's binary_logloss: 0.463417\tvalid_1's binary_logloss: 0.470658\n",
            "[156]\ttraining's binary_logloss: 0.462597\tvalid_1's binary_logloss: 0.469794\n",
            "[157]\ttraining's binary_logloss: 0.461596\tvalid_1's binary_logloss: 0.46889\n",
            "[158]\ttraining's binary_logloss: 0.46069\tvalid_1's binary_logloss: 0.468066\n",
            "[159]\ttraining's binary_logloss: 0.459839\tvalid_1's binary_logloss: 0.467403\n",
            "[160]\ttraining's binary_logloss: 0.458868\tvalid_1's binary_logloss: 0.466657\n",
            "[161]\ttraining's binary_logloss: 0.45813\tvalid_1's binary_logloss: 0.466077\n",
            "[162]\ttraining's binary_logloss: 0.457258\tvalid_1's binary_logloss: 0.465138\n",
            "[163]\ttraining's binary_logloss: 0.456362\tvalid_1's binary_logloss: 0.464588\n",
            "[164]\ttraining's binary_logloss: 0.455489\tvalid_1's binary_logloss: 0.463753\n",
            "[165]\ttraining's binary_logloss: 0.454792\tvalid_1's binary_logloss: 0.463051\n",
            "[166]\ttraining's binary_logloss: 0.45402\tvalid_1's binary_logloss: 0.462508\n",
            "[167]\ttraining's binary_logloss: 0.453224\tvalid_1's binary_logloss: 0.461821\n",
            "[168]\ttraining's binary_logloss: 0.452235\tvalid_1's binary_logloss: 0.460738\n",
            "[169]\ttraining's binary_logloss: 0.45152\tvalid_1's binary_logloss: 0.459947\n",
            "[170]\ttraining's binary_logloss: 0.450793\tvalid_1's binary_logloss: 0.459327\n",
            "[171]\ttraining's binary_logloss: 0.450025\tvalid_1's binary_logloss: 0.458736\n",
            "[172]\ttraining's binary_logloss: 0.449331\tvalid_1's binary_logloss: 0.457925\n",
            "[173]\ttraining's binary_logloss: 0.448603\tvalid_1's binary_logloss: 0.457295\n",
            "[174]\ttraining's binary_logloss: 0.447823\tvalid_1's binary_logloss: 0.456794\n",
            "[175]\ttraining's binary_logloss: 0.447008\tvalid_1's binary_logloss: 0.456149\n",
            "[176]\ttraining's binary_logloss: 0.4463\tvalid_1's binary_logloss: 0.455531\n",
            "[177]\ttraining's binary_logloss: 0.445449\tvalid_1's binary_logloss: 0.45484\n",
            "[178]\ttraining's binary_logloss: 0.444718\tvalid_1's binary_logloss: 0.454177\n",
            "[179]\ttraining's binary_logloss: 0.444\tvalid_1's binary_logloss: 0.453204\n",
            "[180]\ttraining's binary_logloss: 0.443158\tvalid_1's binary_logloss: 0.452473\n",
            "[181]\ttraining's binary_logloss: 0.442418\tvalid_1's binary_logloss: 0.451779\n",
            "[182]\ttraining's binary_logloss: 0.441565\tvalid_1's binary_logloss: 0.451159\n",
            "[183]\ttraining's binary_logloss: 0.440775\tvalid_1's binary_logloss: 0.450518\n",
            "[184]\ttraining's binary_logloss: 0.440097\tvalid_1's binary_logloss: 0.44991\n",
            "[185]\ttraining's binary_logloss: 0.439297\tvalid_1's binary_logloss: 0.449023\n",
            "[186]\ttraining's binary_logloss: 0.438555\tvalid_1's binary_logloss: 0.448453\n",
            "[187]\ttraining's binary_logloss: 0.437784\tvalid_1's binary_logloss: 0.44783\n",
            "[188]\ttraining's binary_logloss: 0.437058\tvalid_1's binary_logloss: 0.447248\n",
            "[189]\ttraining's binary_logloss: 0.43639\tvalid_1's binary_logloss: 0.446569\n",
            "[190]\ttraining's binary_logloss: 0.435699\tvalid_1's binary_logloss: 0.445869\n",
            "[191]\ttraining's binary_logloss: 0.434944\tvalid_1's binary_logloss: 0.44536\n",
            "[192]\ttraining's binary_logloss: 0.43425\tvalid_1's binary_logloss: 0.44484\n",
            "[193]\ttraining's binary_logloss: 0.433492\tvalid_1's binary_logloss: 0.444218\n",
            "[194]\ttraining's binary_logloss: 0.432839\tvalid_1's binary_logloss: 0.443808\n",
            "[195]\ttraining's binary_logloss: 0.432168\tvalid_1's binary_logloss: 0.443144\n",
            "[196]\ttraining's binary_logloss: 0.431506\tvalid_1's binary_logloss: 0.442375\n",
            "[197]\ttraining's binary_logloss: 0.430833\tvalid_1's binary_logloss: 0.44176\n",
            "[198]\ttraining's binary_logloss: 0.430107\tvalid_1's binary_logloss: 0.440924\n",
            "[199]\ttraining's binary_logloss: 0.429341\tvalid_1's binary_logloss: 0.440195\n",
            "[200]\ttraining's binary_logloss: 0.428688\tvalid_1's binary_logloss: 0.439606\n",
            "[201]\ttraining's binary_logloss: 0.428028\tvalid_1's binary_logloss: 0.438927\n",
            "[202]\ttraining's binary_logloss: 0.427345\tvalid_1's binary_logloss: 0.437978\n",
            "[203]\ttraining's binary_logloss: 0.426651\tvalid_1's binary_logloss: 0.437305\n",
            "[204]\ttraining's binary_logloss: 0.42593\tvalid_1's binary_logloss: 0.436714\n",
            "[205]\ttraining's binary_logloss: 0.425301\tvalid_1's binary_logloss: 0.436267\n",
            "[206]\ttraining's binary_logloss: 0.424645\tvalid_1's binary_logloss: 0.435899\n",
            "[207]\ttraining's binary_logloss: 0.423993\tvalid_1's binary_logloss: 0.435149\n",
            "[208]\ttraining's binary_logloss: 0.423341\tvalid_1's binary_logloss: 0.434453\n",
            "[209]\ttraining's binary_logloss: 0.42272\tvalid_1's binary_logloss: 0.434055\n",
            "[210]\ttraining's binary_logloss: 0.42213\tvalid_1's binary_logloss: 0.433839\n",
            "[211]\ttraining's binary_logloss: 0.421484\tvalid_1's binary_logloss: 0.433054\n",
            "[212]\ttraining's binary_logloss: 0.420714\tvalid_1's binary_logloss: 0.432158\n",
            "[213]\ttraining's binary_logloss: 0.420087\tvalid_1's binary_logloss: 0.43191\n",
            "[214]\ttraining's binary_logloss: 0.419441\tvalid_1's binary_logloss: 0.431516\n",
            "[215]\ttraining's binary_logloss: 0.418741\tvalid_1's binary_logloss: 0.430646\n",
            "[216]\ttraining's binary_logloss: 0.41805\tvalid_1's binary_logloss: 0.429859\n",
            "[217]\ttraining's binary_logloss: 0.417441\tvalid_1's binary_logloss: 0.429441\n",
            "[218]\ttraining's binary_logloss: 0.41679\tvalid_1's binary_logloss: 0.428601\n",
            "[219]\ttraining's binary_logloss: 0.416139\tvalid_1's binary_logloss: 0.427916\n",
            "[220]\ttraining's binary_logloss: 0.415465\tvalid_1's binary_logloss: 0.426972\n",
            "[221]\ttraining's binary_logloss: 0.414794\tvalid_1's binary_logloss: 0.426387\n",
            "[222]\ttraining's binary_logloss: 0.413992\tvalid_1's binary_logloss: 0.4257\n",
            "[223]\ttraining's binary_logloss: 0.413263\tvalid_1's binary_logloss: 0.424797\n",
            "[224]\ttraining's binary_logloss: 0.412628\tvalid_1's binary_logloss: 0.424182\n",
            "[225]\ttraining's binary_logloss: 0.412026\tvalid_1's binary_logloss: 0.423667\n",
            "[226]\ttraining's binary_logloss: 0.411292\tvalid_1's binary_logloss: 0.422929\n",
            "[227]\ttraining's binary_logloss: 0.41074\tvalid_1's binary_logloss: 0.422371\n",
            "[228]\ttraining's binary_logloss: 0.410057\tvalid_1's binary_logloss: 0.421308\n",
            "[229]\ttraining's binary_logloss: 0.409482\tvalid_1's binary_logloss: 0.420877\n",
            "[230]\ttraining's binary_logloss: 0.40893\tvalid_1's binary_logloss: 0.420338\n",
            "[231]\ttraining's binary_logloss: 0.408273\tvalid_1's binary_logloss: 0.419819\n",
            "[232]\ttraining's binary_logloss: 0.407615\tvalid_1's binary_logloss: 0.418756\n",
            "[233]\ttraining's binary_logloss: 0.406941\tvalid_1's binary_logloss: 0.418125\n",
            "[234]\ttraining's binary_logloss: 0.406296\tvalid_1's binary_logloss: 0.41751\n",
            "[235]\ttraining's binary_logloss: 0.405596\tvalid_1's binary_logloss: 0.416946\n",
            "[236]\ttraining's binary_logloss: 0.404951\tvalid_1's binary_logloss: 0.416282\n",
            "[237]\ttraining's binary_logloss: 0.404264\tvalid_1's binary_logloss: 0.415641\n",
            "[238]\ttraining's binary_logloss: 0.403642\tvalid_1's binary_logloss: 0.415207\n",
            "[239]\ttraining's binary_logloss: 0.402947\tvalid_1's binary_logloss: 0.41452\n",
            "[240]\ttraining's binary_logloss: 0.402349\tvalid_1's binary_logloss: 0.413564\n",
            "[241]\ttraining's binary_logloss: 0.401701\tvalid_1's binary_logloss: 0.412655\n",
            "[242]\ttraining's binary_logloss: 0.401133\tvalid_1's binary_logloss: 0.411835\n",
            "[243]\ttraining's binary_logloss: 0.400548\tvalid_1's binary_logloss: 0.411266\n",
            "[244]\ttraining's binary_logloss: 0.399767\tvalid_1's binary_logloss: 0.410711\n",
            "[245]\ttraining's binary_logloss: 0.39916\tvalid_1's binary_logloss: 0.409926\n",
            "[246]\ttraining's binary_logloss: 0.398529\tvalid_1's binary_logloss: 0.409296\n",
            "[247]\ttraining's binary_logloss: 0.397906\tvalid_1's binary_logloss: 0.408719\n",
            "[248]\ttraining's binary_logloss: 0.397304\tvalid_1's binary_logloss: 0.407969\n",
            "[249]\ttraining's binary_logloss: 0.396719\tvalid_1's binary_logloss: 0.407174\n",
            "[250]\ttraining's binary_logloss: 0.396156\tvalid_1's binary_logloss: 0.406569\n",
            "[251]\ttraining's binary_logloss: 0.395636\tvalid_1's binary_logloss: 0.405605\n",
            "[252]\ttraining's binary_logloss: 0.395055\tvalid_1's binary_logloss: 0.405095\n",
            "[253]\ttraining's binary_logloss: 0.39436\tvalid_1's binary_logloss: 0.40453\n",
            "[254]\ttraining's binary_logloss: 0.393753\tvalid_1's binary_logloss: 0.403855\n",
            "[255]\ttraining's binary_logloss: 0.393016\tvalid_1's binary_logloss: 0.403088\n",
            "[256]\ttraining's binary_logloss: 0.392422\tvalid_1's binary_logloss: 0.402117\n",
            "[257]\ttraining's binary_logloss: 0.391878\tvalid_1's binary_logloss: 0.401619\n",
            "[258]\ttraining's binary_logloss: 0.391268\tvalid_1's binary_logloss: 0.401034\n",
            "[259]\ttraining's binary_logloss: 0.390636\tvalid_1's binary_logloss: 0.400629\n",
            "[260]\ttraining's binary_logloss: 0.390037\tvalid_1's binary_logloss: 0.399869\n",
            "[261]\ttraining's binary_logloss: 0.38944\tvalid_1's binary_logloss: 0.399324\n",
            "[262]\ttraining's binary_logloss: 0.388874\tvalid_1's binary_logloss: 0.398559\n",
            "[263]\ttraining's binary_logloss: 0.388256\tvalid_1's binary_logloss: 0.39802\n",
            "[264]\ttraining's binary_logloss: 0.387693\tvalid_1's binary_logloss: 0.397435\n",
            "[265]\ttraining's binary_logloss: 0.387093\tvalid_1's binary_logloss: 0.396855\n",
            "[266]\ttraining's binary_logloss: 0.386603\tvalid_1's binary_logloss: 0.39621\n",
            "[267]\ttraining's binary_logloss: 0.386016\tvalid_1's binary_logloss: 0.395412\n",
            "[268]\ttraining's binary_logloss: 0.385434\tvalid_1's binary_logloss: 0.39494\n",
            "[269]\ttraining's binary_logloss: 0.384792\tvalid_1's binary_logloss: 0.394243\n",
            "[270]\ttraining's binary_logloss: 0.384109\tvalid_1's binary_logloss: 0.393255\n",
            "[271]\ttraining's binary_logloss: 0.383611\tvalid_1's binary_logloss: 0.392689\n",
            "[272]\ttraining's binary_logloss: 0.383074\tvalid_1's binary_logloss: 0.391891\n",
            "[273]\ttraining's binary_logloss: 0.382569\tvalid_1's binary_logloss: 0.391393\n",
            "[274]\ttraining's binary_logloss: 0.381974\tvalid_1's binary_logloss: 0.390894\n",
            "[275]\ttraining's binary_logloss: 0.381293\tvalid_1's binary_logloss: 0.390003\n",
            "[276]\ttraining's binary_logloss: 0.380697\tvalid_1's binary_logloss: 0.389315\n",
            "[277]\ttraining's binary_logloss: 0.380113\tvalid_1's binary_logloss: 0.388774\n",
            "[278]\ttraining's binary_logloss: 0.379509\tvalid_1's binary_logloss: 0.388181\n",
            "[279]\ttraining's binary_logloss: 0.378903\tvalid_1's binary_logloss: 0.387406\n",
            "[280]\ttraining's binary_logloss: 0.378365\tvalid_1's binary_logloss: 0.386875\n",
            "[281]\ttraining's binary_logloss: 0.37783\tvalid_1's binary_logloss: 0.386408\n",
            "[282]\ttraining's binary_logloss: 0.377141\tvalid_1's binary_logloss: 0.385845\n",
            "[283]\ttraining's binary_logloss: 0.376542\tvalid_1's binary_logloss: 0.385251\n",
            "[284]\ttraining's binary_logloss: 0.375992\tvalid_1's binary_logloss: 0.384749\n",
            "[285]\ttraining's binary_logloss: 0.375455\tvalid_1's binary_logloss: 0.384438\n",
            "[286]\ttraining's binary_logloss: 0.37474\tvalid_1's binary_logloss: 0.384004\n",
            "[287]\ttraining's binary_logloss: 0.374182\tvalid_1's binary_logloss: 0.383502\n",
            "[288]\ttraining's binary_logloss: 0.373666\tvalid_1's binary_logloss: 0.382924\n",
            "[289]\ttraining's binary_logloss: 0.373052\tvalid_1's binary_logloss: 0.382518\n",
            "[290]\ttraining's binary_logloss: 0.37255\tvalid_1's binary_logloss: 0.381858\n",
            "[291]\ttraining's binary_logloss: 0.372015\tvalid_1's binary_logloss: 0.381111\n",
            "[292]\ttraining's binary_logloss: 0.371451\tvalid_1's binary_logloss: 0.380462\n",
            "[293]\ttraining's binary_logloss: 0.370928\tvalid_1's binary_logloss: 0.379707\n",
            "[294]\ttraining's binary_logloss: 0.370414\tvalid_1's binary_logloss: 0.378989\n",
            "[295]\ttraining's binary_logloss: 0.36975\tvalid_1's binary_logloss: 0.378544\n",
            "[296]\ttraining's binary_logloss: 0.36929\tvalid_1's binary_logloss: 0.378002\n",
            "[297]\ttraining's binary_logloss: 0.368704\tvalid_1's binary_logloss: 0.377277\n",
            "[298]\ttraining's binary_logloss: 0.368207\tvalid_1's binary_logloss: 0.376634\n",
            "[299]\ttraining's binary_logloss: 0.367594\tvalid_1's binary_logloss: 0.376285\n",
            "[300]\ttraining's binary_logloss: 0.367086\tvalid_1's binary_logloss: 0.376001\n",
            "[301]\ttraining's binary_logloss: 0.366407\tvalid_1's binary_logloss: 0.375152\n",
            "[302]\ttraining's binary_logloss: 0.365958\tvalid_1's binary_logloss: 0.374704\n",
            "[303]\ttraining's binary_logloss: 0.365313\tvalid_1's binary_logloss: 0.373898\n",
            "[304]\ttraining's binary_logloss: 0.364708\tvalid_1's binary_logloss: 0.373201\n",
            "[305]\ttraining's binary_logloss: 0.364204\tvalid_1's binary_logloss: 0.372581\n",
            "[306]\ttraining's binary_logloss: 0.363582\tvalid_1's binary_logloss: 0.37208\n",
            "[307]\ttraining's binary_logloss: 0.363113\tvalid_1's binary_logloss: 0.371303\n",
            "[308]\ttraining's binary_logloss: 0.36256\tvalid_1's binary_logloss: 0.370462\n",
            "[309]\ttraining's binary_logloss: 0.362064\tvalid_1's binary_logloss: 0.369865\n",
            "[310]\ttraining's binary_logloss: 0.361447\tvalid_1's binary_logloss: 0.369325\n",
            "[311]\ttraining's binary_logloss: 0.361009\tvalid_1's binary_logloss: 0.368893\n",
            "[312]\ttraining's binary_logloss: 0.360493\tvalid_1's binary_logloss: 0.368481\n",
            "[313]\ttraining's binary_logloss: 0.359896\tvalid_1's binary_logloss: 0.368151\n",
            "[314]\ttraining's binary_logloss: 0.359415\tvalid_1's binary_logloss: 0.367508\n",
            "[315]\ttraining's binary_logloss: 0.35885\tvalid_1's binary_logloss: 0.367084\n",
            "[316]\ttraining's binary_logloss: 0.358361\tvalid_1's binary_logloss: 0.366587\n",
            "[317]\ttraining's binary_logloss: 0.357802\tvalid_1's binary_logloss: 0.366014\n",
            "[318]\ttraining's binary_logloss: 0.357262\tvalid_1's binary_logloss: 0.365324\n",
            "[319]\ttraining's binary_logloss: 0.356805\tvalid_1's binary_logloss: 0.364731\n",
            "[320]\ttraining's binary_logloss: 0.356317\tvalid_1's binary_logloss: 0.364408\n",
            "[321]\ttraining's binary_logloss: 0.355797\tvalid_1's binary_logloss: 0.364006\n",
            "[322]\ttraining's binary_logloss: 0.355258\tvalid_1's binary_logloss: 0.363588\n",
            "[323]\ttraining's binary_logloss: 0.354736\tvalid_1's binary_logloss: 0.363064\n",
            "[324]\ttraining's binary_logloss: 0.354102\tvalid_1's binary_logloss: 0.362483\n",
            "[325]\ttraining's binary_logloss: 0.353573\tvalid_1's binary_logloss: 0.361796\n",
            "[326]\ttraining's binary_logloss: 0.353013\tvalid_1's binary_logloss: 0.361279\n",
            "[327]\ttraining's binary_logloss: 0.352533\tvalid_1's binary_logloss: 0.360691\n",
            "[328]\ttraining's binary_logloss: 0.352031\tvalid_1's binary_logloss: 0.360133\n",
            "[329]\ttraining's binary_logloss: 0.35145\tvalid_1's binary_logloss: 0.359586\n",
            "[330]\ttraining's binary_logloss: 0.350956\tvalid_1's binary_logloss: 0.358988\n",
            "[331]\ttraining's binary_logloss: 0.350475\tvalid_1's binary_logloss: 0.358719\n",
            "[332]\ttraining's binary_logloss: 0.349981\tvalid_1's binary_logloss: 0.358103\n",
            "[333]\ttraining's binary_logloss: 0.349486\tvalid_1's binary_logloss: 0.357469\n",
            "[334]\ttraining's binary_logloss: 0.348943\tvalid_1's binary_logloss: 0.356801\n",
            "[335]\ttraining's binary_logloss: 0.348433\tvalid_1's binary_logloss: 0.356249\n",
            "[336]\ttraining's binary_logloss: 0.347938\tvalid_1's binary_logloss: 0.35583\n",
            "[337]\ttraining's binary_logloss: 0.347341\tvalid_1's binary_logloss: 0.355253\n",
            "[338]\ttraining's binary_logloss: 0.346866\tvalid_1's binary_logloss: 0.354637\n",
            "[339]\ttraining's binary_logloss: 0.346299\tvalid_1's binary_logloss: 0.353793\n",
            "[340]\ttraining's binary_logloss: 0.345808\tvalid_1's binary_logloss: 0.353218\n",
            "[341]\ttraining's binary_logloss: 0.345293\tvalid_1's binary_logloss: 0.352498\n",
            "[342]\ttraining's binary_logloss: 0.344743\tvalid_1's binary_logloss: 0.352104\n",
            "[343]\ttraining's binary_logloss: 0.344262\tvalid_1's binary_logloss: 0.351668\n",
            "[344]\ttraining's binary_logloss: 0.343863\tvalid_1's binary_logloss: 0.351299\n",
            "[345]\ttraining's binary_logloss: 0.343478\tvalid_1's binary_logloss: 0.350943\n",
            "[346]\ttraining's binary_logloss: 0.342982\tvalid_1's binary_logloss: 0.350525\n",
            "[347]\ttraining's binary_logloss: 0.342399\tvalid_1's binary_logloss: 0.35004\n",
            "[348]\ttraining's binary_logloss: 0.341969\tvalid_1's binary_logloss: 0.349744\n",
            "[349]\ttraining's binary_logloss: 0.341454\tvalid_1's binary_logloss: 0.34918\n",
            "[350]\ttraining's binary_logloss: 0.340987\tvalid_1's binary_logloss: 0.348388\n",
            "[351]\ttraining's binary_logloss: 0.340528\tvalid_1's binary_logloss: 0.347927\n",
            "[352]\ttraining's binary_logloss: 0.340081\tvalid_1's binary_logloss: 0.347497\n",
            "[353]\ttraining's binary_logloss: 0.339499\tvalid_1's binary_logloss: 0.347121\n",
            "[354]\ttraining's binary_logloss: 0.33905\tvalid_1's binary_logloss: 0.34682\n",
            "[355]\ttraining's binary_logloss: 0.33843\tvalid_1's binary_logloss: 0.345891\n",
            "[356]\ttraining's binary_logloss: 0.337983\tvalid_1's binary_logloss: 0.345631\n",
            "[357]\ttraining's binary_logloss: 0.33729\tvalid_1's binary_logloss: 0.344511\n",
            "[358]\ttraining's binary_logloss: 0.336821\tvalid_1's binary_logloss: 0.343877\n",
            "[359]\ttraining's binary_logloss: 0.33624\tvalid_1's binary_logloss: 0.343229\n",
            "[360]\ttraining's binary_logloss: 0.33574\tvalid_1's binary_logloss: 0.342612\n",
            "[361]\ttraining's binary_logloss: 0.335281\tvalid_1's binary_logloss: 0.341899\n",
            "[362]\ttraining's binary_logloss: 0.33477\tvalid_1's binary_logloss: 0.341293\n",
            "[363]\ttraining's binary_logloss: 0.334303\tvalid_1's binary_logloss: 0.340962\n",
            "[364]\ttraining's binary_logloss: 0.333863\tvalid_1's binary_logloss: 0.340393\n",
            "[365]\ttraining's binary_logloss: 0.333481\tvalid_1's binary_logloss: 0.339839\n",
            "[366]\ttraining's binary_logloss: 0.332978\tvalid_1's binary_logloss: 0.339177\n",
            "[367]\ttraining's binary_logloss: 0.332557\tvalid_1's binary_logloss: 0.338942\n",
            "[368]\ttraining's binary_logloss: 0.331956\tvalid_1's binary_logloss: 0.338316\n",
            "[369]\ttraining's binary_logloss: 0.331536\tvalid_1's binary_logloss: 0.337858\n",
            "[370]\ttraining's binary_logloss: 0.331117\tvalid_1's binary_logloss: 0.33738\n",
            "[371]\ttraining's binary_logloss: 0.33067\tvalid_1's binary_logloss: 0.336722\n",
            "[372]\ttraining's binary_logloss: 0.330306\tvalid_1's binary_logloss: 0.33639\n",
            "[373]\ttraining's binary_logloss: 0.329846\tvalid_1's binary_logloss: 0.335952\n",
            "[374]\ttraining's binary_logloss: 0.329392\tvalid_1's binary_logloss: 0.335368\n",
            "[375]\ttraining's binary_logloss: 0.328914\tvalid_1's binary_logloss: 0.334609\n",
            "[376]\ttraining's binary_logloss: 0.328337\tvalid_1's binary_logloss: 0.334032\n",
            "[377]\ttraining's binary_logloss: 0.327866\tvalid_1's binary_logloss: 0.333662\n",
            "[378]\ttraining's binary_logloss: 0.327349\tvalid_1's binary_logloss: 0.333363\n",
            "[379]\ttraining's binary_logloss: 0.326804\tvalid_1's binary_logloss: 0.332776\n",
            "[380]\ttraining's binary_logloss: 0.326382\tvalid_1's binary_logloss: 0.332552\n",
            "[381]\ttraining's binary_logloss: 0.325989\tvalid_1's binary_logloss: 0.331886\n",
            "[382]\ttraining's binary_logloss: 0.3256\tvalid_1's binary_logloss: 0.331461\n",
            "[383]\ttraining's binary_logloss: 0.325152\tvalid_1's binary_logloss: 0.331082\n",
            "[384]\ttraining's binary_logloss: 0.324688\tvalid_1's binary_logloss: 0.330567\n",
            "[385]\ttraining's binary_logloss: 0.324254\tvalid_1's binary_logloss: 0.330118\n",
            "[386]\ttraining's binary_logloss: 0.323796\tvalid_1's binary_logloss: 0.329493\n",
            "[387]\ttraining's binary_logloss: 0.323397\tvalid_1's binary_logloss: 0.329104\n",
            "[388]\ttraining's binary_logloss: 0.322986\tvalid_1's binary_logloss: 0.328716\n",
            "[389]\ttraining's binary_logloss: 0.3225\tvalid_1's binary_logloss: 0.328107\n",
            "[390]\ttraining's binary_logloss: 0.321952\tvalid_1's binary_logloss: 0.32754\n",
            "[391]\ttraining's binary_logloss: 0.321581\tvalid_1's binary_logloss: 0.32702\n",
            "[392]\ttraining's binary_logloss: 0.321249\tvalid_1's binary_logloss: 0.326678\n",
            "[393]\ttraining's binary_logloss: 0.320875\tvalid_1's binary_logloss: 0.326204\n",
            "[394]\ttraining's binary_logloss: 0.320504\tvalid_1's binary_logloss: 0.325876\n",
            "[395]\ttraining's binary_logloss: 0.320081\tvalid_1's binary_logloss: 0.325472\n",
            "[396]\ttraining's binary_logloss: 0.319721\tvalid_1's binary_logloss: 0.325068\n",
            "[397]\ttraining's binary_logloss: 0.319311\tvalid_1's binary_logloss: 0.324693\n",
            "[398]\ttraining's binary_logloss: 0.318931\tvalid_1's binary_logloss: 0.324525\n",
            "[399]\ttraining's binary_logloss: 0.318477\tvalid_1's binary_logloss: 0.324106\n",
            "[400]\ttraining's binary_logloss: 0.318018\tvalid_1's binary_logloss: 0.323439\n",
            "[401]\ttraining's binary_logloss: 0.317665\tvalid_1's binary_logloss: 0.323148\n",
            "[402]\ttraining's binary_logloss: 0.317205\tvalid_1's binary_logloss: 0.322479\n",
            "[403]\ttraining's binary_logloss: 0.316744\tvalid_1's binary_logloss: 0.322014\n",
            "[404]\ttraining's binary_logloss: 0.316319\tvalid_1's binary_logloss: 0.321437\n",
            "[405]\ttraining's binary_logloss: 0.315765\tvalid_1's binary_logloss: 0.320599\n",
            "[406]\ttraining's binary_logloss: 0.31535\tvalid_1's binary_logloss: 0.320089\n",
            "[407]\ttraining's binary_logloss: 0.314989\tvalid_1's binary_logloss: 0.319543\n",
            "[408]\ttraining's binary_logloss: 0.314544\tvalid_1's binary_logloss: 0.319111\n",
            "[409]\ttraining's binary_logloss: 0.314182\tvalid_1's binary_logloss: 0.318815\n",
            "[410]\ttraining's binary_logloss: 0.313774\tvalid_1's binary_logloss: 0.318522\n",
            "[411]\ttraining's binary_logloss: 0.313351\tvalid_1's binary_logloss: 0.318013\n",
            "[412]\ttraining's binary_logloss: 0.312766\tvalid_1's binary_logloss: 0.31716\n",
            "[413]\ttraining's binary_logloss: 0.312268\tvalid_1's binary_logloss: 0.316656\n",
            "[414]\ttraining's binary_logloss: 0.311768\tvalid_1's binary_logloss: 0.316113\n",
            "[415]\ttraining's binary_logloss: 0.311298\tvalid_1's binary_logloss: 0.315761\n",
            "[416]\ttraining's binary_logloss: 0.310794\tvalid_1's binary_logloss: 0.315169\n",
            "[417]\ttraining's binary_logloss: 0.310428\tvalid_1's binary_logloss: 0.314906\n",
            "[418]\ttraining's binary_logloss: 0.310019\tvalid_1's binary_logloss: 0.314626\n",
            "[419]\ttraining's binary_logloss: 0.309562\tvalid_1's binary_logloss: 0.314179\n",
            "[420]\ttraining's binary_logloss: 0.309149\tvalid_1's binary_logloss: 0.313564\n",
            "[421]\ttraining's binary_logloss: 0.308761\tvalid_1's binary_logloss: 0.313164\n",
            "[422]\ttraining's binary_logloss: 0.308422\tvalid_1's binary_logloss: 0.31291\n",
            "[423]\ttraining's binary_logloss: 0.308011\tvalid_1's binary_logloss: 0.312563\n",
            "[424]\ttraining's binary_logloss: 0.30755\tvalid_1's binary_logloss: 0.312197\n",
            "[425]\ttraining's binary_logloss: 0.307117\tvalid_1's binary_logloss: 0.311537\n",
            "[426]\ttraining's binary_logloss: 0.306755\tvalid_1's binary_logloss: 0.311213\n",
            "[427]\ttraining's binary_logloss: 0.306426\tvalid_1's binary_logloss: 0.310937\n",
            "[428]\ttraining's binary_logloss: 0.305989\tvalid_1's binary_logloss: 0.310503\n",
            "[429]\ttraining's binary_logloss: 0.305588\tvalid_1's binary_logloss: 0.309961\n",
            "[430]\ttraining's binary_logloss: 0.30519\tvalid_1's binary_logloss: 0.309611\n",
            "[431]\ttraining's binary_logloss: 0.304744\tvalid_1's binary_logloss: 0.309165\n",
            "[432]\ttraining's binary_logloss: 0.304396\tvalid_1's binary_logloss: 0.30892\n",
            "[433]\ttraining's binary_logloss: 0.303989\tvalid_1's binary_logloss: 0.308365\n",
            "[434]\ttraining's binary_logloss: 0.303565\tvalid_1's binary_logloss: 0.307951\n",
            "[435]\ttraining's binary_logloss: 0.303129\tvalid_1's binary_logloss: 0.307586\n",
            "[436]\ttraining's binary_logloss: 0.302715\tvalid_1's binary_logloss: 0.307102\n",
            "[437]\ttraining's binary_logloss: 0.302343\tvalid_1's binary_logloss: 0.306628\n",
            "[438]\ttraining's binary_logloss: 0.302004\tvalid_1's binary_logloss: 0.30631\n",
            "[439]\ttraining's binary_logloss: 0.301643\tvalid_1's binary_logloss: 0.305978\n",
            "[440]\ttraining's binary_logloss: 0.301288\tvalid_1's binary_logloss: 0.305705\n",
            "[441]\ttraining's binary_logloss: 0.30086\tvalid_1's binary_logloss: 0.305304\n",
            "[442]\ttraining's binary_logloss: 0.300495\tvalid_1's binary_logloss: 0.305085\n",
            "[443]\ttraining's binary_logloss: 0.300037\tvalid_1's binary_logloss: 0.304612\n",
            "[444]\ttraining's binary_logloss: 0.299583\tvalid_1's binary_logloss: 0.304254\n",
            "[445]\ttraining's binary_logloss: 0.299154\tvalid_1's binary_logloss: 0.303963\n",
            "[446]\ttraining's binary_logloss: 0.298762\tvalid_1's binary_logloss: 0.30344\n",
            "[447]\ttraining's binary_logloss: 0.298303\tvalid_1's binary_logloss: 0.302932\n",
            "[448]\ttraining's binary_logloss: 0.297961\tvalid_1's binary_logloss: 0.30244\n",
            "[449]\ttraining's binary_logloss: 0.297629\tvalid_1's binary_logloss: 0.302125\n",
            "[450]\ttraining's binary_logloss: 0.297251\tvalid_1's binary_logloss: 0.301905\n",
            "[451]\ttraining's binary_logloss: 0.296837\tvalid_1's binary_logloss: 0.301287\n",
            "[452]\ttraining's binary_logloss: 0.296433\tvalid_1's binary_logloss: 0.300824\n",
            "[453]\ttraining's binary_logloss: 0.295909\tvalid_1's binary_logloss: 0.300452\n",
            "[454]\ttraining's binary_logloss: 0.295574\tvalid_1's binary_logloss: 0.300022\n",
            "[455]\ttraining's binary_logloss: 0.295193\tvalid_1's binary_logloss: 0.299436\n",
            "[456]\ttraining's binary_logloss: 0.294783\tvalid_1's binary_logloss: 0.298845\n",
            "[457]\ttraining's binary_logloss: 0.294386\tvalid_1's binary_logloss: 0.298334\n",
            "[458]\ttraining's binary_logloss: 0.29389\tvalid_1's binary_logloss: 0.29803\n",
            "[459]\ttraining's binary_logloss: 0.293469\tvalid_1's binary_logloss: 0.297586\n",
            "[460]\ttraining's binary_logloss: 0.293034\tvalid_1's binary_logloss: 0.297161\n",
            "[461]\ttraining's binary_logloss: 0.292544\tvalid_1's binary_logloss: 0.296811\n",
            "[462]\ttraining's binary_logloss: 0.292174\tvalid_1's binary_logloss: 0.29635\n",
            "[463]\ttraining's binary_logloss: 0.291823\tvalid_1's binary_logloss: 0.296012\n",
            "[464]\ttraining's binary_logloss: 0.291503\tvalid_1's binary_logloss: 0.295612\n",
            "[465]\ttraining's binary_logloss: 0.291076\tvalid_1's binary_logloss: 0.295204\n",
            "[466]\ttraining's binary_logloss: 0.290708\tvalid_1's binary_logloss: 0.294778\n",
            "[467]\ttraining's binary_logloss: 0.290302\tvalid_1's binary_logloss: 0.294263\n",
            "[468]\ttraining's binary_logloss: 0.289982\tvalid_1's binary_logloss: 0.293813\n",
            "[469]\ttraining's binary_logloss: 0.289682\tvalid_1's binary_logloss: 0.293379\n",
            "[470]\ttraining's binary_logloss: 0.289304\tvalid_1's binary_logloss: 0.293181\n",
            "[471]\ttraining's binary_logloss: 0.288966\tvalid_1's binary_logloss: 0.292592\n",
            "[472]\ttraining's binary_logloss: 0.288626\tvalid_1's binary_logloss: 0.292258\n",
            "[473]\ttraining's binary_logloss: 0.288115\tvalid_1's binary_logloss: 0.291543\n",
            "[474]\ttraining's binary_logloss: 0.287687\tvalid_1's binary_logloss: 0.29122\n",
            "[475]\ttraining's binary_logloss: 0.28729\tvalid_1's binary_logloss: 0.290784\n",
            "[476]\ttraining's binary_logloss: 0.286768\tvalid_1's binary_logloss: 0.290245\n",
            "[477]\ttraining's binary_logloss: 0.286477\tvalid_1's binary_logloss: 0.289835\n",
            "[478]\ttraining's binary_logloss: 0.286005\tvalid_1's binary_logloss: 0.289281\n",
            "[479]\ttraining's binary_logloss: 0.285662\tvalid_1's binary_logloss: 0.288845\n",
            "[480]\ttraining's binary_logloss: 0.285311\tvalid_1's binary_logloss: 0.288511\n",
            "[481]\ttraining's binary_logloss: 0.284934\tvalid_1's binary_logloss: 0.287934\n",
            "[482]\ttraining's binary_logloss: 0.284443\tvalid_1's binary_logloss: 0.287508\n",
            "[483]\ttraining's binary_logloss: 0.284131\tvalid_1's binary_logloss: 0.287181\n",
            "[484]\ttraining's binary_logloss: 0.283724\tvalid_1's binary_logloss: 0.286843\n",
            "[485]\ttraining's binary_logloss: 0.283269\tvalid_1's binary_logloss: 0.286657\n",
            "[486]\ttraining's binary_logloss: 0.282934\tvalid_1's binary_logloss: 0.286164\n",
            "[487]\ttraining's binary_logloss: 0.282546\tvalid_1's binary_logloss: 0.285836\n",
            "[488]\ttraining's binary_logloss: 0.282122\tvalid_1's binary_logloss: 0.285357\n",
            "[489]\ttraining's binary_logloss: 0.281673\tvalid_1's binary_logloss: 0.284827\n",
            "[490]\ttraining's binary_logloss: 0.281257\tvalid_1's binary_logloss: 0.284701\n",
            "[491]\ttraining's binary_logloss: 0.280866\tvalid_1's binary_logloss: 0.284317\n",
            "[492]\ttraining's binary_logloss: 0.280467\tvalid_1's binary_logloss: 0.283834\n",
            "[493]\ttraining's binary_logloss: 0.280138\tvalid_1's binary_logloss: 0.283627\n",
            "[494]\ttraining's binary_logloss: 0.279748\tvalid_1's binary_logloss: 0.283329\n",
            "[495]\ttraining's binary_logloss: 0.279331\tvalid_1's binary_logloss: 0.282908\n",
            "[496]\ttraining's binary_logloss: 0.278947\tvalid_1's binary_logloss: 0.282651\n",
            "[497]\ttraining's binary_logloss: 0.278543\tvalid_1's binary_logloss: 0.282327\n",
            "[498]\ttraining's binary_logloss: 0.278222\tvalid_1's binary_logloss: 0.282141\n",
            "[499]\ttraining's binary_logloss: 0.27782\tvalid_1's binary_logloss: 0.281707\n",
            "[500]\ttraining's binary_logloss: 0.277465\tvalid_1's binary_logloss: 0.281281\n",
            "[501]\ttraining's binary_logloss: 0.277095\tvalid_1's binary_logloss: 0.280887\n",
            "[502]\ttraining's binary_logloss: 0.276731\tvalid_1's binary_logloss: 0.280444\n",
            "[503]\ttraining's binary_logloss: 0.276388\tvalid_1's binary_logloss: 0.280196\n",
            "[504]\ttraining's binary_logloss: 0.27598\tvalid_1's binary_logloss: 0.279835\n",
            "[505]\ttraining's binary_logloss: 0.275652\tvalid_1's binary_logloss: 0.279414\n",
            "[506]\ttraining's binary_logloss: 0.275284\tvalid_1's binary_logloss: 0.279201\n",
            "[507]\ttraining's binary_logloss: 0.274894\tvalid_1's binary_logloss: 0.278972\n",
            "[508]\ttraining's binary_logloss: 0.274603\tvalid_1's binary_logloss: 0.278469\n",
            "[509]\ttraining's binary_logloss: 0.274129\tvalid_1's binary_logloss: 0.278088\n",
            "[510]\ttraining's binary_logloss: 0.273741\tvalid_1's binary_logloss: 0.277504\n",
            "[511]\ttraining's binary_logloss: 0.273462\tvalid_1's binary_logloss: 0.277374\n",
            "[512]\ttraining's binary_logloss: 0.273076\tvalid_1's binary_logloss: 0.277006\n",
            "[513]\ttraining's binary_logloss: 0.272741\tvalid_1's binary_logloss: 0.276638\n",
            "[514]\ttraining's binary_logloss: 0.272401\tvalid_1's binary_logloss: 0.27646\n",
            "[515]\ttraining's binary_logloss: 0.271977\tvalid_1's binary_logloss: 0.276012\n",
            "[516]\ttraining's binary_logloss: 0.271624\tvalid_1's binary_logloss: 0.275495\n",
            "[517]\ttraining's binary_logloss: 0.271242\tvalid_1's binary_logloss: 0.275179\n",
            "[518]\ttraining's binary_logloss: 0.270947\tvalid_1's binary_logloss: 0.274797\n",
            "[519]\ttraining's binary_logloss: 0.270593\tvalid_1's binary_logloss: 0.274531\n",
            "[520]\ttraining's binary_logloss: 0.270176\tvalid_1's binary_logloss: 0.274063\n",
            "[521]\ttraining's binary_logloss: 0.269902\tvalid_1's binary_logloss: 0.273735\n",
            "[522]\ttraining's binary_logloss: 0.269518\tvalid_1's binary_logloss: 0.273419\n",
            "[523]\ttraining's binary_logloss: 0.269156\tvalid_1's binary_logloss: 0.27313\n",
            "[524]\ttraining's binary_logloss: 0.268802\tvalid_1's binary_logloss: 0.272686\n",
            "[525]\ttraining's binary_logloss: 0.268477\tvalid_1's binary_logloss: 0.272315\n",
            "[526]\ttraining's binary_logloss: 0.268121\tvalid_1's binary_logloss: 0.272055\n",
            "[527]\ttraining's binary_logloss: 0.267726\tvalid_1's binary_logloss: 0.271742\n",
            "[528]\ttraining's binary_logloss: 0.267402\tvalid_1's binary_logloss: 0.271521\n",
            "[529]\ttraining's binary_logloss: 0.267011\tvalid_1's binary_logloss: 0.271211\n",
            "[530]\ttraining's binary_logloss: 0.266558\tvalid_1's binary_logloss: 0.270733\n",
            "[531]\ttraining's binary_logloss: 0.266194\tvalid_1's binary_logloss: 0.270375\n",
            "[532]\ttraining's binary_logloss: 0.265806\tvalid_1's binary_logloss: 0.270046\n",
            "[533]\ttraining's binary_logloss: 0.265408\tvalid_1's binary_logloss: 0.269767\n",
            "[534]\ttraining's binary_logloss: 0.265031\tvalid_1's binary_logloss: 0.269339\n",
            "[535]\ttraining's binary_logloss: 0.26466\tvalid_1's binary_logloss: 0.268877\n",
            "[536]\ttraining's binary_logloss: 0.264312\tvalid_1's binary_logloss: 0.268477\n",
            "[537]\ttraining's binary_logloss: 0.26395\tvalid_1's binary_logloss: 0.268186\n",
            "[538]\ttraining's binary_logloss: 0.263629\tvalid_1's binary_logloss: 0.268019\n",
            "[539]\ttraining's binary_logloss: 0.263282\tvalid_1's binary_logloss: 0.267829\n",
            "[540]\ttraining's binary_logloss: 0.26294\tvalid_1's binary_logloss: 0.267427\n",
            "[541]\ttraining's binary_logloss: 0.262652\tvalid_1's binary_logloss: 0.267051\n",
            "[542]\ttraining's binary_logloss: 0.262319\tvalid_1's binary_logloss: 0.266785\n",
            "[543]\ttraining's binary_logloss: 0.261866\tvalid_1's binary_logloss: 0.266302\n",
            "[544]\ttraining's binary_logloss: 0.261472\tvalid_1's binary_logloss: 0.265987\n",
            "[545]\ttraining's binary_logloss: 0.26112\tvalid_1's binary_logloss: 0.265486\n",
            "[546]\ttraining's binary_logloss: 0.260705\tvalid_1's binary_logloss: 0.265282\n",
            "[547]\ttraining's binary_logloss: 0.260246\tvalid_1's binary_logloss: 0.264828\n",
            "[548]\ttraining's binary_logloss: 0.259923\tvalid_1's binary_logloss: 0.264499\n",
            "[549]\ttraining's binary_logloss: 0.259598\tvalid_1's binary_logloss: 0.264196\n",
            "[550]\ttraining's binary_logloss: 0.259226\tvalid_1's binary_logloss: 0.263831\n",
            "[551]\ttraining's binary_logloss: 0.258926\tvalid_1's binary_logloss: 0.263495\n",
            "[552]\ttraining's binary_logloss: 0.258615\tvalid_1's binary_logloss: 0.263348\n",
            "[553]\ttraining's binary_logloss: 0.258233\tvalid_1's binary_logloss: 0.263016\n",
            "[554]\ttraining's binary_logloss: 0.257774\tvalid_1's binary_logloss: 0.262566\n",
            "[555]\ttraining's binary_logloss: 0.257488\tvalid_1's binary_logloss: 0.262319\n",
            "[556]\ttraining's binary_logloss: 0.257163\tvalid_1's binary_logloss: 0.262008\n",
            "[557]\ttraining's binary_logloss: 0.256798\tvalid_1's binary_logloss: 0.261614\n",
            "[558]\ttraining's binary_logloss: 0.256442\tvalid_1's binary_logloss: 0.261224\n",
            "[559]\ttraining's binary_logloss: 0.256095\tvalid_1's binary_logloss: 0.260994\n",
            "[560]\ttraining's binary_logloss: 0.255771\tvalid_1's binary_logloss: 0.260656\n",
            "[561]\ttraining's binary_logloss: 0.255429\tvalid_1's binary_logloss: 0.260355\n",
            "[562]\ttraining's binary_logloss: 0.255119\tvalid_1's binary_logloss: 0.25987\n",
            "[563]\ttraining's binary_logloss: 0.254839\tvalid_1's binary_logloss: 0.259629\n",
            "[564]\ttraining's binary_logloss: 0.254501\tvalid_1's binary_logloss: 0.259129\n",
            "[565]\ttraining's binary_logloss: 0.254173\tvalid_1's binary_logloss: 0.258844\n",
            "[566]\ttraining's binary_logloss: 0.253814\tvalid_1's binary_logloss: 0.258484\n",
            "[567]\ttraining's binary_logloss: 0.253524\tvalid_1's binary_logloss: 0.258253\n",
            "[568]\ttraining's binary_logloss: 0.253207\tvalid_1's binary_logloss: 0.257928\n",
            "[569]\ttraining's binary_logloss: 0.252938\tvalid_1's binary_logloss: 0.257694\n",
            "[570]\ttraining's binary_logloss: 0.252538\tvalid_1's binary_logloss: 0.257097\n",
            "[571]\ttraining's binary_logloss: 0.252213\tvalid_1's binary_logloss: 0.256795\n",
            "[572]\ttraining's binary_logloss: 0.25191\tvalid_1's binary_logloss: 0.256552\n",
            "[573]\ttraining's binary_logloss: 0.251624\tvalid_1's binary_logloss: 0.256193\n",
            "[574]\ttraining's binary_logloss: 0.25126\tvalid_1's binary_logloss: 0.25587\n",
            "[575]\ttraining's binary_logloss: 0.251\tvalid_1's binary_logloss: 0.25568\n",
            "[576]\ttraining's binary_logloss: 0.250673\tvalid_1's binary_logloss: 0.255376\n",
            "[577]\ttraining's binary_logloss: 0.250283\tvalid_1's binary_logloss: 0.25489\n",
            "[578]\ttraining's binary_logloss: 0.249895\tvalid_1's binary_logloss: 0.254435\n",
            "[579]\ttraining's binary_logloss: 0.249502\tvalid_1's binary_logloss: 0.25401\n",
            "[580]\ttraining's binary_logloss: 0.249148\tvalid_1's binary_logloss: 0.253645\n",
            "[581]\ttraining's binary_logloss: 0.248802\tvalid_1's binary_logloss: 0.253265\n",
            "[582]\ttraining's binary_logloss: 0.248542\tvalid_1's binary_logloss: 0.252894\n",
            "[583]\ttraining's binary_logloss: 0.248209\tvalid_1's binary_logloss: 0.252624\n",
            "[584]\ttraining's binary_logloss: 0.247916\tvalid_1's binary_logloss: 0.252333\n",
            "[585]\ttraining's binary_logloss: 0.247575\tvalid_1's binary_logloss: 0.25189\n",
            "[586]\ttraining's binary_logloss: 0.247281\tvalid_1's binary_logloss: 0.251544\n",
            "[587]\ttraining's binary_logloss: 0.246933\tvalid_1's binary_logloss: 0.25119\n",
            "[588]\ttraining's binary_logloss: 0.246573\tvalid_1's binary_logloss: 0.250855\n",
            "[589]\ttraining's binary_logloss: 0.246256\tvalid_1's binary_logloss: 0.250583\n",
            "[590]\ttraining's binary_logloss: 0.245921\tvalid_1's binary_logloss: 0.250259\n",
            "[591]\ttraining's binary_logloss: 0.245678\tvalid_1's binary_logloss: 0.250132\n",
            "[592]\ttraining's binary_logloss: 0.245324\tvalid_1's binary_logloss: 0.249842\n",
            "[593]\ttraining's binary_logloss: 0.244991\tvalid_1's binary_logloss: 0.249529\n",
            "[594]\ttraining's binary_logloss: 0.24464\tvalid_1's binary_logloss: 0.249253\n",
            "[595]\ttraining's binary_logloss: 0.244296\tvalid_1's binary_logloss: 0.248883\n",
            "[596]\ttraining's binary_logloss: 0.243995\tvalid_1's binary_logloss: 0.248495\n",
            "[597]\ttraining's binary_logloss: 0.243662\tvalid_1's binary_logloss: 0.248248\n",
            "[598]\ttraining's binary_logloss: 0.243424\tvalid_1's binary_logloss: 0.248011\n",
            "[599]\ttraining's binary_logloss: 0.243031\tvalid_1's binary_logloss: 0.247564\n",
            "[600]\ttraining's binary_logloss: 0.242665\tvalid_1's binary_logloss: 0.247196\n",
            "[601]\ttraining's binary_logloss: 0.242343\tvalid_1's binary_logloss: 0.246809\n",
            "[602]\ttraining's binary_logloss: 0.242009\tvalid_1's binary_logloss: 0.246519\n",
            "[603]\ttraining's binary_logloss: 0.241695\tvalid_1's binary_logloss: 0.246142\n",
            "[604]\ttraining's binary_logloss: 0.241359\tvalid_1's binary_logloss: 0.245675\n",
            "[605]\ttraining's binary_logloss: 0.241036\tvalid_1's binary_logloss: 0.245258\n",
            "[606]\ttraining's binary_logloss: 0.240708\tvalid_1's binary_logloss: 0.245014\n",
            "[607]\ttraining's binary_logloss: 0.240431\tvalid_1's binary_logloss: 0.244659\n",
            "[608]\ttraining's binary_logloss: 0.240108\tvalid_1's binary_logloss: 0.244307\n",
            "[609]\ttraining's binary_logloss: 0.239778\tvalid_1's binary_logloss: 0.243998\n",
            "[610]\ttraining's binary_logloss: 0.239518\tvalid_1's binary_logloss: 0.243794\n",
            "[611]\ttraining's binary_logloss: 0.239129\tvalid_1's binary_logloss: 0.243498\n",
            "[612]\ttraining's binary_logloss: 0.238825\tvalid_1's binary_logloss: 0.243151\n",
            "[613]\ttraining's binary_logloss: 0.238514\tvalid_1's binary_logloss: 0.242831\n",
            "[614]\ttraining's binary_logloss: 0.238168\tvalid_1's binary_logloss: 0.242586\n",
            "[615]\ttraining's binary_logloss: 0.237862\tvalid_1's binary_logloss: 0.242155\n",
            "[616]\ttraining's binary_logloss: 0.237601\tvalid_1's binary_logloss: 0.241924\n",
            "[617]\ttraining's binary_logloss: 0.237273\tvalid_1's binary_logloss: 0.241555\n",
            "[618]\ttraining's binary_logloss: 0.23689\tvalid_1's binary_logloss: 0.241215\n",
            "[619]\ttraining's binary_logloss: 0.236604\tvalid_1's binary_logloss: 0.2409\n",
            "[620]\ttraining's binary_logloss: 0.23629\tvalid_1's binary_logloss: 0.240565\n",
            "[621]\ttraining's binary_logloss: 0.235961\tvalid_1's binary_logloss: 0.240199\n",
            "[622]\ttraining's binary_logloss: 0.2356\tvalid_1's binary_logloss: 0.239923\n",
            "[623]\ttraining's binary_logloss: 0.235282\tvalid_1's binary_logloss: 0.239573\n",
            "[624]\ttraining's binary_logloss: 0.234947\tvalid_1's binary_logloss: 0.239054\n",
            "[625]\ttraining's binary_logloss: 0.234606\tvalid_1's binary_logloss: 0.238788\n",
            "[626]\ttraining's binary_logloss: 0.234328\tvalid_1's binary_logloss: 0.238419\n",
            "[627]\ttraining's binary_logloss: 0.234082\tvalid_1's binary_logloss: 0.238128\n",
            "[628]\ttraining's binary_logloss: 0.233726\tvalid_1's binary_logloss: 0.23776\n",
            "[629]\ttraining's binary_logloss: 0.233356\tvalid_1's binary_logloss: 0.237373\n",
            "[630]\ttraining's binary_logloss: 0.233058\tvalid_1's binary_logloss: 0.237044\n",
            "[631]\ttraining's binary_logloss: 0.232731\tvalid_1's binary_logloss: 0.236768\n",
            "[632]\ttraining's binary_logloss: 0.232402\tvalid_1's binary_logloss: 0.236376\n",
            "[633]\ttraining's binary_logloss: 0.23214\tvalid_1's binary_logloss: 0.236226\n",
            "[634]\ttraining's binary_logloss: 0.231856\tvalid_1's binary_logloss: 0.235815\n",
            "[635]\ttraining's binary_logloss: 0.231582\tvalid_1's binary_logloss: 0.235543\n",
            "[636]\ttraining's binary_logloss: 0.231209\tvalid_1's binary_logloss: 0.2352\n",
            "[637]\ttraining's binary_logloss: 0.230963\tvalid_1's binary_logloss: 0.234865\n",
            "[638]\ttraining's binary_logloss: 0.230616\tvalid_1's binary_logloss: 0.234403\n",
            "[639]\ttraining's binary_logloss: 0.230225\tvalid_1's binary_logloss: 0.233987\n",
            "[640]\ttraining's binary_logloss: 0.229844\tvalid_1's binary_logloss: 0.233651\n",
            "[641]\ttraining's binary_logloss: 0.229557\tvalid_1's binary_logloss: 0.233417\n",
            "[642]\ttraining's binary_logloss: 0.229289\tvalid_1's binary_logloss: 0.233047\n",
            "[643]\ttraining's binary_logloss: 0.229039\tvalid_1's binary_logloss: 0.232787\n",
            "[644]\ttraining's binary_logloss: 0.228765\tvalid_1's binary_logloss: 0.232545\n",
            "[645]\ttraining's binary_logloss: 0.228466\tvalid_1's binary_logloss: 0.232308\n",
            "[646]\ttraining's binary_logloss: 0.228169\tvalid_1's binary_logloss: 0.232076\n",
            "[647]\ttraining's binary_logloss: 0.227869\tvalid_1's binary_logloss: 0.231766\n",
            "[648]\ttraining's binary_logloss: 0.227621\tvalid_1's binary_logloss: 0.231397\n",
            "[649]\ttraining's binary_logloss: 0.227215\tvalid_1's binary_logloss: 0.230982\n",
            "[650]\ttraining's binary_logloss: 0.226905\tvalid_1's binary_logloss: 0.230656\n",
            "[651]\ttraining's binary_logloss: 0.226612\tvalid_1's binary_logloss: 0.230516\n",
            "[652]\ttraining's binary_logloss: 0.22634\tvalid_1's binary_logloss: 0.230253\n",
            "[653]\ttraining's binary_logloss: 0.226087\tvalid_1's binary_logloss: 0.229961\n",
            "[654]\ttraining's binary_logloss: 0.225673\tvalid_1's binary_logloss: 0.229429\n",
            "[655]\ttraining's binary_logloss: 0.225301\tvalid_1's binary_logloss: 0.229095\n",
            "[656]\ttraining's binary_logloss: 0.225017\tvalid_1's binary_logloss: 0.228913\n",
            "[657]\ttraining's binary_logloss: 0.224747\tvalid_1's binary_logloss: 0.228627\n",
            "[658]\ttraining's binary_logloss: 0.224509\tvalid_1's binary_logloss: 0.228264\n",
            "[659]\ttraining's binary_logloss: 0.224237\tvalid_1's binary_logloss: 0.228068\n",
            "[660]\ttraining's binary_logloss: 0.223967\tvalid_1's binary_logloss: 0.227743\n",
            "[661]\ttraining's binary_logloss: 0.223664\tvalid_1's binary_logloss: 0.227448\n",
            "[662]\ttraining's binary_logloss: 0.223328\tvalid_1's binary_logloss: 0.227023\n",
            "[663]\ttraining's binary_logloss: 0.222921\tvalid_1's binary_logloss: 0.226526\n",
            "[664]\ttraining's binary_logloss: 0.222544\tvalid_1's binary_logloss: 0.226052\n",
            "[665]\ttraining's binary_logloss: 0.22225\tvalid_1's binary_logloss: 0.225758\n",
            "[666]\ttraining's binary_logloss: 0.221978\tvalid_1's binary_logloss: 0.225458\n",
            "[667]\ttraining's binary_logloss: 0.221733\tvalid_1's binary_logloss: 0.225121\n",
            "[668]\ttraining's binary_logloss: 0.221489\tvalid_1's binary_logloss: 0.22497\n",
            "[669]\ttraining's binary_logloss: 0.221194\tvalid_1's binary_logloss: 0.224619\n",
            "[670]\ttraining's binary_logloss: 0.220943\tvalid_1's binary_logloss: 0.224455\n",
            "[671]\ttraining's binary_logloss: 0.220673\tvalid_1's binary_logloss: 0.224249\n",
            "[672]\ttraining's binary_logloss: 0.22039\tvalid_1's binary_logloss: 0.22397\n",
            "[673]\ttraining's binary_logloss: 0.220126\tvalid_1's binary_logloss: 0.223732\n",
            "[674]\ttraining's binary_logloss: 0.219815\tvalid_1's binary_logloss: 0.223401\n",
            "[675]\ttraining's binary_logloss: 0.219544\tvalid_1's binary_logloss: 0.223113\n",
            "[676]\ttraining's binary_logloss: 0.219227\tvalid_1's binary_logloss: 0.222755\n",
            "[677]\ttraining's binary_logloss: 0.218927\tvalid_1's binary_logloss: 0.222392\n",
            "[678]\ttraining's binary_logloss: 0.218581\tvalid_1's binary_logloss: 0.222079\n",
            "[679]\ttraining's binary_logloss: 0.218309\tvalid_1's binary_logloss: 0.221707\n",
            "[680]\ttraining's binary_logloss: 0.217988\tvalid_1's binary_logloss: 0.221297\n",
            "[681]\ttraining's binary_logloss: 0.217705\tvalid_1's binary_logloss: 0.221103\n",
            "[682]\ttraining's binary_logloss: 0.217466\tvalid_1's binary_logloss: 0.22085\n",
            "[683]\ttraining's binary_logloss: 0.217146\tvalid_1's binary_logloss: 0.220444\n",
            "[684]\ttraining's binary_logloss: 0.216907\tvalid_1's binary_logloss: 0.220221\n",
            "[685]\ttraining's binary_logloss: 0.216493\tvalid_1's binary_logloss: 0.219697\n",
            "[686]\ttraining's binary_logloss: 0.216203\tvalid_1's binary_logloss: 0.219527\n",
            "[687]\ttraining's binary_logloss: 0.215895\tvalid_1's binary_logloss: 0.219218\n",
            "[688]\ttraining's binary_logloss: 0.215625\tvalid_1's binary_logloss: 0.218926\n",
            "[689]\ttraining's binary_logloss: 0.215315\tvalid_1's binary_logloss: 0.218709\n",
            "[690]\ttraining's binary_logloss: 0.215053\tvalid_1's binary_logloss: 0.218472\n",
            "[691]\ttraining's binary_logloss: 0.214772\tvalid_1's binary_logloss: 0.218277\n",
            "[692]\ttraining's binary_logloss: 0.214502\tvalid_1's binary_logloss: 0.218006\n",
            "[693]\ttraining's binary_logloss: 0.214125\tvalid_1's binary_logloss: 0.217672\n",
            "[694]\ttraining's binary_logloss: 0.213858\tvalid_1's binary_logloss: 0.217515\n",
            "[695]\ttraining's binary_logloss: 0.213562\tvalid_1's binary_logloss: 0.217264\n",
            "[696]\ttraining's binary_logloss: 0.213273\tvalid_1's binary_logloss: 0.217004\n",
            "[697]\ttraining's binary_logloss: 0.21291\tvalid_1's binary_logloss: 0.216475\n",
            "[698]\ttraining's binary_logloss: 0.212543\tvalid_1's binary_logloss: 0.215968\n",
            "[699]\ttraining's binary_logloss: 0.2122\tvalid_1's binary_logloss: 0.215446\n",
            "[700]\ttraining's binary_logloss: 0.211962\tvalid_1's binary_logloss: 0.215182\n",
            "[701]\ttraining's binary_logloss: 0.211589\tvalid_1's binary_logloss: 0.214614\n",
            "[702]\ttraining's binary_logloss: 0.211359\tvalid_1's binary_logloss: 0.214339\n",
            "[703]\ttraining's binary_logloss: 0.211075\tvalid_1's binary_logloss: 0.214163\n",
            "[704]\ttraining's binary_logloss: 0.210757\tvalid_1's binary_logloss: 0.213675\n",
            "[705]\ttraining's binary_logloss: 0.210471\tvalid_1's binary_logloss: 0.213495\n",
            "[706]\ttraining's binary_logloss: 0.210219\tvalid_1's binary_logloss: 0.213244\n",
            "[707]\ttraining's binary_logloss: 0.209931\tvalid_1's binary_logloss: 0.212911\n",
            "[708]\ttraining's binary_logloss: 0.209649\tvalid_1's binary_logloss: 0.212552\n",
            "[709]\ttraining's binary_logloss: 0.209262\tvalid_1's binary_logloss: 0.211995\n",
            "[710]\ttraining's binary_logloss: 0.208954\tvalid_1's binary_logloss: 0.21147\n",
            "[711]\ttraining's binary_logloss: 0.208691\tvalid_1's binary_logloss: 0.211366\n",
            "[712]\ttraining's binary_logloss: 0.208433\tvalid_1's binary_logloss: 0.211147\n",
            "[713]\ttraining's binary_logloss: 0.208151\tvalid_1's binary_logloss: 0.210852\n",
            "[714]\ttraining's binary_logloss: 0.20778\tvalid_1's binary_logloss: 0.210429\n",
            "[715]\ttraining's binary_logloss: 0.20753\tvalid_1's binary_logloss: 0.210178\n",
            "[716]\ttraining's binary_logloss: 0.207346\tvalid_1's binary_logloss: 0.210027\n",
            "[717]\ttraining's binary_logloss: 0.207056\tvalid_1's binary_logloss: 0.209673\n",
            "[718]\ttraining's binary_logloss: 0.206812\tvalid_1's binary_logloss: 0.209473\n",
            "[719]\ttraining's binary_logloss: 0.206578\tvalid_1's binary_logloss: 0.209188\n",
            "[720]\ttraining's binary_logloss: 0.206287\tvalid_1's binary_logloss: 0.209008\n",
            "[721]\ttraining's binary_logloss: 0.206035\tvalid_1's binary_logloss: 0.208749\n",
            "[722]\ttraining's binary_logloss: 0.205689\tvalid_1's binary_logloss: 0.208425\n",
            "[723]\ttraining's binary_logloss: 0.205396\tvalid_1's binary_logloss: 0.20805\n",
            "[724]\ttraining's binary_logloss: 0.205114\tvalid_1's binary_logloss: 0.207628\n",
            "[725]\ttraining's binary_logloss: 0.2049\tvalid_1's binary_logloss: 0.207384\n",
            "[726]\ttraining's binary_logloss: 0.204557\tvalid_1's binary_logloss: 0.207046\n",
            "[727]\ttraining's binary_logloss: 0.204325\tvalid_1's binary_logloss: 0.206782\n",
            "[728]\ttraining's binary_logloss: 0.204096\tvalid_1's binary_logloss: 0.206529\n",
            "[729]\ttraining's binary_logloss: 0.20382\tvalid_1's binary_logloss: 0.206194\n",
            "[730]\ttraining's binary_logloss: 0.203567\tvalid_1's binary_logloss: 0.205998\n",
            "[731]\ttraining's binary_logloss: 0.203331\tvalid_1's binary_logloss: 0.205783\n",
            "[732]\ttraining's binary_logloss: 0.203097\tvalid_1's binary_logloss: 0.20544\n",
            "[733]\ttraining's binary_logloss: 0.202865\tvalid_1's binary_logloss: 0.205282\n",
            "[734]\ttraining's binary_logloss: 0.202613\tvalid_1's binary_logloss: 0.205128\n",
            "[735]\ttraining's binary_logloss: 0.202421\tvalid_1's binary_logloss: 0.204951\n",
            "[736]\ttraining's binary_logloss: 0.202205\tvalid_1's binary_logloss: 0.204789\n",
            "[737]\ttraining's binary_logloss: 0.201964\tvalid_1's binary_logloss: 0.204591\n",
            "[738]\ttraining's binary_logloss: 0.201722\tvalid_1's binary_logloss: 0.204446\n",
            "[739]\ttraining's binary_logloss: 0.201497\tvalid_1's binary_logloss: 0.204297\n",
            "[740]\ttraining's binary_logloss: 0.201304\tvalid_1's binary_logloss: 0.204168\n",
            "[741]\ttraining's binary_logloss: 0.201096\tvalid_1's binary_logloss: 0.203981\n",
            "[742]\ttraining's binary_logloss: 0.200847\tvalid_1's binary_logloss: 0.203733\n",
            "[743]\ttraining's binary_logloss: 0.200632\tvalid_1's binary_logloss: 0.203596\n",
            "[744]\ttraining's binary_logloss: 0.200409\tvalid_1's binary_logloss: 0.203401\n",
            "[745]\ttraining's binary_logloss: 0.200092\tvalid_1's binary_logloss: 0.203047\n",
            "[746]\ttraining's binary_logloss: 0.19987\tvalid_1's binary_logloss: 0.202898\n",
            "[747]\ttraining's binary_logloss: 0.199643\tvalid_1's binary_logloss: 0.202661\n",
            "[748]\ttraining's binary_logloss: 0.199396\tvalid_1's binary_logloss: 0.20251\n",
            "[749]\ttraining's binary_logloss: 0.199109\tvalid_1's binary_logloss: 0.20214\n",
            "[750]\ttraining's binary_logloss: 0.19889\tvalid_1's binary_logloss: 0.201735\n",
            "[751]\ttraining's binary_logloss: 0.198633\tvalid_1's binary_logloss: 0.201533\n",
            "[752]\ttraining's binary_logloss: 0.198352\tvalid_1's binary_logloss: 0.201214\n",
            "[753]\ttraining's binary_logloss: 0.198096\tvalid_1's binary_logloss: 0.200947\n",
            "[754]\ttraining's binary_logloss: 0.197839\tvalid_1's binary_logloss: 0.200695\n",
            "[755]\ttraining's binary_logloss: 0.197528\tvalid_1's binary_logloss: 0.200271\n",
            "[756]\ttraining's binary_logloss: 0.197251\tvalid_1's binary_logloss: 0.200009\n",
            "[757]\ttraining's binary_logloss: 0.197003\tvalid_1's binary_logloss: 0.199795\n",
            "[758]\ttraining's binary_logloss: 0.196798\tvalid_1's binary_logloss: 0.199548\n",
            "[759]\ttraining's binary_logloss: 0.19657\tvalid_1's binary_logloss: 0.199344\n",
            "[760]\ttraining's binary_logloss: 0.196288\tvalid_1's binary_logloss: 0.198993\n",
            "[761]\ttraining's binary_logloss: 0.196029\tvalid_1's binary_logloss: 0.198797\n",
            "[762]\ttraining's binary_logloss: 0.195799\tvalid_1's binary_logloss: 0.1986\n",
            "[763]\ttraining's binary_logloss: 0.195557\tvalid_1's binary_logloss: 0.198363\n",
            "[764]\ttraining's binary_logloss: 0.195279\tvalid_1's binary_logloss: 0.198145\n",
            "[765]\ttraining's binary_logloss: 0.195009\tvalid_1's binary_logloss: 0.197913\n",
            "[766]\ttraining's binary_logloss: 0.194655\tvalid_1's binary_logloss: 0.197647\n",
            "[767]\ttraining's binary_logloss: 0.194426\tvalid_1's binary_logloss: 0.197444\n",
            "[768]\ttraining's binary_logloss: 0.194243\tvalid_1's binary_logloss: 0.197306\n",
            "[769]\ttraining's binary_logloss: 0.194029\tvalid_1's binary_logloss: 0.19704\n",
            "[770]\ttraining's binary_logloss: 0.193767\tvalid_1's binary_logloss: 0.196784\n",
            "[771]\ttraining's binary_logloss: 0.193501\tvalid_1's binary_logloss: 0.196545\n",
            "[772]\ttraining's binary_logloss: 0.193287\tvalid_1's binary_logloss: 0.196337\n",
            "[773]\ttraining's binary_logloss: 0.192994\tvalid_1's binary_logloss: 0.196063\n",
            "[774]\ttraining's binary_logloss: 0.192781\tvalid_1's binary_logloss: 0.195862\n",
            "[775]\ttraining's binary_logloss: 0.192464\tvalid_1's binary_logloss: 0.195453\n",
            "[776]\ttraining's binary_logloss: 0.19221\tvalid_1's binary_logloss: 0.19525\n",
            "[777]\ttraining's binary_logloss: 0.191964\tvalid_1's binary_logloss: 0.194948\n",
            "[778]\ttraining's binary_logloss: 0.191775\tvalid_1's binary_logloss: 0.194838\n",
            "[779]\ttraining's binary_logloss: 0.191538\tvalid_1's binary_logloss: 0.194597\n",
            "[780]\ttraining's binary_logloss: 0.191299\tvalid_1's binary_logloss: 0.194288\n",
            "[781]\ttraining's binary_logloss: 0.191091\tvalid_1's binary_logloss: 0.194108\n",
            "[782]\ttraining's binary_logloss: 0.190864\tvalid_1's binary_logloss: 0.193917\n",
            "[783]\ttraining's binary_logloss: 0.190577\tvalid_1's binary_logloss: 0.193691\n",
            "[784]\ttraining's binary_logloss: 0.190264\tvalid_1's binary_logloss: 0.193306\n",
            "[785]\ttraining's binary_logloss: 0.190063\tvalid_1's binary_logloss: 0.193074\n",
            "[786]\ttraining's binary_logloss: 0.189838\tvalid_1's binary_logloss: 0.19281\n",
            "[787]\ttraining's binary_logloss: 0.189575\tvalid_1's binary_logloss: 0.192575\n",
            "[788]\ttraining's binary_logloss: 0.189334\tvalid_1's binary_logloss: 0.192228\n",
            "[789]\ttraining's binary_logloss: 0.189119\tvalid_1's binary_logloss: 0.192024\n",
            "[790]\ttraining's binary_logloss: 0.188912\tvalid_1's binary_logloss: 0.191849\n",
            "[791]\ttraining's binary_logloss: 0.188661\tvalid_1's binary_logloss: 0.19168\n",
            "[792]\ttraining's binary_logloss: 0.188421\tvalid_1's binary_logloss: 0.191359\n",
            "[793]\ttraining's binary_logloss: 0.1882\tvalid_1's binary_logloss: 0.191\n",
            "[794]\ttraining's binary_logloss: 0.187962\tvalid_1's binary_logloss: 0.190793\n",
            "[795]\ttraining's binary_logloss: 0.18771\tvalid_1's binary_logloss: 0.190635\n",
            "[796]\ttraining's binary_logloss: 0.187497\tvalid_1's binary_logloss: 0.190474\n",
            "[797]\ttraining's binary_logloss: 0.187284\tvalid_1's binary_logloss: 0.190231\n",
            "[798]\ttraining's binary_logloss: 0.187069\tvalid_1's binary_logloss: 0.190092\n",
            "[799]\ttraining's binary_logloss: 0.186861\tvalid_1's binary_logloss: 0.189955\n",
            "[800]\ttraining's binary_logloss: 0.186671\tvalid_1's binary_logloss: 0.189814\n"
          ]
        },
        {
          "output_type": "execute_result",
          "data": {
            "text/plain": [
              "LGBMClassifier(learning_rate=0.02, n_estimators=800)"
            ],
            "text/html": [
              "<style>#sk-container-id-1 {color: black;background-color: white;}#sk-container-id-1 pre{padding: 0;}#sk-container-id-1 div.sk-toggleable {background-color: white;}#sk-container-id-1 label.sk-toggleable__label {cursor: pointer;display: block;width: 100%;margin-bottom: 0;padding: 0.3em;box-sizing: border-box;text-align: center;}#sk-container-id-1 label.sk-toggleable__label-arrow:before {content: \"▸\";float: left;margin-right: 0.25em;color: #696969;}#sk-container-id-1 label.sk-toggleable__label-arrow:hover:before {color: black;}#sk-container-id-1 div.sk-estimator:hover label.sk-toggleable__label-arrow:before {color: black;}#sk-container-id-1 div.sk-toggleable__content {max-height: 0;max-width: 0;overflow: hidden;text-align: left;background-color: #f0f8ff;}#sk-container-id-1 div.sk-toggleable__content pre {margin: 0.2em;color: black;border-radius: 0.25em;background-color: #f0f8ff;}#sk-container-id-1 input.sk-toggleable__control:checked~div.sk-toggleable__content {max-height: 200px;max-width: 100%;overflow: auto;}#sk-container-id-1 input.sk-toggleable__control:checked~label.sk-toggleable__label-arrow:before {content: \"▾\";}#sk-container-id-1 div.sk-estimator input.sk-toggleable__control:checked~label.sk-toggleable__label {background-color: #d4ebff;}#sk-container-id-1 div.sk-label input.sk-toggleable__control:checked~label.sk-toggleable__label {background-color: #d4ebff;}#sk-container-id-1 input.sk-hidden--visually {border: 0;clip: rect(1px 1px 1px 1px);clip: rect(1px, 1px, 1px, 1px);height: 1px;margin: -1px;overflow: hidden;padding: 0;position: absolute;width: 1px;}#sk-container-id-1 div.sk-estimator {font-family: monospace;background-color: #f0f8ff;border: 1px dotted black;border-radius: 0.25em;box-sizing: border-box;margin-bottom: 0.5em;}#sk-container-id-1 div.sk-estimator:hover {background-color: #d4ebff;}#sk-container-id-1 div.sk-parallel-item::after {content: \"\";width: 100%;border-bottom: 1px solid gray;flex-grow: 1;}#sk-container-id-1 div.sk-label:hover label.sk-toggleable__label {background-color: #d4ebff;}#sk-container-id-1 div.sk-serial::before {content: \"\";position: absolute;border-left: 1px solid gray;box-sizing: border-box;top: 0;bottom: 0;left: 50%;z-index: 0;}#sk-container-id-1 div.sk-serial {display: flex;flex-direction: column;align-items: center;background-color: white;padding-right: 0.2em;padding-left: 0.2em;position: relative;}#sk-container-id-1 div.sk-item {position: relative;z-index: 1;}#sk-container-id-1 div.sk-parallel {display: flex;align-items: stretch;justify-content: center;background-color: white;position: relative;}#sk-container-id-1 div.sk-item::before, #sk-container-id-1 div.sk-parallel-item::before {content: \"\";position: absolute;border-left: 1px solid gray;box-sizing: border-box;top: 0;bottom: 0;left: 50%;z-index: -1;}#sk-container-id-1 div.sk-parallel-item {display: flex;flex-direction: column;z-index: 1;position: relative;background-color: white;}#sk-container-id-1 div.sk-parallel-item:first-child::after {align-self: flex-end;width: 50%;}#sk-container-id-1 div.sk-parallel-item:last-child::after {align-self: flex-start;width: 50%;}#sk-container-id-1 div.sk-parallel-item:only-child::after {width: 0;}#sk-container-id-1 div.sk-dashed-wrapped {border: 1px dashed gray;margin: 0 0.4em 0.5em 0.4em;box-sizing: border-box;padding-bottom: 0.4em;background-color: white;}#sk-container-id-1 div.sk-label label {font-family: monospace;font-weight: bold;display: inline-block;line-height: 1.2em;}#sk-container-id-1 div.sk-label-container {text-align: center;}#sk-container-id-1 div.sk-container {/* jupyter's `normalize.less` sets `[hidden] { display: none; }` but bootstrap.min.css set `[hidden] { display: none !important; }` so we also need the `!important` here to be able to override the default hidden behavior on the sphinx rendered scikit-learn.org. See: https://github.com/scikit-learn/scikit-learn/issues/21755 */display: inline-block !important;position: relative;}#sk-container-id-1 div.sk-text-repr-fallback {display: none;}</style><div id=\"sk-container-id-1\" class=\"sk-top-container\"><div class=\"sk-text-repr-fallback\"><pre>LGBMClassifier(learning_rate=0.02, n_estimators=800)</pre><b>In a Jupyter environment, please rerun this cell to show the HTML representation or trust the notebook. <br />On GitHub, the HTML representation is unable to render, please try loading this page with nbviewer.org.</b></div><div class=\"sk-container\" hidden><div class=\"sk-item\"><div class=\"sk-estimator sk-toggleable\"><input class=\"sk-toggleable__control sk-hidden--visually\" id=\"sk-estimator-id-1\" type=\"checkbox\" checked><label for=\"sk-estimator-id-1\" class=\"sk-toggleable__label sk-toggleable__label-arrow\">LGBMClassifier</label><div class=\"sk-toggleable__content\"><pre>LGBMClassifier(learning_rate=0.02, n_estimators=800)</pre></div></div></div></div></div>"
            ]
          },
          "metadata": {},
          "execution_count": 17
        }
      ]
    },
    {
      "cell_type": "markdown",
      "source": [
        "### **3-1-g. 위에서 학습시킨 `lgbm_wrapper`의 정확도를 출력하세요.**"
      ],
      "metadata": {
        "id": "z3YiAxdOAhqh"
      }
    },
    {
      "cell_type": "code",
      "source": [
        "from sklearn.metrics import accuracy_score\n",
        "\n",
        "y_pred = lgbm_wrapper.predict(X_val)\n",
        "accuracy = accuracy_score(y_val, y_pred)\n",
        "print(f'정확도: {accuracy:.4f}')"
      ],
      "metadata": {
        "id": "yrG3MF-JAom3",
        "colab": {
          "base_uri": "https://localhost:8080/"
        },
        "outputId": "55347413-dfeb-4357-9a4e-c1d3b3cf6174"
      },
      "execution_count": 19,
      "outputs": [
        {
          "output_type": "stream",
          "name": "stdout",
          "text": [
            "정확도: 0.9885\n"
          ]
        }
      ]
    },
    {
      "cell_type": "markdown",
      "source": [
        "### **3-1-i. 피처 중요도를 중요한 순서대로 시각화 해주세요.**\n",
        "(힌트: 파머완 252 페이지)"
      ],
      "metadata": {
        "id": "s5_joSurAjHs"
      }
    },
    {
      "cell_type": "code",
      "source": [
        "from lightgbm import plot_importance\n",
        "import matplotlib.pyplot as plt\n",
        "%matplotlib inline\n",
        "\n",
        "feature_importances = lgbm_wrapper.feature_importances_\n",
        "feature_names = X_train.columns\n",
        "sorted_idx = np.argsort(feature_importances)[::-1]\n",
        "top_n = 10\n",
        "sorted_idx = sorted_idx[:top_n]\n",
        "sorted_feature_importances = feature_importances[sorted_idx]\n",
        "sorted_feature_names = np.array(feature_names)[sorted_idx]\n",
        "plt.figure(figsize=(10, 6))\n",
        "import seaborn.barplot(x=sorted_feature_importances, y=sorted_feature_names)\n",
        "plt.title(f'Top {top_n} Feature Importances')\n",
        "plt.xlabel('Feature Importance')\n",
        "plt.ylabel('Feature Name')\n",
        "plt.show()"
      ],
      "metadata": {
        "id": "5PG_98tJBfB9",
        "colab": {
          "base_uri": "https://localhost:8080/",
          "height": 255
        },
        "outputId": "65fa3a08-c412-4d00-f163-c0311162b311"
      },
      "execution_count": 23,
      "outputs": [
        {
          "output_type": "error",
          "ename": "SyntaxError",
          "evalue": "ignored",
          "traceback": [
            "\u001b[0;31m---------------------------------------------------------------------------\u001b[0m",
            "\u001b[0;31mSyntaxError\u001b[0m                               Traceback (most recent call last)",
            "\u001b[0;32m/usr/local/lib/python3.10/dist-packages/IPython/core/compilerop.py\u001b[0m in \u001b[0;36mast_parse\u001b[0;34m(self, source, filename, symbol)\u001b[0m\n\u001b[1;32m     99\u001b[0m         \u001b[0mArguments\u001b[0m \u001b[0mare\u001b[0m \u001b[0mexactly\u001b[0m \u001b[0mthe\u001b[0m \u001b[0msame\u001b[0m \u001b[0;32mas\u001b[0m \u001b[0mast\u001b[0m\u001b[0;34m.\u001b[0m\u001b[0mparse\u001b[0m \u001b[0;34m(\u001b[0m\u001b[0;32min\u001b[0m \u001b[0mthe\u001b[0m \u001b[0mstandard\u001b[0m \u001b[0mlibrary\u001b[0m\u001b[0;34m)\u001b[0m\u001b[0;34m,\u001b[0m\u001b[0;34m\u001b[0m\u001b[0;34m\u001b[0m\u001b[0m\n\u001b[1;32m    100\u001b[0m         and are passed to the built-in compile function.\"\"\"\n\u001b[0;32m--> 101\u001b[0;31m         \u001b[0;32mreturn\u001b[0m \u001b[0mcompile\u001b[0m\u001b[0;34m(\u001b[0m\u001b[0msource\u001b[0m\u001b[0;34m,\u001b[0m \u001b[0mfilename\u001b[0m\u001b[0;34m,\u001b[0m \u001b[0msymbol\u001b[0m\u001b[0;34m,\u001b[0m \u001b[0mself\u001b[0m\u001b[0;34m.\u001b[0m\u001b[0mflags\u001b[0m \u001b[0;34m|\u001b[0m \u001b[0mPyCF_ONLY_AST\u001b[0m\u001b[0;34m,\u001b[0m \u001b[0;36m1\u001b[0m\u001b[0;34m)\u001b[0m\u001b[0;34m\u001b[0m\u001b[0;34m\u001b[0m\u001b[0m\n\u001b[0m\u001b[1;32m    102\u001b[0m \u001b[0;34m\u001b[0m\u001b[0m\n\u001b[1;32m    103\u001b[0m     \u001b[0;32mdef\u001b[0m \u001b[0mreset_compiler_flags\u001b[0m\u001b[0;34m(\u001b[0m\u001b[0mself\u001b[0m\u001b[0;34m)\u001b[0m\u001b[0;34m:\u001b[0m\u001b[0;34m\u001b[0m\u001b[0;34m\u001b[0m\u001b[0m\n",
            "\u001b[0;31mSyntaxError\u001b[0m: invalid syntax (<ipython-input-23-5ca7c20829ce>, line 13)"
          ]
        }
      ]
    },
    {
      "cell_type": "markdown",
      "source": [
        "## **3-2. HyperOpt**"
      ],
      "metadata": {
        "id": "egUn68R9AjSZ"
      }
    },
    {
      "cell_type": "code",
      "source": [
        "from hyperopt import hp"
      ],
      "metadata": {
        "id": "YQfqj1GmGiYa"
      },
      "execution_count": 25,
      "outputs": []
    },
    {
      "cell_type": "markdown",
      "source": [
        "### **3-2-a. 주어진 정보를 바탕으로 검색 공간을 설정해 주세요.**\n",
        "(힌트: `hp.uniform`)\n",
        "\n",
        "- max_depth: 5에서 20까지, 간격 = 1\n",
        "- min_child_weight: 1에서 2까지, 간격 = 1\n",
        "- colsample_bytree: 0.5, 1\n",
        "- learning_rate: 0.01에서 0.2 사이, 정규 분포된 값으로"
      ],
      "metadata": {
        "id": "Dt90nZGGAjaO"
      }
    },
    {
      "cell_type": "code",
      "source": [
        "search_space = {\n",
        "    'max_depth': hp.quniform('max_depth', 5, 20, 1),\n",
        "    'min_child_weight': hp.quniform('min_child_weight', 1, 2, 1),\n",
        "    'colsample_bytree': hp.uniform('colsample_bytree', 0.5, 1),\n",
        "    'learning_rate': hp.loguniform('learning_rate', np.log(0.01), np.log(0.2))\n",
        "}"
      ],
      "metadata": {
        "id": "j9hI35hEBenL"
      },
      "execution_count": 26,
      "outputs": []
    },
    {
      "cell_type": "markdown",
      "source": [
        "### **3-2-b. 검색 공간을 인자로 받아 목적함수를 완성해 주세요.**\n",
        "(n_estimators = 800)  \n",
        "(❓❓❓❓❓로 표시된 빈칸을 채워주세요!)"
      ],
      "metadata": {
        "id": "3cSRp1UDAji8"
      }
    },
    {
      "cell_type": "code",
      "source": [
        "from sklearn.model_selection import cross_val_score\n",
        "from xgboost import XGBClassifier\n",
        "from hyperopt import STATUS_OK\n",
        "\n",
        "\n",
        "def objective_func(search_space):\n",
        "    xgb_clf = XGBClassifier(n_estimators = 800,\n",
        "                            max_depth = int(params['max_depth']),\n",
        "                            min_child_weight = int(params['min_child_weight']),\n",
        "                            learning_rate = params['learning_rate'],\n",
        "                            colsample_bytree = params['colsample_bytree'],\n",
        "                            eval_metric = 'logloss')\n",
        "    accuracy = cross_val_score(xgb_clf, X_train, y_train, scoring = 'accuracy', cv = 3)\n",
        "\n",
        "    return {'loss':-1 * np.mean(accuracy), 'status': STATUS_OK}"
      ],
      "metadata": {
        "id": "VIi05vIgHFKQ"
      },
      "execution_count": 27,
      "outputs": []
    },
    {
      "cell_type": "markdown",
      "source": [
        "### **3-2-c. best에 `fmin()` 함수를 이용하여 최적 파라미터 값들을 저장해 주세요.**\n",
        "- fn, 검색공간: 위에서 구한 값\n",
        "- 최대 반복 횟수: 50"
      ],
      "metadata": {
        "id": "dpFPo2bIBKYA"
      }
    },
    {
      "cell_type": "code",
      "source": [
        "from hyperopt import fmin, tpe, Trials\n",
        "\n",
        "\n",
        "trial_val = Trials()\n",
        "best = fmin( fn = objective_func(search_space),\n",
        "            space=search_space,\n",
        "            max_evals= 50,\n",
        "            algo = tpe.suggest,\n",
        "            trials = trial_val,\n",
        "            rstate = np.random.default_rng(seed = 9))\n",
        "print('best:', best)"
      ],
      "metadata": {
        "id": "oagDclMCKKmS",
        "colab": {
          "base_uri": "https://localhost:8080/",
          "height": 382
        },
        "outputId": "b4741e92-c7a3-4f3d-ace8-aa9b1b54ea68"
      },
      "execution_count": 40,
      "outputs": [
        {
          "output_type": "error",
          "ename": "NameError",
          "evalue": "ignored",
          "traceback": [
            "\u001b[0;31m---------------------------------------------------------------------------\u001b[0m",
            "\u001b[0;31mNameError\u001b[0m                                 Traceback (most recent call last)",
            "\u001b[0;32m<ipython-input-40-3177956abc8f>\u001b[0m in \u001b[0;36m<cell line: 5>\u001b[0;34m()\u001b[0m\n\u001b[1;32m      3\u001b[0m \u001b[0;34m\u001b[0m\u001b[0m\n\u001b[1;32m      4\u001b[0m \u001b[0mtrial_val\u001b[0m \u001b[0;34m=\u001b[0m \u001b[0mTrials\u001b[0m\u001b[0;34m(\u001b[0m\u001b[0;34m)\u001b[0m\u001b[0;34m\u001b[0m\u001b[0;34m\u001b[0m\u001b[0m\n\u001b[0;32m----> 5\u001b[0;31m best = fmin( fn = objective_func(search_space),\n\u001b[0m\u001b[1;32m      6\u001b[0m             \u001b[0mspace\u001b[0m\u001b[0;34m=\u001b[0m\u001b[0msearch_space\u001b[0m\u001b[0;34m,\u001b[0m\u001b[0;34m\u001b[0m\u001b[0;34m\u001b[0m\u001b[0m\n\u001b[1;32m      7\u001b[0m             \u001b[0mmax_evals\u001b[0m\u001b[0;34m=\u001b[0m \u001b[0;36m50\u001b[0m\u001b[0;34m,\u001b[0m\u001b[0;34m\u001b[0m\u001b[0;34m\u001b[0m\u001b[0m\n",
            "\u001b[0;32m<ipython-input-27-92fa39a608dd>\u001b[0m in \u001b[0;36mobjective_func\u001b[0;34m(search_space)\u001b[0m\n\u001b[1;32m      6\u001b[0m \u001b[0;32mdef\u001b[0m \u001b[0mobjective_func\u001b[0m\u001b[0;34m(\u001b[0m\u001b[0msearch_space\u001b[0m\u001b[0;34m)\u001b[0m\u001b[0;34m:\u001b[0m\u001b[0;34m\u001b[0m\u001b[0;34m\u001b[0m\u001b[0m\n\u001b[1;32m      7\u001b[0m     xgb_clf = XGBClassifier(n_estimators = 800,\n\u001b[0;32m----> 8\u001b[0;31m                             \u001b[0mmax_depth\u001b[0m \u001b[0;34m=\u001b[0m \u001b[0mint\u001b[0m\u001b[0;34m(\u001b[0m\u001b[0mparams\u001b[0m\u001b[0;34m[\u001b[0m\u001b[0;34m'max_depth'\u001b[0m\u001b[0;34m]\u001b[0m\u001b[0;34m)\u001b[0m\u001b[0;34m,\u001b[0m\u001b[0;34m\u001b[0m\u001b[0;34m\u001b[0m\u001b[0m\n\u001b[0m\u001b[1;32m      9\u001b[0m                             \u001b[0mmin_child_weight\u001b[0m \u001b[0;34m=\u001b[0m \u001b[0mint\u001b[0m\u001b[0;34m(\u001b[0m\u001b[0mparams\u001b[0m\u001b[0;34m[\u001b[0m\u001b[0;34m'min_child_weight'\u001b[0m\u001b[0;34m]\u001b[0m\u001b[0;34m)\u001b[0m\u001b[0;34m,\u001b[0m\u001b[0;34m\u001b[0m\u001b[0;34m\u001b[0m\u001b[0m\n\u001b[1;32m     10\u001b[0m                             \u001b[0mlearning_rate\u001b[0m \u001b[0;34m=\u001b[0m \u001b[0mparams\u001b[0m\u001b[0;34m[\u001b[0m\u001b[0;34m'learning_rate'\u001b[0m\u001b[0;34m]\u001b[0m\u001b[0;34m,\u001b[0m\u001b[0;34m\u001b[0m\u001b[0;34m\u001b[0m\u001b[0m\n",
            "\u001b[0;31mNameError\u001b[0m: name 'params' is not defined"
          ]
        }
      ]
    },
    {
      "cell_type": "markdown",
      "source": [
        "### **3-2-d. 아래는 best에 포함된 최적 파라미터들을 할당한 분류기입니다. 해당 분류기의 정확도를 출력해 주세요.**"
      ],
      "metadata": {
        "id": "X00SYdMqBKf-"
      }
    },
    {
      "cell_type": "code",
      "source": [
        "xgb_wrapper = XGBClassifier(n_estimators = 400,\n",
        "                            learning_rate = round(best['learning_rate'], 5),\n",
        "                            max_depth = int(best['max_depth']),\n",
        "                            min_child_weight = int(best['min_child_weight']),\n",
        "                            colsample_bytree = round(best['colsample_bytree'], 5)\n",
        "                           )\n",
        "\n",
        "evals = [(X_tr, y_tr), (X_val, y_val)]\n",
        "xgb_wrapper.fit(X_tr, y_tr, early_stopping_rounds, eval_metric = 'logloss',\n",
        "                eval_set = evals, verbose = 0)\n",
        "\n"
      ],
      "metadata": {
        "id": "YWG7Vx8qLskd"
      },
      "execution_count": null,
      "outputs": []
    },
    {
      "cell_type": "markdown",
      "source": [
        "# **4. 스태킹**\n",
        "- 4번 문제는 3번 문제에서 전처리 된 `water_potability.csv` 데이터를 계속 활용하시면 됩니다."
      ],
      "metadata": {
        "id": "Zi7nlAXnaIvx"
      }
    },
    {
      "cell_type": "markdown",
      "source": [
        "## **4-a. 기본 스태킹 기법을 적용해 봅시다.**\n",
        "- `SVM`, `KNN`, `로지스틱 회귀`, `결정 트리` 모델 객체를 생성해 주세요.\n",
        "- 최종 메타 모델은 `랜덤 포레스트`를 활용해주세요.\n",
        "- 파라미터 설정\n",
        "  - SVM: random_state = 0\n",
        "  - KNN: n_neighbors = 8\n",
        "  - RandomForest: n_estimators = 100, random_state = 0\n",
        "  - 나머지: 기본 파라미터(base model)"
      ],
      "metadata": {
        "id": "zo-EqV9IaOHE"
      }
    },
    {
      "cell_type": "code",
      "source": [
        "import numpy as np\n",
        "import pandas as pd\n",
        "import seaborn as sns\n",
        "import matplotlib.pyplot as plt\n",
        "%matplotlib inline"
      ],
      "metadata": {
        "id": "A8oVE61iW2rE"
      },
      "execution_count": 43,
      "outputs": []
    },
    {
      "cell_type": "code",
      "source": [
        "# SVM, KNN, 로지스틱 회귀, 결정 트리 개별 모델들을 생성해 주세요.\n",
        "from sklearn.svm import SVC\n",
        "from sklearn.neighbors import KNeighborsClassifier\n",
        "from sklearn.linear_model import LogisticRegression\n",
        "from sklearn.tree import DecisionTreeClassifier\n",
        "from sklearn.ensemble import RandomForestClassifier\n",
        "svm_clf = SVC(random_state=0)\n",
        "knn_clf = KNeighborsClassifier(n_neighbors=8)\n",
        "lr_clf = LogisticRegression()\n",
        "dt_clf = DecisionTreeClassifier()\n",
        "\n",
        "# 최종 메타 모델로 랜덤 포레스트를 생성해 주세요.\n",
        "rf_final = RandomForestClassifier(n_estimators=100, random_state=0)"
      ],
      "metadata": {
        "id": "-g8nzDlXW_hD"
      },
      "execution_count": 47,
      "outputs": []
    },
    {
      "cell_type": "markdown",
      "source": [
        "## **4-b. 개별 모델들을 학습시키고 예측을 수행합니다.**\n",
        "- 아래 코드를 완성시켜 봅시다.\n",
        "\n"
      ],
      "metadata": {
        "id": "_kiFDVuDZ92_"
      }
    },
    {
      "cell_type": "code",
      "source": [
        "svm_clf.fit(X_tr, y_tr)\n",
        "knn_clf.fit(X_tr, y_tr)\n",
        "lr_clf.fit(X_tr, y_tr)\n",
        "dt_clf.fit(X_tr, y_tr)"
      ],
      "metadata": {
        "id": "Vda9AE6ga1ne",
        "colab": {
          "base_uri": "https://localhost:8080/",
          "height": 74
        },
        "outputId": "714225c7-0857-43d9-ade3-ec3ebaaca8be"
      },
      "execution_count": 50,
      "outputs": [
        {
          "output_type": "execute_result",
          "data": {
            "text/plain": [
              "DecisionTreeClassifier()"
            ],
            "text/html": [
              "<style>#sk-container-id-2 {color: black;background-color: white;}#sk-container-id-2 pre{padding: 0;}#sk-container-id-2 div.sk-toggleable {background-color: white;}#sk-container-id-2 label.sk-toggleable__label {cursor: pointer;display: block;width: 100%;margin-bottom: 0;padding: 0.3em;box-sizing: border-box;text-align: center;}#sk-container-id-2 label.sk-toggleable__label-arrow:before {content: \"▸\";float: left;margin-right: 0.25em;color: #696969;}#sk-container-id-2 label.sk-toggleable__label-arrow:hover:before {color: black;}#sk-container-id-2 div.sk-estimator:hover label.sk-toggleable__label-arrow:before {color: black;}#sk-container-id-2 div.sk-toggleable__content {max-height: 0;max-width: 0;overflow: hidden;text-align: left;background-color: #f0f8ff;}#sk-container-id-2 div.sk-toggleable__content pre {margin: 0.2em;color: black;border-radius: 0.25em;background-color: #f0f8ff;}#sk-container-id-2 input.sk-toggleable__control:checked~div.sk-toggleable__content {max-height: 200px;max-width: 100%;overflow: auto;}#sk-container-id-2 input.sk-toggleable__control:checked~label.sk-toggleable__label-arrow:before {content: \"▾\";}#sk-container-id-2 div.sk-estimator input.sk-toggleable__control:checked~label.sk-toggleable__label {background-color: #d4ebff;}#sk-container-id-2 div.sk-label input.sk-toggleable__control:checked~label.sk-toggleable__label {background-color: #d4ebff;}#sk-container-id-2 input.sk-hidden--visually {border: 0;clip: rect(1px 1px 1px 1px);clip: rect(1px, 1px, 1px, 1px);height: 1px;margin: -1px;overflow: hidden;padding: 0;position: absolute;width: 1px;}#sk-container-id-2 div.sk-estimator {font-family: monospace;background-color: #f0f8ff;border: 1px dotted black;border-radius: 0.25em;box-sizing: border-box;margin-bottom: 0.5em;}#sk-container-id-2 div.sk-estimator:hover {background-color: #d4ebff;}#sk-container-id-2 div.sk-parallel-item::after {content: \"\";width: 100%;border-bottom: 1px solid gray;flex-grow: 1;}#sk-container-id-2 div.sk-label:hover label.sk-toggleable__label {background-color: #d4ebff;}#sk-container-id-2 div.sk-serial::before {content: \"\";position: absolute;border-left: 1px solid gray;box-sizing: border-box;top: 0;bottom: 0;left: 50%;z-index: 0;}#sk-container-id-2 div.sk-serial {display: flex;flex-direction: column;align-items: center;background-color: white;padding-right: 0.2em;padding-left: 0.2em;position: relative;}#sk-container-id-2 div.sk-item {position: relative;z-index: 1;}#sk-container-id-2 div.sk-parallel {display: flex;align-items: stretch;justify-content: center;background-color: white;position: relative;}#sk-container-id-2 div.sk-item::before, #sk-container-id-2 div.sk-parallel-item::before {content: \"\";position: absolute;border-left: 1px solid gray;box-sizing: border-box;top: 0;bottom: 0;left: 50%;z-index: -1;}#sk-container-id-2 div.sk-parallel-item {display: flex;flex-direction: column;z-index: 1;position: relative;background-color: white;}#sk-container-id-2 div.sk-parallel-item:first-child::after {align-self: flex-end;width: 50%;}#sk-container-id-2 div.sk-parallel-item:last-child::after {align-self: flex-start;width: 50%;}#sk-container-id-2 div.sk-parallel-item:only-child::after {width: 0;}#sk-container-id-2 div.sk-dashed-wrapped {border: 1px dashed gray;margin: 0 0.4em 0.5em 0.4em;box-sizing: border-box;padding-bottom: 0.4em;background-color: white;}#sk-container-id-2 div.sk-label label {font-family: monospace;font-weight: bold;display: inline-block;line-height: 1.2em;}#sk-container-id-2 div.sk-label-container {text-align: center;}#sk-container-id-2 div.sk-container {/* jupyter's `normalize.less` sets `[hidden] { display: none; }` but bootstrap.min.css set `[hidden] { display: none !important; }` so we also need the `!important` here to be able to override the default hidden behavior on the sphinx rendered scikit-learn.org. See: https://github.com/scikit-learn/scikit-learn/issues/21755 */display: inline-block !important;position: relative;}#sk-container-id-2 div.sk-text-repr-fallback {display: none;}</style><div id=\"sk-container-id-2\" class=\"sk-top-container\"><div class=\"sk-text-repr-fallback\"><pre>DecisionTreeClassifier()</pre><b>In a Jupyter environment, please rerun this cell to show the HTML representation or trust the notebook. <br />On GitHub, the HTML representation is unable to render, please try loading this page with nbviewer.org.</b></div><div class=\"sk-container\" hidden><div class=\"sk-item\"><div class=\"sk-estimator sk-toggleable\"><input class=\"sk-toggleable__control sk-hidden--visually\" id=\"sk-estimator-id-2\" type=\"checkbox\" checked><label for=\"sk-estimator-id-2\" class=\"sk-toggleable__label sk-toggleable__label-arrow\">DecisionTreeClassifier</label><div class=\"sk-toggleable__content\"><pre>DecisionTreeClassifier()</pre></div></div></div></div></div>"
            ]
          },
          "metadata": {},
          "execution_count": 50
        }
      ]
    },
    {
      "cell_type": "code",
      "source": [
        "## 학습된 개별 모델들이 반환하는 예측 데이터셋을 생성하세요.\n",
        "# 예측 시 들어가는 테스트 데이터셋 이름은 X_val 입니다.\n",
        "svm_pred = accuracy_score(y_val, svm_clf.predict(X_val))\n",
        "knn_pred = accuracy_score(y_val, knn_clf.predict(X_val))\n",
        "lr_pred = accuracy_score(y_val, lr_clf.predict(X_val))\n",
        "dt_pred = accuracy_score(y_val, dt_clf.predict(X_val))\n",
        "\n",
        "## 예측 정확도를 반환하세요. 테스트 레이블 데이터셋 이름은 y_val 입니다.\n",
        "# hint : accuracy_score()\n",
        "print('SVM 정확도: {0:.4f}'.format(accuracy_score(y_val, svm_clf.predict(X_val)))\n",
        "print('KNN 정확도: {0:.4f}'.formataccuracy_score(y_val, knn_clf.predict(X_val)))\n",
        "print('로지스틱 회귀 정확도: {0:.4f}'.format(accuracy_score(y_val, lr_clf.predict(X_val)))\n",
        "print('결정 트리 정확도: {0:.4f}'.format(accuracy_score(y_val, dt_clf.predict(X_val)))"
      ],
      "metadata": {
        "id": "bqQEJMSwbXfz",
        "colab": {
          "base_uri": "https://localhost:8080/",
          "height": 255
        },
        "outputId": "471d61a0-ed63-4a8b-92b0-3cbb3721371e"
      },
      "execution_count": 54,
      "outputs": [
        {
          "output_type": "error",
          "ename": "SyntaxError",
          "evalue": "ignored",
          "traceback": [
            "\u001b[0;31m---------------------------------------------------------------------------\u001b[0m",
            "\u001b[0;31mSyntaxError\u001b[0m                               Traceback (most recent call last)",
            "\u001b[0;32m/usr/local/lib/python3.10/dist-packages/IPython/core/compilerop.py\u001b[0m in \u001b[0;36mast_parse\u001b[0;34m(self, source, filename, symbol)\u001b[0m\n\u001b[1;32m     99\u001b[0m         \u001b[0mArguments\u001b[0m \u001b[0mare\u001b[0m \u001b[0mexactly\u001b[0m \u001b[0mthe\u001b[0m \u001b[0msame\u001b[0m \u001b[0;32mas\u001b[0m \u001b[0mast\u001b[0m\u001b[0;34m.\u001b[0m\u001b[0mparse\u001b[0m \u001b[0;34m(\u001b[0m\u001b[0;32min\u001b[0m \u001b[0mthe\u001b[0m \u001b[0mstandard\u001b[0m \u001b[0mlibrary\u001b[0m\u001b[0;34m)\u001b[0m\u001b[0;34m,\u001b[0m\u001b[0;34m\u001b[0m\u001b[0;34m\u001b[0m\u001b[0m\n\u001b[1;32m    100\u001b[0m         and are passed to the built-in compile function.\"\"\"\n\u001b[0;32m--> 101\u001b[0;31m         \u001b[0;32mreturn\u001b[0m \u001b[0mcompile\u001b[0m\u001b[0;34m(\u001b[0m\u001b[0msource\u001b[0m\u001b[0;34m,\u001b[0m \u001b[0mfilename\u001b[0m\u001b[0;34m,\u001b[0m \u001b[0msymbol\u001b[0m\u001b[0;34m,\u001b[0m \u001b[0mself\u001b[0m\u001b[0;34m.\u001b[0m\u001b[0mflags\u001b[0m \u001b[0;34m|\u001b[0m \u001b[0mPyCF_ONLY_AST\u001b[0m\u001b[0;34m,\u001b[0m \u001b[0;36m1\u001b[0m\u001b[0;34m)\u001b[0m\u001b[0;34m\u001b[0m\u001b[0;34m\u001b[0m\u001b[0m\n\u001b[0m\u001b[1;32m    102\u001b[0m \u001b[0;34m\u001b[0m\u001b[0m\n\u001b[1;32m    103\u001b[0m     \u001b[0;32mdef\u001b[0m \u001b[0mreset_compiler_flags\u001b[0m\u001b[0;34m(\u001b[0m\u001b[0mself\u001b[0m\u001b[0;34m)\u001b[0m\u001b[0;34m:\u001b[0m\u001b[0;34m\u001b[0m\u001b[0;34m\u001b[0m\u001b[0m\n",
            "\u001b[0;31mSyntaxError\u001b[0m: invalid syntax. Perhaps you forgot a comma? (<ipython-input-54-1d8c777d39bc>, line 10)"
          ]
        }
      ]
    },
    {
      "cell_type": "markdown",
      "source": [
        "## **4-c. 반환된 예측 데이터셋을 행 형태로 묶어 pred 데이터셋에 저장합니다**"
      ],
      "metadata": {
        "id": "AmQiW4i4c_9B"
      }
    },
    {
      "cell_type": "code",
      "source": [
        "pred = np.vstack([svm_pred, knn_pred, lr_pred, dt_pred])\n",
        "print(pred.shape)\n",
        "\n",
        "# 행과 열의 위치를 교환해 원본 데이터 값 하나 당 예측 데이터셋의 값이 1대1 매칭이 되도록 하세요.\n",
        "pred = pred.T\n",
        "print(pred.shape)"
      ],
      "metadata": {
        "id": "Od3yHZ3fc8Uf",
        "colab": {
          "base_uri": "https://localhost:8080/"
        },
        "outputId": "5fd4f44d-5ed4-4d6a-c73d-6035e26a13be"
      },
      "execution_count": 55,
      "outputs": [
        {
          "output_type": "stream",
          "name": "stdout",
          "text": [
            "(4, 1)\n",
            "(1, 4)\n"
          ]
        }
      ]
    },
    {
      "cell_type": "markdown",
      "source": [
        "## **4-d. 완성된 최종 데이터셋을 최종 메타 모델에 학습시키고 예측시킵니다.**\n",
        "- 기본 스태킹 모델이므로 학습과 예측 모두 **동일한** 데이터셋을 사용합니다.\n",
        "- **정확도**도 함께 출력해 주세요."
      ],
      "metadata": {
        "id": "h8rhG78DdzpT"
      }
    },
    {
      "cell_type": "code",
      "source": [
        "rf_final.fit(X_train, y_train)\n",
        "final = rf_final.predict(X_val)\n",
        "\n",
        "print('최종 메타 모델의 예측 정확도: {0:.4f}'.format(accuracy_score(y_val , final)))"
      ],
      "metadata": {
        "id": "eDf69kCPebqf"
      },
      "execution_count": null,
      "outputs": []
    },
    {
      "cell_type": "markdown",
      "source": [
        "# **5. CatBoost**\n",
        "- 책에서 다루지 않는 부분이기 때문에 간단한 실습만 진행합니다."
      ],
      "metadata": {
        "id": "Bt9i77_NqqJp"
      }
    },
    {
      "cell_type": "code",
      "source": [
        "# catboost를 사용하기 위해 다음 코드를 실행합니다.\n",
        "\n",
        "!pip install optuna\n",
        "!pip install catboost"
      ],
      "metadata": {
        "id": "bUp-KlCjr7nt",
        "colab": {
          "base_uri": "https://localhost:8080/"
        },
        "outputId": "958b0192-a996-4567-f01c-eb2e5d03bf8a"
      },
      "execution_count": 56,
      "outputs": [
        {
          "output_type": "stream",
          "name": "stdout",
          "text": [
            "Collecting optuna\n",
            "  Downloading optuna-3.3.0-py3-none-any.whl (404 kB)\n",
            "\u001b[2K     \u001b[90m━━━━━━━━━━━━━━━━━━━━━━━━━━━━━━━━━━━━━━━\u001b[0m \u001b[32m404.2/404.2 kB\u001b[0m \u001b[31m6.0 MB/s\u001b[0m eta \u001b[36m0:00:00\u001b[0m\n",
            "\u001b[?25hCollecting alembic>=1.5.0 (from optuna)\n",
            "  Downloading alembic-1.12.0-py3-none-any.whl (226 kB)\n",
            "\u001b[2K     \u001b[90m━━━━━━━━━━━━━━━━━━━━━━━━━━━━━━━━━━━━━━\u001b[0m \u001b[32m226.0/226.0 kB\u001b[0m \u001b[31m26.5 MB/s\u001b[0m eta \u001b[36m0:00:00\u001b[0m\n",
            "\u001b[?25hCollecting cmaes>=0.10.0 (from optuna)\n",
            "  Downloading cmaes-0.10.0-py3-none-any.whl (29 kB)\n",
            "Collecting colorlog (from optuna)\n",
            "  Downloading colorlog-6.7.0-py2.py3-none-any.whl (11 kB)\n",
            "Requirement already satisfied: numpy in /usr/local/lib/python3.10/dist-packages (from optuna) (1.23.5)\n",
            "Requirement already satisfied: packaging>=20.0 in /usr/local/lib/python3.10/dist-packages (from optuna) (23.1)\n",
            "Requirement already satisfied: sqlalchemy>=1.3.0 in /usr/local/lib/python3.10/dist-packages (from optuna) (2.0.20)\n",
            "Requirement already satisfied: tqdm in /usr/local/lib/python3.10/dist-packages (from optuna) (4.66.1)\n",
            "Requirement already satisfied: PyYAML in /usr/local/lib/python3.10/dist-packages (from optuna) (6.0.1)\n",
            "Collecting Mako (from alembic>=1.5.0->optuna)\n",
            "  Downloading Mako-1.2.4-py3-none-any.whl (78 kB)\n",
            "\u001b[2K     \u001b[90m━━━━━━━━━━━━━━━━━━━━━━━━━━━━━━━━━━━━━━━━\u001b[0m \u001b[32m78.7/78.7 kB\u001b[0m \u001b[31m11.2 MB/s\u001b[0m eta \u001b[36m0:00:00\u001b[0m\n",
            "\u001b[?25hRequirement already satisfied: typing-extensions>=4 in /usr/local/lib/python3.10/dist-packages (from alembic>=1.5.0->optuna) (4.5.0)\n",
            "Requirement already satisfied: greenlet!=0.4.17 in /usr/local/lib/python3.10/dist-packages (from sqlalchemy>=1.3.0->optuna) (2.0.2)\n",
            "Requirement already satisfied: MarkupSafe>=0.9.2 in /usr/local/lib/python3.10/dist-packages (from Mako->alembic>=1.5.0->optuna) (2.1.3)\n",
            "Installing collected packages: Mako, colorlog, cmaes, alembic, optuna\n",
            "Successfully installed Mako-1.2.4 alembic-1.12.0 cmaes-0.10.0 colorlog-6.7.0 optuna-3.3.0\n",
            "Collecting catboost\n",
            "  Downloading catboost-1.2.2-cp310-cp310-manylinux2014_x86_64.whl (98.7 MB)\n",
            "\u001b[2K     \u001b[90m━━━━━━━━━━━━━━━━━━━━━━━━━━━━━━━━━━━━━━━━\u001b[0m \u001b[32m98.7/98.7 MB\u001b[0m \u001b[31m9.2 MB/s\u001b[0m eta \u001b[36m0:00:00\u001b[0m\n",
            "\u001b[?25hRequirement already satisfied: graphviz in /usr/local/lib/python3.10/dist-packages (from catboost) (0.20.1)\n",
            "Requirement already satisfied: matplotlib in /usr/local/lib/python3.10/dist-packages (from catboost) (3.7.1)\n",
            "Requirement already satisfied: numpy>=1.16.0 in /usr/local/lib/python3.10/dist-packages (from catboost) (1.23.5)\n",
            "Requirement already satisfied: pandas>=0.24 in /usr/local/lib/python3.10/dist-packages (from catboost) (1.5.3)\n",
            "Requirement already satisfied: scipy in /usr/local/lib/python3.10/dist-packages (from catboost) (1.11.2)\n",
            "Requirement already satisfied: plotly in /usr/local/lib/python3.10/dist-packages (from catboost) (5.15.0)\n",
            "Requirement already satisfied: six in /usr/local/lib/python3.10/dist-packages (from catboost) (1.16.0)\n",
            "Requirement already satisfied: python-dateutil>=2.8.1 in /usr/local/lib/python3.10/dist-packages (from pandas>=0.24->catboost) (2.8.2)\n",
            "Requirement already satisfied: pytz>=2020.1 in /usr/local/lib/python3.10/dist-packages (from pandas>=0.24->catboost) (2023.3.post1)\n",
            "Requirement already satisfied: contourpy>=1.0.1 in /usr/local/lib/python3.10/dist-packages (from matplotlib->catboost) (1.1.0)\n",
            "Requirement already satisfied: cycler>=0.10 in /usr/local/lib/python3.10/dist-packages (from matplotlib->catboost) (0.11.0)\n",
            "Requirement already satisfied: fonttools>=4.22.0 in /usr/local/lib/python3.10/dist-packages (from matplotlib->catboost) (4.42.1)\n",
            "Requirement already satisfied: kiwisolver>=1.0.1 in /usr/local/lib/python3.10/dist-packages (from matplotlib->catboost) (1.4.5)\n",
            "Requirement already satisfied: packaging>=20.0 in /usr/local/lib/python3.10/dist-packages (from matplotlib->catboost) (23.1)\n",
            "Requirement already satisfied: pillow>=6.2.0 in /usr/local/lib/python3.10/dist-packages (from matplotlib->catboost) (9.4.0)\n",
            "Requirement already satisfied: pyparsing>=2.3.1 in /usr/local/lib/python3.10/dist-packages (from matplotlib->catboost) (3.1.1)\n",
            "Requirement already satisfied: tenacity>=6.2.0 in /usr/local/lib/python3.10/dist-packages (from plotly->catboost) (8.2.3)\n",
            "Installing collected packages: catboost\n",
            "Successfully installed catboost-1.2.2\n"
          ]
        }
      ]
    },
    {
      "cell_type": "code",
      "source": [
        "from sklearn import datasets\n",
        "from sklearn import metrics\n",
        "from catboost import CatBoostClassifier"
      ],
      "metadata": {
        "id": "xbcYHmIsqycq"
      },
      "execution_count": 57,
      "outputs": []
    },
    {
      "cell_type": "code",
      "source": [
        "df = datasets.load_iris()\n",
        "X = df.data\n",
        "y = df.target\n",
        "\n",
        "X_train, X_test, y_train, y_test = train_test_split(X, y, test_size = 0.3)"
      ],
      "metadata": {
        "id": "cT3d6EKqsJRj"
      },
      "execution_count": 58,
      "outputs": []
    },
    {
      "cell_type": "code",
      "source": [
        "# CatBoostClassifier 객체를 생성하고 학습시켜 주세요.\n",
        "\n",
        "model_CBC = CatBoostClassifier(verbose=0)\n",
        "model_CBC.fit(X_train, y_train, verbose = 0)"
      ],
      "metadata": {
        "id": "8t-R1-Wfskfm",
        "colab": {
          "base_uri": "https://localhost:8080/"
        },
        "outputId": "8c6b67a3-ceb9-459b-a346-b544d5ff5f2e"
      },
      "execution_count": 59,
      "outputs": [
        {
          "output_type": "execute_result",
          "data": {
            "text/plain": [
              "<catboost.core.CatBoostClassifier at 0x79ca2e9d6e60>"
            ]
          },
          "metadata": {},
          "execution_count": 59
        }
      ]
    },
    {
      "cell_type": "code",
      "source": [
        "# pred에 X_test에 대한 예측 결과를 저장해 주세요.\n",
        "pred = model_CBC.predict(X_test)\n",
        "\n",
        "# 아래 코드를 완성해서 정확도를 출력하세요.\n",
        "print('CatBoost의 예측 정확도: {0:.4f}'.format(metrics.accuracy_score(y_test, pred)))"
      ],
      "metadata": {
        "id": "7yfAnYNXs4LW",
        "colab": {
          "base_uri": "https://localhost:8080/"
        },
        "outputId": "3d172c9e-bf0e-41b3-d121-ba70afa984c5"
      },
      "execution_count": 61,
      "outputs": [
        {
          "output_type": "stream",
          "name": "stdout",
          "text": [
            "CatBoost의 예측 정확도: 0.9333\n"
          ]
        }
      ]
    }
  ]
}