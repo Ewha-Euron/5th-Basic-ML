{
  "nbformat": 4,
  "nbformat_minor": 0,
  "metadata": {
    "colab": {
      "provenance": [],
      "include_colab_link": true
    },
    "kernelspec": {
      "name": "python3",
      "display_name": "Python 3"
    },
    "language_info": {
      "name": "python"
    }
  },
  "cells": [
    {
      "cell_type": "markdown",
      "metadata": {
        "id": "view-in-github",
        "colab_type": "text"
      },
      "source": [
        "<a href=\"https://colab.research.google.com/github/gchaewon/5th-Basic-ML/blob/3%EC%A3%BC%EC%B0%A8/Week3_%EB%B3%B5%EC%8A%B5%EA%B3%BC%EC%A0%9C_%EC%9D%B4%EC%B1%84%EC%9B%90.ipynb\" target=\"_parent\"><img src=\"https://colab.research.google.com/assets/colab-badge.svg\" alt=\"Open In Colab\"/></a>"
      ]
    },
    {
      "cell_type": "markdown",
      "source": [
        "# **1. GBM**\n"
      ],
      "metadata": {
        "id": "oW4LpW9lRj3n"
      }
    },
    {
      "cell_type": "markdown",
      "source": [
        "## **1-a. `creditcard.csv`를 다운받은 후 실습을 진행해 주세요.**\n",
        "- 데이터 출처: [Credit Card Fraud Detection](https://www.kaggle.com/datasets/mlg-ulb/creditcardfraud)"
      ],
      "metadata": {
        "id": "s3_1vAdpRxoo"
      }
    },
    {
      "cell_type": "code",
      "source": [
        "## Colab - 구글 드라이브 마운트\n",
        "# Colab을 사용하시는 분들만 실행시켜 주시면 됩니다.\n",
        "\n",
        "from google.colab import drive\n",
        "drive.mount('/content/drive')"
      ],
      "metadata": {
        "id": "3vR5gQ4HYGAX",
        "outputId": "d542e19d-b5ca-48f7-cf89-90b1860b383b",
        "colab": {
          "base_uri": "https://localhost:8080/"
        }
      },
      "execution_count": 157,
      "outputs": [
        {
          "output_type": "stream",
          "name": "stdout",
          "text": [
            "Drive already mounted at /content/drive; to attempt to forcibly remount, call drive.mount(\"/content/drive\", force_remount=True).\n"
          ]
        }
      ]
    },
    {
      "cell_type": "code",
      "source": [
        "import pandas as pd\n",
        "df = pd.read_csv('/content/drive/MyDrive/Euron/3주차_복습/creditcard.csv')"
      ],
      "metadata": {
        "id": "lkOKaEKZG2Yn"
      },
      "execution_count": 1,
      "outputs": []
    },
    {
      "cell_type": "markdown",
      "source": [
        "## **1-b. GradientBoostingClassifier을 이용하여 훈련 데이터를 fit한 후, GBM 정확도와 수행시간을 구하세요.**\n",
        "(test_size = 0.2, random_state = 42)"
      ],
      "metadata": {
        "id": "2_tC0W-5Ryje"
      }
    },
    {
      "cell_type": "code",
      "source": [
        "from sklearn.ensemble import GradientBoostingClassifier\n",
        "from sklearn.metrics import accuracy_score\n",
        "from sklearn.model_selection import train_test_split\n",
        "import time\n",
        "import warnings\n",
        "warnings.filterwarnings('ignore')"
      ],
      "metadata": {
        "id": "7zBOFln9ZENb"
      },
      "execution_count": 2,
      "outputs": []
    },
    {
      "cell_type": "code",
      "source": [
        "## 데이터 분할: 훈련 데이터와 테스트 데이터\n",
        "X = df.drop('Class', axis=1)\n",
        "y = df['Class']\n",
        "X_train, X_test, y_train, y_test = train_test_split(X, y, test_size = 0.2, random_state = 42)\n",
        "\n",
        "## GBM 모델링\n",
        "# 아래에 코드를 작성해 주세요.\n",
        "# GBM 수행 시간 측정을 위한 시작 시간 설정\n",
        "start_time = time.time()\n",
        "\n",
        "# GBM 분류기 생성\n",
        "gb_clf = GradientBoostingClassifier(random_state=42)\n",
        "\n",
        "# 학습 데이터 fit\n",
        "gb_clf.fit(X_train , y_train)\n",
        "\n",
        "# 예측값 구하기\n",
        "gb_pred = gb_clf.predict(X_test)\n",
        "\n",
        "# 정확도 측정\n",
        "gb_accuracy = accuracy_score(y_test, gb_pred)\n",
        "\n",
        "print('GBM 정확도: {0:.4f}'.format(gb_accuracy))\n"
      ],
      "metadata": {
        "colab": {
          "base_uri": "https://localhost:8080/"
        },
        "id": "967Hgk2YZXfa",
        "outputId": "0d1bbb8e-db29-4e94-aa0c-c7abfb943d39"
      },
      "execution_count": 3,
      "outputs": [
        {
          "output_type": "stream",
          "name": "stdout",
          "text": [
            "GBM 정확도: 0.9989\n"
          ]
        }
      ]
    },
    {
      "cell_type": "markdown",
      "source": [
        "## **1-b(2). GBM으로 학습하는 시간이 얼마나 걸리는지 수행 시간을 출력해 주세요.**"
      ],
      "metadata": {
        "id": "0_npf7xNR1BZ"
      }
    },
    {
      "cell_type": "code",
      "source": [
        "print(\"GBM 수행 시간: {0:.1f} 초 \".format(time.time() - start_time))"
      ],
      "metadata": {
        "colab": {
          "base_uri": "https://localhost:8080/"
        },
        "id": "FdMUSczWa8_A",
        "outputId": "c80c21a0-52d1-403c-e841-9ee98abffa78"
      },
      "execution_count": 4,
      "outputs": [
        {
          "output_type": "stream",
          "name": "stdout",
          "text": [
            "GBM 수행 시간: 711.9 초 \n"
          ]
        }
      ]
    },
    {
      "cell_type": "markdown",
      "source": [
        "## **1-c. ```subsample``` 파라미터를 설정하여 gbm 모델을 학습시키고 학습 시간을 비교해 보세요.**  \n",
        "(subsample = 0.8)"
      ],
      "metadata": {
        "id": "xqzN9Hy8TaOk"
      }
    },
    {
      "cell_type": "code",
      "source": [
        "from sklearn.ensemble import GradientBoostingClassifier\n",
        "from sklearn.metrics import accuracy_score\n",
        "from sklearn.model_selection import train_test_split\n",
        "import time\n",
        "import warnings\n",
        "warnings.filterwarnings('ignore')"
      ],
      "metadata": {
        "id": "FxWwRW_7TbT0"
      },
      "execution_count": 5,
      "outputs": []
    },
    {
      "cell_type": "code",
      "source": [
        "# GBM 수행 시간 측정을 위한 시작 시간 설정\n",
        "start_time = time.time()\n",
        "\n",
        "# GBM 분류기 생성\n",
        "gb_clf2 = GradientBoostingClassifier(random_state=42, subsample=0.8)\n",
        "\n",
        "# 학습 데이터 fit\n",
        "gb_clf2.fit(X_train , y_train)\n",
        "\n",
        "# 예측값 구하기\n",
        "gb_pred2 = gb_clf.predict(X_test)\n",
        "\n",
        "# 정확도 측정\n",
        "gb_accuracy2 = accuracy_score(y_test, gb_pred2)\n",
        "\n",
        "print(\"GBM (subsample = 0.8) 정확도: {0:.4f}\".format(gb_accuracy2))\n",
        "print(\"GBM (subsample = 0.8) 수행시간: {0:.1f} 초 \".format(time.time() - start_time))"
      ],
      "metadata": {
        "colab": {
          "base_uri": "https://localhost:8080/"
        },
        "id": "4HAD9Ebsgte4",
        "outputId": "50dc6857-6763-45ae-a2c1-9701e17151d1"
      },
      "execution_count": 6,
      "outputs": [
        {
          "output_type": "stream",
          "name": "stdout",
          "text": [
            "GBM (subsample = 0.8) 정확도: 0.9989\n",
            "GBM (subsample = 0.8) 수행시간: 365.7 초 \n"
          ]
        }
      ]
    },
    {
      "cell_type": "markdown",
      "source": [
        "# **2. XGBoost**"
      ],
      "metadata": {
        "id": "D52196vv7JoI"
      }
    },
    {
      "cell_type": "markdown",
      "source": [
        "- 모델 : Python Wrapper XGBoost\n",
        "- 적용 데이터 : 위스콘신 유방암 데이터"
      ],
      "metadata": {
        "id": "koZCKhp8HW4o"
      }
    },
    {
      "cell_type": "code",
      "source": [
        "import xgboost\n",
        "\n",
        "print(xgboost.__version__)"
      ],
      "metadata": {
        "id": "ECMkbXJ-7KT6",
        "colab": {
          "base_uri": "https://localhost:8080/"
        },
        "outputId": "640d600b-73be-4cc7-b115-f610d3d89a94"
      },
      "execution_count": 6,
      "outputs": [
        {
          "output_type": "stream",
          "name": "stdout",
          "text": [
            "1.7.6\n"
          ]
        }
      ]
    },
    {
      "cell_type": "markdown",
      "source": [
        "- 출력 : 1.7.3"
      ],
      "metadata": {
        "id": "5kFl0zeC7tQR"
      }
    },
    {
      "cell_type": "code",
      "source": [
        "import xgboost as xgb\n",
        "from xgboost import plot_importance\n",
        "\n",
        "import pandas as pd\n",
        "import numpy as np\n",
        "\n",
        "from sklearn.datasets import load_breast_cancer\n",
        "from sklearn.model_selection import train_test_split\n",
        "\n",
        "import warnings\n",
        "warnings.filterwarnings('ignore')"
      ],
      "metadata": {
        "id": "fHDjuv_V7vAf"
      },
      "execution_count": 7,
      "outputs": []
    },
    {
      "cell_type": "markdown",
      "source": [
        "##**2-a. cancer_df의 shape을 프린트하고, 상위 5개 행을 확인해 주세요.**"
      ],
      "metadata": {
        "id": "L11sPCSZ74oH"
      }
    },
    {
      "cell_type": "code",
      "source": [
        "dataset = load_breast_cancer()\n",
        "X_features = dataset.data\n",
        "y_label = dataset.target\n",
        "\n",
        "cancer_df = pd.DataFrame(data = X_features, columns = dataset.feature_names)\n",
        "cancer_df['target'] = y_label"
      ],
      "metadata": {
        "id": "4wBOlQxn72Te"
      },
      "execution_count": 8,
      "outputs": []
    },
    {
      "cell_type": "code",
      "source": [
        "print(cancer_df.shape)\n",
        "cancer_df.head()"
      ],
      "metadata": {
        "id": "cMfEC-nZ8HH-",
        "colab": {
          "base_uri": "https://localhost:8080/",
          "height": 308
        },
        "outputId": "04448eb8-e621-46e8-c1c2-8c43581bacea"
      },
      "execution_count": 11,
      "outputs": [
        {
          "output_type": "stream",
          "name": "stdout",
          "text": [
            "(569, 31)\n"
          ]
        },
        {
          "output_type": "execute_result",
          "data": {
            "text/plain": [
              "   mean radius  mean texture  mean perimeter  mean area  mean smoothness  \\\n",
              "0        17.99         10.38          122.80     1001.0          0.11840   \n",
              "1        20.57         17.77          132.90     1326.0          0.08474   \n",
              "2        19.69         21.25          130.00     1203.0          0.10960   \n",
              "3        11.42         20.38           77.58      386.1          0.14250   \n",
              "4        20.29         14.34          135.10     1297.0          0.10030   \n",
              "\n",
              "   mean compactness  mean concavity  mean concave points  mean symmetry  \\\n",
              "0           0.27760          0.3001              0.14710         0.2419   \n",
              "1           0.07864          0.0869              0.07017         0.1812   \n",
              "2           0.15990          0.1974              0.12790         0.2069   \n",
              "3           0.28390          0.2414              0.10520         0.2597   \n",
              "4           0.13280          0.1980              0.10430         0.1809   \n",
              "\n",
              "   mean fractal dimension  ...  worst texture  worst perimeter  worst area  \\\n",
              "0                 0.07871  ...          17.33           184.60      2019.0   \n",
              "1                 0.05667  ...          23.41           158.80      1956.0   \n",
              "2                 0.05999  ...          25.53           152.50      1709.0   \n",
              "3                 0.09744  ...          26.50            98.87       567.7   \n",
              "4                 0.05883  ...          16.67           152.20      1575.0   \n",
              "\n",
              "   worst smoothness  worst compactness  worst concavity  worst concave points  \\\n",
              "0            0.1622             0.6656           0.7119                0.2654   \n",
              "1            0.1238             0.1866           0.2416                0.1860   \n",
              "2            0.1444             0.4245           0.4504                0.2430   \n",
              "3            0.2098             0.8663           0.6869                0.2575   \n",
              "4            0.1374             0.2050           0.4000                0.1625   \n",
              "\n",
              "   worst symmetry  worst fractal dimension  target  \n",
              "0          0.4601                  0.11890       0  \n",
              "1          0.2750                  0.08902       0  \n",
              "2          0.3613                  0.08758       0  \n",
              "3          0.6638                  0.17300       0  \n",
              "4          0.2364                  0.07678       0  \n",
              "\n",
              "[5 rows x 31 columns]"
            ],
            "text/html": [
              "\n",
              "  <div id=\"df-9a6a9442-ae18-4a84-a266-7aa3a9c00215\" class=\"colab-df-container\">\n",
              "    <div>\n",
              "<style scoped>\n",
              "    .dataframe tbody tr th:only-of-type {\n",
              "        vertical-align: middle;\n",
              "    }\n",
              "\n",
              "    .dataframe tbody tr th {\n",
              "        vertical-align: top;\n",
              "    }\n",
              "\n",
              "    .dataframe thead th {\n",
              "        text-align: right;\n",
              "    }\n",
              "</style>\n",
              "<table border=\"1\" class=\"dataframe\">\n",
              "  <thead>\n",
              "    <tr style=\"text-align: right;\">\n",
              "      <th></th>\n",
              "      <th>mean radius</th>\n",
              "      <th>mean texture</th>\n",
              "      <th>mean perimeter</th>\n",
              "      <th>mean area</th>\n",
              "      <th>mean smoothness</th>\n",
              "      <th>mean compactness</th>\n",
              "      <th>mean concavity</th>\n",
              "      <th>mean concave points</th>\n",
              "      <th>mean symmetry</th>\n",
              "      <th>mean fractal dimension</th>\n",
              "      <th>...</th>\n",
              "      <th>worst texture</th>\n",
              "      <th>worst perimeter</th>\n",
              "      <th>worst area</th>\n",
              "      <th>worst smoothness</th>\n",
              "      <th>worst compactness</th>\n",
              "      <th>worst concavity</th>\n",
              "      <th>worst concave points</th>\n",
              "      <th>worst symmetry</th>\n",
              "      <th>worst fractal dimension</th>\n",
              "      <th>target</th>\n",
              "    </tr>\n",
              "  </thead>\n",
              "  <tbody>\n",
              "    <tr>\n",
              "      <th>0</th>\n",
              "      <td>17.99</td>\n",
              "      <td>10.38</td>\n",
              "      <td>122.80</td>\n",
              "      <td>1001.0</td>\n",
              "      <td>0.11840</td>\n",
              "      <td>0.27760</td>\n",
              "      <td>0.3001</td>\n",
              "      <td>0.14710</td>\n",
              "      <td>0.2419</td>\n",
              "      <td>0.07871</td>\n",
              "      <td>...</td>\n",
              "      <td>17.33</td>\n",
              "      <td>184.60</td>\n",
              "      <td>2019.0</td>\n",
              "      <td>0.1622</td>\n",
              "      <td>0.6656</td>\n",
              "      <td>0.7119</td>\n",
              "      <td>0.2654</td>\n",
              "      <td>0.4601</td>\n",
              "      <td>0.11890</td>\n",
              "      <td>0</td>\n",
              "    </tr>\n",
              "    <tr>\n",
              "      <th>1</th>\n",
              "      <td>20.57</td>\n",
              "      <td>17.77</td>\n",
              "      <td>132.90</td>\n",
              "      <td>1326.0</td>\n",
              "      <td>0.08474</td>\n",
              "      <td>0.07864</td>\n",
              "      <td>0.0869</td>\n",
              "      <td>0.07017</td>\n",
              "      <td>0.1812</td>\n",
              "      <td>0.05667</td>\n",
              "      <td>...</td>\n",
              "      <td>23.41</td>\n",
              "      <td>158.80</td>\n",
              "      <td>1956.0</td>\n",
              "      <td>0.1238</td>\n",
              "      <td>0.1866</td>\n",
              "      <td>0.2416</td>\n",
              "      <td>0.1860</td>\n",
              "      <td>0.2750</td>\n",
              "      <td>0.08902</td>\n",
              "      <td>0</td>\n",
              "    </tr>\n",
              "    <tr>\n",
              "      <th>2</th>\n",
              "      <td>19.69</td>\n",
              "      <td>21.25</td>\n",
              "      <td>130.00</td>\n",
              "      <td>1203.0</td>\n",
              "      <td>0.10960</td>\n",
              "      <td>0.15990</td>\n",
              "      <td>0.1974</td>\n",
              "      <td>0.12790</td>\n",
              "      <td>0.2069</td>\n",
              "      <td>0.05999</td>\n",
              "      <td>...</td>\n",
              "      <td>25.53</td>\n",
              "      <td>152.50</td>\n",
              "      <td>1709.0</td>\n",
              "      <td>0.1444</td>\n",
              "      <td>0.4245</td>\n",
              "      <td>0.4504</td>\n",
              "      <td>0.2430</td>\n",
              "      <td>0.3613</td>\n",
              "      <td>0.08758</td>\n",
              "      <td>0</td>\n",
              "    </tr>\n",
              "    <tr>\n",
              "      <th>3</th>\n",
              "      <td>11.42</td>\n",
              "      <td>20.38</td>\n",
              "      <td>77.58</td>\n",
              "      <td>386.1</td>\n",
              "      <td>0.14250</td>\n",
              "      <td>0.28390</td>\n",
              "      <td>0.2414</td>\n",
              "      <td>0.10520</td>\n",
              "      <td>0.2597</td>\n",
              "      <td>0.09744</td>\n",
              "      <td>...</td>\n",
              "      <td>26.50</td>\n",
              "      <td>98.87</td>\n",
              "      <td>567.7</td>\n",
              "      <td>0.2098</td>\n",
              "      <td>0.8663</td>\n",
              "      <td>0.6869</td>\n",
              "      <td>0.2575</td>\n",
              "      <td>0.6638</td>\n",
              "      <td>0.17300</td>\n",
              "      <td>0</td>\n",
              "    </tr>\n",
              "    <tr>\n",
              "      <th>4</th>\n",
              "      <td>20.29</td>\n",
              "      <td>14.34</td>\n",
              "      <td>135.10</td>\n",
              "      <td>1297.0</td>\n",
              "      <td>0.10030</td>\n",
              "      <td>0.13280</td>\n",
              "      <td>0.1980</td>\n",
              "      <td>0.10430</td>\n",
              "      <td>0.1809</td>\n",
              "      <td>0.05883</td>\n",
              "      <td>...</td>\n",
              "      <td>16.67</td>\n",
              "      <td>152.20</td>\n",
              "      <td>1575.0</td>\n",
              "      <td>0.1374</td>\n",
              "      <td>0.2050</td>\n",
              "      <td>0.4000</td>\n",
              "      <td>0.1625</td>\n",
              "      <td>0.2364</td>\n",
              "      <td>0.07678</td>\n",
              "      <td>0</td>\n",
              "    </tr>\n",
              "  </tbody>\n",
              "</table>\n",
              "<p>5 rows × 31 columns</p>\n",
              "</div>\n",
              "    <div class=\"colab-df-buttons\">\n",
              "\n",
              "  <div class=\"colab-df-container\">\n",
              "    <button class=\"colab-df-convert\" onclick=\"convertToInteractive('df-9a6a9442-ae18-4a84-a266-7aa3a9c00215')\"\n",
              "            title=\"Convert this dataframe to an interactive table.\"\n",
              "            style=\"display:none;\">\n",
              "\n",
              "  <svg xmlns=\"http://www.w3.org/2000/svg\" height=\"24px\" viewBox=\"0 -960 960 960\">\n",
              "    <path d=\"M120-120v-720h720v720H120Zm60-500h600v-160H180v160Zm220 220h160v-160H400v160Zm0 220h160v-160H400v160ZM180-400h160v-160H180v160Zm440 0h160v-160H620v160ZM180-180h160v-160H180v160Zm440 0h160v-160H620v160Z\"/>\n",
              "  </svg>\n",
              "    </button>\n",
              "\n",
              "  <style>\n",
              "    .colab-df-container {\n",
              "      display:flex;\n",
              "      gap: 12px;\n",
              "    }\n",
              "\n",
              "    .colab-df-convert {\n",
              "      background-color: #E8F0FE;\n",
              "      border: none;\n",
              "      border-radius: 50%;\n",
              "      cursor: pointer;\n",
              "      display: none;\n",
              "      fill: #1967D2;\n",
              "      height: 32px;\n",
              "      padding: 0 0 0 0;\n",
              "      width: 32px;\n",
              "    }\n",
              "\n",
              "    .colab-df-convert:hover {\n",
              "      background-color: #E2EBFA;\n",
              "      box-shadow: 0px 1px 2px rgba(60, 64, 67, 0.3), 0px 1px 3px 1px rgba(60, 64, 67, 0.15);\n",
              "      fill: #174EA6;\n",
              "    }\n",
              "\n",
              "    .colab-df-buttons div {\n",
              "      margin-bottom: 4px;\n",
              "    }\n",
              "\n",
              "    [theme=dark] .colab-df-convert {\n",
              "      background-color: #3B4455;\n",
              "      fill: #D2E3FC;\n",
              "    }\n",
              "\n",
              "    [theme=dark] .colab-df-convert:hover {\n",
              "      background-color: #434B5C;\n",
              "      box-shadow: 0px 1px 3px 1px rgba(0, 0, 0, 0.15);\n",
              "      filter: drop-shadow(0px 1px 2px rgba(0, 0, 0, 0.3));\n",
              "      fill: #FFFFFF;\n",
              "    }\n",
              "  </style>\n",
              "\n",
              "    <script>\n",
              "      const buttonEl =\n",
              "        document.querySelector('#df-9a6a9442-ae18-4a84-a266-7aa3a9c00215 button.colab-df-convert');\n",
              "      buttonEl.style.display =\n",
              "        google.colab.kernel.accessAllowed ? 'block' : 'none';\n",
              "\n",
              "      async function convertToInteractive(key) {\n",
              "        const element = document.querySelector('#df-9a6a9442-ae18-4a84-a266-7aa3a9c00215');\n",
              "        const dataTable =\n",
              "          await google.colab.kernel.invokeFunction('convertToInteractive',\n",
              "                                                    [key], {});\n",
              "        if (!dataTable) return;\n",
              "\n",
              "        const docLinkHtml = 'Like what you see? Visit the ' +\n",
              "          '<a target=\"_blank\" href=https://colab.research.google.com/notebooks/data_table.ipynb>data table notebook</a>'\n",
              "          + ' to learn more about interactive tables.';\n",
              "        element.innerHTML = '';\n",
              "        dataTable['output_type'] = 'display_data';\n",
              "        await google.colab.output.renderOutput(dataTable, element);\n",
              "        const docLink = document.createElement('div');\n",
              "        docLink.innerHTML = docLinkHtml;\n",
              "        element.appendChild(docLink);\n",
              "      }\n",
              "    </script>\n",
              "  </div>\n",
              "\n",
              "\n",
              "<div id=\"df-0db76b3e-2ffe-4860-b9f1-a636fbfb7dee\">\n",
              "  <button class=\"colab-df-quickchart\" onclick=\"quickchart('df-0db76b3e-2ffe-4860-b9f1-a636fbfb7dee')\"\n",
              "            title=\"Suggest charts.\"\n",
              "            style=\"display:none;\">\n",
              "\n",
              "<svg xmlns=\"http://www.w3.org/2000/svg\" height=\"24px\"viewBox=\"0 0 24 24\"\n",
              "     width=\"24px\">\n",
              "    <g>\n",
              "        <path d=\"M19 3H5c-1.1 0-2 .9-2 2v14c0 1.1.9 2 2 2h14c1.1 0 2-.9 2-2V5c0-1.1-.9-2-2-2zM9 17H7v-7h2v7zm4 0h-2V7h2v10zm4 0h-2v-4h2v4z\"/>\n",
              "    </g>\n",
              "</svg>\n",
              "  </button>\n",
              "\n",
              "<style>\n",
              "  .colab-df-quickchart {\n",
              "      --bg-color: #E8F0FE;\n",
              "      --fill-color: #1967D2;\n",
              "      --hover-bg-color: #E2EBFA;\n",
              "      --hover-fill-color: #174EA6;\n",
              "      --disabled-fill-color: #AAA;\n",
              "      --disabled-bg-color: #DDD;\n",
              "  }\n",
              "\n",
              "  [theme=dark] .colab-df-quickchart {\n",
              "      --bg-color: #3B4455;\n",
              "      --fill-color: #D2E3FC;\n",
              "      --hover-bg-color: #434B5C;\n",
              "      --hover-fill-color: #FFFFFF;\n",
              "      --disabled-bg-color: #3B4455;\n",
              "      --disabled-fill-color: #666;\n",
              "  }\n",
              "\n",
              "  .colab-df-quickchart {\n",
              "    background-color: var(--bg-color);\n",
              "    border: none;\n",
              "    border-radius: 50%;\n",
              "    cursor: pointer;\n",
              "    display: none;\n",
              "    fill: var(--fill-color);\n",
              "    height: 32px;\n",
              "    padding: 0;\n",
              "    width: 32px;\n",
              "  }\n",
              "\n",
              "  .colab-df-quickchart:hover {\n",
              "    background-color: var(--hover-bg-color);\n",
              "    box-shadow: 0 1px 2px rgba(60, 64, 67, 0.3), 0 1px 3px 1px rgba(60, 64, 67, 0.15);\n",
              "    fill: var(--button-hover-fill-color);\n",
              "  }\n",
              "\n",
              "  .colab-df-quickchart-complete:disabled,\n",
              "  .colab-df-quickchart-complete:disabled:hover {\n",
              "    background-color: var(--disabled-bg-color);\n",
              "    fill: var(--disabled-fill-color);\n",
              "    box-shadow: none;\n",
              "  }\n",
              "\n",
              "  .colab-df-spinner {\n",
              "    border: 2px solid var(--fill-color);\n",
              "    border-color: transparent;\n",
              "    border-bottom-color: var(--fill-color);\n",
              "    animation:\n",
              "      spin 1s steps(1) infinite;\n",
              "  }\n",
              "\n",
              "  @keyframes spin {\n",
              "    0% {\n",
              "      border-color: transparent;\n",
              "      border-bottom-color: var(--fill-color);\n",
              "      border-left-color: var(--fill-color);\n",
              "    }\n",
              "    20% {\n",
              "      border-color: transparent;\n",
              "      border-left-color: var(--fill-color);\n",
              "      border-top-color: var(--fill-color);\n",
              "    }\n",
              "    30% {\n",
              "      border-color: transparent;\n",
              "      border-left-color: var(--fill-color);\n",
              "      border-top-color: var(--fill-color);\n",
              "      border-right-color: var(--fill-color);\n",
              "    }\n",
              "    40% {\n",
              "      border-color: transparent;\n",
              "      border-right-color: var(--fill-color);\n",
              "      border-top-color: var(--fill-color);\n",
              "    }\n",
              "    60% {\n",
              "      border-color: transparent;\n",
              "      border-right-color: var(--fill-color);\n",
              "    }\n",
              "    80% {\n",
              "      border-color: transparent;\n",
              "      border-right-color: var(--fill-color);\n",
              "      border-bottom-color: var(--fill-color);\n",
              "    }\n",
              "    90% {\n",
              "      border-color: transparent;\n",
              "      border-bottom-color: var(--fill-color);\n",
              "    }\n",
              "  }\n",
              "</style>\n",
              "\n",
              "  <script>\n",
              "    async function quickchart(key) {\n",
              "      const quickchartButtonEl =\n",
              "        document.querySelector('#' + key + ' button');\n",
              "      quickchartButtonEl.disabled = true;  // To prevent multiple clicks.\n",
              "      quickchartButtonEl.classList.add('colab-df-spinner');\n",
              "      try {\n",
              "        const charts = await google.colab.kernel.invokeFunction(\n",
              "            'suggestCharts', [key], {});\n",
              "      } catch (error) {\n",
              "        console.error('Error during call to suggestCharts:', error);\n",
              "      }\n",
              "      quickchartButtonEl.classList.remove('colab-df-spinner');\n",
              "      quickchartButtonEl.classList.add('colab-df-quickchart-complete');\n",
              "    }\n",
              "    (() => {\n",
              "      let quickchartButtonEl =\n",
              "        document.querySelector('#df-0db76b3e-2ffe-4860-b9f1-a636fbfb7dee button');\n",
              "      quickchartButtonEl.style.display =\n",
              "        google.colab.kernel.accessAllowed ? 'block' : 'none';\n",
              "    })();\n",
              "  </script>\n",
              "</div>\n",
              "    </div>\n",
              "  </div>\n"
            ]
          },
          "metadata": {},
          "execution_count": 11
        }
      ]
    },
    {
      "cell_type": "markdown",
      "source": [
        "## **2-b. 전체 데이터 중 80%는 학습용 데이터, 20%는 테스트용 데이터로 추출하고, 각각의 shape을 print해주세요.**"
      ],
      "metadata": {
        "id": "tOKlsQLD8HoD"
      }
    },
    {
      "cell_type": "code",
      "source": [
        "X_features = cancer_df.iloc[:, :-1]\n",
        "y_label = cancer_df.iloc[:, -1]\n",
        "\n",
        "X_train, X_test, y_train, y_test=train_test_split(X_features, y_label,\n",
        "                                         test_size=0.2, random_state=156 )\n",
        "\n",
        "print(X_train.shape , X_test.shape)"
      ],
      "metadata": {
        "id": "o6k1w2nf8SCm",
        "colab": {
          "base_uri": "https://localhost:8080/"
        },
        "outputId": "6383d5de-17e1-4fa9-b0fb-be969d5f9470"
      },
      "execution_count": 13,
      "outputs": [
        {
          "output_type": "stream",
          "name": "stdout",
          "text": [
            "(455, 30) (114, 30)\n"
          ]
        }
      ]
    },
    {
      "cell_type": "code",
      "source": [
        "dtrain = xgb.DMatrix(data = X_train, label = y_train)\n",
        "dtest = xgb.DMatrix(data = X_test, label = y_test)"
      ],
      "metadata": {
        "id": "9ZB87ux88a6w"
      },
      "execution_count": 14,
      "outputs": []
    },
    {
      "cell_type": "markdown",
      "source": [
        "##**2-c. 주어진 정보를 바탕으로 하이퍼 파라미터 목록을 완성해 주세요.**\n",
        "- 트리의 최대 깊이 : 3\n",
        "- 학습률 : 0.1\n",
        "- 반복 횟수 : 400"
      ],
      "metadata": {
        "id": "tzzNfY028f5b"
      }
    },
    {
      "cell_type": "code",
      "source": [
        "params = {\n",
        "          'max_depth':3,\n",
        "          'eta': 0.1,\n",
        "          'objective':'binary:logistic',\n",
        "          'eval_metric':'logloss'\n",
        "         }\n",
        "num_rounds = 400"
      ],
      "metadata": {
        "id": "BZIEP5CS8jSs"
      },
      "execution_count": 16,
      "outputs": []
    },
    {
      "cell_type": "markdown",
      "source": [
        "## **2-d. 하이퍼 파라미터를 `train( )` 함수의 파라미터로 전달해 주세요.**"
      ],
      "metadata": {
        "id": "Mzl7NufX8utk"
      }
    },
    {
      "cell_type": "code",
      "source": [
        "eval_list = [(dtrain,'train'),(dtest,'eval')]\n",
        "xgb_model = xgb.train(params = params , dtrain=dtrain , num_boost_round=num_rounds , \\\n",
        "                      early_stopping_rounds=50, evals=eval_list )"
      ],
      "metadata": {
        "id": "UInEOEh98t6z",
        "colab": {
          "base_uri": "https://localhost:8080/"
        },
        "outputId": "1cbfbb1f-f59e-4137-9e39-001b2a7b0273"
      },
      "execution_count": 19,
      "outputs": [
        {
          "output_type": "stream",
          "name": "stdout",
          "text": [
            "[0]\ttrain-logloss:0.60969\teval-logloss:0.61352\n",
            "[1]\ttrain-logloss:0.54080\teval-logloss:0.54784\n",
            "[2]\ttrain-logloss:0.48375\teval-logloss:0.49425\n",
            "[3]\ttrain-logloss:0.43446\teval-logloss:0.44799\n",
            "[4]\ttrain-logloss:0.39055\teval-logloss:0.40911\n",
            "[5]\ttrain-logloss:0.35415\teval-logloss:0.37498\n",
            "[6]\ttrain-logloss:0.32122\teval-logloss:0.34571\n",
            "[7]\ttrain-logloss:0.29259\teval-logloss:0.32053\n",
            "[8]\ttrain-logloss:0.26747\teval-logloss:0.29721\n",
            "[9]\ttrain-logloss:0.24515\teval-logloss:0.27799\n",
            "[10]\ttrain-logloss:0.22569\teval-logloss:0.26030\n",
            "[11]\ttrain-logloss:0.20794\teval-logloss:0.24604\n",
            "[12]\ttrain-logloss:0.19218\teval-logloss:0.23156\n",
            "[13]\ttrain-logloss:0.17792\teval-logloss:0.22005\n",
            "[14]\ttrain-logloss:0.16522\teval-logloss:0.20857\n",
            "[15]\ttrain-logloss:0.15362\teval-logloss:0.19999\n",
            "[16]\ttrain-logloss:0.14333\teval-logloss:0.19012\n",
            "[17]\ttrain-logloss:0.13398\teval-logloss:0.18182\n",
            "[18]\ttrain-logloss:0.12560\teval-logloss:0.17473\n",
            "[19]\ttrain-logloss:0.11729\teval-logloss:0.16766\n",
            "[20]\ttrain-logloss:0.10969\teval-logloss:0.15820\n",
            "[21]\ttrain-logloss:0.10297\teval-logloss:0.15472\n",
            "[22]\ttrain-logloss:0.09707\teval-logloss:0.14895\n",
            "[23]\ttrain-logloss:0.09143\teval-logloss:0.14331\n",
            "[24]\ttrain-logloss:0.08634\teval-logloss:0.13634\n",
            "[25]\ttrain-logloss:0.08131\teval-logloss:0.13278\n",
            "[26]\ttrain-logloss:0.07686\teval-logloss:0.12791\n",
            "[27]\ttrain-logloss:0.07284\teval-logloss:0.12526\n",
            "[28]\ttrain-logloss:0.06925\teval-logloss:0.11998\n",
            "[29]\ttrain-logloss:0.06555\teval-logloss:0.11641\n",
            "[30]\ttrain-logloss:0.06241\teval-logloss:0.11450\n",
            "[31]\ttrain-logloss:0.05959\teval-logloss:0.11257\n",
            "[32]\ttrain-logloss:0.05710\teval-logloss:0.11154\n",
            "[33]\ttrain-logloss:0.05441\teval-logloss:0.10868\n",
            "[34]\ttrain-logloss:0.05204\teval-logloss:0.10668\n",
            "[35]\ttrain-logloss:0.04975\teval-logloss:0.10421\n",
            "[36]\ttrain-logloss:0.04775\teval-logloss:0.10296\n",
            "[37]\ttrain-logloss:0.04585\teval-logloss:0.10058\n",
            "[38]\ttrain-logloss:0.04401\teval-logloss:0.09868\n",
            "[39]\ttrain-logloss:0.04226\teval-logloss:0.09644\n",
            "[40]\ttrain-logloss:0.04065\teval-logloss:0.09587\n",
            "[41]\ttrain-logloss:0.03913\teval-logloss:0.09424\n",
            "[42]\ttrain-logloss:0.03738\teval-logloss:0.09471\n",
            "[43]\ttrain-logloss:0.03611\teval-logloss:0.09427\n",
            "[44]\ttrain-logloss:0.03494\teval-logloss:0.09389\n",
            "[45]\ttrain-logloss:0.03365\teval-logloss:0.09418\n",
            "[46]\ttrain-logloss:0.03253\teval-logloss:0.09402\n",
            "[47]\ttrain-logloss:0.03148\teval-logloss:0.09236\n",
            "[48]\ttrain-logloss:0.03039\teval-logloss:0.09301\n",
            "[49]\ttrain-logloss:0.02947\teval-logloss:0.09127\n",
            "[50]\ttrain-logloss:0.02854\teval-logloss:0.09005\n",
            "[51]\ttrain-logloss:0.02753\teval-logloss:0.08961\n",
            "[52]\ttrain-logloss:0.02656\teval-logloss:0.08958\n",
            "[53]\ttrain-logloss:0.02568\teval-logloss:0.09070\n",
            "[54]\ttrain-logloss:0.02500\teval-logloss:0.08958\n",
            "[55]\ttrain-logloss:0.02430\teval-logloss:0.09036\n",
            "[56]\ttrain-logloss:0.02357\teval-logloss:0.09159\n",
            "[57]\ttrain-logloss:0.02296\teval-logloss:0.09153\n",
            "[58]\ttrain-logloss:0.02249\teval-logloss:0.09199\n",
            "[59]\ttrain-logloss:0.02185\teval-logloss:0.09195\n",
            "[60]\ttrain-logloss:0.02132\teval-logloss:0.09194\n",
            "[61]\ttrain-logloss:0.02079\teval-logloss:0.09146\n",
            "[62]\ttrain-logloss:0.02022\teval-logloss:0.09031\n",
            "[63]\ttrain-logloss:0.01970\teval-logloss:0.08941\n",
            "[64]\ttrain-logloss:0.01918\teval-logloss:0.08972\n",
            "[65]\ttrain-logloss:0.01872\teval-logloss:0.08974\n",
            "[66]\ttrain-logloss:0.01833\teval-logloss:0.08962\n",
            "[67]\ttrain-logloss:0.01787\teval-logloss:0.08873\n",
            "[68]\ttrain-logloss:0.01760\teval-logloss:0.08862\n",
            "[69]\ttrain-logloss:0.01724\teval-logloss:0.08974\n",
            "[70]\ttrain-logloss:0.01688\teval-logloss:0.08998\n",
            "[71]\ttrain-logloss:0.01664\teval-logloss:0.08978\n",
            "[72]\ttrain-logloss:0.01629\teval-logloss:0.08958\n",
            "[73]\ttrain-logloss:0.01598\teval-logloss:0.08953\n",
            "[74]\ttrain-logloss:0.01566\teval-logloss:0.08875\n",
            "[75]\ttrain-logloss:0.01539\teval-logloss:0.08860\n",
            "[76]\ttrain-logloss:0.01515\teval-logloss:0.08812\n",
            "[77]\ttrain-logloss:0.01488\teval-logloss:0.08840\n",
            "[78]\ttrain-logloss:0.01464\teval-logloss:0.08874\n",
            "[79]\ttrain-logloss:0.01449\teval-logloss:0.08815\n",
            "[80]\ttrain-logloss:0.01418\teval-logloss:0.08758\n",
            "[81]\ttrain-logloss:0.01400\teval-logloss:0.08741\n",
            "[82]\ttrain-logloss:0.01377\teval-logloss:0.08849\n",
            "[83]\ttrain-logloss:0.01357\teval-logloss:0.08857\n",
            "[84]\ttrain-logloss:0.01341\teval-logloss:0.08807\n",
            "[85]\ttrain-logloss:0.01325\teval-logloss:0.08764\n",
            "[86]\ttrain-logloss:0.01311\teval-logloss:0.08742\n",
            "[87]\ttrain-logloss:0.01293\teval-logloss:0.08761\n",
            "[88]\ttrain-logloss:0.01271\teval-logloss:0.08707\n",
            "[89]\ttrain-logloss:0.01254\teval-logloss:0.08727\n",
            "[90]\ttrain-logloss:0.01235\teval-logloss:0.08716\n",
            "[91]\ttrain-logloss:0.01223\teval-logloss:0.08696\n",
            "[92]\ttrain-logloss:0.01206\teval-logloss:0.08717\n",
            "[93]\ttrain-logloss:0.01193\teval-logloss:0.08707\n",
            "[94]\ttrain-logloss:0.01182\teval-logloss:0.08659\n",
            "[95]\ttrain-logloss:0.01165\teval-logloss:0.08612\n",
            "[96]\ttrain-logloss:0.01148\teval-logloss:0.08714\n",
            "[97]\ttrain-logloss:0.01136\teval-logloss:0.08677\n",
            "[98]\ttrain-logloss:0.01124\teval-logloss:0.08669\n",
            "[99]\ttrain-logloss:0.01113\teval-logloss:0.08655\n",
            "[100]\ttrain-logloss:0.01100\teval-logloss:0.08650\n",
            "[101]\ttrain-logloss:0.01085\teval-logloss:0.08641\n",
            "[102]\ttrain-logloss:0.01075\teval-logloss:0.08629\n",
            "[103]\ttrain-logloss:0.01064\teval-logloss:0.08626\n",
            "[104]\ttrain-logloss:0.01050\teval-logloss:0.08683\n",
            "[105]\ttrain-logloss:0.01040\teval-logloss:0.08677\n",
            "[106]\ttrain-logloss:0.01030\teval-logloss:0.08732\n",
            "[107]\ttrain-logloss:0.01020\teval-logloss:0.08730\n",
            "[108]\ttrain-logloss:0.01007\teval-logloss:0.08728\n",
            "[109]\ttrain-logloss:0.01000\teval-logloss:0.08730\n",
            "[110]\ttrain-logloss:0.00991\teval-logloss:0.08729\n",
            "[111]\ttrain-logloss:0.00980\teval-logloss:0.08800\n",
            "[112]\ttrain-logloss:0.00971\teval-logloss:0.08794\n",
            "[113]\ttrain-logloss:0.00963\teval-logloss:0.08784\n",
            "[114]\ttrain-logloss:0.00956\teval-logloss:0.08807\n",
            "[115]\ttrain-logloss:0.00948\teval-logloss:0.08765\n",
            "[116]\ttrain-logloss:0.00942\teval-logloss:0.08730\n",
            "[117]\ttrain-logloss:0.00931\teval-logloss:0.08780\n",
            "[118]\ttrain-logloss:0.00923\teval-logloss:0.08775\n",
            "[119]\ttrain-logloss:0.00915\teval-logloss:0.08768\n",
            "[120]\ttrain-logloss:0.00912\teval-logloss:0.08763\n",
            "[121]\ttrain-logloss:0.00902\teval-logloss:0.08757\n",
            "[122]\ttrain-logloss:0.00897\teval-logloss:0.08755\n",
            "[123]\ttrain-logloss:0.00890\teval-logloss:0.08716\n",
            "[124]\ttrain-logloss:0.00884\teval-logloss:0.08767\n",
            "[125]\ttrain-logloss:0.00880\teval-logloss:0.08774\n",
            "[126]\ttrain-logloss:0.00871\teval-logloss:0.08827\n",
            "[127]\ttrain-logloss:0.00865\teval-logloss:0.08831\n",
            "[128]\ttrain-logloss:0.00861\teval-logloss:0.08827\n",
            "[129]\ttrain-logloss:0.00856\teval-logloss:0.08789\n",
            "[130]\ttrain-logloss:0.00846\teval-logloss:0.08886\n",
            "[131]\ttrain-logloss:0.00842\teval-logloss:0.08868\n",
            "[132]\ttrain-logloss:0.00839\teval-logloss:0.08874\n",
            "[133]\ttrain-logloss:0.00830\teval-logloss:0.08922\n",
            "[134]\ttrain-logloss:0.00827\teval-logloss:0.08918\n",
            "[135]\ttrain-logloss:0.00822\teval-logloss:0.08882\n",
            "[136]\ttrain-logloss:0.00816\teval-logloss:0.08851\n",
            "[137]\ttrain-logloss:0.00808\teval-logloss:0.08848\n",
            "[138]\ttrain-logloss:0.00805\teval-logloss:0.08839\n",
            "[139]\ttrain-logloss:0.00797\teval-logloss:0.08915\n",
            "[140]\ttrain-logloss:0.00795\teval-logloss:0.08911\n",
            "[141]\ttrain-logloss:0.00790\teval-logloss:0.08876\n",
            "[142]\ttrain-logloss:0.00787\teval-logloss:0.08868\n",
            "[143]\ttrain-logloss:0.00785\teval-logloss:0.08839\n",
            "[144]\ttrain-logloss:0.00778\teval-logloss:0.08927\n",
            "[145]\ttrain-logloss:0.00775\teval-logloss:0.08924\n"
          ]
        }
      ]
    },
    {
      "cell_type": "code",
      "source": [
        "pred_probs = xgb_model.predict(dtest)\n",
        "print('predict( ) 수행 결과값을 10개만 표시, 예측 확률 값으로 표시됨')\n",
        "print(np.round(pred_probs[:10],3))\n",
        "\n",
        "# 예측 확률이 0.5 보다 크면 1 , 그렇지 않으면 0 으로 예측값 결정하여 List 객체인 preds에 저장\n",
        "preds = [ 1 if x > 0.5 else 0 for x in pred_probs ]\n",
        "print('예측값 10개만 표시:',preds[:10])"
      ],
      "metadata": {
        "id": "5UFWSwQp8yA8",
        "colab": {
          "base_uri": "https://localhost:8080/"
        },
        "outputId": "fbd55b89-8383-4275-ef8b-b665c81b4a8d"
      },
      "execution_count": 20,
      "outputs": [
        {
          "output_type": "stream",
          "name": "stdout",
          "text": [
            "predict( ) 수행 결과값을 10개만 표시, 예측 확률 값으로 표시됨\n",
            "[0.895 0.002 0.928 0.175 0.99  1.    0.999 0.999 0.996 0.   ]\n",
            "예측값 10개만 표시: [1, 0, 1, 0, 1, 1, 1, 1, 1, 0]\n"
          ]
        }
      ]
    },
    {
      "cell_type": "markdown",
      "source": [
        "##**2-e. `get_eval_clf()` 을 통해 예측 평가를 진행해주세요**"
      ],
      "metadata": {
        "id": "Mxk9DN5383sp"
      }
    },
    {
      "cell_type": "code",
      "source": [
        "from sklearn.metrics import confusion_matrix, accuracy_score\n",
        "from sklearn.metrics import precision_score, recall_score\n",
        "from sklearn.metrics import f1_score, roc_auc_score\n",
        "\n",
        "def get_clf_eval(y_test, pred=None, pred_proba=None):\n",
        "    confusion = confusion_matrix( y_test, pred)\n",
        "    accuracy = accuracy_score(y_test , pred)\n",
        "    precision = precision_score(y_test , pred)\n",
        "    recall = recall_score(y_test , pred)\n",
        "    f1 = f1_score(y_test,pred)\n",
        "    # ROC-AUC 추가\n",
        "    roc_auc = roc_auc_score(y_test, pred_proba)\n",
        "    print('오차 행렬')\n",
        "    print(confusion)\n",
        "    # ROC-AUC print 추가\n",
        "    print('정확도: {0:.4f}, 정밀도: {1:.4f}, 재현율: {2:.4f},\\\n",
        "    F1: {3:.4f}, AUC:{4:.4f}'.format(accuracy, precision, recall, f1, roc_auc))"
      ],
      "metadata": {
        "id": "xS27kc1780cD"
      },
      "execution_count": 21,
      "outputs": []
    },
    {
      "cell_type": "code",
      "source": [
        "get_clf_eval(y_test, preds, pred_probs)"
      ],
      "metadata": {
        "id": "v-foPK_M82hT",
        "colab": {
          "base_uri": "https://localhost:8080/"
        },
        "outputId": "b512d016-ffdc-4c29-84d2-ffc8c53bef94"
      },
      "execution_count": 22,
      "outputs": [
        {
          "output_type": "stream",
          "name": "stdout",
          "text": [
            "오차 행렬\n",
            "[[34  3]\n",
            " [ 1 76]]\n",
            "정확도: 0.9649, 정밀도: 0.9620, 재현율: 0.9870,    F1: 0.9744, AUC:0.9947\n"
          ]
        }
      ]
    },
    {
      "cell_type": "markdown",
      "source": [
        "# **3. LightGBM, HyperOpt**"
      ],
      "metadata": {
        "id": "uvg4b6ap9lXg"
      }
    },
    {
      "cell_type": "markdown",
      "source": [
        "## **3-1. LightGBM**"
      ],
      "metadata": {
        "id": "f8SBYxBJ-vhb"
      }
    },
    {
      "cell_type": "markdown",
      "source": [
        "### **3-1-a. ```water_potability.csv```를 불러와 df에 저장해 주세요.**"
      ],
      "metadata": {
        "id": "SnRlTMVaIdU6"
      }
    },
    {
      "cell_type": "code",
      "source": [
        "# 3.3.2 버전으로 LightGBM을 설치합니다(일부 파라미터가 4.0.0에선 작동하지 않아서 넣었습니다.)\n",
        "import lightgbm\n",
        "!pip uninstall lightgbm\n",
        "!pip install lightgbm==3.3.2\n",
        "print(lightgbm.__version__) # 버전 확인용"
      ],
      "metadata": {
        "id": "3cg-dfFE-nOx",
        "colab": {
          "base_uri": "https://localhost:8080/",
          "height": 456
        },
        "outputId": "05d748da-708f-4e9e-df29-59d72a1bb778"
      },
      "execution_count": 25,
      "outputs": [
        {
          "output_type": "stream",
          "name": "stdout",
          "text": [
            "Found existing installation: lightgbm 3.3.2\n",
            "Uninstalling lightgbm-3.3.2:\n",
            "  Would remove:\n",
            "    /usr/local/lib/python3.10/dist-packages/lightgbm-3.3.2.dist-info/*\n",
            "    /usr/local/lib/python3.10/dist-packages/lightgbm/*\n",
            "Proceed (Y/n)? Y\n",
            "  Successfully uninstalled lightgbm-3.3.2\n",
            "Collecting lightgbm==3.3.2\n",
            "  Using cached lightgbm-3.3.2-py3-none-manylinux1_x86_64.whl (2.0 MB)\n",
            "Requirement already satisfied: wheel in /usr/local/lib/python3.10/dist-packages (from lightgbm==3.3.2) (0.41.2)\n",
            "Requirement already satisfied: numpy in /usr/local/lib/python3.10/dist-packages (from lightgbm==3.3.2) (1.23.5)\n",
            "Requirement already satisfied: scipy in /usr/local/lib/python3.10/dist-packages (from lightgbm==3.3.2) (1.11.2)\n",
            "Requirement already satisfied: scikit-learn!=0.22.0 in /usr/local/lib/python3.10/dist-packages (from lightgbm==3.3.2) (1.2.2)\n",
            "Requirement already satisfied: joblib>=1.1.1 in /usr/local/lib/python3.10/dist-packages (from scikit-learn!=0.22.0->lightgbm==3.3.2) (1.3.2)\n",
            "Requirement already satisfied: threadpoolctl>=2.0.0 in /usr/local/lib/python3.10/dist-packages (from scikit-learn!=0.22.0->lightgbm==3.3.2) (3.2.0)\n",
            "Installing collected packages: lightgbm\n",
            "Successfully installed lightgbm-3.3.2\n"
          ]
        },
        {
          "output_type": "display_data",
          "data": {
            "application/vnd.colab-display-data+json": {
              "pip_warning": {
                "packages": [
                  "lightgbm"
                ]
              }
            }
          },
          "metadata": {}
        },
        {
          "output_type": "stream",
          "name": "stdout",
          "text": [
            "3.3.2\n"
          ]
        }
      ]
    },
    {
      "cell_type": "code",
      "source": [
        "import lightgbm\n",
        "from lightgbm import LGBMClassifier\n",
        "\n",
        "import pandas as pd\n",
        "import numpy as np"
      ],
      "metadata": {
        "id": "ZcpuDJ8GIoBD"
      },
      "execution_count": 44,
      "outputs": []
    },
    {
      "cell_type": "code",
      "source": [
        "df = pd.read_csv('/content/drive/MyDrive/Euron/3주차_복습/water_potability.csv')\n",
        "\n",
        "# 데이터 확인\n",
        "df.head()"
      ],
      "metadata": {
        "id": "z3XVGeXr-_kt",
        "colab": {
          "base_uri": "https://localhost:8080/",
          "height": 226
        },
        "outputId": "61f80041-e224-43fc-867c-f4eb6781663f"
      },
      "execution_count": 96,
      "outputs": [
        {
          "output_type": "execute_result",
          "data": {
            "text/plain": [
              "         ph    Hardness        Solids  Chloramines     Sulfate  Conductivity  \\\n",
              "0       NaN  204.890455  20791.318981     7.300212  368.516441    564.308654   \n",
              "1  3.716080  129.422921  18630.057858     6.635246         NaN    592.885359   \n",
              "2  8.099124  224.236259  19909.541732     9.275884         NaN    418.606213   \n",
              "3  8.316766  214.373394  22018.417441     8.059332  356.886136    363.266516   \n",
              "4  9.092223  181.101509  17978.986339     6.546600  310.135738    398.410813   \n",
              "\n",
              "   Organic_carbon  Trihalomethanes  Turbidity  Potability  \n",
              "0       10.379783        86.990970   2.963135           0  \n",
              "1       15.180013        56.329076   4.500656           0  \n",
              "2       16.868637        66.420093   3.055934           0  \n",
              "3       18.436524       100.341674   4.628771           0  \n",
              "4       11.558279        31.997993   4.075075           0  "
            ],
            "text/html": [
              "\n",
              "  <div id=\"df-b836dc10-1d16-41ea-9410-d61ae8a99f07\" class=\"colab-df-container\">\n",
              "    <div>\n",
              "<style scoped>\n",
              "    .dataframe tbody tr th:only-of-type {\n",
              "        vertical-align: middle;\n",
              "    }\n",
              "\n",
              "    .dataframe tbody tr th {\n",
              "        vertical-align: top;\n",
              "    }\n",
              "\n",
              "    .dataframe thead th {\n",
              "        text-align: right;\n",
              "    }\n",
              "</style>\n",
              "<table border=\"1\" class=\"dataframe\">\n",
              "  <thead>\n",
              "    <tr style=\"text-align: right;\">\n",
              "      <th></th>\n",
              "      <th>ph</th>\n",
              "      <th>Hardness</th>\n",
              "      <th>Solids</th>\n",
              "      <th>Chloramines</th>\n",
              "      <th>Sulfate</th>\n",
              "      <th>Conductivity</th>\n",
              "      <th>Organic_carbon</th>\n",
              "      <th>Trihalomethanes</th>\n",
              "      <th>Turbidity</th>\n",
              "      <th>Potability</th>\n",
              "    </tr>\n",
              "  </thead>\n",
              "  <tbody>\n",
              "    <tr>\n",
              "      <th>0</th>\n",
              "      <td>NaN</td>\n",
              "      <td>204.890455</td>\n",
              "      <td>20791.318981</td>\n",
              "      <td>7.300212</td>\n",
              "      <td>368.516441</td>\n",
              "      <td>564.308654</td>\n",
              "      <td>10.379783</td>\n",
              "      <td>86.990970</td>\n",
              "      <td>2.963135</td>\n",
              "      <td>0</td>\n",
              "    </tr>\n",
              "    <tr>\n",
              "      <th>1</th>\n",
              "      <td>3.716080</td>\n",
              "      <td>129.422921</td>\n",
              "      <td>18630.057858</td>\n",
              "      <td>6.635246</td>\n",
              "      <td>NaN</td>\n",
              "      <td>592.885359</td>\n",
              "      <td>15.180013</td>\n",
              "      <td>56.329076</td>\n",
              "      <td>4.500656</td>\n",
              "      <td>0</td>\n",
              "    </tr>\n",
              "    <tr>\n",
              "      <th>2</th>\n",
              "      <td>8.099124</td>\n",
              "      <td>224.236259</td>\n",
              "      <td>19909.541732</td>\n",
              "      <td>9.275884</td>\n",
              "      <td>NaN</td>\n",
              "      <td>418.606213</td>\n",
              "      <td>16.868637</td>\n",
              "      <td>66.420093</td>\n",
              "      <td>3.055934</td>\n",
              "      <td>0</td>\n",
              "    </tr>\n",
              "    <tr>\n",
              "      <th>3</th>\n",
              "      <td>8.316766</td>\n",
              "      <td>214.373394</td>\n",
              "      <td>22018.417441</td>\n",
              "      <td>8.059332</td>\n",
              "      <td>356.886136</td>\n",
              "      <td>363.266516</td>\n",
              "      <td>18.436524</td>\n",
              "      <td>100.341674</td>\n",
              "      <td>4.628771</td>\n",
              "      <td>0</td>\n",
              "    </tr>\n",
              "    <tr>\n",
              "      <th>4</th>\n",
              "      <td>9.092223</td>\n",
              "      <td>181.101509</td>\n",
              "      <td>17978.986339</td>\n",
              "      <td>6.546600</td>\n",
              "      <td>310.135738</td>\n",
              "      <td>398.410813</td>\n",
              "      <td>11.558279</td>\n",
              "      <td>31.997993</td>\n",
              "      <td>4.075075</td>\n",
              "      <td>0</td>\n",
              "    </tr>\n",
              "  </tbody>\n",
              "</table>\n",
              "</div>\n",
              "    <div class=\"colab-df-buttons\">\n",
              "\n",
              "  <div class=\"colab-df-container\">\n",
              "    <button class=\"colab-df-convert\" onclick=\"convertToInteractive('df-b836dc10-1d16-41ea-9410-d61ae8a99f07')\"\n",
              "            title=\"Convert this dataframe to an interactive table.\"\n",
              "            style=\"display:none;\">\n",
              "\n",
              "  <svg xmlns=\"http://www.w3.org/2000/svg\" height=\"24px\" viewBox=\"0 -960 960 960\">\n",
              "    <path d=\"M120-120v-720h720v720H120Zm60-500h600v-160H180v160Zm220 220h160v-160H400v160Zm0 220h160v-160H400v160ZM180-400h160v-160H180v160Zm440 0h160v-160H620v160ZM180-180h160v-160H180v160Zm440 0h160v-160H620v160Z\"/>\n",
              "  </svg>\n",
              "    </button>\n",
              "\n",
              "  <style>\n",
              "    .colab-df-container {\n",
              "      display:flex;\n",
              "      gap: 12px;\n",
              "    }\n",
              "\n",
              "    .colab-df-convert {\n",
              "      background-color: #E8F0FE;\n",
              "      border: none;\n",
              "      border-radius: 50%;\n",
              "      cursor: pointer;\n",
              "      display: none;\n",
              "      fill: #1967D2;\n",
              "      height: 32px;\n",
              "      padding: 0 0 0 0;\n",
              "      width: 32px;\n",
              "    }\n",
              "\n",
              "    .colab-df-convert:hover {\n",
              "      background-color: #E2EBFA;\n",
              "      box-shadow: 0px 1px 2px rgba(60, 64, 67, 0.3), 0px 1px 3px 1px rgba(60, 64, 67, 0.15);\n",
              "      fill: #174EA6;\n",
              "    }\n",
              "\n",
              "    .colab-df-buttons div {\n",
              "      margin-bottom: 4px;\n",
              "    }\n",
              "\n",
              "    [theme=dark] .colab-df-convert {\n",
              "      background-color: #3B4455;\n",
              "      fill: #D2E3FC;\n",
              "    }\n",
              "\n",
              "    [theme=dark] .colab-df-convert:hover {\n",
              "      background-color: #434B5C;\n",
              "      box-shadow: 0px 1px 3px 1px rgba(0, 0, 0, 0.15);\n",
              "      filter: drop-shadow(0px 1px 2px rgba(0, 0, 0, 0.3));\n",
              "      fill: #FFFFFF;\n",
              "    }\n",
              "  </style>\n",
              "\n",
              "    <script>\n",
              "      const buttonEl =\n",
              "        document.querySelector('#df-b836dc10-1d16-41ea-9410-d61ae8a99f07 button.colab-df-convert');\n",
              "      buttonEl.style.display =\n",
              "        google.colab.kernel.accessAllowed ? 'block' : 'none';\n",
              "\n",
              "      async function convertToInteractive(key) {\n",
              "        const element = document.querySelector('#df-b836dc10-1d16-41ea-9410-d61ae8a99f07');\n",
              "        const dataTable =\n",
              "          await google.colab.kernel.invokeFunction('convertToInteractive',\n",
              "                                                    [key], {});\n",
              "        if (!dataTable) return;\n",
              "\n",
              "        const docLinkHtml = 'Like what you see? Visit the ' +\n",
              "          '<a target=\"_blank\" href=https://colab.research.google.com/notebooks/data_table.ipynb>data table notebook</a>'\n",
              "          + ' to learn more about interactive tables.';\n",
              "        element.innerHTML = '';\n",
              "        dataTable['output_type'] = 'display_data';\n",
              "        await google.colab.output.renderOutput(dataTable, element);\n",
              "        const docLink = document.createElement('div');\n",
              "        docLink.innerHTML = docLinkHtml;\n",
              "        element.appendChild(docLink);\n",
              "      }\n",
              "    </script>\n",
              "  </div>\n",
              "\n",
              "\n",
              "<div id=\"df-aa2329cc-7b1e-4ca3-b8a4-919ce566363c\">\n",
              "  <button class=\"colab-df-quickchart\" onclick=\"quickchart('df-aa2329cc-7b1e-4ca3-b8a4-919ce566363c')\"\n",
              "            title=\"Suggest charts.\"\n",
              "            style=\"display:none;\">\n",
              "\n",
              "<svg xmlns=\"http://www.w3.org/2000/svg\" height=\"24px\"viewBox=\"0 0 24 24\"\n",
              "     width=\"24px\">\n",
              "    <g>\n",
              "        <path d=\"M19 3H5c-1.1 0-2 .9-2 2v14c0 1.1.9 2 2 2h14c1.1 0 2-.9 2-2V5c0-1.1-.9-2-2-2zM9 17H7v-7h2v7zm4 0h-2V7h2v10zm4 0h-2v-4h2v4z\"/>\n",
              "    </g>\n",
              "</svg>\n",
              "  </button>\n",
              "\n",
              "<style>\n",
              "  .colab-df-quickchart {\n",
              "      --bg-color: #E8F0FE;\n",
              "      --fill-color: #1967D2;\n",
              "      --hover-bg-color: #E2EBFA;\n",
              "      --hover-fill-color: #174EA6;\n",
              "      --disabled-fill-color: #AAA;\n",
              "      --disabled-bg-color: #DDD;\n",
              "  }\n",
              "\n",
              "  [theme=dark] .colab-df-quickchart {\n",
              "      --bg-color: #3B4455;\n",
              "      --fill-color: #D2E3FC;\n",
              "      --hover-bg-color: #434B5C;\n",
              "      --hover-fill-color: #FFFFFF;\n",
              "      --disabled-bg-color: #3B4455;\n",
              "      --disabled-fill-color: #666;\n",
              "  }\n",
              "\n",
              "  .colab-df-quickchart {\n",
              "    background-color: var(--bg-color);\n",
              "    border: none;\n",
              "    border-radius: 50%;\n",
              "    cursor: pointer;\n",
              "    display: none;\n",
              "    fill: var(--fill-color);\n",
              "    height: 32px;\n",
              "    padding: 0;\n",
              "    width: 32px;\n",
              "  }\n",
              "\n",
              "  .colab-df-quickchart:hover {\n",
              "    background-color: var(--hover-bg-color);\n",
              "    box-shadow: 0 1px 2px rgba(60, 64, 67, 0.3), 0 1px 3px 1px rgba(60, 64, 67, 0.15);\n",
              "    fill: var(--button-hover-fill-color);\n",
              "  }\n",
              "\n",
              "  .colab-df-quickchart-complete:disabled,\n",
              "  .colab-df-quickchart-complete:disabled:hover {\n",
              "    background-color: var(--disabled-bg-color);\n",
              "    fill: var(--disabled-fill-color);\n",
              "    box-shadow: none;\n",
              "  }\n",
              "\n",
              "  .colab-df-spinner {\n",
              "    border: 2px solid var(--fill-color);\n",
              "    border-color: transparent;\n",
              "    border-bottom-color: var(--fill-color);\n",
              "    animation:\n",
              "      spin 1s steps(1) infinite;\n",
              "  }\n",
              "\n",
              "  @keyframes spin {\n",
              "    0% {\n",
              "      border-color: transparent;\n",
              "      border-bottom-color: var(--fill-color);\n",
              "      border-left-color: var(--fill-color);\n",
              "    }\n",
              "    20% {\n",
              "      border-color: transparent;\n",
              "      border-left-color: var(--fill-color);\n",
              "      border-top-color: var(--fill-color);\n",
              "    }\n",
              "    30% {\n",
              "      border-color: transparent;\n",
              "      border-left-color: var(--fill-color);\n",
              "      border-top-color: var(--fill-color);\n",
              "      border-right-color: var(--fill-color);\n",
              "    }\n",
              "    40% {\n",
              "      border-color: transparent;\n",
              "      border-right-color: var(--fill-color);\n",
              "      border-top-color: var(--fill-color);\n",
              "    }\n",
              "    60% {\n",
              "      border-color: transparent;\n",
              "      border-right-color: var(--fill-color);\n",
              "    }\n",
              "    80% {\n",
              "      border-color: transparent;\n",
              "      border-right-color: var(--fill-color);\n",
              "      border-bottom-color: var(--fill-color);\n",
              "    }\n",
              "    90% {\n",
              "      border-color: transparent;\n",
              "      border-bottom-color: var(--fill-color);\n",
              "    }\n",
              "  }\n",
              "</style>\n",
              "\n",
              "  <script>\n",
              "    async function quickchart(key) {\n",
              "      const quickchartButtonEl =\n",
              "        document.querySelector('#' + key + ' button');\n",
              "      quickchartButtonEl.disabled = true;  // To prevent multiple clicks.\n",
              "      quickchartButtonEl.classList.add('colab-df-spinner');\n",
              "      try {\n",
              "        const charts = await google.colab.kernel.invokeFunction(\n",
              "            'suggestCharts', [key], {});\n",
              "      } catch (error) {\n",
              "        console.error('Error during call to suggestCharts:', error);\n",
              "      }\n",
              "      quickchartButtonEl.classList.remove('colab-df-spinner');\n",
              "      quickchartButtonEl.classList.add('colab-df-quickchart-complete');\n",
              "    }\n",
              "    (() => {\n",
              "      let quickchartButtonEl =\n",
              "        document.querySelector('#df-aa2329cc-7b1e-4ca3-b8a4-919ce566363c button');\n",
              "      quickchartButtonEl.style.display =\n",
              "        google.colab.kernel.accessAllowed ? 'block' : 'none';\n",
              "    })();\n",
              "  </script>\n",
              "</div>\n",
              "    </div>\n",
              "  </div>\n"
            ]
          },
          "metadata": {},
          "execution_count": 96
        }
      ]
    },
    {
      "cell_type": "markdown",
      "source": [
        "### **3-1-b. 이럴수가! 결측값이 있는 것 같네요! 아래의 코드를 실행시켜 어느 변수에 결측값이 있는지 확인하고, 결측값들은 모두 해당하는 변수의 평균으로 바꿔주세요.**"
      ],
      "metadata": {
        "id": "cXSVbYeI_DGz"
      }
    },
    {
      "cell_type": "code",
      "source": [
        "# 결측값이 있는 칼럼명 저장\n",
        "null_list = df.isnull().sum()\n",
        "null_list = list(null_list[null_list !=0].index)\n",
        "null_list"
      ],
      "metadata": {
        "id": "r4nKg2mF_FHE",
        "colab": {
          "base_uri": "https://localhost:8080/"
        },
        "outputId": "49b59ef7-9759-4c62-f502-10c2b6169b61"
      },
      "execution_count": 97,
      "outputs": [
        {
          "output_type": "execute_result",
          "data": {
            "text/plain": [
              "['ph', 'Sulfate', 'Trihalomethanes']"
            ]
          },
          "metadata": {},
          "execution_count": 97
        }
      ]
    },
    {
      "cell_type": "code",
      "source": [
        "# 결측값을 해당 칼럼의 평균값으로 대체해 주세요.\n",
        "# 힌트: 파머완 138페이지\n",
        "\n",
        "for i in null_list:\n",
        "  df[i].fillna(df[i].mean(), inplace=True)\n",
        "\n",
        "# 데이터 확인\n",
        "df.head()"
      ],
      "metadata": {
        "id": "I3Iq_aHA_XUi",
        "colab": {
          "base_uri": "https://localhost:8080/",
          "height": 226
        },
        "outputId": "f3ea84ea-5346-4dcb-ea08-fd83eb61a1ab"
      },
      "execution_count": 99,
      "outputs": [
        {
          "output_type": "execute_result",
          "data": {
            "text/plain": [
              "         ph    Hardness        Solids  Chloramines     Sulfate  Conductivity  \\\n",
              "0  7.080795  204.890455  20791.318981     7.300212  368.516441    564.308654   \n",
              "1  3.716080  129.422921  18630.057858     6.635246  333.775777    592.885359   \n",
              "2  8.099124  224.236259  19909.541732     9.275884  333.775777    418.606213   \n",
              "3  8.316766  214.373394  22018.417441     8.059332  356.886136    363.266516   \n",
              "4  9.092223  181.101509  17978.986339     6.546600  310.135738    398.410813   \n",
              "\n",
              "   Organic_carbon  Trihalomethanes  Turbidity  Potability  \n",
              "0       10.379783        86.990970   2.963135           0  \n",
              "1       15.180013        56.329076   4.500656           0  \n",
              "2       16.868637        66.420093   3.055934           0  \n",
              "3       18.436524       100.341674   4.628771           0  \n",
              "4       11.558279        31.997993   4.075075           0  "
            ],
            "text/html": [
              "\n",
              "  <div id=\"df-cc4e6e4e-794b-499c-b127-d6bfd9a5f940\" class=\"colab-df-container\">\n",
              "    <div>\n",
              "<style scoped>\n",
              "    .dataframe tbody tr th:only-of-type {\n",
              "        vertical-align: middle;\n",
              "    }\n",
              "\n",
              "    .dataframe tbody tr th {\n",
              "        vertical-align: top;\n",
              "    }\n",
              "\n",
              "    .dataframe thead th {\n",
              "        text-align: right;\n",
              "    }\n",
              "</style>\n",
              "<table border=\"1\" class=\"dataframe\">\n",
              "  <thead>\n",
              "    <tr style=\"text-align: right;\">\n",
              "      <th></th>\n",
              "      <th>ph</th>\n",
              "      <th>Hardness</th>\n",
              "      <th>Solids</th>\n",
              "      <th>Chloramines</th>\n",
              "      <th>Sulfate</th>\n",
              "      <th>Conductivity</th>\n",
              "      <th>Organic_carbon</th>\n",
              "      <th>Trihalomethanes</th>\n",
              "      <th>Turbidity</th>\n",
              "      <th>Potability</th>\n",
              "    </tr>\n",
              "  </thead>\n",
              "  <tbody>\n",
              "    <tr>\n",
              "      <th>0</th>\n",
              "      <td>7.080795</td>\n",
              "      <td>204.890455</td>\n",
              "      <td>20791.318981</td>\n",
              "      <td>7.300212</td>\n",
              "      <td>368.516441</td>\n",
              "      <td>564.308654</td>\n",
              "      <td>10.379783</td>\n",
              "      <td>86.990970</td>\n",
              "      <td>2.963135</td>\n",
              "      <td>0</td>\n",
              "    </tr>\n",
              "    <tr>\n",
              "      <th>1</th>\n",
              "      <td>3.716080</td>\n",
              "      <td>129.422921</td>\n",
              "      <td>18630.057858</td>\n",
              "      <td>6.635246</td>\n",
              "      <td>333.775777</td>\n",
              "      <td>592.885359</td>\n",
              "      <td>15.180013</td>\n",
              "      <td>56.329076</td>\n",
              "      <td>4.500656</td>\n",
              "      <td>0</td>\n",
              "    </tr>\n",
              "    <tr>\n",
              "      <th>2</th>\n",
              "      <td>8.099124</td>\n",
              "      <td>224.236259</td>\n",
              "      <td>19909.541732</td>\n",
              "      <td>9.275884</td>\n",
              "      <td>333.775777</td>\n",
              "      <td>418.606213</td>\n",
              "      <td>16.868637</td>\n",
              "      <td>66.420093</td>\n",
              "      <td>3.055934</td>\n",
              "      <td>0</td>\n",
              "    </tr>\n",
              "    <tr>\n",
              "      <th>3</th>\n",
              "      <td>8.316766</td>\n",
              "      <td>214.373394</td>\n",
              "      <td>22018.417441</td>\n",
              "      <td>8.059332</td>\n",
              "      <td>356.886136</td>\n",
              "      <td>363.266516</td>\n",
              "      <td>18.436524</td>\n",
              "      <td>100.341674</td>\n",
              "      <td>4.628771</td>\n",
              "      <td>0</td>\n",
              "    </tr>\n",
              "    <tr>\n",
              "      <th>4</th>\n",
              "      <td>9.092223</td>\n",
              "      <td>181.101509</td>\n",
              "      <td>17978.986339</td>\n",
              "      <td>6.546600</td>\n",
              "      <td>310.135738</td>\n",
              "      <td>398.410813</td>\n",
              "      <td>11.558279</td>\n",
              "      <td>31.997993</td>\n",
              "      <td>4.075075</td>\n",
              "      <td>0</td>\n",
              "    </tr>\n",
              "  </tbody>\n",
              "</table>\n",
              "</div>\n",
              "    <div class=\"colab-df-buttons\">\n",
              "\n",
              "  <div class=\"colab-df-container\">\n",
              "    <button class=\"colab-df-convert\" onclick=\"convertToInteractive('df-cc4e6e4e-794b-499c-b127-d6bfd9a5f940')\"\n",
              "            title=\"Convert this dataframe to an interactive table.\"\n",
              "            style=\"display:none;\">\n",
              "\n",
              "  <svg xmlns=\"http://www.w3.org/2000/svg\" height=\"24px\" viewBox=\"0 -960 960 960\">\n",
              "    <path d=\"M120-120v-720h720v720H120Zm60-500h600v-160H180v160Zm220 220h160v-160H400v160Zm0 220h160v-160H400v160ZM180-400h160v-160H180v160Zm440 0h160v-160H620v160ZM180-180h160v-160H180v160Zm440 0h160v-160H620v160Z\"/>\n",
              "  </svg>\n",
              "    </button>\n",
              "\n",
              "  <style>\n",
              "    .colab-df-container {\n",
              "      display:flex;\n",
              "      gap: 12px;\n",
              "    }\n",
              "\n",
              "    .colab-df-convert {\n",
              "      background-color: #E8F0FE;\n",
              "      border: none;\n",
              "      border-radius: 50%;\n",
              "      cursor: pointer;\n",
              "      display: none;\n",
              "      fill: #1967D2;\n",
              "      height: 32px;\n",
              "      padding: 0 0 0 0;\n",
              "      width: 32px;\n",
              "    }\n",
              "\n",
              "    .colab-df-convert:hover {\n",
              "      background-color: #E2EBFA;\n",
              "      box-shadow: 0px 1px 2px rgba(60, 64, 67, 0.3), 0px 1px 3px 1px rgba(60, 64, 67, 0.15);\n",
              "      fill: #174EA6;\n",
              "    }\n",
              "\n",
              "    .colab-df-buttons div {\n",
              "      margin-bottom: 4px;\n",
              "    }\n",
              "\n",
              "    [theme=dark] .colab-df-convert {\n",
              "      background-color: #3B4455;\n",
              "      fill: #D2E3FC;\n",
              "    }\n",
              "\n",
              "    [theme=dark] .colab-df-convert:hover {\n",
              "      background-color: #434B5C;\n",
              "      box-shadow: 0px 1px 3px 1px rgba(0, 0, 0, 0.15);\n",
              "      filter: drop-shadow(0px 1px 2px rgba(0, 0, 0, 0.3));\n",
              "      fill: #FFFFFF;\n",
              "    }\n",
              "  </style>\n",
              "\n",
              "    <script>\n",
              "      const buttonEl =\n",
              "        document.querySelector('#df-cc4e6e4e-794b-499c-b127-d6bfd9a5f940 button.colab-df-convert');\n",
              "      buttonEl.style.display =\n",
              "        google.colab.kernel.accessAllowed ? 'block' : 'none';\n",
              "\n",
              "      async function convertToInteractive(key) {\n",
              "        const element = document.querySelector('#df-cc4e6e4e-794b-499c-b127-d6bfd9a5f940');\n",
              "        const dataTable =\n",
              "          await google.colab.kernel.invokeFunction('convertToInteractive',\n",
              "                                                    [key], {});\n",
              "        if (!dataTable) return;\n",
              "\n",
              "        const docLinkHtml = 'Like what you see? Visit the ' +\n",
              "          '<a target=\"_blank\" href=https://colab.research.google.com/notebooks/data_table.ipynb>data table notebook</a>'\n",
              "          + ' to learn more about interactive tables.';\n",
              "        element.innerHTML = '';\n",
              "        dataTable['output_type'] = 'display_data';\n",
              "        await google.colab.output.renderOutput(dataTable, element);\n",
              "        const docLink = document.createElement('div');\n",
              "        docLink.innerHTML = docLinkHtml;\n",
              "        element.appendChild(docLink);\n",
              "      }\n",
              "    </script>\n",
              "  </div>\n",
              "\n",
              "\n",
              "<div id=\"df-c015a7aa-d4b5-481d-98e2-f7cd2a894c00\">\n",
              "  <button class=\"colab-df-quickchart\" onclick=\"quickchart('df-c015a7aa-d4b5-481d-98e2-f7cd2a894c00')\"\n",
              "            title=\"Suggest charts.\"\n",
              "            style=\"display:none;\">\n",
              "\n",
              "<svg xmlns=\"http://www.w3.org/2000/svg\" height=\"24px\"viewBox=\"0 0 24 24\"\n",
              "     width=\"24px\">\n",
              "    <g>\n",
              "        <path d=\"M19 3H5c-1.1 0-2 .9-2 2v14c0 1.1.9 2 2 2h14c1.1 0 2-.9 2-2V5c0-1.1-.9-2-2-2zM9 17H7v-7h2v7zm4 0h-2V7h2v10zm4 0h-2v-4h2v4z\"/>\n",
              "    </g>\n",
              "</svg>\n",
              "  </button>\n",
              "\n",
              "<style>\n",
              "  .colab-df-quickchart {\n",
              "      --bg-color: #E8F0FE;\n",
              "      --fill-color: #1967D2;\n",
              "      --hover-bg-color: #E2EBFA;\n",
              "      --hover-fill-color: #174EA6;\n",
              "      --disabled-fill-color: #AAA;\n",
              "      --disabled-bg-color: #DDD;\n",
              "  }\n",
              "\n",
              "  [theme=dark] .colab-df-quickchart {\n",
              "      --bg-color: #3B4455;\n",
              "      --fill-color: #D2E3FC;\n",
              "      --hover-bg-color: #434B5C;\n",
              "      --hover-fill-color: #FFFFFF;\n",
              "      --disabled-bg-color: #3B4455;\n",
              "      --disabled-fill-color: #666;\n",
              "  }\n",
              "\n",
              "  .colab-df-quickchart {\n",
              "    background-color: var(--bg-color);\n",
              "    border: none;\n",
              "    border-radius: 50%;\n",
              "    cursor: pointer;\n",
              "    display: none;\n",
              "    fill: var(--fill-color);\n",
              "    height: 32px;\n",
              "    padding: 0;\n",
              "    width: 32px;\n",
              "  }\n",
              "\n",
              "  .colab-df-quickchart:hover {\n",
              "    background-color: var(--hover-bg-color);\n",
              "    box-shadow: 0 1px 2px rgba(60, 64, 67, 0.3), 0 1px 3px 1px rgba(60, 64, 67, 0.15);\n",
              "    fill: var(--button-hover-fill-color);\n",
              "  }\n",
              "\n",
              "  .colab-df-quickchart-complete:disabled,\n",
              "  .colab-df-quickchart-complete:disabled:hover {\n",
              "    background-color: var(--disabled-bg-color);\n",
              "    fill: var(--disabled-fill-color);\n",
              "    box-shadow: none;\n",
              "  }\n",
              "\n",
              "  .colab-df-spinner {\n",
              "    border: 2px solid var(--fill-color);\n",
              "    border-color: transparent;\n",
              "    border-bottom-color: var(--fill-color);\n",
              "    animation:\n",
              "      spin 1s steps(1) infinite;\n",
              "  }\n",
              "\n",
              "  @keyframes spin {\n",
              "    0% {\n",
              "      border-color: transparent;\n",
              "      border-bottom-color: var(--fill-color);\n",
              "      border-left-color: var(--fill-color);\n",
              "    }\n",
              "    20% {\n",
              "      border-color: transparent;\n",
              "      border-left-color: var(--fill-color);\n",
              "      border-top-color: var(--fill-color);\n",
              "    }\n",
              "    30% {\n",
              "      border-color: transparent;\n",
              "      border-left-color: var(--fill-color);\n",
              "      border-top-color: var(--fill-color);\n",
              "      border-right-color: var(--fill-color);\n",
              "    }\n",
              "    40% {\n",
              "      border-color: transparent;\n",
              "      border-right-color: var(--fill-color);\n",
              "      border-top-color: var(--fill-color);\n",
              "    }\n",
              "    60% {\n",
              "      border-color: transparent;\n",
              "      border-right-color: var(--fill-color);\n",
              "    }\n",
              "    80% {\n",
              "      border-color: transparent;\n",
              "      border-right-color: var(--fill-color);\n",
              "      border-bottom-color: var(--fill-color);\n",
              "    }\n",
              "    90% {\n",
              "      border-color: transparent;\n",
              "      border-bottom-color: var(--fill-color);\n",
              "    }\n",
              "  }\n",
              "</style>\n",
              "\n",
              "  <script>\n",
              "    async function quickchart(key) {\n",
              "      const quickchartButtonEl =\n",
              "        document.querySelector('#' + key + ' button');\n",
              "      quickchartButtonEl.disabled = true;  // To prevent multiple clicks.\n",
              "      quickchartButtonEl.classList.add('colab-df-spinner');\n",
              "      try {\n",
              "        const charts = await google.colab.kernel.invokeFunction(\n",
              "            'suggestCharts', [key], {});\n",
              "      } catch (error) {\n",
              "        console.error('Error during call to suggestCharts:', error);\n",
              "      }\n",
              "      quickchartButtonEl.classList.remove('colab-df-spinner');\n",
              "      quickchartButtonEl.classList.add('colab-df-quickchart-complete');\n",
              "    }\n",
              "    (() => {\n",
              "      let quickchartButtonEl =\n",
              "        document.querySelector('#df-c015a7aa-d4b5-481d-98e2-f7cd2a894c00 button');\n",
              "      quickchartButtonEl.style.display =\n",
              "        google.colab.kernel.accessAllowed ? 'block' : 'none';\n",
              "    })();\n",
              "  </script>\n",
              "</div>\n",
              "    </div>\n",
              "  </div>\n"
            ]
          },
          "metadata": {},
          "execution_count": 99
        }
      ]
    },
    {
      "cell_type": "markdown",
      "source": [
        "### **3-1-c. df를 학습용 데이터와 테스트용 데이터로 분리해 주세요.**  \n",
        "(random_state = 42, 학습용 데이터가 전체의 **80%**를 차지하도록 설정)"
      ],
      "metadata": {
        "id": "OyXaOw0X_aXZ"
      }
    },
    {
      "cell_type": "code",
      "source": [
        "from sklearn.model_selection import train_test_split\n",
        "\n",
        "X = df.iloc[:, :-1]\n",
        "y = df.iloc[:, -1]\n",
        "\n",
        "X_train, X_test, y_train, y_test = train_test_split(X_features, y_label, test_size=0.2, random_state=42 )"
      ],
      "metadata": {
        "id": "oWbfGB4c_Znx"
      },
      "execution_count": 101,
      "outputs": []
    },
    {
      "cell_type": "markdown",
      "source": [
        "### **3-1-d. 위에서 만든 X_train, y_train을 다시 나누어 90%는 학습용으로, 10%는 검증용 데이터로 분리해 주세요.**  \n",
        "(random_state = 42)"
      ],
      "metadata": {
        "id": "hW1x8hQI_krM"
      }
    },
    {
      "cell_type": "code",
      "source": [
        "X_tr, X_val, y_tr, y_val = train_test_split(X_train, y_train, test_size=0.1, random_state=42 )"
      ],
      "metadata": {
        "id": "QPuPw7bb_qF8"
      },
      "execution_count": 102,
      "outputs": []
    },
    {
      "cell_type": "markdown",
      "source": [
        "### **3-1-e. 다음 조건에 따라 LGBMClassifier을 생성한 후 ```lgbm_wrapper```에 저장해 주세요.**\n",
        "- 반복 수행할 트리 개수: 800개\n",
        "- 학습률: 0.02"
      ],
      "metadata": {
        "id": "hEyCPkHZ_tYC"
      }
    },
    {
      "cell_type": "code",
      "source": [
        "lgbm_wrapper = LGBMClassifier(n_estimators=800, learning_rate=0.02)"
      ],
      "metadata": {
        "id": "4gPkmQo3_zlS"
      },
      "execution_count": 103,
      "outputs": []
    },
    {
      "cell_type": "markdown",
      "source": [
        "### **3-1-f. `lgbm_wrapper`가 100번 학습을 반복해도 성능이 향상되지 않으면 수행을 멈추도록 설정해서 학습시키세요.**\n",
        "- 평가 지표: logloss  \n",
        "\n",
        "(❓❓❓❓❓로 표시된 빈칸을 채워주세요!)"
      ],
      "metadata": {
        "id": "unGn5aOi_2LG"
      }
    },
    {
      "cell_type": "code",
      "source": [
        "evals = [(X_tr, y_tr), (X_val, y_val)]\n",
        "lgbm_wrapper.fit(X_tr, y_tr, early_stopping_rounds=100, eval_metric=\"logloss\", eval_set=evals, verbose=True)"
      ],
      "metadata": {
        "id": "89l5qcaB_6QV",
        "colab": {
          "base_uri": "https://localhost:8080/",
          "height": 1000
        },
        "outputId": "15f07ab9-dc69-41b2-aa48-4b628137193a"
      },
      "execution_count": 104,
      "outputs": [
        {
          "output_type": "stream",
          "name": "stdout",
          "text": [
            "[1]\ttraining's binary_logloss: 0.644493\tvalid_1's binary_logloss: 0.63167\n",
            "[2]\ttraining's binary_logloss: 0.628617\tvalid_1's binary_logloss: 0.616888\n",
            "[3]\ttraining's binary_logloss: 0.614168\tvalid_1's binary_logloss: 0.601496\n",
            "[4]\ttraining's binary_logloss: 0.600045\tvalid_1's binary_logloss: 0.587345\n",
            "[5]\ttraining's binary_logloss: 0.585934\tvalid_1's binary_logloss: 0.5737\n",
            "[6]\ttraining's binary_logloss: 0.573121\tvalid_1's binary_logloss: 0.560081\n",
            "[7]\ttraining's binary_logloss: 0.560546\tvalid_1's binary_logloss: 0.547822\n",
            "[8]\ttraining's binary_logloss: 0.548681\tvalid_1's binary_logloss: 0.535223\n",
            "[9]\ttraining's binary_logloss: 0.537012\tvalid_1's binary_logloss: 0.523646\n",
            "[10]\ttraining's binary_logloss: 0.525185\tvalid_1's binary_logloss: 0.512356\n",
            "[11]\ttraining's binary_logloss: 0.514322\tvalid_1's binary_logloss: 0.501827\n",
            "[12]\ttraining's binary_logloss: 0.503281\tvalid_1's binary_logloss: 0.491327\n",
            "[13]\ttraining's binary_logloss: 0.493217\tvalid_1's binary_logloss: 0.482419\n",
            "[14]\ttraining's binary_logloss: 0.482886\tvalid_1's binary_logloss: 0.472755\n",
            "[15]\ttraining's binary_logloss: 0.473452\tvalid_1's binary_logloss: 0.462507\n",
            "[16]\ttraining's binary_logloss: 0.464224\tvalid_1's binary_logloss: 0.454216\n",
            "[17]\ttraining's binary_logloss: 0.454809\tvalid_1's binary_logloss: 0.445267\n",
            "[18]\ttraining's binary_logloss: 0.44607\tvalid_1's binary_logloss: 0.43652\n",
            "[19]\ttraining's binary_logloss: 0.437223\tvalid_1's binary_logloss: 0.428168\n",
            "[20]\ttraining's binary_logloss: 0.429029\tvalid_1's binary_logloss: 0.420806\n",
            "[21]\ttraining's binary_logloss: 0.4207\tvalid_1's binary_logloss: 0.412965\n",
            "[22]\ttraining's binary_logloss: 0.413059\tvalid_1's binary_logloss: 0.404721\n",
            "[23]\ttraining's binary_logloss: 0.405565\tvalid_1's binary_logloss: 0.398033\n",
            "[24]\ttraining's binary_logloss: 0.397646\tvalid_1's binary_logloss: 0.390699\n",
            "[25]\ttraining's binary_logloss: 0.390655\tvalid_1's binary_logloss: 0.383158\n",
            "[26]\ttraining's binary_logloss: 0.383164\tvalid_1's binary_logloss: 0.376184\n",
            "[27]\ttraining's binary_logloss: 0.376478\tvalid_1's binary_logloss: 0.370271\n",
            "[28]\ttraining's binary_logloss: 0.369457\tvalid_1's binary_logloss: 0.364054\n",
            "[29]\ttraining's binary_logloss: 0.36255\tvalid_1's binary_logloss: 0.357729\n",
            "[30]\ttraining's binary_logloss: 0.356336\tvalid_1's binary_logloss: 0.351564\n",
            "[31]\ttraining's binary_logloss: 0.349782\tvalid_1's binary_logloss: 0.345697\n",
            "[32]\ttraining's binary_logloss: 0.343461\tvalid_1's binary_logloss: 0.340171\n",
            "[33]\ttraining's binary_logloss: 0.337841\tvalid_1's binary_logloss: 0.334113\n",
            "[34]\ttraining's binary_logloss: 0.331813\tvalid_1's binary_logloss: 0.328819\n",
            "[35]\ttraining's binary_logloss: 0.326214\tvalid_1's binary_logloss: 0.323614\n",
            "[36]\ttraining's binary_logloss: 0.32095\tvalid_1's binary_logloss: 0.319035\n",
            "[37]\ttraining's binary_logloss: 0.315427\tvalid_1's binary_logloss: 0.314077\n",
            "[38]\ttraining's binary_logloss: 0.309917\tvalid_1's binary_logloss: 0.309294\n",
            "[39]\ttraining's binary_logloss: 0.304719\tvalid_1's binary_logloss: 0.304665\n",
            "[40]\ttraining's binary_logloss: 0.300007\tvalid_1's binary_logloss: 0.299604\n",
            "[41]\ttraining's binary_logloss: 0.29506\tvalid_1's binary_logloss: 0.295247\n",
            "[42]\ttraining's binary_logloss: 0.290523\tvalid_1's binary_logloss: 0.29133\n",
            "[43]\ttraining's binary_logloss: 0.285915\tvalid_1's binary_logloss: 0.287046\n",
            "[44]\ttraining's binary_logloss: 0.281243\tvalid_1's binary_logloss: 0.282833\n",
            "[45]\ttraining's binary_logloss: 0.277068\tvalid_1's binary_logloss: 0.278373\n",
            "[46]\ttraining's binary_logloss: 0.272677\tvalid_1's binary_logloss: 0.274554\n",
            "[47]\ttraining's binary_logloss: 0.2687\tvalid_1's binary_logloss: 0.270357\n",
            "[48]\ttraining's binary_logloss: 0.26461\tvalid_1's binary_logloss: 0.266545\n",
            "[49]\ttraining's binary_logloss: 0.260754\tvalid_1's binary_logloss: 0.263295\n",
            "[50]\ttraining's binary_logloss: 0.256772\tvalid_1's binary_logloss: 0.26005\n",
            "[51]\ttraining's binary_logloss: 0.252653\tvalid_1's binary_logloss: 0.256495\n",
            "[52]\ttraining's binary_logloss: 0.24892\tvalid_1's binary_logloss: 0.253137\n",
            "[53]\ttraining's binary_logloss: 0.245197\tvalid_1's binary_logloss: 0.25015\n",
            "[54]\ttraining's binary_logloss: 0.241798\tvalid_1's binary_logloss: 0.246588\n",
            "[55]\ttraining's binary_logloss: 0.238242\tvalid_1's binary_logloss: 0.24375\n",
            "[56]\ttraining's binary_logloss: 0.234776\tvalid_1's binary_logloss: 0.241038\n",
            "[57]\ttraining's binary_logloss: 0.231449\tvalid_1's binary_logloss: 0.23794\n",
            "[58]\ttraining's binary_logloss: 0.228303\tvalid_1's binary_logloss: 0.235381\n",
            "[59]\ttraining's binary_logloss: 0.225118\tvalid_1's binary_logloss: 0.232482\n",
            "[60]\ttraining's binary_logloss: 0.221757\tvalid_1's binary_logloss: 0.229887\n",
            "[61]\ttraining's binary_logloss: 0.218226\tvalid_1's binary_logloss: 0.227173\n",
            "[62]\ttraining's binary_logloss: 0.215315\tvalid_1's binary_logloss: 0.22488\n",
            "[63]\ttraining's binary_logloss: 0.211935\tvalid_1's binary_logloss: 0.222289\n",
            "[64]\ttraining's binary_logloss: 0.208931\tvalid_1's binary_logloss: 0.220211\n",
            "[65]\ttraining's binary_logloss: 0.20576\tvalid_1's binary_logloss: 0.217921\n",
            "[66]\ttraining's binary_logloss: 0.202456\tvalid_1's binary_logloss: 0.214545\n",
            "[67]\ttraining's binary_logloss: 0.199237\tvalid_1's binary_logloss: 0.211253\n",
            "[68]\ttraining's binary_logloss: 0.196623\tvalid_1's binary_logloss: 0.208636\n",
            "[69]\ttraining's binary_logloss: 0.193934\tvalid_1's binary_logloss: 0.20659\n",
            "[70]\ttraining's binary_logloss: 0.191059\tvalid_1's binary_logloss: 0.204471\n",
            "[71]\ttraining's binary_logloss: 0.188484\tvalid_1's binary_logloss: 0.202526\n",
            "[72]\ttraining's binary_logloss: 0.185565\tvalid_1's binary_logloss: 0.199517\n",
            "[73]\ttraining's binary_logloss: 0.182888\tvalid_1's binary_logloss: 0.197943\n",
            "[74]\ttraining's binary_logloss: 0.180014\tvalid_1's binary_logloss: 0.195071\n",
            "[75]\ttraining's binary_logloss: 0.177178\tvalid_1's binary_logloss: 0.192884\n",
            "[76]\ttraining's binary_logloss: 0.174438\tvalid_1's binary_logloss: 0.190147\n",
            "[77]\ttraining's binary_logloss: 0.171766\tvalid_1's binary_logloss: 0.187478\n",
            "[78]\ttraining's binary_logloss: 0.169078\tvalid_1's binary_logloss: 0.185562\n",
            "[79]\ttraining's binary_logloss: 0.166934\tvalid_1's binary_logloss: 0.184097\n",
            "[80]\ttraining's binary_logloss: 0.164783\tvalid_1's binary_logloss: 0.182427\n",
            "[81]\ttraining's binary_logloss: 0.162668\tvalid_1's binary_logloss: 0.181045\n",
            "[82]\ttraining's binary_logloss: 0.160244\tvalid_1's binary_logloss: 0.178597\n",
            "[83]\ttraining's binary_logloss: 0.15788\tvalid_1's binary_logloss: 0.176209\n",
            "[84]\ttraining's binary_logloss: 0.155492\tvalid_1's binary_logloss: 0.174528\n",
            "[85]\ttraining's binary_logloss: 0.153578\tvalid_1's binary_logloss: 0.173262\n",
            "[86]\ttraining's binary_logloss: 0.151641\tvalid_1's binary_logloss: 0.171967\n",
            "[87]\ttraining's binary_logloss: 0.149668\tvalid_1's binary_logloss: 0.170471\n",
            "[88]\ttraining's binary_logloss: 0.147522\tvalid_1's binary_logloss: 0.168291\n",
            "[89]\ttraining's binary_logloss: 0.145359\tvalid_1's binary_logloss: 0.166841\n",
            "[90]\ttraining's binary_logloss: 0.14331\tvalid_1's binary_logloss: 0.164756\n",
            "[91]\ttraining's binary_logloss: 0.141423\tvalid_1's binary_logloss: 0.163366\n",
            "[92]\ttraining's binary_logloss: 0.139701\tvalid_1's binary_logloss: 0.162237\n",
            "[93]\ttraining's binary_logloss: 0.13793\tvalid_1's binary_logloss: 0.161005\n",
            "[94]\ttraining's binary_logloss: 0.136016\tvalid_1's binary_logloss: 0.158848\n",
            "[95]\ttraining's binary_logloss: 0.134099\tvalid_1's binary_logloss: 0.157512\n",
            "[96]\ttraining's binary_logloss: 0.132415\tvalid_1's binary_logloss: 0.155926\n",
            "[97]\ttraining's binary_logloss: 0.130466\tvalid_1's binary_logloss: 0.154531\n",
            "[98]\ttraining's binary_logloss: 0.128747\tvalid_1's binary_logloss: 0.1533\n",
            "[99]\ttraining's binary_logloss: 0.126872\tvalid_1's binary_logloss: 0.151972\n",
            "[100]\ttraining's binary_logloss: 0.125087\tvalid_1's binary_logloss: 0.150616\n",
            "[101]\ttraining's binary_logloss: 0.123396\tvalid_1's binary_logloss: 0.148669\n",
            "[102]\ttraining's binary_logloss: 0.121665\tvalid_1's binary_logloss: 0.147196\n",
            "[103]\ttraining's binary_logloss: 0.120041\tvalid_1's binary_logloss: 0.145315\n",
            "[104]\ttraining's binary_logloss: 0.118457\tvalid_1's binary_logloss: 0.144199\n",
            "[105]\ttraining's binary_logloss: 0.116727\tvalid_1's binary_logloss: 0.142964\n",
            "[106]\ttraining's binary_logloss: 0.115124\tvalid_1's binary_logloss: 0.141289\n",
            "[107]\ttraining's binary_logloss: 0.113764\tvalid_1's binary_logloss: 0.140439\n",
            "[108]\ttraining's binary_logloss: 0.112175\tvalid_1's binary_logloss: 0.139296\n",
            "[109]\ttraining's binary_logloss: 0.110572\tvalid_1's binary_logloss: 0.138132\n",
            "[110]\ttraining's binary_logloss: 0.109076\tvalid_1's binary_logloss: 0.13668\n",
            "[111]\ttraining's binary_logloss: 0.107808\tvalid_1's binary_logloss: 0.135895\n",
            "[112]\ttraining's binary_logloss: 0.106331\tvalid_1's binary_logloss: 0.134843\n",
            "[113]\ttraining's binary_logloss: 0.104898\tvalid_1's binary_logloss: 0.133346\n",
            "[114]\ttraining's binary_logloss: 0.103478\tvalid_1's binary_logloss: 0.132338\n",
            "[115]\ttraining's binary_logloss: 0.102099\tvalid_1's binary_logloss: 0.130967\n",
            "[116]\ttraining's binary_logloss: 0.100714\tvalid_1's binary_logloss: 0.129987\n",
            "[117]\ttraining's binary_logloss: 0.0993841\tvalid_1's binary_logloss: 0.128589\n",
            "[118]\ttraining's binary_logloss: 0.0980531\tvalid_1's binary_logloss: 0.127651\n",
            "[119]\ttraining's binary_logloss: 0.0967109\tvalid_1's binary_logloss: 0.126832\n",
            "[120]\ttraining's binary_logloss: 0.0953874\tvalid_1's binary_logloss: 0.12578\n",
            "[121]\ttraining's binary_logloss: 0.0941459\tvalid_1's binary_logloss: 0.124101\n",
            "[122]\ttraining's binary_logloss: 0.0928224\tvalid_1's binary_logloss: 0.123626\n",
            "[123]\ttraining's binary_logloss: 0.0916091\tvalid_1's binary_logloss: 0.122962\n",
            "[124]\ttraining's binary_logloss: 0.0902585\tvalid_1's binary_logloss: 0.121819\n",
            "[125]\ttraining's binary_logloss: 0.0890596\tvalid_1's binary_logloss: 0.120822\n",
            "[126]\ttraining's binary_logloss: 0.0879154\tvalid_1's binary_logloss: 0.120219\n",
            "[127]\ttraining's binary_logloss: 0.0865711\tvalid_1's binary_logloss: 0.11925\n",
            "[128]\ttraining's binary_logloss: 0.0851423\tvalid_1's binary_logloss: 0.118152\n",
            "[129]\ttraining's binary_logloss: 0.0837466\tvalid_1's binary_logloss: 0.117088\n",
            "[130]\ttraining's binary_logloss: 0.0828052\tvalid_1's binary_logloss: 0.116523\n",
            "[131]\ttraining's binary_logloss: 0.0814587\tvalid_1's binary_logloss: 0.115485\n",
            "[132]\ttraining's binary_logloss: 0.0801706\tvalid_1's binary_logloss: 0.114498\n",
            "[133]\ttraining's binary_logloss: 0.0790425\tvalid_1's binary_logloss: 0.113874\n",
            "[134]\ttraining's binary_logloss: 0.0780114\tvalid_1's binary_logloss: 0.113341\n",
            "[135]\ttraining's binary_logloss: 0.0767954\tvalid_1's binary_logloss: 0.112414\n",
            "[136]\ttraining's binary_logloss: 0.0757295\tvalid_1's binary_logloss: 0.111529\n",
            "[137]\ttraining's binary_logloss: 0.0747812\tvalid_1's binary_logloss: 0.110957\n",
            "[138]\ttraining's binary_logloss: 0.073625\tvalid_1's binary_logloss: 0.109994\n",
            "[139]\ttraining's binary_logloss: 0.0727779\tvalid_1's binary_logloss: 0.109393\n",
            "[140]\ttraining's binary_logloss: 0.0716652\tvalid_1's binary_logloss: 0.108478\n",
            "[141]\ttraining's binary_logloss: 0.0706622\tvalid_1's binary_logloss: 0.107801\n",
            "[142]\ttraining's binary_logloss: 0.0698623\tvalid_1's binary_logloss: 0.107252\n",
            "[143]\ttraining's binary_logloss: 0.0687802\tvalid_1's binary_logloss: 0.106395\n",
            "[144]\ttraining's binary_logloss: 0.0677794\tvalid_1's binary_logloss: 0.106193\n",
            "[145]\ttraining's binary_logloss: 0.0667583\tvalid_1's binary_logloss: 0.105379\n",
            "[146]\ttraining's binary_logloss: 0.066002\tvalid_1's binary_logloss: 0.104524\n",
            "[147]\ttraining's binary_logloss: 0.0650175\tvalid_1's binary_logloss: 0.10375\n",
            "[148]\ttraining's binary_logloss: 0.0639966\tvalid_1's binary_logloss: 0.102843\n",
            "[149]\ttraining's binary_logloss: 0.0629831\tvalid_1's binary_logloss: 0.102829\n",
            "[150]\ttraining's binary_logloss: 0.0621227\tvalid_1's binary_logloss: 0.102353\n",
            "[151]\ttraining's binary_logloss: 0.0612003\tvalid_1's binary_logloss: 0.101643\n",
            "[152]\ttraining's binary_logloss: 0.0604571\tvalid_1's binary_logloss: 0.100898\n",
            "[153]\ttraining's binary_logloss: 0.0597459\tvalid_1's binary_logloss: 0.100881\n",
            "[154]\ttraining's binary_logloss: 0.0590064\tvalid_1's binary_logloss: 0.0993484\n",
            "[155]\ttraining's binary_logloss: 0.0580876\tvalid_1's binary_logloss: 0.0994229\n",
            "[156]\ttraining's binary_logloss: 0.0572345\tvalid_1's binary_logloss: 0.0987763\n",
            "[157]\ttraining's binary_logloss: 0.0564018\tvalid_1's binary_logloss: 0.0981505\n",
            "[158]\ttraining's binary_logloss: 0.0557288\tvalid_1's binary_logloss: 0.0974833\n",
            "[159]\ttraining's binary_logloss: 0.0550848\tvalid_1's binary_logloss: 0.0975244\n",
            "[160]\ttraining's binary_logloss: 0.0544148\tvalid_1's binary_logloss: 0.0960699\n",
            "[161]\ttraining's binary_logloss: 0.0537576\tvalid_1's binary_logloss: 0.0946255\n",
            "[162]\ttraining's binary_logloss: 0.0529736\tvalid_1's binary_logloss: 0.0940806\n",
            "[163]\ttraining's binary_logloss: 0.0521641\tvalid_1's binary_logloss: 0.0935899\n",
            "[164]\ttraining's binary_logloss: 0.05146\tvalid_1's binary_logloss: 0.0931532\n",
            "[165]\ttraining's binary_logloss: 0.0507145\tvalid_1's binary_logloss: 0.0925125\n",
            "[166]\ttraining's binary_logloss: 0.04995\tvalid_1's binary_logloss: 0.0920628\n",
            "[167]\ttraining's binary_logloss: 0.0492359\tvalid_1's binary_logloss: 0.0914475\n",
            "[168]\ttraining's binary_logloss: 0.0484561\tvalid_1's binary_logloss: 0.0912815\n",
            "[169]\ttraining's binary_logloss: 0.0478672\tvalid_1's binary_logloss: 0.0908986\n",
            "[170]\ttraining's binary_logloss: 0.0471902\tvalid_1's binary_logloss: 0.0902988\n",
            "[171]\ttraining's binary_logloss: 0.0464225\tvalid_1's binary_logloss: 0.0902579\n",
            "[172]\ttraining's binary_logloss: 0.045867\tvalid_1's binary_logloss: 0.0897974\n",
            "[173]\ttraining's binary_logloss: 0.0452735\tvalid_1's binary_logloss: 0.0889559\n",
            "[174]\ttraining's binary_logloss: 0.0445999\tvalid_1's binary_logloss: 0.0885826\n",
            "[175]\ttraining's binary_logloss: 0.0440307\tvalid_1's binary_logloss: 0.0877603\n",
            "[176]\ttraining's binary_logloss: 0.0433819\tvalid_1's binary_logloss: 0.0874125\n",
            "[177]\ttraining's binary_logloss: 0.0429314\tvalid_1's binary_logloss: 0.0871714\n",
            "[178]\ttraining's binary_logloss: 0.04225\tvalid_1's binary_logloss: 0.087211\n",
            "[179]\ttraining's binary_logloss: 0.0416328\tvalid_1's binary_logloss: 0.0868883\n",
            "[180]\ttraining's binary_logloss: 0.0410306\tvalid_1's binary_logloss: 0.0865802\n",
            "[181]\ttraining's binary_logloss: 0.0403849\tvalid_1's binary_logloss: 0.0866473\n",
            "[182]\ttraining's binary_logloss: 0.039807\tvalid_1's binary_logloss: 0.0862801\n",
            "[183]\ttraining's binary_logloss: 0.0392384\tvalid_1's binary_logloss: 0.0860029\n",
            "[184]\ttraining's binary_logloss: 0.0386269\tvalid_1's binary_logloss: 0.0860932\n",
            "[185]\ttraining's binary_logloss: 0.0380825\tvalid_1's binary_logloss: 0.0857558\n",
            "[186]\ttraining's binary_logloss: 0.037532\tvalid_1's binary_logloss: 0.0857051\n",
            "[187]\ttraining's binary_logloss: 0.0370021\tvalid_1's binary_logloss: 0.0854688\n",
            "[188]\ttraining's binary_logloss: 0.0364792\tvalid_1's binary_logloss: 0.0854423\n",
            "[189]\ttraining's binary_logloss: 0.0359711\tvalid_1's binary_logloss: 0.0850795\n",
            "[190]\ttraining's binary_logloss: 0.0354677\tvalid_1's binary_logloss: 0.0850574\n",
            "[191]\ttraining's binary_logloss: 0.0349742\tvalid_1's binary_logloss: 0.0848591\n",
            "[192]\ttraining's binary_logloss: 0.0344905\tvalid_1's binary_logloss: 0.0848161\n",
            "[193]\ttraining's binary_logloss: 0.0340186\tvalid_1's binary_logloss: 0.0843781\n",
            "[194]\ttraining's binary_logloss: 0.0335979\tvalid_1's binary_logloss: 0.0843854\n",
            "[195]\ttraining's binary_logloss: 0.0330513\tvalid_1's binary_logloss: 0.0844857\n",
            "[196]\ttraining's binary_logloss: 0.0325294\tvalid_1's binary_logloss: 0.0840377\n",
            "[197]\ttraining's binary_logloss: 0.0320688\tvalid_1's binary_logloss: 0.0840907\n",
            "[198]\ttraining's binary_logloss: 0.0315648\tvalid_1's binary_logloss: 0.084039\n",
            "[199]\ttraining's binary_logloss: 0.0311958\tvalid_1's binary_logloss: 0.0838544\n",
            "[200]\ttraining's binary_logloss: 0.0306992\tvalid_1's binary_logloss: 0.0838309\n",
            "[201]\ttraining's binary_logloss: 0.0303355\tvalid_1's binary_logloss: 0.0836307\n",
            "[202]\ttraining's binary_logloss: 0.0299132\tvalid_1's binary_logloss: 0.0837056\n",
            "[203]\ttraining's binary_logloss: 0.0295104\tvalid_1's binary_logloss: 0.083539\n",
            "[204]\ttraining's binary_logloss: 0.0290549\tvalid_1's binary_logloss: 0.0835199\n",
            "[205]\ttraining's binary_logloss: 0.0286572\tvalid_1's binary_logloss: 0.0837922\n",
            "[206]\ttraining's binary_logloss: 0.0282084\tvalid_1's binary_logloss: 0.0833523\n",
            "[207]\ttraining's binary_logloss: 0.0277791\tvalid_1's binary_logloss: 0.0833464\n",
            "[208]\ttraining's binary_logloss: 0.027385\tvalid_1's binary_logloss: 0.0836516\n",
            "[209]\ttraining's binary_logloss: 0.0269591\tvalid_1's binary_logloss: 0.0832221\n",
            "[210]\ttraining's binary_logloss: 0.0265803\tvalid_1's binary_logloss: 0.0833331\n",
            "[211]\ttraining's binary_logloss: 0.026277\tvalid_1's binary_logloss: 0.0832024\n",
            "[212]\ttraining's binary_logloss: 0.0258995\tvalid_1's binary_logloss: 0.0831599\n",
            "[213]\ttraining's binary_logloss: 0.0255551\tvalid_1's binary_logloss: 0.0833898\n",
            "[214]\ttraining's binary_logloss: 0.0252179\tvalid_1's binary_logloss: 0.0830325\n",
            "[215]\ttraining's binary_logloss: 0.024866\tvalid_1's binary_logloss: 0.0831514\n",
            "[216]\ttraining's binary_logloss: 0.0245129\tvalid_1's binary_logloss: 0.0831263\n",
            "[217]\ttraining's binary_logloss: 0.0241738\tvalid_1's binary_logloss: 0.0832583\n",
            "[218]\ttraining's binary_logloss: 0.0238333\tvalid_1's binary_logloss: 0.0832404\n",
            "[219]\ttraining's binary_logloss: 0.0235607\tvalid_1's binary_logloss: 0.0831279\n",
            "[220]\ttraining's binary_logloss: 0.0232377\tvalid_1's binary_logloss: 0.0834806\n",
            "[221]\ttraining's binary_logloss: 0.0229419\tvalid_1's binary_logloss: 0.0834741\n",
            "[222]\ttraining's binary_logloss: 0.0226423\tvalid_1's binary_logloss: 0.083463\n",
            "[223]\ttraining's binary_logloss: 0.0223479\tvalid_1's binary_logloss: 0.0831412\n",
            "[224]\ttraining's binary_logloss: 0.0219914\tvalid_1's binary_logloss: 0.0829714\n",
            "[225]\ttraining's binary_logloss: 0.0216921\tvalid_1's binary_logloss: 0.0828581\n",
            "[226]\ttraining's binary_logloss: 0.0214217\tvalid_1's binary_logloss: 0.0827088\n",
            "[227]\ttraining's binary_logloss: 0.0211517\tvalid_1's binary_logloss: 0.0827286\n",
            "[228]\ttraining's binary_logloss: 0.0208308\tvalid_1's binary_logloss: 0.0821679\n",
            "[229]\ttraining's binary_logloss: 0.0205867\tvalid_1's binary_logloss: 0.0817827\n",
            "[230]\ttraining's binary_logloss: 0.0202827\tvalid_1's binary_logloss: 0.0811386\n",
            "[231]\ttraining's binary_logloss: 0.0199634\tvalid_1's binary_logloss: 0.0810002\n",
            "[232]\ttraining's binary_logloss: 0.0197156\tvalid_1's binary_logloss: 0.0808871\n",
            "[233]\ttraining's binary_logloss: 0.0194071\tvalid_1's binary_logloss: 0.080762\n",
            "[234]\ttraining's binary_logloss: 0.0190982\tvalid_1's binary_logloss: 0.080753\n",
            "[235]\ttraining's binary_logloss: 0.0188495\tvalid_1's binary_logloss: 0.0798531\n",
            "[236]\ttraining's binary_logloss: 0.0186178\tvalid_1's binary_logloss: 0.0797536\n",
            "[237]\ttraining's binary_logloss: 0.0183791\tvalid_1's binary_logloss: 0.0796262\n",
            "[238]\ttraining's binary_logloss: 0.0181305\tvalid_1's binary_logloss: 0.0794519\n",
            "[239]\ttraining's binary_logloss: 0.0179054\tvalid_1's binary_logloss: 0.0794592\n",
            "[240]\ttraining's binary_logloss: 0.0176363\tvalid_1's binary_logloss: 0.0788618\n",
            "[241]\ttraining's binary_logloss: 0.0174085\tvalid_1's binary_logloss: 0.0780035\n",
            "[242]\ttraining's binary_logloss: 0.0171612\tvalid_1's binary_logloss: 0.078446\n",
            "[243]\ttraining's binary_logloss: 0.0169197\tvalid_1's binary_logloss: 0.0788939\n",
            "[244]\ttraining's binary_logloss: 0.016689\tvalid_1's binary_logloss: 0.0789683\n",
            "[245]\ttraining's binary_logloss: 0.0164668\tvalid_1's binary_logloss: 0.0788151\n",
            "[246]\ttraining's binary_logloss: 0.016248\tvalid_1's binary_logloss: 0.0787679\n",
            "[247]\ttraining's binary_logloss: 0.0160443\tvalid_1's binary_logloss: 0.0777836\n",
            "[248]\ttraining's binary_logloss: 0.0158477\tvalid_1's binary_logloss: 0.0778643\n",
            "[249]\ttraining's binary_logloss: 0.0155997\tvalid_1's binary_logloss: 0.0779048\n",
            "[250]\ttraining's binary_logloss: 0.0153996\tvalid_1's binary_logloss: 0.0773707\n",
            "[251]\ttraining's binary_logloss: 0.0151604\tvalid_1's binary_logloss: 0.0774233\n",
            "[252]\ttraining's binary_logloss: 0.0149679\tvalid_1's binary_logloss: 0.0765769\n",
            "[253]\ttraining's binary_logloss: 0.0147699\tvalid_1's binary_logloss: 0.0764412\n",
            "[254]\ttraining's binary_logloss: 0.0145762\tvalid_1's binary_logloss: 0.0764298\n",
            "[255]\ttraining's binary_logloss: 0.0143682\tvalid_1's binary_logloss: 0.0760321\n",
            "[256]\ttraining's binary_logloss: 0.0141469\tvalid_1's binary_logloss: 0.0761047\n",
            "[257]\ttraining's binary_logloss: 0.0139731\tvalid_1's binary_logloss: 0.0751514\n",
            "[258]\ttraining's binary_logloss: 0.0137915\tvalid_1's binary_logloss: 0.075157\n",
            "[259]\ttraining's binary_logloss: 0.0136189\tvalid_1's binary_logloss: 0.0743218\n",
            "[260]\ttraining's binary_logloss: 0.0134102\tvalid_1's binary_logloss: 0.0744075\n",
            "[261]\ttraining's binary_logloss: 0.0132447\tvalid_1's binary_logloss: 0.0735814\n",
            "[262]\ttraining's binary_logloss: 0.0130431\tvalid_1's binary_logloss: 0.0736748\n",
            "[263]\ttraining's binary_logloss: 0.0128807\tvalid_1's binary_logloss: 0.0731912\n",
            "[264]\ttraining's binary_logloss: 0.0127153\tvalid_1's binary_logloss: 0.0732279\n",
            "[265]\ttraining's binary_logloss: 0.0125232\tvalid_1's binary_logloss: 0.0733369\n",
            "[266]\ttraining's binary_logloss: 0.0123689\tvalid_1's binary_logloss: 0.072583\n",
            "[267]\ttraining's binary_logloss: 0.0122181\tvalid_1's binary_logloss: 0.0718405\n",
            "[268]\ttraining's binary_logloss: 0.0120468\tvalid_1's binary_logloss: 0.0720234\n",
            "[269]\ttraining's binary_logloss: 0.0118934\tvalid_1's binary_logloss: 0.0720728\n",
            "[270]\ttraining's binary_logloss: 0.0117152\tvalid_1's binary_logloss: 0.0721954\n",
            "[271]\ttraining's binary_logloss: 0.0115743\tvalid_1's binary_logloss: 0.0714626\n",
            "[272]\ttraining's binary_logloss: 0.0113739\tvalid_1's binary_logloss: 0.0711393\n",
            "[273]\ttraining's binary_logloss: 0.0112304\tvalid_1's binary_logloss: 0.0712\n",
            "[274]\ttraining's binary_logloss: 0.0110634\tvalid_1's binary_logloss: 0.0713362\n",
            "[275]\ttraining's binary_logloss: 0.0109315\tvalid_1's binary_logloss: 0.0706129\n",
            "[276]\ttraining's binary_logloss: 0.0107432\tvalid_1's binary_logloss: 0.0703088\n",
            "[277]\ttraining's binary_logloss: 0.0105846\tvalid_1's binary_logloss: 0.0704539\n",
            "[278]\ttraining's binary_logloss: 0.0104154\tvalid_1's binary_logloss: 0.0706743\n",
            "[279]\ttraining's binary_logloss: 0.0102863\tvalid_1's binary_logloss: 0.0705876\n",
            "[280]\ttraining's binary_logloss: 0.01014\tvalid_1's binary_logloss: 0.0705904\n",
            "[281]\ttraining's binary_logloss: 0.00999175\tvalid_1's binary_logloss: 0.0707483\n",
            "[282]\ttraining's binary_logloss: 0.00987324\tvalid_1's binary_logloss: 0.0700573\n",
            "[283]\ttraining's binary_logloss: 0.00975196\tvalid_1's binary_logloss: 0.0699804\n",
            "[284]\ttraining's binary_logloss: 0.00961927\tvalid_1's binary_logloss: 0.0701722\n",
            "[285]\ttraining's binary_logloss: 0.00947622\tvalid_1's binary_logloss: 0.0700454\n",
            "[286]\ttraining's binary_logloss: 0.00933485\tvalid_1's binary_logloss: 0.0700836\n",
            "[287]\ttraining's binary_logloss: 0.00918191\tvalid_1's binary_logloss: 0.0695525\n",
            "[288]\ttraining's binary_logloss: 0.00907335\tvalid_1's binary_logloss: 0.0695366\n",
            "[289]\ttraining's binary_logloss: 0.00896768\tvalid_1's binary_logloss: 0.0690936\n",
            "[290]\ttraining's binary_logloss: 0.0088574\tvalid_1's binary_logloss: 0.0691552\n",
            "[291]\ttraining's binary_logloss: 0.00873338\tvalid_1's binary_logloss: 0.0688422\n",
            "[292]\ttraining's binary_logloss: 0.00863067\tvalid_1's binary_logloss: 0.0688286\n",
            "[293]\ttraining's binary_logloss: 0.00852559\tvalid_1's binary_logloss: 0.0687672\n",
            "[294]\ttraining's binary_logloss: 0.00842168\tvalid_1's binary_logloss: 0.0687625\n",
            "[295]\ttraining's binary_logloss: 0.00829705\tvalid_1's binary_logloss: 0.0688549\n",
            "[296]\ttraining's binary_logloss: 0.00819716\tvalid_1's binary_logloss: 0.0683507\n",
            "[297]\ttraining's binary_logloss: 0.00808345\tvalid_1's binary_logloss: 0.0681639\n",
            "[298]\ttraining's binary_logloss: 0.00798582\tvalid_1's binary_logloss: 0.0681081\n",
            "[299]\ttraining's binary_logloss: 0.00788728\tvalid_1's binary_logloss: 0.0682508\n",
            "[300]\ttraining's binary_logloss: 0.00779115\tvalid_1's binary_logloss: 0.0683754\n",
            "[301]\ttraining's binary_logloss: 0.00768624\tvalid_1's binary_logloss: 0.0682905\n",
            "[302]\ttraining's binary_logloss: 0.00758518\tvalid_1's binary_logloss: 0.0683378\n",
            "[303]\ttraining's binary_logloss: 0.00746991\tvalid_1's binary_logloss: 0.0680804\n",
            "[304]\ttraining's binary_logloss: 0.00737166\tvalid_1's binary_logloss: 0.0681375\n",
            "[305]\ttraining's binary_logloss: 0.00728189\tvalid_1's binary_logloss: 0.0678536\n",
            "[306]\ttraining's binary_logloss: 0.00719408\tvalid_1's binary_logloss: 0.0675746\n",
            "[307]\ttraining's binary_logloss: 0.00709989\tvalid_1's binary_logloss: 0.0677941\n",
            "[308]\ttraining's binary_logloss: 0.00700716\tvalid_1's binary_logloss: 0.0677926\n",
            "[309]\ttraining's binary_logloss: 0.00690135\tvalid_1's binary_logloss: 0.0675539\n",
            "[310]\ttraining's binary_logloss: 0.0068092\tvalid_1's binary_logloss: 0.0674841\n",
            "[311]\ttraining's binary_logloss: 0.00673351\tvalid_1's binary_logloss: 0.0677853\n",
            "[312]\ttraining's binary_logloss: 0.00663246\tvalid_1's binary_logloss: 0.0675608\n",
            "[313]\ttraining's binary_logloss: 0.00655381\tvalid_1's binary_logloss: 0.0678091\n",
            "[314]\ttraining's binary_logloss: 0.00647192\tvalid_1's binary_logloss: 0.0680718\n",
            "[315]\ttraining's binary_logloss: 0.00637325\tvalid_1's binary_logloss: 0.0682432\n",
            "[316]\ttraining's binary_logloss: 0.00628573\tvalid_1's binary_logloss: 0.0679257\n",
            "[317]\ttraining's binary_logloss: 0.00620423\tvalid_1's binary_logloss: 0.0680026\n",
            "[318]\ttraining's binary_logloss: 0.00613333\tvalid_1's binary_logloss: 0.0682326\n",
            "[319]\ttraining's binary_logloss: 0.00605732\tvalid_1's binary_logloss: 0.0684975\n",
            "[320]\ttraining's binary_logloss: 0.00597961\tvalid_1's binary_logloss: 0.0686504\n",
            "[321]\ttraining's binary_logloss: 0.00590544\tvalid_1's binary_logloss: 0.068625\n",
            "[322]\ttraining's binary_logloss: 0.00582948\tvalid_1's binary_logloss: 0.0687119\n",
            "[323]\ttraining's binary_logloss: 0.00574796\tvalid_1's binary_logloss: 0.0678619\n",
            "[324]\ttraining's binary_logloss: 0.00567395\tvalid_1's binary_logloss: 0.0680816\n",
            "[325]\ttraining's binary_logloss: 0.00560417\tvalid_1's binary_logloss: 0.0680573\n",
            "[326]\ttraining's binary_logloss: 0.0055188\tvalid_1's binary_logloss: 0.06786\n",
            "[327]\ttraining's binary_logloss: 0.00543388\tvalid_1's binary_logloss: 0.0677655\n",
            "[328]\ttraining's binary_logloss: 0.00537021\tvalid_1's binary_logloss: 0.0677424\n",
            "[329]\ttraining's binary_logloss: 0.00530583\tvalid_1's binary_logloss: 0.0679758\n",
            "[330]\ttraining's binary_logloss: 0.00523816\tvalid_1's binary_logloss: 0.0680665\n",
            "[331]\ttraining's binary_logloss: 0.00515884\tvalid_1's binary_logloss: 0.0678903\n",
            "[332]\ttraining's binary_logloss: 0.00509791\tvalid_1's binary_logloss: 0.0678814\n",
            "[333]\ttraining's binary_logloss: 0.00503531\tvalid_1's binary_logloss: 0.0672426\n",
            "[334]\ttraining's binary_logloss: 0.00497904\tvalid_1's binary_logloss: 0.0674962\n",
            "[335]\ttraining's binary_logloss: 0.00491805\tvalid_1's binary_logloss: 0.0677803\n",
            "[336]\ttraining's binary_logloss: 0.00486042\tvalid_1's binary_logloss: 0.0679361\n",
            "[337]\ttraining's binary_logloss: 0.00480394\tvalid_1's binary_logloss: 0.0679434\n",
            "[338]\ttraining's binary_logloss: 0.0047433\tvalid_1's binary_logloss: 0.0681988\n",
            "[339]\ttraining's binary_logloss: 0.00468578\tvalid_1's binary_logloss: 0.0684849\n",
            "[340]\ttraining's binary_logloss: 0.00462928\tvalid_1's binary_logloss: 0.067857\n",
            "[341]\ttraining's binary_logloss: 0.00457414\tvalid_1's binary_logloss: 0.0681254\n",
            "[342]\ttraining's binary_logloss: 0.00450547\tvalid_1's binary_logloss: 0.0679689\n",
            "[343]\ttraining's binary_logloss: 0.00445353\tvalid_1's binary_logloss: 0.0681444\n",
            "[344]\ttraining's binary_logloss: 0.00440229\tvalid_1's binary_logloss: 0.0679548\n",
            "[345]\ttraining's binary_logloss: 0.00433834\tvalid_1's binary_logloss: 0.0684214\n",
            "[346]\ttraining's binary_logloss: 0.00428307\tvalid_1's binary_logloss: 0.0677959\n",
            "[347]\ttraining's binary_logloss: 0.00423598\tvalid_1's binary_logloss: 0.0680567\n",
            "[348]\ttraining's binary_logloss: 0.00418419\tvalid_1's binary_logloss: 0.0681023\n",
            "[349]\ttraining's binary_logloss: 0.00412404\tvalid_1's binary_logloss: 0.0672162\n",
            "[350]\ttraining's binary_logloss: 0.00407747\tvalid_1's binary_logloss: 0.0670426\n",
            "[351]\ttraining's binary_logloss: 0.00402622\tvalid_1's binary_logloss: 0.0664375\n",
            "[352]\ttraining's binary_logloss: 0.00397599\tvalid_1's binary_logloss: 0.0662272\n",
            "[353]\ttraining's binary_logloss: 0.00391836\tvalid_1's binary_logloss: 0.0666885\n",
            "[354]\ttraining's binary_logloss: 0.00387156\tvalid_1's binary_logloss: 0.0668216\n",
            "[355]\ttraining's binary_logloss: 0.00382961\tvalid_1's binary_logloss: 0.0670909\n",
            "[356]\ttraining's binary_logloss: 0.00377577\tvalid_1's binary_logloss: 0.0667269\n",
            "[357]\ttraining's binary_logloss: 0.0037336\tvalid_1's binary_logloss: 0.0665619\n",
            "[358]\ttraining's binary_logloss: 0.00368383\tvalid_1's binary_logloss: 0.0662561\n",
            "[359]\ttraining's binary_logloss: 0.00363839\tvalid_1's binary_logloss: 0.0656692\n",
            "[360]\ttraining's binary_logloss: 0.00359494\tvalid_1's binary_logloss: 0.0657423\n",
            "[361]\ttraining's binary_logloss: 0.00354191\tvalid_1's binary_logloss: 0.0661549\n",
            "[362]\ttraining's binary_logloss: 0.00349116\tvalid_1's binary_logloss: 0.0666101\n",
            "[363]\ttraining's binary_logloss: 0.00344507\tvalid_1's binary_logloss: 0.0663121\n",
            "[364]\ttraining's binary_logloss: 0.00340299\tvalid_1's binary_logloss: 0.0657344\n",
            "[365]\ttraining's binary_logloss: 0.00336642\tvalid_1's binary_logloss: 0.0659922\n",
            "[366]\ttraining's binary_logloss: 0.00331747\tvalid_1's binary_logloss: 0.0664028\n",
            "[367]\ttraining's binary_logloss: 0.00327428\tvalid_1's binary_logloss: 0.065554\n",
            "[368]\ttraining's binary_logloss: 0.00323373\tvalid_1's binary_logloss: 0.065363\n",
            "[369]\ttraining's binary_logloss: 0.00319588\tvalid_1's binary_logloss: 0.0655031\n",
            "[370]\ttraining's binary_logloss: 0.00315709\tvalid_1's binary_logloss: 0.0654825\n",
            "[371]\ttraining's binary_logloss: 0.00311464\tvalid_1's binary_logloss: 0.0651724\n",
            "[372]\ttraining's binary_logloss: 0.00307992\tvalid_1's binary_logloss: 0.0651079\n",
            "[373]\ttraining's binary_logloss: 0.00304523\tvalid_1's binary_logloss: 0.06537\n",
            "[374]\ttraining's binary_logloss: 0.00300589\tvalid_1's binary_logloss: 0.064529\n",
            "[375]\ttraining's binary_logloss: 0.00296096\tvalid_1's binary_logloss: 0.0642265\n",
            "[376]\ttraining's binary_logloss: 0.00291782\tvalid_1's binary_logloss: 0.0644658\n",
            "[377]\ttraining's binary_logloss: 0.0028784\tvalid_1's binary_logloss: 0.0647284\n",
            "[378]\ttraining's binary_logloss: 0.00283563\tvalid_1's binary_logloss: 0.0644345\n",
            "[379]\ttraining's binary_logloss: 0.00279243\tvalid_1's binary_logloss: 0.0640191\n",
            "[380]\ttraining's binary_logloss: 0.00275878\tvalid_1's binary_logloss: 0.0634598\n",
            "[381]\ttraining's binary_logloss: 0.00272178\tvalid_1's binary_logloss: 0.0637209\n",
            "[382]\ttraining's binary_logloss: 0.00268059\tvalid_1's binary_logloss: 0.0633108\n",
            "[383]\ttraining's binary_logloss: 0.00264969\tvalid_1's binary_logloss: 0.0635831\n",
            "[384]\ttraining's binary_logloss: 0.00260986\tvalid_1's binary_logloss: 0.0631764\n",
            "[385]\ttraining's binary_logloss: 0.00257884\tvalid_1's binary_logloss: 0.062646\n",
            "[386]\ttraining's binary_logloss: 0.00254763\tvalid_1's binary_logloss: 0.0628354\n",
            "[387]\ttraining's binary_logloss: 0.00251006\tvalid_1's binary_logloss: 0.0625543\n",
            "[388]\ttraining's binary_logloss: 0.00247919\tvalid_1's binary_logloss: 0.0623853\n",
            "[389]\ttraining's binary_logloss: 0.00244927\tvalid_1's binary_logloss: 0.0621266\n",
            "[390]\ttraining's binary_logloss: 0.00241332\tvalid_1's binary_logloss: 0.0618515\n",
            "[391]\ttraining's binary_logloss: 0.00237441\tvalid_1's binary_logloss: 0.0621672\n",
            "[392]\ttraining's binary_logloss: 0.00233898\tvalid_1's binary_logloss: 0.0617573\n",
            "[393]\ttraining's binary_logloss: 0.00230819\tvalid_1's binary_logloss: 0.0620163\n",
            "[394]\ttraining's binary_logloss: 0.00227399\tvalid_1's binary_logloss: 0.0616092\n",
            "[395]\ttraining's binary_logloss: 0.00225088\tvalid_1's binary_logloss: 0.0613175\n",
            "[396]\ttraining's binary_logloss: 0.0022239\tvalid_1's binary_logloss: 0.0612956\n",
            "[397]\ttraining's binary_logloss: 0.00219622\tvalid_1's binary_logloss: 0.0609665\n",
            "[398]\ttraining's binary_logloss: 0.0021647\tvalid_1's binary_logloss: 0.0606738\n",
            "[399]\ttraining's binary_logloss: 0.00213906\tvalid_1's binary_logloss: 0.0606548\n",
            "[400]\ttraining's binary_logloss: 0.00210885\tvalid_1's binary_logloss: 0.061076\n",
            "[401]\ttraining's binary_logloss: 0.00207779\tvalid_1's binary_logloss: 0.0606787\n",
            "[402]\ttraining's binary_logloss: 0.00205691\tvalid_1's binary_logloss: 0.0603849\n",
            "[403]\ttraining's binary_logloss: 0.00203365\tvalid_1's binary_logloss: 0.0605367\n",
            "[404]\ttraining's binary_logloss: 0.00201074\tvalid_1's binary_logloss: 0.0608965\n",
            "[405]\ttraining's binary_logloss: 0.0019824\tvalid_1's binary_logloss: 0.0606031\n",
            "[406]\ttraining's binary_logloss: 0.00195916\tvalid_1's binary_logloss: 0.0606049\n",
            "[407]\ttraining's binary_logloss: 0.00193101\tvalid_1's binary_logloss: 0.0608546\n",
            "[408]\ttraining's binary_logloss: 0.00190285\tvalid_1's binary_logloss: 0.0604586\n",
            "[409]\ttraining's binary_logloss: 0.00188394\tvalid_1's binary_logloss: 0.0601716\n",
            "[410]\ttraining's binary_logloss: 0.00185831\tvalid_1's binary_logloss: 0.0598968\n",
            "[411]\ttraining's binary_logloss: 0.0018359\tvalid_1's binary_logloss: 0.0600659\n",
            "[412]\ttraining's binary_logloss: 0.00181454\tvalid_1's binary_logloss: 0.0600709\n",
            "[413]\ttraining's binary_logloss: 0.00178827\tvalid_1's binary_logloss: 0.0594063\n",
            "[414]\ttraining's binary_logloss: 0.00176189\tvalid_1's binary_logloss: 0.0596755\n",
            "[415]\ttraining's binary_logloss: 0.00173639\tvalid_1's binary_logloss: 0.0592895\n",
            "[416]\ttraining's binary_logloss: 0.00171933\tvalid_1's binary_logloss: 0.0590135\n",
            "[417]\ttraining's binary_logloss: 0.00169887\tvalid_1's binary_logloss: 0.0588553\n",
            "[418]\ttraining's binary_logloss: 0.00167502\tvalid_1's binary_logloss: 0.0580996\n",
            "[419]\ttraining's binary_logloss: 0.00165455\tvalid_1's binary_logloss: 0.0579474\n",
            "[420]\ttraining's binary_logloss: 0.00163488\tvalid_1's binary_logloss: 0.0581144\n",
            "[421]\ttraining's binary_logloss: 0.0016169\tvalid_1's binary_logloss: 0.0582229\n",
            "[422]\ttraining's binary_logloss: 0.00160101\tvalid_1's binary_logloss: 0.057726\n",
            "[423]\ttraining's binary_logloss: 0.00157951\tvalid_1's binary_logloss: 0.0570979\n",
            "[424]\ttraining's binary_logloss: 0.00156154\tvalid_1's binary_logloss: 0.0571012\n",
            "[425]\ttraining's binary_logloss: 0.0015394\tvalid_1's binary_logloss: 0.056313\n",
            "[426]\ttraining's binary_logloss: 0.00151693\tvalid_1's binary_logloss: 0.0565772\n",
            "[427]\ttraining's binary_logloss: 0.00149966\tvalid_1's binary_logloss: 0.0564941\n",
            "[428]\ttraining's binary_logloss: 0.00147768\tvalid_1's binary_logloss: 0.056294\n",
            "[429]\ttraining's binary_logloss: 0.00145626\tvalid_1's binary_logloss: 0.0565581\n",
            "[430]\ttraining's binary_logloss: 0.00143531\tvalid_1's binary_logloss: 0.0566743\n",
            "[431]\ttraining's binary_logloss: 0.00141792\tvalid_1's binary_logloss: 0.0565291\n",
            "[432]\ttraining's binary_logloss: 0.00140189\tvalid_1's binary_logloss: 0.0564518\n",
            "[433]\ttraining's binary_logloss: 0.00138621\tvalid_1's binary_logloss: 0.0566274\n",
            "[434]\ttraining's binary_logloss: 0.00136604\tvalid_1's binary_logloss: 0.0564303\n",
            "[435]\ttraining's binary_logloss: 0.00134629\tvalid_1's binary_logloss: 0.0560557\n",
            "[436]\ttraining's binary_logloss: 0.00132696\tvalid_1's binary_logloss: 0.0563455\n",
            "[437]\ttraining's binary_logloss: 0.00130791\tvalid_1's binary_logloss: 0.0559748\n",
            "[438]\ttraining's binary_logloss: 0.00129324\tvalid_1's binary_logloss: 0.0559038\n",
            "[439]\ttraining's binary_logloss: 0.00127483\tvalid_1's binary_logloss: 0.0555367\n",
            "[440]\ttraining's binary_logloss: 0.00125665\tvalid_1's binary_logloss: 0.0558319\n",
            "[441]\ttraining's binary_logloss: 0.00124271\tvalid_1's binary_logloss: 0.055764\n",
            "[442]\ttraining's binary_logloss: 0.00122514\tvalid_1's binary_logloss: 0.0554033\n",
            "[443]\ttraining's binary_logloss: 0.0012078\tvalid_1's binary_logloss: 0.0557031\n",
            "[444]\ttraining's binary_logloss: 0.00119086\tvalid_1's binary_logloss: 0.055346\n",
            "[445]\ttraining's binary_logloss: 0.00117732\tvalid_1's binary_logloss: 0.0552819\n",
            "[446]\ttraining's binary_logloss: 0.00116348\tvalid_1's binary_logloss: 0.0551356\n",
            "[447]\ttraining's binary_logloss: 0.00114835\tvalid_1's binary_logloss: 0.0553617\n",
            "[448]\ttraining's binary_logloss: 0.00113214\tvalid_1's binary_logloss: 0.0556632\n",
            "[449]\ttraining's binary_logloss: 0.00112071\tvalid_1's binary_logloss: 0.0554042\n",
            "[450]\ttraining's binary_logloss: 0.00110449\tvalid_1's binary_logloss: 0.0552057\n",
            "[451]\ttraining's binary_logloss: 0.00109236\tvalid_1's binary_logloss: 0.0553814\n",
            "[452]\ttraining's binary_logloss: 0.00107678\tvalid_1's binary_logloss: 0.0554468\n",
            "[453]\ttraining's binary_logloss: 0.00106493\tvalid_1's binary_logloss: 0.0553882\n",
            "[454]\ttraining's binary_logloss: 0.00105003\tvalid_1's binary_logloss: 0.0550243\n",
            "[455]\ttraining's binary_logloss: 0.00103532\tvalid_1's binary_logloss: 0.0553247\n",
            "[456]\ttraining's binary_logloss: 0.00102405\tvalid_1's binary_logloss: 0.0552694\n",
            "[457]\ttraining's binary_logloss: 0.00100982\tvalid_1's binary_logloss: 0.0549102\n",
            "[458]\ttraining's binary_logloss: 0.000995222\tvalid_1's binary_logloss: 0.0552144\n",
            "[459]\ttraining's binary_logloss: 0.000981506\tvalid_1's binary_logloss: 0.0548587\n",
            "[460]\ttraining's binary_logloss: 0.000968094\tvalid_1's binary_logloss: 0.0549754\n",
            "[461]\ttraining's binary_logloss: 0.000957139\tvalid_1's binary_logloss: 0.0549768\n",
            "[462]\ttraining's binary_logloss: 0.000944326\tvalid_1's binary_logloss: 0.0552545\n",
            "[463]\ttraining's binary_logloss: 0.000931464\tvalid_1's binary_logloss: 0.0548993\n",
            "[464]\ttraining's binary_logloss: 0.000921013\tvalid_1's binary_logloss: 0.0549031\n",
            "[465]\ttraining's binary_logloss: 0.000910169\tvalid_1's binary_logloss: 0.054573\n",
            "[466]\ttraining's binary_logloss: 0.000899683\tvalid_1's binary_logloss: 0.0547265\n",
            "[467]\ttraining's binary_logloss: 0.0008877\tvalid_1's binary_logloss: 0.0544737\n",
            "[468]\ttraining's binary_logloss: 0.000874956\tvalid_1's binary_logloss: 0.0548617\n",
            "[469]\ttraining's binary_logloss: 0.00086409\tvalid_1's binary_logloss: 0.0545231\n",
            "[470]\ttraining's binary_logloss: 0.000853122\tvalid_1's binary_logloss: 0.0542207\n",
            "[471]\ttraining's binary_logloss: 0.000841665\tvalid_1's binary_logloss: 0.054017\n",
            "[472]\ttraining's binary_logloss: 0.000832247\tvalid_1's binary_logloss: 0.0540209\n",
            "[473]\ttraining's binary_logloss: 0.000821173\tvalid_1's binary_logloss: 0.0538267\n",
            "[474]\ttraining's binary_logloss: 0.000812055\tvalid_1's binary_logloss: 0.0539769\n",
            "[475]\ttraining's binary_logloss: 0.000801314\tvalid_1's binary_logloss: 0.053726\n",
            "[476]\ttraining's binary_logloss: 0.000790688\tvalid_1's binary_logloss: 0.0539986\n",
            "[477]\ttraining's binary_logloss: 0.000779742\tvalid_1's binary_logloss: 0.0540245\n",
            "[478]\ttraining's binary_logloss: 0.000769845\tvalid_1's binary_logloss: 0.0537236\n",
            "[479]\ttraining's binary_logloss: 0.000759264\tvalid_1's binary_logloss: 0.0537375\n",
            "[480]\ttraining's binary_logloss: 0.000750433\tvalid_1's binary_logloss: 0.0536208\n",
            "[481]\ttraining's binary_logloss: 0.000740881\tvalid_1's binary_logloss: 0.0529017\n",
            "[482]\ttraining's binary_logloss: 0.00073083\tvalid_1's binary_logloss: 0.0529214\n",
            "[483]\ttraining's binary_logloss: 0.000719692\tvalid_1's binary_logloss: 0.0535633\n",
            "[484]\ttraining's binary_logloss: 0.000709421\tvalid_1's binary_logloss: 0.0533958\n",
            "[485]\ttraining's binary_logloss: 0.000701567\tvalid_1's binary_logloss: 0.0535497\n",
            "[486]\ttraining's binary_logloss: 0.000691616\tvalid_1's binary_logloss: 0.0533895\n",
            "[487]\ttraining's binary_logloss: 0.000681912\tvalid_1's binary_logloss: 0.0537593\n",
            "[488]\ttraining's binary_logloss: 0.00067296\tvalid_1's binary_logloss: 0.0540289\n",
            "[489]\ttraining's binary_logloss: 0.000662734\tvalid_1's binary_logloss: 0.0533053\n",
            "[490]\ttraining's binary_logloss: 0.00065402\tvalid_1's binary_logloss: 0.0530544\n",
            "[491]\ttraining's binary_logloss: 0.000645234\tvalid_1's binary_logloss: 0.052691\n",
            "[492]\ttraining's binary_logloss: 0.00063504\tvalid_1's binary_logloss: 0.0529521\n",
            "[493]\ttraining's binary_logloss: 0.00062657\tvalid_1's binary_logloss: 0.0525934\n",
            "[494]\ttraining's binary_logloss: 0.000617094\tvalid_1's binary_logloss: 0.0532323\n",
            "[495]\ttraining's binary_logloss: 0.000610142\tvalid_1's binary_logloss: 0.0534441\n",
            "[496]\ttraining's binary_logloss: 0.000601948\tvalid_1's binary_logloss: 0.0537727\n",
            "[497]\ttraining's binary_logloss: 0.000593745\tvalid_1's binary_logloss: 0.0538023\n",
            "[498]\ttraining's binary_logloss: 0.000586041\tvalid_1's binary_logloss: 0.0535561\n",
            "[499]\ttraining's binary_logloss: 0.000577058\tvalid_1's binary_logloss: 0.0532057\n",
            "[500]\ttraining's binary_logloss: 0.000568273\tvalid_1's binary_logloss: 0.052862\n",
            "[501]\ttraining's binary_logloss: 0.000561064\tvalid_1's binary_logloss: 0.0530421\n",
            "[502]\ttraining's binary_logloss: 0.000553482\tvalid_1's binary_logloss: 0.0530626\n",
            "[503]\ttraining's binary_logloss: 0.000545187\tvalid_1's binary_logloss: 0.0537077\n",
            "[504]\ttraining's binary_logloss: 0.000536913\tvalid_1's binary_logloss: 0.0533657\n",
            "[505]\ttraining's binary_logloss: 0.000529387\tvalid_1's binary_logloss: 0.0535107\n",
            "[506]\ttraining's binary_logloss: 0.000522334\tvalid_1's binary_logloss: 0.0538481\n",
            "[507]\ttraining's binary_logloss: 0.000515317\tvalid_1's binary_logloss: 0.0531394\n",
            "[508]\ttraining's binary_logloss: 0.000509583\tvalid_1's binary_logloss: 0.0532587\n",
            "[509]\ttraining's binary_logloss: 0.000503039\tvalid_1's binary_logloss: 0.0530139\n",
            "[510]\ttraining's binary_logloss: 0.000495513\tvalid_1's binary_logloss: 0.0523488\n",
            "[511]\ttraining's binary_logloss: 0.000488125\tvalid_1's binary_logloss: 0.0529553\n",
            "[512]\ttraining's binary_logloss: 0.000480769\tvalid_1's binary_logloss: 0.0526242\n",
            "[513]\ttraining's binary_logloss: 0.000474232\tvalid_1's binary_logloss: 0.0521691\n",
            "[514]\ttraining's binary_logloss: 0.000467886\tvalid_1's binary_logloss: 0.0523926\n",
            "[515]\ttraining's binary_logloss: 0.000461774\tvalid_1's binary_logloss: 0.0524084\n",
            "[516]\ttraining's binary_logloss: 0.000456757\tvalid_1's binary_logloss: 0.0523528\n",
            "[517]\ttraining's binary_logloss: 0.000449989\tvalid_1's binary_logloss: 0.0529584\n",
            "[518]\ttraining's binary_logloss: 0.000443703\tvalid_1's binary_logloss: 0.0531127\n",
            "[519]\ttraining's binary_logloss: 0.000437522\tvalid_1's binary_logloss: 0.0532163\n",
            "[520]\ttraining's binary_logloss: 0.000431847\tvalid_1's binary_logloss: 0.0533178\n",
            "[521]\ttraining's binary_logloss: 0.000426364\tvalid_1's binary_logloss: 0.053063\n",
            "[522]\ttraining's binary_logloss: 0.000420478\tvalid_1's binary_logloss: 0.0531701\n",
            "[523]\ttraining's binary_logloss: 0.000414397\tvalid_1's binary_logloss: 0.0533351\n",
            "[524]\ttraining's binary_logloss: 0.000409332\tvalid_1's binary_logloss: 0.0536932\n",
            "[525]\ttraining's binary_logloss: 0.000404058\tvalid_1's binary_logloss: 0.0538004\n",
            "[526]\ttraining's binary_logloss: 0.000398809\tvalid_1's binary_logloss: 0.0534845\n",
            "[527]\ttraining's binary_logloss: 0.00039379\tvalid_1's binary_logloss: 0.0535849\n",
            "[528]\ttraining's binary_logloss: 0.000388811\tvalid_1's binary_logloss: 0.0533204\n",
            "[529]\ttraining's binary_logloss: 0.000383059\tvalid_1's binary_logloss: 0.053003\n",
            "[530]\ttraining's binary_logloss: 0.000377434\tvalid_1's binary_logloss: 0.0526923\n",
            "[531]\ttraining's binary_logloss: 0.000372181\tvalid_1's binary_logloss: 0.052417\n",
            "[532]\ttraining's binary_logloss: 0.00036743\tvalid_1's binary_logloss: 0.0526122\n",
            "[533]\ttraining's binary_logloss: 0.000363149\tvalid_1's binary_logloss: 0.0527495\n",
            "[534]\ttraining's binary_logloss: 0.000358162\tvalid_1's binary_logloss: 0.0524808\n",
            "[535]\ttraining's binary_logloss: 0.000353325\tvalid_1's binary_logloss: 0.0526473\n",
            "[536]\ttraining's binary_logloss: 0.000348594\tvalid_1's binary_logloss: 0.0519818\n",
            "[537]\ttraining's binary_logloss: 0.000344475\tvalid_1's binary_logloss: 0.0516004\n",
            "[538]\ttraining's binary_logloss: 0.000339727\tvalid_1's binary_logloss: 0.0511464\n",
            "[539]\ttraining's binary_logloss: 0.000335151\tvalid_1's binary_logloss: 0.0512736\n",
            "[540]\ttraining's binary_logloss: 0.000330401\tvalid_1's binary_logloss: 0.0514575\n",
            "[541]\ttraining's binary_logloss: 0.000326271\tvalid_1's binary_logloss: 0.0509818\n",
            "[542]\ttraining's binary_logloss: 0.000322516\tvalid_1's binary_logloss: 0.0511204\n",
            "[543]\ttraining's binary_logloss: 0.000318192\tvalid_1's binary_logloss: 0.0512848\n",
            "[544]\ttraining's binary_logloss: 0.000313908\tvalid_1's binary_logloss: 0.0508124\n",
            "[545]\ttraining's binary_logloss: 0.000310123\tvalid_1's binary_logloss: 0.050428\n",
            "[546]\ttraining's binary_logloss: 0.000305914\tvalid_1's binary_logloss: 0.0506824\n",
            "[547]\ttraining's binary_logloss: 0.000302258\tvalid_1's binary_logloss: 0.0503007\n",
            "[548]\ttraining's binary_logloss: 0.000298182\tvalid_1's binary_logloss: 0.0505526\n",
            "[549]\ttraining's binary_logloss: 0.000294202\tvalid_1's binary_logloss: 0.0506785\n",
            "[550]\ttraining's binary_logloss: 0.000290591\tvalid_1's binary_logloss: 0.0506838\n",
            "[551]\ttraining's binary_logloss: 0.000286694\tvalid_1's binary_logloss: 0.0509386\n",
            "[552]\ttraining's binary_logloss: 0.000283519\tvalid_1's binary_logloss: 0.0505529\n",
            "[553]\ttraining's binary_logloss: 0.000279739\tvalid_1's binary_logloss: 0.0505985\n",
            "[554]\ttraining's binary_logloss: 0.000275968\tvalid_1's binary_logloss: 0.0503394\n",
            "[555]\ttraining's binary_logloss: 0.000272314\tvalid_1's binary_logloss: 0.0505887\n",
            "[556]\ttraining's binary_logloss: 0.000269051\tvalid_1's binary_logloss: 0.0509103\n",
            "[557]\ttraining's binary_logloss: 0.000265509\tvalid_1's binary_logloss: 0.0511597\n",
            "[558]\ttraining's binary_logloss: 0.000262586\tvalid_1's binary_logloss: 0.0507714\n",
            "[559]\ttraining's binary_logloss: 0.000259149\tvalid_1's binary_logloss: 0.051017\n",
            "[560]\ttraining's binary_logloss: 0.000255988\tvalid_1's binary_logloss: 0.0506319\n",
            "[561]\ttraining's binary_logloss: 0.00025266\tvalid_1's binary_logloss: 0.0506711\n",
            "[562]\ttraining's binary_logloss: 0.000249912\tvalid_1's binary_logloss: 0.0502891\n",
            "[563]\ttraining's binary_logloss: 0.000247209\tvalid_1's binary_logloss: 0.0502287\n",
            "[564]\ttraining's binary_logloss: 0.000244482\tvalid_1's binary_logloss: 0.0501257\n",
            "[565]\ttraining's binary_logloss: 0.000241867\tvalid_1's binary_logloss: 0.0500666\n",
            "[566]\ttraining's binary_logloss: 0.000238871\tvalid_1's binary_logloss: 0.0503401\n",
            "[567]\ttraining's binary_logloss: 0.000235339\tvalid_1's binary_logloss: 0.0509722\n",
            "[568]\ttraining's binary_logloss: 0.000232731\tvalid_1's binary_logloss: 0.0509404\n",
            "[569]\ttraining's binary_logloss: 0.000229717\tvalid_1's binary_logloss: 0.0509781\n",
            "[570]\ttraining's binary_logloss: 0.000227214\tvalid_1's binary_logloss: 0.0508747\n",
            "[571]\ttraining's binary_logloss: 0.000223871\tvalid_1's binary_logloss: 0.0515116\n",
            "[572]\ttraining's binary_logloss: 0.000221407\tvalid_1's binary_logloss: 0.0514837\n",
            "[573]\ttraining's binary_logloss: 0.000218556\tvalid_1's binary_logloss: 0.0515208\n",
            "[574]\ttraining's binary_logloss: 0.000215362\tvalid_1's binary_logloss: 0.0521628\n",
            "[575]\ttraining's binary_logloss: 0.000213011\tvalid_1's binary_logloss: 0.0521373\n",
            "[576]\ttraining's binary_logloss: 0.000210288\tvalid_1's binary_logloss: 0.0523798\n",
            "[577]\ttraining's binary_logloss: 0.000207053\tvalid_1's binary_logloss: 0.0516573\n",
            "[578]\ttraining's binary_logloss: 0.000203887\tvalid_1's binary_logloss: 0.0509403\n",
            "[579]\ttraining's binary_logloss: 0.000201404\tvalid_1's binary_logloss: 0.0508423\n",
            "[580]\ttraining's binary_logloss: 0.000198481\tvalid_1's binary_logloss: 0.0514799\n",
            "[581]\ttraining's binary_logloss: 0.000195535\tvalid_1's binary_logloss: 0.0516095\n",
            "[582]\ttraining's binary_logloss: 0.000192652\tvalid_1's binary_logloss: 0.0517426\n",
            "[583]\ttraining's binary_logloss: 0.000189886\tvalid_1's binary_logloss: 0.0518854\n",
            "[584]\ttraining's binary_logloss: 0.000187766\tvalid_1's binary_logloss: 0.051825\n",
            "[585]\ttraining's binary_logloss: 0.000185367\tvalid_1's binary_logloss: 0.0520639\n",
            "[586]\ttraining's binary_logloss: 0.000182689\tvalid_1's binary_logloss: 0.0527128\n",
            "[587]\ttraining's binary_logloss: 0.000180523\tvalid_1's binary_logloss: 0.0519855\n",
            "[588]\ttraining's binary_logloss: 0.000178928\tvalid_1's binary_logloss: 0.0521529\n",
            "[589]\ttraining's binary_logloss: 0.000177111\tvalid_1's binary_logloss: 0.0520994\n",
            "[590]\ttraining's binary_logloss: 0.000174565\tvalid_1's binary_logloss: 0.0527488\n",
            "[591]\ttraining's binary_logloss: 0.000172028\tvalid_1's binary_logloss: 0.0528855\n",
            "[592]\ttraining's binary_logloss: 0.000169841\tvalid_1's binary_logloss: 0.0533274\n",
            "[593]\ttraining's binary_logloss: 0.00016794\tvalid_1's binary_logloss: 0.0525946\n",
            "[594]\ttraining's binary_logloss: 0.000165187\tvalid_1's binary_logloss: 0.0527795\n",
            "[595]\ttraining's binary_logloss: 0.000162831\tvalid_1's binary_logloss: 0.0534358\n",
            "[596]\ttraining's binary_logloss: 0.000161087\tvalid_1's binary_logloss: 0.0533913\n",
            "[597]\ttraining's binary_logloss: 0.000158463\tvalid_1's binary_logloss: 0.0535846\n",
            "[598]\ttraining's binary_logloss: 0.000156457\tvalid_1's binary_logloss: 0.0540281\n",
            "[599]\ttraining's binary_logloss: 0.00015442\tvalid_1's binary_logloss: 0.0532887\n",
            "[600]\ttraining's binary_logloss: 0.000151917\tvalid_1's binary_logloss: 0.0534856\n",
            "[601]\ttraining's binary_logloss: 0.00014979\tvalid_1's binary_logloss: 0.0527509\n",
            "[602]\ttraining's binary_logloss: 0.000147657\tvalid_1's binary_logloss: 0.0534079\n",
            "[603]\ttraining's binary_logloss: 0.00014554\tvalid_1's binary_logloss: 0.0533686\n",
            "[604]\ttraining's binary_logloss: 0.000143405\tvalid_1's binary_logloss: 0.0531872\n",
            "[605]\ttraining's binary_logloss: 0.000141096\tvalid_1's binary_logloss: 0.0533911\n",
            "[606]\ttraining's binary_logloss: 0.000139124\tvalid_1's binary_logloss: 0.0526672\n",
            "[607]\ttraining's binary_logloss: 0.000137227\tvalid_1's binary_logloss: 0.0526751\n",
            "[608]\ttraining's binary_logloss: 0.000135727\tvalid_1's binary_logloss: 0.0522946\n",
            "[609]\ttraining's binary_logloss: 0.000134004\tvalid_1's binary_logloss: 0.0525176\n",
            "[610]\ttraining's binary_logloss: 0.000131966\tvalid_1's binary_logloss: 0.0518026\n",
            "[611]\ttraining's binary_logloss: 0.000130173\tvalid_1's binary_logloss: 0.0516546\n",
            "[612]\ttraining's binary_logloss: 0.000128084\tvalid_1's binary_logloss: 0.0518498\n",
            "[613]\ttraining's binary_logloss: 0.000126041\tvalid_1's binary_logloss: 0.0520504\n",
            "[614]\ttraining's binary_logloss: 0.000124289\tvalid_1's binary_logloss: 0.0518993\n",
            "[615]\ttraining's binary_logloss: 0.000122638\tvalid_1's binary_logloss: 0.0519603\n",
            "[616]\ttraining's binary_logloss: 0.000120841\tvalid_1's binary_logloss: 0.0519396\n",
            "[617]\ttraining's binary_logloss: 0.000119311\tvalid_1's binary_logloss: 0.052159\n",
            "[618]\ttraining's binary_logloss: 0.000117846\tvalid_1's binary_logloss: 0.051436\n",
            "[619]\ttraining's binary_logloss: 0.000116126\tvalid_1's binary_logloss: 0.0514217\n",
            "[620]\ttraining's binary_logloss: 0.000114357\tvalid_1's binary_logloss: 0.0511044\n",
            "[621]\ttraining's binary_logloss: 0.000113027\tvalid_1's binary_logloss: 0.0503906\n",
            "[622]\ttraining's binary_logloss: 0.00011155\tvalid_1's binary_logloss: 0.0501684\n",
            "[623]\ttraining's binary_logloss: 0.000110318\tvalid_1's binary_logloss: 0.0498142\n",
            "[624]\ttraining's binary_logloss: 0.000108985\tvalid_1's binary_logloss: 0.0499568\n",
            "[625]\ttraining's binary_logloss: 0.000107607\tvalid_1's binary_logloss: 0.050168\n",
            "[626]\ttraining's binary_logloss: 0.00010611\tvalid_1's binary_logloss: 0.049463\n",
            "[627]\ttraining's binary_logloss: 0.000104645\tvalid_1's binary_logloss: 0.0487647\n",
            "[628]\ttraining's binary_logloss: 0.00010343\tvalid_1's binary_logloss: 0.0490963\n",
            "[629]\ttraining's binary_logloss: 0.00010219\tvalid_1's binary_logloss: 0.0492388\n",
            "[630]\ttraining's binary_logloss: 0.00010062\tvalid_1's binary_logloss: 0.0493309\n",
            "[631]\ttraining's binary_logloss: 9.91473e-05\tvalid_1's binary_logloss: 0.0493351\n",
            "[632]\ttraining's binary_logloss: 9.81842e-05\tvalid_1's binary_logloss: 0.0490771\n",
            "[633]\ttraining's binary_logloss: 9.66857e-05\tvalid_1's binary_logloss: 0.0491693\n",
            "[634]\ttraining's binary_logloss: 9.53586e-05\tvalid_1's binary_logloss: 0.0491046\n",
            "[635]\ttraining's binary_logloss: 9.40076e-05\tvalid_1's binary_logloss: 0.0488697\n",
            "[636]\ttraining's binary_logloss: 9.29334e-05\tvalid_1's binary_logloss: 0.0491985\n",
            "[637]\ttraining's binary_logloss: 9.15307e-05\tvalid_1's binary_logloss: 0.0492921\n",
            "[638]\ttraining's binary_logloss: 9.0241e-05\tvalid_1's binary_logloss: 0.0490576\n",
            "[639]\ttraining's binary_logloss: 8.92217e-05\tvalid_1's binary_logloss: 0.0493831\n",
            "[640]\ttraining's binary_logloss: 8.79142e-05\tvalid_1's binary_logloss: 0.0493442\n",
            "[641]\ttraining's binary_logloss: 8.67137e-05\tvalid_1's binary_logloss: 0.0495269\n",
            "[642]\ttraining's binary_logloss: 8.55338e-05\tvalid_1's binary_logloss: 0.0494831\n",
            "[643]\ttraining's binary_logloss: 8.43971e-05\tvalid_1's binary_logloss: 0.0496715\n",
            "[644]\ttraining's binary_logloss: 8.34534e-05\tvalid_1's binary_logloss: 0.0499961\n",
            "[645]\ttraining's binary_logloss: 8.22401e-05\tvalid_1's binary_logloss: 0.0499652\n",
            "[646]\ttraining's binary_logloss: 8.11528e-05\tvalid_1's binary_logloss: 0.0501575\n",
            "[647]\ttraining's binary_logloss: 8.01254e-05\tvalid_1's binary_logloss: 0.0503607\n",
            "[648]\ttraining's binary_logloss: 7.90371e-05\tvalid_1's binary_logloss: 0.0496611\n",
            "[649]\ttraining's binary_logloss: 7.80943e-05\tvalid_1's binary_logloss: 0.0495775\n",
            "[650]\ttraining's binary_logloss: 7.69488e-05\tvalid_1's binary_logloss: 0.0500193\n",
            "[651]\ttraining's binary_logloss: 7.57792e-05\tvalid_1's binary_logloss: 0.04979\n",
            "[652]\ttraining's binary_logloss: 7.49408e-05\tvalid_1's binary_logloss: 0.050111\n",
            "[653]\ttraining's binary_logloss: 7.3874e-05\tvalid_1's binary_logloss: 0.0494148\n",
            "[654]\ttraining's binary_logloss: 7.27957e-05\tvalid_1's binary_logloss: 0.0496839\n",
            "[655]\ttraining's binary_logloss: 7.19341e-05\tvalid_1's binary_logloss: 0.0495983\n",
            "[656]\ttraining's binary_logloss: 7.09264e-05\tvalid_1's binary_logloss: 0.0493658\n",
            "[657]\ttraining's binary_logloss: 6.98996e-05\tvalid_1's binary_logloss: 0.0498161\n",
            "[658]\ttraining's binary_logloss: 6.89485e-05\tvalid_1's binary_logloss: 0.0495867\n",
            "[659]\ttraining's binary_logloss: 6.79947e-05\tvalid_1's binary_logloss: 0.0493382\n",
            "[660]\ttraining's binary_logloss: 6.72473e-05\tvalid_1's binary_logloss: 0.0496541\n",
            "[661]\ttraining's binary_logloss: 6.64044e-05\tvalid_1's binary_logloss: 0.050067\n",
            "[662]\ttraining's binary_logloss: 6.54201e-05\tvalid_1's binary_logloss: 0.0498536\n",
            "[663]\ttraining's binary_logloss: 6.47292e-05\tvalid_1's binary_logloss: 0.0496317\n",
            "[664]\ttraining's binary_logloss: 6.39042e-05\tvalid_1's binary_logloss: 0.0489415\n",
            "[665]\ttraining's binary_logloss: 6.31516e-05\tvalid_1's binary_logloss: 0.0492528\n",
            "[666]\ttraining's binary_logloss: 6.2341e-05\tvalid_1's binary_logloss: 0.0495291\n",
            "[667]\ttraining's binary_logloss: 6.15665e-05\tvalid_1's binary_logloss: 0.0497327\n",
            "[668]\ttraining's binary_logloss: 6.07855e-05\tvalid_1's binary_logloss: 0.0500145\n",
            "[669]\ttraining's binary_logloss: 5.99345e-05\tvalid_1's binary_logloss: 0.0497776\n",
            "[670]\ttraining's binary_logloss: 5.90641e-05\tvalid_1's binary_logloss: 0.0495832\n",
            "[671]\ttraining's binary_logloss: 5.83424e-05\tvalid_1's binary_logloss: 0.0492983\n",
            "[672]\ttraining's binary_logloss: 5.74996e-05\tvalid_1's binary_logloss: 0.0491084\n",
            "[673]\ttraining's binary_logloss: 5.68019e-05\tvalid_1's binary_logloss: 0.0488251\n",
            "[674]\ttraining's binary_logloss: 5.60883e-05\tvalid_1's binary_logloss: 0.0491126\n",
            "[675]\ttraining's binary_logloss: 5.53683e-05\tvalid_1's binary_logloss: 0.0492257\n",
            "[676]\ttraining's binary_logloss: 5.45553e-05\tvalid_1's binary_logloss: 0.0490407\n",
            "[677]\ttraining's binary_logloss: 5.39792e-05\tvalid_1's binary_logloss: 0.0488386\n",
            "[678]\ttraining's binary_logloss: 5.33487e-05\tvalid_1's binary_logloss: 0.0490166\n",
            "[679]\ttraining's binary_logloss: 5.25881e-05\tvalid_1's binary_logloss: 0.0488417\n",
            "[680]\ttraining's binary_logloss: 5.18688e-05\tvalid_1's binary_logloss: 0.048306\n",
            "[681]\ttraining's binary_logloss: 5.11881e-05\tvalid_1's binary_logloss: 0.0481297\n",
            "[682]\ttraining's binary_logloss: 5.0497e-05\tvalid_1's binary_logloss: 0.0479904\n",
            "[683]\ttraining's binary_logloss: 4.98441e-05\tvalid_1's binary_logloss: 0.0479099\n",
            "[684]\ttraining's binary_logloss: 4.91911e-05\tvalid_1's binary_logloss: 0.0477452\n",
            "[685]\ttraining's binary_logloss: 4.85348e-05\tvalid_1's binary_logloss: 0.0476201\n",
            "[686]\ttraining's binary_logloss: 4.78142e-05\tvalid_1's binary_logloss: 0.0480275\n",
            "[687]\ttraining's binary_logloss: 4.73082e-05\tvalid_1's binary_logloss: 0.047841\n",
            "[688]\ttraining's binary_logloss: 4.66581e-05\tvalid_1's binary_logloss: 0.0471737\n",
            "[689]\ttraining's binary_logloss: 4.60842e-05\tvalid_1's binary_logloss: 0.0470357\n",
            "[690]\ttraining's binary_logloss: 4.54911e-05\tvalid_1's binary_logloss: 0.0469628\n",
            "[691]\ttraining's binary_logloss: 4.49577e-05\tvalid_1's binary_logloss: 0.0471951\n",
            "[692]\ttraining's binary_logloss: 4.43616e-05\tvalid_1's binary_logloss: 0.0474544\n",
            "[693]\ttraining's binary_logloss: 4.38643e-05\tvalid_1's binary_logloss: 0.0474983\n",
            "[694]\ttraining's binary_logloss: 4.3297e-05\tvalid_1's binary_logloss: 0.0478268\n",
            "[695]\ttraining's binary_logloss: 4.27783e-05\tvalid_1's binary_logloss: 0.0477443\n",
            "[696]\ttraining's binary_logloss: 4.22454e-05\tvalid_1's binary_logloss: 0.0472107\n",
            "[697]\ttraining's binary_logloss: 4.17077e-05\tvalid_1's binary_logloss: 0.0469451\n",
            "[698]\ttraining's binary_logloss: 4.10999e-05\tvalid_1's binary_logloss: 0.0473612\n",
            "[699]\ttraining's binary_logloss: 4.05435e-05\tvalid_1's binary_logloss: 0.0472396\n",
            "[700]\ttraining's binary_logloss: 3.99451e-05\tvalid_1's binary_logloss: 0.0476302\n",
            "[701]\ttraining's binary_logloss: 3.94735e-05\tvalid_1's binary_logloss: 0.0475624\n",
            "[702]\ttraining's binary_logloss: 3.8952e-05\tvalid_1's binary_logloss: 0.0479573\n",
            "[703]\ttraining's binary_logloss: 3.85415e-05\tvalid_1's binary_logloss: 0.0477993\n",
            "[704]\ttraining's binary_logloss: 3.80665e-05\tvalid_1's binary_logloss: 0.0477415\n",
            "[705]\ttraining's binary_logloss: 3.75718e-05\tvalid_1's binary_logloss: 0.0476191\n",
            "[706]\ttraining's binary_logloss: 3.70946e-05\tvalid_1's binary_logloss: 0.047543\n",
            "[707]\ttraining's binary_logloss: 3.67076e-05\tvalid_1's binary_logloss: 0.0473905\n",
            "[708]\ttraining's binary_logloss: 3.62428e-05\tvalid_1's binary_logloss: 0.0473463\n",
            "[709]\ttraining's binary_logloss: 3.57841e-05\tvalid_1's binary_logloss: 0.0477745\n",
            "[710]\ttraining's binary_logloss: 3.53246e-05\tvalid_1's binary_logloss: 0.0480571\n",
            "[711]\ttraining's binary_logloss: 3.48805e-05\tvalid_1's binary_logloss: 0.0480212\n",
            "[712]\ttraining's binary_logloss: 3.44423e-05\tvalid_1's binary_logloss: 0.0484563\n",
            "[713]\ttraining's binary_logloss: 3.40042e-05\tvalid_1's binary_logloss: 0.0488437\n",
            "[714]\ttraining's binary_logloss: 3.36584e-05\tvalid_1's binary_logloss: 0.0489734\n",
            "[715]\ttraining's binary_logloss: 3.32395e-05\tvalid_1's binary_logloss: 0.0494167\n",
            "[716]\ttraining's binary_logloss: 3.28663e-05\tvalid_1's binary_logloss: 0.0496444\n",
            "[717]\ttraining's binary_logloss: 3.24716e-05\tvalid_1's binary_logloss: 0.0496322\n",
            "[718]\ttraining's binary_logloss: 3.19766e-05\tvalid_1's binary_logloss: 0.0495344\n",
            "[719]\ttraining's binary_logloss: 3.15962e-05\tvalid_1's binary_logloss: 0.0495249\n",
            "[720]\ttraining's binary_logloss: 3.12411e-05\tvalid_1's binary_logloss: 0.0495028\n",
            "[721]\ttraining's binary_logloss: 3.09034e-05\tvalid_1's binary_logloss: 0.04949\n",
            "[722]\ttraining's binary_logloss: 3.0548e-05\tvalid_1's binary_logloss: 0.0494608\n",
            "[723]\ttraining's binary_logloss: 3.02396e-05\tvalid_1's binary_logloss: 0.0493275\n",
            "[724]\ttraining's binary_logloss: 2.98583e-05\tvalid_1's binary_logloss: 0.0487592\n",
            "[725]\ttraining's binary_logloss: 2.95696e-05\tvalid_1's binary_logloss: 0.0483348\n",
            "[726]\ttraining's binary_logloss: 2.92615e-05\tvalid_1's binary_logloss: 0.0482814\n",
            "[727]\ttraining's binary_logloss: 2.89503e-05\tvalid_1's binary_logloss: 0.0483058\n",
            "[728]\ttraining's binary_logloss: 2.85891e-05\tvalid_1's binary_logloss: 0.0478053\n",
            "[729]\ttraining's binary_logloss: 2.82065e-05\tvalid_1's binary_logloss: 0.048105\n",
            "[730]\ttraining's binary_logloss: 2.78386e-05\tvalid_1's binary_logloss: 0.0480309\n",
            "[731]\ttraining's binary_logloss: 2.75461e-05\tvalid_1's binary_logloss: 0.0480567\n",
            "[732]\ttraining's binary_logloss: 2.71909e-05\tvalid_1's binary_logloss: 0.0479817\n",
            "[733]\ttraining's binary_logloss: 2.69118e-05\tvalid_1's binary_logloss: 0.047909\n",
            "[734]\ttraining's binary_logloss: 2.66318e-05\tvalid_1's binary_logloss: 0.0479405\n",
            "[735]\ttraining's binary_logloss: 2.63581e-05\tvalid_1's binary_logloss: 0.0478495\n",
            "[736]\ttraining's binary_logloss: 2.60674e-05\tvalid_1's binary_logloss: 0.0478849\n",
            "[737]\ttraining's binary_logloss: 2.577e-05\tvalid_1's binary_logloss: 0.0480366\n",
            "[738]\ttraining's binary_logloss: 2.55079e-05\tvalid_1's binary_logloss: 0.047999\n",
            "[739]\ttraining's binary_logloss: 2.52545e-05\tvalid_1's binary_logloss: 0.0480373\n",
            "[740]\ttraining's binary_logloss: 2.49546e-05\tvalid_1's binary_logloss: 0.0475159\n",
            "[741]\ttraining's binary_logloss: 2.47157e-05\tvalid_1's binary_logloss: 0.0476599\n",
            "[742]\ttraining's binary_logloss: 2.45069e-05\tvalid_1's binary_logloss: 0.0478591\n",
            "[743]\ttraining's binary_logloss: 2.42251e-05\tvalid_1's binary_logloss: 0.0477948\n",
            "[744]\ttraining's binary_logloss: 2.40423e-05\tvalid_1's binary_logloss: 0.0481296\n",
            "[745]\ttraining's binary_logloss: 2.38135e-05\tvalid_1's binary_logloss: 0.0485508\n",
            "[746]\ttraining's binary_logloss: 2.35583e-05\tvalid_1's binary_logloss: 0.0486676\n",
            "[747]\ttraining's binary_logloss: 2.33471e-05\tvalid_1's binary_logloss: 0.0488973\n",
            "[748]\ttraining's binary_logloss: 2.31432e-05\tvalid_1's binary_logloss: 0.0487059\n",
            "[749]\ttraining's binary_logloss: 2.29383e-05\tvalid_1's binary_logloss: 0.0489363\n",
            "[750]\ttraining's binary_logloss: 2.26576e-05\tvalid_1's binary_logloss: 0.0492993\n",
            "[751]\ttraining's binary_logloss: 2.24428e-05\tvalid_1's binary_logloss: 0.0494569\n",
            "[752]\ttraining's binary_logloss: 2.22592e-05\tvalid_1's binary_logloss: 0.0498404\n",
            "[753]\ttraining's binary_logloss: 2.20297e-05\tvalid_1's binary_logloss: 0.0496645\n",
            "[754]\ttraining's binary_logloss: 2.18559e-05\tvalid_1's binary_logloss: 0.0494643\n",
            "[755]\ttraining's binary_logloss: 2.16502e-05\tvalid_1's binary_logloss: 0.0496253\n",
            "[756]\ttraining's binary_logloss: 2.14449e-05\tvalid_1's binary_logloss: 0.0495058\n",
            "[757]\ttraining's binary_logloss: 2.12854e-05\tvalid_1's binary_logloss: 0.0498466\n",
            "[758]\ttraining's binary_logloss: 2.10983e-05\tvalid_1's binary_logloss: 0.0500852\n",
            "[759]\ttraining's binary_logloss: 2.09281e-05\tvalid_1's binary_logloss: 0.0503268\n",
            "[760]\ttraining's binary_logloss: 2.07745e-05\tvalid_1's binary_logloss: 0.0501153\n",
            "[761]\ttraining's binary_logloss: 2.05323e-05\tvalid_1's binary_logloss: 0.0501605\n",
            "[762]\ttraining's binary_logloss: 2.03409e-05\tvalid_1's binary_logloss: 0.0500296\n",
            "[763]\ttraining's binary_logloss: 2.01509e-05\tvalid_1's binary_logloss: 0.0499095\n",
            "[764]\ttraining's binary_logloss: 1.99632e-05\tvalid_1's binary_logloss: 0.0498359\n",
            "[765]\ttraining's binary_logloss: 1.98167e-05\tvalid_1's binary_logloss: 0.0501808\n",
            "[766]\ttraining's binary_logloss: 1.96498e-05\tvalid_1's binary_logloss: 0.0503328\n",
            "[767]\ttraining's binary_logloss: 1.95076e-05\tvalid_1's binary_logloss: 0.0506058\n",
            "[768]\ttraining's binary_logloss: 1.93668e-05\tvalid_1's binary_logloss: 0.050953\n",
            "[769]\ttraining's binary_logloss: 1.92055e-05\tvalid_1's binary_logloss: 0.0509342\n",
            "[770]\ttraining's binary_logloss: 1.90269e-05\tvalid_1's binary_logloss: 0.0508622\n",
            "[771]\ttraining's binary_logloss: 1.89069e-05\tvalid_1's binary_logloss: 0.0511565\n",
            "[772]\ttraining's binary_logloss: 1.87725e-05\tvalid_1's binary_logloss: 0.0515051\n",
            "[773]\ttraining's binary_logloss: 1.86565e-05\tvalid_1's binary_logloss: 0.0518047\n",
            "[774]\ttraining's binary_logloss: 1.84913e-05\tvalid_1's binary_logloss: 0.0516922\n",
            "[775]\ttraining's binary_logloss: 1.83623e-05\tvalid_1's binary_logloss: 0.0520435\n",
            "[776]\ttraining's binary_logloss: 1.82506e-05\tvalid_1's binary_logloss: 0.0523491\n",
            "[777]\ttraining's binary_logloss: 1.81054e-05\tvalid_1's binary_logloss: 0.0522397\n",
            "[778]\ttraining's binary_logloss: 1.7931e-05\tvalid_1's binary_logloss: 0.0525857\n",
            "[779]\ttraining's binary_logloss: 1.78239e-05\tvalid_1's binary_logloss: 0.0528969\n",
            "[780]\ttraining's binary_logloss: 1.76838e-05\tvalid_1's binary_logloss: 0.0527905\n",
            "[781]\ttraining's binary_logloss: 1.75698e-05\tvalid_1's binary_logloss: 0.0523204\n",
            "[782]\ttraining's binary_logloss: 1.74208e-05\tvalid_1's binary_logloss: 0.0523387\n",
            "[783]\ttraining's binary_logloss: 1.72536e-05\tvalid_1's binary_logloss: 0.0526851\n",
            "[784]\ttraining's binary_logloss: 1.7152e-05\tvalid_1's binary_logloss: 0.052999\n",
            "[785]\ttraining's binary_logloss: 1.70374e-05\tvalid_1's binary_logloss: 0.0531336\n",
            "[786]\ttraining's binary_logloss: 1.69434e-05\tvalid_1's binary_logloss: 0.0526869\n",
            "[787]\ttraining's binary_logloss: 1.68011e-05\tvalid_1's binary_logloss: 0.0526491\n",
            "[788]\ttraining's binary_logloss: 1.66601e-05\tvalid_1's binary_logloss: 0.0526675\n",
            "[789]\ttraining's binary_logloss: 1.65319e-05\tvalid_1's binary_logloss: 0.0529137\n",
            "[790]\ttraining's binary_logloss: 1.64013e-05\tvalid_1's binary_logloss: 0.0532138\n",
            "[791]\ttraining's binary_logloss: 1.62649e-05\tvalid_1's binary_logloss: 0.0532319\n",
            "[792]\ttraining's binary_logloss: 1.61789e-05\tvalid_1's binary_logloss: 0.0528008\n",
            "[793]\ttraining's binary_logloss: 1.60736e-05\tvalid_1's binary_logloss: 0.0529324\n",
            "[794]\ttraining's binary_logloss: 1.59484e-05\tvalid_1's binary_logloss: 0.0528837\n",
            "[795]\ttraining's binary_logloss: 1.58271e-05\tvalid_1's binary_logloss: 0.0531249\n",
            "[796]\ttraining's binary_logloss: 1.57445e-05\tvalid_1's binary_logloss: 0.0528683\n",
            "[797]\ttraining's binary_logloss: 1.56152e-05\tvalid_1's binary_logloss: 0.0528891\n"
          ]
        },
        {
          "output_type": "execute_result",
          "data": {
            "text/plain": [
              "LGBMClassifier(learning_rate=0.02, n_estimators=800)"
            ],
            "text/html": [
              "<style>#sk-container-id-1 {color: black;background-color: white;}#sk-container-id-1 pre{padding: 0;}#sk-container-id-1 div.sk-toggleable {background-color: white;}#sk-container-id-1 label.sk-toggleable__label {cursor: pointer;display: block;width: 100%;margin-bottom: 0;padding: 0.3em;box-sizing: border-box;text-align: center;}#sk-container-id-1 label.sk-toggleable__label-arrow:before {content: \"▸\";float: left;margin-right: 0.25em;color: #696969;}#sk-container-id-1 label.sk-toggleable__label-arrow:hover:before {color: black;}#sk-container-id-1 div.sk-estimator:hover label.sk-toggleable__label-arrow:before {color: black;}#sk-container-id-1 div.sk-toggleable__content {max-height: 0;max-width: 0;overflow: hidden;text-align: left;background-color: #f0f8ff;}#sk-container-id-1 div.sk-toggleable__content pre {margin: 0.2em;color: black;border-radius: 0.25em;background-color: #f0f8ff;}#sk-container-id-1 input.sk-toggleable__control:checked~div.sk-toggleable__content {max-height: 200px;max-width: 100%;overflow: auto;}#sk-container-id-1 input.sk-toggleable__control:checked~label.sk-toggleable__label-arrow:before {content: \"▾\";}#sk-container-id-1 div.sk-estimator input.sk-toggleable__control:checked~label.sk-toggleable__label {background-color: #d4ebff;}#sk-container-id-1 div.sk-label input.sk-toggleable__control:checked~label.sk-toggleable__label {background-color: #d4ebff;}#sk-container-id-1 input.sk-hidden--visually {border: 0;clip: rect(1px 1px 1px 1px);clip: rect(1px, 1px, 1px, 1px);height: 1px;margin: -1px;overflow: hidden;padding: 0;position: absolute;width: 1px;}#sk-container-id-1 div.sk-estimator {font-family: monospace;background-color: #f0f8ff;border: 1px dotted black;border-radius: 0.25em;box-sizing: border-box;margin-bottom: 0.5em;}#sk-container-id-1 div.sk-estimator:hover {background-color: #d4ebff;}#sk-container-id-1 div.sk-parallel-item::after {content: \"\";width: 100%;border-bottom: 1px solid gray;flex-grow: 1;}#sk-container-id-1 div.sk-label:hover label.sk-toggleable__label {background-color: #d4ebff;}#sk-container-id-1 div.sk-serial::before {content: \"\";position: absolute;border-left: 1px solid gray;box-sizing: border-box;top: 0;bottom: 0;left: 50%;z-index: 0;}#sk-container-id-1 div.sk-serial {display: flex;flex-direction: column;align-items: center;background-color: white;padding-right: 0.2em;padding-left: 0.2em;position: relative;}#sk-container-id-1 div.sk-item {position: relative;z-index: 1;}#sk-container-id-1 div.sk-parallel {display: flex;align-items: stretch;justify-content: center;background-color: white;position: relative;}#sk-container-id-1 div.sk-item::before, #sk-container-id-1 div.sk-parallel-item::before {content: \"\";position: absolute;border-left: 1px solid gray;box-sizing: border-box;top: 0;bottom: 0;left: 50%;z-index: -1;}#sk-container-id-1 div.sk-parallel-item {display: flex;flex-direction: column;z-index: 1;position: relative;background-color: white;}#sk-container-id-1 div.sk-parallel-item:first-child::after {align-self: flex-end;width: 50%;}#sk-container-id-1 div.sk-parallel-item:last-child::after {align-self: flex-start;width: 50%;}#sk-container-id-1 div.sk-parallel-item:only-child::after {width: 0;}#sk-container-id-1 div.sk-dashed-wrapped {border: 1px dashed gray;margin: 0 0.4em 0.5em 0.4em;box-sizing: border-box;padding-bottom: 0.4em;background-color: white;}#sk-container-id-1 div.sk-label label {font-family: monospace;font-weight: bold;display: inline-block;line-height: 1.2em;}#sk-container-id-1 div.sk-label-container {text-align: center;}#sk-container-id-1 div.sk-container {/* jupyter's `normalize.less` sets `[hidden] { display: none; }` but bootstrap.min.css set `[hidden] { display: none !important; }` so we also need the `!important` here to be able to override the default hidden behavior on the sphinx rendered scikit-learn.org. See: https://github.com/scikit-learn/scikit-learn/issues/21755 */display: inline-block !important;position: relative;}#sk-container-id-1 div.sk-text-repr-fallback {display: none;}</style><div id=\"sk-container-id-1\" class=\"sk-top-container\"><div class=\"sk-text-repr-fallback\"><pre>LGBMClassifier(learning_rate=0.02, n_estimators=800)</pre><b>In a Jupyter environment, please rerun this cell to show the HTML representation or trust the notebook. <br />On GitHub, the HTML representation is unable to render, please try loading this page with nbviewer.org.</b></div><div class=\"sk-container\" hidden><div class=\"sk-item\"><div class=\"sk-estimator sk-toggleable\"><input class=\"sk-toggleable__control sk-hidden--visually\" id=\"sk-estimator-id-1\" type=\"checkbox\" checked><label for=\"sk-estimator-id-1\" class=\"sk-toggleable__label sk-toggleable__label-arrow\">LGBMClassifier</label><div class=\"sk-toggleable__content\"><pre>LGBMClassifier(learning_rate=0.02, n_estimators=800)</pre></div></div></div></div></div>"
            ]
          },
          "metadata": {},
          "execution_count": 104
        }
      ]
    },
    {
      "cell_type": "markdown",
      "source": [
        "### **3-1-g. 위에서 학습시킨 `lgbm_wrapper`의 정확도를 출력하세요.**"
      ],
      "metadata": {
        "id": "z3YiAxdOAhqh"
      }
    },
    {
      "cell_type": "code",
      "source": [
        "from sklearn.metrics import accuracy_score\n",
        "\n",
        "pred = lgbm_wrapper.predict(X_test)\n",
        "accuracy = accuracy_score(y_test, pred)\n",
        "\n",
        "print('lgbm 정확도: {0:.4f}'.format(accuracy))"
      ],
      "metadata": {
        "id": "yrG3MF-JAom3",
        "colab": {
          "base_uri": "https://localhost:8080/"
        },
        "outputId": "8ad803cd-6264-401d-dff1-fb0275941e10"
      },
      "execution_count": 109,
      "outputs": [
        {
          "output_type": "stream",
          "name": "stdout",
          "text": [
            "lgbm 정확도: 0.9561\n"
          ]
        }
      ]
    },
    {
      "cell_type": "markdown",
      "source": [
        "### **3-1-i. 피처 중요도를 중요한 순서대로 시각화 해주세요.**\n",
        "(힌트: 파머완 252 페이지)"
      ],
      "metadata": {
        "id": "s5_joSurAjHs"
      }
    },
    {
      "cell_type": "code",
      "source": [
        "from lightgbm import plot_importance\n",
        "import matplotlib.pyplot as plt\n",
        "%matplotlib inline\n",
        "\n",
        "fig, ax = plt.subplots(figsize=(10, 12))\n",
        "plot_importance(lgbm_wrapper, ax=ax)\n",
        "plt.savefig('lightgbm_feature_importance.tif', format='tif', dpi=300, bbox_inches='tight')"
      ],
      "metadata": {
        "id": "5PG_98tJBfB9",
        "colab": {
          "base_uri": "https://localhost:8080/",
          "height": 713
        },
        "outputId": "73d3edb6-d85f-41cd-c502-cced9d30dcfb"
      },
      "execution_count": 106,
      "outputs": [
        {
          "output_type": "display_data",
          "data": {
            "text/plain": [
              "<Figure size 1000x1200 with 1 Axes>"
            ],
            "image/png": "[encoded data removed]"
          },
          "metadata": {}
        }
      ]
    },
    {
      "cell_type": "markdown",
      "source": [
        "## **3-2. HyperOpt**"
      ],
      "metadata": {
        "id": "egUn68R9AjSZ"
      }
    },
    {
      "cell_type": "code",
      "source": [
        "from hyperopt import hp"
      ],
      "metadata": {
        "id": "YQfqj1GmGiYa"
      },
      "execution_count": 110,
      "outputs": []
    },
    {
      "cell_type": "markdown",
      "source": [
        "### **3-2-a. 주어진 정보를 바탕으로 검색 공간을 설정해 주세요.**\n",
        "(힌트: `hp.uniform`)\n",
        "\n",
        "- max_depth: 5에서 20까지, 간격 = 1\n",
        "- min_child_weight: 1에서 2까지, 간격 = 1\n",
        "- colsample_bytree: 0.5, 1\n",
        "- learning_rate: 0.01에서 0.2 사이, 정규 분포된 값으로"
      ],
      "metadata": {
        "id": "Dt90nZGGAjaO"
      }
    },
    {
      "cell_type": "code",
      "source": [
        "search_space = {'max_depth': hp.quniform('max_depth', 5, 20, 1),\n",
        "                'min_child_weight': hp.quniform('min_child_weight', 1, 2, 1),\n",
        "                'colsample_bytree': hp.uniform('colsample_bytree', 0.5, 1),\n",
        "                'learning_rate': hp.uniform('learning_rate', 0.01, 0.2)\n",
        "                   }"
      ],
      "metadata": {
        "id": "j9hI35hEBenL"
      },
      "execution_count": 111,
      "outputs": []
    },
    {
      "cell_type": "markdown",
      "source": [
        "### **3-2-b. 검색 공간을 인자로 받아 목적함수를 완성해 주세요.**\n",
        "(n_estimators = 800)  \n",
        "(❓❓❓❓❓로 표시된 빈칸을 채워주세요!)"
      ],
      "metadata": {
        "id": "3cSRp1UDAji8"
      }
    },
    {
      "cell_type": "code",
      "source": [
        "from sklearn.model_selection import cross_val_score\n",
        "from xgboost import XGBClassifier\n",
        "from hyperopt import STATUS_OK\n",
        "\n",
        "def objective_func(search_space):\n",
        "    xgb_clf = XGBClassifier(n_estimators = 800,\n",
        "                            max_depth = int(search_space['max_depth']),\n",
        "                            min_child_weight = int(search_space['min_child_weight']),\n",
        "                            learning_rate = search_space['learning_rate'],\n",
        "                            colsample_bytree = search_space['colsample_bytree'],\n",
        "                            eval_metric = 'logloss')\n",
        "    accuracy = cross_val_score(xgb_clf, X_train, y_train, scoring = 'accuracy', cv = 3)\n",
        "\n",
        "    return {'loss':-1 * np.mean(accuracy), 'status': STATUS_OK}"
      ],
      "metadata": {
        "id": "VIi05vIgHFKQ"
      },
      "execution_count": 124,
      "outputs": []
    },
    {
      "cell_type": "markdown",
      "source": [
        "### **3-2-c. best에 `fmin()` 함수를 이용하여 최적 파라미터 값들을 저장해 주세요.**\n",
        "- fn, 검색공간: 위에서 구한 값\n",
        "- 최대 반복 횟수: 50"
      ],
      "metadata": {
        "id": "dpFPo2bIBKYA"
      }
    },
    {
      "cell_type": "code",
      "source": [
        "from hyperopt import fmin, tpe, Trials\n",
        "\n",
        "trial_val = Trials()\n",
        "best = fmin(fn = objective_func,\n",
        "            space = search_space,\n",
        "            algo = tpe.suggest,\n",
        "            max_evals = 50,\n",
        "            trials = trial_val,\n",
        "            rstate = np.random.default_rng(seed = 9))\n",
        "print('best:', best)"
      ],
      "metadata": {
        "id": "oagDclMCKKmS",
        "colab": {
          "base_uri": "https://localhost:8080/"
        },
        "outputId": "1da35c84-b4e1-4864-a7a8-45af155d2705"
      },
      "execution_count": 125,
      "outputs": [
        {
          "output_type": "stream",
          "name": "stdout",
          "text": [
            "100%|██████████| 50/50 [01:47<00:00,  2.15s/trial, best loss: -0.9713895666318114]\n",
            "best: {'colsample_bytree': 0.5454909350906136, 'learning_rate': 0.1388806824079146, 'max_depth': 7.0, 'min_child_weight': 2.0}\n"
          ]
        }
      ]
    },
    {
      "cell_type": "markdown",
      "source": [
        "### **3-2-d. 아래는 best에 포함된 최적 파라미터들을 할당한 분류기입니다. 해당 분류기의 정확도를 출력해 주세요.**"
      ],
      "metadata": {
        "id": "X00SYdMqBKf-"
      }
    },
    {
      "cell_type": "code",
      "source": [
        "xgb_wrapper = XGBClassifier(n_estimators = 400,\n",
        "                            learning_rate = round(best['learning_rate'], 5),\n",
        "                            max_depth = int(best['max_depth']),\n",
        "                            min_child_weight = int(best['min_child_weight']),\n",
        "                            colsample_bytree = round(best['colsample_bytree'], 5)\n",
        "                           )\n",
        "\n",
        "evals = [(X_tr, y_tr), (X_val, y_val)]\n",
        "xgb_wrapper.fit(X_tr, y_tr, early_stopping_rounds = 50, eval_metric = 'logloss',\n",
        "                eval_set = evals, verbose = 0)\n",
        "\n",
        "preds = xgb_wrapper.predict(X_test)\n",
        "pred_proba = xgb_wrapper.predict_proba(X_test)[:, 1]\n",
        "\n",
        "get_clf_eval(y_test, preds, pred_proba)"
      ],
      "metadata": {
        "id": "YWG7Vx8qLskd",
        "colab": {
          "base_uri": "https://localhost:8080/"
        },
        "outputId": "f772f84d-f37a-4b13-f5a8-0d1bbe36c3de"
      },
      "execution_count": 128,
      "outputs": [
        {
          "output_type": "stream",
          "name": "stdout",
          "text": [
            "오차 행렬\n",
            "[[41  2]\n",
            " [ 1 70]]\n",
            "정확도: 0.9737, 정밀도: 0.9722, 재현율: 0.9859,    F1: 0.9790, AUC:0.9895\n"
          ]
        }
      ]
    },
    {
      "cell_type": "markdown",
      "source": [
        "# **4. 스태킹**\n",
        "- 4번 문제는 3번 문제에서 전처리 된 `water_potability.csv` 데이터를 계속 활용하시면 됩니다."
      ],
      "metadata": {
        "id": "Zi7nlAXnaIvx"
      }
    },
    {
      "cell_type": "markdown",
      "source": [
        "## **4-a. 기본 스태킹 기법을 적용해 봅시다.**\n",
        "- `SVM`, `KNN`, `로지스틱 회귀`, `결정 트리` 모델 객체를 생성해 주세요.\n",
        "- 최종 메타 모델은 `랜덤 포레스트`를 활용해주세요.\n",
        "- 파라미터 설정\n",
        "  - SVM: random_state = 0\n",
        "  - KNN: n_neighbors = 8\n",
        "  - RandomForest: n_estimators = 100, random_state = 0\n",
        "  - 나머지: 기본 파라미터(base model)"
      ],
      "metadata": {
        "id": "zo-EqV9IaOHE"
      }
    },
    {
      "cell_type": "code",
      "source": [
        "import numpy as np\n",
        "import pandas as pd\n",
        "import seaborn as sns\n",
        "import matplotlib.pyplot as plt\n",
        "%matplotlib inline"
      ],
      "metadata": {
        "id": "A8oVE61iW2rE"
      },
      "execution_count": 129,
      "outputs": []
    },
    {
      "cell_type": "code",
      "source": [
        "from sklearn.svm import SVC\n",
        "from sklearn.neighbors import KNeighborsClassifier\n",
        "from sklearn.linear_model import LogisticRegression\n",
        "from sklearn.tree import DecisionTreeClassifier\n",
        "from sklearn.ensemble import RandomForestClassifier\n",
        "\n",
        "# SVM, KNN, 로지스틱 회귀, 결정 트리 개별 모델들을 생성해 주세요.\n",
        "svm_clf = SVC(kernel='linear', random_state=0)\n",
        "knn_clf = KNeighborsClassifier(n_neighbors=8)\n",
        "lr_clf =  LogisticRegression()\n",
        "dt_clf = DecisionTreeClassifier()\n",
        "\n",
        "# 최종 메타 모델로 랜덤 포레스트를 생성해 주세요.\n",
        "rf_final = RandomForestClassifier(n_estimators=100, random_state=0)"
      ],
      "metadata": {
        "id": "-g8nzDlXW_hD"
      },
      "execution_count": 132,
      "outputs": []
    },
    {
      "cell_type": "markdown",
      "source": [
        "## **4-b. 개별 모델들을 학습시키고 예측을 수행합니다.**\n",
        "- 아래 코드를 완성시켜 봅시다.\n",
        "\n"
      ],
      "metadata": {
        "id": "_kiFDVuDZ92_"
      }
    },
    {
      "cell_type": "code",
      "source": [
        "svm_clf.fit(X_tr, y_tr)\n",
        "knn_clf.fit(X_tr, y_tr)\n",
        "lr_clf.fit(X_tr, y_tr)\n",
        "dt_clf.fit(X_tr, y_tr)"
      ],
      "metadata": {
        "id": "Vda9AE6ga1ne",
        "colab": {
          "base_uri": "https://localhost:8080/",
          "height": 75
        },
        "outputId": "86fbc76a-abd6-4bd2-86d8-e506c6156e43"
      },
      "execution_count": 134,
      "outputs": [
        {
          "output_type": "execute_result",
          "data": {
            "text/plain": [
              "DecisionTreeClassifier()"
            ],
            "text/html": [
              "<style>#sk-container-id-4 {color: black;background-color: white;}#sk-container-id-4 pre{padding: 0;}#sk-container-id-4 div.sk-toggleable {background-color: white;}#sk-container-id-4 label.sk-toggleable__label {cursor: pointer;display: block;width: 100%;margin-bottom: 0;padding: 0.3em;box-sizing: border-box;text-align: center;}#sk-container-id-4 label.sk-toggleable__label-arrow:before {content: \"▸\";float: left;margin-right: 0.25em;color: #696969;}#sk-container-id-4 label.sk-toggleable__label-arrow:hover:before {color: black;}#sk-container-id-4 div.sk-estimator:hover label.sk-toggleable__label-arrow:before {color: black;}#sk-container-id-4 div.sk-toggleable__content {max-height: 0;max-width: 0;overflow: hidden;text-align: left;background-color: #f0f8ff;}#sk-container-id-4 div.sk-toggleable__content pre {margin: 0.2em;color: black;border-radius: 0.25em;background-color: #f0f8ff;}#sk-container-id-4 input.sk-toggleable__control:checked~div.sk-toggleable__content {max-height: 200px;max-width: 100%;overflow: auto;}#sk-container-id-4 input.sk-toggleable__control:checked~label.sk-toggleable__label-arrow:before {content: \"▾\";}#sk-container-id-4 div.sk-estimator input.sk-toggleable__control:checked~label.sk-toggleable__label {background-color: #d4ebff;}#sk-container-id-4 div.sk-label input.sk-toggleable__control:checked~label.sk-toggleable__label {background-color: #d4ebff;}#sk-container-id-4 input.sk-hidden--visually {border: 0;clip: rect(1px 1px 1px 1px);clip: rect(1px, 1px, 1px, 1px);height: 1px;margin: -1px;overflow: hidden;padding: 0;position: absolute;width: 1px;}#sk-container-id-4 div.sk-estimator {font-family: monospace;background-color: #f0f8ff;border: 1px dotted black;border-radius: 0.25em;box-sizing: border-box;margin-bottom: 0.5em;}#sk-container-id-4 div.sk-estimator:hover {background-color: #d4ebff;}#sk-container-id-4 div.sk-parallel-item::after {content: \"\";width: 100%;border-bottom: 1px solid gray;flex-grow: 1;}#sk-container-id-4 div.sk-label:hover label.sk-toggleable__label {background-color: #d4ebff;}#sk-container-id-4 div.sk-serial::before {content: \"\";position: absolute;border-left: 1px solid gray;box-sizing: border-box;top: 0;bottom: 0;left: 50%;z-index: 0;}#sk-container-id-4 div.sk-serial {display: flex;flex-direction: column;align-items: center;background-color: white;padding-right: 0.2em;padding-left: 0.2em;position: relative;}#sk-container-id-4 div.sk-item {position: relative;z-index: 1;}#sk-container-id-4 div.sk-parallel {display: flex;align-items: stretch;justify-content: center;background-color: white;position: relative;}#sk-container-id-4 div.sk-item::before, #sk-container-id-4 div.sk-parallel-item::before {content: \"\";position: absolute;border-left: 1px solid gray;box-sizing: border-box;top: 0;bottom: 0;left: 50%;z-index: -1;}#sk-container-id-4 div.sk-parallel-item {display: flex;flex-direction: column;z-index: 1;position: relative;background-color: white;}#sk-container-id-4 div.sk-parallel-item:first-child::after {align-self: flex-end;width: 50%;}#sk-container-id-4 div.sk-parallel-item:last-child::after {align-self: flex-start;width: 50%;}#sk-container-id-4 div.sk-parallel-item:only-child::after {width: 0;}#sk-container-id-4 div.sk-dashed-wrapped {border: 1px dashed gray;margin: 0 0.4em 0.5em 0.4em;box-sizing: border-box;padding-bottom: 0.4em;background-color: white;}#sk-container-id-4 div.sk-label label {font-family: monospace;font-weight: bold;display: inline-block;line-height: 1.2em;}#sk-container-id-4 div.sk-label-container {text-align: center;}#sk-container-id-4 div.sk-container {/* jupyter's `normalize.less` sets `[hidden] { display: none; }` but bootstrap.min.css set `[hidden] { display: none !important; }` so we also need the `!important` here to be able to override the default hidden behavior on the sphinx rendered scikit-learn.org. See: https://github.com/scikit-learn/scikit-learn/issues/21755 */display: inline-block !important;position: relative;}#sk-container-id-4 div.sk-text-repr-fallback {display: none;}</style><div id=\"sk-container-id-4\" class=\"sk-top-container\"><div class=\"sk-text-repr-fallback\"><pre>DecisionTreeClassifier()</pre><b>In a Jupyter environment, please rerun this cell to show the HTML representation or trust the notebook. <br />On GitHub, the HTML representation is unable to render, please try loading this page with nbviewer.org.</b></div><div class=\"sk-container\" hidden><div class=\"sk-item\"><div class=\"sk-estimator sk-toggleable\"><input class=\"sk-toggleable__control sk-hidden--visually\" id=\"sk-estimator-id-4\" type=\"checkbox\" checked><label for=\"sk-estimator-id-4\" class=\"sk-toggleable__label sk-toggleable__label-arrow\">DecisionTreeClassifier</label><div class=\"sk-toggleable__content\"><pre>DecisionTreeClassifier()</pre></div></div></div></div></div>"
            ]
          },
          "metadata": {},
          "execution_count": 134
        }
      ]
    },
    {
      "cell_type": "code",
      "source": [
        "## 학습된 개별 모델들이 반환하는 예측 데이터셋을 생성하세요.\n",
        "# 예측 시 들어가는 테스트 데이터셋 이름은 X_val 입니다.\n",
        "svm_pred = svm_clf.predict(X_test)\n",
        "knn_pred = knn_clf.predict(X_test)\n",
        "lr_pred = lr_clf.predict(X_test)\n",
        "dt_pred = dt_clf.predict(X_test)\n",
        "\n",
        "## 예측 정확도를 반환하세요. 테스트 레이블 데이터셋 이름은 y_val 입니다.\n",
        "# hint : accuracy_score()\n",
        "print('SVM 정확도: {0:.4f}'.format(accuracy_score(y_test, svm_pred)))\n",
        "print('KNN 정확도: {0:.4f}'.format(accuracy_score(y_test, knn_pred)))\n",
        "print('로지스틱 회귀 정확도: {0:.4f}'.format(accuracy_score(y_test, lr_pred)))\n",
        "print('결정 트리 정확도: {0:.4f}'.format(accuracy_score(y_test, dt_pred)))"
      ],
      "metadata": {
        "id": "bqQEJMSwbXfz",
        "colab": {
          "base_uri": "https://localhost:8080/"
        },
        "outputId": "a018f4fb-f647-4e3d-e6fa-d3da34b982f4"
      },
      "execution_count": 138,
      "outputs": [
        {
          "output_type": "stream",
          "name": "stdout",
          "text": [
            "SVM 정확도: 0.9561\n",
            "KNN 정확도: 0.9561\n",
            "로지스틱 회귀 정확도: 0.9561\n",
            "결정 트리 정확도: 0.9035\n"
          ]
        }
      ]
    },
    {
      "cell_type": "markdown",
      "source": [
        "## **4-c. 반환된 예측 데이터셋을 행 형태로 묶어 pred 데이터셋에 저장합니다**"
      ],
      "metadata": {
        "id": "AmQiW4i4c_9B"
      }
    },
    {
      "cell_type": "code",
      "source": [
        "pred = np.array([svm_pred, knn_pred, lr_pred, dt_pred])\n",
        "print(pred.shape)\n",
        "\n",
        "# 행과 열의 위치를 교환해 원본 데이터 값 하나 당 예측 데이터셋의 값이 1대1 매칭이 되도록 하세요.\n",
        "pred = np.transpose(pred)\n",
        "print(pred.shape)"
      ],
      "metadata": {
        "id": "Od3yHZ3fc8Uf",
        "colab": {
          "base_uri": "https://localhost:8080/"
        },
        "outputId": "2d60a8c3-dbff-4a41-f564-821c3610eadf"
      },
      "execution_count": 140,
      "outputs": [
        {
          "output_type": "stream",
          "name": "stdout",
          "text": [
            "(4, 114)\n",
            "(114, 4)\n"
          ]
        }
      ]
    },
    {
      "cell_type": "markdown",
      "source": [
        "## **4-d. 완성된 최종 데이터셋을 최종 메타 모델에 학습시키고 예측시킵니다.**\n",
        "- 기본 스태킹 모델이므로 학습과 예측 모두 **동일한** 데이터셋을 사용합니다.\n",
        "- **정확도**도 함께 출력해 주세요."
      ],
      "metadata": {
        "id": "h8rhG78DdzpT"
      }
    },
    {
      "cell_type": "code",
      "source": [
        "rf_final.fit(pred, y_test)\n",
        "final = rf_final.predict(pred)\n",
        "\n",
        "print('최종 메타 모델의 예측 정확도: {0:.4f}'.format(accuracy_score(y_test , final)))"
      ],
      "metadata": {
        "id": "eDf69kCPebqf",
        "colab": {
          "base_uri": "https://localhost:8080/"
        },
        "outputId": "658b28cb-7baf-4f91-f72c-752ba46561d8"
      },
      "execution_count": 143,
      "outputs": [
        {
          "output_type": "stream",
          "name": "stdout",
          "text": [
            "최종 메타 모델의 예측 정확도: 0.9649\n"
          ]
        }
      ]
    },
    {
      "cell_type": "markdown",
      "source": [
        "# **5. CatBoost**\n",
        "- 책에서 다루지 않는 부분이기 때문에 간단한 실습만 진행합니다."
      ],
      "metadata": {
        "id": "Bt9i77_NqqJp"
      }
    },
    {
      "cell_type": "code",
      "source": [
        "# catboost를 사용하기 위해 다음 코드를 실행합니다.\n",
        "\n",
        "!pip install optuna\n",
        "!pip install catboost"
      ],
      "metadata": {
        "id": "bUp-KlCjr7nt",
        "colab": {
          "base_uri": "https://localhost:8080/"
        },
        "outputId": "b20e3137-8438-49e1-96ac-11e10523ac72"
      },
      "execution_count": 144,
      "outputs": [
        {
          "output_type": "stream",
          "name": "stdout",
          "text": [
            "Collecting optuna\n",
            "  Downloading optuna-3.3.0-py3-none-any.whl (404 kB)\n",
            "\u001b[2K     \u001b[90m━━━━━━━━━━━━━━━━━━━━━━━━━━━━━━━━━━━━━━━\u001b[0m \u001b[32m404.2/404.2 kB\u001b[0m \u001b[31m6.0 MB/s\u001b[0m eta \u001b[36m0:00:00\u001b[0m\n",
            "\u001b[?25hCollecting alembic>=1.5.0 (from optuna)\n",
            "  Downloading alembic-1.12.0-py3-none-any.whl (226 kB)\n",
            "\u001b[2K     \u001b[90m━━━━━━━━━━━━━━━━━━━━━━━━━━━━━━━━━━━━━━\u001b[0m \u001b[32m226.0/226.0 kB\u001b[0m \u001b[31m19.5 MB/s\u001b[0m eta \u001b[36m0:00:00\u001b[0m\n",
            "\u001b[?25hCollecting cmaes>=0.10.0 (from optuna)\n",
            "  Downloading cmaes-0.10.0-py3-none-any.whl (29 kB)\n",
            "Collecting colorlog (from optuna)\n",
            "  Downloading colorlog-6.7.0-py2.py3-none-any.whl (11 kB)\n",
            "Requirement already satisfied: numpy in /usr/local/lib/python3.10/dist-packages (from optuna) (1.23.5)\n",
            "Requirement already satisfied: packaging>=20.0 in /usr/local/lib/python3.10/dist-packages (from optuna) (23.1)\n",
            "Requirement already satisfied: sqlalchemy>=1.3.0 in /usr/local/lib/python3.10/dist-packages (from optuna) (2.0.20)\n",
            "Requirement already satisfied: tqdm in /usr/local/lib/python3.10/dist-packages (from optuna) (4.66.1)\n",
            "Requirement already satisfied: PyYAML in /usr/local/lib/python3.10/dist-packages (from optuna) (6.0.1)\n",
            "Collecting Mako (from alembic>=1.5.0->optuna)\n",
            "  Downloading Mako-1.2.4-py3-none-any.whl (78 kB)\n",
            "\u001b[2K     \u001b[90m━━━━━━━━━━━━━━━━━━━━━━━━━━━━━━━━━━━━━━━━\u001b[0m \u001b[32m78.7/78.7 kB\u001b[0m \u001b[31m7.5 MB/s\u001b[0m eta \u001b[36m0:00:00\u001b[0m\n",
            "\u001b[?25hRequirement already satisfied: typing-extensions>=4 in /usr/local/lib/python3.10/dist-packages (from alembic>=1.5.0->optuna) (4.5.0)\n",
            "Requirement already satisfied: greenlet!=0.4.17 in /usr/local/lib/python3.10/dist-packages (from sqlalchemy>=1.3.0->optuna) (2.0.2)\n",
            "Requirement already satisfied: MarkupSafe>=0.9.2 in /usr/local/lib/python3.10/dist-packages (from Mako->alembic>=1.5.0->optuna) (2.1.3)\n",
            "Installing collected packages: Mako, colorlog, cmaes, alembic, optuna\n",
            "Successfully installed Mako-1.2.4 alembic-1.12.0 cmaes-0.10.0 colorlog-6.7.0 optuna-3.3.0\n",
            "Collecting catboost\n",
            "  Downloading catboost-1.2.2-cp310-cp310-manylinux2014_x86_64.whl (98.7 MB)\n",
            "\u001b[2K     \u001b[90m━━━━━━━━━━━━━━━━━━━━━━━━━━━━━━━━━━━━━━━━\u001b[0m \u001b[32m98.7/98.7 MB\u001b[0m \u001b[31m2.2 MB/s\u001b[0m eta \u001b[36m0:00:00\u001b[0m\n",
            "\u001b[?25hRequirement already satisfied: graphviz in /usr/local/lib/python3.10/dist-packages (from catboost) (0.20.1)\n",
            "Requirement already satisfied: matplotlib in /usr/local/lib/python3.10/dist-packages (from catboost) (3.7.1)\n",
            "Requirement already satisfied: numpy>=1.16.0 in /usr/local/lib/python3.10/dist-packages (from catboost) (1.23.5)\n",
            "Requirement already satisfied: pandas>=0.24 in /usr/local/lib/python3.10/dist-packages (from catboost) (1.5.3)\n",
            "Requirement already satisfied: scipy in /usr/local/lib/python3.10/dist-packages (from catboost) (1.11.2)\n",
            "Requirement already satisfied: plotly in /usr/local/lib/python3.10/dist-packages (from catboost) (5.15.0)\n",
            "Requirement already satisfied: six in /usr/local/lib/python3.10/dist-packages (from catboost) (1.16.0)\n",
            "Requirement already satisfied: python-dateutil>=2.8.1 in /usr/local/lib/python3.10/dist-packages (from pandas>=0.24->catboost) (2.8.2)\n",
            "Requirement already satisfied: pytz>=2020.1 in /usr/local/lib/python3.10/dist-packages (from pandas>=0.24->catboost) (2023.3.post1)\n",
            "Requirement already satisfied: contourpy>=1.0.1 in /usr/local/lib/python3.10/dist-packages (from matplotlib->catboost) (1.1.0)\n",
            "Requirement already satisfied: cycler>=0.10 in /usr/local/lib/python3.10/dist-packages (from matplotlib->catboost) (0.11.0)\n",
            "Requirement already satisfied: fonttools>=4.22.0 in /usr/local/lib/python3.10/dist-packages (from matplotlib->catboost) (4.42.1)\n",
            "Requirement already satisfied: kiwisolver>=1.0.1 in /usr/local/lib/python3.10/dist-packages (from matplotlib->catboost) (1.4.5)\n",
            "Requirement already satisfied: packaging>=20.0 in /usr/local/lib/python3.10/dist-packages (from matplotlib->catboost) (23.1)\n",
            "Requirement already satisfied: pillow>=6.2.0 in /usr/local/lib/python3.10/dist-packages (from matplotlib->catboost) (9.4.0)\n",
            "Requirement already satisfied: pyparsing>=2.3.1 in /usr/local/lib/python3.10/dist-packages (from matplotlib->catboost) (3.1.1)\n",
            "Requirement already satisfied: tenacity>=6.2.0 in /usr/local/lib/python3.10/dist-packages (from plotly->catboost) (8.2.3)\n",
            "Installing collected packages: catboost\n",
            "Successfully installed catboost-1.2.2\n"
          ]
        }
      ]
    },
    {
      "cell_type": "code",
      "source": [
        "from sklearn import datasets\n",
        "from sklearn import metrics\n",
        "from catboost import CatBoostClassifier"
      ],
      "metadata": {
        "id": "xbcYHmIsqycq"
      },
      "execution_count": 145,
      "outputs": []
    },
    {
      "cell_type": "code",
      "source": [
        "df = datasets.load_iris()\n",
        "X = df.data\n",
        "y = df.target\n",
        "\n",
        "X_train, X_test, y_train, y_test = train_test_split(X, y, test_size = 0.3)"
      ],
      "metadata": {
        "id": "cT3d6EKqsJRj"
      },
      "execution_count": 146,
      "outputs": []
    },
    {
      "cell_type": "code",
      "source": [
        "# CatBoostClassifier 객체를 생성하고 학습시켜 주세요.\n",
        "\n",
        "model_CBC = CatBoostClassifier()\n",
        "model_CBC.fit(X_train, y_train, verbose = 0)"
      ],
      "metadata": {
        "id": "8t-R1-Wfskfm",
        "colab": {
          "base_uri": "https://localhost:8080/"
        },
        "outputId": "73720e07-19ef-4538-99bd-04e594354eb8"
      },
      "execution_count": 151,
      "outputs": [
        {
          "output_type": "execute_result",
          "data": {
            "text/plain": [
              "<catboost.core.CatBoostClassifier at 0x7b6bc6895ff0>"
            ]
          },
          "metadata": {},
          "execution_count": 151
        }
      ]
    },
    {
      "cell_type": "code",
      "source": [
        "# pred에 X_test에 대한 예측 결과를 저장해 주세요.\n",
        "pred = model_CBC.predict(X_test)\n",
        "\n",
        "# 아래 코드를 완성해서 정확도를 출력하세요.\n",
        "print('CatBoost의 예측 정확도: {0:.4f}'.format(accuracy_score(y_test, pred)))"
      ],
      "metadata": {
        "id": "7yfAnYNXs4LW",
        "colab": {
          "base_uri": "https://localhost:8080/"
        },
        "outputId": "fe47ffbf-cbf5-4a61-b293-5bf126f99962"
      },
      "execution_count": 154,
      "outputs": [
        {
          "output_type": "stream",
          "name": "stdout",
          "text": [
            "CatBoost의 예측 정확도: 0.9556\n"
          ]
        }
      ]
    }
  ]
}