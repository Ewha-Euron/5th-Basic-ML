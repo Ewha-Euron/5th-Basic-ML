{
 "cells": [
  {
   "cell_type": "markdown",
   "metadata": {
    "id": "oW4LpW9lRj3n"
   },
   "source": [
    "# **1. GBM**\n"
   ]
  },
  {
   "cell_type": "markdown",
   "metadata": {
    "id": "s3_1vAdpRxoo"
   },
   "source": [
    "## **1-a. `creditcard.csv`를 다운받은 후 실습을 진행해 주세요.**\n",
    "- 데이터 출처: [Credit Card Fraud Detection](https://www.kaggle.com/datasets/mlg-ulb/creditcardfraud)"
   ]
  },
  {
   "cell_type": "code",
   "execution_count": 37,
   "metadata": {
    "id": "3vR5gQ4HYGAX"
   },
   "outputs": [
    {
     "ename": "ModuleNotFoundError",
     "evalue": "No module named 'google'",
     "output_type": "error",
     "traceback": [
      "\u001b[1;31m---------------------------------------------------------------------------\u001b[0m",
      "\u001b[1;31mModuleNotFoundError\u001b[0m                       Traceback (most recent call last)",
      "Cell \u001b[1;32mIn[37], line 4\u001b[0m\n\u001b[0;32m      1\u001b[0m \u001b[38;5;66;03m## Colab - 구글 드라이브 마운트\u001b[39;00m\n\u001b[0;32m      2\u001b[0m \u001b[38;5;66;03m# Colab을 사용하시는 분들만 실행시켜 주시면 됩니다.\u001b[39;00m\n\u001b[1;32m----> 4\u001b[0m \u001b[38;5;28;01mfrom\u001b[39;00m \u001b[38;5;21;01mgoogle\u001b[39;00m\u001b[38;5;21;01m.\u001b[39;00m\u001b[38;5;21;01mcolab\u001b[39;00m \u001b[38;5;28;01mimport\u001b[39;00m drive\n\u001b[0;32m      5\u001b[0m drive\u001b[38;5;241m.\u001b[39mmount(\u001b[38;5;124m'\u001b[39m\u001b[38;5;124m/content/drive\u001b[39m\u001b[38;5;124m'\u001b[39m)\n",
      "\u001b[1;31mModuleNotFoundError\u001b[0m: No module named 'google'"
     ]
    }
   ],
   "source": [
    "## Colab - 구글 드라이브 마운트\n",
    "# Colab을 사용하시는 분들만 실행시켜 주시면 됩니다.\n",
    "\n",
    "from google.colab import drive\n",
    "drive.mount('/content/drive')"
   ]
  },
  {
   "cell_type": "code",
   "execution_count": 38,
   "metadata": {
    "id": "lkOKaEKZG2Yn"
   },
   "outputs": [
    {
     "data": {
      "text/html": [
       "<div>\n",
       "<style scoped>\n",
       "    .dataframe tbody tr th:only-of-type {\n",
       "        vertical-align: middle;\n",
       "    }\n",
       "\n",
       "    .dataframe tbody tr th {\n",
       "        vertical-align: top;\n",
       "    }\n",
       "\n",
       "    .dataframe thead th {\n",
       "        text-align: right;\n",
       "    }\n",
       "</style>\n",
       "<table border=\"1\" class=\"dataframe\">\n",
       "  <thead>\n",
       "    <tr style=\"text-align: right;\">\n",
       "      <th></th>\n",
       "      <th>Time</th>\n",
       "      <th>V1</th>\n",
       "      <th>V2</th>\n",
       "      <th>V3</th>\n",
       "      <th>V4</th>\n",
       "      <th>V5</th>\n",
       "      <th>V6</th>\n",
       "      <th>V7</th>\n",
       "      <th>V8</th>\n",
       "      <th>V9</th>\n",
       "      <th>...</th>\n",
       "      <th>V21</th>\n",
       "      <th>V22</th>\n",
       "      <th>V23</th>\n",
       "      <th>V24</th>\n",
       "      <th>V25</th>\n",
       "      <th>V26</th>\n",
       "      <th>V27</th>\n",
       "      <th>V28</th>\n",
       "      <th>Amount</th>\n",
       "      <th>Class</th>\n",
       "    </tr>\n",
       "  </thead>\n",
       "  <tbody>\n",
       "    <tr>\n",
       "      <th>0</th>\n",
       "      <td>0.0</td>\n",
       "      <td>-1.359807</td>\n",
       "      <td>-0.072781</td>\n",
       "      <td>2.536347</td>\n",
       "      <td>1.378155</td>\n",
       "      <td>-0.338321</td>\n",
       "      <td>0.462388</td>\n",
       "      <td>0.239599</td>\n",
       "      <td>0.098698</td>\n",
       "      <td>0.363787</td>\n",
       "      <td>...</td>\n",
       "      <td>-0.018307</td>\n",
       "      <td>0.277838</td>\n",
       "      <td>-0.110474</td>\n",
       "      <td>0.066928</td>\n",
       "      <td>0.128539</td>\n",
       "      <td>-0.189115</td>\n",
       "      <td>0.133558</td>\n",
       "      <td>-0.021053</td>\n",
       "      <td>149.62</td>\n",
       "      <td>0</td>\n",
       "    </tr>\n",
       "    <tr>\n",
       "      <th>1</th>\n",
       "      <td>0.0</td>\n",
       "      <td>1.191857</td>\n",
       "      <td>0.266151</td>\n",
       "      <td>0.166480</td>\n",
       "      <td>0.448154</td>\n",
       "      <td>0.060018</td>\n",
       "      <td>-0.082361</td>\n",
       "      <td>-0.078803</td>\n",
       "      <td>0.085102</td>\n",
       "      <td>-0.255425</td>\n",
       "      <td>...</td>\n",
       "      <td>-0.225775</td>\n",
       "      <td>-0.638672</td>\n",
       "      <td>0.101288</td>\n",
       "      <td>-0.339846</td>\n",
       "      <td>0.167170</td>\n",
       "      <td>0.125895</td>\n",
       "      <td>-0.008983</td>\n",
       "      <td>0.014724</td>\n",
       "      <td>2.69</td>\n",
       "      <td>0</td>\n",
       "    </tr>\n",
       "    <tr>\n",
       "      <th>2</th>\n",
       "      <td>1.0</td>\n",
       "      <td>-1.358354</td>\n",
       "      <td>-1.340163</td>\n",
       "      <td>1.773209</td>\n",
       "      <td>0.379780</td>\n",
       "      <td>-0.503198</td>\n",
       "      <td>1.800499</td>\n",
       "      <td>0.791461</td>\n",
       "      <td>0.247676</td>\n",
       "      <td>-1.514654</td>\n",
       "      <td>...</td>\n",
       "      <td>0.247998</td>\n",
       "      <td>0.771679</td>\n",
       "      <td>0.909412</td>\n",
       "      <td>-0.689281</td>\n",
       "      <td>-0.327642</td>\n",
       "      <td>-0.139097</td>\n",
       "      <td>-0.055353</td>\n",
       "      <td>-0.059752</td>\n",
       "      <td>378.66</td>\n",
       "      <td>0</td>\n",
       "    </tr>\n",
       "  </tbody>\n",
       "</table>\n",
       "<p>3 rows × 31 columns</p>\n",
       "</div>"
      ],
      "text/plain": [
       "   Time        V1        V2        V3        V4        V5        V6        V7  \\\n",
       "0   0.0 -1.359807 -0.072781  2.536347  1.378155 -0.338321  0.462388  0.239599   \n",
       "1   0.0  1.191857  0.266151  0.166480  0.448154  0.060018 -0.082361 -0.078803   \n",
       "2   1.0 -1.358354 -1.340163  1.773209  0.379780 -0.503198  1.800499  0.791461   \n",
       "\n",
       "         V8        V9  ...       V21       V22       V23       V24       V25  \\\n",
       "0  0.098698  0.363787  ... -0.018307  0.277838 -0.110474  0.066928  0.128539   \n",
       "1  0.085102 -0.255425  ... -0.225775 -0.638672  0.101288 -0.339846  0.167170   \n",
       "2  0.247676 -1.514654  ...  0.247998  0.771679  0.909412 -0.689281 -0.327642   \n",
       "\n",
       "        V26       V27       V28  Amount  Class  \n",
       "0 -0.189115  0.133558 -0.021053  149.62      0  \n",
       "1  0.125895 -0.008983  0.014724    2.69      0  \n",
       "2 -0.139097 -0.055353 -0.059752  378.66      0  \n",
       "\n",
       "[3 rows x 31 columns]"
      ]
     },
     "execution_count": 38,
     "metadata": {},
     "output_type": "execute_result"
    }
   ],
   "source": [
    "import pandas as pd\n",
    "import numpy as np \n",
    "import matplotlib.pyplot as plt\n",
    "import warnings\n",
    "warnings.filterwarnings(\"ignore\")\n",
    "%matplotlib inline\n",
    "df = pd.read_csv(r\"C:\\Users\\jain5\\Desktop\\Euron\\Data_Handling\\creditcard.csv\")\n",
    "df.head(3)"
   ]
  },
  {
   "cell_type": "code",
   "execution_count": 39,
   "metadata": {},
   "outputs": [
    {
     "name": "stdout",
     "output_type": "stream",
     "text": [
      "<class 'pandas.core.frame.DataFrame'>\n",
      "RangeIndex: 284807 entries, 0 to 284806\n",
      "Data columns (total 31 columns):\n",
      " #   Column  Non-Null Count   Dtype  \n",
      "---  ------  --------------   -----  \n",
      " 0   Time    284807 non-null  float64\n",
      " 1   V1      284807 non-null  float64\n",
      " 2   V2      284807 non-null  float64\n",
      " 3   V3      284807 non-null  float64\n",
      " 4   V4      284807 non-null  float64\n",
      " 5   V5      284807 non-null  float64\n",
      " 6   V6      284807 non-null  float64\n",
      " 7   V7      284807 non-null  float64\n",
      " 8   V8      284807 non-null  float64\n",
      " 9   V9      284807 non-null  float64\n",
      " 10  V10     284807 non-null  float64\n",
      " 11  V11     284807 non-null  float64\n",
      " 12  V12     284807 non-null  float64\n",
      " 13  V13     284807 non-null  float64\n",
      " 14  V14     284807 non-null  float64\n",
      " 15  V15     284807 non-null  float64\n",
      " 16  V16     284807 non-null  float64\n",
      " 17  V17     284807 non-null  float64\n",
      " 18  V18     284807 non-null  float64\n",
      " 19  V19     284807 non-null  float64\n",
      " 20  V20     284807 non-null  float64\n",
      " 21  V21     284807 non-null  float64\n",
      " 22  V22     284807 non-null  float64\n",
      " 23  V23     284807 non-null  float64\n",
      " 24  V24     284807 non-null  float64\n",
      " 25  V25     284807 non-null  float64\n",
      " 26  V26     284807 non-null  float64\n",
      " 27  V27     284807 non-null  float64\n",
      " 28  V28     284807 non-null  float64\n",
      " 29  Amount  284807 non-null  float64\n",
      " 30  Class   284807 non-null  int64  \n",
      "dtypes: float64(30), int64(1)\n",
      "memory usage: 67.4 MB\n"
     ]
    }
   ],
   "source": [
    "df.info()"
   ]
  },
  {
   "cell_type": "markdown",
   "metadata": {
    "id": "2_tC0W-5Ryje"
   },
   "source": [
    "## **1-b. GradientBoostingClassifier을 이용하여 훈련 데이터를 fit한 후, GBM 정확도와 수행시간을 구하세요.**\n",
    "(test_size = 0.2, random_state = 42)"
   ]
  },
  {
   "cell_type": "code",
   "execution_count": 40,
   "metadata": {
    "id": "7zBOFln9ZENb"
   },
   "outputs": [],
   "source": [
    "from sklearn.ensemble import GradientBoostingClassifier\n",
    "from sklearn.metrics import accuracy_score\n",
    "from sklearn.model_selection import train_test_split\n",
    "import time\n",
    "import warnings\n",
    "warnings.filterwarnings('ignore')"
   ]
  },
  {
   "cell_type": "code",
   "execution_count": 41,
   "metadata": {
    "colab": {
     "base_uri": "https://localhost:8080/"
    },
    "id": "967Hgk2YZXfa",
    "outputId": "aa8b3623-a718-43f5-d07d-87cd0ec29b85"
   },
   "outputs": [
    {
     "name": "stdout",
     "output_type": "stream",
     "text": [
      "GBM 정확도: 0.9989\n"
     ]
    }
   ],
   "source": [
    "## 데이터 분할: 훈련 데이터와 테스트 데이터\n",
    "\n",
    "X = df.drop('Class', axis=1)\n",
    "y = df['Class']\n",
    "X_train, X_test, y_train, y_test = train_test_split(X, y, test_size = 0.2, random_state = 42)\n",
    "\n",
    "## GBM 모델링\n",
    "# 아래에 코드를 작성해 주세요.\n",
    "start_time = time.time()\n",
    "gb_clf = GradientBoostingClassifier(random_state=0)\n",
    "gb_clf.fit(X_train , y_train)\n",
    "gb_pred = gb_clf.predict(X_test)\n",
    "gb_accuracy = accuracy_score(y_test, gb_pred)\n",
    "\n",
    "print('GBM 정확도: {0:.4f}'.format(gb_accuracy))"
   ]
  },
  {
   "cell_type": "markdown",
   "metadata": {
    "id": "0_npf7xNR1BZ"
   },
   "source": [
    "## **1-b(2). GBM으로 학습하는 시간이 얼마나 걸리는지 수행 시간을 출력해 주세요.**"
   ]
  },
  {
   "cell_type": "code",
   "execution_count": 42,
   "metadata": {
    "colab": {
     "base_uri": "https://localhost:8080/"
    },
    "id": "FdMUSczWa8_A",
    "outputId": "c47927fd-a125-4cab-a190-761f256d0009"
   },
   "outputs": [
    {
     "name": "stdout",
     "output_type": "stream",
     "text": [
      "GBM 수행 시간: 573.7 초 \n"
     ]
    }
   ],
   "source": [
    "print(\"GBM 수행 시간: {0:.1f} 초 \".format(time.time() - start_time))"
   ]
  },
  {
   "cell_type": "markdown",
   "metadata": {
    "id": "xqzN9Hy8TaOk"
   },
   "source": [
    "## **1-c. ```subsample``` 파라미터를 설정하여 gbm 모델을 학습시키고 학습 시간을 비교해 보세요.**  \n",
    "(subsample = 0.8)"
   ]
  },
  {
   "cell_type": "markdown",
   "metadata": {},
   "source": [
    "subsample : 개별 약한 학습기가 전체 데이터 중 몇 퍼센트를 기반으로 학습할 지 결정하는 파라미터. default=1"
   ]
  },
  {
   "cell_type": "code",
   "execution_count": 43,
   "metadata": {
    "id": "FxWwRW_7TbT0"
   },
   "outputs": [],
   "source": [
    "from sklearn.ensemble import GradientBoostingClassifier\n",
    "from sklearn.metrics import accuracy_score\n",
    "from sklearn.model_selection import train_test_split\n",
    "import time\n",
    "import warnings\n",
    "warnings.filterwarnings('ignore')"
   ]
  },
  {
   "cell_type": "code",
   "execution_count": 44,
   "metadata": {
    "colab": {
     "base_uri": "https://localhost:8080/"
    },
    "id": "4HAD9Ebsgte4",
    "outputId": "78b3f503-efbf-44f5-d170-4a05d34651e8"
   },
   "outputs": [
    {
     "name": "stdout",
     "output_type": "stream",
     "text": [
      "GBM 정확도2: 0.9991\n",
      "GBM 수행 시간2: 426.1 초 \n"
     ]
    }
   ],
   "source": [
    "start_time = time.time()\n",
    "gb_clf2 = GradientBoostingClassifier(subsample=0.8, random_state=0)\n",
    "gb_clf2.fit(X_train , y_train)\n",
    "gb_pred2 = gb_clf2.predict(X_test)\n",
    "gb_accuracy2 = accuracy_score(y_test, gb_pred2)\n",
    "\n",
    "print('GBM 정확도2: {0:.4f}'.format(gb_accuracy2))\n",
    "print(\"GBM 수행 시간2: {0:.1f} 초 \".format(time.time() - start_time))"
   ]
  },
  {
   "cell_type": "markdown",
   "metadata": {
    "id": "D52196vv7JoI"
   },
   "source": [
    "# **2. XGBoost**"
   ]
  },
  {
   "cell_type": "markdown",
   "metadata": {
    "id": "koZCKhp8HW4o"
   },
   "source": [
    "- 모델 : Python Wrapper XGBoost\n",
    "- 적용 데이터 : 위스콘신 유방암 데이터"
   ]
  },
  {
   "cell_type": "code",
   "execution_count": 12,
   "metadata": {
    "id": "ECMkbXJ-7KT6"
   },
   "outputs": [
    {
     "name": "stdout",
     "output_type": "stream",
     "text": [
      "1.7.3\n"
     ]
    }
   ],
   "source": [
    "import xgboost\n",
    "\n",
    "print(xgboost.__version__)"
   ]
  },
  {
   "cell_type": "markdown",
   "metadata": {
    "id": "5kFl0zeC7tQR"
   },
   "source": [
    "- 출력 : 1.7.3"
   ]
  },
  {
   "cell_type": "code",
   "execution_count": 13,
   "metadata": {
    "id": "fHDjuv_V7vAf"
   },
   "outputs": [],
   "source": [
    "import xgboost as xgb\n",
    "from xgboost import plot_importance\n",
    "\n",
    "import pandas as pd\n",
    "import numpy as np\n",
    "\n",
    "from sklearn.datasets import load_breast_cancer\n",
    "from sklearn.model_selection import train_test_split\n",
    "\n",
    "import warnings\n",
    "warnings.filterwarnings('ignore')"
   ]
  },
  {
   "cell_type": "markdown",
   "metadata": {
    "id": "L11sPCSZ74oH"
   },
   "source": [
    "##**2-a. cancer_df의 shape을 프린트하고, 상위 5개 행을 확인해 주세요.**"
   ]
  },
  {
   "cell_type": "code",
   "execution_count": 14,
   "metadata": {
    "id": "4wBOlQxn72Te"
   },
   "outputs": [],
   "source": [
    "dataset = load_breast_cancer()\n",
    "X_features = dataset.data\n",
    "y_label = dataset.target\n",
    "\n",
    "cancer_df = pd.DataFrame(data = X_features, columns = dataset.feature_names)\n",
    "cancer_df['target'] = y_label"
   ]
  },
  {
   "cell_type": "code",
   "execution_count": 15,
   "metadata": {
    "id": "cMfEC-nZ8HH-"
   },
   "outputs": [
    {
     "name": "stdout",
     "output_type": "stream",
     "text": [
      "(569, 31)\n"
     ]
    },
    {
     "data": {
      "text/html": [
       "<div>\n",
       "<style scoped>\n",
       "    .dataframe tbody tr th:only-of-type {\n",
       "        vertical-align: middle;\n",
       "    }\n",
       "\n",
       "    .dataframe tbody tr th {\n",
       "        vertical-align: top;\n",
       "    }\n",
       "\n",
       "    .dataframe thead th {\n",
       "        text-align: right;\n",
       "    }\n",
       "</style>\n",
       "<table border=\"1\" class=\"dataframe\">\n",
       "  <thead>\n",
       "    <tr style=\"text-align: right;\">\n",
       "      <th></th>\n",
       "      <th>mean radius</th>\n",
       "      <th>mean texture</th>\n",
       "      <th>mean perimeter</th>\n",
       "      <th>mean area</th>\n",
       "      <th>mean smoothness</th>\n",
       "      <th>mean compactness</th>\n",
       "      <th>mean concavity</th>\n",
       "      <th>mean concave points</th>\n",
       "      <th>mean symmetry</th>\n",
       "      <th>mean fractal dimension</th>\n",
       "      <th>...</th>\n",
       "      <th>worst texture</th>\n",
       "      <th>worst perimeter</th>\n",
       "      <th>worst area</th>\n",
       "      <th>worst smoothness</th>\n",
       "      <th>worst compactness</th>\n",
       "      <th>worst concavity</th>\n",
       "      <th>worst concave points</th>\n",
       "      <th>worst symmetry</th>\n",
       "      <th>worst fractal dimension</th>\n",
       "      <th>target</th>\n",
       "    </tr>\n",
       "  </thead>\n",
       "  <tbody>\n",
       "    <tr>\n",
       "      <th>0</th>\n",
       "      <td>17.99</td>\n",
       "      <td>10.38</td>\n",
       "      <td>122.80</td>\n",
       "      <td>1001.0</td>\n",
       "      <td>0.11840</td>\n",
       "      <td>0.27760</td>\n",
       "      <td>0.3001</td>\n",
       "      <td>0.14710</td>\n",
       "      <td>0.2419</td>\n",
       "      <td>0.07871</td>\n",
       "      <td>...</td>\n",
       "      <td>17.33</td>\n",
       "      <td>184.60</td>\n",
       "      <td>2019.0</td>\n",
       "      <td>0.1622</td>\n",
       "      <td>0.6656</td>\n",
       "      <td>0.7119</td>\n",
       "      <td>0.2654</td>\n",
       "      <td>0.4601</td>\n",
       "      <td>0.11890</td>\n",
       "      <td>0</td>\n",
       "    </tr>\n",
       "    <tr>\n",
       "      <th>1</th>\n",
       "      <td>20.57</td>\n",
       "      <td>17.77</td>\n",
       "      <td>132.90</td>\n",
       "      <td>1326.0</td>\n",
       "      <td>0.08474</td>\n",
       "      <td>0.07864</td>\n",
       "      <td>0.0869</td>\n",
       "      <td>0.07017</td>\n",
       "      <td>0.1812</td>\n",
       "      <td>0.05667</td>\n",
       "      <td>...</td>\n",
       "      <td>23.41</td>\n",
       "      <td>158.80</td>\n",
       "      <td>1956.0</td>\n",
       "      <td>0.1238</td>\n",
       "      <td>0.1866</td>\n",
       "      <td>0.2416</td>\n",
       "      <td>0.1860</td>\n",
       "      <td>0.2750</td>\n",
       "      <td>0.08902</td>\n",
       "      <td>0</td>\n",
       "    </tr>\n",
       "    <tr>\n",
       "      <th>2</th>\n",
       "      <td>19.69</td>\n",
       "      <td>21.25</td>\n",
       "      <td>130.00</td>\n",
       "      <td>1203.0</td>\n",
       "      <td>0.10960</td>\n",
       "      <td>0.15990</td>\n",
       "      <td>0.1974</td>\n",
       "      <td>0.12790</td>\n",
       "      <td>0.2069</td>\n",
       "      <td>0.05999</td>\n",
       "      <td>...</td>\n",
       "      <td>25.53</td>\n",
       "      <td>152.50</td>\n",
       "      <td>1709.0</td>\n",
       "      <td>0.1444</td>\n",
       "      <td>0.4245</td>\n",
       "      <td>0.4504</td>\n",
       "      <td>0.2430</td>\n",
       "      <td>0.3613</td>\n",
       "      <td>0.08758</td>\n",
       "      <td>0</td>\n",
       "    </tr>\n",
       "    <tr>\n",
       "      <th>3</th>\n",
       "      <td>11.42</td>\n",
       "      <td>20.38</td>\n",
       "      <td>77.58</td>\n",
       "      <td>386.1</td>\n",
       "      <td>0.14250</td>\n",
       "      <td>0.28390</td>\n",
       "      <td>0.2414</td>\n",
       "      <td>0.10520</td>\n",
       "      <td>0.2597</td>\n",
       "      <td>0.09744</td>\n",
       "      <td>...</td>\n",
       "      <td>26.50</td>\n",
       "      <td>98.87</td>\n",
       "      <td>567.7</td>\n",
       "      <td>0.2098</td>\n",
       "      <td>0.8663</td>\n",
       "      <td>0.6869</td>\n",
       "      <td>0.2575</td>\n",
       "      <td>0.6638</td>\n",
       "      <td>0.17300</td>\n",
       "      <td>0</td>\n",
       "    </tr>\n",
       "    <tr>\n",
       "      <th>4</th>\n",
       "      <td>20.29</td>\n",
       "      <td>14.34</td>\n",
       "      <td>135.10</td>\n",
       "      <td>1297.0</td>\n",
       "      <td>0.10030</td>\n",
       "      <td>0.13280</td>\n",
       "      <td>0.1980</td>\n",
       "      <td>0.10430</td>\n",
       "      <td>0.1809</td>\n",
       "      <td>0.05883</td>\n",
       "      <td>...</td>\n",
       "      <td>16.67</td>\n",
       "      <td>152.20</td>\n",
       "      <td>1575.0</td>\n",
       "      <td>0.1374</td>\n",
       "      <td>0.2050</td>\n",
       "      <td>0.4000</td>\n",
       "      <td>0.1625</td>\n",
       "      <td>0.2364</td>\n",
       "      <td>0.07678</td>\n",
       "      <td>0</td>\n",
       "    </tr>\n",
       "  </tbody>\n",
       "</table>\n",
       "<p>5 rows × 31 columns</p>\n",
       "</div>"
      ],
      "text/plain": [
       "   mean radius  mean texture  mean perimeter  mean area  mean smoothness  \\\n",
       "0        17.99         10.38          122.80     1001.0          0.11840   \n",
       "1        20.57         17.77          132.90     1326.0          0.08474   \n",
       "2        19.69         21.25          130.00     1203.0          0.10960   \n",
       "3        11.42         20.38           77.58      386.1          0.14250   \n",
       "4        20.29         14.34          135.10     1297.0          0.10030   \n",
       "\n",
       "   mean compactness  mean concavity  mean concave points  mean symmetry  \\\n",
       "0           0.27760          0.3001              0.14710         0.2419   \n",
       "1           0.07864          0.0869              0.07017         0.1812   \n",
       "2           0.15990          0.1974              0.12790         0.2069   \n",
       "3           0.28390          0.2414              0.10520         0.2597   \n",
       "4           0.13280          0.1980              0.10430         0.1809   \n",
       "\n",
       "   mean fractal dimension  ...  worst texture  worst perimeter  worst area  \\\n",
       "0                 0.07871  ...          17.33           184.60      2019.0   \n",
       "1                 0.05667  ...          23.41           158.80      1956.0   \n",
       "2                 0.05999  ...          25.53           152.50      1709.0   \n",
       "3                 0.09744  ...          26.50            98.87       567.7   \n",
       "4                 0.05883  ...          16.67           152.20      1575.0   \n",
       "\n",
       "   worst smoothness  worst compactness  worst concavity  worst concave points  \\\n",
       "0            0.1622             0.6656           0.7119                0.2654   \n",
       "1            0.1238             0.1866           0.2416                0.1860   \n",
       "2            0.1444             0.4245           0.4504                0.2430   \n",
       "3            0.2098             0.8663           0.6869                0.2575   \n",
       "4            0.1374             0.2050           0.4000                0.1625   \n",
       "\n",
       "   worst symmetry  worst fractal dimension  target  \n",
       "0          0.4601                  0.11890       0  \n",
       "1          0.2750                  0.08902       0  \n",
       "2          0.3613                  0.08758       0  \n",
       "3          0.6638                  0.17300       0  \n",
       "4          0.2364                  0.07678       0  \n",
       "\n",
       "[5 rows x 31 columns]"
      ]
     },
     "execution_count": 15,
     "metadata": {},
     "output_type": "execute_result"
    }
   ],
   "source": [
    "print(cancer_df.shape)\n",
    "cancer_df.head(5)"
   ]
  },
  {
   "cell_type": "markdown",
   "metadata": {
    "id": "tOKlsQLD8HoD"
   },
   "source": [
    "## **2-b. 전체 데이터 중 80%는 학습용 데이터, 20%는 테스트용 데이터로 추출하고, 각각의 shape을 print해주세요.**"
   ]
  },
  {
   "cell_type": "code",
   "execution_count": 16,
   "metadata": {
    "id": "o6k1w2nf8SCm"
   },
   "outputs": [],
   "source": [
    "X_train, X_test, y_train, y_test = train_test_split(X_features, y_label, test_size = 0.2, random_state = 42)"
   ]
  },
  {
   "cell_type": "code",
   "execution_count": 17,
   "metadata": {
    "id": "9ZB87ux88a6w"
   },
   "outputs": [],
   "source": [
    "dtrain = xgb.DMatrix(data = X_train, label = y_train)\n",
    "dtest = xgb.DMatrix(data = X_test, label = y_test)"
   ]
  },
  {
   "cell_type": "code",
   "execution_count": 18,
   "metadata": {},
   "outputs": [
    {
     "name": "stdout",
     "output_type": "stream",
     "text": [
      "(455, 30) (114, 30)\n",
      "(455,) (114,)\n"
     ]
    }
   ],
   "source": [
    "print(X_train.shape , X_test.shape)\n",
    "print(y_train.shape, y_test.shape)"
   ]
  },
  {
   "cell_type": "markdown",
   "metadata": {
    "id": "tzzNfY028f5b"
   },
   "source": [
    "##**2-c. 주어진 정보를 바탕으로 하이퍼 파라미터 목록을 완성해 주세요.**\n",
    "- 트리의 최대 깊이 : 3\n",
    "- 학습률 : 0.1\n",
    "- 반복 횟수 : 400"
   ]
  },
  {
   "cell_type": "code",
   "execution_count": 19,
   "metadata": {
    "id": "BZIEP5CS8jSs"
   },
   "outputs": [],
   "source": [
    "params = {\n",
    "          'objective':'binary:logistic',\n",
    "          'eval_metric':'logloss',\n",
    "            'max_depth':3,\n",
    "            'eta': 0.05\n",
    "         }\n",
    "num_rounds = 400"
   ]
  },
  {
   "cell_type": "code",
   "execution_count": 20,
   "metadata": {
    "id": "UInEOEh98t6z"
   },
   "outputs": [],
   "source": [
    "eval_list = [(dtrain,'train'),(dtest,'eval')] # 데이터 셋 이름"
   ]
  },
  {
   "cell_type": "markdown",
   "metadata": {
    "id": "Mzl7NufX8utk"
   },
   "source": [
    "## **2-d. 하이퍼 파라미터를 `train( )` 함수의 파라미터로 전달해 주세요.**"
   ]
  },
  {
   "cell_type": "code",
   "execution_count": 22,
   "metadata": {
    "id": "5vgia5qw8vCa"
   },
   "outputs": [
    {
     "name": "stdout",
     "output_type": "stream",
     "text": [
      "[0]\ttrain-logloss:0.65032\teval-logloss:0.65271\n",
      "[1]\ttrain-logloss:0.61155\teval-logloss:0.61483\n",
      "[2]\ttrain-logloss:0.57688\teval-logloss:0.58222\n",
      "[3]\ttrain-logloss:0.54436\teval-logloss:0.55196\n",
      "[4]\ttrain-logloss:0.51449\teval-logloss:0.52274\n",
      "[5]\ttrain-logloss:0.48753\teval-logloss:0.49829\n",
      "[6]\ttrain-logloss:0.46126\teval-logloss:0.47294\n",
      "[7]\ttrain-logloss:0.43709\teval-logloss:0.45091\n",
      "[8]\ttrain-logloss:0.41450\teval-logloss:0.42922\n",
      "[9]\ttrain-logloss:0.39406\teval-logloss:0.41097\n",
      "[10]\ttrain-logloss:0.37459\teval-logloss:0.39286\n",
      "[11]\ttrain-logloss:0.35632\teval-logloss:0.37536\n",
      "[12]\ttrain-logloss:0.33936\teval-logloss:0.35949\n",
      "[13]\ttrain-logloss:0.32339\teval-logloss:0.34431\n",
      "[14]\ttrain-logloss:0.30855\teval-logloss:0.33139\n",
      "[15]\ttrain-logloss:0.29453\teval-logloss:0.31815\n",
      "[16]\ttrain-logloss:0.28170\teval-logloss:0.30790\n",
      "[17]\ttrain-logloss:0.26949\teval-logloss:0.29742\n",
      "[18]\ttrain-logloss:0.25783\teval-logloss:0.28651\n",
      "[19]\ttrain-logloss:0.24690\teval-logloss:0.27632\n",
      "[20]\ttrain-logloss:0.23662\teval-logloss:0.26705\n",
      "[21]\ttrain-logloss:0.22715\teval-logloss:0.25964\n",
      "[22]\ttrain-logloss:0.21800\teval-logloss:0.25188\n",
      "[23]\ttrain-logloss:0.20935\teval-logloss:0.24395\n",
      "[24]\ttrain-logloss:0.20119\teval-logloss:0.23549\n",
      "[25]\ttrain-logloss:0.19359\teval-logloss:0.23001\n",
      "[26]\ttrain-logloss:0.18625\teval-logloss:0.22294\n",
      "[27]\ttrain-logloss:0.17932\teval-logloss:0.21563\n",
      "[28]\ttrain-logloss:0.17287\teval-logloss:0.21097\n",
      "[29]\ttrain-logloss:0.16659\teval-logloss:0.20533\n",
      "[30]\ttrain-logloss:0.16068\teval-logloss:0.19897\n",
      "[31]\ttrain-logloss:0.15507\teval-logloss:0.19515\n",
      "[32]\ttrain-logloss:0.14932\teval-logloss:0.18825\n",
      "[33]\ttrain-logloss:0.14436\teval-logloss:0.18499\n",
      "[34]\ttrain-logloss:0.13912\teval-logloss:0.18165\n",
      "[35]\ttrain-logloss:0.13417\teval-logloss:0.17554\n",
      "[36]\ttrain-logloss:0.12945\teval-logloss:0.17181\n",
      "[37]\ttrain-logloss:0.12532\teval-logloss:0.16723\n",
      "[38]\ttrain-logloss:0.12147\teval-logloss:0.16486\n",
      "[39]\ttrain-logloss:0.11741\teval-logloss:0.15966\n",
      "[40]\ttrain-logloss:0.11355\teval-logloss:0.15771\n",
      "[41]\ttrain-logloss:0.10982\teval-logloss:0.15382\n",
      "[42]\ttrain-logloss:0.10629\teval-logloss:0.15188\n",
      "[43]\ttrain-logloss:0.10293\teval-logloss:0.14836\n",
      "[44]\ttrain-logloss:0.09992\teval-logloss:0.14699\n",
      "[45]\ttrain-logloss:0.09693\teval-logloss:0.14328\n",
      "[46]\ttrain-logloss:0.09422\teval-logloss:0.14212\n",
      "[47]\ttrain-logloss:0.09141\teval-logloss:0.14023\n",
      "[48]\ttrain-logloss:0.08881\teval-logloss:0.13766\n",
      "[49]\ttrain-logloss:0.08646\teval-logloss:0.13682\n",
      "[50]\ttrain-logloss:0.08410\teval-logloss:0.13448\n",
      "[51]\ttrain-logloss:0.08180\teval-logloss:0.13198\n",
      "[52]\ttrain-logloss:0.07959\teval-logloss:0.13080\n",
      "[53]\ttrain-logloss:0.07762\teval-logloss:0.13023\n",
      "[54]\ttrain-logloss:0.07561\teval-logloss:0.12819\n",
      "[55]\ttrain-logloss:0.07369\teval-logloss:0.12707\n",
      "[56]\ttrain-logloss:0.07164\teval-logloss:0.12539\n",
      "[57]\ttrain-logloss:0.06960\teval-logloss:0.12497\n",
      "[58]\ttrain-logloss:0.06792\teval-logloss:0.12303\n",
      "[59]\ttrain-logloss:0.06640\teval-logloss:0.12287\n",
      "[60]\ttrain-logloss:0.06465\teval-logloss:0.12147\n",
      "[61]\ttrain-logloss:0.06309\teval-logloss:0.12091\n",
      "[62]\ttrain-logloss:0.06149\teval-logloss:0.11965\n",
      "[63]\ttrain-logloss:0.06008\teval-logloss:0.11921\n",
      "[64]\ttrain-logloss:0.05875\teval-logloss:0.11764\n",
      "[65]\ttrain-logloss:0.05749\teval-logloss:0.11616\n",
      "[66]\ttrain-logloss:0.05617\teval-logloss:0.11659\n",
      "[67]\ttrain-logloss:0.05486\teval-logloss:0.11559\n",
      "[68]\ttrain-logloss:0.05370\teval-logloss:0.11537\n",
      "[69]\ttrain-logloss:0.05250\teval-logloss:0.11447\n",
      "[70]\ttrain-logloss:0.05145\teval-logloss:0.11434\n",
      "[71]\ttrain-logloss:0.05015\teval-logloss:0.11409\n",
      "[72]\ttrain-logloss:0.04908\teval-logloss:0.11331\n",
      "[73]\ttrain-logloss:0.04791\teval-logloss:0.11377\n",
      "[74]\ttrain-logloss:0.04691\teval-logloss:0.11327\n",
      "[75]\ttrain-logloss:0.04604\teval-logloss:0.11312\n",
      "[76]\ttrain-logloss:0.04512\teval-logloss:0.11268\n",
      "[77]\ttrain-logloss:0.04404\teval-logloss:0.11262\n",
      "[78]\ttrain-logloss:0.04327\teval-logloss:0.11173\n",
      "[79]\ttrain-logloss:0.04246\teval-logloss:0.11243\n",
      "[80]\ttrain-logloss:0.04165\teval-logloss:0.11188\n",
      "[81]\ttrain-logloss:0.04077\teval-logloss:0.11241\n",
      "[82]\ttrain-logloss:0.04011\teval-logloss:0.11158\n",
      "[83]\ttrain-logloss:0.03938\teval-logloss:0.11112\n",
      "[84]\ttrain-logloss:0.03851\teval-logloss:0.11117\n",
      "[85]\ttrain-logloss:0.03792\teval-logloss:0.11043\n",
      "[86]\ttrain-logloss:0.03719\teval-logloss:0.11103\n",
      "[87]\ttrain-logloss:0.03654\teval-logloss:0.11050\n",
      "[88]\ttrain-logloss:0.03578\teval-logloss:0.11070\n",
      "[89]\ttrain-logloss:0.03517\teval-logloss:0.11056\n",
      "[90]\ttrain-logloss:0.03447\teval-logloss:0.11011\n",
      "[91]\ttrain-logloss:0.03399\teval-logloss:0.10949\n",
      "[92]\ttrain-logloss:0.03335\teval-logloss:0.10950\n",
      "[93]\ttrain-logloss:0.03273\teval-logloss:0.10965\n",
      "[94]\ttrain-logloss:0.03222\teval-logloss:0.10954\n",
      "[95]\ttrain-logloss:0.03171\teval-logloss:0.10945\n",
      "[96]\ttrain-logloss:0.03115\teval-logloss:0.10963\n",
      "[97]\ttrain-logloss:0.03068\teval-logloss:0.10899\n",
      "[98]\ttrain-logloss:0.03017\teval-logloss:0.10901\n",
      "[99]\ttrain-logloss:0.02977\teval-logloss:0.10849\n",
      "[100]\ttrain-logloss:0.02926\teval-logloss:0.10738\n",
      "[101]\ttrain-logloss:0.02878\teval-logloss:0.10745\n",
      "[102]\ttrain-logloss:0.02829\teval-logloss:0.10742\n",
      "[103]\ttrain-logloss:0.02788\teval-logloss:0.10797\n",
      "[104]\ttrain-logloss:0.02749\teval-logloss:0.10767\n",
      "[105]\ttrain-logloss:0.02704\teval-logloss:0.10766\n",
      "[106]\ttrain-logloss:0.02671\teval-logloss:0.10729\n",
      "[107]\ttrain-logloss:0.02630\teval-logloss:0.10753\n",
      "[108]\ttrain-logloss:0.02596\teval-logloss:0.10727\n",
      "[109]\ttrain-logloss:0.02554\teval-logloss:0.10716\n",
      "[110]\ttrain-logloss:0.02515\teval-logloss:0.10738\n",
      "[111]\ttrain-logloss:0.02482\teval-logloss:0.10738\n",
      "[112]\ttrain-logloss:0.02445\teval-logloss:0.10618\n",
      "[113]\ttrain-logloss:0.02412\teval-logloss:0.10602\n",
      "[114]\ttrain-logloss:0.02380\teval-logloss:0.10578\n",
      "[115]\ttrain-logloss:0.02354\teval-logloss:0.10606\n",
      "[116]\ttrain-logloss:0.02328\teval-logloss:0.10564\n",
      "[117]\ttrain-logloss:0.02294\teval-logloss:0.10558\n",
      "[118]\ttrain-logloss:0.02268\teval-logloss:0.10528\n",
      "[119]\ttrain-logloss:0.02241\teval-logloss:0.10567\n",
      "[120]\ttrain-logloss:0.02209\teval-logloss:0.10562\n",
      "[121]\ttrain-logloss:0.02180\teval-logloss:0.10551\n",
      "[122]\ttrain-logloss:0.02154\teval-logloss:0.10577\n",
      "[123]\ttrain-logloss:0.02130\teval-logloss:0.10494\n",
      "[124]\ttrain-logloss:0.02103\teval-logloss:0.10481\n",
      "[125]\ttrain-logloss:0.02076\teval-logloss:0.10406\n",
      "[126]\ttrain-logloss:0.02050\teval-logloss:0.10364\n",
      "[127]\ttrain-logloss:0.02023\teval-logloss:0.10367\n",
      "[128]\ttrain-logloss:0.02000\teval-logloss:0.10378\n",
      "[129]\ttrain-logloss:0.01980\teval-logloss:0.10307\n",
      "[130]\ttrain-logloss:0.01955\teval-logloss:0.10311\n",
      "[131]\ttrain-logloss:0.01936\teval-logloss:0.10301\n",
      "[132]\ttrain-logloss:0.01918\teval-logloss:0.10330\n",
      "[133]\ttrain-logloss:0.01896\teval-logloss:0.10364\n",
      "[134]\ttrain-logloss:0.01877\teval-logloss:0.10296\n",
      "[135]\ttrain-logloss:0.01854\teval-logloss:0.10302\n",
      "[136]\ttrain-logloss:0.01837\teval-logloss:0.10331\n",
      "[137]\ttrain-logloss:0.01820\teval-logloss:0.10322\n",
      "[138]\ttrain-logloss:0.01804\teval-logloss:0.10267\n",
      "[139]\ttrain-logloss:0.01779\teval-logloss:0.10304\n",
      "[140]\ttrain-logloss:0.01764\teval-logloss:0.10333\n",
      "[141]\ttrain-logloss:0.01741\teval-logloss:0.10363\n",
      "[142]\ttrain-logloss:0.01725\teval-logloss:0.10342\n",
      "[143]\ttrain-logloss:0.01711\teval-logloss:0.10303\n",
      "[144]\ttrain-logloss:0.01696\teval-logloss:0.10241\n",
      "[145]\ttrain-logloss:0.01677\teval-logloss:0.10228\n",
      "[146]\ttrain-logloss:0.01663\teval-logloss:0.10208\n",
      "[147]\ttrain-logloss:0.01649\teval-logloss:0.10237\n",
      "[148]\ttrain-logloss:0.01632\teval-logloss:0.10247\n",
      "[149]\ttrain-logloss:0.01613\teval-logloss:0.10254\n",
      "[150]\ttrain-logloss:0.01600\teval-logloss:0.10282\n",
      "[151]\ttrain-logloss:0.01585\teval-logloss:0.10269\n",
      "[152]\ttrain-logloss:0.01567\teval-logloss:0.10276\n",
      "[153]\ttrain-logloss:0.01556\teval-logloss:0.10237\n",
      "[154]\ttrain-logloss:0.01543\teval-logloss:0.10206\n",
      "[155]\ttrain-logloss:0.01529\teval-logloss:0.10185\n",
      "[156]\ttrain-logloss:0.01518\teval-logloss:0.10140\n",
      "[157]\ttrain-logloss:0.01504\teval-logloss:0.10181\n",
      "[158]\ttrain-logloss:0.01488\teval-logloss:0.10215\n",
      "[159]\ttrain-logloss:0.01478\teval-logloss:0.10216\n",
      "[160]\ttrain-logloss:0.01461\teval-logloss:0.10267\n",
      "[161]\ttrain-logloss:0.01453\teval-logloss:0.10272\n",
      "[162]\ttrain-logloss:0.01445\teval-logloss:0.10251\n",
      "[163]\ttrain-logloss:0.01430\teval-logloss:0.10285\n",
      "[164]\ttrain-logloss:0.01421\teval-logloss:0.10259\n",
      "[165]\ttrain-logloss:0.01408\teval-logloss:0.10213\n",
      "[166]\ttrain-logloss:0.01397\teval-logloss:0.10239\n",
      "[167]\ttrain-logloss:0.01383\teval-logloss:0.10273\n",
      "[168]\ttrain-logloss:0.01375\teval-logloss:0.10248\n",
      "[169]\ttrain-logloss:0.01366\teval-logloss:0.10249\n"
     ]
    },
    {
     "name": "stdout",
     "output_type": "stream",
     "text": [
      "[170]\ttrain-logloss:0.01351\teval-logloss:0.10317\n",
      "[171]\ttrain-logloss:0.01344\teval-logloss:0.10285\n",
      "[172]\ttrain-logloss:0.01331\teval-logloss:0.10260\n",
      "[173]\ttrain-logloss:0.01318\teval-logloss:0.10327\n",
      "[174]\ttrain-logloss:0.01310\teval-logloss:0.10346\n",
      "[175]\ttrain-logloss:0.01304\teval-logloss:0.10308\n",
      "[176]\ttrain-logloss:0.01295\teval-logloss:0.10340\n",
      "[177]\ttrain-logloss:0.01288\teval-logloss:0.10308\n",
      "[178]\ttrain-logloss:0.01280\teval-logloss:0.10310\n",
      "[179]\ttrain-logloss:0.01269\teval-logloss:0.10364\n",
      "[180]\ttrain-logloss:0.01263\teval-logloss:0.10383\n",
      "[181]\ttrain-logloss:0.01257\teval-logloss:0.10346\n",
      "[182]\ttrain-logloss:0.01251\teval-logloss:0.10315\n",
      "[183]\ttrain-logloss:0.01242\teval-logloss:0.10330\n",
      "[184]\ttrain-logloss:0.01234\teval-logloss:0.10333\n",
      "[185]\ttrain-logloss:0.01225\teval-logloss:0.10311\n",
      "[186]\ttrain-logloss:0.01217\teval-logloss:0.10320\n",
      "[187]\ttrain-logloss:0.01211\teval-logloss:0.10332\n",
      "[188]\ttrain-logloss:0.01206\teval-logloss:0.10307\n",
      "[189]\ttrain-logloss:0.01200\teval-logloss:0.10277\n",
      "[190]\ttrain-logloss:0.01190\teval-logloss:0.10258\n",
      "[191]\ttrain-logloss:0.01182\teval-logloss:0.10261\n",
      "[192]\ttrain-logloss:0.01174\teval-logloss:0.10271\n",
      "[193]\ttrain-logloss:0.01167\teval-logloss:0.10289\n",
      "[194]\ttrain-logloss:0.01161\teval-logloss:0.10261\n",
      "[195]\ttrain-logloss:0.01154\teval-logloss:0.10264\n",
      "[196]\ttrain-logloss:0.01147\teval-logloss:0.10273\n",
      "[197]\ttrain-logloss:0.01141\teval-logloss:0.10286\n",
      "[198]\ttrain-logloss:0.01136\teval-logloss:0.10251\n",
      "[199]\ttrain-logloss:0.01132\teval-logloss:0.10227\n",
      "[200]\ttrain-logloss:0.01125\teval-logloss:0.10245\n",
      "[201]\ttrain-logloss:0.01119\teval-logloss:0.10257\n",
      "[202]\ttrain-logloss:0.01115\teval-logloss:0.10246\n",
      "[203]\ttrain-logloss:0.01108\teval-logloss:0.10249\n",
      "[204]\ttrain-logloss:0.01101\teval-logloss:0.10259\n",
      "[205]\ttrain-logloss:0.01097\teval-logloss:0.10235\n",
      "[206]\ttrain-logloss:0.01092\teval-logloss:0.10248\n"
     ]
    }
   ],
   "source": [
    "xgb_model = xgb.train(params = params , dtrain=dtrain , num_boost_round=num_rounds , \\\n",
    "                      early_stopping_rounds=50, evals=eval_list )"
   ]
  },
  {
   "cell_type": "code",
   "execution_count": 23,
   "metadata": {
    "id": "5UFWSwQp8yA8"
   },
   "outputs": [
    {
     "name": "stdout",
     "output_type": "stream",
     "text": [
      "predict( ) 수행 결과값을 10개만 표시, 예측 확률 값으로 표시됨\n",
      "[0.988 0.001 0.001 0.998 0.999 0.001 0.001 0.088 0.2   0.998]\n",
      "예측값 10개만 표시: [1, 0, 0, 1, 1, 0, 0, 0, 0, 1]\n"
     ]
    }
   ],
   "source": [
    "pred_probs = xgb_model.predict(dtest)\n",
    "print('predict( ) 수행 결과값을 10개만 표시, 예측 확률 값으로 표시됨')\n",
    "print(np.round(pred_probs[:10],3))\n",
    "\n",
    "# 예측 확률이 0.5 보다 크면 1 , 그렇지 않으면 0 으로 예측값 결정하여 List 객체인 preds에 저장\n",
    "preds = [ 1 if x > 0.5 else 0 for x in pred_probs ]\n",
    "print('예측값 10개만 표시:',preds[:10])"
   ]
  },
  {
   "cell_type": "markdown",
   "metadata": {
    "id": "Mxk9DN5383sp"
   },
   "source": [
    "##**2-e. `get_eval_clf()` 을 통해 예측 평가를 진행해주세요**"
   ]
  },
  {
   "cell_type": "code",
   "execution_count": 24,
   "metadata": {
    "id": "xS27kc1780cD"
   },
   "outputs": [],
   "source": [
    "from sklearn.metrics import confusion_matrix, accuracy_score\n",
    "from sklearn.metrics import precision_score, recall_score\n",
    "from sklearn.metrics import f1_score, roc_auc_score\n",
    "\n",
    "def get_clf_eval(y_test, pred=None, pred_proba=None):\n",
    "    confusion = confusion_matrix( y_test, pred)\n",
    "    accuracy = accuracy_score(y_test , pred)\n",
    "    precision = precision_score(y_test , pred)\n",
    "    recall = recall_score(y_test , pred)\n",
    "    f1 = f1_score(y_test,pred)\n",
    "    # ROC-AUC 추가\n",
    "    roc_auc = roc_auc_score(y_test, pred_proba)\n",
    "    print('오차 행렬')\n",
    "    print(confusion)\n",
    "    # ROC-AUC print 추가\n",
    "    print('정확도: {0:.4f}, 정밀도: {1:.4f}, 재현율: {2:.4f},\\\n",
    "    F1: {3:.4f}, AUC:{4:.4f}'.format(accuracy, precision, recall, f1, roc_auc))"
   ]
  },
  {
   "cell_type": "code",
   "execution_count": 27,
   "metadata": {
    "id": "v-foPK_M82hT"
   },
   "outputs": [
    {
     "name": "stdout",
     "output_type": "stream",
     "text": [
      "오차 행렬\n",
      "[[40  3]\n",
      " [ 1 70]]\n",
      "정확도: 0.9649, 정밀도: 0.9589, 재현율: 0.9859,    F1: 0.9722, AUC:0.9938\n"
     ]
    }
   ],
   "source": [
    "get_clf_eval(y_test, preds, pred_probs)"
   ]
  },
  {
   "cell_type": "markdown",
   "metadata": {
    "id": "uvg4b6ap9lXg"
   },
   "source": [
    "# **3. LightGBM, HyperOpt**"
   ]
  },
  {
   "cell_type": "markdown",
   "metadata": {
    "id": "f8SBYxBJ-vhb"
   },
   "source": [
    "## **3-1. LightGBM**"
   ]
  },
  {
   "cell_type": "markdown",
   "metadata": {
    "id": "SnRlTMVaIdU6"
   },
   "source": [
    "### **3-1-a. ```water_potability.csv```를 불러와 df에 저장해 주세요.**"
   ]
  },
  {
   "cell_type": "code",
   "execution_count": 48,
   "metadata": {
    "id": "3cg-dfFE-nOx"
   },
   "outputs": [
    {
     "name": "stdout",
     "output_type": "stream",
     "text": [
      "3.3.2\n"
     ]
    }
   ],
   "source": [
    "# 3.3.2 버전으로 LightGBM을 설치합니다(일부 파라미터가 4.0.0에선 작동하지 않아서 넣었습니다.)\n",
    "\n",
    "#!pip install lightgbm==3.3.2\n",
    "print(lightgbm.__version__) # 버전 확인용"
   ]
  },
  {
   "cell_type": "code",
   "execution_count": 49,
   "metadata": {
    "id": "ZcpuDJ8GIoBD"
   },
   "outputs": [],
   "source": [
    "import lightgbm\n",
    "from lightgbm import LGBMClassifier\n",
    "\n",
    "import pandas as pd\n",
    "import numpy as np"
   ]
  },
  {
   "cell_type": "code",
   "execution_count": 50,
   "metadata": {
    "id": "z3XVGeXr-_kt"
   },
   "outputs": [
    {
     "data": {
      "text/html": [
       "<div>\n",
       "<style scoped>\n",
       "    .dataframe tbody tr th:only-of-type {\n",
       "        vertical-align: middle;\n",
       "    }\n",
       "\n",
       "    .dataframe tbody tr th {\n",
       "        vertical-align: top;\n",
       "    }\n",
       "\n",
       "    .dataframe thead th {\n",
       "        text-align: right;\n",
       "    }\n",
       "</style>\n",
       "<table border=\"1\" class=\"dataframe\">\n",
       "  <thead>\n",
       "    <tr style=\"text-align: right;\">\n",
       "      <th></th>\n",
       "      <th>ph</th>\n",
       "      <th>Hardness</th>\n",
       "      <th>Solids</th>\n",
       "      <th>Chloramines</th>\n",
       "      <th>Sulfate</th>\n",
       "      <th>Conductivity</th>\n",
       "      <th>Organic_carbon</th>\n",
       "      <th>Trihalomethanes</th>\n",
       "      <th>Turbidity</th>\n",
       "      <th>Potability</th>\n",
       "    </tr>\n",
       "  </thead>\n",
       "  <tbody>\n",
       "    <tr>\n",
       "      <th>0</th>\n",
       "      <td>NaN</td>\n",
       "      <td>204.890455</td>\n",
       "      <td>20791.318981</td>\n",
       "      <td>7.300212</td>\n",
       "      <td>368.516441</td>\n",
       "      <td>564.308654</td>\n",
       "      <td>10.379783</td>\n",
       "      <td>86.990970</td>\n",
       "      <td>2.963135</td>\n",
       "      <td>0</td>\n",
       "    </tr>\n",
       "    <tr>\n",
       "      <th>1</th>\n",
       "      <td>3.716080</td>\n",
       "      <td>129.422921</td>\n",
       "      <td>18630.057858</td>\n",
       "      <td>6.635246</td>\n",
       "      <td>NaN</td>\n",
       "      <td>592.885359</td>\n",
       "      <td>15.180013</td>\n",
       "      <td>56.329076</td>\n",
       "      <td>4.500656</td>\n",
       "      <td>0</td>\n",
       "    </tr>\n",
       "    <tr>\n",
       "      <th>2</th>\n",
       "      <td>8.099124</td>\n",
       "      <td>224.236259</td>\n",
       "      <td>19909.541732</td>\n",
       "      <td>9.275884</td>\n",
       "      <td>NaN</td>\n",
       "      <td>418.606213</td>\n",
       "      <td>16.868637</td>\n",
       "      <td>66.420093</td>\n",
       "      <td>3.055934</td>\n",
       "      <td>0</td>\n",
       "    </tr>\n",
       "    <tr>\n",
       "      <th>3</th>\n",
       "      <td>8.316766</td>\n",
       "      <td>214.373394</td>\n",
       "      <td>22018.417441</td>\n",
       "      <td>8.059332</td>\n",
       "      <td>356.886136</td>\n",
       "      <td>363.266516</td>\n",
       "      <td>18.436524</td>\n",
       "      <td>100.341674</td>\n",
       "      <td>4.628771</td>\n",
       "      <td>0</td>\n",
       "    </tr>\n",
       "    <tr>\n",
       "      <th>4</th>\n",
       "      <td>9.092223</td>\n",
       "      <td>181.101509</td>\n",
       "      <td>17978.986339</td>\n",
       "      <td>6.546600</td>\n",
       "      <td>310.135738</td>\n",
       "      <td>398.410813</td>\n",
       "      <td>11.558279</td>\n",
       "      <td>31.997993</td>\n",
       "      <td>4.075075</td>\n",
       "      <td>0</td>\n",
       "    </tr>\n",
       "  </tbody>\n",
       "</table>\n",
       "</div>"
      ],
      "text/plain": [
       "         ph    Hardness        Solids  Chloramines     Sulfate  Conductivity  \\\n",
       "0       NaN  204.890455  20791.318981     7.300212  368.516441    564.308654   \n",
       "1  3.716080  129.422921  18630.057858     6.635246         NaN    592.885359   \n",
       "2  8.099124  224.236259  19909.541732     9.275884         NaN    418.606213   \n",
       "3  8.316766  214.373394  22018.417441     8.059332  356.886136    363.266516   \n",
       "4  9.092223  181.101509  17978.986339     6.546600  310.135738    398.410813   \n",
       "\n",
       "   Organic_carbon  Trihalomethanes  Turbidity  Potability  \n",
       "0       10.379783        86.990970   2.963135           0  \n",
       "1       15.180013        56.329076   4.500656           0  \n",
       "2       16.868637        66.420093   3.055934           0  \n",
       "3       18.436524       100.341674   4.628771           0  \n",
       "4       11.558279        31.997993   4.075075           0  "
      ]
     },
     "execution_count": 50,
     "metadata": {},
     "output_type": "execute_result"
    }
   ],
   "source": [
    "df = pd.read_csv(r\"C:\\Users\\jain5\\Desktop\\Euron\\Data_Handling\\water_potability.csv\")\n",
    "\n",
    "# 데이터 확인\n",
    "df.head()"
   ]
  },
  {
   "cell_type": "markdown",
   "metadata": {
    "id": "cXSVbYeI_DGz"
   },
   "source": [
    "### **3-1-b. 이럴수가! 결측값이 있는 것 같네요! 아래의 코드를 실행시켜 어느 변수에 결측값이 있는지 확인하고, 결측값들은 모두 해당하는 변수의 평균으로 바꿔주세요.**"
   ]
  },
  {
   "cell_type": "code",
   "execution_count": 51,
   "metadata": {
    "id": "r4nKg2mF_FHE"
   },
   "outputs": [
    {
     "data": {
      "text/plain": [
       "ph                 491\n",
       "Hardness             0\n",
       "Solids               0\n",
       "Chloramines          0\n",
       "Sulfate            781\n",
       "Conductivity         0\n",
       "Organic_carbon       0\n",
       "Trihalomethanes    162\n",
       "Turbidity            0\n",
       "Potability           0\n",
       "dtype: int64"
      ]
     },
     "execution_count": 51,
     "metadata": {},
     "output_type": "execute_result"
    }
   ],
   "source": [
    "df.isnull().sum()\n",
    "# ph, Sulface, Tri... 결측값!"
   ]
  },
  {
   "cell_type": "code",
   "execution_count": 52,
   "metadata": {
    "id": "I3Iq_aHA_XUi"
   },
   "outputs": [
    {
     "data": {
      "text/html": [
       "<div>\n",
       "<style scoped>\n",
       "    .dataframe tbody tr th:only-of-type {\n",
       "        vertical-align: middle;\n",
       "    }\n",
       "\n",
       "    .dataframe tbody tr th {\n",
       "        vertical-align: top;\n",
       "    }\n",
       "\n",
       "    .dataframe thead th {\n",
       "        text-align: right;\n",
       "    }\n",
       "</style>\n",
       "<table border=\"1\" class=\"dataframe\">\n",
       "  <thead>\n",
       "    <tr style=\"text-align: right;\">\n",
       "      <th></th>\n",
       "      <th>ph</th>\n",
       "      <th>Hardness</th>\n",
       "      <th>Solids</th>\n",
       "      <th>Chloramines</th>\n",
       "      <th>Sulfate</th>\n",
       "      <th>Conductivity</th>\n",
       "      <th>Organic_carbon</th>\n",
       "      <th>Trihalomethanes</th>\n",
       "      <th>Turbidity</th>\n",
       "      <th>Potability</th>\n",
       "    </tr>\n",
       "  </thead>\n",
       "  <tbody>\n",
       "    <tr>\n",
       "      <th>0</th>\n",
       "      <td>7.080795</td>\n",
       "      <td>204.890455</td>\n",
       "      <td>20791.318981</td>\n",
       "      <td>7.300212</td>\n",
       "      <td>368.516441</td>\n",
       "      <td>564.308654</td>\n",
       "      <td>10.379783</td>\n",
       "      <td>86.990970</td>\n",
       "      <td>2.963135</td>\n",
       "      <td>0</td>\n",
       "    </tr>\n",
       "    <tr>\n",
       "      <th>1</th>\n",
       "      <td>3.716080</td>\n",
       "      <td>129.422921</td>\n",
       "      <td>18630.057858</td>\n",
       "      <td>6.635246</td>\n",
       "      <td>333.775777</td>\n",
       "      <td>592.885359</td>\n",
       "      <td>15.180013</td>\n",
       "      <td>56.329076</td>\n",
       "      <td>4.500656</td>\n",
       "      <td>0</td>\n",
       "    </tr>\n",
       "    <tr>\n",
       "      <th>2</th>\n",
       "      <td>8.099124</td>\n",
       "      <td>224.236259</td>\n",
       "      <td>19909.541732</td>\n",
       "      <td>9.275884</td>\n",
       "      <td>333.775777</td>\n",
       "      <td>418.606213</td>\n",
       "      <td>16.868637</td>\n",
       "      <td>66.420093</td>\n",
       "      <td>3.055934</td>\n",
       "      <td>0</td>\n",
       "    </tr>\n",
       "    <tr>\n",
       "      <th>3</th>\n",
       "      <td>8.316766</td>\n",
       "      <td>214.373394</td>\n",
       "      <td>22018.417441</td>\n",
       "      <td>8.059332</td>\n",
       "      <td>356.886136</td>\n",
       "      <td>363.266516</td>\n",
       "      <td>18.436524</td>\n",
       "      <td>100.341674</td>\n",
       "      <td>4.628771</td>\n",
       "      <td>0</td>\n",
       "    </tr>\n",
       "    <tr>\n",
       "      <th>4</th>\n",
       "      <td>9.092223</td>\n",
       "      <td>181.101509</td>\n",
       "      <td>17978.986339</td>\n",
       "      <td>6.546600</td>\n",
       "      <td>310.135738</td>\n",
       "      <td>398.410813</td>\n",
       "      <td>11.558279</td>\n",
       "      <td>31.997993</td>\n",
       "      <td>4.075075</td>\n",
       "      <td>0</td>\n",
       "    </tr>\n",
       "  </tbody>\n",
       "</table>\n",
       "</div>"
      ],
      "text/plain": [
       "         ph    Hardness        Solids  Chloramines     Sulfate  Conductivity  \\\n",
       "0  7.080795  204.890455  20791.318981     7.300212  368.516441    564.308654   \n",
       "1  3.716080  129.422921  18630.057858     6.635246  333.775777    592.885359   \n",
       "2  8.099124  224.236259  19909.541732     9.275884  333.775777    418.606213   \n",
       "3  8.316766  214.373394  22018.417441     8.059332  356.886136    363.266516   \n",
       "4  9.092223  181.101509  17978.986339     6.546600  310.135738    398.410813   \n",
       "\n",
       "   Organic_carbon  Trihalomethanes  Turbidity  Potability  \n",
       "0       10.379783        86.990970   2.963135           0  \n",
       "1       15.180013        56.329076   4.500656           0  \n",
       "2       16.868637        66.420093   3.055934           0  \n",
       "3       18.436524       100.341674   4.628771           0  \n",
       "4       11.558279        31.997993   4.075075           0  "
      ]
     },
     "execution_count": 52,
     "metadata": {},
     "output_type": "execute_result"
    }
   ],
   "source": [
    "## 결측값을 해당 칼럼의 평균값으로 대체해 주세요.\n",
    "# 힌트: 파머완 138페이지\n",
    "\n",
    "\n",
    "df['ph'].fillna(df['ph'].mean(), inplace=True)\n",
    "df['Sulfate'].fillna(df['Sulfate'].mean(), inplace=True)\n",
    "df['Trihalomethanes'].fillna(df['Trihalomethanes'].mean(), inplace=True)\n",
    "\n",
    "# 데이터 확인\n",
    "df.head()"
   ]
  },
  {
   "cell_type": "markdown",
   "metadata": {
    "id": "OyXaOw0X_aXZ"
   },
   "source": [
    "### **3-1-c. df를 학습용 데이터와 테스트용 데이터로 분리해 주세요.**  \n",
    "(random_state = 42, 학습용 데이터가 전체의 **80%**를 차지하도록 설정)"
   ]
  },
  {
   "cell_type": "code",
   "execution_count": 53,
   "metadata": {
    "id": "oWbfGB4c_Znx"
   },
   "outputs": [],
   "source": [
    "from sklearn.model_selection import train_test_split\n",
    "\n",
    "X = df.iloc[:, :-1]\n",
    "y = df.iloc[:, -1]\n",
    "\n",
    "X_train, X_test, y_train, y_test = train_test_split(X, y, test_size=0.2, random_state=42)"
   ]
  },
  {
   "cell_type": "markdown",
   "metadata": {
    "id": "hW1x8hQI_krM"
   },
   "source": [
    "### **3-1-d. 위에서 만든 X_train, y_train을 다시 나누어 90%는 학습용으로, 10%는 검증용 데이터로 분리해 주세요.**  \n",
    "(random_state = 42)"
   ]
  },
  {
   "cell_type": "code",
   "execution_count": 54,
   "metadata": {
    "id": "QPuPw7bb_qF8"
   },
   "outputs": [],
   "source": [
    "X_tr, X_val, y_tr, y_val = train_test_split(X_train, y_train, test_size=0.1, random_state=42)"
   ]
  },
  {
   "cell_type": "markdown",
   "metadata": {
    "id": "hEyCPkHZ_tYC"
   },
   "source": [
    "### **3-1-e. 다음 조건에 따라 LGBMClassifier을 생성한 후 ```lgbm_wrapper```에 저장해 주세요.**\n",
    "- 반복 수행할 트리 개수: 800개\n",
    "- 학습률: 0.02"
   ]
  },
  {
   "cell_type": "code",
   "execution_count": 56,
   "metadata": {
    "id": "4gPkmQo3_zlS"
   },
   "outputs": [],
   "source": [
    "lgbm_wrapper = LGBMClassifier(n_estimators=800, learning_rate=0.02)"
   ]
  },
  {
   "cell_type": "markdown",
   "metadata": {
    "id": "unGn5aOi_2LG"
   },
   "source": [
    "### **3-1-f. `lgbm_wrapper`가 100번 학습을 반복해도 성능이 향상되지 않으면 수행을 멈추도록 설정해서 학습시키세요.**\n",
    "- 평가 지표: logloss  \n",
    "\n",
    "(❓❓❓❓❓로 표시된 빈칸을 채워주세요!)"
   ]
  },
  {
   "cell_type": "code",
   "execution_count": 57,
   "metadata": {
    "id": "89l5qcaB_6QV"
   },
   "outputs": [
    {
     "name": "stdout",
     "output_type": "stream",
     "text": [
      "[1]\ttraining's binary_logloss: 0.667547\tvalid_1's binary_logloss: 0.664685\n",
      "[2]\ttraining's binary_logloss: 0.664047\tvalid_1's binary_logloss: 0.662495\n",
      "[3]\ttraining's binary_logloss: 0.660692\tvalid_1's binary_logloss: 0.660532\n",
      "[4]\ttraining's binary_logloss: 0.657277\tvalid_1's binary_logloss: 0.658939\n",
      "[5]\ttraining's binary_logloss: 0.65419\tvalid_1's binary_logloss: 0.657061\n",
      "[6]\ttraining's binary_logloss: 0.651193\tvalid_1's binary_logloss: 0.65562\n",
      "[7]\ttraining's binary_logloss: 0.648042\tvalid_1's binary_logloss: 0.65442\n",
      "[8]\ttraining's binary_logloss: 0.645251\tvalid_1's binary_logloss: 0.65276\n",
      "[9]\ttraining's binary_logloss: 0.642221\tvalid_1's binary_logloss: 0.651453\n",
      "[10]\ttraining's binary_logloss: 0.63971\tvalid_1's binary_logloss: 0.649738\n",
      "[11]\ttraining's binary_logloss: 0.637098\tvalid_1's binary_logloss: 0.648505\n",
      "[12]\ttraining's binary_logloss: 0.634355\tvalid_1's binary_logloss: 0.647447\n",
      "[13]\ttraining's binary_logloss: 0.631831\tvalid_1's binary_logloss: 0.6465\n",
      "[14]\ttraining's binary_logloss: 0.629512\tvalid_1's binary_logloss: 0.645076\n",
      "[15]\ttraining's binary_logloss: 0.627136\tvalid_1's binary_logloss: 0.644241\n",
      "[16]\ttraining's binary_logloss: 0.624549\tvalid_1's binary_logloss: 0.642928\n",
      "[17]\ttraining's binary_logloss: 0.622566\tvalid_1's binary_logloss: 0.641793\n",
      "[18]\ttraining's binary_logloss: 0.620011\tvalid_1's binary_logloss: 0.640239\n",
      "[19]\ttraining's binary_logloss: 0.617778\tvalid_1's binary_logloss: 0.639463\n",
      "[20]\ttraining's binary_logloss: 0.615404\tvalid_1's binary_logloss: 0.638609\n",
      "[21]\ttraining's binary_logloss: 0.613173\tvalid_1's binary_logloss: 0.637227\n",
      "[22]\ttraining's binary_logloss: 0.611319\tvalid_1's binary_logloss: 0.63608\n",
      "[23]\ttraining's binary_logloss: 0.609269\tvalid_1's binary_logloss: 0.635334\n",
      "[24]\ttraining's binary_logloss: 0.607131\tvalid_1's binary_logloss: 0.634674\n",
      "[25]\ttraining's binary_logloss: 0.604981\tvalid_1's binary_logloss: 0.633856\n",
      "[26]\ttraining's binary_logloss: 0.602973\tvalid_1's binary_logloss: 0.633035\n",
      "[27]\ttraining's binary_logloss: 0.600891\tvalid_1's binary_logloss: 0.632326\n",
      "[28]\ttraining's binary_logloss: 0.598837\tvalid_1's binary_logloss: 0.631523\n",
      "[29]\ttraining's binary_logloss: 0.597021\tvalid_1's binary_logloss: 0.630514\n",
      "[30]\ttraining's binary_logloss: 0.595074\tvalid_1's binary_logloss: 0.629968\n",
      "[31]\ttraining's binary_logloss: 0.593365\tvalid_1's binary_logloss: 0.629077\n",
      "[32]\ttraining's binary_logloss: 0.591409\tvalid_1's binary_logloss: 0.628504\n",
      "[33]\ttraining's binary_logloss: 0.589704\tvalid_1's binary_logloss: 0.627899\n",
      "[34]\ttraining's binary_logloss: 0.587997\tvalid_1's binary_logloss: 0.627062\n",
      "[35]\ttraining's binary_logloss: 0.586386\tvalid_1's binary_logloss: 0.626465\n",
      "[36]\ttraining's binary_logloss: 0.584785\tvalid_1's binary_logloss: 0.625355\n",
      "[37]\ttraining's binary_logloss: 0.582981\tvalid_1's binary_logloss: 0.624617\n",
      "[38]\ttraining's binary_logloss: 0.581404\tvalid_1's binary_logloss: 0.624309\n",
      "[39]\ttraining's binary_logloss: 0.579584\tvalid_1's binary_logloss: 0.623495\n",
      "[40]\ttraining's binary_logloss: 0.57818\tvalid_1's binary_logloss: 0.623059\n",
      "[41]\ttraining's binary_logloss: 0.576512\tvalid_1's binary_logloss: 0.622334\n",
      "[42]\ttraining's binary_logloss: 0.574888\tvalid_1's binary_logloss: 0.621196\n",
      "[43]\ttraining's binary_logloss: 0.573249\tvalid_1's binary_logloss: 0.619868\n",
      "[44]\ttraining's binary_logloss: 0.57189\tvalid_1's binary_logloss: 0.619827\n",
      "[45]\ttraining's binary_logloss: 0.570241\tvalid_1's binary_logloss: 0.619596\n",
      "[46]\ttraining's binary_logloss: 0.568716\tvalid_1's binary_logloss: 0.619083\n",
      "[47]\ttraining's binary_logloss: 0.5673\tvalid_1's binary_logloss: 0.619142\n",
      "[48]\ttraining's binary_logloss: 0.565919\tvalid_1's binary_logloss: 0.618903\n",
      "[49]\ttraining's binary_logloss: 0.564496\tvalid_1's binary_logloss: 0.618536\n",
      "[50]\ttraining's binary_logloss: 0.562884\tvalid_1's binary_logloss: 0.618233\n",
      "[51]\ttraining's binary_logloss: 0.561515\tvalid_1's binary_logloss: 0.618077\n",
      "[52]\ttraining's binary_logloss: 0.560285\tvalid_1's binary_logloss: 0.618009\n",
      "[53]\ttraining's binary_logloss: 0.558754\tvalid_1's binary_logloss: 0.617756\n",
      "[54]\ttraining's binary_logloss: 0.557339\tvalid_1's binary_logloss: 0.617285\n",
      "[55]\ttraining's binary_logloss: 0.556088\tvalid_1's binary_logloss: 0.61718\n",
      "[56]\ttraining's binary_logloss: 0.554629\tvalid_1's binary_logloss: 0.616633\n",
      "[57]\ttraining's binary_logloss: 0.553365\tvalid_1's binary_logloss: 0.616256\n",
      "[58]\ttraining's binary_logloss: 0.552168\tvalid_1's binary_logloss: 0.615741\n",
      "[59]\ttraining's binary_logloss: 0.550464\tvalid_1's binary_logloss: 0.61504\n",
      "[60]\ttraining's binary_logloss: 0.549265\tvalid_1's binary_logloss: 0.615171\n",
      "[61]\ttraining's binary_logloss: 0.548038\tvalid_1's binary_logloss: 0.614906\n",
      "[62]\ttraining's binary_logloss: 0.546864\tvalid_1's binary_logloss: 0.615046\n",
      "[63]\ttraining's binary_logloss: 0.545476\tvalid_1's binary_logloss: 0.615044\n",
      "[64]\ttraining's binary_logloss: 0.544288\tvalid_1's binary_logloss: 0.615147\n",
      "[65]\ttraining's binary_logloss: 0.542654\tvalid_1's binary_logloss: 0.614795\n",
      "[66]\ttraining's binary_logloss: 0.54164\tvalid_1's binary_logloss: 0.614296\n",
      "[67]\ttraining's binary_logloss: 0.540516\tvalid_1's binary_logloss: 0.614464\n",
      "[68]\ttraining's binary_logloss: 0.538924\tvalid_1's binary_logloss: 0.614556\n",
      "[69]\ttraining's binary_logloss: 0.537522\tvalid_1's binary_logloss: 0.614134\n",
      "[70]\ttraining's binary_logloss: 0.536069\tvalid_1's binary_logloss: 0.613612\n",
      "[71]\ttraining's binary_logloss: 0.534842\tvalid_1's binary_logloss: 0.613207\n",
      "[72]\ttraining's binary_logloss: 0.533493\tvalid_1's binary_logloss: 0.612727\n",
      "[73]\ttraining's binary_logloss: 0.532093\tvalid_1's binary_logloss: 0.61206\n",
      "[74]\ttraining's binary_logloss: 0.530997\tvalid_1's binary_logloss: 0.611842\n",
      "[75]\ttraining's binary_logloss: 0.529792\tvalid_1's binary_logloss: 0.611458\n",
      "[76]\ttraining's binary_logloss: 0.528547\tvalid_1's binary_logloss: 0.611183\n",
      "[77]\ttraining's binary_logloss: 0.52721\tvalid_1's binary_logloss: 0.610372\n",
      "[78]\ttraining's binary_logloss: 0.526187\tvalid_1's binary_logloss: 0.610703\n",
      "[79]\ttraining's binary_logloss: 0.524654\tvalid_1's binary_logloss: 0.610464\n",
      "[80]\ttraining's binary_logloss: 0.523712\tvalid_1's binary_logloss: 0.610687\n",
      "[81]\ttraining's binary_logloss: 0.522468\tvalid_1's binary_logloss: 0.610206\n",
      "[82]\ttraining's binary_logloss: 0.521323\tvalid_1's binary_logloss: 0.60944\n",
      "[83]\ttraining's binary_logloss: 0.520141\tvalid_1's binary_logloss: 0.609356\n",
      "[84]\ttraining's binary_logloss: 0.519102\tvalid_1's binary_logloss: 0.608809\n",
      "[85]\ttraining's binary_logloss: 0.517993\tvalid_1's binary_logloss: 0.608626\n",
      "[86]\ttraining's binary_logloss: 0.516937\tvalid_1's binary_logloss: 0.608656\n",
      "[87]\ttraining's binary_logloss: 0.515772\tvalid_1's binary_logloss: 0.608443\n",
      "[88]\ttraining's binary_logloss: 0.514632\tvalid_1's binary_logloss: 0.608518\n",
      "[89]\ttraining's binary_logloss: 0.513572\tvalid_1's binary_logloss: 0.608283\n",
      "[90]\ttraining's binary_logloss: 0.51251\tvalid_1's binary_logloss: 0.608352\n",
      "[91]\ttraining's binary_logloss: 0.511467\tvalid_1's binary_logloss: 0.608149\n",
      "[92]\ttraining's binary_logloss: 0.510382\tvalid_1's binary_logloss: 0.607771\n",
      "[93]\ttraining's binary_logloss: 0.508859\tvalid_1's binary_logloss: 0.607334\n",
      "[94]\ttraining's binary_logloss: 0.507781\tvalid_1's binary_logloss: 0.607239\n",
      "[95]\ttraining's binary_logloss: 0.506705\tvalid_1's binary_logloss: 0.606651\n",
      "[96]\ttraining's binary_logloss: 0.505648\tvalid_1's binary_logloss: 0.606788\n",
      "[97]\ttraining's binary_logloss: 0.504399\tvalid_1's binary_logloss: 0.607109\n",
      "[98]\ttraining's binary_logloss: 0.503404\tvalid_1's binary_logloss: 0.607263\n",
      "[99]\ttraining's binary_logloss: 0.501983\tvalid_1's binary_logloss: 0.607194\n",
      "[100]\ttraining's binary_logloss: 0.50099\tvalid_1's binary_logloss: 0.607282\n",
      "[101]\ttraining's binary_logloss: 0.499824\tvalid_1's binary_logloss: 0.607247\n",
      "[102]\ttraining's binary_logloss: 0.498856\tvalid_1's binary_logloss: 0.60742\n",
      "[103]\ttraining's binary_logloss: 0.497442\tvalid_1's binary_logloss: 0.607316\n",
      "[104]\ttraining's binary_logloss: 0.496373\tvalid_1's binary_logloss: 0.60732\n",
      "[105]\ttraining's binary_logloss: 0.495097\tvalid_1's binary_logloss: 0.607256\n",
      "[106]\ttraining's binary_logloss: 0.493956\tvalid_1's binary_logloss: 0.606972\n",
      "[107]\ttraining's binary_logloss: 0.492786\tvalid_1's binary_logloss: 0.607018\n",
      "[108]\ttraining's binary_logloss: 0.49182\tvalid_1's binary_logloss: 0.606827\n",
      "[109]\ttraining's binary_logloss: 0.490963\tvalid_1's binary_logloss: 0.606737\n",
      "[110]\ttraining's binary_logloss: 0.489966\tvalid_1's binary_logloss: 0.606608\n",
      "[111]\ttraining's binary_logloss: 0.489148\tvalid_1's binary_logloss: 0.606561\n",
      "[112]\ttraining's binary_logloss: 0.488277\tvalid_1's binary_logloss: 0.606796\n",
      "[113]\ttraining's binary_logloss: 0.487368\tvalid_1's binary_logloss: 0.606787\n",
      "[114]\ttraining's binary_logloss: 0.486279\tvalid_1's binary_logloss: 0.606649\n",
      "[115]\ttraining's binary_logloss: 0.485349\tvalid_1's binary_logloss: 0.606573\n",
      "[116]\ttraining's binary_logloss: 0.484404\tvalid_1's binary_logloss: 0.606804\n",
      "[117]\ttraining's binary_logloss: 0.483562\tvalid_1's binary_logloss: 0.606487\n",
      "[118]\ttraining's binary_logloss: 0.482428\tvalid_1's binary_logloss: 0.606461\n",
      "[119]\ttraining's binary_logloss: 0.481512\tvalid_1's binary_logloss: 0.606384\n",
      "[120]\ttraining's binary_logloss: 0.480715\tvalid_1's binary_logloss: 0.60617\n",
      "[121]\ttraining's binary_logloss: 0.479965\tvalid_1's binary_logloss: 0.606376\n",
      "[122]\ttraining's binary_logloss: 0.479068\tvalid_1's binary_logloss: 0.606733\n",
      "[123]\ttraining's binary_logloss: 0.477955\tvalid_1's binary_logloss: 0.606621\n",
      "[124]\ttraining's binary_logloss: 0.476929\tvalid_1's binary_logloss: 0.605802\n",
      "[125]\ttraining's binary_logloss: 0.475845\tvalid_1's binary_logloss: 0.605189\n",
      "[126]\ttraining's binary_logloss: 0.474794\tvalid_1's binary_logloss: 0.60524\n",
      "[127]\ttraining's binary_logloss: 0.473823\tvalid_1's binary_logloss: 0.604651\n",
      "[128]\ttraining's binary_logloss: 0.473117\tvalid_1's binary_logloss: 0.604408\n",
      "[129]\ttraining's binary_logloss: 0.472245\tvalid_1's binary_logloss: 0.60428\n",
      "[130]\ttraining's binary_logloss: 0.471411\tvalid_1's binary_logloss: 0.604563\n",
      "[131]\ttraining's binary_logloss: 0.470444\tvalid_1's binary_logloss: 0.604498\n",
      "[132]\ttraining's binary_logloss: 0.4696\tvalid_1's binary_logloss: 0.60433\n",
      "[133]\ttraining's binary_logloss: 0.468737\tvalid_1's binary_logloss: 0.604457\n",
      "[134]\ttraining's binary_logloss: 0.467882\tvalid_1's binary_logloss: 0.604643\n",
      "[135]\ttraining's binary_logloss: 0.467074\tvalid_1's binary_logloss: 0.60459\n",
      "[136]\ttraining's binary_logloss: 0.465983\tvalid_1's binary_logloss: 0.6041\n",
      "[137]\ttraining's binary_logloss: 0.465135\tvalid_1's binary_logloss: 0.603884\n",
      "[138]\ttraining's binary_logloss: 0.464335\tvalid_1's binary_logloss: 0.603975\n",
      "[139]\ttraining's binary_logloss: 0.463289\tvalid_1's binary_logloss: 0.603518\n",
      "[140]\ttraining's binary_logloss: 0.462394\tvalid_1's binary_logloss: 0.603927\n",
      "[141]\ttraining's binary_logloss: 0.461579\tvalid_1's binary_logloss: 0.603516\n",
      "[142]\ttraining's binary_logloss: 0.460654\tvalid_1's binary_logloss: 0.603582\n",
      "[143]\ttraining's binary_logloss: 0.45975\tvalid_1's binary_logloss: 0.603672\n",
      "[144]\ttraining's binary_logloss: 0.458865\tvalid_1's binary_logloss: 0.603851\n",
      "[145]\ttraining's binary_logloss: 0.457908\tvalid_1's binary_logloss: 0.603774\n",
      "[146]\ttraining's binary_logloss: 0.45706\tvalid_1's binary_logloss: 0.603484\n",
      "[147]\ttraining's binary_logloss: 0.456221\tvalid_1's binary_logloss: 0.60365\n",
      "[148]\ttraining's binary_logloss: 0.455435\tvalid_1's binary_logloss: 0.603882\n",
      "[149]\ttraining's binary_logloss: 0.454648\tvalid_1's binary_logloss: 0.60381\n",
      "[150]\ttraining's binary_logloss: 0.453867\tvalid_1's binary_logloss: 0.603974\n",
      "[151]\ttraining's binary_logloss: 0.45304\tvalid_1's binary_logloss: 0.603606\n",
      "[152]\ttraining's binary_logloss: 0.452142\tvalid_1's binary_logloss: 0.603745\n",
      "[153]\ttraining's binary_logloss: 0.451329\tvalid_1's binary_logloss: 0.603914\n",
      "[154]\ttraining's binary_logloss: 0.450524\tvalid_1's binary_logloss: 0.603933\n",
      "[155]\ttraining's binary_logloss: 0.449743\tvalid_1's binary_logloss: 0.604349\n",
      "[156]\ttraining's binary_logloss: 0.448834\tvalid_1's binary_logloss: 0.604694\n",
      "[157]\ttraining's binary_logloss: 0.448032\tvalid_1's binary_logloss: 0.60476\n",
      "[158]\ttraining's binary_logloss: 0.447105\tvalid_1's binary_logloss: 0.604317\n",
      "[159]\ttraining's binary_logloss: 0.446176\tvalid_1's binary_logloss: 0.604407\n",
      "[160]\ttraining's binary_logloss: 0.445418\tvalid_1's binary_logloss: 0.604685\n",
      "[161]\ttraining's binary_logloss: 0.444712\tvalid_1's binary_logloss: 0.604758\n",
      "[162]\ttraining's binary_logloss: 0.443915\tvalid_1's binary_logloss: 0.604907\n",
      "[163]\ttraining's binary_logloss: 0.443093\tvalid_1's binary_logloss: 0.605203\n",
      "[164]\ttraining's binary_logloss: 0.442318\tvalid_1's binary_logloss: 0.605045\n",
      "[165]\ttraining's binary_logloss: 0.441326\tvalid_1's binary_logloss: 0.605121\n",
      "[166]\ttraining's binary_logloss: 0.440627\tvalid_1's binary_logloss: 0.604886\n",
      "[167]\ttraining's binary_logloss: 0.43984\tvalid_1's binary_logloss: 0.604574\n",
      "[168]\ttraining's binary_logloss: 0.439218\tvalid_1's binary_logloss: 0.604623\n",
      "[169]\ttraining's binary_logloss: 0.43844\tvalid_1's binary_logloss: 0.604389\n",
      "[170]\ttraining's binary_logloss: 0.437732\tvalid_1's binary_logloss: 0.604601\n",
      "[171]\ttraining's binary_logloss: 0.436889\tvalid_1's binary_logloss: 0.604902\n",
      "[172]\ttraining's binary_logloss: 0.436101\tvalid_1's binary_logloss: 0.605497\n",
      "[173]\ttraining's binary_logloss: 0.435415\tvalid_1's binary_logloss: 0.605354\n",
      "[174]\ttraining's binary_logloss: 0.434636\tvalid_1's binary_logloss: 0.605431\n",
      "[175]\ttraining's binary_logloss: 0.433818\tvalid_1's binary_logloss: 0.605277\n",
      "[176]\ttraining's binary_logloss: 0.433069\tvalid_1's binary_logloss: 0.605222\n",
      "[177]\ttraining's binary_logloss: 0.432374\tvalid_1's binary_logloss: 0.605233\n",
      "[178]\ttraining's binary_logloss: 0.43162\tvalid_1's binary_logloss: 0.605042\n",
      "[179]\ttraining's binary_logloss: 0.43085\tvalid_1's binary_logloss: 0.605577\n",
      "[180]\ttraining's binary_logloss: 0.430095\tvalid_1's binary_logloss: 0.605771\n",
      "[181]\ttraining's binary_logloss: 0.429368\tvalid_1's binary_logloss: 0.606193\n",
      "[182]\ttraining's binary_logloss: 0.42862\tvalid_1's binary_logloss: 0.606251\n",
      "[183]\ttraining's binary_logloss: 0.427908\tvalid_1's binary_logloss: 0.606214\n",
      "[184]\ttraining's binary_logloss: 0.427279\tvalid_1's binary_logloss: 0.606474\n",
      "[185]\ttraining's binary_logloss: 0.42653\tvalid_1's binary_logloss: 0.6069\n",
      "[186]\ttraining's binary_logloss: 0.425813\tvalid_1's binary_logloss: 0.607007\n",
      "[187]\ttraining's binary_logloss: 0.425155\tvalid_1's binary_logloss: 0.607044\n",
      "[188]\ttraining's binary_logloss: 0.42445\tvalid_1's binary_logloss: 0.60725\n",
      "[189]\ttraining's binary_logloss: 0.423672\tvalid_1's binary_logloss: 0.607054\n",
      "[190]\ttraining's binary_logloss: 0.422997\tvalid_1's binary_logloss: 0.607556\n",
      "[191]\ttraining's binary_logloss: 0.422177\tvalid_1's binary_logloss: 0.607929\n",
      "[192]\ttraining's binary_logloss: 0.421462\tvalid_1's binary_logloss: 0.60826\n",
      "[193]\ttraining's binary_logloss: 0.420824\tvalid_1's binary_logloss: 0.608331\n"
     ]
    },
    {
     "name": "stdout",
     "output_type": "stream",
     "text": [
      "[194]\ttraining's binary_logloss: 0.420159\tvalid_1's binary_logloss: 0.608811\n",
      "[195]\ttraining's binary_logloss: 0.419371\tvalid_1's binary_logloss: 0.60826\n",
      "[196]\ttraining's binary_logloss: 0.418572\tvalid_1's binary_logloss: 0.608784\n",
      "[197]\ttraining's binary_logloss: 0.417891\tvalid_1's binary_logloss: 0.608964\n",
      "[198]\ttraining's binary_logloss: 0.41717\tvalid_1's binary_logloss: 0.60936\n",
      "[199]\ttraining's binary_logloss: 0.416526\tvalid_1's binary_logloss: 0.609618\n",
      "[200]\ttraining's binary_logloss: 0.415756\tvalid_1's binary_logloss: 0.609881\n",
      "[201]\ttraining's binary_logloss: 0.415058\tvalid_1's binary_logloss: 0.609832\n",
      "[202]\ttraining's binary_logloss: 0.414324\tvalid_1's binary_logloss: 0.610014\n",
      "[203]\ttraining's binary_logloss: 0.413585\tvalid_1's binary_logloss: 0.610107\n",
      "[204]\ttraining's binary_logloss: 0.412798\tvalid_1's binary_logloss: 0.610432\n",
      "[205]\ttraining's binary_logloss: 0.41209\tvalid_1's binary_logloss: 0.610616\n",
      "[206]\ttraining's binary_logloss: 0.411336\tvalid_1's binary_logloss: 0.610971\n",
      "[207]\ttraining's binary_logloss: 0.410626\tvalid_1's binary_logloss: 0.611248\n",
      "[208]\ttraining's binary_logloss: 0.410003\tvalid_1's binary_logloss: 0.611792\n",
      "[209]\ttraining's binary_logloss: 0.409252\tvalid_1's binary_logloss: 0.612032\n",
      "[210]\ttraining's binary_logloss: 0.408566\tvalid_1's binary_logloss: 0.61221\n",
      "[211]\ttraining's binary_logloss: 0.407803\tvalid_1's binary_logloss: 0.612316\n",
      "[212]\ttraining's binary_logloss: 0.407127\tvalid_1's binary_logloss: 0.612495\n",
      "[213]\ttraining's binary_logloss: 0.4064\tvalid_1's binary_logloss: 0.611917\n",
      "[214]\ttraining's binary_logloss: 0.405728\tvalid_1's binary_logloss: 0.612519\n",
      "[215]\ttraining's binary_logloss: 0.405077\tvalid_1's binary_logloss: 0.612765\n",
      "[216]\ttraining's binary_logloss: 0.404356\tvalid_1's binary_logloss: 0.612383\n",
      "[217]\ttraining's binary_logloss: 0.403719\tvalid_1's binary_logloss: 0.61238\n",
      "[218]\ttraining's binary_logloss: 0.403095\tvalid_1's binary_logloss: 0.612218\n",
      "[219]\ttraining's binary_logloss: 0.402518\tvalid_1's binary_logloss: 0.61242\n",
      "[220]\ttraining's binary_logloss: 0.401921\tvalid_1's binary_logloss: 0.612454\n",
      "[221]\ttraining's binary_logloss: 0.401269\tvalid_1's binary_logloss: 0.612367\n",
      "[222]\ttraining's binary_logloss: 0.400617\tvalid_1's binary_logloss: 0.61241\n",
      "[223]\ttraining's binary_logloss: 0.399992\tvalid_1's binary_logloss: 0.612486\n",
      "[224]\ttraining's binary_logloss: 0.399321\tvalid_1's binary_logloss: 0.612776\n",
      "[225]\ttraining's binary_logloss: 0.398735\tvalid_1's binary_logloss: 0.613451\n",
      "[226]\ttraining's binary_logloss: 0.398141\tvalid_1's binary_logloss: 0.613401\n",
      "[227]\ttraining's binary_logloss: 0.397515\tvalid_1's binary_logloss: 0.613395\n",
      "[228]\ttraining's binary_logloss: 0.396858\tvalid_1's binary_logloss: 0.613893\n",
      "[229]\ttraining's binary_logloss: 0.396122\tvalid_1's binary_logloss: 0.613888\n",
      "[230]\ttraining's binary_logloss: 0.395476\tvalid_1's binary_logloss: 0.613876\n",
      "[231]\ttraining's binary_logloss: 0.394899\tvalid_1's binary_logloss: 0.613959\n",
      "[232]\ttraining's binary_logloss: 0.394239\tvalid_1's binary_logloss: 0.61386\n",
      "[233]\ttraining's binary_logloss: 0.393536\tvalid_1's binary_logloss: 0.613255\n",
      "[234]\ttraining's binary_logloss: 0.392961\tvalid_1's binary_logloss: 0.613403\n",
      "[235]\ttraining's binary_logloss: 0.39242\tvalid_1's binary_logloss: 0.613293\n",
      "[236]\ttraining's binary_logloss: 0.391727\tvalid_1's binary_logloss: 0.613704\n",
      "[237]\ttraining's binary_logloss: 0.391167\tvalid_1's binary_logloss: 0.613996\n",
      "[238]\ttraining's binary_logloss: 0.390586\tvalid_1's binary_logloss: 0.614283\n",
      "[239]\ttraining's binary_logloss: 0.389876\tvalid_1's binary_logloss: 0.614068\n",
      "[240]\ttraining's binary_logloss: 0.389311\tvalid_1's binary_logloss: 0.614001\n",
      "[241]\ttraining's binary_logloss: 0.38874\tvalid_1's binary_logloss: 0.613854\n",
      "[242]\ttraining's binary_logloss: 0.388173\tvalid_1's binary_logloss: 0.613195\n",
      "[243]\ttraining's binary_logloss: 0.38763\tvalid_1's binary_logloss: 0.613166\n",
      "[244]\ttraining's binary_logloss: 0.387089\tvalid_1's binary_logloss: 0.613315\n",
      "[245]\ttraining's binary_logloss: 0.386465\tvalid_1's binary_logloss: 0.613558\n",
      "[246]\ttraining's binary_logloss: 0.385861\tvalid_1's binary_logloss: 0.613781\n"
     ]
    },
    {
     "data": {
      "text/html": [
       "<style>#sk-container-id-1 {color: black;background-color: white;}#sk-container-id-1 pre{padding: 0;}#sk-container-id-1 div.sk-toggleable {background-color: white;}#sk-container-id-1 label.sk-toggleable__label {cursor: pointer;display: block;width: 100%;margin-bottom: 0;padding: 0.3em;box-sizing: border-box;text-align: center;}#sk-container-id-1 label.sk-toggleable__label-arrow:before {content: \"▸\";float: left;margin-right: 0.25em;color: #696969;}#sk-container-id-1 label.sk-toggleable__label-arrow:hover:before {color: black;}#sk-container-id-1 div.sk-estimator:hover label.sk-toggleable__label-arrow:before {color: black;}#sk-container-id-1 div.sk-toggleable__content {max-height: 0;max-width: 0;overflow: hidden;text-align: left;background-color: #f0f8ff;}#sk-container-id-1 div.sk-toggleable__content pre {margin: 0.2em;color: black;border-radius: 0.25em;background-color: #f0f8ff;}#sk-container-id-1 input.sk-toggleable__control:checked~div.sk-toggleable__content {max-height: 200px;max-width: 100%;overflow: auto;}#sk-container-id-1 input.sk-toggleable__control:checked~label.sk-toggleable__label-arrow:before {content: \"▾\";}#sk-container-id-1 div.sk-estimator input.sk-toggleable__control:checked~label.sk-toggleable__label {background-color: #d4ebff;}#sk-container-id-1 div.sk-label input.sk-toggleable__control:checked~label.sk-toggleable__label {background-color: #d4ebff;}#sk-container-id-1 input.sk-hidden--visually {border: 0;clip: rect(1px 1px 1px 1px);clip: rect(1px, 1px, 1px, 1px);height: 1px;margin: -1px;overflow: hidden;padding: 0;position: absolute;width: 1px;}#sk-container-id-1 div.sk-estimator {font-family: monospace;background-color: #f0f8ff;border: 1px dotted black;border-radius: 0.25em;box-sizing: border-box;margin-bottom: 0.5em;}#sk-container-id-1 div.sk-estimator:hover {background-color: #d4ebff;}#sk-container-id-1 div.sk-parallel-item::after {content: \"\";width: 100%;border-bottom: 1px solid gray;flex-grow: 1;}#sk-container-id-1 div.sk-label:hover label.sk-toggleable__label {background-color: #d4ebff;}#sk-container-id-1 div.sk-serial::before {content: \"\";position: absolute;border-left: 1px solid gray;box-sizing: border-box;top: 0;bottom: 0;left: 50%;z-index: 0;}#sk-container-id-1 div.sk-serial {display: flex;flex-direction: column;align-items: center;background-color: white;padding-right: 0.2em;padding-left: 0.2em;position: relative;}#sk-container-id-1 div.sk-item {position: relative;z-index: 1;}#sk-container-id-1 div.sk-parallel {display: flex;align-items: stretch;justify-content: center;background-color: white;position: relative;}#sk-container-id-1 div.sk-item::before, #sk-container-id-1 div.sk-parallel-item::before {content: \"\";position: absolute;border-left: 1px solid gray;box-sizing: border-box;top: 0;bottom: 0;left: 50%;z-index: -1;}#sk-container-id-1 div.sk-parallel-item {display: flex;flex-direction: column;z-index: 1;position: relative;background-color: white;}#sk-container-id-1 div.sk-parallel-item:first-child::after {align-self: flex-end;width: 50%;}#sk-container-id-1 div.sk-parallel-item:last-child::after {align-self: flex-start;width: 50%;}#sk-container-id-1 div.sk-parallel-item:only-child::after {width: 0;}#sk-container-id-1 div.sk-dashed-wrapped {border: 1px dashed gray;margin: 0 0.4em 0.5em 0.4em;box-sizing: border-box;padding-bottom: 0.4em;background-color: white;}#sk-container-id-1 div.sk-label label {font-family: monospace;font-weight: bold;display: inline-block;line-height: 1.2em;}#sk-container-id-1 div.sk-label-container {text-align: center;}#sk-container-id-1 div.sk-container {/* jupyter's `normalize.less` sets `[hidden] { display: none; }` but bootstrap.min.css set `[hidden] { display: none !important; }` so we also need the `!important` here to be able to override the default hidden behavior on the sphinx rendered scikit-learn.org. See: https://github.com/scikit-learn/scikit-learn/issues/21755 */display: inline-block !important;position: relative;}#sk-container-id-1 div.sk-text-repr-fallback {display: none;}</style><div id=\"sk-container-id-1\" class=\"sk-top-container\"><div class=\"sk-text-repr-fallback\"><pre>LGBMClassifier(learning_rate=0.02, n_estimators=800)</pre><b>In a Jupyter environment, please rerun this cell to show the HTML representation or trust the notebook. <br />On GitHub, the HTML representation is unable to render, please try loading this page with nbviewer.org.</b></div><div class=\"sk-container\" hidden><div class=\"sk-item\"><div class=\"sk-estimator sk-toggleable\"><input class=\"sk-toggleable__control sk-hidden--visually\" id=\"sk-estimator-id-1\" type=\"checkbox\" checked><label for=\"sk-estimator-id-1\" class=\"sk-toggleable__label sk-toggleable__label-arrow\">LGBMClassifier</label><div class=\"sk-toggleable__content\"><pre>LGBMClassifier(learning_rate=0.02, n_estimators=800)</pre></div></div></div></div></div>"
      ],
      "text/plain": [
       "LGBMClassifier(learning_rate=0.02, n_estimators=800)"
      ]
     },
     "execution_count": 57,
     "metadata": {},
     "output_type": "execute_result"
    }
   ],
   "source": [
    "evals = [(X_tr, y_tr), (X_val, y_val)]\n",
    "lgbm_wrapper.fit(X_tr, y_tr, early_stopping_rounds=100, eval_metric=\"logloss\", eval_set=evals, verbose=True)"
   ]
  },
  {
   "cell_type": "markdown",
   "metadata": {
    "id": "z3YiAxdOAhqh"
   },
   "source": [
    "### **3-1-g. 위에서 학습시킨 `lgbm_wrapper`의 정확도를 출력하세요.**"
   ]
  },
  {
   "cell_type": "code",
   "execution_count": 58,
   "metadata": {
    "id": "yrG3MF-JAom3"
   },
   "outputs": [
    {
     "name": "stdout",
     "output_type": "stream",
     "text": [
      "정확도 : 0.6768\n"
     ]
    }
   ],
   "source": [
    "from sklearn.metrics import accuracy_score\n",
    "\n",
    "preds = lgbm_wrapper.predict(X_test)\n",
    "pred_proba = lgbm_wrapper.predict_proba(X_test)[:, 1]\n",
    "accuracy = accuracy_score(y_test , preds)\n",
    "\n",
    "print(\"정확도 : {0:.4f}\".format(accuracy))"
   ]
  },
  {
   "cell_type": "markdown",
   "metadata": {
    "id": "s5_joSurAjHs"
   },
   "source": [
    "### **3-1-i. 피처 중요도를 중요한 순서대로 시각화 해주세요.**\n",
    "(힌트: 파머완 252 페이지)"
   ]
  },
  {
   "cell_type": "code",
   "execution_count": 59,
   "metadata": {
    "id": "5PG_98tJBfB9"
   },
   "outputs": [
    {
     "data": {
      "text/plain": [
       "<Axes: title={'center': 'Feature importance'}, xlabel='Feature importance', ylabel='Features'>"
      ]
     },
     "execution_count": 59,
     "metadata": {},
     "output_type": "execute_result"
    },
    {
     "data": {
      "image/png": "[encoded data removed]",
      "text/plain": [
       "<Figure size 1000x1200 with 1 Axes>"
      ]
     },
     "metadata": {},
     "output_type": "display_data"
    }
   ],
   "source": [
    "from lightgbm import plot_importance\n",
    "import matplotlib.pyplot as plt\n",
    "%matplotlib inline\n",
    "\n",
    "\n",
    "fig, ax = plt.subplots(figsize=(10,12))\n",
    "plot_importance(lgbm_wrapper, ax=ax)"
   ]
  },
  {
   "cell_type": "markdown",
   "metadata": {
    "id": "egUn68R9AjSZ"
   },
   "source": [
    "## **3-2. HyperOpt**"
   ]
  },
  {
   "cell_type": "code",
   "execution_count": 60,
   "metadata": {
    "id": "YQfqj1GmGiYa"
   },
   "outputs": [],
   "source": [
    "from hyperopt import hp"
   ]
  },
  {
   "cell_type": "markdown",
   "metadata": {
    "id": "Dt90nZGGAjaO"
   },
   "source": [
    "### **3-2-a. 주어진 정보를 바탕으로 검색 공간을 설정해 주세요.**\n",
    "(힌트: `hp.uniform`)\n",
    "\n",
    "- max_depth: 5에서 20까지, 간격 = 1\n",
    "- min_child_weight: 1에서 2까지, 간격 = 1\n",
    "- colsample_bytree: 0.5, 1\n",
    "- learning_rate: 0.01에서 0.2 사이, 정규 분포된 값으로"
   ]
  },
  {
   "cell_type": "code",
   "execution_count": 61,
   "metadata": {
    "id": "j9hI35hEBenL"
   },
   "outputs": [],
   "source": [
    "search_space = {'max_depth': hp.quniform('max_depth', 5, 20, 1), \n",
    "                'min_child_weight': hp.quniform('min_child_weight', 1, 2, 1),\n",
    "                'colsample_bytree': hp.uniform('colsample_bytree', 0.5, 0.95),\n",
    "                'learning_rate': hp.uniform('learning_rate', 0.01, 0.2)\n",
    "               }"
   ]
  },
  {
   "cell_type": "markdown",
   "metadata": {
    "id": "3cSRp1UDAji8"
   },
   "source": [
    "### **3-2-b. 검색 공간을 인자로 받아 목적함수를 완성해 주세요.**\n",
    "(n_estimators = 800)  \n",
    "(❓❓❓❓❓로 표시된 빈칸을 채워주세요!)"
   ]
  },
  {
   "cell_type": "code",
   "execution_count": 62,
   "metadata": {
    "id": "VIi05vIgHFKQ"
   },
   "outputs": [],
   "source": [
    "from sklearn.model_selection import cross_val_score\n",
    "from xgboost import XGBClassifier\n",
    "from hyperopt import STATUS_OK\n",
    "\n",
    "\n",
    "def objective_func(search_space):\n",
    "    xgb_clf = XGBClassifier(n_estimators = 800,\n",
    "                            max_depth = int(search_space['max_depth']),\n",
    "                            min_child_weight = int(search_space['min_child_weight']),\n",
    "                            learning_rate = search_space['learning_rate'],\n",
    "                            colsample_bytree = search_space['colsample_bytree'],\n",
    "                            eval_metric = 'logloss')\n",
    "    accuracy = cross_val_score(xgb_clf, X_train, y_train, scoring = 'accuracy', cv = 3)\n",
    "\n",
    "    return {'loss':-1 * np.mean(accuracy), 'status': STATUS_OK}"
   ]
  },
  {
   "cell_type": "markdown",
   "metadata": {
    "id": "dpFPo2bIBKYA"
   },
   "source": [
    "### **3-2-c. best에 `fmin()` 함수를 이용하여 최적 파라미터 값들을 저장해 주세요.**\n",
    "- fn, 검색공간: 위에서 구한 값\n",
    "- 최대 반복 횟수: 50"
   ]
  },
  {
   "cell_type": "code",
   "execution_count": 64,
   "metadata": {
    "id": "oagDclMCKKmS"
   },
   "outputs": [
    {
     "name": "stdout",
     "output_type": "stream",
     "text": [
      "100%|███████████████████████████████████████████████| 50/50 [06:45<00:00,  8.11s/trial, best loss: -0.6629772923268877]\n",
      "best: {'colsample_bytree': 0.9416056675880711, 'learning_rate': 0.010085626080481525, 'max_depth': 14.0, 'min_child_weight': 1.0}\n"
     ]
    }
   ],
   "source": [
    "from hyperopt import fmin, tpe, Trials\n",
    "\n",
    "trial_val = Trials()\n",
    "best = fmin(fn=objective_func,\n",
    "            space=search_space,\n",
    "            algo = tpe.suggest,\n",
    "            max_evals=50,\n",
    "            trials = trial_val,\n",
    "            rstate = np.random.default_rng(seed = 9))\n",
    "print('best:', best)"
   ]
  },
  {
   "cell_type": "markdown",
   "metadata": {
    "id": "X00SYdMqBKf-"
   },
   "source": [
    "### **3-2-d. 아래는 best에 포함된 최적 파라미터들을 할당한 분류기입니다. 해당 분류기의 정확도를 출력해 주세요.**"
   ]
  },
  {
   "cell_type": "code",
   "execution_count": 69,
   "metadata": {
    "id": "YWG7Vx8qLskd"
   },
   "outputs": [
    {
     "name": "stdout",
     "output_type": "stream",
     "text": [
      "정확도 : 0.6784\n"
     ]
    }
   ],
   "source": [
    "xgb_wrapper = XGBClassifier(n_estimators = 400,\n",
    "                            learning_rate = round(best['learning_rate'], 5),\n",
    "                            max_depth = int(best['max_depth']),\n",
    "                            min_child_weight = int(best['min_child_weight']),\n",
    "                            colsample_bytree = round(best['colsample_bytree'], 5)\n",
    "                           )\n",
    "\n",
    "evals = [(X_tr, y_tr), (X_val, y_val)]\n",
    "xgb_wrapper.fit(X_tr, y_tr, early_stopping_rounds=100, eval_metric = 'logloss',\n",
    "                eval_set = evals, verbose = 0)\n",
    "\n",
    "accuracy = accuracy_score(y_test , xgb_wrapper.predict(X_test))\n",
    "\n",
    "print(\"정확도 : {0:.4f}\".format(accuracy))"
   ]
  },
  {
   "cell_type": "markdown",
   "metadata": {
    "id": "Zi7nlAXnaIvx"
   },
   "source": [
    "# **4. 스태킹**\n",
    "- 4번 문제는 3번 문제에서 전처리 된 `water_potability.csv` 데이터를 계속 활용하시면 됩니다."
   ]
  },
  {
   "cell_type": "markdown",
   "metadata": {
    "id": "zo-EqV9IaOHE"
   },
   "source": [
    "## **4-a. 기본 스태킹 기법을 적용해 봅시다.**\n",
    "- `SVM`, `KNN`, `로지스틱 회귀`, `결정 트리` 모델 객체를 생성해 주세요.\n",
    "- 최종 메타 모델은 `랜덤 포레스트`를 활용해주세요.\n",
    "- 파라미터 설정\n",
    "  - SVM: random_state = 0\n",
    "  - KNN: n_neighbors = 8\n",
    "  - RandomForest: n_estimators = 100, random_state = 0\n",
    "  - 나머지: 기본 파라미터(base model)"
   ]
  },
  {
   "cell_type": "code",
   "execution_count": 88,
   "metadata": {
    "id": "A8oVE61iW2rE"
   },
   "outputs": [],
   "source": [
    "import numpy as np\n",
    "import pandas as pd\n",
    "import seaborn as sns\n",
    "import matplotlib.pyplot as plt\n",
    "%matplotlib inline"
   ]
  },
  {
   "cell_type": "code",
   "execution_count": 89,
   "metadata": {
    "id": "-g8nzDlXW_hD"
   },
   "outputs": [],
   "source": [
    "# SVM, KNN, 로지스틱 회귀, 결정 트리 개별 모델들을 생성해 주세요.\n",
    "from sklearn.neighbors import KNeighborsClassifier\n",
    "from sklearn.tree import DecisionTreeClassifier\n",
    "from sklearn.linear_model import LogisticRegression\n",
    "from sklearn.svm import SVC\n",
    "from sklearn.ensemble import RandomForestClassifier\n",
    "\n",
    "svm_clf = SVC(kernel='linear')\n",
    "knn_clf = KNeighborsClassifier(n_neighbors=4)\n",
    "lr_clf = LogisticRegression()\n",
    "dt_clf =DecisionTreeClassifier()\n",
    "\n",
    "# 최종 메타 모델로 랜덤 포레스트를 생성해 주세요.\n",
    "rf_final = RandomForestClassifier(n_estimators=100, random_state=0)"
   ]
  },
  {
   "cell_type": "markdown",
   "metadata": {
    "id": "_kiFDVuDZ92_"
   },
   "source": [
    "## **4-b. 개별 모델들을 학습시키고 예측을 수행합니다.**\n",
    "- 아래 코드를 완성시켜 봅시다.\n",
    "\n"
   ]
  },
  {
   "cell_type": "code",
   "execution_count": 90,
   "metadata": {
    "id": "Vda9AE6ga1ne"
   },
   "outputs": [
    {
     "data": {
      "text/html": [
       "<style>#sk-container-id-4 {color: black;background-color: white;}#sk-container-id-4 pre{padding: 0;}#sk-container-id-4 div.sk-toggleable {background-color: white;}#sk-container-id-4 label.sk-toggleable__label {cursor: pointer;display: block;width: 100%;margin-bottom: 0;padding: 0.3em;box-sizing: border-box;text-align: center;}#sk-container-id-4 label.sk-toggleable__label-arrow:before {content: \"▸\";float: left;margin-right: 0.25em;color: #696969;}#sk-container-id-4 label.sk-toggleable__label-arrow:hover:before {color: black;}#sk-container-id-4 div.sk-estimator:hover label.sk-toggleable__label-arrow:before {color: black;}#sk-container-id-4 div.sk-toggleable__content {max-height: 0;max-width: 0;overflow: hidden;text-align: left;background-color: #f0f8ff;}#sk-container-id-4 div.sk-toggleable__content pre {margin: 0.2em;color: black;border-radius: 0.25em;background-color: #f0f8ff;}#sk-container-id-4 input.sk-toggleable__control:checked~div.sk-toggleable__content {max-height: 200px;max-width: 100%;overflow: auto;}#sk-container-id-4 input.sk-toggleable__control:checked~label.sk-toggleable__label-arrow:before {content: \"▾\";}#sk-container-id-4 div.sk-estimator input.sk-toggleable__control:checked~label.sk-toggleable__label {background-color: #d4ebff;}#sk-container-id-4 div.sk-label input.sk-toggleable__control:checked~label.sk-toggleable__label {background-color: #d4ebff;}#sk-container-id-4 input.sk-hidden--visually {border: 0;clip: rect(1px 1px 1px 1px);clip: rect(1px, 1px, 1px, 1px);height: 1px;margin: -1px;overflow: hidden;padding: 0;position: absolute;width: 1px;}#sk-container-id-4 div.sk-estimator {font-family: monospace;background-color: #f0f8ff;border: 1px dotted black;border-radius: 0.25em;box-sizing: border-box;margin-bottom: 0.5em;}#sk-container-id-4 div.sk-estimator:hover {background-color: #d4ebff;}#sk-container-id-4 div.sk-parallel-item::after {content: \"\";width: 100%;border-bottom: 1px solid gray;flex-grow: 1;}#sk-container-id-4 div.sk-label:hover label.sk-toggleable__label {background-color: #d4ebff;}#sk-container-id-4 div.sk-serial::before {content: \"\";position: absolute;border-left: 1px solid gray;box-sizing: border-box;top: 0;bottom: 0;left: 50%;z-index: 0;}#sk-container-id-4 div.sk-serial {display: flex;flex-direction: column;align-items: center;background-color: white;padding-right: 0.2em;padding-left: 0.2em;position: relative;}#sk-container-id-4 div.sk-item {position: relative;z-index: 1;}#sk-container-id-4 div.sk-parallel {display: flex;align-items: stretch;justify-content: center;background-color: white;position: relative;}#sk-container-id-4 div.sk-item::before, #sk-container-id-4 div.sk-parallel-item::before {content: \"\";position: absolute;border-left: 1px solid gray;box-sizing: border-box;top: 0;bottom: 0;left: 50%;z-index: -1;}#sk-container-id-4 div.sk-parallel-item {display: flex;flex-direction: column;z-index: 1;position: relative;background-color: white;}#sk-container-id-4 div.sk-parallel-item:first-child::after {align-self: flex-end;width: 50%;}#sk-container-id-4 div.sk-parallel-item:last-child::after {align-self: flex-start;width: 50%;}#sk-container-id-4 div.sk-parallel-item:only-child::after {width: 0;}#sk-container-id-4 div.sk-dashed-wrapped {border: 1px dashed gray;margin: 0 0.4em 0.5em 0.4em;box-sizing: border-box;padding-bottom: 0.4em;background-color: white;}#sk-container-id-4 div.sk-label label {font-family: monospace;font-weight: bold;display: inline-block;line-height: 1.2em;}#sk-container-id-4 div.sk-label-container {text-align: center;}#sk-container-id-4 div.sk-container {/* jupyter's `normalize.less` sets `[hidden] { display: none; }` but bootstrap.min.css set `[hidden] { display: none !important; }` so we also need the `!important` here to be able to override the default hidden behavior on the sphinx rendered scikit-learn.org. See: https://github.com/scikit-learn/scikit-learn/issues/21755 */display: inline-block !important;position: relative;}#sk-container-id-4 div.sk-text-repr-fallback {display: none;}</style><div id=\"sk-container-id-4\" class=\"sk-top-container\"><div class=\"sk-text-repr-fallback\"><pre>DecisionTreeClassifier()</pre><b>In a Jupyter environment, please rerun this cell to show the HTML representation or trust the notebook. <br />On GitHub, the HTML representation is unable to render, please try loading this page with nbviewer.org.</b></div><div class=\"sk-container\" hidden><div class=\"sk-item\"><div class=\"sk-estimator sk-toggleable\"><input class=\"sk-toggleable__control sk-hidden--visually\" id=\"sk-estimator-id-4\" type=\"checkbox\" checked><label for=\"sk-estimator-id-4\" class=\"sk-toggleable__label sk-toggleable__label-arrow\">DecisionTreeClassifier</label><div class=\"sk-toggleable__content\"><pre>DecisionTreeClassifier()</pre></div></div></div></div></div>"
      ],
      "text/plain": [
       "DecisionTreeClassifier()"
      ]
     },
     "execution_count": 90,
     "metadata": {},
     "output_type": "execute_result"
    }
   ],
   "source": [
    "svm_clf.fit(X_tr, y_tr)\n",
    "knn_clf.fit(X_tr, y_tr)\n",
    "lr_clf.fit(X_tr, y_tr)\n",
    "dt_clf.fit(X_tr, y_tr)"
   ]
  },
  {
   "cell_type": "code",
   "execution_count": 91,
   "metadata": {
    "id": "bqQEJMSwbXfz"
   },
   "outputs": [
    {
     "name": "stdout",
     "output_type": "stream",
     "text": [
      "SVM 정확도: 0.6107\n",
      "KNN 정확도: 0.5840\n",
      "로지스틱 회귀 정확도: 0.6145\n",
      "결정 트리 정확도: 0.5992\n"
     ]
    }
   ],
   "source": [
    "## 학습된 개별 모델들이 반환하는 예측 데이터셋을 생성하세요.\n",
    "# 예측 시 들어가는 테스트 데이터셋 이름은 X_val 입니다.\n",
    "svm_pred = svm_clf.predict(X_val)\n",
    "knn_pred = knn_clf.predict(X_val)\n",
    "lr_pred = lr_clf.predict(X_val)\n",
    "dt_pred = dt_clf.predict(X_val)\n",
    "\n",
    "## 예측 정확도를 반환하세요. 테스트 레이블 데이터셋 이름은 y_val 입니다.\n",
    "# hint : accuracy_score()\n",
    "print('SVM 정확도: {0:.4f}'.format(accuracy_score(y_val, svm_pred)))\n",
    "print('KNN 정확도: {0:.4f}'.format(accuracy_score(y_val, knn_pred)))\n",
    "print('로지스틱 회귀 정확도: {0:.4f}'.format(accuracy_score(y_val,lr_pred)))\n",
    "print('결정 트리 정확도: {0:.4f}'.format(accuracy_score(y_val, dt_pred)))"
   ]
  },
  {
   "cell_type": "markdown",
   "metadata": {
    "id": "AmQiW4i4c_9B"
   },
   "source": [
    "## **4-c. 반환된 예측 데이터셋을 행 형태로 묶어 pred 데이터셋에 저장합니다**"
   ]
  },
  {
   "cell_type": "code",
   "execution_count": 92,
   "metadata": {
    "id": "Od3yHZ3fc8Uf"
   },
   "outputs": [
    {
     "name": "stdout",
     "output_type": "stream",
     "text": [
      "(4, 262)\n",
      "(262, 4)\n"
     ]
    }
   ],
   "source": [
    "pred = np.array([knn_pred, svm_pred, dt_pred, lr_pred])\n",
    "print(pred.shape)\n",
    "\n",
    "# 행과 열의 위치를 교환해 원본 데이터 값 하나 당 예측 데이터셋의 값이 1대1 매칭이 되도록 하세요.\n",
    "pred = np.transpose(pred)\n",
    "print(pred.shape)"
   ]
  },
  {
   "cell_type": "markdown",
   "metadata": {
    "id": "h8rhG78DdzpT"
   },
   "source": [
    "## **4-d. 완성된 최종 데이터셋을 최종 메타 모델에 학습시키고 예측시킵니다.**\n",
    "- 기본 스태킹 모델이므로 학습과 예측 모두 **동일한** 데이터셋을 사용합니다.\n",
    "- **정확도**도 함께 출력해 주세요."
   ]
  },
  {
   "cell_type": "code",
   "execution_count": 93,
   "metadata": {
    "id": "eDf69kCPebqf"
   },
   "outputs": [
    {
     "name": "stdout",
     "output_type": "stream",
     "text": [
      "최종 메타 모델의 예측 정확도: 0.6145\n"
     ]
    }
   ],
   "source": [
    "rf_final.fit(pred, y_val)\n",
    "final = rf_final.predict(pred)\n",
    "\n",
    "print('최종 메타 모델의 예측 정확도: {0:.4f}'.format(accuracy_score(y_val , final)))"
   ]
  },
  {
   "cell_type": "markdown",
   "metadata": {
    "id": "Bt9i77_NqqJp"
   },
   "source": [
    "# **5. CatBoost**\n",
    "- 책에서 다루지 않는 부분이기 때문에 간단한 실습만 진행합니다."
   ]
  },
  {
   "cell_type": "code",
   "execution_count": 80,
   "metadata": {
    "id": "bUp-KlCjr7nt"
   },
   "outputs": [
    {
     "name": "stdout",
     "output_type": "stream",
     "text": [
      "Collecting optuna\n",
      "  Downloading optuna-3.3.0-py3-none-any.whl (404 kB)\n",
      "                                              0.0/404.2 kB ? eta -:--:--\n",
      "     ---------------------------------      358.4/404.2 kB 7.4 MB/s eta 0:00:01\n",
      "     -------------------------------------- 404.2/404.2 kB 6.3 MB/s eta 0:00:00\n",
      "Collecting alembic>=1.5.0 (from optuna)\n",
      "  Downloading alembic-1.12.0-py3-none-any.whl (226 kB)\n",
      "                                              0.0/226.0 kB ? eta -:--:--\n",
      "     -------------------------------------- 226.0/226.0 kB 7.0 MB/s eta 0:00:00\n",
      "Collecting cmaes>=0.10.0 (from optuna)\n",
      "  Downloading cmaes-0.10.0-py3-none-any.whl (29 kB)\n",
      "Collecting colorlog (from optuna)\n",
      "  Downloading colorlog-6.7.0-py2.py3-none-any.whl (11 kB)\n",
      "Requirement already satisfied: numpy in c:\\users\\jain5\\anaconda3\\lib\\site-packages (from optuna) (1.24.3)\n",
      "Requirement already satisfied: packaging>=20.0 in c:\\users\\jain5\\anaconda3\\lib\\site-packages (from optuna) (23.0)\n",
      "Requirement already satisfied: sqlalchemy>=1.3.0 in c:\\users\\jain5\\anaconda3\\lib\\site-packages (from optuna) (1.4.39)\n",
      "Requirement already satisfied: tqdm in c:\\users\\jain5\\anaconda3\\lib\\site-packages (from optuna) (4.65.0)\n",
      "Requirement already satisfied: PyYAML in c:\\users\\jain5\\anaconda3\\lib\\site-packages (from optuna) (6.0)\n",
      "Collecting Mako (from alembic>=1.5.0->optuna)\n",
      "  Using cached Mako-1.2.4-py3-none-any.whl (78 kB)\n",
      "Requirement already satisfied: typing-extensions>=4 in c:\\users\\jain5\\anaconda3\\lib\\site-packages (from alembic>=1.5.0->optuna) (4.6.3)\n",
      "Requirement already satisfied: greenlet!=0.4.17 in c:\\users\\jain5\\anaconda3\\lib\\site-packages (from sqlalchemy>=1.3.0->optuna) (2.0.1)\n",
      "Requirement already satisfied: colorama in c:\\users\\jain5\\anaconda3\\lib\\site-packages (from colorlog->optuna) (0.4.6)\n",
      "Requirement already satisfied: MarkupSafe>=0.9.2 in c:\\users\\jain5\\anaconda3\\lib\\site-packages (from Mako->alembic>=1.5.0->optuna) (2.1.1)\n",
      "Installing collected packages: Mako, colorlog, cmaes, alembic, optuna\n",
      "Successfully installed Mako-1.2.4 alembic-1.12.0 cmaes-0.10.0 colorlog-6.7.0 optuna-3.3.0\n",
      "Collecting catboost\n",
      "  Downloading catboost-1.2.2-cp311-cp311-win_amd64.whl (101.0 MB)\n",
      "                                              0.0/101.0 MB ? eta -:--:--\n",
      "                                              0.3/101.0 MB 8.6 MB/s eta 0:00:12\n",
      "                                              0.6/101.0 MB 7.7 MB/s eta 0:00:13\n",
      "                                              1.0/101.0 MB 7.9 MB/s eta 0:00:13\n",
      "                                              1.3/101.0 MB 7.7 MB/s eta 0:00:14\n",
      "                                              1.8/101.0 MB 8.0 MB/s eta 0:00:13\n",
      "                                              2.3/101.0 MB 8.7 MB/s eta 0:00:12\n",
      "     -                                        2.9/101.0 MB 9.2 MB/s eta 0:00:11\n",
      "     -                                        3.5/101.0 MB 9.6 MB/s eta 0:00:11\n",
      "     -                                        3.9/101.0 MB 9.7 MB/s eta 0:00:11\n",
      "     -                                       4.6/101.0 MB 10.1 MB/s eta 0:00:10\n",
      "     -                                       5.1/101.0 MB 10.5 MB/s eta 0:00:10\n",
      "     --                                      5.5/101.0 MB 10.4 MB/s eta 0:00:10\n",
      "     --                                      6.1/101.0 MB 10.3 MB/s eta 0:00:10\n",
      "     --                                      6.7/101.0 MB 10.5 MB/s eta 0:00:09\n",
      "     --                                      7.4/101.0 MB 10.9 MB/s eta 0:00:09\n",
      "     ---                                     7.9/101.0 MB 11.0 MB/s eta 0:00:09\n",
      "     ---                                     8.4/101.0 MB 11.0 MB/s eta 0:00:09\n",
      "     ---                                     8.8/101.0 MB 10.7 MB/s eta 0:00:09\n",
      "     ---                                     9.4/101.0 MB 10.9 MB/s eta 0:00:09\n",
      "     ---                                     9.8/101.0 MB 10.8 MB/s eta 0:00:09\n",
      "     ---                                    10.4/101.0 MB 10.9 MB/s eta 0:00:09\n",
      "     ----                                   11.0/101.0 MB 11.3 MB/s eta 0:00:08\n",
      "     ----                                   11.5/101.0 MB 11.5 MB/s eta 0:00:08\n",
      "     ----                                   12.1/101.0 MB 11.9 MB/s eta 0:00:08\n",
      "     ----                                   12.5/101.0 MB 11.5 MB/s eta 0:00:08\n",
      "     ----                                   13.0/101.0 MB 11.5 MB/s eta 0:00:08\n",
      "     -----                                  13.5/101.0 MB 11.5 MB/s eta 0:00:08\n",
      "     -----                                  14.1/101.0 MB 11.7 MB/s eta 0:00:08\n",
      "     -----                                  14.6/101.0 MB 11.5 MB/s eta 0:00:08\n",
      "     -----                                  15.1/101.0 MB 11.3 MB/s eta 0:00:08\n",
      "     -----                                  15.6/101.0 MB 11.5 MB/s eta 0:00:08\n",
      "     ------                                 16.2/101.0 MB 11.5 MB/s eta 0:00:08\n",
      "     ------                                 16.7/101.0 MB 11.3 MB/s eta 0:00:08\n",
      "     ------                                 17.3/101.0 MB 11.3 MB/s eta 0:00:08\n",
      "     ------                                 17.8/101.0 MB 11.3 MB/s eta 0:00:08\n",
      "     ------                                 18.3/101.0 MB 11.1 MB/s eta 0:00:08\n",
      "     -------                                19.0/101.0 MB 11.5 MB/s eta 0:00:08\n",
      "     -------                                19.6/101.0 MB 11.5 MB/s eta 0:00:08\n",
      "     -------                                20.2/101.0 MB 11.9 MB/s eta 0:00:07\n",
      "     -------                                20.7/101.0 MB 11.7 MB/s eta 0:00:07\n",
      "     --------                               21.4/101.0 MB 11.9 MB/s eta 0:00:07\n",
      "     --------                               22.0/101.0 MB 11.7 MB/s eta 0:00:07\n",
      "     --------                               22.6/101.0 MB 12.1 MB/s eta 0:00:07\n",
      "     --------                               23.1/101.0 MB 12.1 MB/s eta 0:00:07\n",
      "     --------                               23.8/101.0 MB 12.4 MB/s eta 0:00:07\n",
      "     ---------                              24.2/101.0 MB 12.1 MB/s eta 0:00:07\n",
      "     ---------                              24.9/101.0 MB 12.4 MB/s eta 0:00:07\n",
      "     ---------                              25.4/101.0 MB 12.4 MB/s eta 0:00:07\n",
      "     ---------                              26.0/101.0 MB 12.4 MB/s eta 0:00:07\n",
      "     ----------                             26.7/101.0 MB 12.6 MB/s eta 0:00:06\n",
      "     ----------                             27.3/101.0 MB 12.6 MB/s eta 0:00:06\n",
      "     ----------                             28.0/101.0 MB 12.8 MB/s eta 0:00:06\n",
      "     ----------                             28.5/101.0 MB 12.8 MB/s eta 0:00:06\n",
      "     ----------                             29.2/101.0 MB 13.1 MB/s eta 0:00:06\n",
      "     -----------                            29.8/101.0 MB 12.9 MB/s eta 0:00:06\n",
      "     -----------                            30.5/101.0 MB 13.1 MB/s eta 0:00:06\n",
      "     -----------                            31.1/101.0 MB 13.4 MB/s eta 0:00:06\n",
      "     -----------                            31.5/101.0 MB 13.1 MB/s eta 0:00:06\n",
      "     -----------                            31.5/101.0 MB 13.1 MB/s eta 0:00:06\n",
      "     ------------                           32.0/101.0 MB 11.9 MB/s eta 0:00:06\n",
      "     ------------                           32.6/101.0 MB 11.9 MB/s eta 0:00:06\n",
      "     ------------                           33.0/101.0 MB 11.7 MB/s eta 0:00:06\n",
      "     ------------                           33.5/101.0 MB 11.7 MB/s eta 0:00:06\n",
      "     ------------                           34.2/101.0 MB 11.7 MB/s eta 0:00:06\n",
      "     -------------                          34.8/101.0 MB 11.9 MB/s eta 0:00:06\n",
      "     -------------                          35.4/101.0 MB 11.7 MB/s eta 0:00:06\n",
      "     -------------                          36.0/101.0 MB 11.9 MB/s eta 0:00:06\n",
      "     -------------                          36.5/101.0 MB 11.7 MB/s eta 0:00:06\n",
      "     -------------                          37.1/101.0 MB 11.7 MB/s eta 0:00:06\n",
      "     --------------                         37.7/101.0 MB 11.7 MB/s eta 0:00:06\n",
      "     --------------                         38.2/101.0 MB 11.7 MB/s eta 0:00:06\n",
      "     --------------                         38.9/101.0 MB 11.5 MB/s eta 0:00:06\n",
      "     --------------                         39.3/101.0 MB 11.5 MB/s eta 0:00:06\n",
      "     ---------------                        39.9/101.0 MB 11.5 MB/s eta 0:00:06\n",
      "     ---------------                        40.5/101.0 MB 11.5 MB/s eta 0:00:06\n",
      "     ---------------                        41.2/101.0 MB 11.5 MB/s eta 0:00:06\n",
      "     ---------------                        41.7/101.0 MB 12.6 MB/s eta 0:00:05\n",
      "     ---------------                        42.4/101.0 MB 12.6 MB/s eta 0:00:05\n",
      "     ----------------                       43.0/101.0 MB 12.8 MB/s eta 0:00:05\n",
      "     ----------------                       43.6/101.0 MB 12.8 MB/s eta 0:00:05\n",
      "     ----------------                       44.1/101.0 MB 12.8 MB/s eta 0:00:05\n",
      "     ----------------                       44.6/101.0 MB 12.6 MB/s eta 0:00:05\n",
      "     -----------------                      45.2/101.0 MB 12.6 MB/s eta 0:00:05\n",
      "     -----------------                      45.8/101.0 MB 12.6 MB/s eta 0:00:05\n",
      "     -----------------                      46.5/101.0 MB 12.8 MB/s eta 0:00:05\n",
      "     -----------------                      46.9/101.0 MB 12.6 MB/s eta 0:00:05\n",
      "     -----------------                      47.6/101.0 MB 12.6 MB/s eta 0:00:05\n",
      "     ------------------                     48.2/101.0 MB 12.6 MB/s eta 0:00:05\n",
      "     ------------------                     48.7/101.0 MB 12.6 MB/s eta 0:00:05\n",
      "     ------------------                     49.4/101.0 MB 12.9 MB/s eta 0:00:05\n",
      "     ------------------                     50.0/101.0 MB 12.8 MB/s eta 0:00:04\n",
      "     -------------------                    50.7/101.0 MB 12.8 MB/s eta 0:00:04\n",
      "     -------------------                    51.1/101.0 MB 12.6 MB/s eta 0:00:04\n",
      "     -------------------                    51.7/101.0 MB 12.6 MB/s eta 0:00:04\n",
      "     -------------------                    52.2/101.0 MB 12.6 MB/s eta 0:00:04\n",
      "     -------------------                    52.8/101.0 MB 12.4 MB/s eta 0:00:04\n",
      "     --------------------                   53.4/101.0 MB 12.3 MB/s eta 0:00:04\n",
      "     --------------------                   53.9/101.0 MB 12.6 MB/s eta 0:00:04\n",
      "     --------------------                   54.4/101.0 MB 12.6 MB/s eta 0:00:04\n",
      "     --------------------                   54.9/101.0 MB 12.1 MB/s eta 0:00:04\n",
      "     --------------------                   55.4/101.0 MB 12.1 MB/s eta 0:00:04\n",
      "     ---------------------                  55.8/101.0 MB 11.9 MB/s eta 0:00:04\n",
      "     ---------------------                  56.4/101.0 MB 12.1 MB/s eta 0:00:04\n",
      "     ---------------------                  56.9/101.0 MB 12.1 MB/s eta 0:00:04\n",
      "     ---------------------                  57.5/101.0 MB 12.1 MB/s eta 0:00:04\n",
      "     ---------------------                  58.1/101.0 MB 11.9 MB/s eta 0:00:04\n",
      "     ----------------------                 58.7/101.0 MB 12.1 MB/s eta 0:00:04\n",
      "     ----------------------                 59.3/101.0 MB 12.1 MB/s eta 0:00:04\n",
      "     ----------------------                 59.9/101.0 MB 12.1 MB/s eta 0:00:04\n",
      "     ----------------------                 60.6/101.0 MB 11.9 MB/s eta 0:00:04\n",
      "     -----------------------                61.2/101.0 MB 12.1 MB/s eta 0:00:04\n",
      "     -----------------------                61.8/101.0 MB 12.1 MB/s eta 0:00:04\n",
      "     -----------------------                62.3/101.0 MB 12.1 MB/s eta 0:00:04\n",
      "     -----------------------                63.0/101.0 MB 12.4 MB/s eta 0:00:04\n",
      "     -----------------------                63.5/101.0 MB 12.1 MB/s eta 0:00:04\n",
      "     ------------------------               64.0/101.0 MB 12.1 MB/s eta 0:00:04\n",
      "     ------------------------               64.5/101.0 MB 12.1 MB/s eta 0:00:04\n",
      "     ------------------------               65.1/101.0 MB 12.4 MB/s eta 0:00:03\n",
      "     ------------------------               65.7/101.0 MB 12.4 MB/s eta 0:00:03\n",
      "     ------------------------               66.2/101.0 MB 12.6 MB/s eta 0:00:03\n",
      "     -------------------------              66.9/101.0 MB 12.6 MB/s eta 0:00:03\n",
      "     -------------------------              67.5/101.0 MB 12.6 MB/s eta 0:00:03\n",
      "     -------------------------              68.2/101.0 MB 12.8 MB/s eta 0:00:03\n",
      "     -------------------------              68.7/101.0 MB 12.8 MB/s eta 0:00:03\n",
      "     --------------------------             69.3/101.0 MB 12.6 MB/s eta 0:00:03\n",
      "     --------------------------             69.9/101.0 MB 12.6 MB/s eta 0:00:03\n",
      "     --------------------------             70.3/101.0 MB 12.4 MB/s eta 0:00:03\n",
      "     --------------------------             70.9/101.0 MB 12.4 MB/s eta 0:00:03\n",
      "     --------------------------             71.5/101.0 MB 12.4 MB/s eta 0:00:03\n",
      "     ---------------------------            71.8/101.0 MB 12.1 MB/s eta 0:00:03\n",
      "     ---------------------------            72.3/101.0 MB 11.9 MB/s eta 0:00:03\n",
      "     ---------------------------            72.6/101.0 MB 11.7 MB/s eta 0:00:03\n",
      "     ---------------------------            73.1/101.0 MB 11.5 MB/s eta 0:00:03\n",
      "     ---------------------------            73.5/101.0 MB 11.3 MB/s eta 0:00:03\n",
      "     ---------------------------            74.1/101.0 MB 11.5 MB/s eta 0:00:03\n",
      "     ----------------------------           74.7/101.0 MB 11.5 MB/s eta 0:00:03\n",
      "     ----------------------------           75.1/101.0 MB 11.3 MB/s eta 0:00:03\n",
      "     ----------------------------           75.5/101.0 MB 11.1 MB/s eta 0:00:03\n",
      "     ----------------------------           76.0/101.0 MB 11.1 MB/s eta 0:00:03\n",
      "     ----------------------------           76.6/101.0 MB 11.1 MB/s eta 0:00:03\n",
      "     -----------------------------          77.2/101.0 MB 11.1 MB/s eta 0:00:03\n",
      "     -----------------------------          77.7/101.0 MB 10.9 MB/s eta 0:00:03\n",
      "     -----------------------------          78.1/101.0 MB 10.7 MB/s eta 0:00:03\n",
      "     -----------------------------          78.6/101.0 MB 10.6 MB/s eta 0:00:03\n",
      "     -----------------------------          79.0/101.0 MB 10.6 MB/s eta 0:00:03\n",
      "     -----------------------------          79.4/101.0 MB 10.6 MB/s eta 0:00:03\n",
      "     -----------------------------          79.7/101.0 MB 10.4 MB/s eta 0:00:03\n",
      "     ------------------------------         80.3/101.0 MB 10.2 MB/s eta 0:00:03\n",
      "     ------------------------------         80.7/101.0 MB 10.2 MB/s eta 0:00:02\n",
      "     ------------------------------         81.1/101.0 MB 10.1 MB/s eta 0:00:02\n",
      "     -------------------------------         81.6/101.0 MB 9.9 MB/s eta 0:00:02\n",
      "     ------------------------------         82.0/101.0 MB 10.1 MB/s eta 0:00:02\n",
      "     -------------------------------        82.5/101.0 MB 10.1 MB/s eta 0:00:02\n",
      "     -------------------------------        83.0/101.0 MB 10.2 MB/s eta 0:00:02\n",
      "     -------------------------------        83.4/101.0 MB 10.1 MB/s eta 0:00:02\n",
      "     -------------------------------        83.8/101.0 MB 10.1 MB/s eta 0:00:02\n",
      "     --------------------------------        84.1/101.0 MB 9.9 MB/s eta 0:00:02\n",
      "     --------------------------------        84.6/101.0 MB 9.9 MB/s eta 0:00:02\n",
      "     --------------------------------        85.1/101.0 MB 9.8 MB/s eta 0:00:02\n",
      "     --------------------------------        85.5/101.0 MB 9.8 MB/s eta 0:00:02\n",
      "     ---------------------------------       86.0/101.0 MB 9.8 MB/s eta 0:00:02\n",
      "     ---------------------------------       86.4/101.0 MB 9.8 MB/s eta 0:00:02\n",
      "     ---------------------------------       86.9/101.0 MB 9.6 MB/s eta 0:00:02\n",
      "     ---------------------------------       87.4/101.0 MB 9.6 MB/s eta 0:00:02\n",
      "     ---------------------------------       87.8/101.0 MB 9.6 MB/s eta 0:00:02\n",
      "     ----------------------------------      88.2/101.0 MB 9.5 MB/s eta 0:00:02\n",
      "     ----------------------------------      88.8/101.0 MB 9.6 MB/s eta 0:00:02\n",
      "     ----------------------------------      89.4/101.0 MB 9.8 MB/s eta 0:00:02\n",
      "     ----------------------------------      89.9/101.0 MB 9.9 MB/s eta 0:00:02\n",
      "     ----------------------------------     90.6/101.0 MB 10.1 MB/s eta 0:00:02\n",
      "     ----------------------------------     91.2/101.0 MB 10.2 MB/s eta 0:00:01\n",
      "     ----------------------------------     91.8/101.0 MB 10.4 MB/s eta 0:00:01\n",
      "     ----------------------------------     92.4/101.0 MB 10.7 MB/s eta 0:00:01\n",
      "     ----------------------------------     93.0/101.0 MB 10.9 MB/s eta 0:00:01\n",
      "     -----------------------------------    93.7/101.0 MB 11.1 MB/s eta 0:00:01\n",
      "     -----------------------------------    94.3/101.0 MB 11.7 MB/s eta 0:00:01\n",
      "     -----------------------------------    94.9/101.0 MB 11.9 MB/s eta 0:00:01\n",
      "     -----------------------------------    95.6/101.0 MB 12.1 MB/s eta 0:00:01\n",
      "     ------------------------------------   96.2/101.0 MB 12.1 MB/s eta 0:00:01\n",
      "     ------------------------------------   96.8/101.0 MB 12.6 MB/s eta 0:00:01\n",
      "     ------------------------------------   97.3/101.0 MB 12.6 MB/s eta 0:00:01\n",
      "     ------------------------------------   97.9/101.0 MB 12.8 MB/s eta 0:00:01\n",
      "     -------------------------------------  98.4/101.0 MB 13.1 MB/s eta 0:00:01\n",
      "     -------------------------------------  99.1/101.0 MB 13.1 MB/s eta 0:00:01\n",
      "     -------------------------------------  99.6/101.0 MB 13.1 MB/s eta 0:00:01\n",
      "     ------------------------------------  100.2/101.0 MB 13.1 MB/s eta 0:00:01\n",
      "     ------------------------------------  100.9/101.0 MB 13.1 MB/s eta 0:00:01\n",
      "     ------------------------------------  101.0/101.0 MB 13.1 MB/s eta 0:00:01\n",
      "     ------------------------------------  101.0/101.0 MB 13.1 MB/s eta 0:00:01\n",
      "     ------------------------------------  101.0/101.0 MB 13.1 MB/s eta 0:00:01\n",
      "     ------------------------------------  101.0/101.0 MB 13.1 MB/s eta 0:00:01\n",
      "     ------------------------------------  101.0/101.0 MB 13.1 MB/s eta 0:00:01\n",
      "     ------------------------------------  101.0/101.0 MB 13.1 MB/s eta 0:00:01\n",
      "     ------------------------------------  101.0/101.0 MB 13.1 MB/s eta 0:00:01\n",
      "     ------------------------------------  101.0/101.0 MB 13.1 MB/s eta 0:00:01\n",
      "     ------------------------------------  101.0/101.0 MB 13.1 MB/s eta 0:00:01\n",
      "     ------------------------------------  101.0/101.0 MB 13.1 MB/s eta 0:00:01\n",
      "     -------------------------------------- 101.0/101.0 MB 7.4 MB/s eta 0:00:00\n",
      "Requirement already satisfied: graphviz in c:\\users\\jain5\\anaconda3\\lib\\site-packages (from catboost) (0.20.1)\n",
      "Requirement already satisfied: matplotlib in c:\\users\\jain5\\anaconda3\\lib\\site-packages (from catboost) (3.7.1)\n",
      "Requirement already satisfied: numpy>=1.16.0 in c:\\users\\jain5\\anaconda3\\lib\\site-packages (from catboost) (1.24.3)\n",
      "Requirement already satisfied: pandas>=0.24 in c:\\users\\jain5\\anaconda3\\lib\\site-packages (from catboost) (1.5.3)\n",
      "Requirement already satisfied: scipy in c:\\users\\jain5\\anaconda3\\lib\\site-packages (from catboost) (1.10.1)\n",
      "Requirement already satisfied: plotly in c:\\users\\jain5\\anaconda3\\lib\\site-packages (from catboost) (5.9.0)\n",
      "Requirement already satisfied: six in c:\\users\\jain5\\anaconda3\\lib\\site-packages (from catboost) (1.16.0)\n",
      "Requirement already satisfied: python-dateutil>=2.8.1 in c:\\users\\jain5\\anaconda3\\lib\\site-packages (from pandas>=0.24->catboost) (2.8.2)\n",
      "Requirement already satisfied: pytz>=2020.1 in c:\\users\\jain5\\anaconda3\\lib\\site-packages (from pandas>=0.24->catboost) (2022.7)\n",
      "Requirement already satisfied: contourpy>=1.0.1 in c:\\users\\jain5\\anaconda3\\lib\\site-packages (from matplotlib->catboost) (1.0.5)\n",
      "Requirement already satisfied: cycler>=0.10 in c:\\users\\jain5\\anaconda3\\lib\\site-packages (from matplotlib->catboost) (0.11.0)\n",
      "Requirement already satisfied: fonttools>=4.22.0 in c:\\users\\jain5\\anaconda3\\lib\\site-packages (from matplotlib->catboost) (4.25.0)\n",
      "Requirement already satisfied: kiwisolver>=1.0.1 in c:\\users\\jain5\\anaconda3\\lib\\site-packages (from matplotlib->catboost) (1.4.4)\n",
      "Requirement already satisfied: packaging>=20.0 in c:\\users\\jain5\\anaconda3\\lib\\site-packages (from matplotlib->catboost) (23.0)\n",
      "Requirement already satisfied: pillow>=6.2.0 in c:\\users\\jain5\\anaconda3\\lib\\site-packages (from matplotlib->catboost) (9.4.0)\n",
      "Requirement already satisfied: pyparsing>=2.3.1 in c:\\users\\jain5\\anaconda3\\lib\\site-packages (from matplotlib->catboost) (3.0.9)\n",
      "Requirement already satisfied: tenacity>=6.2.0 in c:\\users\\jain5\\anaconda3\\lib\\site-packages (from plotly->catboost) (8.2.2)\n",
      "Installing collected packages: catboost\n",
      "Successfully installed catboost-1.2.2\n"
     ]
    }
   ],
   "source": [
    "# catboost를 사용하기 위해 다음 코드를 실행합니다.\n",
    "\n",
    "!pip install optuna\n",
    "!pip install catboost"
   ]
  },
  {
   "cell_type": "code",
   "execution_count": 81,
   "metadata": {
    "id": "xbcYHmIsqycq"
   },
   "outputs": [],
   "source": [
    "from sklearn import datasets\n",
    "from sklearn import metrics\n",
    "from catboost import CatBoostClassifier"
   ]
  },
  {
   "cell_type": "code",
   "execution_count": 82,
   "metadata": {
    "id": "cT3d6EKqsJRj"
   },
   "outputs": [],
   "source": [
    "df = datasets.load_iris()\n",
    "X = df.data\n",
    "y = df.target\n",
    "\n",
    "X_train, X_test, y_train, y_test = train_test_split(X, y, test_size = 0.3)"
   ]
  },
  {
   "cell_type": "code",
   "execution_count": 84,
   "metadata": {
    "id": "8t-R1-Wfskfm"
   },
   "outputs": [
    {
     "data": {
      "text/plain": [
       "<catboost.core.CatBoostClassifier at 0x18c3f728f10>"
      ]
     },
     "execution_count": 84,
     "metadata": {},
     "output_type": "execute_result"
    }
   ],
   "source": [
    "# CatBoostClassifier 객체를 생성하고 학습시켜 주세요.\n",
    "\n",
    "model_CBC = CatBoostClassifier()\n",
    "model_CBC.fit(X_train, y_train, verbose = 0)"
   ]
  },
  {
   "cell_type": "code",
   "execution_count": 85,
   "metadata": {
    "id": "7yfAnYNXs4LW"
   },
   "outputs": [
    {
     "name": "stdout",
     "output_type": "stream",
     "text": [
      "CatBoost의 예측 정확도: 0.9333\n"
     ]
    }
   ],
   "source": [
    "# pred에 X_test에 대한 예측 결과를 저장해 주세요.\n",
    "pred = model_CBC.predict(X_test)\n",
    "\n",
    "# 아래 코드를 완성해서 정확도를 출력하세요.\n",
    "print('CatBoost의 예측 정확도: {0:.4f}'.format(accuracy_score(y_test, pred)))"
   ]
  },
  {
   "cell_type": "code",
   "execution_count": null,
   "metadata": {},
   "outputs": [],
   "source": []
  }
 ],
 "metadata": {
  "colab": {
   "provenance": []
  },
  "kernelspec": {
   "display_name": "Python 3 (ipykernel)",
   "language": "python",
   "name": "python3"
  },
  "language_info": {
   "codemirror_mode": {
    "name": "ipython",
    "version": 3
   },
   "file_extension": ".py",
   "mimetype": "text/x-python",
   "name": "python",
   "nbconvert_exporter": "python",
   "pygments_lexer": "ipython3",
   "version": "3.11.3"
  }
 },
 "nbformat": 4,
 "nbformat_minor": 1
}
