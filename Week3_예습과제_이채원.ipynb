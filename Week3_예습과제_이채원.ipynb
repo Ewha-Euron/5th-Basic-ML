{
  "cells": [
    {
      "cell_type": "markdown",
      "metadata": {
        "id": "view-in-github",
        "colab_type": "text"
      },
      "source": [
        "<a href=\"https://colab.research.google.com/github/gchaewon/5th-Basic-ML/blob/3%EC%A3%BC%EC%B0%A8/Week3_%EC%98%88%EC%8A%B5%EA%B3%BC%EC%A0%9C_%EC%9D%B4%EC%B1%84%EC%9B%90.ipynb\" target=\"_parent\"><img src=\"https://colab.research.google.com/assets/colab-badge.svg\" alt=\"Open In Colab\"/></a>"
      ]
    },
    {
      "cell_type": "markdown",
      "metadata": {
        "id": "KABZbfWccMgO"
      },
      "source": [
        "### 4-5. GBM (Gradient Boosting Machine)"
      ]
    },
    {
      "cell_type": "markdown",
      "metadata": {
        "id": "es2Fa8yGNU0P"
      },
      "source": [
        "**1) GBM 소요 시간 측정**\n",
        "\n",
        "GBM 기반 분류를 위해 GradientBoostingClassifier 클래스 사용"
      ]
    },
    {
      "cell_type": "code",
      "execution_count": null,
      "metadata": {
        "colab": {
          "base_uri": "https://localhost:8080/"
        },
        "id": "1vXj9p0HOn6G",
        "outputId": "3d4c001d-f811-47b0-8dcd-7225d3c46580"
      },
      "outputs": [
        {
          "name": "stdout",
          "output_type": "stream",
          "text": [
            "Drive already mounted at /content/drive; to attempt to forcibly remount, call drive.mount(\"/content/drive\", force_remount=True).\n"
          ]
        }
      ],
      "source": [
        "from google.colab import drive\n",
        "drive.mount('/content/drive')"
      ]
    },
    {
      "cell_type": "code",
      "execution_count": 3,
      "metadata": {
        "id": "_BVpGNgUOIhq"
      },
      "outputs": [],
      "source": [
        "import pandas as pd\n",
        "\n",
        "def get_new_feature_name_df(old_feature_name_df):\n",
        "    feature_dup_df = pd.DataFrame(data=old_feature_name_df.groupby('column_name').cumcount(),\n",
        "                                  columns=['dup_cnt'])\n",
        "    feature_dup_df = feature_dup_df.reset_index()\n",
        "    new_feature_name_df = pd.merge(old_feature_name_df.reset_index(), feature_dup_df, how='outer')\n",
        "    new_feature_name_df['column_name'] = new_feature_name_df[['column_name', 'dup_cnt']].apply(lambda x : x[0]+'_'+str(x[1])\n",
        "                                                                                         if x[1] >0 else x[0] ,  axis=1)\n",
        "    new_feature_name_df = new_feature_name_df.drop(['index'], axis=1)\n",
        "    return new_feature_name_df\n",
        "\n",
        "def get_human_dataset( ):\n",
        "\n",
        "    # 각 데이터 파일들은 공백으로 분리되어 있으므로 read_csv에서 공백 문자를 sep으로 할당.\n",
        "    feature_name_df = pd.read_csv('/content/drive/MyDrive/Euron/4장/human_activity/features.txt',sep='\\s+',\n",
        "                        header=None,names=['column_index','column_name'])\n",
        "\n",
        "    # 중복된 피처명을 수정하는 get_new_feature_name_df()를 이용, 신규 피처명 DataFrame생성.\n",
        "    new_feature_name_df = get_new_feature_name_df(feature_name_df)\n",
        "\n",
        "    # DataFrame에 피처명을 컬럼으로 부여하기 위해 리스트 객체로 다시 변환\n",
        "    feature_name = new_feature_name_df.iloc[:, 1].values.tolist()\n",
        "\n",
        "    # 학습 피처 데이터 셋과 테스트 피처 데이터을 DataFrame으로 로딩. 컬럼명은 feature_name 적용\n",
        "    X_train = pd.read_csv('/content/drive/MyDrive/Euron/4장/human_activity/train/X_train.txt',sep='\\s+', names=feature_name )\n",
        "    X_test = pd.read_csv('/content/drive/MyDrive/Euron/4장/human_activity/test/X_test.txt',sep='\\s+', names=feature_name)\n",
        "\n",
        "    # 학습 레이블과 테스트 레이블 데이터을 DataFrame으로 로딩하고 컬럼명은 action으로 부여\n",
        "    y_train = pd.read_csv('/content/drive/MyDrive/Euron/4장/human_activity/train/y_train.txt',sep='\\s+',header=None,names=['action'])\n",
        "    y_test = pd.read_csv('/content/drive/MyDrive/Euron/4장/human_activity/test/y_test.txt',sep='\\s+',header=None,names=['action'])\n",
        "\n",
        "    # 로드된 학습/테스트용 DataFrame을 모두 반환\n",
        "    return X_train, X_test, y_train, y_test\n",
        "\n",
        "\n",
        "X_train, X_test, y_train, y_test = get_human_dataset()"
      ]
    },
    {
      "cell_type": "code",
      "execution_count": 4,
      "metadata": {
        "colab": {
          "base_uri": "https://localhost:8080/"
        },
        "id": "ITPvIzgFcJru",
        "outputId": "3a4f1fae-ae3b-4cfd-b815-245630dde1ff"
      },
      "outputs": [
        {
          "output_type": "stream",
          "name": "stdout",
          "text": [
            "GBM 정확도: 0.9386\n",
            "GBM 수행 시간: 992.5 초 \n"
          ]
        }
      ],
      "source": [
        "from sklearn.ensemble import GradientBoostingClassifier\n",
        "from sklearn.metrics import accuracy_score\n",
        "import time\n",
        "import warnings\n",
        "warnings.filterwarnings('ignore')\n",
        "\n",
        "X_train, X_test, y_train, y_test = get_human_dataset()\n",
        "\n",
        "# GBM 수행 시간 측정을 위함. 시작 시간 설정.\n",
        "start_time = time.time()\n",
        "\n",
        "# GBM 분류기 생성\n",
        "gb_clf = GradientBoostingClassifier(random_state=0)\n",
        "\n",
        "# 학습 데이터 fit\n",
        "gb_clf.fit(X_train , y_train)\n",
        "\n",
        "# 예측값 구하기\n",
        "gb_pred = gb_clf.predict(X_test)\n",
        "\n",
        "# 정확도 측정\n",
        "gb_accuracy = accuracy_score(y_test, gb_pred)\n",
        "\n",
        "print('GBM 정확도: {0:.4f}'.format(gb_accuracy))\n",
        "print(\"GBM 수행 시간: {0:.1f} 초 \".format(time.time() - start_time))"
      ]
    },
    {
      "cell_type": "markdown",
      "metadata": {
        "id": "T7IEf4gfUdYo"
      },
      "source": [
        "**2) GBM 하이퍼 파라미터 튜닝**\n",
        "\n",
        "GridSearchCV **사용**\n",
        "(시간 문제로 결과값 도출하지 못함)"
      ]
    },
    {
      "cell_type": "code",
      "execution_count": null,
      "metadata": {
        "id": "kwGoDATZUcLF"
      },
      "outputs": [],
      "source": [
        "from sklearn.model_selection import GridSearchCV\n",
        "\n",
        "# n_estimators, learning_rate를 params로 설정\n",
        "params = {\n",
        "    'n_estimators':[100, 500],\n",
        "    'learning_rate' : [ 0.05, 0.1]\n",
        "}\n",
        "# GridSearchCV를 이용해서 최적 하이퍼 파라미터  튜닝\n",
        "grid_cv = GridSearchCV(gb_clf , param_grid=params , cv=2 ,verbose=1)\n",
        "# 학습 수행\n",
        "grid_cv.fit(X_train , y_train)\n",
        "# 최적 하이퍼 파라미터 출력\n",
        "print('최적 하이퍼 파라미터:\\n', grid_cv.best_params_)\n",
        "# 예측 정확도 구하기\n",
        "print('최고 예측 정확도: {0:.4f}'.format(grid_cv.best_score_))"
      ]
    },
    {
      "cell_type": "markdown",
      "metadata": {
        "id": "IwpXxQQYUm_0"
      },
      "source": [
        "**3) 최적 하이퍼파라미터 학습된 estimator로 예측 수행**\n",
        "\n",
        "(위에서 최적 하이퍼파라미터 구하지 못해서 결과 도출 X)"
      ]
    },
    {
      "cell_type": "code",
      "execution_count": null,
      "metadata": {
        "id": "FyYciCH9VBTC"
      },
      "outputs": [],
      "source": [
        "# 반환된 최적 하이퍼파라미터로 학습된 estimator로 예측\n",
        "gb_pred = grid_cv.best_estimator_.predict(X_test)\n",
        "# accuracy 측정\n",
        "gb_accuracy = accuracy_score(y_test, gb_pred)\n",
        "print('GBM 정확도: {0:.4f}'.format(gb_accuracy))"
      ]
    },
    {
      "cell_type": "markdown",
      "source": [
        "## 4-6. XGBoost (eXtra Gradient Boost)\n",
        "**1. 파이썬 XGBoost 적용**\n",
        "\n",
        "위스콘신 유방암 예측\n",
        "\n",
        "**1) 데이터 로딩**"
      ],
      "metadata": {
        "id": "YJFJf7BEza8_"
      }
    },
    {
      "cell_type": "code",
      "source": [
        "import xgboost as xgb\n",
        "from xgboost import plot_importance\n",
        "import pandas as pd\n",
        "import numpy as np\n",
        "from sklearn.datasets import load_breast_cancer\n",
        "from sklearn.model_selection import train_test_split\n",
        "import warnings\n",
        "warnings.filterwarnings('ignore')\n",
        "\n",
        "dataset = load_breast_cancer()\n",
        "X_features= dataset.data\n",
        "y_label = dataset.target\n",
        "\n",
        "cancer_df = pd.DataFrame(data=X_features, columns=dataset.feature_names)\n",
        "cancer_df['target']= y_label\n",
        "cancer_df.head(3)"
      ],
      "metadata": {
        "colab": {
          "base_uri": "https://localhost:8080/",
          "height": 227
        },
        "id": "ZcsmC5b-zkcw",
        "outputId": "99d8a9f6-8129-4ead-bd87-4de2b7f56184"
      },
      "execution_count": 6,
      "outputs": [
        {
          "output_type": "execute_result",
          "data": {
            "text/plain": [
              "   mean radius  mean texture  mean perimeter  mean area  mean smoothness  \\\n",
              "0        17.99         10.38           122.8     1001.0          0.11840   \n",
              "1        20.57         17.77           132.9     1326.0          0.08474   \n",
              "2        19.69         21.25           130.0     1203.0          0.10960   \n",
              "\n",
              "   mean compactness  mean concavity  mean concave points  mean symmetry  \\\n",
              "0           0.27760          0.3001              0.14710         0.2419   \n",
              "1           0.07864          0.0869              0.07017         0.1812   \n",
              "2           0.15990          0.1974              0.12790         0.2069   \n",
              "\n",
              "   mean fractal dimension  ...  worst texture  worst perimeter  worst area  \\\n",
              "0                 0.07871  ...          17.33            184.6      2019.0   \n",
              "1                 0.05667  ...          23.41            158.8      1956.0   \n",
              "2                 0.05999  ...          25.53            152.5      1709.0   \n",
              "\n",
              "   worst smoothness  worst compactness  worst concavity  worst concave points  \\\n",
              "0            0.1622             0.6656           0.7119                0.2654   \n",
              "1            0.1238             0.1866           0.2416                0.1860   \n",
              "2            0.1444             0.4245           0.4504                0.2430   \n",
              "\n",
              "   worst symmetry  worst fractal dimension  target  \n",
              "0          0.4601                  0.11890       0  \n",
              "1          0.2750                  0.08902       0  \n",
              "2          0.3613                  0.08758       0  \n",
              "\n",
              "[3 rows x 31 columns]"
            ],
            "text/html": [
              "\n",
              "  <div id=\"df-ec3b3ee5-cd38-404a-83ae-de28cd50949c\" class=\"colab-df-container\">\n",
              "    <div>\n",
              "<style scoped>\n",
              "    .dataframe tbody tr th:only-of-type {\n",
              "        vertical-align: middle;\n",
              "    }\n",
              "\n",
              "    .dataframe tbody tr th {\n",
              "        vertical-align: top;\n",
              "    }\n",
              "\n",
              "    .dataframe thead th {\n",
              "        text-align: right;\n",
              "    }\n",
              "</style>\n",
              "<table border=\"1\" class=\"dataframe\">\n",
              "  <thead>\n",
              "    <tr style=\"text-align: right;\">\n",
              "      <th></th>\n",
              "      <th>mean radius</th>\n",
              "      <th>mean texture</th>\n",
              "      <th>mean perimeter</th>\n",
              "      <th>mean area</th>\n",
              "      <th>mean smoothness</th>\n",
              "      <th>mean compactness</th>\n",
              "      <th>mean concavity</th>\n",
              "      <th>mean concave points</th>\n",
              "      <th>mean symmetry</th>\n",
              "      <th>mean fractal dimension</th>\n",
              "      <th>...</th>\n",
              "      <th>worst texture</th>\n",
              "      <th>worst perimeter</th>\n",
              "      <th>worst area</th>\n",
              "      <th>worst smoothness</th>\n",
              "      <th>worst compactness</th>\n",
              "      <th>worst concavity</th>\n",
              "      <th>worst concave points</th>\n",
              "      <th>worst symmetry</th>\n",
              "      <th>worst fractal dimension</th>\n",
              "      <th>target</th>\n",
              "    </tr>\n",
              "  </thead>\n",
              "  <tbody>\n",
              "    <tr>\n",
              "      <th>0</th>\n",
              "      <td>17.99</td>\n",
              "      <td>10.38</td>\n",
              "      <td>122.8</td>\n",
              "      <td>1001.0</td>\n",
              "      <td>0.11840</td>\n",
              "      <td>0.27760</td>\n",
              "      <td>0.3001</td>\n",
              "      <td>0.14710</td>\n",
              "      <td>0.2419</td>\n",
              "      <td>0.07871</td>\n",
              "      <td>...</td>\n",
              "      <td>17.33</td>\n",
              "      <td>184.6</td>\n",
              "      <td>2019.0</td>\n",
              "      <td>0.1622</td>\n",
              "      <td>0.6656</td>\n",
              "      <td>0.7119</td>\n",
              "      <td>0.2654</td>\n",
              "      <td>0.4601</td>\n",
              "      <td>0.11890</td>\n",
              "      <td>0</td>\n",
              "    </tr>\n",
              "    <tr>\n",
              "      <th>1</th>\n",
              "      <td>20.57</td>\n",
              "      <td>17.77</td>\n",
              "      <td>132.9</td>\n",
              "      <td>1326.0</td>\n",
              "      <td>0.08474</td>\n",
              "      <td>0.07864</td>\n",
              "      <td>0.0869</td>\n",
              "      <td>0.07017</td>\n",
              "      <td>0.1812</td>\n",
              "      <td>0.05667</td>\n",
              "      <td>...</td>\n",
              "      <td>23.41</td>\n",
              "      <td>158.8</td>\n",
              "      <td>1956.0</td>\n",
              "      <td>0.1238</td>\n",
              "      <td>0.1866</td>\n",
              "      <td>0.2416</td>\n",
              "      <td>0.1860</td>\n",
              "      <td>0.2750</td>\n",
              "      <td>0.08902</td>\n",
              "      <td>0</td>\n",
              "    </tr>\n",
              "    <tr>\n",
              "      <th>2</th>\n",
              "      <td>19.69</td>\n",
              "      <td>21.25</td>\n",
              "      <td>130.0</td>\n",
              "      <td>1203.0</td>\n",
              "      <td>0.10960</td>\n",
              "      <td>0.15990</td>\n",
              "      <td>0.1974</td>\n",
              "      <td>0.12790</td>\n",
              "      <td>0.2069</td>\n",
              "      <td>0.05999</td>\n",
              "      <td>...</td>\n",
              "      <td>25.53</td>\n",
              "      <td>152.5</td>\n",
              "      <td>1709.0</td>\n",
              "      <td>0.1444</td>\n",
              "      <td>0.4245</td>\n",
              "      <td>0.4504</td>\n",
              "      <td>0.2430</td>\n",
              "      <td>0.3613</td>\n",
              "      <td>0.08758</td>\n",
              "      <td>0</td>\n",
              "    </tr>\n",
              "  </tbody>\n",
              "</table>\n",
              "<p>3 rows × 31 columns</p>\n",
              "</div>\n",
              "    <div class=\"colab-df-buttons\">\n",
              "\n",
              "  <div class=\"colab-df-container\">\n",
              "    <button class=\"colab-df-convert\" onclick=\"convertToInteractive('df-ec3b3ee5-cd38-404a-83ae-de28cd50949c')\"\n",
              "            title=\"Convert this dataframe to an interactive table.\"\n",
              "            style=\"display:none;\">\n",
              "\n",
              "  <svg xmlns=\"http://www.w3.org/2000/svg\" height=\"24px\" viewBox=\"0 -960 960 960\">\n",
              "    <path d=\"M120-120v-720h720v720H120Zm60-500h600v-160H180v160Zm220 220h160v-160H400v160Zm0 220h160v-160H400v160ZM180-400h160v-160H180v160Zm440 0h160v-160H620v160ZM180-180h160v-160H180v160Zm440 0h160v-160H620v160Z\"/>\n",
              "  </svg>\n",
              "    </button>\n",
              "\n",
              "  <style>\n",
              "    .colab-df-container {\n",
              "      display:flex;\n",
              "      gap: 12px;\n",
              "    }\n",
              "\n",
              "    .colab-df-convert {\n",
              "      background-color: #E8F0FE;\n",
              "      border: none;\n",
              "      border-radius: 50%;\n",
              "      cursor: pointer;\n",
              "      display: none;\n",
              "      fill: #1967D2;\n",
              "      height: 32px;\n",
              "      padding: 0 0 0 0;\n",
              "      width: 32px;\n",
              "    }\n",
              "\n",
              "    .colab-df-convert:hover {\n",
              "      background-color: #E2EBFA;\n",
              "      box-shadow: 0px 1px 2px rgba(60, 64, 67, 0.3), 0px 1px 3px 1px rgba(60, 64, 67, 0.15);\n",
              "      fill: #174EA6;\n",
              "    }\n",
              "\n",
              "    .colab-df-buttons div {\n",
              "      margin-bottom: 4px;\n",
              "    }\n",
              "\n",
              "    [theme=dark] .colab-df-convert {\n",
              "      background-color: #3B4455;\n",
              "      fill: #D2E3FC;\n",
              "    }\n",
              "\n",
              "    [theme=dark] .colab-df-convert:hover {\n",
              "      background-color: #434B5C;\n",
              "      box-shadow: 0px 1px 3px 1px rgba(0, 0, 0, 0.15);\n",
              "      filter: drop-shadow(0px 1px 2px rgba(0, 0, 0, 0.3));\n",
              "      fill: #FFFFFF;\n",
              "    }\n",
              "  </style>\n",
              "\n",
              "    <script>\n",
              "      const buttonEl =\n",
              "        document.querySelector('#df-ec3b3ee5-cd38-404a-83ae-de28cd50949c button.colab-df-convert');\n",
              "      buttonEl.style.display =\n",
              "        google.colab.kernel.accessAllowed ? 'block' : 'none';\n",
              "\n",
              "      async function convertToInteractive(key) {\n",
              "        const element = document.querySelector('#df-ec3b3ee5-cd38-404a-83ae-de28cd50949c');\n",
              "        const dataTable =\n",
              "          await google.colab.kernel.invokeFunction('convertToInteractive',\n",
              "                                                    [key], {});\n",
              "        if (!dataTable) return;\n",
              "\n",
              "        const docLinkHtml = 'Like what you see? Visit the ' +\n",
              "          '<a target=\"_blank\" href=https://colab.research.google.com/notebooks/data_table.ipynb>data table notebook</a>'\n",
              "          + ' to learn more about interactive tables.';\n",
              "        element.innerHTML = '';\n",
              "        dataTable['output_type'] = 'display_data';\n",
              "        await google.colab.output.renderOutput(dataTable, element);\n",
              "        const docLink = document.createElement('div');\n",
              "        docLink.innerHTML = docLinkHtml;\n",
              "        element.appendChild(docLink);\n",
              "      }\n",
              "    </script>\n",
              "  </div>\n",
              "\n",
              "\n",
              "<div id=\"df-d5e3808d-f404-4d19-a2d7-a87936e493d7\">\n",
              "  <button class=\"colab-df-quickchart\" onclick=\"quickchart('df-d5e3808d-f404-4d19-a2d7-a87936e493d7')\"\n",
              "            title=\"Suggest charts.\"\n",
              "            style=\"display:none;\">\n",
              "\n",
              "<svg xmlns=\"http://www.w3.org/2000/svg\" height=\"24px\"viewBox=\"0 0 24 24\"\n",
              "     width=\"24px\">\n",
              "    <g>\n",
              "        <path d=\"M19 3H5c-1.1 0-2 .9-2 2v14c0 1.1.9 2 2 2h14c1.1 0 2-.9 2-2V5c0-1.1-.9-2-2-2zM9 17H7v-7h2v7zm4 0h-2V7h2v10zm4 0h-2v-4h2v4z\"/>\n",
              "    </g>\n",
              "</svg>\n",
              "  </button>\n",
              "\n",
              "<style>\n",
              "  .colab-df-quickchart {\n",
              "      --bg-color: #E8F0FE;\n",
              "      --fill-color: #1967D2;\n",
              "      --hover-bg-color: #E2EBFA;\n",
              "      --hover-fill-color: #174EA6;\n",
              "      --disabled-fill-color: #AAA;\n",
              "      --disabled-bg-color: #DDD;\n",
              "  }\n",
              "\n",
              "  [theme=dark] .colab-df-quickchart {\n",
              "      --bg-color: #3B4455;\n",
              "      --fill-color: #D2E3FC;\n",
              "      --hover-bg-color: #434B5C;\n",
              "      --hover-fill-color: #FFFFFF;\n",
              "      --disabled-bg-color: #3B4455;\n",
              "      --disabled-fill-color: #666;\n",
              "  }\n",
              "\n",
              "  .colab-df-quickchart {\n",
              "    background-color: var(--bg-color);\n",
              "    border: none;\n",
              "    border-radius: 50%;\n",
              "    cursor: pointer;\n",
              "    display: none;\n",
              "    fill: var(--fill-color);\n",
              "    height: 32px;\n",
              "    padding: 0;\n",
              "    width: 32px;\n",
              "  }\n",
              "\n",
              "  .colab-df-quickchart:hover {\n",
              "    background-color: var(--hover-bg-color);\n",
              "    box-shadow: 0 1px 2px rgba(60, 64, 67, 0.3), 0 1px 3px 1px rgba(60, 64, 67, 0.15);\n",
              "    fill: var(--button-hover-fill-color);\n",
              "  }\n",
              "\n",
              "  .colab-df-quickchart-complete:disabled,\n",
              "  .colab-df-quickchart-complete:disabled:hover {\n",
              "    background-color: var(--disabled-bg-color);\n",
              "    fill: var(--disabled-fill-color);\n",
              "    box-shadow: none;\n",
              "  }\n",
              "\n",
              "  .colab-df-spinner {\n",
              "    border: 2px solid var(--fill-color);\n",
              "    border-color: transparent;\n",
              "    border-bottom-color: var(--fill-color);\n",
              "    animation:\n",
              "      spin 1s steps(1) infinite;\n",
              "  }\n",
              "\n",
              "  @keyframes spin {\n",
              "    0% {\n",
              "      border-color: transparent;\n",
              "      border-bottom-color: var(--fill-color);\n",
              "      border-left-color: var(--fill-color);\n",
              "    }\n",
              "    20% {\n",
              "      border-color: transparent;\n",
              "      border-left-color: var(--fill-color);\n",
              "      border-top-color: var(--fill-color);\n",
              "    }\n",
              "    30% {\n",
              "      border-color: transparent;\n",
              "      border-left-color: var(--fill-color);\n",
              "      border-top-color: var(--fill-color);\n",
              "      border-right-color: var(--fill-color);\n",
              "    }\n",
              "    40% {\n",
              "      border-color: transparent;\n",
              "      border-right-color: var(--fill-color);\n",
              "      border-top-color: var(--fill-color);\n",
              "    }\n",
              "    60% {\n",
              "      border-color: transparent;\n",
              "      border-right-color: var(--fill-color);\n",
              "    }\n",
              "    80% {\n",
              "      border-color: transparent;\n",
              "      border-right-color: var(--fill-color);\n",
              "      border-bottom-color: var(--fill-color);\n",
              "    }\n",
              "    90% {\n",
              "      border-color: transparent;\n",
              "      border-bottom-color: var(--fill-color);\n",
              "    }\n",
              "  }\n",
              "</style>\n",
              "\n",
              "  <script>\n",
              "    async function quickchart(key) {\n",
              "      const quickchartButtonEl =\n",
              "        document.querySelector('#' + key + ' button');\n",
              "      quickchartButtonEl.disabled = true;  // To prevent multiple clicks.\n",
              "      quickchartButtonEl.classList.add('colab-df-spinner');\n",
              "      try {\n",
              "        const charts = await google.colab.kernel.invokeFunction(\n",
              "            'suggestCharts', [key], {});\n",
              "      } catch (error) {\n",
              "        console.error('Error during call to suggestCharts:', error);\n",
              "      }\n",
              "      quickchartButtonEl.classList.remove('colab-df-spinner');\n",
              "      quickchartButtonEl.classList.add('colab-df-quickchart-complete');\n",
              "    }\n",
              "    (() => {\n",
              "      let quickchartButtonEl =\n",
              "        document.querySelector('#df-d5e3808d-f404-4d19-a2d7-a87936e493d7 button');\n",
              "      quickchartButtonEl.style.display =\n",
              "        google.colab.kernel.accessAllowed ? 'block' : 'none';\n",
              "    })();\n",
              "  </script>\n",
              "</div>\n",
              "    </div>\n",
              "  </div>\n"
            ]
          },
          "metadata": {},
          "execution_count": 6
        }
      ]
    },
    {
      "cell_type": "code",
      "source": [
        "# 데이터 개수 확인\n",
        "print(dataset.target_names)\n",
        "print(cancer_df['target'].value_counts())"
      ],
      "metadata": {
        "colab": {
          "base_uri": "https://localhost:8080/"
        },
        "id": "zrkvtVAv1Ikk",
        "outputId": "62b1cb1a-d6fd-468e-90d9-145dfe8dd0d7"
      },
      "execution_count": 7,
      "outputs": [
        {
          "output_type": "stream",
          "name": "stdout",
          "text": [
            "['malignant' 'benign']\n",
            "1    357\n",
            "0    212\n",
            "Name: target, dtype: int64\n"
          ]
        }
      ]
    },
    {
      "cell_type": "markdown",
      "source": [
        "**2) 학습용, 테스트용 데이터로 분리**"
      ],
      "metadata": {
        "id": "_gDklEkfAn51"
      }
    },
    {
      "cell_type": "code",
      "source": [
        "# cancer_df에서 feature용 DataFrame과 Label용 Series 객체 추출\n",
        "# 맨 마지막 칼럼이 Label임. Feature용 DataFrame은 cancer_df의 첫번째 칼럼에서 맨 마지막 두번째 칼럼까지를 :-1 슬라이싱으로 추출.\n",
        "X_features = cancer_df.iloc[:, :-1]\n",
        "y_label = cancer_df.iloc[:, -1]\n",
        "\n",
        "# 전체 데이터 중 80%는 학습용 데이터, 20%는 테스트용 데이터 추출\n",
        "X_train, X_test, y_train, y_test=train_test_split(X_features, y_label,\n",
        "                                         test_size=0.2, random_state=156 )\n",
        "\n",
        "# 위에서 만든 X_train, y_train을 다시 쪼개서 90%는 학습과 10%는 검증용 데이터로 분리\n",
        "X_tr, X_val, y_tr, y_val= train_test_split(X_train, y_train, test_size=0.1, random_state=156 )\n",
        "print(X_train.shape , X_test.shape)\n",
        "print(X_tr.shape, X_val.shape)"
      ],
      "metadata": {
        "colab": {
          "base_uri": "https://localhost:8080/"
        },
        "id": "x0pEeFva1M3M",
        "outputId": "8a65e430-4826-43eb-fdad-32021caa6f32"
      },
      "execution_count": 8,
      "outputs": [
        {
          "output_type": "stream",
          "name": "stdout",
          "text": [
            "(455, 30) (114, 30)\n",
            "(409, 30) (46, 30)\n"
          ]
        }
      ]
    },
    {
      "cell_type": "markdown",
      "source": [
        "**3) 학습, 테스트 데이터세트를 DMatrix로 변환**"
      ],
      "metadata": {
        "id": "CS4mbH6cA2g1"
      }
    },
    {
      "cell_type": "code",
      "source": [
        "dtr = xgb.DMatrix(data=X_tr, label=y_tr)\n",
        "dval = xgb.DMatrix(data=X_val, label=y_val)\n",
        "dtest = xgb.DMatrix(data=X_test , label=y_test)"
      ],
      "metadata": {
        "id": "SAH0uZr6Bplo"
      },
      "execution_count": 15,
      "outputs": []
    },
    {
      "cell_type": "markdown",
      "source": [
        "**4) 하이퍼 파라미터 지정**"
      ],
      "metadata": {
        "id": "vXnK_9-zCZlr"
      }
    },
    {
      "cell_type": "code",
      "source": [
        "params = { 'max_depth':3,\n",
        "          'eta': 0.05,\n",
        "          'objective':'binary:logistic',\n",
        "          'eval_metric':'logloss'\n",
        "         }\n",
        "num_rounds = 400"
      ],
      "metadata": {
        "id": "hqHF947YCc1I"
      },
      "execution_count": 10,
      "outputs": []
    },
    {
      "cell_type": "markdown",
      "source": [
        "**5) XGB 이용 학습**"
      ],
      "metadata": {
        "id": "SiYgk6egE-66"
      }
    },
    {
      "cell_type": "code",
      "source": [
        "# 학습 데이터 세트와 eval 데이터 세트 명기 (조기중단 적용 목적)\n",
        "# 또는 eval_list = [(dval,'eval')] 로도 가능\n",
        "eval_list = [(dtr,'train'),(dval,'eval')]\n",
        "\n",
        "# 하이퍼 파라미터와 early stopping 파라미터를 train( ) 함수의 파라미터로 전달\n",
        "xgb_model = xgb.train(params = params , dtrain=dtr , num_boost_round=num_rounds , \\\n",
        "                      early_stopping_rounds=50, evals=eval_list )"
      ],
      "metadata": {
        "colab": {
          "base_uri": "https://localhost:8080/"
        },
        "id": "Kjw3Xhu2FB0O",
        "outputId": "a06deaca-9419-4feb-d595-0367e0d3f8c9"
      },
      "execution_count": 13,
      "outputs": [
        {
          "output_type": "stream",
          "name": "stdout",
          "text": [
            "[0]\ttrain-logloss:0.65016\teval-logloss:0.66183\n",
            "[1]\ttrain-logloss:0.61131\teval-logloss:0.63609\n",
            "[2]\ttrain-logloss:0.57563\teval-logloss:0.61144\n",
            "[3]\ttrain-logloss:0.54310\teval-logloss:0.59204\n",
            "[4]\ttrain-logloss:0.51323\teval-logloss:0.57329\n",
            "[5]\ttrain-logloss:0.48447\teval-logloss:0.55037\n",
            "[6]\ttrain-logloss:0.45796\teval-logloss:0.52930\n",
            "[7]\ttrain-logloss:0.43436\teval-logloss:0.51534\n",
            "[8]\ttrain-logloss:0.41150\teval-logloss:0.49718\n",
            "[9]\ttrain-logloss:0.39027\teval-logloss:0.48154\n",
            "[10]\ttrain-logloss:0.37128\teval-logloss:0.46990\n",
            "[11]\ttrain-logloss:0.35254\teval-logloss:0.45474\n",
            "[12]\ttrain-logloss:0.33528\teval-logloss:0.44229\n",
            "[13]\ttrain-logloss:0.31892\teval-logloss:0.42961\n",
            "[14]\ttrain-logloss:0.30439\teval-logloss:0.42065\n",
            "[15]\ttrain-logloss:0.29000\teval-logloss:0.40958\n",
            "[16]\ttrain-logloss:0.27651\teval-logloss:0.39887\n",
            "[17]\ttrain-logloss:0.26389\teval-logloss:0.39050\n",
            "[18]\ttrain-logloss:0.25210\teval-logloss:0.38254\n",
            "[19]\ttrain-logloss:0.24123\teval-logloss:0.37393\n",
            "[20]\ttrain-logloss:0.23076\teval-logloss:0.36789\n",
            "[21]\ttrain-logloss:0.22091\teval-logloss:0.36017\n",
            "[22]\ttrain-logloss:0.21155\teval-logloss:0.35421\n",
            "[23]\ttrain-logloss:0.20263\teval-logloss:0.34683\n",
            "[24]\ttrain-logloss:0.19434\teval-logloss:0.34111\n",
            "[25]\ttrain-logloss:0.18637\teval-logloss:0.33634\n",
            "[26]\ttrain-logloss:0.17875\teval-logloss:0.33082\n",
            "[27]\ttrain-logloss:0.17167\teval-logloss:0.32675\n",
            "[28]\ttrain-logloss:0.16481\teval-logloss:0.32099\n",
            "[29]\ttrain-logloss:0.15835\teval-logloss:0.31671\n",
            "[30]\ttrain-logloss:0.15225\teval-logloss:0.31277\n",
            "[31]\ttrain-logloss:0.14650\teval-logloss:0.30882\n",
            "[32]\ttrain-logloss:0.14102\teval-logloss:0.30437\n",
            "[33]\ttrain-logloss:0.13590\teval-logloss:0.30103\n",
            "[34]\ttrain-logloss:0.13109\teval-logloss:0.29794\n",
            "[35]\ttrain-logloss:0.12647\teval-logloss:0.29499\n",
            "[36]\ttrain-logloss:0.12197\teval-logloss:0.29295\n",
            "[37]\ttrain-logloss:0.11784\teval-logloss:0.29043\n",
            "[38]\ttrain-logloss:0.11379\teval-logloss:0.28927\n",
            "[39]\ttrain-logloss:0.10994\teval-logloss:0.28578\n",
            "[40]\ttrain-logloss:0.10638\teval-logloss:0.28364\n",
            "[41]\ttrain-logloss:0.10302\teval-logloss:0.28183\n",
            "[42]\ttrain-logloss:0.09963\teval-logloss:0.28005\n",
            "[43]\ttrain-logloss:0.09649\teval-logloss:0.27972\n",
            "[44]\ttrain-logloss:0.09359\teval-logloss:0.27744\n",
            "[45]\ttrain-logloss:0.09080\teval-logloss:0.27542\n",
            "[46]\ttrain-logloss:0.08807\teval-logloss:0.27504\n",
            "[47]\ttrain-logloss:0.08541\teval-logloss:0.27458\n",
            "[48]\ttrain-logloss:0.08299\teval-logloss:0.27348\n",
            "[49]\ttrain-logloss:0.08035\teval-logloss:0.27247\n",
            "[50]\ttrain-logloss:0.07786\teval-logloss:0.27163\n",
            "[51]\ttrain-logloss:0.07550\teval-logloss:0.27094\n",
            "[52]\ttrain-logloss:0.07344\teval-logloss:0.26967\n",
            "[53]\ttrain-logloss:0.07147\teval-logloss:0.27008\n",
            "[54]\ttrain-logloss:0.06964\teval-logloss:0.26890\n",
            "[55]\ttrain-logloss:0.06766\teval-logloss:0.26854\n",
            "[56]\ttrain-logloss:0.06591\teval-logloss:0.26900\n",
            "[57]\ttrain-logloss:0.06433\teval-logloss:0.26790\n",
            "[58]\ttrain-logloss:0.06259\teval-logloss:0.26663\n",
            "[59]\ttrain-logloss:0.06107\teval-logloss:0.26743\n",
            "[60]\ttrain-logloss:0.05957\teval-logloss:0.26610\n",
            "[61]\ttrain-logloss:0.05817\teval-logloss:0.26644\n",
            "[62]\ttrain-logloss:0.05691\teval-logloss:0.26673\n",
            "[63]\ttrain-logloss:0.05550\teval-logloss:0.26550\n",
            "[64]\ttrain-logloss:0.05422\teval-logloss:0.26443\n",
            "[65]\ttrain-logloss:0.05311\teval-logloss:0.26500\n",
            "[66]\ttrain-logloss:0.05207\teval-logloss:0.26591\n",
            "[67]\ttrain-logloss:0.05093\teval-logloss:0.26501\n",
            "[68]\ttrain-logloss:0.04976\teval-logloss:0.26435\n",
            "[69]\ttrain-logloss:0.04872\teval-logloss:0.26360\n",
            "[70]\ttrain-logloss:0.04776\teval-logloss:0.26319\n",
            "[71]\ttrain-logloss:0.04680\teval-logloss:0.26255\n",
            "[72]\ttrain-logloss:0.04580\teval-logloss:0.26204\n",
            "[73]\ttrain-logloss:0.04484\teval-logloss:0.26254\n",
            "[74]\ttrain-logloss:0.04388\teval-logloss:0.26289\n",
            "[75]\ttrain-logloss:0.04309\teval-logloss:0.26249\n",
            "[76]\ttrain-logloss:0.04224\teval-logloss:0.26217\n",
            "[77]\ttrain-logloss:0.04133\teval-logloss:0.26166\n",
            "[78]\ttrain-logloss:0.04050\teval-logloss:0.26179\n",
            "[79]\ttrain-logloss:0.03967\teval-logloss:0.26103\n",
            "[80]\ttrain-logloss:0.03876\teval-logloss:0.26094\n",
            "[81]\ttrain-logloss:0.03806\teval-logloss:0.26148\n",
            "[82]\ttrain-logloss:0.03740\teval-logloss:0.26054\n",
            "[83]\ttrain-logloss:0.03676\teval-logloss:0.25967\n",
            "[84]\ttrain-logloss:0.03605\teval-logloss:0.25905\n",
            "[85]\ttrain-logloss:0.03545\teval-logloss:0.26007\n",
            "[86]\ttrain-logloss:0.03489\teval-logloss:0.25984\n",
            "[87]\ttrain-logloss:0.03425\teval-logloss:0.25933\n",
            "[88]\ttrain-logloss:0.03361\teval-logloss:0.25932\n",
            "[89]\ttrain-logloss:0.03311\teval-logloss:0.26002\n",
            "[90]\ttrain-logloss:0.03260\teval-logloss:0.25936\n",
            "[91]\ttrain-logloss:0.03202\teval-logloss:0.25886\n",
            "[92]\ttrain-logloss:0.03152\teval-logloss:0.25918\n",
            "[93]\ttrain-logloss:0.03107\teval-logloss:0.25864\n",
            "[94]\ttrain-logloss:0.03049\teval-logloss:0.25951\n",
            "[95]\ttrain-logloss:0.03007\teval-logloss:0.26091\n",
            "[96]\ttrain-logloss:0.02963\teval-logloss:0.26014\n",
            "[97]\ttrain-logloss:0.02913\teval-logloss:0.25974\n",
            "[98]\ttrain-logloss:0.02866\teval-logloss:0.25937\n",
            "[99]\ttrain-logloss:0.02829\teval-logloss:0.25893\n",
            "[100]\ttrain-logloss:0.02789\teval-logloss:0.25928\n",
            "[101]\ttrain-logloss:0.02751\teval-logloss:0.25955\n",
            "[102]\ttrain-logloss:0.02714\teval-logloss:0.25901\n",
            "[103]\ttrain-logloss:0.02668\teval-logloss:0.25991\n",
            "[104]\ttrain-logloss:0.02634\teval-logloss:0.25950\n",
            "[105]\ttrain-logloss:0.02594\teval-logloss:0.25924\n",
            "[106]\ttrain-logloss:0.02556\teval-logloss:0.25901\n",
            "[107]\ttrain-logloss:0.02522\teval-logloss:0.25738\n",
            "[108]\ttrain-logloss:0.02492\teval-logloss:0.25702\n",
            "[109]\ttrain-logloss:0.02453\teval-logloss:0.25789\n",
            "[110]\ttrain-logloss:0.02418\teval-logloss:0.25770\n",
            "[111]\ttrain-logloss:0.02384\teval-logloss:0.25842\n",
            "[112]\ttrain-logloss:0.02356\teval-logloss:0.25810\n",
            "[113]\ttrain-logloss:0.02322\teval-logloss:0.25848\n",
            "[114]\ttrain-logloss:0.02290\teval-logloss:0.25833\n",
            "[115]\ttrain-logloss:0.02260\teval-logloss:0.25820\n",
            "[116]\ttrain-logloss:0.02229\teval-logloss:0.25905\n",
            "[117]\ttrain-logloss:0.02204\teval-logloss:0.25878\n",
            "[118]\ttrain-logloss:0.02176\teval-logloss:0.25728\n",
            "[119]\ttrain-logloss:0.02149\teval-logloss:0.25722\n",
            "[120]\ttrain-logloss:0.02119\teval-logloss:0.25764\n",
            "[121]\ttrain-logloss:0.02095\teval-logloss:0.25761\n",
            "[122]\ttrain-logloss:0.02067\teval-logloss:0.25832\n",
            "[123]\ttrain-logloss:0.02045\teval-logloss:0.25808\n",
            "[124]\ttrain-logloss:0.02023\teval-logloss:0.25855\n",
            "[125]\ttrain-logloss:0.01998\teval-logloss:0.25714\n",
            "[126]\ttrain-logloss:0.01973\teval-logloss:0.25587\n",
            "[127]\ttrain-logloss:0.01946\teval-logloss:0.25640\n",
            "[128]\ttrain-logloss:0.01927\teval-logloss:0.25685\n",
            "[129]\ttrain-logloss:0.01908\teval-logloss:0.25665\n",
            "[130]\ttrain-logloss:0.01886\teval-logloss:0.25712\n",
            "[131]\ttrain-logloss:0.01863\teval-logloss:0.25609\n",
            "[132]\ttrain-logloss:0.01839\teval-logloss:0.25649\n",
            "[133]\ttrain-logloss:0.01816\teval-logloss:0.25789\n",
            "[134]\ttrain-logloss:0.01802\teval-logloss:0.25811\n",
            "[135]\ttrain-logloss:0.01785\teval-logloss:0.25794\n",
            "[136]\ttrain-logloss:0.01763\teval-logloss:0.25876\n",
            "[137]\ttrain-logloss:0.01748\teval-logloss:0.25884\n",
            "[138]\ttrain-logloss:0.01732\teval-logloss:0.25867\n",
            "[139]\ttrain-logloss:0.01719\teval-logloss:0.25876\n",
            "[140]\ttrain-logloss:0.01696\teval-logloss:0.25987\n",
            "[141]\ttrain-logloss:0.01681\teval-logloss:0.25960\n",
            "[142]\ttrain-logloss:0.01669\teval-logloss:0.25982\n",
            "[143]\ttrain-logloss:0.01656\teval-logloss:0.25992\n",
            "[144]\ttrain-logloss:0.01638\teval-logloss:0.26035\n",
            "[145]\ttrain-logloss:0.01623\teval-logloss:0.26055\n",
            "[146]\ttrain-logloss:0.01606\teval-logloss:0.26092\n",
            "[147]\ttrain-logloss:0.01589\teval-logloss:0.26137\n",
            "[148]\ttrain-logloss:0.01572\teval-logloss:0.25999\n",
            "[149]\ttrain-logloss:0.01556\teval-logloss:0.26028\n",
            "[150]\ttrain-logloss:0.01546\teval-logloss:0.26048\n",
            "[151]\ttrain-logloss:0.01531\teval-logloss:0.26142\n",
            "[152]\ttrain-logloss:0.01515\teval-logloss:0.26188\n",
            "[153]\ttrain-logloss:0.01501\teval-logloss:0.26227\n",
            "[154]\ttrain-logloss:0.01486\teval-logloss:0.26287\n",
            "[155]\ttrain-logloss:0.01476\teval-logloss:0.26299\n",
            "[156]\ttrain-logloss:0.01462\teval-logloss:0.26346\n",
            "[157]\ttrain-logloss:0.01448\teval-logloss:0.26379\n",
            "[158]\ttrain-logloss:0.01434\teval-logloss:0.26306\n",
            "[159]\ttrain-logloss:0.01424\teval-logloss:0.26237\n",
            "[160]\ttrain-logloss:0.01410\teval-logloss:0.26251\n",
            "[161]\ttrain-logloss:0.01401\teval-logloss:0.26265\n",
            "[162]\ttrain-logloss:0.01392\teval-logloss:0.26264\n",
            "[163]\ttrain-logloss:0.01380\teval-logloss:0.26250\n",
            "[164]\ttrain-logloss:0.01372\teval-logloss:0.26264\n",
            "[165]\ttrain-logloss:0.01359\teval-logloss:0.26255\n",
            "[166]\ttrain-logloss:0.01350\teval-logloss:0.26188\n",
            "[167]\ttrain-logloss:0.01342\teval-logloss:0.26203\n",
            "[168]\ttrain-logloss:0.01331\teval-logloss:0.26190\n",
            "[169]\ttrain-logloss:0.01319\teval-logloss:0.26184\n",
            "[170]\ttrain-logloss:0.01312\teval-logloss:0.26133\n",
            "[171]\ttrain-logloss:0.01304\teval-logloss:0.26148\n",
            "[172]\ttrain-logloss:0.01297\teval-logloss:0.26157\n",
            "[173]\ttrain-logloss:0.01285\teval-logloss:0.26253\n",
            "[174]\ttrain-logloss:0.01278\teval-logloss:0.26229\n",
            "[175]\ttrain-logloss:0.01267\teval-logloss:0.26086\n",
            "[176]\ttrain-logloss:0.01258\teval-logloss:0.26103\n"
          ]
        }
      ]
    },
    {
      "cell_type": "markdown",
      "source": [
        "**6) XGB 이용 학습 모델 예측**"
      ],
      "metadata": {
        "id": "TTxmJyULGvVk"
      }
    },
    {
      "cell_type": "code",
      "source": [
        "pred_probs = xgb_model.predict(dtest)\n",
        "print('predict( ) 수행 결과값을 10개만 표시, 예측 확률 값으로 표시됨')\n",
        "print(np.round(pred_probs[:10],3))\n",
        "\n",
        "# 예측 확률이 0.5 보다 크면 1 , 그렇지 않으면 0 으로 예측값 결정하여 List 객체인 preds에 저장\n",
        "preds = [ 1 if x > 0.5 else 0 for x in pred_probs ]\n",
        "print('예측값 10개만 표시:',preds[:10])"
      ],
      "metadata": {
        "colab": {
          "base_uri": "https://localhost:8080/"
        },
        "id": "Q7393-uMGwrf",
        "outputId": "7d94de01-533f-4a66-80c3-83b19496f075"
      },
      "execution_count": 16,
      "outputs": [
        {
          "output_type": "stream",
          "name": "stdout",
          "text": [
            "predict( ) 수행 결과값을 10개만 표시, 예측 확률 값으로 표시됨\n",
            "[0.845 0.008 0.68  0.081 0.975 0.999 0.998 0.998 0.996 0.001]\n",
            "예측값 10개만 표시: [1, 0, 1, 0, 1, 1, 1, 1, 1, 0]\n"
          ]
        }
      ]
    },
    {
      "cell_type": "markdown",
      "source": [
        "**7) XGBoost 모델 예측 성능 평가**\n",
        "\n",
        "3장의 get_clf_eval() 함수 적용"
      ],
      "metadata": {
        "id": "_m2mfuBoHtM8"
      }
    },
    {
      "cell_type": "code",
      "source": [
        "from sklearn.metrics import confusion_matrix, accuracy_score\n",
        "from sklearn.metrics import precision_score, recall_score\n",
        "from sklearn.metrics import f1_score, roc_auc_score\n",
        "\n",
        "def get_clf_eval(y_test, pred=None, pred_proba=None):\n",
        "    confusion = confusion_matrix( y_test, pred)\n",
        "    accuracy = accuracy_score(y_test , pred)\n",
        "    precision = precision_score(y_test , pred)\n",
        "    recall = recall_score(y_test , pred)\n",
        "    f1 = f1_score(y_test,pred)\n",
        "    # ROC-AUC 추가\n",
        "    roc_auc = roc_auc_score(y_test, pred_proba)\n",
        "    print('오차 행렬')\n",
        "    print(confusion)\n",
        "    # ROC-AUC print 추가\n",
        "    print('정확도: {0:.4f}, 정밀도: {1:.4f}, 재현율: {2:.4f},\\\n",
        "    F1: {3:.4f}, AUC:{4:.4f}'.format(accuracy, precision, recall, f1, roc_auc))"
      ],
      "metadata": {
        "id": "4HqEzt4PIDkK"
      },
      "execution_count": 20,
      "outputs": []
    },
    {
      "cell_type": "code",
      "source": [
        "get_clf_eval(y_test , preds, pred_probs)"
      ],
      "metadata": {
        "colab": {
          "base_uri": "https://localhost:8080/"
        },
        "id": "9w7fJ45tH-FO",
        "outputId": "2b6fffe0-a083-4129-bc57-09d99ecdad4b"
      },
      "execution_count": 20,
      "outputs": [
        {
          "output_type": "stream",
          "name": "stdout",
          "text": [
            "오차 행렬\n",
            "[[34  3]\n",
            " [ 2 75]]\n",
            "정확도: 0.9561, 정밀도: 0.9615, 재현율: 0.9740,    F1: 0.9677, AUC:0.9937\n"
          ]
        }
      ]
    },
    {
      "cell_type": "markdown",
      "source": [
        "**8) XGBoost 피처 중요도 시각화**"
      ],
      "metadata": {
        "id": "xSz_pQ7_JilR"
      }
    },
    {
      "cell_type": "code",
      "source": [
        "import matplotlib.pyplot as plt\n",
        "%matplotlib inline\n",
        "\n",
        "fig, ax = plt.subplots(figsize=(10, 12))\n",
        "plot_importance(xgb_model, ax=ax)\n",
        "plt.savefig('p239_xgb_feature_importance.tif', format='tif', dpi=300, bbox_inches='tight')"
      ],
      "metadata": {
        "colab": {
          "base_uri": "https://localhost:8080/",
          "height": 693
        },
        "id": "dqKNXkWqJiJ6",
        "outputId": "23dfa4b2-b7ee-4ad4-b617-c65ce32450bd"
      },
      "execution_count": 21,
      "outputs": [
        {
          "output_type": "display_data",
          "data": {
            "text/plain": [
              "<Figure size 1000x1200 with 1 Axes>"
            ],
            "image/png": "[encoded data removed]"
          },
          "metadata": {}
        }
      ]
    },
    {
      "cell_type": "markdown",
      "source": [
        "### 사이킷런 XGBClassifier 사용 학습 및 예측\n",
        "유방암 예측 수행"
      ],
      "metadata": {
        "id": "kpBr_dyhOfkK"
      }
    },
    {
      "cell_type": "code",
      "source": [
        "# 사이킷런 래퍼 XGBoost 클래스인 XGBClassifier 임포트\n",
        "from xgboost import XGBClassifier\n",
        "\n",
        "xgb_wrapper = XGBClassifier(n_estimators=400, learning_rate=0.1, max_depth=3)\n",
        "xgb_wrapper.fit(X_train, y_train)\n",
        "w_preds = xgb_wrapper.predict(X_test)\n",
        "w_pred_proba = xgb_wrapper.predict_proba(X_test)[:, 1]\n",
        "# 예측 정확도, 정밀도, 재현율 구하기\n",
        "get_clf_eval(y_test , w_preds, w_pred_proba)"
      ],
      "metadata": {
        "colab": {
          "base_uri": "https://localhost:8080/"
        },
        "id": "JlllGl2nOjQt",
        "outputId": "7084ed1d-d771-49d5-869d-e2e6589e1448"
      },
      "execution_count": 22,
      "outputs": [
        {
          "output_type": "stream",
          "name": "stdout",
          "text": [
            "오차 행렬\n",
            "[[35  2]\n",
            " [ 1 76]]\n",
            "정확도: 0.9737, 정밀도: 0.9744, 재현율: 0.9870,    F1: 0.9806, AUC:0.9951\n"
          ]
        }
      ]
    },
    {
      "cell_type": "markdown",
      "source": [
        "**XGBoost에서 조기 중단 수행**"
      ],
      "metadata": {
        "id": "uqv5bQpcPoAY"
      }
    },
    {
      "cell_type": "code",
      "source": [
        "from xgboost import XGBClassifier\n",
        "\n",
        "xgb_wrapper = XGBClassifier(n_estimators=400, learning_rate=0.1, max_depth=3)\n",
        "evals = [(X_test, y_test)]\n",
        "xgb_wrapper.fit(X_train, y_train, early_stopping_rounds=100, eval_metric=\"logloss\",\n",
        "                eval_set=evals, verbose=True)\n",
        "\n",
        "ws100_preds = xgb_wrapper.predict(X_test)\n",
        "ws100_pred_proba = xgb_wrapper.predict_proba(X_test)[:, 1]"
      ],
      "metadata": {
        "colab": {
          "base_uri": "https://localhost:8080/"
        },
        "id": "wDWOPi-rPocK",
        "outputId": "240bb363-e8b0-47a6-8732-78633fcd7954"
      },
      "execution_count": 24,
      "outputs": [
        {
          "output_type": "stream",
          "name": "stdout",
          "text": [
            "[0]\tvalidation_0-logloss:0.61352\n",
            "[1]\tvalidation_0-logloss:0.54784\n",
            "[2]\tvalidation_0-logloss:0.49425\n",
            "[3]\tvalidation_0-logloss:0.44799\n",
            "[4]\tvalidation_0-logloss:0.40911\n",
            "[5]\tvalidation_0-logloss:0.37498\n",
            "[6]\tvalidation_0-logloss:0.34571\n",
            "[7]\tvalidation_0-logloss:0.32053\n",
            "[8]\tvalidation_0-logloss:0.29721\n",
            "[9]\tvalidation_0-logloss:0.27799\n",
            "[10]\tvalidation_0-logloss:0.26030\n",
            "[11]\tvalidation_0-logloss:0.24604\n",
            "[12]\tvalidation_0-logloss:0.23156\n",
            "[13]\tvalidation_0-logloss:0.22005\n",
            "[14]\tvalidation_0-logloss:0.20857\n",
            "[15]\tvalidation_0-logloss:0.19999\n",
            "[16]\tvalidation_0-logloss:0.19012\n",
            "[17]\tvalidation_0-logloss:0.18182\n",
            "[18]\tvalidation_0-logloss:0.17473\n",
            "[19]\tvalidation_0-logloss:0.16766\n",
            "[20]\tvalidation_0-logloss:0.15820\n",
            "[21]\tvalidation_0-logloss:0.15472\n",
            "[22]\tvalidation_0-logloss:0.14895\n",
            "[23]\tvalidation_0-logloss:0.14331\n",
            "[24]\tvalidation_0-logloss:0.13634\n",
            "[25]\tvalidation_0-logloss:0.13278\n",
            "[26]\tvalidation_0-logloss:0.12791\n",
            "[27]\tvalidation_0-logloss:0.12526\n",
            "[28]\tvalidation_0-logloss:0.11998\n",
            "[29]\tvalidation_0-logloss:0.11641\n",
            "[30]\tvalidation_0-logloss:0.11450\n",
            "[31]\tvalidation_0-logloss:0.11257\n",
            "[32]\tvalidation_0-logloss:0.11154\n",
            "[33]\tvalidation_0-logloss:0.10868\n",
            "[34]\tvalidation_0-logloss:0.10668\n",
            "[35]\tvalidation_0-logloss:0.10421\n",
            "[36]\tvalidation_0-logloss:0.10296\n",
            "[37]\tvalidation_0-logloss:0.10058\n",
            "[38]\tvalidation_0-logloss:0.09868\n",
            "[39]\tvalidation_0-logloss:0.09644\n",
            "[40]\tvalidation_0-logloss:0.09587\n",
            "[41]\tvalidation_0-logloss:0.09424\n",
            "[42]\tvalidation_0-logloss:0.09471\n",
            "[43]\tvalidation_0-logloss:0.09427\n",
            "[44]\tvalidation_0-logloss:0.09389\n",
            "[45]\tvalidation_0-logloss:0.09418\n",
            "[46]\tvalidation_0-logloss:0.09402\n",
            "[47]\tvalidation_0-logloss:0.09236\n",
            "[48]\tvalidation_0-logloss:0.09301\n",
            "[49]\tvalidation_0-logloss:0.09127\n",
            "[50]\tvalidation_0-logloss:0.09005\n",
            "[51]\tvalidation_0-logloss:0.08961\n",
            "[52]\tvalidation_0-logloss:0.08958\n",
            "[53]\tvalidation_0-logloss:0.09070\n",
            "[54]\tvalidation_0-logloss:0.08958\n",
            "[55]\tvalidation_0-logloss:0.09036\n",
            "[56]\tvalidation_0-logloss:0.09159\n",
            "[57]\tvalidation_0-logloss:0.09153\n",
            "[58]\tvalidation_0-logloss:0.09199\n",
            "[59]\tvalidation_0-logloss:0.09195\n",
            "[60]\tvalidation_0-logloss:0.09194\n",
            "[61]\tvalidation_0-logloss:0.09146\n",
            "[62]\tvalidation_0-logloss:0.09031\n",
            "[63]\tvalidation_0-logloss:0.08941\n",
            "[64]\tvalidation_0-logloss:0.08972\n",
            "[65]\tvalidation_0-logloss:0.08974\n",
            "[66]\tvalidation_0-logloss:0.08962\n",
            "[67]\tvalidation_0-logloss:0.08873\n",
            "[68]\tvalidation_0-logloss:0.08862\n",
            "[69]\tvalidation_0-logloss:0.08974\n",
            "[70]\tvalidation_0-logloss:0.08998\n",
            "[71]\tvalidation_0-logloss:0.08978\n",
            "[72]\tvalidation_0-logloss:0.08958\n",
            "[73]\tvalidation_0-logloss:0.08953\n",
            "[74]\tvalidation_0-logloss:0.08875\n",
            "[75]\tvalidation_0-logloss:0.08860\n",
            "[76]\tvalidation_0-logloss:0.08812\n",
            "[77]\tvalidation_0-logloss:0.08840\n",
            "[78]\tvalidation_0-logloss:0.08874\n",
            "[79]\tvalidation_0-logloss:0.08815\n",
            "[80]\tvalidation_0-logloss:0.08758\n",
            "[81]\tvalidation_0-logloss:0.08741\n",
            "[82]\tvalidation_0-logloss:0.08849\n",
            "[83]\tvalidation_0-logloss:0.08857\n",
            "[84]\tvalidation_0-logloss:0.08807\n",
            "[85]\tvalidation_0-logloss:0.08764\n",
            "[86]\tvalidation_0-logloss:0.08742\n",
            "[87]\tvalidation_0-logloss:0.08761\n",
            "[88]\tvalidation_0-logloss:0.08707\n",
            "[89]\tvalidation_0-logloss:0.08727\n",
            "[90]\tvalidation_0-logloss:0.08716\n",
            "[91]\tvalidation_0-logloss:0.08696\n",
            "[92]\tvalidation_0-logloss:0.08717\n",
            "[93]\tvalidation_0-logloss:0.08707\n",
            "[94]\tvalidation_0-logloss:0.08659\n",
            "[95]\tvalidation_0-logloss:0.08612\n",
            "[96]\tvalidation_0-logloss:0.08714\n",
            "[97]\tvalidation_0-logloss:0.08677\n",
            "[98]\tvalidation_0-logloss:0.08669\n",
            "[99]\tvalidation_0-logloss:0.08655\n",
            "[100]\tvalidation_0-logloss:0.08650\n",
            "[101]\tvalidation_0-logloss:0.08641\n",
            "[102]\tvalidation_0-logloss:0.08629\n",
            "[103]\tvalidation_0-logloss:0.08626\n",
            "[104]\tvalidation_0-logloss:0.08683\n",
            "[105]\tvalidation_0-logloss:0.08677\n",
            "[106]\tvalidation_0-logloss:0.08732\n",
            "[107]\tvalidation_0-logloss:0.08730\n",
            "[108]\tvalidation_0-logloss:0.08728\n",
            "[109]\tvalidation_0-logloss:0.08730\n",
            "[110]\tvalidation_0-logloss:0.08729\n",
            "[111]\tvalidation_0-logloss:0.08800\n",
            "[112]\tvalidation_0-logloss:0.08794\n",
            "[113]\tvalidation_0-logloss:0.08784\n",
            "[114]\tvalidation_0-logloss:0.08807\n",
            "[115]\tvalidation_0-logloss:0.08765\n",
            "[116]\tvalidation_0-logloss:0.08730\n",
            "[117]\tvalidation_0-logloss:0.08780\n",
            "[118]\tvalidation_0-logloss:0.08775\n",
            "[119]\tvalidation_0-logloss:0.08768\n",
            "[120]\tvalidation_0-logloss:0.08763\n",
            "[121]\tvalidation_0-logloss:0.08757\n",
            "[122]\tvalidation_0-logloss:0.08755\n",
            "[123]\tvalidation_0-logloss:0.08716\n",
            "[124]\tvalidation_0-logloss:0.08767\n",
            "[125]\tvalidation_0-logloss:0.08774\n",
            "[126]\tvalidation_0-logloss:0.08827\n",
            "[127]\tvalidation_0-logloss:0.08831\n",
            "[128]\tvalidation_0-logloss:0.08827\n",
            "[129]\tvalidation_0-logloss:0.08789\n",
            "[130]\tvalidation_0-logloss:0.08886\n",
            "[131]\tvalidation_0-logloss:0.08868\n",
            "[132]\tvalidation_0-logloss:0.08874\n",
            "[133]\tvalidation_0-logloss:0.08922\n",
            "[134]\tvalidation_0-logloss:0.08918\n",
            "[135]\tvalidation_0-logloss:0.08882\n",
            "[136]\tvalidation_0-logloss:0.08851\n",
            "[137]\tvalidation_0-logloss:0.08848\n",
            "[138]\tvalidation_0-logloss:0.08839\n",
            "[139]\tvalidation_0-logloss:0.08915\n",
            "[140]\tvalidation_0-logloss:0.08911\n",
            "[141]\tvalidation_0-logloss:0.08876\n",
            "[142]\tvalidation_0-logloss:0.08868\n",
            "[143]\tvalidation_0-logloss:0.08839\n",
            "[144]\tvalidation_0-logloss:0.08927\n",
            "[145]\tvalidation_0-logloss:0.08924\n",
            "[146]\tvalidation_0-logloss:0.08914\n",
            "[147]\tvalidation_0-logloss:0.08891\n",
            "[148]\tvalidation_0-logloss:0.08942\n",
            "[149]\tvalidation_0-logloss:0.08939\n",
            "[150]\tvalidation_0-logloss:0.08911\n",
            "[151]\tvalidation_0-logloss:0.08873\n",
            "[152]\tvalidation_0-logloss:0.08872\n",
            "[153]\tvalidation_0-logloss:0.08848\n",
            "[154]\tvalidation_0-logloss:0.08847\n",
            "[155]\tvalidation_0-logloss:0.08855\n",
            "[156]\tvalidation_0-logloss:0.08852\n",
            "[157]\tvalidation_0-logloss:0.08855\n",
            "[158]\tvalidation_0-logloss:0.08827\n",
            "[159]\tvalidation_0-logloss:0.08830\n",
            "[160]\tvalidation_0-logloss:0.08828\n",
            "[161]\tvalidation_0-logloss:0.08801\n",
            "[162]\tvalidation_0-logloss:0.08776\n",
            "[163]\tvalidation_0-logloss:0.08778\n",
            "[164]\tvalidation_0-logloss:0.08778\n",
            "[165]\tvalidation_0-logloss:0.08752\n",
            "[166]\tvalidation_0-logloss:0.08754\n",
            "[167]\tvalidation_0-logloss:0.08764\n",
            "[168]\tvalidation_0-logloss:0.08739\n",
            "[169]\tvalidation_0-logloss:0.08738\n",
            "[170]\tvalidation_0-logloss:0.08730\n",
            "[171]\tvalidation_0-logloss:0.08737\n",
            "[172]\tvalidation_0-logloss:0.08740\n",
            "[173]\tvalidation_0-logloss:0.08739\n",
            "[174]\tvalidation_0-logloss:0.08713\n",
            "[175]\tvalidation_0-logloss:0.08716\n",
            "[176]\tvalidation_0-logloss:0.08695\n",
            "[177]\tvalidation_0-logloss:0.08705\n",
            "[178]\tvalidation_0-logloss:0.08697\n",
            "[179]\tvalidation_0-logloss:0.08697\n",
            "[180]\tvalidation_0-logloss:0.08704\n",
            "[181]\tvalidation_0-logloss:0.08680\n",
            "[182]\tvalidation_0-logloss:0.08683\n",
            "[183]\tvalidation_0-logloss:0.08658\n",
            "[184]\tvalidation_0-logloss:0.08659\n",
            "[185]\tvalidation_0-logloss:0.08661\n",
            "[186]\tvalidation_0-logloss:0.08637\n",
            "[187]\tvalidation_0-logloss:0.08637\n",
            "[188]\tvalidation_0-logloss:0.08630\n",
            "[189]\tvalidation_0-logloss:0.08610\n",
            "[190]\tvalidation_0-logloss:0.08602\n",
            "[191]\tvalidation_0-logloss:0.08605\n",
            "[192]\tvalidation_0-logloss:0.08615\n",
            "[193]\tvalidation_0-logloss:0.08592\n",
            "[194]\tvalidation_0-logloss:0.08591\n",
            "[195]\tvalidation_0-logloss:0.08598\n",
            "[196]\tvalidation_0-logloss:0.08601\n",
            "[197]\tvalidation_0-logloss:0.08592\n",
            "[198]\tvalidation_0-logloss:0.08585\n",
            "[199]\tvalidation_0-logloss:0.08587\n",
            "[200]\tvalidation_0-logloss:0.08589\n",
            "[201]\tvalidation_0-logloss:0.08595\n",
            "[202]\tvalidation_0-logloss:0.08573\n",
            "[203]\tvalidation_0-logloss:0.08573\n",
            "[204]\tvalidation_0-logloss:0.08575\n",
            "[205]\tvalidation_0-logloss:0.08582\n",
            "[206]\tvalidation_0-logloss:0.08584\n",
            "[207]\tvalidation_0-logloss:0.08578\n",
            "[208]\tvalidation_0-logloss:0.08569\n",
            "[209]\tvalidation_0-logloss:0.08571\n",
            "[210]\tvalidation_0-logloss:0.08581\n",
            "[211]\tvalidation_0-logloss:0.08559\n",
            "[212]\tvalidation_0-logloss:0.08580\n",
            "[213]\tvalidation_0-logloss:0.08581\n",
            "[214]\tvalidation_0-logloss:0.08574\n",
            "[215]\tvalidation_0-logloss:0.08566\n",
            "[216]\tvalidation_0-logloss:0.08584\n",
            "[217]\tvalidation_0-logloss:0.08563\n",
            "[218]\tvalidation_0-logloss:0.08573\n",
            "[219]\tvalidation_0-logloss:0.08578\n",
            "[220]\tvalidation_0-logloss:0.08579\n",
            "[221]\tvalidation_0-logloss:0.08582\n",
            "[222]\tvalidation_0-logloss:0.08576\n",
            "[223]\tvalidation_0-logloss:0.08567\n",
            "[224]\tvalidation_0-logloss:0.08586\n",
            "[225]\tvalidation_0-logloss:0.08587\n",
            "[226]\tvalidation_0-logloss:0.08593\n",
            "[227]\tvalidation_0-logloss:0.08595\n",
            "[228]\tvalidation_0-logloss:0.08587\n",
            "[229]\tvalidation_0-logloss:0.08606\n",
            "[230]\tvalidation_0-logloss:0.08600\n",
            "[231]\tvalidation_0-logloss:0.08592\n",
            "[232]\tvalidation_0-logloss:0.08610\n",
            "[233]\tvalidation_0-logloss:0.08611\n",
            "[234]\tvalidation_0-logloss:0.08617\n",
            "[235]\tvalidation_0-logloss:0.08626\n",
            "[236]\tvalidation_0-logloss:0.08629\n",
            "[237]\tvalidation_0-logloss:0.08622\n",
            "[238]\tvalidation_0-logloss:0.08639\n",
            "[239]\tvalidation_0-logloss:0.08634\n",
            "[240]\tvalidation_0-logloss:0.08618\n",
            "[241]\tvalidation_0-logloss:0.08620\n",
            "[242]\tvalidation_0-logloss:0.08625\n",
            "[243]\tvalidation_0-logloss:0.08626\n",
            "[244]\tvalidation_0-logloss:0.08629\n",
            "[245]\tvalidation_0-logloss:0.08622\n",
            "[246]\tvalidation_0-logloss:0.08640\n",
            "[247]\tvalidation_0-logloss:0.08635\n",
            "[248]\tvalidation_0-logloss:0.08628\n",
            "[249]\tvalidation_0-logloss:0.08645\n",
            "[250]\tvalidation_0-logloss:0.08629\n",
            "[251]\tvalidation_0-logloss:0.08631\n",
            "[252]\tvalidation_0-logloss:0.08636\n",
            "[253]\tvalidation_0-logloss:0.08639\n",
            "[254]\tvalidation_0-logloss:0.08649\n",
            "[255]\tvalidation_0-logloss:0.08644\n",
            "[256]\tvalidation_0-logloss:0.08629\n",
            "[257]\tvalidation_0-logloss:0.08646\n",
            "[258]\tvalidation_0-logloss:0.08639\n",
            "[259]\tvalidation_0-logloss:0.08644\n",
            "[260]\tvalidation_0-logloss:0.08646\n",
            "[261]\tvalidation_0-logloss:0.08649\n",
            "[262]\tvalidation_0-logloss:0.08645\n",
            "[263]\tvalidation_0-logloss:0.08647\n",
            "[264]\tvalidation_0-logloss:0.08632\n",
            "[265]\tvalidation_0-logloss:0.08649\n",
            "[266]\tvalidation_0-logloss:0.08654\n",
            "[267]\tvalidation_0-logloss:0.08647\n",
            "[268]\tvalidation_0-logloss:0.08650\n",
            "[269]\tvalidation_0-logloss:0.08652\n",
            "[270]\tvalidation_0-logloss:0.08669\n",
            "[271]\tvalidation_0-logloss:0.08674\n",
            "[272]\tvalidation_0-logloss:0.08683\n",
            "[273]\tvalidation_0-logloss:0.08668\n",
            "[274]\tvalidation_0-logloss:0.08664\n",
            "[275]\tvalidation_0-logloss:0.08650\n",
            "[276]\tvalidation_0-logloss:0.08635\n",
            "[277]\tvalidation_0-logloss:0.08652\n",
            "[278]\tvalidation_0-logloss:0.08657\n",
            "[279]\tvalidation_0-logloss:0.08659\n",
            "[280]\tvalidation_0-logloss:0.08668\n",
            "[281]\tvalidation_0-logloss:0.08664\n",
            "[282]\tvalidation_0-logloss:0.08650\n",
            "[283]\tvalidation_0-logloss:0.08636\n",
            "[284]\tvalidation_0-logloss:0.08640\n",
            "[285]\tvalidation_0-logloss:0.08643\n",
            "[286]\tvalidation_0-logloss:0.08646\n",
            "[287]\tvalidation_0-logloss:0.08650\n",
            "[288]\tvalidation_0-logloss:0.08637\n",
            "[289]\tvalidation_0-logloss:0.08646\n",
            "[290]\tvalidation_0-logloss:0.08645\n",
            "[291]\tvalidation_0-logloss:0.08632\n",
            "[292]\tvalidation_0-logloss:0.08628\n",
            "[293]\tvalidation_0-logloss:0.08615\n",
            "[294]\tvalidation_0-logloss:0.08620\n",
            "[295]\tvalidation_0-logloss:0.08622\n",
            "[296]\tvalidation_0-logloss:0.08631\n",
            "[297]\tvalidation_0-logloss:0.08618\n",
            "[298]\tvalidation_0-logloss:0.08626\n",
            "[299]\tvalidation_0-logloss:0.08613\n",
            "[300]\tvalidation_0-logloss:0.08618\n",
            "[301]\tvalidation_0-logloss:0.08605\n",
            "[302]\tvalidation_0-logloss:0.08602\n",
            "[303]\tvalidation_0-logloss:0.08610\n",
            "[304]\tvalidation_0-logloss:0.08598\n",
            "[305]\tvalidation_0-logloss:0.08606\n",
            "[306]\tvalidation_0-logloss:0.08597\n",
            "[307]\tvalidation_0-logloss:0.08600\n",
            "[308]\tvalidation_0-logloss:0.08600\n",
            "[309]\tvalidation_0-logloss:0.08588\n",
            "[310]\tvalidation_0-logloss:0.08592\n"
          ]
        }
      ]
    },
    {
      "cell_type": "code",
      "source": [
        "get_clf_eval(y_test , ws100_preds, ws100_pred_proba)"
      ],
      "metadata": {
        "colab": {
          "base_uri": "https://localhost:8080/"
        },
        "id": "ItFJ992tSdw8",
        "outputId": "530a10ce-cbeb-40df-bdb3-cd6915f31931"
      },
      "execution_count": 25,
      "outputs": [
        {
          "output_type": "stream",
          "name": "stdout",
          "text": [
            "오차 행렬\n",
            "[[34  3]\n",
            " [ 1 76]]\n",
            "정확도: 0.9649, 정밀도: 0.9620, 재현율: 0.9870,    F1: 0.9744, AUC:0.9954\n"
          ]
        }
      ]
    },
    {
      "cell_type": "markdown",
      "source": [
        "**early_stopping_rounds 값 변화에 따른 정확도 차이**"
      ],
      "metadata": {
        "id": "wyQ4UYavSSVO"
      }
    },
    {
      "cell_type": "code",
      "source": [
        "# early_stopping_rounds를 10으로 설정하고 재 학습.\n",
        "xgb_wrapper.fit(X_train, y_train, early_stopping_rounds=10,\n",
        "                eval_metric=\"logloss\", eval_set=evals,verbose=True)\n",
        "\n",
        "ws10_preds = xgb_wrapper.predict(X_test)\n",
        "ws10_pred_proba = xgb_wrapper.predict_proba(X_test)[:, 1]"
      ],
      "metadata": {
        "colab": {
          "base_uri": "https://localhost:8080/"
        },
        "id": "_NfqpaVgSSKu",
        "outputId": "a9e2bda9-5cbc-4309-8702-2b93bb5dec7c"
      },
      "execution_count": 27,
      "outputs": [
        {
          "output_type": "stream",
          "name": "stdout",
          "text": [
            "[0]\tvalidation_0-logloss:0.61352\n",
            "[1]\tvalidation_0-logloss:0.54784\n",
            "[2]\tvalidation_0-logloss:0.49425\n",
            "[3]\tvalidation_0-logloss:0.44799\n",
            "[4]\tvalidation_0-logloss:0.40911\n",
            "[5]\tvalidation_0-logloss:0.37498\n",
            "[6]\tvalidation_0-logloss:0.34571\n",
            "[7]\tvalidation_0-logloss:0.32053\n",
            "[8]\tvalidation_0-logloss:0.29721\n",
            "[9]\tvalidation_0-logloss:0.27799\n",
            "[10]\tvalidation_0-logloss:0.26030\n",
            "[11]\tvalidation_0-logloss:0.24604\n",
            "[12]\tvalidation_0-logloss:0.23156\n",
            "[13]\tvalidation_0-logloss:0.22005\n",
            "[14]\tvalidation_0-logloss:0.20857\n",
            "[15]\tvalidation_0-logloss:0.19999\n",
            "[16]\tvalidation_0-logloss:0.19012\n",
            "[17]\tvalidation_0-logloss:0.18182\n",
            "[18]\tvalidation_0-logloss:0.17473\n",
            "[19]\tvalidation_0-logloss:0.16766\n",
            "[20]\tvalidation_0-logloss:0.15820\n",
            "[21]\tvalidation_0-logloss:0.15472\n",
            "[22]\tvalidation_0-logloss:0.14895\n",
            "[23]\tvalidation_0-logloss:0.14331\n",
            "[24]\tvalidation_0-logloss:0.13634\n",
            "[25]\tvalidation_0-logloss:0.13278\n",
            "[26]\tvalidation_0-logloss:0.12791\n",
            "[27]\tvalidation_0-logloss:0.12526\n",
            "[28]\tvalidation_0-logloss:0.11998\n",
            "[29]\tvalidation_0-logloss:0.11641\n",
            "[30]\tvalidation_0-logloss:0.11450\n",
            "[31]\tvalidation_0-logloss:0.11257\n",
            "[32]\tvalidation_0-logloss:0.11154\n",
            "[33]\tvalidation_0-logloss:0.10868\n",
            "[34]\tvalidation_0-logloss:0.10668\n",
            "[35]\tvalidation_0-logloss:0.10421\n",
            "[36]\tvalidation_0-logloss:0.10296\n",
            "[37]\tvalidation_0-logloss:0.10058\n",
            "[38]\tvalidation_0-logloss:0.09868\n",
            "[39]\tvalidation_0-logloss:0.09644\n",
            "[40]\tvalidation_0-logloss:0.09587\n",
            "[41]\tvalidation_0-logloss:0.09424\n",
            "[42]\tvalidation_0-logloss:0.09471\n",
            "[43]\tvalidation_0-logloss:0.09427\n",
            "[44]\tvalidation_0-logloss:0.09389\n",
            "[45]\tvalidation_0-logloss:0.09418\n",
            "[46]\tvalidation_0-logloss:0.09402\n",
            "[47]\tvalidation_0-logloss:0.09236\n",
            "[48]\tvalidation_0-logloss:0.09301\n",
            "[49]\tvalidation_0-logloss:0.09127\n",
            "[50]\tvalidation_0-logloss:0.09005\n",
            "[51]\tvalidation_0-logloss:0.08961\n",
            "[52]\tvalidation_0-logloss:0.08958\n",
            "[53]\tvalidation_0-logloss:0.09070\n",
            "[54]\tvalidation_0-logloss:0.08958\n",
            "[55]\tvalidation_0-logloss:0.09036\n",
            "[56]\tvalidation_0-logloss:0.09159\n",
            "[57]\tvalidation_0-logloss:0.09153\n",
            "[58]\tvalidation_0-logloss:0.09199\n",
            "[59]\tvalidation_0-logloss:0.09195\n",
            "[60]\tvalidation_0-logloss:0.09194\n",
            "[61]\tvalidation_0-logloss:0.09146\n",
            "[62]\tvalidation_0-logloss:0.09031\n"
          ]
        }
      ]
    },
    {
      "cell_type": "code",
      "source": [
        "get_clf_eval(y_test , ws10_preds, ws10_pred_proba)"
      ],
      "metadata": {
        "colab": {
          "base_uri": "https://localhost:8080/"
        },
        "id": "k53fTlFHSuog",
        "outputId": "ad378d7d-3a00-4b83-d55d-b1ffbd8816a2"
      },
      "execution_count": 28,
      "outputs": [
        {
          "output_type": "stream",
          "name": "stdout",
          "text": [
            "오차 행렬\n",
            "[[34  3]\n",
            " [ 2 75]]\n",
            "정확도: 0.9561, 정밀도: 0.9615, 재현율: 0.9740,    F1: 0.9677, AUC:0.9947\n"
          ]
        }
      ]
    },
    {
      "cell_type": "markdown",
      "source": [
        "**사이킷런 래퍼 클래스의 피처 중요도 시각화**"
      ],
      "metadata": {
        "id": "6Vuhe3hOSzeA"
      }
    },
    {
      "cell_type": "code",
      "source": [
        "from xgboost import plot_importance\n",
        "import matplotlib.pyplot as plt\n",
        "%matplotlib inline\n",
        "\n",
        "fig, ax = plt.subplots(figsize=(10, 12))\n",
        "# 사이킷런 래퍼 클래스를 입력해도 무방.\n",
        "plot_importance(xgb_wrapper, ax=ax)"
      ],
      "metadata": {
        "colab": {
          "base_uri": "https://localhost:8080/",
          "height": 1000
        },
        "id": "CGeUbiHSSzTb",
        "outputId": "c9e1f300-e051-4462-ce93-a50056a1e1be"
      },
      "execution_count": 29,
      "outputs": [
        {
          "output_type": "execute_result",
          "data": {
            "text/plain": [
              "<Axes: title={'center': 'Feature importance'}, xlabel='F score', ylabel='Features'>"
            ]
          },
          "metadata": {},
          "execution_count": 29
        },
        {
          "output_type": "display_data",
          "data": {
            "text/plain": [
              "<Figure size 1000x1200 with 1 Axes>"
            ],
            "image/png": "[encoded data removed]"
          },
          "metadata": {}
        }
      ]
    },
    {
      "cell_type": "markdown",
      "source": [
        "## 4-7. LightGBM\n",
        "LGBMClassifier 사용하여 학습 및 예측 수행 (유방암 예측)"
      ],
      "metadata": {
        "id": "4gAfoOGMTBwz"
      }
    },
    {
      "cell_type": "code",
      "source": [
        "import lightgbm\n",
        "\n",
        "print(lightgbm.__version__)"
      ],
      "metadata": {
        "colab": {
          "base_uri": "https://localhost:8080/"
        },
        "id": "1n3neNFSf0XG",
        "outputId": "23b45d02-0ce8-4ba6-fd83-63a452525f57"
      },
      "execution_count": 1,
      "outputs": [
        {
          "output_type": "stream",
          "name": "stdout",
          "text": [
            "3.3.2\n"
          ]
        }
      ]
    },
    {
      "cell_type": "code",
      "source": [
        "# lightgbm 다운그레이드\n",
        "!pip uninstall lightgbm\n",
        "!pip install lightgbm==3.3.2"
      ],
      "metadata": {
        "id": "u40txYeykBsi"
      },
      "execution_count": null,
      "outputs": []
    },
    {
      "cell_type": "code",
      "source": [
        "# LightGBM의 파이썬 패키지인 lightgbm에서 LGBMClassifier 임포트\n",
        "from lightgbm import LGBMClassifier\n",
        "\n",
        "import pandas as pd\n",
        "import numpy as np\n",
        "from sklearn.datasets import load_breast_cancer\n",
        "from sklearn.model_selection import train_test_split\n",
        "\n",
        "dataset = load_breast_cancer()\n",
        "\n",
        "cancer_df = pd.DataFrame(data=dataset.data, columns=dataset.feature_names)\n",
        "cancer_df['target']= dataset.target\n",
        "X_features = cancer_df.iloc[:, :-1]\n",
        "y_label = cancer_df.iloc[:, -1]\n",
        "\n",
        "# 전체 데이터 중 80%는 학습용 데이터, 20%는 테스트용 데이터 추출\n",
        "X_train, X_test, y_train, y_test=train_test_split(X_features, y_label, test_size=0.2, random_state=156 )\n",
        "\n",
        "# 위에서 만든 X_train, y_train을 다시 쪼개서 90%는 학습과 10%는 검증용 데이터로 분리\n",
        "X_tr, X_val, y_tr, y_val= train_test_split(X_train, y_train, test_size=0.1, random_state=156 )\n",
        "\n",
        "# 앞서 XGBoost와 동일하게 n_estimators는 400 설정.\n",
        "lgbm_wrapper = LGBMClassifier(n_estimators=400, learning_rate=0.05)\n",
        "\n",
        "# LightGBM도 XGBoost와 동일하게 조기 중단 수행 가능.\n",
        "evals = [(X_tr, y_tr), (X_val, y_val)]\n",
        "lgbm_wrapper.fit(X_tr, y_tr, early_stopping_rounds=50, eval_metric=\"logloss\", eval_set=evals, verbose=True)\n",
        "preds = lgbm_wrapper.predict(X_test)\n",
        "pred_proba = lgbm_wrapper.predict_proba(X_test)[:, 1]"
      ],
      "metadata": {
        "colab": {
          "base_uri": "https://localhost:8080/"
        },
        "id": "aT0_v-0od0AI",
        "outputId": "316a0242-67c6-4cd1-d664-0461f80c910d"
      },
      "execution_count": 3,
      "outputs": [
        {
          "output_type": "stream",
          "name": "stderr",
          "text": [
            "/usr/local/lib/python3.10/dist-packages/lightgbm/sklearn.py:726: UserWarning: 'early_stopping_rounds' argument is deprecated and will be removed in a future release of LightGBM. Pass 'early_stopping()' callback via 'callbacks' argument instead.\n",
            "  _log_warning(\"'early_stopping_rounds' argument is deprecated and will be removed in a future release of LightGBM. \"\n",
            "/usr/local/lib/python3.10/dist-packages/lightgbm/sklearn.py:736: UserWarning: 'verbose' argument is deprecated and will be removed in a future release of LightGBM. Pass 'log_evaluation()' callback via 'callbacks' argument instead.\n",
            "  _log_warning(\"'verbose' argument is deprecated and will be removed in a future release of LightGBM. \"\n"
          ]
        },
        {
          "output_type": "stream",
          "name": "stdout",
          "text": [
            "[1]\ttraining's binary_logloss: 0.625671\tvalid_1's binary_logloss: 0.628248\n",
            "[2]\ttraining's binary_logloss: 0.588173\tvalid_1's binary_logloss: 0.601106\n",
            "[3]\ttraining's binary_logloss: 0.554518\tvalid_1's binary_logloss: 0.577587\n",
            "[4]\ttraining's binary_logloss: 0.523972\tvalid_1's binary_logloss: 0.556324\n",
            "[5]\ttraining's binary_logloss: 0.49615\tvalid_1's binary_logloss: 0.537407\n",
            "[6]\ttraining's binary_logloss: 0.470108\tvalid_1's binary_logloss: 0.519401\n",
            "[7]\ttraining's binary_logloss: 0.446647\tvalid_1's binary_logloss: 0.502637\n",
            "[8]\ttraining's binary_logloss: 0.425055\tvalid_1's binary_logloss: 0.488311\n",
            "[9]\ttraining's binary_logloss: 0.405125\tvalid_1's binary_logloss: 0.474664\n",
            "[10]\ttraining's binary_logloss: 0.386526\tvalid_1's binary_logloss: 0.461267\n",
            "[11]\ttraining's binary_logloss: 0.367027\tvalid_1's binary_logloss: 0.444274\n",
            "[12]\ttraining's binary_logloss: 0.350713\tvalid_1's binary_logloss: 0.432755\n",
            "[13]\ttraining's binary_logloss: 0.334601\tvalid_1's binary_logloss: 0.421371\n",
            "[14]\ttraining's binary_logloss: 0.319854\tvalid_1's binary_logloss: 0.411418\n",
            "[15]\ttraining's binary_logloss: 0.306374\tvalid_1's binary_logloss: 0.402989\n",
            "[16]\ttraining's binary_logloss: 0.293116\tvalid_1's binary_logloss: 0.393973\n",
            "[17]\ttraining's binary_logloss: 0.280812\tvalid_1's binary_logloss: 0.384801\n",
            "[18]\ttraining's binary_logloss: 0.268352\tvalid_1's binary_logloss: 0.376191\n",
            "[19]\ttraining's binary_logloss: 0.256942\tvalid_1's binary_logloss: 0.368378\n",
            "[20]\ttraining's binary_logloss: 0.246443\tvalid_1's binary_logloss: 0.362062\n",
            "[21]\ttraining's binary_logloss: 0.236874\tvalid_1's binary_logloss: 0.355162\n",
            "[22]\ttraining's binary_logloss: 0.227501\tvalid_1's binary_logloss: 0.348933\n",
            "[23]\ttraining's binary_logloss: 0.218988\tvalid_1's binary_logloss: 0.342819\n",
            "[24]\ttraining's binary_logloss: 0.210621\tvalid_1's binary_logloss: 0.337386\n",
            "[25]\ttraining's binary_logloss: 0.202076\tvalid_1's binary_logloss: 0.331523\n",
            "[26]\ttraining's binary_logloss: 0.194199\tvalid_1's binary_logloss: 0.326349\n",
            "[27]\ttraining's binary_logloss: 0.187107\tvalid_1's binary_logloss: 0.322785\n",
            "[28]\ttraining's binary_logloss: 0.180535\tvalid_1's binary_logloss: 0.317877\n",
            "[29]\ttraining's binary_logloss: 0.173834\tvalid_1's binary_logloss: 0.313928\n",
            "[30]\ttraining's binary_logloss: 0.167198\tvalid_1's binary_logloss: 0.310105\n",
            "[31]\ttraining's binary_logloss: 0.161229\tvalid_1's binary_logloss: 0.307107\n",
            "[32]\ttraining's binary_logloss: 0.155494\tvalid_1's binary_logloss: 0.303837\n",
            "[33]\ttraining's binary_logloss: 0.149125\tvalid_1's binary_logloss: 0.300315\n",
            "[34]\ttraining's binary_logloss: 0.144045\tvalid_1's binary_logloss: 0.297816\n",
            "[35]\ttraining's binary_logloss: 0.139341\tvalid_1's binary_logloss: 0.295387\n",
            "[36]\ttraining's binary_logloss: 0.134625\tvalid_1's binary_logloss: 0.293063\n",
            "[37]\ttraining's binary_logloss: 0.129167\tvalid_1's binary_logloss: 0.289127\n",
            "[38]\ttraining's binary_logloss: 0.12472\tvalid_1's binary_logloss: 0.288697\n",
            "[39]\ttraining's binary_logloss: 0.11974\tvalid_1's binary_logloss: 0.28576\n",
            "[40]\ttraining's binary_logloss: 0.115054\tvalid_1's binary_logloss: 0.282853\n",
            "[41]\ttraining's binary_logloss: 0.110662\tvalid_1's binary_logloss: 0.279441\n",
            "[42]\ttraining's binary_logloss: 0.106358\tvalid_1's binary_logloss: 0.28113\n",
            "[43]\ttraining's binary_logloss: 0.102324\tvalid_1's binary_logloss: 0.279139\n",
            "[44]\ttraining's binary_logloss: 0.0985699\tvalid_1's binary_logloss: 0.276465\n",
            "[45]\ttraining's binary_logloss: 0.094858\tvalid_1's binary_logloss: 0.275946\n",
            "[46]\ttraining's binary_logloss: 0.0912486\tvalid_1's binary_logloss: 0.272819\n",
            "[47]\ttraining's binary_logloss: 0.0883115\tvalid_1's binary_logloss: 0.272306\n",
            "[48]\ttraining's binary_logloss: 0.0849963\tvalid_1's binary_logloss: 0.270452\n",
            "[49]\ttraining's binary_logloss: 0.0821742\tvalid_1's binary_logloss: 0.268671\n",
            "[50]\ttraining's binary_logloss: 0.0789991\tvalid_1's binary_logloss: 0.267587\n",
            "[51]\ttraining's binary_logloss: 0.0761072\tvalid_1's binary_logloss: 0.26626\n",
            "[52]\ttraining's binary_logloss: 0.0732567\tvalid_1's binary_logloss: 0.265542\n",
            "[53]\ttraining's binary_logloss: 0.0706388\tvalid_1's binary_logloss: 0.264547\n",
            "[54]\ttraining's binary_logloss: 0.0683911\tvalid_1's binary_logloss: 0.26502\n",
            "[55]\ttraining's binary_logloss: 0.0659347\tvalid_1's binary_logloss: 0.264388\n",
            "[56]\ttraining's binary_logloss: 0.0636873\tvalid_1's binary_logloss: 0.263128\n",
            "[57]\ttraining's binary_logloss: 0.0613354\tvalid_1's binary_logloss: 0.26231\n",
            "[58]\ttraining's binary_logloss: 0.0591944\tvalid_1's binary_logloss: 0.262011\n",
            "[59]\ttraining's binary_logloss: 0.057033\tvalid_1's binary_logloss: 0.261454\n",
            "[60]\ttraining's binary_logloss: 0.0550801\tvalid_1's binary_logloss: 0.260746\n",
            "[61]\ttraining's binary_logloss: 0.0532381\tvalid_1's binary_logloss: 0.260236\n",
            "[62]\ttraining's binary_logloss: 0.0514074\tvalid_1's binary_logloss: 0.261586\n",
            "[63]\ttraining's binary_logloss: 0.0494837\tvalid_1's binary_logloss: 0.261797\n",
            "[64]\ttraining's binary_logloss: 0.0477826\tvalid_1's binary_logloss: 0.262533\n",
            "[65]\ttraining's binary_logloss: 0.0460364\tvalid_1's binary_logloss: 0.263305\n",
            "[66]\ttraining's binary_logloss: 0.0444552\tvalid_1's binary_logloss: 0.264072\n",
            "[67]\ttraining's binary_logloss: 0.0427638\tvalid_1's binary_logloss: 0.266223\n",
            "[68]\ttraining's binary_logloss: 0.0412449\tvalid_1's binary_logloss: 0.266817\n",
            "[69]\ttraining's binary_logloss: 0.0398589\tvalid_1's binary_logloss: 0.267819\n",
            "[70]\ttraining's binary_logloss: 0.0383095\tvalid_1's binary_logloss: 0.267484\n",
            "[71]\ttraining's binary_logloss: 0.0368803\tvalid_1's binary_logloss: 0.270233\n",
            "[72]\ttraining's binary_logloss: 0.0355637\tvalid_1's binary_logloss: 0.268442\n",
            "[73]\ttraining's binary_logloss: 0.0341747\tvalid_1's binary_logloss: 0.26895\n",
            "[74]\ttraining's binary_logloss: 0.0328302\tvalid_1's binary_logloss: 0.266958\n",
            "[75]\ttraining's binary_logloss: 0.0317853\tvalid_1's binary_logloss: 0.268091\n",
            "[76]\ttraining's binary_logloss: 0.0305626\tvalid_1's binary_logloss: 0.266419\n",
            "[77]\ttraining's binary_logloss: 0.0295001\tvalid_1's binary_logloss: 0.268588\n",
            "[78]\ttraining's binary_logloss: 0.0284699\tvalid_1's binary_logloss: 0.270964\n",
            "[79]\ttraining's binary_logloss: 0.0273953\tvalid_1's binary_logloss: 0.270293\n",
            "[80]\ttraining's binary_logloss: 0.0264668\tvalid_1's binary_logloss: 0.270523\n",
            "[81]\ttraining's binary_logloss: 0.0254636\tvalid_1's binary_logloss: 0.270683\n",
            "[82]\ttraining's binary_logloss: 0.0245911\tvalid_1's binary_logloss: 0.273187\n",
            "[83]\ttraining's binary_logloss: 0.0236486\tvalid_1's binary_logloss: 0.275994\n",
            "[84]\ttraining's binary_logloss: 0.0228047\tvalid_1's binary_logloss: 0.274053\n",
            "[85]\ttraining's binary_logloss: 0.0221693\tvalid_1's binary_logloss: 0.273211\n",
            "[86]\ttraining's binary_logloss: 0.0213043\tvalid_1's binary_logloss: 0.272626\n",
            "[87]\ttraining's binary_logloss: 0.0203934\tvalid_1's binary_logloss: 0.27534\n",
            "[88]\ttraining's binary_logloss: 0.0195552\tvalid_1's binary_logloss: 0.276228\n",
            "[89]\ttraining's binary_logloss: 0.0188623\tvalid_1's binary_logloss: 0.27525\n",
            "[90]\ttraining's binary_logloss: 0.0183664\tvalid_1's binary_logloss: 0.276485\n",
            "[91]\ttraining's binary_logloss: 0.0176788\tvalid_1's binary_logloss: 0.277052\n",
            "[92]\ttraining's binary_logloss: 0.0170059\tvalid_1's binary_logloss: 0.277686\n",
            "[93]\ttraining's binary_logloss: 0.0164317\tvalid_1's binary_logloss: 0.275332\n",
            "[94]\ttraining's binary_logloss: 0.015878\tvalid_1's binary_logloss: 0.276236\n",
            "[95]\ttraining's binary_logloss: 0.0152959\tvalid_1's binary_logloss: 0.274538\n",
            "[96]\ttraining's binary_logloss: 0.0147216\tvalid_1's binary_logloss: 0.275244\n",
            "[97]\ttraining's binary_logloss: 0.0141758\tvalid_1's binary_logloss: 0.275829\n",
            "[98]\ttraining's binary_logloss: 0.0136551\tvalid_1's binary_logloss: 0.276654\n",
            "[99]\ttraining's binary_logloss: 0.0131585\tvalid_1's binary_logloss: 0.277859\n",
            "[100]\ttraining's binary_logloss: 0.0126961\tvalid_1's binary_logloss: 0.279265\n",
            "[101]\ttraining's binary_logloss: 0.0122421\tvalid_1's binary_logloss: 0.276695\n",
            "[102]\ttraining's binary_logloss: 0.0118067\tvalid_1's binary_logloss: 0.278488\n",
            "[103]\ttraining's binary_logloss: 0.0113994\tvalid_1's binary_logloss: 0.278932\n",
            "[104]\ttraining's binary_logloss: 0.0109799\tvalid_1's binary_logloss: 0.280997\n",
            "[105]\ttraining's binary_logloss: 0.0105953\tvalid_1's binary_logloss: 0.281454\n",
            "[106]\ttraining's binary_logloss: 0.0102381\tvalid_1's binary_logloss: 0.282058\n",
            "[107]\ttraining's binary_logloss: 0.00986714\tvalid_1's binary_logloss: 0.279275\n",
            "[108]\ttraining's binary_logloss: 0.00950998\tvalid_1's binary_logloss: 0.281427\n",
            "[109]\ttraining's binary_logloss: 0.00915965\tvalid_1's binary_logloss: 0.280752\n",
            "[110]\ttraining's binary_logloss: 0.00882581\tvalid_1's binary_logloss: 0.282152\n",
            "[111]\ttraining's binary_logloss: 0.00850714\tvalid_1's binary_logloss: 0.280894\n"
          ]
        }
      ]
    },
    {
      "cell_type": "code",
      "source": [
        "# 성능 평가\n",
        "get_clf_eval(y_test, preds, pred_proba)"
      ],
      "metadata": {
        "colab": {
          "base_uri": "https://localhost:8080/"
        },
        "id": "d7TsJLyalcWN",
        "outputId": "922e1029-6dee-46a4-c852-754140b5e335"
      },
      "execution_count": 6,
      "outputs": [
        {
          "output_type": "stream",
          "name": "stdout",
          "text": [
            "오차 행렬\n",
            "[[34  3]\n",
            " [ 2 75]]\n",
            "정확도: 0.9561, 정밀도: 0.9615, 재현율: 0.9740,    F1: 0.9677, AUC:0.9877\n"
          ]
        }
      ]
    },
    {
      "cell_type": "code",
      "source": [
        "# plot_importance( )를 이용하여 feature 중요도 시각화\n",
        "from lightgbm import plot_importance\n",
        "import matplotlib.pyplot as plt\n",
        "%matplotlib inline\n",
        "\n",
        "fig, ax = plt.subplots(figsize=(10, 12))\n",
        "plot_importance(lgbm_wrapper, ax=ax)\n",
        "plt.savefig('lightgbm_feature_importance.tif', format='tif', dpi=300, bbox_inches='tight')"
      ],
      "metadata": {
        "colab": {
          "base_uri": "https://localhost:8080/",
          "height": 689
        },
        "id": "Is8XyD-KmvlX",
        "outputId": "2af73c28-bef4-4b27-e062-9ae91e7970ad"
      },
      "execution_count": 7,
      "outputs": [
        {
          "output_type": "display_data",
          "data": {
            "text/plain": [
              "<Figure size 1000x1200 with 1 Axes>"
            ],
            "image/png": "[encoded data removed]"
          },
          "metadata": {}
        }
      ]
    },
    {
      "cell_type": "markdown",
      "source": [
        "## 4-8. 베이지안 최적화 기반의 HyperOpt를 이용한 하이퍼 파라미터 튜닝"
      ],
      "metadata": {
        "id": "P6wf6NMxw6na"
      }
    },
    {
      "cell_type": "markdown",
      "source": [
        "**1) 입력 변수명, 값 검색 공간 설정**"
      ],
      "metadata": {
        "id": "vQRfgcDMx4mn"
      }
    },
    {
      "cell_type": "code",
      "source": [
        "from hyperopt import hp\n",
        "\n",
        "# -10 ~ 10까지 1간격을 가지는 입력 변수 x와 -15 ~ 15까지 1간격으로 입력 변수 y 설정.\n",
        "search_space = {'x': hp.quniform('x', -10, 10, 1), 'y': hp.quniform('y', -15, 15, 1) }"
      ],
      "metadata": {
        "id": "9KMqYLMJx5eG"
      },
      "execution_count": 2,
      "outputs": []
    },
    {
      "cell_type": "markdown",
      "source": [
        "**2) 목적 함수 생성**"
      ],
      "metadata": {
        "id": "T1IDl5yTyEr5"
      }
    },
    {
      "cell_type": "code",
      "source": [
        "from hyperopt import STATUS_OK\n",
        "\n",
        "# 목적 함수를 생성. 변숫값과 변수 검색 공간을 가지는 딕셔너리를 인자로 받고, 특정 값을 반환\n",
        "def objective_func(search_space):\n",
        "    x = search_space['x']\n",
        "    y = search_space['y']\n",
        "    retval = x**2 - 20*y\n",
        "\n",
        "    return retval"
      ],
      "metadata": {
        "id": "BtHwaKIzDXqq"
      },
      "execution_count": 1,
      "outputs": []
    },
    {
      "cell_type": "markdown",
      "source": [
        "**3) 최적 입력값 유추**"
      ],
      "metadata": {
        "id": "25PuDaxGFNsh"
      }
    },
    {
      "cell_type": "code",
      "source": [
        "from hyperopt import fmin, tpe, Trials\n",
        "import numpy as np\n",
        "\n",
        "# 입력 결괏값을 저장한 Trials 객체값 생성.\n",
        "trial_val = Trials()\n",
        "\n",
        "# 목적 함수의 최솟값을 반환하는 최적 입력 변숫값을 5번의 입력값 시도(max_evals=5)로 찾아냄.\n",
        "best_01 = fmin(fn=objective_func, space=search_space, algo=tpe.suggest, max_evals=5\n",
        "               , trials=trial_val, rstate=np.random.default_rng(seed=0))\n",
        "print('best:', best_01)"
      ],
      "metadata": {
        "colab": {
          "base_uri": "https://localhost:8080/"
        },
        "id": "dj5nSTvrFRUJ",
        "outputId": "b71e9f40-70dd-4448-b5b5-48485cf5b247"
      },
      "execution_count": 3,
      "outputs": [
        {
          "output_type": "stream",
          "name": "stdout",
          "text": [
            "100%|██████████| 5/5 [00:00<00:00, 68.59trial/s, best loss: -224.0]\n",
            "best: {'x': -4.0, 'y': 12.0}\n"
          ]
        }
      ]
    },
    {
      "cell_type": "markdown",
      "source": [
        "**max_evals를 늘려서 재시도**"
      ],
      "metadata": {
        "id": "-b49C0gpHkvV"
      }
    },
    {
      "cell_type": "code",
      "source": [
        "trial_val = Trials()\n",
        "\n",
        "# max_evals를 20회로 늘려서 재테스트\n",
        "best_02 = fmin(fn=objective_func, space=search_space, algo=tpe.suggest, max_evals=20\n",
        "               , trials=trial_val, rstate=np.random.default_rng(seed=0))\n",
        "print('best:', best_02)"
      ],
      "metadata": {
        "colab": {
          "base_uri": "https://localhost:8080/"
        },
        "id": "LKS0u1TlHn9y",
        "outputId": "628af70f-32be-49b5-efa4-0ed32028b264"
      },
      "execution_count": 4,
      "outputs": [
        {
          "output_type": "stream",
          "name": "stdout",
          "text": [
            "100%|██████████| 20/20 [00:00<00:00, 347.93trial/s, best loss: -296.0]\n",
            "best: {'x': 2.0, 'y': 15.0}\n"
          ]
        }
      ]
    },
    {
      "cell_type": "markdown",
      "source": [
        "**Trials 객체 요소 - result, vals**"
      ],
      "metadata": {
        "id": "Qevplq6IJvno"
      }
    },
    {
      "cell_type": "code",
      "source": [
        "# result 요소 출력\n",
        "print(\"[result]\")\n",
        "print(trial_val.results, \"\\n\")\n",
        "\n",
        "print(\"[vals]\")\n",
        "# vals 요소 출력\n",
        "print(trial_val.vals)"
      ],
      "metadata": {
        "colab": {
          "base_uri": "https://localhost:8080/"
        },
        "id": "gtw1dsS9J2Fo",
        "outputId": "d990f888-21d6-421e-938d-f6627a0ae002"
      },
      "execution_count": 10,
      "outputs": [
        {
          "output_type": "stream",
          "name": "stdout",
          "text": [
            "[result]\n",
            "[{'loss': -64.0, 'status': 'ok'}, {'loss': -184.0, 'status': 'ok'}, {'loss': 56.0, 'status': 'ok'}, {'loss': -224.0, 'status': 'ok'}, {'loss': 61.0, 'status': 'ok'}, {'loss': -296.0, 'status': 'ok'}, {'loss': -40.0, 'status': 'ok'}, {'loss': 281.0, 'status': 'ok'}, {'loss': 64.0, 'status': 'ok'}, {'loss': 100.0, 'status': 'ok'}, {'loss': 60.0, 'status': 'ok'}, {'loss': -39.0, 'status': 'ok'}, {'loss': 1.0, 'status': 'ok'}, {'loss': -164.0, 'status': 'ok'}, {'loss': 21.0, 'status': 'ok'}, {'loss': -56.0, 'status': 'ok'}, {'loss': 284.0, 'status': 'ok'}, {'loss': 176.0, 'status': 'ok'}, {'loss': -171.0, 'status': 'ok'}, {'loss': 0.0, 'status': 'ok'}] \n",
            "\n",
            "[vals]\n",
            "{'x': [-6.0, -4.0, 4.0, -4.0, 9.0, 2.0, 10.0, -9.0, -8.0, -0.0, -0.0, 1.0, 9.0, 6.0, 9.0, 2.0, -2.0, -4.0, 7.0, -0.0], 'y': [5.0, 10.0, -2.0, 12.0, 1.0, 15.0, 7.0, -10.0, 0.0, -5.0, -3.0, 2.0, 4.0, 10.0, 3.0, 3.0, -14.0, -8.0, 11.0, -0.0]}\n"
          ]
        }
      ]
    },
    {
      "cell_type": "markdown",
      "source": [
        "**Trials 객체 속성 DataFrame으로 변환**"
      ],
      "metadata": {
        "id": "Y0qd3pdyLCR-"
      }
    },
    {
      "cell_type": "code",
      "source": [
        "import pandas as pd\n",
        "\n",
        "# results에서 loss 키값에 해당하는 밸류들을 추출하여 list로 생성.\n",
        "losses = [loss_dict['loss'] for loss_dict in trial_val.results]\n",
        "\n",
        "# DataFrame으로 생성.\n",
        "result_df = pd.DataFrame({'x': trial_val.vals['x'], 'y': trial_val.vals['y'], 'losses': losses})\n",
        "result_df"
      ],
      "metadata": {
        "colab": {
          "base_uri": "https://localhost:8080/",
          "height": 676
        },
        "id": "PMw-5f57LDqG",
        "outputId": "913b076b-b4d8-4407-d6fb-b361c84b7154"
      },
      "execution_count": 12,
      "outputs": [
        {
          "output_type": "execute_result",
          "data": {
            "text/plain": [
              "       x     y  losses\n",
              "0   -6.0   5.0   -64.0\n",
              "1   -4.0  10.0  -184.0\n",
              "2    4.0  -2.0    56.0\n",
              "3   -4.0  12.0  -224.0\n",
              "4    9.0   1.0    61.0\n",
              "5    2.0  15.0  -296.0\n",
              "6   10.0   7.0   -40.0\n",
              "7   -9.0 -10.0   281.0\n",
              "8   -8.0   0.0    64.0\n",
              "9   -0.0  -5.0   100.0\n",
              "10  -0.0  -3.0    60.0\n",
              "11   1.0   2.0   -39.0\n",
              "12   9.0   4.0     1.0\n",
              "13   6.0  10.0  -164.0\n",
              "14   9.0   3.0    21.0\n",
              "15   2.0   3.0   -56.0\n",
              "16  -2.0 -14.0   284.0\n",
              "17  -4.0  -8.0   176.0\n",
              "18   7.0  11.0  -171.0\n",
              "19  -0.0  -0.0     0.0"
            ],
            "text/html": [
              "\n",
              "  <div id=\"df-bdd986d8-d6e4-4745-bd94-e469134d1c6b\" class=\"colab-df-container\">\n",
              "    <div>\n",
              "<style scoped>\n",
              "    .dataframe tbody tr th:only-of-type {\n",
              "        vertical-align: middle;\n",
              "    }\n",
              "\n",
              "    .dataframe tbody tr th {\n",
              "        vertical-align: top;\n",
              "    }\n",
              "\n",
              "    .dataframe thead th {\n",
              "        text-align: right;\n",
              "    }\n",
              "</style>\n",
              "<table border=\"1\" class=\"dataframe\">\n",
              "  <thead>\n",
              "    <tr style=\"text-align: right;\">\n",
              "      <th></th>\n",
              "      <th>x</th>\n",
              "      <th>y</th>\n",
              "      <th>losses</th>\n",
              "    </tr>\n",
              "  </thead>\n",
              "  <tbody>\n",
              "    <tr>\n",
              "      <th>0</th>\n",
              "      <td>-6.0</td>\n",
              "      <td>5.0</td>\n",
              "      <td>-64.0</td>\n",
              "    </tr>\n",
              "    <tr>\n",
              "      <th>1</th>\n",
              "      <td>-4.0</td>\n",
              "      <td>10.0</td>\n",
              "      <td>-184.0</td>\n",
              "    </tr>\n",
              "    <tr>\n",
              "      <th>2</th>\n",
              "      <td>4.0</td>\n",
              "      <td>-2.0</td>\n",
              "      <td>56.0</td>\n",
              "    </tr>\n",
              "    <tr>\n",
              "      <th>3</th>\n",
              "      <td>-4.0</td>\n",
              "      <td>12.0</td>\n",
              "      <td>-224.0</td>\n",
              "    </tr>\n",
              "    <tr>\n",
              "      <th>4</th>\n",
              "      <td>9.0</td>\n",
              "      <td>1.0</td>\n",
              "      <td>61.0</td>\n",
              "    </tr>\n",
              "    <tr>\n",
              "      <th>5</th>\n",
              "      <td>2.0</td>\n",
              "      <td>15.0</td>\n",
              "      <td>-296.0</td>\n",
              "    </tr>\n",
              "    <tr>\n",
              "      <th>6</th>\n",
              "      <td>10.0</td>\n",
              "      <td>7.0</td>\n",
              "      <td>-40.0</td>\n",
              "    </tr>\n",
              "    <tr>\n",
              "      <th>7</th>\n",
              "      <td>-9.0</td>\n",
              "      <td>-10.0</td>\n",
              "      <td>281.0</td>\n",
              "    </tr>\n",
              "    <tr>\n",
              "      <th>8</th>\n",
              "      <td>-8.0</td>\n",
              "      <td>0.0</td>\n",
              "      <td>64.0</td>\n",
              "    </tr>\n",
              "    <tr>\n",
              "      <th>9</th>\n",
              "      <td>-0.0</td>\n",
              "      <td>-5.0</td>\n",
              "      <td>100.0</td>\n",
              "    </tr>\n",
              "    <tr>\n",
              "      <th>10</th>\n",
              "      <td>-0.0</td>\n",
              "      <td>-3.0</td>\n",
              "      <td>60.0</td>\n",
              "    </tr>\n",
              "    <tr>\n",
              "      <th>11</th>\n",
              "      <td>1.0</td>\n",
              "      <td>2.0</td>\n",
              "      <td>-39.0</td>\n",
              "    </tr>\n",
              "    <tr>\n",
              "      <th>12</th>\n",
              "      <td>9.0</td>\n",
              "      <td>4.0</td>\n",
              "      <td>1.0</td>\n",
              "    </tr>\n",
              "    <tr>\n",
              "      <th>13</th>\n",
              "      <td>6.0</td>\n",
              "      <td>10.0</td>\n",
              "      <td>-164.0</td>\n",
              "    </tr>\n",
              "    <tr>\n",
              "      <th>14</th>\n",
              "      <td>9.0</td>\n",
              "      <td>3.0</td>\n",
              "      <td>21.0</td>\n",
              "    </tr>\n",
              "    <tr>\n",
              "      <th>15</th>\n",
              "      <td>2.0</td>\n",
              "      <td>3.0</td>\n",
              "      <td>-56.0</td>\n",
              "    </tr>\n",
              "    <tr>\n",
              "      <th>16</th>\n",
              "      <td>-2.0</td>\n",
              "      <td>-14.0</td>\n",
              "      <td>284.0</td>\n",
              "    </tr>\n",
              "    <tr>\n",
              "      <th>17</th>\n",
              "      <td>-4.0</td>\n",
              "      <td>-8.0</td>\n",
              "      <td>176.0</td>\n",
              "    </tr>\n",
              "    <tr>\n",
              "      <th>18</th>\n",
              "      <td>7.0</td>\n",
              "      <td>11.0</td>\n",
              "      <td>-171.0</td>\n",
              "    </tr>\n",
              "    <tr>\n",
              "      <th>19</th>\n",
              "      <td>-0.0</td>\n",
              "      <td>-0.0</td>\n",
              "      <td>0.0</td>\n",
              "    </tr>\n",
              "  </tbody>\n",
              "</table>\n",
              "</div>\n",
              "    <div class=\"colab-df-buttons\">\n",
              "\n",
              "  <div class=\"colab-df-container\">\n",
              "    <button class=\"colab-df-convert\" onclick=\"convertToInteractive('df-bdd986d8-d6e4-4745-bd94-e469134d1c6b')\"\n",
              "            title=\"Convert this dataframe to an interactive table.\"\n",
              "            style=\"display:none;\">\n",
              "\n",
              "  <svg xmlns=\"http://www.w3.org/2000/svg\" height=\"24px\" viewBox=\"0 -960 960 960\">\n",
              "    <path d=\"M120-120v-720h720v720H120Zm60-500h600v-160H180v160Zm220 220h160v-160H400v160Zm0 220h160v-160H400v160ZM180-400h160v-160H180v160Zm440 0h160v-160H620v160ZM180-180h160v-160H180v160Zm440 0h160v-160H620v160Z\"/>\n",
              "  </svg>\n",
              "    </button>\n",
              "\n",
              "  <style>\n",
              "    .colab-df-container {\n",
              "      display:flex;\n",
              "      gap: 12px;\n",
              "    }\n",
              "\n",
              "    .colab-df-convert {\n",
              "      background-color: #E8F0FE;\n",
              "      border: none;\n",
              "      border-radius: 50%;\n",
              "      cursor: pointer;\n",
              "      display: none;\n",
              "      fill: #1967D2;\n",
              "      height: 32px;\n",
              "      padding: 0 0 0 0;\n",
              "      width: 32px;\n",
              "    }\n",
              "\n",
              "    .colab-df-convert:hover {\n",
              "      background-color: #E2EBFA;\n",
              "      box-shadow: 0px 1px 2px rgba(60, 64, 67, 0.3), 0px 1px 3px 1px rgba(60, 64, 67, 0.15);\n",
              "      fill: #174EA6;\n",
              "    }\n",
              "\n",
              "    .colab-df-buttons div {\n",
              "      margin-bottom: 4px;\n",
              "    }\n",
              "\n",
              "    [theme=dark] .colab-df-convert {\n",
              "      background-color: #3B4455;\n",
              "      fill: #D2E3FC;\n",
              "    }\n",
              "\n",
              "    [theme=dark] .colab-df-convert:hover {\n",
              "      background-color: #434B5C;\n",
              "      box-shadow: 0px 1px 3px 1px rgba(0, 0, 0, 0.15);\n",
              "      filter: drop-shadow(0px 1px 2px rgba(0, 0, 0, 0.3));\n",
              "      fill: #FFFFFF;\n",
              "    }\n",
              "  </style>\n",
              "\n",
              "    <script>\n",
              "      const buttonEl =\n",
              "        document.querySelector('#df-bdd986d8-d6e4-4745-bd94-e469134d1c6b button.colab-df-convert');\n",
              "      buttonEl.style.display =\n",
              "        google.colab.kernel.accessAllowed ? 'block' : 'none';\n",
              "\n",
              "      async function convertToInteractive(key) {\n",
              "        const element = document.querySelector('#df-bdd986d8-d6e4-4745-bd94-e469134d1c6b');\n",
              "        const dataTable =\n",
              "          await google.colab.kernel.invokeFunction('convertToInteractive',\n",
              "                                                    [key], {});\n",
              "        if (!dataTable) return;\n",
              "\n",
              "        const docLinkHtml = 'Like what you see? Visit the ' +\n",
              "          '<a target=\"_blank\" href=https://colab.research.google.com/notebooks/data_table.ipynb>data table notebook</a>'\n",
              "          + ' to learn more about interactive tables.';\n",
              "        element.innerHTML = '';\n",
              "        dataTable['output_type'] = 'display_data';\n",
              "        await google.colab.output.renderOutput(dataTable, element);\n",
              "        const docLink = document.createElement('div');\n",
              "        docLink.innerHTML = docLinkHtml;\n",
              "        element.appendChild(docLink);\n",
              "      }\n",
              "    </script>\n",
              "  </div>\n",
              "\n",
              "\n",
              "<div id=\"df-ca3d1f8c-c3c3-4b08-a166-bab238f40091\">\n",
              "  <button class=\"colab-df-quickchart\" onclick=\"quickchart('df-ca3d1f8c-c3c3-4b08-a166-bab238f40091')\"\n",
              "            title=\"Suggest charts.\"\n",
              "            style=\"display:none;\">\n",
              "\n",
              "<svg xmlns=\"http://www.w3.org/2000/svg\" height=\"24px\"viewBox=\"0 0 24 24\"\n",
              "     width=\"24px\">\n",
              "    <g>\n",
              "        <path d=\"M19 3H5c-1.1 0-2 .9-2 2v14c0 1.1.9 2 2 2h14c1.1 0 2-.9 2-2V5c0-1.1-.9-2-2-2zM9 17H7v-7h2v7zm4 0h-2V7h2v10zm4 0h-2v-4h2v4z\"/>\n",
              "    </g>\n",
              "</svg>\n",
              "  </button>\n",
              "\n",
              "<style>\n",
              "  .colab-df-quickchart {\n",
              "      --bg-color: #E8F0FE;\n",
              "      --fill-color: #1967D2;\n",
              "      --hover-bg-color: #E2EBFA;\n",
              "      --hover-fill-color: #174EA6;\n",
              "      --disabled-fill-color: #AAA;\n",
              "      --disabled-bg-color: #DDD;\n",
              "  }\n",
              "\n",
              "  [theme=dark] .colab-df-quickchart {\n",
              "      --bg-color: #3B4455;\n",
              "      --fill-color: #D2E3FC;\n",
              "      --hover-bg-color: #434B5C;\n",
              "      --hover-fill-color: #FFFFFF;\n",
              "      --disabled-bg-color: #3B4455;\n",
              "      --disabled-fill-color: #666;\n",
              "  }\n",
              "\n",
              "  .colab-df-quickchart {\n",
              "    background-color: var(--bg-color);\n",
              "    border: none;\n",
              "    border-radius: 50%;\n",
              "    cursor: pointer;\n",
              "    display: none;\n",
              "    fill: var(--fill-color);\n",
              "    height: 32px;\n",
              "    padding: 0;\n",
              "    width: 32px;\n",
              "  }\n",
              "\n",
              "  .colab-df-quickchart:hover {\n",
              "    background-color: var(--hover-bg-color);\n",
              "    box-shadow: 0 1px 2px rgba(60, 64, 67, 0.3), 0 1px 3px 1px rgba(60, 64, 67, 0.15);\n",
              "    fill: var(--button-hover-fill-color);\n",
              "  }\n",
              "\n",
              "  .colab-df-quickchart-complete:disabled,\n",
              "  .colab-df-quickchart-complete:disabled:hover {\n",
              "    background-color: var(--disabled-bg-color);\n",
              "    fill: var(--disabled-fill-color);\n",
              "    box-shadow: none;\n",
              "  }\n",
              "\n",
              "  .colab-df-spinner {\n",
              "    border: 2px solid var(--fill-color);\n",
              "    border-color: transparent;\n",
              "    border-bottom-color: var(--fill-color);\n",
              "    animation:\n",
              "      spin 1s steps(1) infinite;\n",
              "  }\n",
              "\n",
              "  @keyframes spin {\n",
              "    0% {\n",
              "      border-color: transparent;\n",
              "      border-bottom-color: var(--fill-color);\n",
              "      border-left-color: var(--fill-color);\n",
              "    }\n",
              "    20% {\n",
              "      border-color: transparent;\n",
              "      border-left-color: var(--fill-color);\n",
              "      border-top-color: var(--fill-color);\n",
              "    }\n",
              "    30% {\n",
              "      border-color: transparent;\n",
              "      border-left-color: var(--fill-color);\n",
              "      border-top-color: var(--fill-color);\n",
              "      border-right-color: var(--fill-color);\n",
              "    }\n",
              "    40% {\n",
              "      border-color: transparent;\n",
              "      border-right-color: var(--fill-color);\n",
              "      border-top-color: var(--fill-color);\n",
              "    }\n",
              "    60% {\n",
              "      border-color: transparent;\n",
              "      border-right-color: var(--fill-color);\n",
              "    }\n",
              "    80% {\n",
              "      border-color: transparent;\n",
              "      border-right-color: var(--fill-color);\n",
              "      border-bottom-color: var(--fill-color);\n",
              "    }\n",
              "    90% {\n",
              "      border-color: transparent;\n",
              "      border-bottom-color: var(--fill-color);\n",
              "    }\n",
              "  }\n",
              "</style>\n",
              "\n",
              "  <script>\n",
              "    async function quickchart(key) {\n",
              "      const quickchartButtonEl =\n",
              "        document.querySelector('#' + key + ' button');\n",
              "      quickchartButtonEl.disabled = true;  // To prevent multiple clicks.\n",
              "      quickchartButtonEl.classList.add('colab-df-spinner');\n",
              "      try {\n",
              "        const charts = await google.colab.kernel.invokeFunction(\n",
              "            'suggestCharts', [key], {});\n",
              "      } catch (error) {\n",
              "        console.error('Error during call to suggestCharts:', error);\n",
              "      }\n",
              "      quickchartButtonEl.classList.remove('colab-df-spinner');\n",
              "      quickchartButtonEl.classList.add('colab-df-quickchart-complete');\n",
              "    }\n",
              "    (() => {\n",
              "      let quickchartButtonEl =\n",
              "        document.querySelector('#df-ca3d1f8c-c3c3-4b08-a166-bab238f40091 button');\n",
              "      quickchartButtonEl.style.display =\n",
              "        google.colab.kernel.accessAllowed ? 'block' : 'none';\n",
              "    })();\n",
              "  </script>\n",
              "</div>\n",
              "    </div>\n",
              "  </div>\n"
            ]
          },
          "metadata": {},
          "execution_count": 12
        }
      ]
    },
    {
      "cell_type": "markdown",
      "source": [
        "### HyperOpt를 이용한 XGBoost 하이퍼 파라미터 최적화\n",
        "위스콘신 유방암 데이터 세트 이용"
      ],
      "metadata": {
        "id": "Oee6w9uXRnbn"
      }
    },
    {
      "cell_type": "markdown",
      "source": [
        "0. 데이터 로딩 및 분리"
      ],
      "metadata": {
        "id": "EsgRJCvYRqDt"
      }
    },
    {
      "cell_type": "code",
      "source": [
        "import pandas as pd\n",
        "import numpy as np\n",
        "from sklearn.datasets import load_breast_cancer\n",
        "from sklearn.model_selection import train_test_split\n",
        "import warnings\n",
        "warnings.filterwarnings('ignore')\n",
        "\n",
        "dataset = load_breast_cancer()\n",
        "\n",
        "cancer_df = pd.DataFrame(data=dataset.data, columns=dataset.feature_names)\n",
        "cancer_df['target']= dataset.target\n",
        "X_features = cancer_df.iloc[:, :-1]\n",
        "y_label = cancer_df.iloc[:, -1]\n",
        "\n",
        "# 전체 데이터 중 80%는 학습용 데이터, 20%는 테스트용 데이터 추출\n",
        "X_train, X_test, y_train, y_test=train_test_split(X_features, y_label, test_size=0.2, random_state=156 )\n",
        "\n",
        "# 앞에서 추출한 학습 데이터를 다시 학습과 검증 데이터로 분리\n",
        "X_tr, X_val, y_tr, y_val= train_test_split(X_train, y_train, test_size=0.1, random_state=156 )"
      ],
      "metadata": {
        "id": "m-cqfdseRpck"
      },
      "execution_count": 13,
      "outputs": []
    },
    {
      "cell_type": "markdown",
      "source": [
        "**1. 입력 변수명, 입력값의 검색 공간 (Search Space) 설정**"
      ],
      "metadata": {
        "id": "uLojMZepR9Zb"
      }
    },
    {
      "cell_type": "code",
      "source": [
        "from hyperopt import hp\n",
        "\n",
        "# max_depth는 5에서 20까지 1간격으로, min_child_weight는 1에서 2까지 1간격으로\n",
        "# colsample_bytree는 0.5에서 1사이, learning_rate는 0.01에서 0.2 사이 정규 분포된 값으로 검색.\n",
        "xgb_search_space = {'max_depth': hp.quniform('max_depth', 5, 20, 1),\n",
        "                    'min_child_weight': hp.quniform('min_child_weight', 1, 2, 1),\n",
        "                    'learning_rate': hp.uniform('learning_rate', 0.01, 0.2),\n",
        "                    'colsample_bytree': hp.uniform('colsample_bytree', 0.5, 1),\n",
        "                   }"
      ],
      "metadata": {
        "id": "fvtpmICbR49L"
      },
      "execution_count": 14,
      "outputs": []
    },
    {
      "cell_type": "markdown",
      "source": [
        "**2. 목적 함수 (Objective Function) 설정**"
      ],
      "metadata": {
        "id": "d3hA_1oYSIAs"
      }
    },
    {
      "cell_type": "code",
      "source": [
        "from sklearn.model_selection import cross_val_score\n",
        "from xgboost import XGBClassifier\n",
        "from hyperopt import STATUS_OK\n",
        "\n",
        "# fmin()에서 입력된 search_space 값으로 입력된 모든 값은 실수형\n",
        "def objective_func(search_space):\n",
        "    # 수행 시간 절약을 위해 nestimators는 100으로 축소\n",
        "    xgb_clf = XGBClassifier(n_estimators=100, max_depth=int(search_space['max_depth']), # 정수형으로 형변환 int()\n",
        "                            min_child_weight=int(search_space['min_child_weight']),\n",
        "                            learning_rate=search_space['learning_rate'],\n",
        "                            colsample_bytree=search_space['colsample_bytree'],\n",
        "                            eval_metric='logloss')\n",
        "    accuracy = cross_val_score(xgb_clf, X_train, y_train, scoring='accuracy', cv=3)\n",
        "    # -1 * 정확도를 곱해서 큰 정확도 값일수록 최소가 되도록 변환\n",
        "    # accuracy는 cv=3 개수만큼 roc-auc 결과를 리스트로 가짐. 이를 평균해서 반환하되 -1을 곱함.\n",
        "    return {'loss':-1 * np.mean(accuracy), 'status': STATUS_OK}"
      ],
      "metadata": {
        "id": "0ilgwoBeR5jt"
      },
      "execution_count": 15,
      "outputs": []
    },
    {
      "cell_type": "markdown",
      "source": [
        "**3. 목적 함수 반환 최솟값을 가지는 최적 입력값 유추**"
      ],
      "metadata": {
        "id": "CVTASHZVV1XS"
      }
    },
    {
      "cell_type": "code",
      "source": [
        "from hyperopt import fmin, tpe, Trials\n",
        "\n",
        "trial_val = Trials()\n",
        "best = fmin(fn=objective_func,\n",
        "            space=xgb_search_space,\n",
        "            algo=tpe.suggest,\n",
        "            max_evals=50, # 최대 반복 횟수를 지정\n",
        "            trials=trial_val, rstate=np.random.default_rng(seed=9))\n",
        "print('best:', best)"
      ],
      "metadata": {
        "colab": {
          "base_uri": "https://localhost:8080/"
        },
        "id": "CP4gRjpIV2kW",
        "outputId": "9866dae1-492e-44d6-d298-0285cee54c51"
      },
      "execution_count": 16,
      "outputs": [
        {
          "output_type": "stream",
          "name": "stdout",
          "text": [
            "100%|██████████| 50/50 [00:24<00:00,  2.03trial/s, best loss: -0.9670616939700244]\n",
            "best: {'colsample_bytree': 0.9599446282177103, 'learning_rate': 0.15480405522751015, 'max_depth': 6.0, 'min_child_weight': 2.0}\n"
          ]
        }
      ]
    },
    {
      "cell_type": "markdown",
      "source": [
        "**최적 하이퍼 파라미터 형 변환**"
      ],
      "metadata": {
        "id": "lQNGKl2HWtsg"
      }
    },
    {
      "cell_type": "code",
      "source": [
        "print('colsample_bytree:{0}, learning_rate:{1}, max_depth:{2}, min_child_weight:{3}'.format(\n",
        "    round(best['colsample_bytree'], 5), round(best['learning_rate'], 5),\n",
        "    int(best['max_depth']), int(best['min_child_weight'])))"
      ],
      "metadata": {
        "colab": {
          "base_uri": "https://localhost:8080/"
        },
        "id": "dbyUgnBnWvso",
        "outputId": "07502d9e-7fe1-4593-a3bf-5cac3bde63da"
      },
      "execution_count": 18,
      "outputs": [
        {
          "output_type": "stream",
          "name": "stdout",
          "text": [
            "colsample_bytree:0.95994, learning_rate:0.1548, max_depth:6, min_child_weight:2\n"
          ]
        }
      ]
    },
    {
      "cell_type": "markdown",
      "source": [
        "**4. 최적 하이퍼 파라미터로 XGBClassifier 재학습 후 성능 평가**"
      ],
      "metadata": {
        "id": "Sf2sfBG9XcDi"
      }
    },
    {
      "cell_type": "code",
      "source": [
        "xgb_wrapper = XGBClassifier(n_estimators=400,\n",
        "                            learning_rate=round(best['learning_rate'], 5),\n",
        "                            max_depth=int(best['max_depth']),\n",
        "                            min_child_weight=int(best['min_child_weight']),\n",
        "                            colsample_bytree=round(best['colsample_bytree'], 5)\n",
        "                           )\n",
        "\n",
        "evals = [(X_tr, y_tr), (X_val, y_val)]\n",
        "xgb_wrapper.fit(X_tr, y_tr, early_stopping_rounds=50, eval_metric='logloss',\n",
        "                eval_set=evals, verbose=True)\n",
        "\n",
        "preds = xgb_wrapper.predict(X_test)\n",
        "pred_proba = xgb_wrapper.predict_proba(X_test)[:, 1]\n",
        "\n",
        "get_clf_eval(y_test, preds, pred_proba)"
      ],
      "metadata": {
        "colab": {
          "base_uri": "https://localhost:8080/"
        },
        "id": "BLGaGSfeXcbf",
        "outputId": "c394e5e9-9ddd-4815-894d-0019ee4a091b"
      },
      "execution_count": 21,
      "outputs": [
        {
          "output_type": "stream",
          "name": "stdout",
          "text": [
            "[0]\tvalidation_0-logloss:0.56834\tvalidation_1-logloss:0.60660\n",
            "[1]\tvalidation_0-logloss:0.47552\tvalidation_1-logloss:0.54538\n",
            "[2]\tvalidation_0-logloss:0.40208\tvalidation_1-logloss:0.48735\n",
            "[3]\tvalidation_0-logloss:0.34468\tvalidation_1-logloss:0.45698\n",
            "[4]\tvalidation_0-logloss:0.29775\tvalidation_1-logloss:0.41729\n",
            "[5]\tvalidation_0-logloss:0.26004\tvalidation_1-logloss:0.39167\n",
            "[6]\tvalidation_0-logloss:0.22681\tvalidation_1-logloss:0.36682\n",
            "[7]\tvalidation_0-logloss:0.20096\tvalidation_1-logloss:0.34593\n",
            "[8]\tvalidation_0-logloss:0.17762\tvalidation_1-logloss:0.33030\n",
            "[9]\tvalidation_0-logloss:0.15762\tvalidation_1-logloss:0.31918\n",
            "[10]\tvalidation_0-logloss:0.14233\tvalidation_1-logloss:0.30772\n",
            "[11]\tvalidation_0-logloss:0.12769\tvalidation_1-logloss:0.30104\n",
            "[12]\tvalidation_0-logloss:0.11566\tvalidation_1-logloss:0.29621\n",
            "[13]\tvalidation_0-logloss:0.10479\tvalidation_1-logloss:0.29157\n",
            "[14]\tvalidation_0-logloss:0.09640\tvalidation_1-logloss:0.28495\n",
            "[15]\tvalidation_0-logloss:0.08707\tvalidation_1-logloss:0.28055\n",
            "[16]\tvalidation_0-logloss:0.08067\tvalidation_1-logloss:0.27775\n",
            "[17]\tvalidation_0-logloss:0.07468\tvalidation_1-logloss:0.27470\n",
            "[18]\tvalidation_0-logloss:0.06971\tvalidation_1-logloss:0.27426\n",
            "[19]\tvalidation_0-logloss:0.06376\tvalidation_1-logloss:0.27298\n",
            "[20]\tvalidation_0-logloss:0.05900\tvalidation_1-logloss:0.27030\n",
            "[21]\tvalidation_0-logloss:0.05483\tvalidation_1-logloss:0.26467\n",
            "[22]\tvalidation_0-logloss:0.05115\tvalidation_1-logloss:0.26722\n",
            "[23]\tvalidation_0-logloss:0.04855\tvalidation_1-logloss:0.26117\n",
            "[24]\tvalidation_0-logloss:0.04630\tvalidation_1-logloss:0.26024\n",
            "[25]\tvalidation_0-logloss:0.04365\tvalidation_1-logloss:0.26456\n",
            "[26]\tvalidation_0-logloss:0.04105\tvalidation_1-logloss:0.26599\n",
            "[27]\tvalidation_0-logloss:0.03936\tvalidation_1-logloss:0.26629\n",
            "[28]\tvalidation_0-logloss:0.03716\tvalidation_1-logloss:0.27067\n",
            "[29]\tvalidation_0-logloss:0.03521\tvalidation_1-logloss:0.26713\n",
            "[30]\tvalidation_0-logloss:0.03347\tvalidation_1-logloss:0.26820\n",
            "[31]\tvalidation_0-logloss:0.03219\tvalidation_1-logloss:0.26912\n",
            "[32]\tvalidation_0-logloss:0.03091\tvalidation_1-logloss:0.26841\n",
            "[33]\tvalidation_0-logloss:0.02956\tvalidation_1-logloss:0.27270\n",
            "[34]\tvalidation_0-logloss:0.02873\tvalidation_1-logloss:0.27204\n",
            "[35]\tvalidation_0-logloss:0.02796\tvalidation_1-logloss:0.27389\n",
            "[36]\tvalidation_0-logloss:0.02732\tvalidation_1-logloss:0.27463\n",
            "[37]\tvalidation_0-logloss:0.02668\tvalidation_1-logloss:0.27186\n",
            "[38]\tvalidation_0-logloss:0.02604\tvalidation_1-logloss:0.27278\n",
            "[39]\tvalidation_0-logloss:0.02552\tvalidation_1-logloss:0.27527\n",
            "[40]\tvalidation_0-logloss:0.02481\tvalidation_1-logloss:0.27140\n",
            "[41]\tvalidation_0-logloss:0.02426\tvalidation_1-logloss:0.27243\n",
            "[42]\tvalidation_0-logloss:0.02377\tvalidation_1-logloss:0.27126\n",
            "[43]\tvalidation_0-logloss:0.02352\tvalidation_1-logloss:0.26914\n",
            "[44]\tvalidation_0-logloss:0.02304\tvalidation_1-logloss:0.27011\n",
            "[45]\tvalidation_0-logloss:0.02281\tvalidation_1-logloss:0.27312\n",
            "[46]\tvalidation_0-logloss:0.02226\tvalidation_1-logloss:0.27251\n",
            "[47]\tvalidation_0-logloss:0.02182\tvalidation_1-logloss:0.27348\n",
            "[48]\tvalidation_0-logloss:0.02165\tvalidation_1-logloss:0.27169\n",
            "[49]\tvalidation_0-logloss:0.02147\tvalidation_1-logloss:0.27391\n",
            "[50]\tvalidation_0-logloss:0.02129\tvalidation_1-logloss:0.27328\n",
            "[51]\tvalidation_0-logloss:0.02086\tvalidation_1-logloss:0.27040\n",
            "[52]\tvalidation_0-logloss:0.02071\tvalidation_1-logloss:0.26869\n",
            "[53]\tvalidation_0-logloss:0.02055\tvalidation_1-logloss:0.27083\n",
            "[54]\tvalidation_0-logloss:0.02040\tvalidation_1-logloss:0.27105\n",
            "[55]\tvalidation_0-logloss:0.02026\tvalidation_1-logloss:0.27354\n",
            "[56]\tvalidation_0-logloss:0.02013\tvalidation_1-logloss:0.27299\n",
            "[57]\tvalidation_0-logloss:0.02000\tvalidation_1-logloss:0.27293\n",
            "[58]\tvalidation_0-logloss:0.01986\tvalidation_1-logloss:0.27131\n",
            "[59]\tvalidation_0-logloss:0.01972\tvalidation_1-logloss:0.27341\n",
            "[60]\tvalidation_0-logloss:0.01960\tvalidation_1-logloss:0.27364\n",
            "[61]\tvalidation_0-logloss:0.01948\tvalidation_1-logloss:0.27206\n",
            "[62]\tvalidation_0-logloss:0.01935\tvalidation_1-logloss:0.27347\n",
            "[63]\tvalidation_0-logloss:0.01923\tvalidation_1-logloss:0.27544\n",
            "[64]\tvalidation_0-logloss:0.01912\tvalidation_1-logloss:0.27390\n",
            "[65]\tvalidation_0-logloss:0.01900\tvalidation_1-logloss:0.27140\n",
            "[66]\tvalidation_0-logloss:0.01889\tvalidation_1-logloss:0.27092\n",
            "[67]\tvalidation_0-logloss:0.01878\tvalidation_1-logloss:0.27285\n",
            "[68]\tvalidation_0-logloss:0.01867\tvalidation_1-logloss:0.27140\n",
            "[69]\tvalidation_0-logloss:0.01857\tvalidation_1-logloss:0.27161\n",
            "[70]\tvalidation_0-logloss:0.01847\tvalidation_1-logloss:0.27348\n",
            "[71]\tvalidation_0-logloss:0.01837\tvalidation_1-logloss:0.27204\n",
            "[72]\tvalidation_0-logloss:0.01827\tvalidation_1-logloss:0.27280\n",
            "[73]\tvalidation_0-logloss:0.01817\tvalidation_1-logloss:0.27014\n",
            "[74]\tvalidation_0-logloss:0.01807\tvalidation_1-logloss:0.27143\n",
            "오차 행렬\n",
            "[[34  3]\n",
            " [ 2 75]]\n",
            "정확도: 0.9561, 정밀도: 0.9615, 재현율: 0.9740,    F1: 0.9677, AUC:0.9895\n"
          ]
        }
      ]
    },
    {
      "cell_type": "markdown",
      "source": [
        "##4-11. 스태킹 앙상블"
      ],
      "metadata": {
        "id": "h2udtIfzZLcw"
      }
    },
    {
      "cell_type": "markdown",
      "source": [
        "**스태킹 예제 - 기본 스태킹 모델**"
      ],
      "metadata": {
        "id": "5amfGlJUcWcg"
      }
    },
    {
      "cell_type": "markdown",
      "source": [
        "**0. 데이터 로딩 및 분리**"
      ],
      "metadata": {
        "id": "h2O4Vk_SceXb"
      }
    },
    {
      "cell_type": "code",
      "source": [
        "import numpy as np\n",
        "\n",
        "from sklearn.neighbors import KNeighborsClassifier\n",
        "from sklearn.ensemble import RandomForestClassifier\n",
        "from sklearn.ensemble import AdaBoostClassifier\n",
        "from sklearn.tree import DecisionTreeClassifier\n",
        "from sklearn.linear_model import LogisticRegression\n",
        "\n",
        "from sklearn.datasets import load_breast_cancer\n",
        "from sklearn.model_selection import train_test_split\n",
        "from sklearn.metrics import accuracy_score\n",
        "\n",
        "cancer_data = load_breast_cancer()\n",
        "\n",
        "X_data = cancer_data.data\n",
        "y_label = cancer_data.target\n",
        "\n",
        "X_train , X_test , y_train , y_test = train_test_split(X_data , y_label , test_size=0.2 , random_state=0)"
      ],
      "metadata": {
        "id": "rQct82rKZLGM"
      },
      "execution_count": 22,
      "outputs": []
    },
    {
      "cell_type": "markdown",
      "source": [
        "**1. 개별 모델 및 최종 모델 생성**\n",
        "\n",
        "개별 모델 - KNN, 랜덤 포레스트, 결정 트리, 에이다 부스트\n",
        "\n",
        "최종 모델 - 로지스틱 회귀"
      ],
      "metadata": {
        "id": "UHg2n39hcgdV"
      }
    },
    {
      "cell_type": "code",
      "source": [
        "# 개별 ML 모델을 위한 Classifier 생성.\n",
        "knn_clf  = KNeighborsClassifier(n_neighbors=4)\n",
        "rf_clf = RandomForestClassifier(n_estimators=100, random_state=0)\n",
        "dt_clf = DecisionTreeClassifier()\n",
        "ada_clf = AdaBoostClassifier(n_estimators=100)\n",
        "\n",
        "# 최종 Stacking 모델을 위한 Classifier생성.\n",
        "lr_final = LogisticRegression(C=10)"
      ],
      "metadata": {
        "id": "EiP2Lip3cjoQ"
      },
      "execution_count": 23,
      "outputs": []
    },
    {
      "cell_type": "markdown",
      "source": [
        "**2. 개별 모델 학습 및 정확도 측정**"
      ],
      "metadata": {
        "id": "i53NUTvAczyq"
      }
    },
    {
      "cell_type": "code",
      "source": [
        "# 개별 모델 학습\n",
        "knn_clf.fit(X_train, y_train)\n",
        "rf_clf.fit(X_train , y_train)\n",
        "dt_clf.fit(X_train , y_train)\n",
        "ada_clf.fit(X_train, y_train)\n",
        "\n",
        "# 개별 모델이 반환하는 예측 데이터 저장\n",
        "knn_pred = knn_clf.predict(X_test)\n",
        "rf_pred = rf_clf.predict(X_test)\n",
        "dt_pred = dt_clf.predict(X_test)\n",
        "ada_pred = ada_clf.predict(X_test)\n",
        "\n",
        "# 개별 모델의 정확도 측정\n",
        "print('KNN 정확도: {0:.4f}'.format(accuracy_score(y_test, knn_pred)))\n",
        "print('랜덤 포레스트 정확도: {0:.4f}'.format(accuracy_score(y_test, rf_pred)))\n",
        "print('결정 트리 정확도: {0:.4f}'.format(accuracy_score(y_test, dt_pred)))\n",
        "print('에이다부스트 정확도: {0:.4f}'.format(accuracy_score(y_test, ada_pred)))"
      ],
      "metadata": {
        "colab": {
          "base_uri": "https://localhost:8080/"
        },
        "id": "_Oo-R5Prc2CO",
        "outputId": "57522e47-7912-46d1-aa5a-7b593f1beda0"
      },
      "execution_count": 27,
      "outputs": [
        {
          "output_type": "stream",
          "name": "stdout",
          "text": [
            "KNN 정확도: 0.9211\n",
            "랜덤 포레스트 정확도: 0.9649\n",
            "결정 트리 정확도: 0.9123\n",
            "에이다부스트 정확도: 0.9561\n"
          ]
        }
      ]
    },
    {
      "cell_type": "markdown",
      "source": [
        "**3. 스태킹으로 최종 메타 모델 학습 데이터 생성**"
      ],
      "metadata": {
        "id": "i0mv6g9gdrw0"
      }
    },
    {
      "cell_type": "code",
      "source": [
        "pred = np.array([knn_pred, rf_pred, dt_pred, ada_pred])\n",
        "print(pred.shape)\n",
        "\n",
        "# transpose를 이용해 행렬 전치. 컬럼 레벨로 각 알고리즘의 예측 결과를 피처로 만듦\n",
        "pred = np.transpose(pred)\n",
        "print(pred.shape)"
      ],
      "metadata": {
        "colab": {
          "base_uri": "https://localhost:8080/"
        },
        "id": "6hXn6i0Sd21c",
        "outputId": "a7b9eeaf-8a63-450d-e794-0f30dcb269a9"
      },
      "execution_count": 28,
      "outputs": [
        {
          "output_type": "stream",
          "name": "stdout",
          "text": [
            "(4, 114)\n",
            "(114, 4)\n"
          ]
        }
      ]
    },
    {
      "cell_type": "markdown",
      "source": [
        "**4. 최종 메타 모델인 로지스틱 회귀의 학습 및 정확도 측정**"
      ],
      "metadata": {
        "id": "EfMYHGs3d8t_"
      }
    },
    {
      "cell_type": "code",
      "source": [
        "lr_final.fit(pred, y_test)\n",
        "final = lr_final.predict(pred)\n",
        "\n",
        "print('최종 메타 모델의 예측 정확도: {0:.4f}'.format(accuracy_score(y_test , final)))"
      ],
      "metadata": {
        "colab": {
          "base_uri": "https://localhost:8080/"
        },
        "id": "ciePq1FWeCPY",
        "outputId": "cca5911a-0421-4ce5-b643-5cdc0f551ddb"
      },
      "execution_count": 29,
      "outputs": [
        {
          "output_type": "stream",
          "name": "stdout",
          "text": [
            "최종 메타 모델의 예측 정확도: 0.9649\n"
          ]
        }
      ]
    },
    {
      "cell_type": "markdown",
      "source": [
        "###CV 세트 기반 스태킹"
      ],
      "metadata": {
        "id": "_DkJR959m1yN"
      }
    },
    {
      "cell_type": "markdown",
      "source": [
        "**1. step1) 각 모델에서 학습 및 테스트 데이터 생성 함수**"
      ],
      "metadata": {
        "id": "8TnsYShxnHGk"
      }
    },
    {
      "cell_type": "code",
      "source": [
        "from sklearn.model_selection import KFold\n",
        "from sklearn.metrics import mean_absolute_error\n",
        "\n",
        "# 개별 기반 모델에서 최종 메타 모델이 사용할 학습 및 테스트용 데이터를 생성하기 위한 함수.\n",
        "def get_stacking_base_datasets(model, X_train_n, y_train_n, X_test_n, n_folds ):\n",
        "    # 지정된 n_folds값으로 KFold 생성.\n",
        "    kf = KFold(n_splits=n_folds, shuffle=False)\n",
        "    #추후에 메타 모델이 사용할 학습 데이터 반환을 위한 넘파이 배열 초기화\n",
        "    train_fold_pred = np.zeros((X_train_n.shape[0] ,1 ))\n",
        "    test_pred = np.zeros((X_test_n.shape[0],n_folds))\n",
        "    print(model.__class__.__name__ , ' model 시작 ')\n",
        "\n",
        "    for folder_counter , (train_index, valid_index) in enumerate(kf.split(X_train_n)):\n",
        "        #입력된 학습 데이터에서 기반 모델이 학습/예측할 폴드 데이터 셋 추출\n",
        "        print('\\t 폴드 세트: ',folder_counter,' 시작 ')\n",
        "        X_tr = X_train_n[train_index]\n",
        "        y_tr = y_train_n[train_index]\n",
        "        X_te = X_train_n[valid_index]\n",
        "\n",
        "        #폴드 세트 내부에서 다시 만들어진 학습 데이터로 기반 모델의 학습 수행.\n",
        "        model.fit(X_tr , y_tr)\n",
        "        #폴드 세트 내부에서 다시 만들어진 검증 데이터로 기반 모델 예측 후 데이터 저장.\n",
        "        train_fold_pred[valid_index, :] = model.predict(X_te).reshape(-1,1)\n",
        "        #입력된 원본 테스트 데이터를 폴드 세트내 학습된 기반 모델에서 예측 후 데이터 저장.\n",
        "        test_pred[:, folder_counter] = model.predict(X_test_n)\n",
        "\n",
        "    # 폴드 세트 내에서 원본 테스트 데이터를 예측한 데이터를 평균하여 테스트 데이터로 생성\n",
        "    test_pred_mean = np.mean(test_pred, axis=1).reshape(-1,1)\n",
        "\n",
        "    #train_fold_pred는 최종 메타 모델이 사용하는 학습 데이터, test_pred_mean은 테스트 데이터\n",
        "    return train_fold_pred , test_pred_mean"
      ],
      "metadata": {
        "id": "ezIM6mbNnKFZ"
      },
      "execution_count": 30,
      "outputs": []
    },
    {
      "cell_type": "markdown",
      "source": [
        "**2. 모델별 데이터 세트 생성 및 저장**"
      ],
      "metadata": {
        "id": "1sxoSYl7nPAx"
      }
    },
    {
      "cell_type": "code",
      "source": [
        "knn_train, knn_test = get_stacking_base_datasets(knn_clf, X_train, y_train, X_test, 7)\n",
        "rf_train, rf_test = get_stacking_base_datasets(rf_clf, X_train, y_train, X_test, 7)\n",
        "dt_train, dt_test = get_stacking_base_datasets(dt_clf, X_train, y_train, X_test,  7)\n",
        "ada_train, ada_test = get_stacking_base_datasets(ada_clf, X_train, y_train, X_test, 7)"
      ],
      "metadata": {
        "colab": {
          "base_uri": "https://localhost:8080/"
        },
        "id": "gOxJZ7UinUVU",
        "outputId": "609beeaf-c7b8-4a25-e67b-09c3b17c78be"
      },
      "execution_count": 31,
      "outputs": [
        {
          "output_type": "stream",
          "name": "stdout",
          "text": [
            "KNeighborsClassifier  model 시작 \n",
            "\t 폴드 세트:  0  시작 \n",
            "\t 폴드 세트:  1  시작 \n",
            "\t 폴드 세트:  2  시작 \n",
            "\t 폴드 세트:  3  시작 \n",
            "\t 폴드 세트:  4  시작 \n",
            "\t 폴드 세트:  5  시작 \n",
            "\t 폴드 세트:  6  시작 \n",
            "RandomForestClassifier  model 시작 \n",
            "\t 폴드 세트:  0  시작 \n",
            "\t 폴드 세트:  1  시작 \n",
            "\t 폴드 세트:  2  시작 \n",
            "\t 폴드 세트:  3  시작 \n",
            "\t 폴드 세트:  4  시작 \n",
            "\t 폴드 세트:  5  시작 \n",
            "\t 폴드 세트:  6  시작 \n",
            "DecisionTreeClassifier  model 시작 \n",
            "\t 폴드 세트:  0  시작 \n",
            "\t 폴드 세트:  1  시작 \n",
            "\t 폴드 세트:  2  시작 \n",
            "\t 폴드 세트:  3  시작 \n",
            "\t 폴드 세트:  4  시작 \n",
            "\t 폴드 세트:  5  시작 \n",
            "\t 폴드 세트:  6  시작 \n",
            "AdaBoostClassifier  model 시작 \n",
            "\t 폴드 세트:  0  시작 \n",
            "\t 폴드 세트:  1  시작 \n",
            "\t 폴드 세트:  2  시작 \n",
            "\t 폴드 세트:  3  시작 \n",
            "\t 폴드 세트:  4  시작 \n",
            "\t 폴드 세트:  5  시작 \n",
            "\t 폴드 세트:  6  시작 \n"
          ]
        }
      ]
    },
    {
      "cell_type": "markdown",
      "source": [
        "**3. step2) 각 모델별 학습 데이터와 테스트 데이터 합치기**"
      ],
      "metadata": {
        "id": "otVw_wRincgh"
      }
    },
    {
      "cell_type": "code",
      "source": [
        "Stack_final_X_train = np.concatenate((knn_train, rf_train, dt_train, ada_train), axis=1)\n",
        "Stack_final_X_test = np.concatenate((knn_test, rf_test, dt_test, ada_test), axis=1)\n",
        "print('원본 학습 피처 데이터 Shape:',X_train.shape, '원본 테스트 피처 Shape:',X_test.shape)\n",
        "print('스태킹 학습 피처 데이터 Shape:', Stack_final_X_train.shape,\n",
        "      '스태킹 테스트 피처 데이터 Shape:',Stack_final_X_test.shape)\n"
      ],
      "metadata": {
        "colab": {
          "base_uri": "https://localhost:8080/"
        },
        "id": "9qCZq-8ynhh1",
        "outputId": "7ffd8968-9c00-496c-b83f-8cedd10fa51a"
      },
      "execution_count": 32,
      "outputs": [
        {
          "output_type": "stream",
          "name": "stdout",
          "text": [
            "원본 학습 피처 데이터 Shape: (455, 30) 원본 테스트 피처 Shape: (114, 30)\n",
            "스태킹 학습 피처 데이터 Shape: (455, 4) 스태킹 테스트 피처 데이터 Shape: (114, 4)\n"
          ]
        }
      ]
    },
    {
      "cell_type": "markdown",
      "source": [
        "**4. 최종 메타 모델의 학습 및 예측 정확도 구하기**"
      ],
      "metadata": {
        "id": "0j6R0r0Jnl38"
      }
    },
    {
      "cell_type": "code",
      "source": [
        "lr_final.fit(Stack_final_X_train, y_train)\n",
        "stack_final = lr_final.predict(Stack_final_X_test)\n",
        "\n",
        "print('최종 메타 모델의 예측 정확도: {0:.4f}'.format(accuracy_score(y_test, stack_final)))"
      ],
      "metadata": {
        "colab": {
          "base_uri": "https://localhost:8080/"
        },
        "id": "FyBR66FBnplo",
        "outputId": "819428e8-be7a-4e61-a072-f8a37dfc8160"
      },
      "execution_count": 33,
      "outputs": [
        {
          "output_type": "stream",
          "name": "stdout",
          "text": [
            "최종 메타 모델의 예측 정확도: 0.9737\n"
          ]
        }
      ]
    }
  ],
  "metadata": {
    "colab": {
      "provenance": [],
      "authorship_tag": "ABX9TyPmlVph8WFajv9Y8uGg+PHt",
      "include_colab_link": true
    },
    "kernelspec": {
      "display_name": "Python 3",
      "name": "python3"
    },
    "language_info": {
      "name": "python"
    }
  },
  "nbformat": 4,
  "nbformat_minor": 0
}